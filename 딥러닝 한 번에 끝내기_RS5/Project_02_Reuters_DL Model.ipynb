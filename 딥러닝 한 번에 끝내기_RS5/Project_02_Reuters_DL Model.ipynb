{
 "cells": [
  {
   "cell_type": "markdown",
   "id": "a67bf219",
   "metadata": {},
   "source": [
    "# 프로젝트 2: Reuters 딥러닝 모델"
   ]
  },
  {
   "cell_type": "markdown",
   "id": "2be0417b",
   "metadata": {},
   "source": [
    " "
   ]
  },
  {
   "cell_type": "markdown",
   "id": "a4f37016",
   "metadata": {},
   "source": [
    "### 데이터 로드 및 전처리"
   ]
  },
  {
   "cell_type": "markdown",
   "id": "7e837022",
   "metadata": {},
   "source": [
    " "
   ]
  },
  {
   "cell_type": "code",
   "execution_count": 4,
   "id": "35c08184",
   "metadata": {},
   "outputs": [],
   "source": [
    "# 필요 패키지(라이브러리) import"
   ]
  },
  {
   "cell_type": "code",
   "execution_count": 5,
   "id": "6a3dc8fd",
   "metadata": {},
   "outputs": [],
   "source": [
    "import numpy as np\n",
    "import matplotlib.pyplot as plt\n",
    "from sklearn.model_selection import train_test_split\n",
    "\n",
    "from tensorflow.keras import models, layers\n",
    "from tensorflow.keras import callbacks\n",
    "from tensorflow.keras import utils\n",
    "from keras.datasets import reuters"
   ]
  },
  {
   "cell_type": "markdown",
   "id": "2f9e9754",
   "metadata": {},
   "source": [
    " "
   ]
  },
  {
   "cell_type": "code",
   "execution_count": 6,
   "id": "2d7d2d43",
   "metadata": {},
   "outputs": [],
   "source": [
    "# keras.datasets에서 reuters 데이터셋을 로드하고, \n",
    "# 파라미터 조정을 통해 단어의 개수는 10000개로 제한합니다"
   ]
  },
  {
   "cell_type": "code",
   "execution_count": 7,
   "id": "f7efeb14",
   "metadata": {},
   "outputs": [],
   "source": [
    "(train_data, train_labels), (test_data, test_labels) = reuters.load_data(num_words=10000)"
   ]
  },
  {
   "cell_type": "markdown",
   "id": "82b3ee7a",
   "metadata": {},
   "source": [
    " "
   ]
  },
  {
   "cell_type": "code",
   "execution_count": 8,
   "id": "c1788aa0",
   "metadata": {},
   "outputs": [],
   "source": [
    "# 훈련 데이터셋에서 25%를 검증 데이터셋으로 분리합니다."
   ]
  },
  {
   "cell_type": "code",
   "execution_count": 9,
   "id": "5444a91f",
   "metadata": {},
   "outputs": [],
   "source": [
    "train_data, val_data, train_labels, val_labels = train_test_split(train_data, train_labels, \n",
    "                                                                  test_size=0.25, random_state=1)"
   ]
  },
  {
   "cell_type": "markdown",
   "id": "91be6819",
   "metadata": {},
   "source": [
    " "
   ]
  },
  {
   "cell_type": "code",
   "execution_count": 10,
   "id": "e0d35077",
   "metadata": {},
   "outputs": [],
   "source": [
    "# 훈련, 검증, 테스트 데이터와 레이블 종류가 몇 개인지 출력합니다."
   ]
  },
  {
   "cell_type": "code",
   "execution_count": 11,
   "id": "7336d9f3",
   "metadata": {},
   "outputs": [
    {
     "name": "stdout",
     "output_type": "stream",
     "text": [
      "6736\n",
      "2246\n",
      "2246\n",
      "46\n"
     ]
    }
   ],
   "source": [
    "print(len(train_data))\n",
    "print(len(val_data))\n",
    "print(len(test_data))\n",
    "print(len(set(train_labels)))"
   ]
  },
  {
   "cell_type": "markdown",
   "id": "40599757",
   "metadata": {},
   "source": [
    " "
   ]
  },
  {
   "cell_type": "code",
   "execution_count": 12,
   "id": "6ca3b1c1",
   "metadata": {},
   "outputs": [],
   "source": [
    "# 텍스트 데이터의 전처리를 위해서 각 데이터셋마다 원-핫 인코딩을 수행합니다."
   ]
  },
  {
   "cell_type": "code",
   "execution_count": 13,
   "id": "5afee227",
   "metadata": {},
   "outputs": [],
   "source": [
    "def one_hot_encoding(data, dim=10000):\n",
    "    results = np.zeros((len(data), dim))\n",
    "    for i, d in enumerate(data):\n",
    "        results[i, d] = 1.\n",
    "    return results"
   ]
  },
  {
   "cell_type": "code",
   "execution_count": 14,
   "id": "5d08a4d0",
   "metadata": {},
   "outputs": [],
   "source": [
    "x_train = one_hot_encoding(train_data)\n",
    "x_val = one_hot_encoding(val_data)\n",
    "x_test = one_hot_encoding(test_data)"
   ]
  },
  {
   "cell_type": "markdown",
   "id": "aa8577cd",
   "metadata": {},
   "source": [
    " "
   ]
  },
  {
   "cell_type": "code",
   "execution_count": 15,
   "id": "40eef6a2",
   "metadata": {},
   "outputs": [],
   "source": [
    "# 레이블 데이터들은 범주형 형태로 to_categorical() 함수를 사용해 변환합니다."
   ]
  },
  {
   "cell_type": "code",
   "execution_count": 16,
   "id": "ed7d3021",
   "metadata": {},
   "outputs": [],
   "source": [
    "y_train = utils.to_categorical(train_labels)\n",
    "y_val = utils.to_categorical(val_labels)\n",
    "y_test = utils.to_categorical(test_labels)"
   ]
  },
  {
   "cell_type": "markdown",
   "id": "7f43292c",
   "metadata": {},
   "source": [
    " "
   ]
  },
  {
   "cell_type": "markdown",
   "id": "411580bd",
   "metadata": {},
   "source": [
    " "
   ]
  },
  {
   "cell_type": "markdown",
   "id": "506881c1",
   "metadata": {},
   "source": [
    "### 모델 구성 및 컴파일"
   ]
  },
  {
   "cell_type": "markdown",
   "id": "54b40d5f",
   "metadata": {},
   "source": [
    " "
   ]
  },
  {
   "cell_type": "code",
   "execution_count": 17,
   "id": "dd22c3c6",
   "metadata": {},
   "outputs": [],
   "source": [
    "# 빠른 학습과 과대적합을 방지하기 위해 \n",
    "# BatchNormalization과 Dropout을 적용한 딥러닝 모델을 구성합니다."
   ]
  },
  {
   "cell_type": "code",
   "execution_count": 18,
   "id": "0829bf70",
   "metadata": {},
   "outputs": [],
   "source": [
    "# 1) 모델 구성"
   ]
  },
  {
   "cell_type": "code",
   "execution_count": 19,
   "id": "2320d1fe",
   "metadata": {},
   "outputs": [],
   "source": [
    "model = models.Sequential([\n",
    "    layers.Dense(128, input_shape=(10000,), name='input'),\n",
    "    layers.BatchNormalization(),\n",
    "    layers.Activation('relu'),\n",
    "    layers.Dropout(0.3),\n",
    "    layers.Dense(128, name='hidden'),\n",
    "    layers.BatchNormalization(),\n",
    "    layers.Activation('relu'),\n",
    "    layers.Dropout(0.3),\n",
    "    layers.Dense(46, activation='softmax', name='output')\n",
    "])"
   ]
  },
  {
   "cell_type": "markdown",
   "id": "bcaea6a0",
   "metadata": {},
   "source": [
    " "
   ]
  },
  {
   "cell_type": "code",
   "execution_count": 20,
   "id": "ae8f1352",
   "metadata": {},
   "outputs": [],
   "source": [
    "# 2) 컴파일"
   ]
  },
  {
   "cell_type": "code",
   "execution_count": 21,
   "id": "1c2da316",
   "metadata": {},
   "outputs": [],
   "source": [
    "model.compile(optimizer='rmsprop',\n",
    "              loss='categorical_crossentropy',\n",
    "              metrics=['accuracy'])"
   ]
  },
  {
   "cell_type": "markdown",
   "id": "fcd140ab",
   "metadata": {},
   "source": [
    " "
   ]
  },
  {
   "cell_type": "code",
   "execution_count": 22,
   "id": "59516131",
   "metadata": {},
   "outputs": [
    {
     "name": "stdout",
     "output_type": "stream",
     "text": [
      "Model: \"sequential\"\n",
      "_________________________________________________________________\n",
      "Layer (type)                 Output Shape              Param #   \n",
      "=================================================================\n",
      "input (Dense)                (None, 128)               1280128   \n",
      "_________________________________________________________________\n",
      "batch_normalization (BatchNo (None, 128)               512       \n",
      "_________________________________________________________________\n",
      "activation (Activation)      (None, 128)               0         \n",
      "_________________________________________________________________\n",
      "dropout (Dropout)            (None, 128)               0         \n",
      "_________________________________________________________________\n",
      "hidden (Dense)               (None, 128)               16512     \n",
      "_________________________________________________________________\n",
      "batch_normalization_1 (Batch (None, 128)               512       \n",
      "_________________________________________________________________\n",
      "activation_1 (Activation)    (None, 128)               0         \n",
      "_________________________________________________________________\n",
      "dropout_1 (Dropout)          (None, 128)               0         \n",
      "_________________________________________________________________\n",
      "output (Dense)               (None, 46)                5934      \n",
      "=================================================================\n",
      "Total params: 1,303,598\n",
      "Trainable params: 1,303,086\n",
      "Non-trainable params: 512\n",
      "_________________________________________________________________\n"
     ]
    }
   ],
   "source": [
    "model.summary()"
   ]
  },
  {
   "cell_type": "markdown",
   "id": "245bf1f0",
   "metadata": {},
   "source": [
    " "
   ]
  },
  {
   "cell_type": "markdown",
   "id": "cd824daf",
   "metadata": {},
   "source": [
    " "
   ]
  },
  {
   "cell_type": "markdown",
   "id": "a6e0aa15",
   "metadata": {},
   "source": [
    "### 모델 학습"
   ]
  },
  {
   "cell_type": "markdown",
   "id": "f4ef01d4",
   "metadata": {},
   "source": [
    " "
   ]
  },
  {
   "cell_type": "code",
   "execution_count": 23,
   "id": "519d8a37",
   "metadata": {},
   "outputs": [],
   "source": [
    "# ModelCheckpoint와 EarlyStopping 콜백 함수를 적용하여 모델 학습을 진행합니다."
   ]
  },
  {
   "cell_type": "code",
   "execution_count": 25,
   "id": "05999e98",
   "metadata": {},
   "outputs": [],
   "source": [
    "mc = callbacks.ModelCheckpoint('best_model.h5', monitor='val_accuracy', mode='max', \n",
    "                     verbose=1, save_best_only=True)"
   ]
  },
  {
   "cell_type": "code",
   "execution_count": 26,
   "id": "b7d7abcd",
   "metadata": {},
   "outputs": [],
   "source": [
    "es = callbacks.EarlyStopping(monitor='val_loss', mode='min', verbose=1, patience=4)"
   ]
  },
  {
   "cell_type": "markdown",
   "id": "0f0431f4",
   "metadata": {},
   "source": [
    " "
   ]
  },
  {
   "cell_type": "code",
   "execution_count": 27,
   "id": "86804d98",
   "metadata": {},
   "outputs": [
    {
     "name": "stdout",
     "output_type": "stream",
     "text": [
      "Epoch 1/40\n",
      "14/14 [==============================] - 2s 49ms/step - loss: 2.3887 - accuracy: 0.5128 - val_loss: 3.3304 - val_accuracy: 0.6977\n",
      "\n",
      "Epoch 00001: val_accuracy improved from -inf to 0.69768, saving model to best_model.h5\n",
      "Epoch 2/40\n",
      "14/14 [==============================] - 0s 17ms/step - loss: 1.1908 - accuracy: 0.7622 - val_loss: 3.0561 - val_accuracy: 0.7293\n",
      "\n",
      "Epoch 00002: val_accuracy improved from 0.69768 to 0.72930, saving model to best_model.h5\n",
      "Epoch 3/40\n",
      "14/14 [==============================] - 0s 18ms/step - loss: 0.8632 - accuracy: 0.8119 - val_loss: 2.7414 - val_accuracy: 0.7391\n",
      "\n",
      "Epoch 00003: val_accuracy improved from 0.72930 to 0.73909, saving model to best_model.h5\n",
      "Epoch 4/40\n",
      "14/14 [==============================] - 0s 17ms/step - loss: 0.6454 - accuracy: 0.8576 - val_loss: 2.4477 - val_accuracy: 0.7262\n",
      "\n",
      "Epoch 00004: val_accuracy did not improve from 0.73909\n",
      "Epoch 5/40\n",
      "14/14 [==============================] - 0s 16ms/step - loss: 0.5027 - accuracy: 0.8907 - val_loss: 2.1307 - val_accuracy: 0.7106\n",
      "\n",
      "Epoch 00005: val_accuracy did not improve from 0.73909\n",
      "Epoch 6/40\n",
      "14/14 [==============================] - 0s 17ms/step - loss: 0.4053 - accuracy: 0.9097 - val_loss: 1.8897 - val_accuracy: 0.6915\n",
      "\n",
      "Epoch 00006: val_accuracy did not improve from 0.73909\n",
      "Epoch 7/40\n",
      "14/14 [==============================] - 0s 18ms/step - loss: 0.3310 - accuracy: 0.9276 - val_loss: 1.6371 - val_accuracy: 0.6901\n",
      "\n",
      "Epoch 00007: val_accuracy did not improve from 0.73909\n",
      "Epoch 8/40\n",
      "14/14 [==============================] - 0s 16ms/step - loss: 0.2786 - accuracy: 0.9393 - val_loss: 1.4965 - val_accuracy: 0.7012\n",
      "\n",
      "Epoch 00008: val_accuracy did not improve from 0.73909\n",
      "Epoch 9/40\n",
      "14/14 [==============================] - 0s 17ms/step - loss: 0.2346 - accuracy: 0.9482 - val_loss: 1.3443 - val_accuracy: 0.7337\n",
      "\n",
      "Epoch 00009: val_accuracy did not improve from 0.73909\n",
      "Epoch 10/40\n",
      "14/14 [==============================] - 0s 16ms/step - loss: 0.2050 - accuracy: 0.9526 - val_loss: 1.2271 - val_accuracy: 0.7511\n",
      "\n",
      "Epoch 00010: val_accuracy improved from 0.73909 to 0.75111, saving model to best_model.h5\n",
      "Epoch 11/40\n",
      "14/14 [==============================] - 0s 16ms/step - loss: 0.1915 - accuracy: 0.9550 - val_loss: 1.1904 - val_accuracy: 0.7355\n",
      "\n",
      "Epoch 00011: val_accuracy did not improve from 0.75111\n",
      "Epoch 12/40\n",
      "14/14 [==============================] - 0s 15ms/step - loss: 0.1812 - accuracy: 0.9556 - val_loss: 1.0830 - val_accuracy: 0.7587\n",
      "\n",
      "Epoch 00012: val_accuracy improved from 0.75111 to 0.75868, saving model to best_model.h5\n",
      "Epoch 13/40\n",
      "14/14 [==============================] - 0s 16ms/step - loss: 0.1657 - accuracy: 0.9592 - val_loss: 1.0215 - val_accuracy: 0.7671\n",
      "\n",
      "Epoch 00013: val_accuracy improved from 0.75868 to 0.76714, saving model to best_model.h5\n",
      "Epoch 14/40\n",
      "14/14 [==============================] - 0s 16ms/step - loss: 0.1601 - accuracy: 0.9596 - val_loss: 0.9903 - val_accuracy: 0.7711\n",
      "\n",
      "Epoch 00014: val_accuracy improved from 0.76714 to 0.77115, saving model to best_model.h5\n",
      "Epoch 15/40\n",
      "14/14 [==============================] - 0s 16ms/step - loss: 0.1459 - accuracy: 0.9617 - val_loss: 0.9745 - val_accuracy: 0.7738\n",
      "\n",
      "Epoch 00015: val_accuracy improved from 0.77115 to 0.77382, saving model to best_model.h5\n",
      "Epoch 16/40\n",
      "14/14 [==============================] - 0s 15ms/step - loss: 0.1418 - accuracy: 0.9632 - val_loss: 0.9591 - val_accuracy: 0.7814\n",
      "\n",
      "Epoch 00016: val_accuracy improved from 0.77382 to 0.78139, saving model to best_model.h5\n",
      "Epoch 17/40\n",
      "14/14 [==============================] - 0s 15ms/step - loss: 0.1336 - accuracy: 0.9627 - val_loss: 0.9726 - val_accuracy: 0.7805\n",
      "\n",
      "Epoch 00017: val_accuracy did not improve from 0.78139\n",
      "Epoch 18/40\n",
      "14/14 [==============================] - 0s 15ms/step - loss: 0.1298 - accuracy: 0.9645 - val_loss: 0.9565 - val_accuracy: 0.7832\n",
      "\n",
      "Epoch 00018: val_accuracy improved from 0.78139 to 0.78317, saving model to best_model.h5\n",
      "Epoch 19/40\n",
      "14/14 [==============================] - 0s 16ms/step - loss: 0.1197 - accuracy: 0.9664 - val_loss: 0.9555 - val_accuracy: 0.7961\n",
      "\n",
      "Epoch 00019: val_accuracy improved from 0.78317 to 0.79608, saving model to best_model.h5\n",
      "Epoch 20/40\n",
      "14/14 [==============================] - 0s 16ms/step - loss: 0.1237 - accuracy: 0.9629 - val_loss: 0.9708 - val_accuracy: 0.7965\n",
      "\n",
      "Epoch 00020: val_accuracy improved from 0.79608 to 0.79653, saving model to best_model.h5\n",
      "Epoch 21/40\n",
      "14/14 [==============================] - 0s 16ms/step - loss: 0.1196 - accuracy: 0.9654 - val_loss: 0.9779 - val_accuracy: 0.8023\n",
      "\n",
      "Epoch 00021: val_accuracy improved from 0.79653 to 0.80232, saving model to best_model.h5\n",
      "Epoch 22/40\n",
      "14/14 [==============================] - 0s 16ms/step - loss: 0.1181 - accuracy: 0.9639 - val_loss: 0.9982 - val_accuracy: 0.7961\n",
      "\n",
      "Epoch 00022: val_accuracy did not improve from 0.80232\n",
      "Epoch 23/40\n",
      "14/14 [==============================] - 0s 16ms/step - loss: 0.1126 - accuracy: 0.9693 - val_loss: 1.0633 - val_accuracy: 0.7854\n",
      "\n",
      "Epoch 00023: val_accuracy did not improve from 0.80232\n",
      "Epoch 00023: early stopping\n"
     ]
    }
   ],
   "source": [
    "history = model.fit(x_train, y_train,\n",
    "                    epochs=40,\n",
    "                    batch_size=512,\n",
    "                    callbacks=[es, mc],\n",
    "                    validation_data=(x_val, y_val))"
   ]
  },
  {
   "cell_type": "markdown",
   "id": "8ab6f3fb",
   "metadata": {},
   "source": [
    " "
   ]
  },
  {
   "cell_type": "code",
   "execution_count": 28,
   "id": "84a84dc2",
   "metadata": {},
   "outputs": [],
   "source": [
    "# 학습 히스토리의 loss, val_loss, accuracy, val_accuracy를 차트로 시각화합니다."
   ]
  },
  {
   "cell_type": "code",
   "execution_count": 29,
   "id": "6f40c699",
   "metadata": {},
   "outputs": [
    {
     "data": {
      "image/png": "[encoded data removed]",
      "text/plain": [
       "<Figure size 864x360 with 2 Axes>"
      ]
     },
     "metadata": {},
     "output_type": "display_data"
    }
   ],
   "source": [
    "plt.style.use('seaborn-white')\n",
    "\n",
    "history_dict = history.history\n",
    "\n",
    "loss = history_dict['loss']\n",
    "val_loss = history_dict['val_loss']\n",
    "\n",
    "epochs = range(1, len(loss) + 1)\n",
    "fig = plt.figure(figsize=(12, 5))\n",
    "\n",
    "ax1 = fig.add_subplot(1, 2, 1)\n",
    "ax1.plot(epochs, loss, 'b-', label='train_loss')\n",
    "ax1.plot(epochs, val_loss, 'r-', label='val_loss')\n",
    "ax1.set_title('Train and Validation Loss')\n",
    "ax1.set_xlabel('Epochs')\n",
    "ax1.set_ylabel('Loss')\n",
    "ax1.grid()\n",
    "ax1.legend()\n",
    "\n",
    "accuracy = history_dict['accuracy']\n",
    "val_accuracy = history_dict['val_accuracy']\n",
    "\n",
    "ax2 = fig.add_subplot(1, 2, 2)\n",
    "ax2.plot(epochs, accuracy, 'b-', label='train_accuracy')\n",
    "ax2.plot(epochs, val_accuracy, 'r-', label='val_accuracy')\n",
    "ax2.set_title('Train and Validation Accuracy')\n",
    "ax2.set_xlabel('Epochs')\n",
    "ax2.set_ylabel('Accuracy')\n",
    "ax2.grid()\n",
    "ax2.legend()\n",
    "\n",
    "plt.show()"
   ]
  },
  {
   "cell_type": "markdown",
   "id": "9e6aa6a4",
   "metadata": {},
   "source": [
    " "
   ]
  },
  {
   "cell_type": "markdown",
   "id": "e4173b0b",
   "metadata": {},
   "source": [
    " "
   ]
  },
  {
   "cell_type": "markdown",
   "id": "b20483b6",
   "metadata": {},
   "source": [
    "### 모델 평가 및 예측"
   ]
  },
  {
   "cell_type": "code",
   "execution_count": 31,
   "id": "aa7ad865",
   "metadata": {},
   "outputs": [],
   "source": [
    "# 테스트 데이터를 이용해 모델 성능을 평가하기"
   ]
  },
  {
   "cell_type": "code",
   "execution_count": 32,
   "id": "6dc66df0",
   "metadata": {},
   "outputs": [
    {
     "name": "stdout",
     "output_type": "stream",
     "text": [
      "71/71 [==============================] - 0s 3ms/step - loss: 1.0138 - accuracy: 0.7912\n"
     ]
    },
    {
     "data": {
      "text/plain": [
       "0.7911843061447144"
      ]
     },
     "execution_count": 32,
     "metadata": {},
     "output_type": "execute_result"
    }
   ],
   "source": [
    "loaded_model = models.load_model('best_model.h5')\n",
    "loaded_model.evaluate(x_test, y_test)[1]"
   ]
  },
  {
   "cell_type": "code",
   "execution_count": null,
   "id": "80ac6a24",
   "metadata": {},
   "outputs": [],
   "source": []
  }
 ],
 "metadata": {
  "kernelspec": {
   "display_name": "Python 3 (ipykernel)",
   "language": "python",
   "name": "python3"
  },
  "language_info": {
   "codemirror_mode": {
    "name": "ipython",
    "version": 3
   },
   "file_extension": ".py",
   "mimetype": "text/x-python",
   "name": "python",
   "nbconvert_exporter": "python",
   "pygments_lexer": "ipython3",
   "version": "3.9.7"
  }
 },
 "nbformat": 4,
 "nbformat_minor": 5
}
