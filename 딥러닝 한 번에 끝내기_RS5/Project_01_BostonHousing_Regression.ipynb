{
 "cells": [
  {
   "cell_type": "markdown",
   "id": "2b91541e",
   "metadata": {},
   "source": [
    "# 프로젝트 1: Boston 주택 가격 예측 모델"
   ]
  },
  {
   "cell_type": "markdown",
   "id": "4d07d384",
   "metadata": {},
   "source": [
    " "
   ]
  },
  {
   "cell_type": "markdown",
   "id": "2f92915f",
   "metadata": {},
   "source": [
    "### 데이터 로드 및 전처리"
   ]
  },
  {
   "cell_type": "markdown",
   "id": "c90e25ba",
   "metadata": {},
   "source": [
    " "
   ]
  },
  {
   "cell_type": "code",
   "execution_count": 1,
   "id": "e09bbc63",
   "metadata": {},
   "outputs": [],
   "source": [
    "# 필요 패키지(라이브러리) import"
   ]
  },
  {
   "cell_type": "code",
   "execution_count": 2,
   "id": "b04359ae",
   "metadata": {},
   "outputs": [],
   "source": [
    "from tensorflow.keras import models, layers\n",
    "import matplotlib.pyplot as plt"
   ]
  },
  {
   "cell_type": "markdown",
   "id": "38c917b1",
   "metadata": {},
   "source": [
    " "
   ]
  },
  {
   "cell_type": "code",
   "execution_count": 3,
   "id": "9f45e1fd",
   "metadata": {},
   "outputs": [],
   "source": [
    "# keras.datasets 안에 있는 boston_housing 데이터셋 로드"
   ]
  },
  {
   "cell_type": "code",
   "execution_count": 4,
   "id": "c9163910",
   "metadata": {},
   "outputs": [],
   "source": [
    "from keras.datasets import boston_housing\n",
    "\n",
    "(train_data, train_labels), (test_data, test_labels) = boston_housing.load_data()"
   ]
  },
  {
   "cell_type": "markdown",
   "id": "1676bfed",
   "metadata": {},
   "source": [
    " "
   ]
  },
  {
   "cell_type": "code",
   "execution_count": 5,
   "id": "e927a41f",
   "metadata": {},
   "outputs": [],
   "source": [
    "# 데이터셋 크기 확인"
   ]
  },
  {
   "cell_type": "code",
   "execution_count": 6,
   "id": "ab2ef567",
   "metadata": {},
   "outputs": [
    {
     "name": "stdout",
     "output_type": "stream",
     "text": [
      "404\n",
      "102\n"
     ]
    }
   ],
   "source": [
    "print(len(train_data))\n",
    "print(len(test_data))"
   ]
  },
  {
   "cell_type": "markdown",
   "id": "4960b01f",
   "metadata": {},
   "source": [
    " "
   ]
  },
  {
   "cell_type": "code",
   "execution_count": 7,
   "id": "51048244",
   "metadata": {},
   "outputs": [],
   "source": [
    "# 데이터셋의 전처리를 위한 표준화 작업 수행"
   ]
  },
  {
   "cell_type": "code",
   "execution_count": 8,
   "id": "3dd8b497",
   "metadata": {},
   "outputs": [],
   "source": [
    "# 1) 입력 데이터의 각 특성의 평균 빼기"
   ]
  },
  {
   "cell_type": "code",
   "execution_count": 9,
   "id": "2c1a381d",
   "metadata": {},
   "outputs": [],
   "source": [
    "mean = train_data.mean(axis=0)\n",
    "\n",
    "train_data = train_data - mean"
   ]
  },
  {
   "cell_type": "markdown",
   "id": "82100ac6",
   "metadata": {},
   "source": [
    " "
   ]
  },
  {
   "cell_type": "code",
   "execution_count": 10,
   "id": "e1ad66e3",
   "metadata": {},
   "outputs": [],
   "source": [
    "# 2) 평균을 뺀 입력 데이터를 표준편차로 나누기\n",
    "# 데이터 특성의 중앙이 0에 가깝게 만들고, 표준편차가 1이 되게 만듭니다."
   ]
  },
  {
   "cell_type": "code",
   "execution_count": 11,
   "id": "968e956e",
   "metadata": {},
   "outputs": [],
   "source": [
    "std = train_data.std(axis=0)\n",
    "\n",
    "train_data = train_data / std"
   ]
  },
  {
   "cell_type": "markdown",
   "id": "1493cd07",
   "metadata": {},
   "source": [
    " "
   ]
  },
  {
   "cell_type": "code",
   "execution_count": 12,
   "id": "3b8490c4",
   "metadata": {},
   "outputs": [],
   "source": [
    "# 테스트 데이터셋도 동일하게 표준화 작업 수행"
   ]
  },
  {
   "cell_type": "code",
   "execution_count": 13,
   "id": "fa8ec0ca",
   "metadata": {},
   "outputs": [],
   "source": [
    "test_data = test_data - mean\n",
    "test_data = test_data / std"
   ]
  },
  {
   "cell_type": "markdown",
   "id": "7cb440e1",
   "metadata": {},
   "source": [
    " "
   ]
  },
  {
   "cell_type": "markdown",
   "id": "3f2ee961",
   "metadata": {},
   "source": [
    " "
   ]
  },
  {
   "cell_type": "markdown",
   "id": "d56f4a23",
   "metadata": {},
   "source": [
    "### 모델 구성 및 컴파일"
   ]
  },
  {
   "cell_type": "markdown",
   "id": "23ef7447",
   "metadata": {},
   "source": [
    " "
   ]
  },
  {
   "cell_type": "code",
   "execution_count": 14,
   "id": "4cf2a1df",
   "metadata": {},
   "outputs": [],
   "source": [
    "# 주택 가격 예측을 위한 딥러닝 모델을 구성하고 컴파일\n",
    "# Sequential() 함수를 이용한 Sequential API 방법으로 딥러닝 모델을 구성"
   ]
  },
  {
   "cell_type": "code",
   "execution_count": 15,
   "id": "20dde026",
   "metadata": {},
   "outputs": [],
   "source": [
    "# 1) 모델 구성 (Sequential API 방법)"
   ]
  },
  {
   "cell_type": "code",
   "execution_count": 16,
   "id": "b70af754",
   "metadata": {},
   "outputs": [],
   "source": [
    "# input_shape은 (train_data.shape[1], )으로 구성합니다.\n",
    "model = models.Sequential()\n",
    "model.add(layers.Dense(64, activation='relu', input_shape=(train_data.shape[1], )))\n",
    "model.add(layers.Dense(32, activation='relu'))\n",
    "model.add(layers.Dense(1))"
   ]
  },
  {
   "cell_type": "markdown",
   "id": "a702a67c",
   "metadata": {},
   "source": [
    " "
   ]
  },
  {
   "cell_type": "code",
   "execution_count": 17,
   "id": "f5a557ca",
   "metadata": {},
   "outputs": [],
   "source": [
    "# 2) 컴파일"
   ]
  },
  {
   "cell_type": "code",
   "execution_count": 18,
   "id": "1ed603c1",
   "metadata": {},
   "outputs": [],
   "source": [
    "# 회귀(예측)을 위한 모델이므로 loss를 mse, metrics를 mae로 사용합니다.\n",
    "model.compile(optimizer='adam', loss='mse', metrics=['mae'])"
   ]
  },
  {
   "cell_type": "markdown",
   "id": "3bea6405",
   "metadata": {},
   "source": [
    " "
   ]
  },
  {
   "cell_type": "markdown",
   "id": "3ff5eb9b",
   "metadata": {},
   "source": [
    " "
   ]
  },
  {
   "cell_type": "markdown",
   "id": "2b793575",
   "metadata": {},
   "source": [
    "### 모델 학습"
   ]
  },
  {
   "cell_type": "markdown",
   "id": "ee2e90da",
   "metadata": {},
   "source": [
    " "
   ]
  },
  {
   "cell_type": "code",
   "execution_count": 19,
   "id": "1378bd1c",
   "metadata": {},
   "outputs": [],
   "source": [
    "# epochs와 batch size는 자유롭게 설정하고, \n",
    "# 모델 학습 후에는 모델 학습 결과를 시각화하세요."
   ]
  },
  {
   "cell_type": "code",
   "execution_count": 20,
   "id": "515d8ae0",
   "metadata": {},
   "outputs": [],
   "source": [
    "# 예측을 위한 딥러닝 모델 학습"
   ]
  },
  {
   "cell_type": "code",
   "execution_count": 21,
   "id": "c27bde3f",
   "metadata": {},
   "outputs": [
    {
     "name": "stdout",
     "output_type": "stream",
     "text": [
      "Epoch 1/60\n",
      "33/33 [==============================] - 1s 7ms/step - loss: 524.7764 - mae: 20.9512 - val_loss: 547.4035 - val_mae: 21.4537\n",
      "Epoch 2/60\n",
      "33/33 [==============================] - 0s 3ms/step - loss: 407.3758 - mae: 18.0743 - val_loss: 391.6682 - val_mae: 17.5669\n",
      "Epoch 3/60\n",
      "33/33 [==============================] - 0s 3ms/step - loss: 232.7922 - mae: 12.9551 - val_loss: 194.6477 - val_mae: 10.9007\n",
      "Epoch 4/60\n",
      "33/33 [==============================] - 0s 3ms/step - loss: 99.2692 - mae: 7.3870 - val_loss: 101.9579 - val_mae: 7.4605\n",
      "Epoch 5/60\n",
      "33/33 [==============================] - 0s 3ms/step - loss: 59.6217 - mae: 5.6243 - val_loss: 67.9150 - val_mae: 5.9922\n",
      "Epoch 6/60\n",
      "33/33 [==============================] - 0s 3ms/step - loss: 42.0137 - mae: 4.5196 - val_loss: 47.6457 - val_mae: 4.9967\n",
      "Epoch 7/60\n",
      "33/33 [==============================] - 0s 3ms/step - loss: 31.9849 - mae: 3.8937 - val_loss: 36.7296 - val_mae: 4.4110\n",
      "Epoch 8/60\n",
      "33/33 [==============================] - 0s 3ms/step - loss: 26.7857 - mae: 3.5155 - val_loss: 30.5291 - val_mae: 4.0358\n",
      "Epoch 9/60\n",
      "33/33 [==============================] - 0s 3ms/step - loss: 23.3357 - mae: 3.3207 - val_loss: 26.8269 - val_mae: 3.8455\n",
      "Epoch 10/60\n",
      "33/33 [==============================] - 0s 3ms/step - loss: 21.3894 - mae: 3.2175 - val_loss: 24.6424 - val_mae: 3.6572\n",
      "Epoch 11/60\n",
      "33/33 [==============================] - 0s 3ms/step - loss: 19.4918 - mae: 3.0448 - val_loss: 22.7606 - val_mae: 3.5757\n",
      "Epoch 12/60\n",
      "33/33 [==============================] - 0s 3ms/step - loss: 18.0562 - mae: 2.9560 - val_loss: 21.4796 - val_mae: 3.4541\n",
      "Epoch 13/60\n",
      "33/33 [==============================] - 0s 3ms/step - loss: 17.0685 - mae: 2.8836 - val_loss: 19.5908 - val_mae: 3.3603\n",
      "Epoch 14/60\n",
      "33/33 [==============================] - 0s 3ms/step - loss: 16.1245 - mae: 2.7882 - val_loss: 18.8596 - val_mae: 3.2673\n",
      "Epoch 15/60\n",
      "33/33 [==============================] - 0s 3ms/step - loss: 15.2878 - mae: 2.7445 - val_loss: 18.3811 - val_mae: 3.2143\n",
      "Epoch 16/60\n",
      "33/33 [==============================] - 0s 3ms/step - loss: 14.1703 - mae: 2.6097 - val_loss: 17.7435 - val_mae: 3.1623\n",
      "Epoch 17/60\n",
      "33/33 [==============================] - 0s 3ms/step - loss: 13.4189 - mae: 2.5439 - val_loss: 17.1526 - val_mae: 3.0810\n",
      "Epoch 18/60\n",
      "33/33 [==============================] - 0s 3ms/step - loss: 13.0614 - mae: 2.5626 - val_loss: 16.6991 - val_mae: 3.0267\n",
      "Epoch 19/60\n",
      "33/33 [==============================] - 0s 3ms/step - loss: 12.4220 - mae: 2.4484 - val_loss: 16.5486 - val_mae: 3.0644\n",
      "Epoch 20/60\n",
      "33/33 [==============================] - 0s 4ms/step - loss: 11.8062 - mae: 2.3789 - val_loss: 16.0103 - val_mae: 2.9510\n",
      "Epoch 21/60\n",
      "33/33 [==============================] - 0s 3ms/step - loss: 11.4606 - mae: 2.3514 - val_loss: 15.8537 - val_mae: 2.9064\n",
      "Epoch 22/60\n",
      "33/33 [==============================] - 0s 4ms/step - loss: 11.1971 - mae: 2.3121 - val_loss: 15.4066 - val_mae: 2.9250\n",
      "Epoch 23/60\n",
      "33/33 [==============================] - 0s 3ms/step - loss: 10.7876 - mae: 2.2967 - val_loss: 15.1694 - val_mae: 2.8587\n",
      "Epoch 24/60\n",
      "33/33 [==============================] - 0s 3ms/step - loss: 10.4729 - mae: 2.2673 - val_loss: 14.7535 - val_mae: 2.8669\n",
      "Epoch 25/60\n",
      "33/33 [==============================] - 0s 3ms/step - loss: 10.3215 - mae: 2.2504 - val_loss: 14.7869 - val_mae: 2.8015\n",
      "Epoch 26/60\n",
      "33/33 [==============================] - 0s 3ms/step - loss: 10.0304 - mae: 2.2080 - val_loss: 14.4840 - val_mae: 2.7950\n",
      "Epoch 27/60\n",
      "33/33 [==============================] - 0s 3ms/step - loss: 9.5942 - mae: 2.2149 - val_loss: 14.8591 - val_mae: 2.7238\n",
      "Epoch 28/60\n",
      "33/33 [==============================] - 0s 3ms/step - loss: 9.5734 - mae: 2.1852 - val_loss: 14.4458 - val_mae: 2.7148\n",
      "Epoch 29/60\n",
      "33/33 [==============================] - 0s 3ms/step - loss: 9.3568 - mae: 2.1314 - val_loss: 14.4930 - val_mae: 2.7021\n",
      "Epoch 30/60\n",
      "33/33 [==============================] - 0s 3ms/step - loss: 9.0862 - mae: 2.1185 - val_loss: 14.1676 - val_mae: 2.6977\n",
      "Epoch 31/60\n",
      "33/33 [==============================] - 0s 3ms/step - loss: 9.1812 - mae: 2.1353 - val_loss: 14.5775 - val_mae: 2.6375\n",
      "Epoch 32/60\n",
      "33/33 [==============================] - 0s 3ms/step - loss: 9.0478 - mae: 2.0765 - val_loss: 14.8007 - val_mae: 2.7391\n",
      "Epoch 33/60\n",
      "33/33 [==============================] - 0s 3ms/step - loss: 8.8695 - mae: 2.1441 - val_loss: 13.8857 - val_mae: 2.7036\n",
      "Epoch 34/60\n",
      "33/33 [==============================] - 0s 3ms/step - loss: 8.9451 - mae: 2.1044 - val_loss: 14.3176 - val_mae: 2.7438\n",
      "Epoch 35/60\n",
      "33/33 [==============================] - 0s 3ms/step - loss: 8.7556 - mae: 2.0638 - val_loss: 14.4080 - val_mae: 2.6945\n",
      "Epoch 36/60\n",
      "33/33 [==============================] - 0s 3ms/step - loss: 8.4162 - mae: 2.0273 - val_loss: 14.0132 - val_mae: 2.6353\n",
      "Epoch 37/60\n",
      "33/33 [==============================] - 0s 3ms/step - loss: 8.1946 - mae: 2.0199 - val_loss: 13.9013 - val_mae: 2.6332\n",
      "Epoch 38/60\n",
      "33/33 [==============================] - 0s 3ms/step - loss: 8.1112 - mae: 2.0119 - val_loss: 13.8923 - val_mae: 2.6563\n",
      "Epoch 39/60\n",
      "33/33 [==============================] - 0s 3ms/step - loss: 8.2749 - mae: 2.0236 - val_loss: 14.0843 - val_mae: 2.7398\n",
      "Epoch 40/60\n",
      "33/33 [==============================] - 0s 3ms/step - loss: 8.1552 - mae: 2.0181 - val_loss: 14.2381 - val_mae: 2.6266\n",
      "Epoch 41/60\n",
      "33/33 [==============================] - 0s 3ms/step - loss: 7.9401 - mae: 1.9746 - val_loss: 14.4587 - val_mae: 2.5935\n",
      "Epoch 42/60\n",
      "33/33 [==============================] - 0s 3ms/step - loss: 8.0613 - mae: 2.0259 - val_loss: 13.9640 - val_mae: 2.6623\n",
      "Epoch 43/60\n",
      "33/33 [==============================] - 0s 4ms/step - loss: 7.8048 - mae: 1.9645 - val_loss: 13.4631 - val_mae: 2.6380\n",
      "Epoch 44/60\n",
      "33/33 [==============================] - 0s 3ms/step - loss: 7.8328 - mae: 1.9384 - val_loss: 13.9393 - val_mae: 2.5413\n",
      "Epoch 45/60\n",
      "33/33 [==============================] - 0s 3ms/step - loss: 7.8177 - mae: 1.9817 - val_loss: 13.9687 - val_mae: 2.5965\n",
      "Epoch 46/60\n",
      "33/33 [==============================] - 0s 3ms/step - loss: 7.7557 - mae: 1.9727 - val_loss: 13.6345 - val_mae: 2.5796\n",
      "Epoch 47/60\n",
      "33/33 [==============================] - 0s 3ms/step - loss: 7.4102 - mae: 1.9172 - val_loss: 14.5408 - val_mae: 2.6322\n",
      "Epoch 48/60\n",
      "33/33 [==============================] - 0s 3ms/step - loss: 7.4060 - mae: 1.9105 - val_loss: 13.9105 - val_mae: 2.6126\n",
      "Epoch 49/60\n",
      "33/33 [==============================] - 0s 3ms/step - loss: 7.2326 - mae: 1.8950 - val_loss: 14.9630 - val_mae: 2.6512\n",
      "Epoch 50/60\n",
      "33/33 [==============================] - 0s 3ms/step - loss: 7.4308 - mae: 1.9568 - val_loss: 13.4948 - val_mae: 2.5860\n",
      "Epoch 51/60\n",
      "33/33 [==============================] - 0s 3ms/step - loss: 7.1808 - mae: 1.8917 - val_loss: 13.8130 - val_mae: 2.5761\n",
      "Epoch 52/60\n",
      "33/33 [==============================] - 0s 3ms/step - loss: 7.0880 - mae: 1.8787 - val_loss: 14.0466 - val_mae: 2.5609\n",
      "Epoch 53/60\n",
      "33/33 [==============================] - 0s 3ms/step - loss: 7.0502 - mae: 1.8900 - val_loss: 13.7690 - val_mae: 2.5252\n",
      "Epoch 54/60\n",
      "33/33 [==============================] - 0s 3ms/step - loss: 7.0455 - mae: 1.8594 - val_loss: 14.0905 - val_mae: 2.5746\n",
      "Epoch 55/60\n",
      "33/33 [==============================] - 0s 3ms/step - loss: 7.1910 - mae: 1.8964 - val_loss: 13.4841 - val_mae: 2.5838\n",
      "Epoch 56/60\n",
      "33/33 [==============================] - 0s 3ms/step - loss: 6.8092 - mae: 1.8278 - val_loss: 14.9260 - val_mae: 2.5831\n",
      "Epoch 57/60\n",
      "33/33 [==============================] - 0s 3ms/step - loss: 7.1007 - mae: 1.9219 - val_loss: 13.8875 - val_mae: 2.5495\n",
      "Epoch 58/60\n",
      "33/33 [==============================] - 0s 3ms/step - loss: 7.0120 - mae: 1.8567 - val_loss: 13.7328 - val_mae: 2.5184\n",
      "Epoch 59/60\n",
      "33/33 [==============================] - 0s 3ms/step - loss: 6.6973 - mae: 1.8000 - val_loss: 14.0306 - val_mae: 2.5150\n",
      "Epoch 60/60\n",
      "33/33 [==============================] - 0s 3ms/step - loss: 6.7392 - mae: 1.8441 - val_loss: 14.0093 - val_mae: 2.5945\n"
     ]
    }
   ],
   "source": [
    "history = model.fit(train_data, train_labels, \n",
    "                    epochs=60, batch_size = 10,\n",
    "                    validation_split=0.2)"
   ]
  },
  {
   "cell_type": "markdown",
   "id": "81ef4dd7",
   "metadata": {},
   "source": [
    " "
   ]
  },
  {
   "cell_type": "code",
   "execution_count": 22,
   "id": "7fd0b749",
   "metadata": {},
   "outputs": [],
   "source": [
    "# 모델 학습 히스토리에서 loss, val_loss, mae, val_mae를 차트로 보여줍니다."
   ]
  },
  {
   "cell_type": "code",
   "execution_count": 23,
   "id": "e088a8cc",
   "metadata": {},
   "outputs": [
    {
     "data": {
      "image/png": "[encoded data removed]",
      "text/plain": [
       "<Figure size 864x360 with 2 Axes>"
      ]
     },
     "metadata": {},
     "output_type": "display_data"
    }
   ],
   "source": [
    "plt.style.use('seaborn-white')\n",
    "\n",
    "history_dict = history.history\n",
    "\n",
    "loss = history_dict['loss']\n",
    "val_loss = history_dict['val_loss']\n",
    "\n",
    "epochs = range(1, len(loss) + 1)\n",
    "fig = plt.figure(figsize=(12, 5))\n",
    "\n",
    "ax1 = fig.add_subplot(1, 2, 1)\n",
    "ax1.plot(epochs, loss, 'b-', label='train_loss')\n",
    "ax1.plot(epochs, val_loss, 'r-', label='val_loss')\n",
    "ax1.set_title('Train and Validation Loss')\n",
    "ax1.set_xlabel('Epochs')\n",
    "ax1.set_ylabel('Loss')\n",
    "ax1.grid()\n",
    "ax1.legend()\n",
    "\n",
    "mae = history_dict['mae']\n",
    "val_mae = history_dict['val_mae']\n",
    "\n",
    "ax2 = fig.add_subplot(1, 2, 2)\n",
    "ax2.plot(epochs, mae, 'b-', label='train_mae')\n",
    "ax2.plot(epochs, val_mae, 'r-', label='val_mae')\n",
    "ax2.set_title('Train and Validation MAE')\n",
    "ax2.set_xlabel('Epochs')\n",
    "ax2.set_ylabel('Accuracy')\n",
    "ax2.grid()\n",
    "ax2.legend()\n",
    "\n",
    "plt.show()"
   ]
  },
  {
   "cell_type": "markdown",
   "id": "7db9984d",
   "metadata": {},
   "source": [
    " "
   ]
  },
  {
   "cell_type": "markdown",
   "id": "f494c3fd",
   "metadata": {},
   "source": [
    " "
   ]
  },
  {
   "cell_type": "markdown",
   "id": "4824aefc",
   "metadata": {},
   "source": [
    "### 모델 평가 및 예측"
   ]
  },
  {
   "cell_type": "markdown",
   "id": "94100c2f",
   "metadata": {},
   "source": [
    " "
   ]
  },
  {
   "cell_type": "code",
   "execution_count": 24,
   "id": "60c2b240",
   "metadata": {},
   "outputs": [],
   "source": [
    "# 테스트 데이터를 이용해 모델 성능을 평가하기"
   ]
  },
  {
   "cell_type": "code",
   "execution_count": 25,
   "id": "9dea8c43",
   "metadata": {},
   "outputs": [
    {
     "name": "stdout",
     "output_type": "stream",
     "text": [
      "4/4 [==============================] - 0s 2ms/step - loss: 22.8370 - mae: 2.9332\n"
     ]
    },
    {
     "data": {
      "text/plain": [
       "[22.83696746826172, 2.9331555366516113]"
      ]
     },
     "execution_count": 25,
     "metadata": {},
     "output_type": "execute_result"
    }
   ],
   "source": [
    "model.evaluate(test_data, test_labels)"
   ]
  },
  {
   "cell_type": "code",
   "execution_count": null,
   "id": "5690d048",
   "metadata": {},
   "outputs": [],
   "source": []
  }
 ],
 "metadata": {
  "kernelspec": {
   "display_name": "Python 3 (ipykernel)",
   "language": "python",
   "name": "python3"
  },
  "language_info": {
   "codemirror_mode": {
    "name": "ipython",
    "version": 3
   },
   "file_extension": ".py",
   "mimetype": "text/x-python",
   "name": "python",
   "nbconvert_exporter": "python",
   "pygments_lexer": "ipython3",
   "version": "3.9.7"
  }
 },
 "nbformat": 4,
 "nbformat_minor": 5
}
