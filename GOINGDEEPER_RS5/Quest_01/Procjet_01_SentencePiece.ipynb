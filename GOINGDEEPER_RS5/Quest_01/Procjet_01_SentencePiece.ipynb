{
 "cells": [
  {
   "cell_type": "markdown",
   "id": "f87f2b93",
   "metadata": {},
   "source": [
    "# 3. 멋진 단어사전 만들기 [프로젝트]\n",
    "<br>"
   ]
  },
  {
   "cell_type": "markdown",
   "id": "880f28bf",
   "metadata": {},
   "source": [
    "## 3-1. 프로젝트: SentencePiece 사용하기\n",
    "<br>"
   ]
  },
  {
   "cell_type": "markdown",
   "id": "3902e025",
   "metadata": {},
   "source": [
    "#### 사용할 라이브러리 버전 확인\n",
    "<br>"
   ]
  },
  {
   "cell_type": "code",
   "execution_count": 40,
   "id": "49f22736",
   "metadata": {},
   "outputs": [
    {
     "name": "stdout",
     "output_type": "stream",
     "text": [
      "2.6.0\n",
      "1.21.4\n",
      "3.4.3\n",
      "0.5.2\n"
     ]
    }
   ],
   "source": [
    "import tensorflow as tf\n",
    "import numpy as np\n",
    "import matplotlib as plt\n",
    "import konlpy\n",
    "\n",
    "print(tf.__version__)\n",
    "print(np.__version__)\n",
    "print(plt.__version__)\n",
    "print(konlpy.__version__)"
   ]
  },
  {
   "cell_type": "markdown",
   "id": "27dae64d",
   "metadata": {},
   "source": [
    "<br><br>"
   ]
  },
  {
   "cell_type": "markdown",
   "id": "b3c70fa7",
   "metadata": {},
   "source": [
    "### Step 1. SentencePiece 설치하기\n",
    "<br>"
   ]
  },
  {
   "cell_type": "code",
   "execution_count": 41,
   "id": "5c212143",
   "metadata": {},
   "outputs": [],
   "source": [
    "# $ pip install sentencepiece"
   ]
  },
  {
   "cell_type": "markdown",
   "id": "0dec10a2",
   "metadata": {},
   "source": [
    "<br><br>"
   ]
  },
  {
   "cell_type": "markdown",
   "id": "098d34e4",
   "metadata": {},
   "source": [
    "### Step 2. SentencePiece 모델 학습\n",
    "<br>"
   ]
  },
  {
   "cell_type": "markdown",
   "id": "5b273496",
   "metadata": {},
   "source": [
    "####  데이터 다운로드 및 확인\n",
    "<br>"
   ]
  },
  {
   "cell_type": "code",
   "execution_count": 42,
   "id": "241b646c",
   "metadata": {},
   "outputs": [],
   "source": [
    "# 데이터 다운로드"
   ]
  },
  {
   "cell_type": "code",
   "execution_count": 43,
   "id": "5d0c3b44",
   "metadata": {},
   "outputs": [],
   "source": [
    "# wget https://github.com/jungyeul/korean-parallel-corpora/raw/master/korean-english-news-v1/korean-english-park.train.tar.gz\n",
    "# mkdir -p ~/aiffel/sp_tokenizer/data\n",
    "# mv korean-english-park.train.tar.gz ~/aiffel/sp_tokenizer/data\n",
    "# cd ~/aiffel/sp_tokenizer/data\n",
    "# tar -xzvf korean-english-park.train.tar.gz"
   ]
  },
  {
   "cell_type": "markdown",
   "id": "ef789952",
   "metadata": {},
   "source": [
    "<br>"
   ]
  },
  {
   "cell_type": "code",
   "execution_count": 44,
   "id": "084d7b07",
   "metadata": {},
   "outputs": [],
   "source": [
    "# 데이터 확인"
   ]
  },
  {
   "cell_type": "code",
   "execution_count": 45,
   "id": "92adcb9b",
   "metadata": {},
   "outputs": [],
   "source": [
    "import os\n",
    "\n",
    "path_to_file = os.getenv('HOME')+'/aiffel/sp_tokenizer/data/korean-english-park.train.ko'"
   ]
  },
  {
   "cell_type": "code",
   "execution_count": 46,
   "id": "9bd54f39",
   "metadata": {},
   "outputs": [],
   "source": [
    "with open(path_to_file, \"r\") as f:\n",
    "    raw = f.read().splitlines()"
   ]
  },
  {
   "cell_type": "code",
   "execution_count": 47,
   "id": "74ce4799",
   "metadata": {},
   "outputs": [
    {
     "name": "stdout",
     "output_type": "stream",
     "text": [
      "Data Size: 94123\n"
     ]
    }
   ],
   "source": [
    "print(\"Data Size:\", len(raw))"
   ]
  },
  {
   "cell_type": "code",
   "execution_count": 48,
   "id": "3e2f5c8c",
   "metadata": {},
   "outputs": [
    {
     "name": "stdout",
     "output_type": "stream",
     "text": [
      "Example:\n",
      ">> 개인용 컴퓨터 사용의 상당 부분은 \"이것보다 뛰어날 수 있느냐?\"\n",
      ">> 북한의 핵무기 계획을 포기하도록 하려는 압력이 거세지고 있는 가운데, 일본과 북한의 외교관들이 외교 관계를 정상화하려는 회담을 재개했다.\n",
      ">> \"경호 로보트가 침입자나 화재를 탐지하기 위해서 개인적으로, 그리고 전문적으로 사용되고 있습니다.\"\n",
      ">> 수자원부 당국은 논란이 되고 있고, 막대한 비용이 드는 이 사업에 대해 내년에 건설을 시작할 계획이다.\n",
      ">> 또한 근력 운동은 활발하게 걷는 것이나 최소한 20분 동안 뛰는 것과 같은 유산소 활동에서 얻는 운동 효과를 심장과 폐에 주지 않기 때문에, 연구학자들은 근력 운동이 심장에 큰 영향을 미치는지 여부에 대해 논쟁을 해왔다.\n"
     ]
    }
   ],
   "source": [
    "print(\"Example:\")\n",
    "for sen in raw[0:100][::20]: print(\">>\", sen)"
   ]
  },
  {
   "cell_type": "markdown",
   "id": "ab7a243c",
   "metadata": {},
   "source": [
    "<br>"
   ]
  },
  {
   "cell_type": "markdown",
   "id": "8dafc1a6",
   "metadata": {},
   "source": [
    "#### 데이터 분석\n",
    "<br>"
   ]
  },
  {
   "cell_type": "code",
   "execution_count": 49,
   "id": "d295171a",
   "metadata": {},
   "outputs": [],
   "source": [
    "min_len = 999\n",
    "max_len = 0\n",
    "sum_len = 0\n",
    "\n",
    "for sen in raw:\n",
    "    length = len(sen)\n",
    "    if min_len > length: min_len = length\n",
    "    if max_len < length: max_len = length\n",
    "    sum_len += length"
   ]
  },
  {
   "cell_type": "code",
   "execution_count": 50,
   "id": "7b6ec9a3",
   "metadata": {},
   "outputs": [
    {
     "name": "stdout",
     "output_type": "stream",
     "text": [
      "문장의 최단 길이: 1\n",
      "문장의 최장 길이: 377\n",
      "문장의 평균 길이: 60\n"
     ]
    }
   ],
   "source": [
    "print(\"문장의 최단 길이:\", min_len)\n",
    "print(\"문장의 최장 길이:\", max_len)\n",
    "print(\"문장의 평균 길이:\", sum_len // len(raw))"
   ]
  },
  {
   "cell_type": "markdown",
   "id": "48439125",
   "metadata": {},
   "source": [
    "<br>"
   ]
  },
  {
   "cell_type": "code",
   "execution_count": 51,
   "id": "08039379",
   "metadata": {},
   "outputs": [],
   "source": [
    "sentence_length = np.zeros((max_len), dtype=int)\n",
    "\n",
    "for sen in raw:\n",
    "    sentence_length[len(sen)-1] += 1"
   ]
  },
  {
   "cell_type": "code",
   "execution_count": 52,
   "id": "e0b04b6b",
   "metadata": {},
   "outputs": [
    {
     "data": {
      "image/png": "[encoded data removed]",
      "text/plain": [
       "<Figure size 432x288 with 1 Axes>"
      ]
     },
     "metadata": {
      "needs_background": "light"
     },
     "output_type": "display_data"
    }
   ],
   "source": [
    "import matplotlib.pyplot as plt\n",
    "%matplotlib inline\n",
    "\n",
    "plt.bar(range(max_len), sentence_length, width=1.0)\n",
    "plt.title(\"Sentence Length Distribution\")\n",
    "plt.show()"
   ]
  },
  {
   "cell_type": "markdown",
   "id": "cc918946",
   "metadata": {},
   "source": [
    "<br>"
   ]
  },
  {
   "cell_type": "code",
   "execution_count": 53,
   "id": "3e42d68c",
   "metadata": {},
   "outputs": [],
   "source": [
    "# 길이가 1인 문장 확인"
   ]
  },
  {
   "cell_type": "code",
   "execution_count": 54,
   "id": "c02b91f8",
   "metadata": {},
   "outputs": [],
   "source": [
    "def check_sentence_with_length(raw, length):\n",
    "    count = 0\n",
    "    \n",
    "    for sen in raw:\n",
    "        if len(sen) == length:\n",
    "            print(sen)\n",
    "            count += 1\n",
    "            if count > 100: return"
   ]
  },
  {
   "cell_type": "code",
   "execution_count": 55,
   "id": "91fbf518",
   "metadata": {},
   "outputs": [
    {
     "name": "stdout",
     "output_type": "stream",
     "text": [
      "’\n"
     ]
    }
   ],
   "source": [
    "check_sentence_with_length(raw, 1)"
   ]
  },
  {
   "cell_type": "markdown",
   "id": "a2732b83",
   "metadata": {},
   "source": [
    "<br>"
   ]
  },
  {
   "cell_type": "code",
   "execution_count": 56,
   "id": "92b5e0f5",
   "metadata": {},
   "outputs": [],
   "source": [
    "# 문장의 수가 1500을 초과하는 문장 길이 추출"
   ]
  },
  {
   "cell_type": "code",
   "execution_count": 57,
   "id": "12d156b3",
   "metadata": {},
   "outputs": [
    {
     "name": "stdout",
     "output_type": "stream",
     "text": [
      "Outlier Index: 11\n",
      "Outlier Index: 19\n",
      "Outlier Index: 21\n"
     ]
    }
   ],
   "source": [
    "for idx, _sum in enumerate(sentence_length):\n",
    "    if _sum > 1500:\n",
    "        print(\"Outlier Index:\", idx+1)"
   ]
  },
  {
   "cell_type": "markdown",
   "id": "acb723a6",
   "metadata": {},
   "source": [
    "<br>"
   ]
  },
  {
   "cell_type": "markdown",
   "id": "0ddf0e4a",
   "metadata": {},
   "source": [
    "#### 데이터 전처리\n",
    "<br>"
   ]
  },
  {
   "cell_type": "code",
   "execution_count": 58,
   "id": "5f8de1f2",
   "metadata": {},
   "outputs": [],
   "source": [
    "# 중복된 요소 제거 (python 기본 자료형 set활용)"
   ]
  },
  {
   "cell_type": "code",
   "execution_count": 59,
   "id": "fc166faa",
   "metadata": {},
   "outputs": [
    {
     "name": "stdout",
     "output_type": "stream",
     "text": [
      "Data Size: 77591\n"
     ]
    }
   ],
   "source": [
    "cleaned_corpus = list(set(raw))  \n",
    "print(\"Data Size:\", len(cleaned_corpus))"
   ]
  },
  {
   "cell_type": "markdown",
   "id": "2e60993f",
   "metadata": {},
   "source": [
    "<br>"
   ]
  },
  {
   "cell_type": "code",
   "execution_count": 60,
   "id": "8f15387c",
   "metadata": {},
   "outputs": [],
   "source": [
    "min_len = 999\n",
    "max_len = 0\n",
    "sum_len = 0\n",
    "\n",
    "for sen in cleaned_corpus:\n",
    "    length = len(sen)\n",
    "    if min_len > length: min_len = length\n",
    "    if max_len < length: max_len = length\n",
    "    sum_len += length"
   ]
  },
  {
   "cell_type": "code",
   "execution_count": 61,
   "id": "a57ad295",
   "metadata": {},
   "outputs": [
    {
     "name": "stdout",
     "output_type": "stream",
     "text": [
      "문장의 최단 길이: 1\n",
      "문장의 최장 길이: 377\n",
      "문장의 평균 길이: 64\n"
     ]
    }
   ],
   "source": [
    "print(\"문장의 최단 길이:\", min_len)\n",
    "print(\"문장의 최장 길이:\", max_len)\n",
    "print(\"문장의 평균 길이:\", sum_len // len(cleaned_corpus))"
   ]
  },
  {
   "cell_type": "markdown",
   "id": "c9554981",
   "metadata": {},
   "source": [
    "<br>"
   ]
  },
  {
   "cell_type": "code",
   "execution_count": 62,
   "id": "b1e51daa",
   "metadata": {},
   "outputs": [],
   "source": [
    "sentence_length = np.zeros((max_len), dtype=int)\n",
    "\n",
    "for sen in cleaned_corpus:   # 중복이 제거된 코퍼스 기준\n",
    "    sentence_length[len(sen)-1] += 1"
   ]
  },
  {
   "cell_type": "code",
   "execution_count": 63,
   "id": "623f4c93",
   "metadata": {},
   "outputs": [
    {
     "data": {
      "image/png": "[encoded data removed]",
      "text/plain": [
       "<Figure size 432x288 with 1 Axes>"
      ]
     },
     "metadata": {
      "needs_background": "light"
     },
     "output_type": "display_data"
    }
   ],
   "source": [
    "plt.bar(range(max_len), sentence_length, width=1.0)\n",
    "plt.title(\"Sentence Length Distribution\")\n",
    "plt.show()"
   ]
  },
  {
   "cell_type": "markdown",
   "id": "38555297",
   "metadata": {},
   "source": [
    "<br>"
   ]
  },
  {
   "cell_type": "code",
   "execution_count": 64,
   "id": "2f662893",
   "metadata": {},
   "outputs": [],
   "source": [
    "# 1) 길이가 150 이상의 데이터 제거 (큰 메모리 차지, 학습 시간 오래 걸림)\n",
    "# 2) 길이가 10 미만인 데이터 제거 (너무 짧은 데이터는 오히려 노이즈로 작용)"
   ]
  },
  {
   "cell_type": "code",
   "execution_count": 65,
   "id": "bafbcf9a",
   "metadata": {},
   "outputs": [],
   "source": [
    "max_len = 150\n",
    "min_len = 10\n",
    "\n",
    "# 길이 조건에 맞는 문장만 선택함.\n",
    "filtered_corpus = [s for s in cleaned_corpus if (len(s) < max_len) & (len(s) >= min_len)]"
   ]
  },
  {
   "cell_type": "markdown",
   "id": "d11a4471",
   "metadata": {},
   "source": [
    "<br>"
   ]
  },
  {
   "cell_type": "code",
   "execution_count": 66,
   "id": "0c6d71cc",
   "metadata": {},
   "outputs": [],
   "source": [
    "# 분포도를 다시 그려봅니다.\n",
    "sentence_length = np.zeros((max_len), dtype=int)\n",
    "\n",
    "for sen in filtered_corpus:\n",
    "    sentence_length[len(sen)-1] += 1"
   ]
  },
  {
   "cell_type": "code",
   "execution_count": 67,
   "id": "cddfcbd6",
   "metadata": {},
   "outputs": [
    {
     "data": {
      "image/png": "[encoded data removed]",
      "text/plain": [
       "<Figure size 432x288 with 1 Axes>"
      ]
     },
     "metadata": {
      "needs_background": "light"
     },
     "output_type": "display_data"
    }
   ],
   "source": [
    "plt.bar(range(max_len), sentence_length, width=1.0)\n",
    "plt.title(\"Sentence Length Distribution\")\n",
    "plt.show()"
   ]
  },
  {
   "cell_type": "markdown",
   "id": "14406e7e",
   "metadata": {},
   "source": [
    "<br>"
   ]
  },
  {
   "cell_type": "markdown",
   "id": "75651d7c",
   "metadata": {},
   "source": [
    "#### SentencePiece 모델 학습\n",
    "<br>"
   ]
  },
  {
   "cell_type": "code",
   "execution_count": 68,
   "id": "6eff2a49",
   "metadata": {},
   "outputs": [],
   "source": [
    "# tokenize() 함수\n",
    "# 토크나이저 내부적으로 단어사전과 토크나이저기 능을 corpus에 맞춤형으로 자동 생성해줌."
   ]
  },
  {
   "cell_type": "code",
   "execution_count": 69,
   "id": "e28deaba",
   "metadata": {},
   "outputs": [],
   "source": [
    "def tokenize(corpus):  # corpus: Tokenized Sentence's List\n",
    "    tokenizer = tf.keras.preprocessing.text.Tokenizer(filters='')\n",
    "    tokenizer.fit_on_texts(corpus)\n",
    "    \n",
    "    tensor = tokenizer.texts_to_sequences(corpus)\n",
    "    tensor = tf.keras.preprocessing.sequence.pad_sequences(tensor, padding='post')\n",
    "    \n",
    "    return tensor, tokenizer"
   ]
  },
  {
   "cell_type": "markdown",
   "id": "fc078ef8",
   "metadata": {},
   "source": [
    "<br>"
   ]
  },
  {
   "cell_type": "code",
   "execution_count": 70,
   "id": "3c97f39b",
   "metadata": {},
   "outputs": [],
   "source": [
    "# 이를 위해서 SentencePiece 모델을 학습하는 과정을 거쳐야 합니다."
   ]
  },
  {
   "cell_type": "code",
   "execution_count": 71,
   "id": "396bcc6e",
   "metadata": {},
   "outputs": [],
   "source": [
    "# 데이터 확인"
   ]
  },
  {
   "cell_type": "code",
   "execution_count": 72,
   "id": "1dd57ff4",
   "metadata": {},
   "outputs": [],
   "source": [
    "import sentencepiece as spm\n",
    "import os"
   ]
  },
  {
   "cell_type": "code",
   "execution_count": 73,
   "id": "fb9fd640",
   "metadata": {},
   "outputs": [],
   "source": [
    "temp_file = os.getenv('HOME')+'/aiffel/sp_tokenizer/data/korean-english-park.train.ko.temp'"
   ]
  },
  {
   "cell_type": "code",
   "execution_count": 74,
   "id": "21f57c0e",
   "metadata": {},
   "outputs": [],
   "source": [
    "with open(temp_file, 'w') as f:\n",
    "    for row in filtered_corpus:   # 이전에 나왔던 정제했던 corpus를 활용해서 진행해야 합니다.\n",
    "        f.write(str(row) + '\\n')"
   ]
  },
  {
   "cell_type": "markdown",
   "id": "62315ed8",
   "metadata": {},
   "source": [
    "<br>"
   ]
  },
  {
   "cell_type": "code",
   "execution_count": 75,
   "id": "55251a35",
   "metadata": {},
   "outputs": [
    {
     "name": "stderr",
     "output_type": "stream",
     "text": [
      "sentencepiece_trainer.cc(177) LOG(INFO) Running command: --input=/aiffel/aiffel/sp_tokenizer/data/korean-english-park.train.ko.temp --model_prefix=korean_spm --vocab_size=8000\n",
      "sentencepiece_trainer.cc(77) LOG(INFO) Starts training with : \n",
      "trainer_spec {\n",
      "  input: /aiffel/aiffel/sp_tokenizer/data/korean-english-park.train.ko.temp\n",
      "  input_format: \n",
      "  model_prefix: korean_spm\n",
      "  model_type: UNIGRAM\n",
      "  vocab_size: 8000\n",
      "  self_test_sample_size: 0\n",
      "  character_coverage: 0.9995\n",
      "  input_sentence_size: 0\n",
      "  shuffle_input_sentence: 1\n",
      "  seed_sentencepiece_size: 1000000\n",
      "  shrinking_factor: 0.75\n",
      "  max_sentence_length: 4192\n",
      "  num_threads: 16\n",
      "  num_sub_iterations: 2\n",
      "  max_sentencepiece_length: 16\n",
      "  split_by_unicode_script: 1\n",
      "  split_by_number: 1\n",
      "  split_by_whitespace: 1\n",
      "  split_digits: 0\n",
      "  treat_whitespace_as_suffix: 0\n",
      "  allow_whitespace_only_pieces: 0\n",
      "  required_chars: \n",
      "  byte_fallback: 0\n",
      "  vocabulary_output_piece_score: 1\n",
      "  train_extremely_large_corpus: 0\n",
      "  hard_vocab_limit: 1\n",
      "  use_all_vocab: 0\n",
      "  unk_id: 0\n",
      "  bos_id: 1\n",
      "  eos_id: 2\n",
      "  pad_id: -1\n",
      "  unk_piece: <unk>\n",
      "  bos_piece: <s>\n",
      "  eos_piece: </s>\n",
      "  pad_piece: <pad>\n",
      "  unk_surface:  ⁇ \n",
      "}\n",
      "normalizer_spec {\n",
      "  name: nmt_nfkc\n",
      "  add_dummy_prefix: 1\n",
      "  remove_extra_whitespaces: 1\n",
      "  escape_whitespaces: 1\n",
      "  normalization_rule_tsv: \n",
      "}\n",
      "denormalizer_spec {}\n",
      "trainer_interface.cc(329) LOG(INFO) SentenceIterator is not specified. Using MultiFileSentenceIterator.\n",
      "trainer_interface.cc(178) LOG(INFO) Loading corpus: /aiffel/aiffel/sp_tokenizer/data/korean-english-park.train.ko.temp\n",
      "trainer_interface.cc(385) LOG(INFO) Loaded all 76908 sentences\n",
      "trainer_interface.cc(400) LOG(INFO) Adding meta_piece: <unk>\n",
      "trainer_interface.cc(400) LOG(INFO) Adding meta_piece: <s>\n",
      "trainer_interface.cc(400) LOG(INFO) Adding meta_piece: </s>\n",
      "trainer_interface.cc(405) LOG(INFO) Normalizing sentences...\n",
      "trainer_interface.cc(466) LOG(INFO) all chars count=4996369\n",
      "trainer_interface.cc(477) LOG(INFO) Done: 99.95% characters are covered.\n",
      "trainer_interface.cc(487) LOG(INFO) Alphabet size=1317\n",
      "trainer_interface.cc(488) LOG(INFO) Final character coverage=0.9995\n",
      "trainer_interface.cc(520) LOG(INFO) Done! preprocessed 76908 sentences.\n",
      "unigram_model_trainer.cc(139) LOG(INFO) Making suffix array...\n",
      "unigram_model_trainer.cc(143) LOG(INFO) Extracting frequent sub strings...\n",
      "unigram_model_trainer.cc(194) LOG(INFO) Initialized 174340 seed sentencepieces\n",
      "trainer_interface.cc(526) LOG(INFO) Tokenizing input sentences with whitespace: 76908\n",
      "trainer_interface.cc(537) LOG(INFO) Done! 237965\n",
      "unigram_model_trainer.cc(489) LOG(INFO) Using 237965 sentences for EM training\n",
      "unigram_model_trainer.cc(505) LOG(INFO) EM sub_iter=0 size=92555 obj=14.853 num_tokens=523272 num_tokens/piece=5.65363\n",
      "unigram_model_trainer.cc(505) LOG(INFO) EM sub_iter=1 size=82083 obj=13.516 num_tokens=525776 num_tokens/piece=6.40542\n",
      "unigram_model_trainer.cc(505) LOG(INFO) EM sub_iter=0 size=61555 obj=13.5533 num_tokens=546907 num_tokens/piece=8.88485\n",
      "unigram_model_trainer.cc(505) LOG(INFO) EM sub_iter=1 size=61506 obj=13.5101 num_tokens=547350 num_tokens/piece=8.89913\n",
      "unigram_model_trainer.cc(505) LOG(INFO) EM sub_iter=0 size=46126 obj=13.6926 num_tokens=575369 num_tokens/piece=12.4739\n",
      "unigram_model_trainer.cc(505) LOG(INFO) EM sub_iter=1 size=46126 obj=13.6493 num_tokens=575466 num_tokens/piece=12.476\n",
      "unigram_model_trainer.cc(505) LOG(INFO) EM sub_iter=0 size=34594 obj=13.8894 num_tokens=606014 num_tokens/piece=17.5179\n",
      "unigram_model_trainer.cc(505) LOG(INFO) EM sub_iter=1 size=34594 obj=13.8387 num_tokens=606012 num_tokens/piece=17.5178\n",
      "unigram_model_trainer.cc(505) LOG(INFO) EM sub_iter=0 size=25945 obj=14.1301 num_tokens=637532 num_tokens/piece=24.5724\n",
      "unigram_model_trainer.cc(505) LOG(INFO) EM sub_iter=1 size=25945 obj=14.0747 num_tokens=637568 num_tokens/piece=24.5738\n",
      "unigram_model_trainer.cc(505) LOG(INFO) EM sub_iter=0 size=19458 obj=14.4091 num_tokens=670960 num_tokens/piece=34.4825\n",
      "unigram_model_trainer.cc(505) LOG(INFO) EM sub_iter=1 size=19458 obj=14.3468 num_tokens=670999 num_tokens/piece=34.4845\n",
      "unigram_model_trainer.cc(505) LOG(INFO) EM sub_iter=0 size=14593 obj=14.7196 num_tokens=705636 num_tokens/piece=48.3544\n",
      "unigram_model_trainer.cc(505) LOG(INFO) EM sub_iter=1 size=14593 obj=14.648 num_tokens=705645 num_tokens/piece=48.355\n",
      "unigram_model_trainer.cc(505) LOG(INFO) EM sub_iter=0 size=10944 obj=15.0875 num_tokens=741620 num_tokens/piece=67.765\n",
      "unigram_model_trainer.cc(505) LOG(INFO) EM sub_iter=1 size=10944 obj=15.007 num_tokens=741624 num_tokens/piece=67.7654\n",
      "unigram_model_trainer.cc(505) LOG(INFO) EM sub_iter=0 size=8800 obj=15.3757 num_tokens=769363 num_tokens/piece=87.4276\n",
      "unigram_model_trainer.cc(505) LOG(INFO) EM sub_iter=1 size=8800 obj=15.307 num_tokens=769367 num_tokens/piece=87.4281\n",
      "trainer_interface.cc(615) LOG(INFO) Saving model: korean_spm.model\n",
      "trainer_interface.cc(626) LOG(INFO) Saving vocabs: korean_spm.vocab\n"
     ]
    }
   ],
   "source": [
    "vocab_size = 8000\n",
    "\n",
    "spm.SentencePieceTrainer.Train(\n",
    "    '--input={} --model_prefix=korean_spm --vocab_size={}'.format(temp_file, vocab_size)    \n",
    ")"
   ]
  },
  {
   "cell_type": "code",
   "execution_count": 76,
   "id": "9d5f4201",
   "metadata": {},
   "outputs": [],
   "source": [
    "# 위 Train에서  --model_type = unigram이 디폴트 적용되어 있습니다. \n",
    "# --model_type = bpe로 옵션을 주어 변경할 수 있습니다."
   ]
  },
  {
   "cell_type": "markdown",
   "id": "b1038b1d",
   "metadata": {},
   "source": [
    "<br>"
   ]
  },
  {
   "cell_type": "code",
   "execution_count": 77,
   "id": "76c92f02",
   "metadata": {},
   "outputs": [
    {
     "name": "stdout",
     "output_type": "stream",
     "text": [
      "-rw-r--r-- 1 root root 376816 Aug 16 07:50 korean_spm.model\r\n",
      "-rw-r--r-- 1 root root 146213 Aug 16 07:50 korean_spm.vocab\r\n"
     ]
    }
   ],
   "source": [
    "!ls -l korean_spm*"
   ]
  },
  {
   "cell_type": "code",
   "execution_count": 78,
   "id": "70a29b08",
   "metadata": {},
   "outputs": [],
   "source": [
    "# 위 코드를 실행하면 정상적으로 SentencePiece 모델 학습이 완료된 후\n",
    "# korean_spm.model 파일과 korean_spm.vocab vocabulary 파일이 생성됨을 확인할 수 있음."
   ]
  },
  {
   "cell_type": "markdown",
   "id": "91ab0b3b",
   "metadata": {},
   "source": [
    "<br>"
   ]
  },
  {
   "cell_type": "markdown",
   "id": "ac483abc",
   "metadata": {},
   "source": [
    "#### 학습된 SentencePiece 모델 활용 확인\n",
    "<br>"
   ]
  },
  {
   "cell_type": "code",
   "execution_count": 79,
   "id": "91e6b4b8",
   "metadata": {},
   "outputs": [
    {
     "data": {
      "text/plain": [
       "True"
      ]
     },
     "execution_count": 79,
     "metadata": {},
     "output_type": "execute_result"
    }
   ],
   "source": [
    "s = spm.SentencePieceProcessor()\n",
    "s.Load('korean_spm.model')"
   ]
  },
  {
   "cell_type": "markdown",
   "id": "95e265fe",
   "metadata": {},
   "source": [
    "<br>"
   ]
  },
  {
   "cell_type": "code",
   "execution_count": 80,
   "id": "a985b862",
   "metadata": {},
   "outputs": [],
   "source": [
    "# SentencePiece를 활용한 sentence -> encoding"
   ]
  },
  {
   "cell_type": "code",
   "execution_count": 81,
   "id": "cd11cef5",
   "metadata": {},
   "outputs": [
    {
     "name": "stdout",
     "output_type": "stream",
     "text": [
      "[1243, 11, 302, 7, 3608, 11, 287, 38, 3]\n"
     ]
    }
   ],
   "source": [
    "tokensIDs = s.EncodeAsIds('아버지가방에들어가신다.')\n",
    "print(tokensIDs)"
   ]
  },
  {
   "cell_type": "markdown",
   "id": "069c76d1",
   "metadata": {},
   "source": [
    "<br>"
   ]
  },
  {
   "cell_type": "code",
   "execution_count": 82,
   "id": "dd962e8d",
   "metadata": {},
   "outputs": [],
   "source": [
    "# SentencePiece를 활용한 sentence -> encoded pieces"
   ]
  },
  {
   "cell_type": "code",
   "execution_count": 83,
   "id": "1ad2ce0f",
   "metadata": {},
   "outputs": [
    {
     "name": "stdout",
     "output_type": "stream",
     "text": [
      "['▁아버지', '가', '방', '에', '들어', '가', '신', '다', '.']\n"
     ]
    }
   ],
   "source": [
    "print(s.SampleEncodeAsPieces('아버지가방에들어가신다.',1, 0.0))"
   ]
  },
  {
   "cell_type": "markdown",
   "id": "7fa34cc4",
   "metadata": {},
   "source": [
    "<br>"
   ]
  },
  {
   "cell_type": "code",
   "execution_count": 84,
   "id": "6f2e90f5",
   "metadata": {},
   "outputs": [],
   "source": [
    "# SentencePiece를 활용한 encoding -> sentence 복원"
   ]
  },
  {
   "cell_type": "code",
   "execution_count": 85,
   "id": "6c9b79b8",
   "metadata": {},
   "outputs": [
    {
     "name": "stdout",
     "output_type": "stream",
     "text": [
      "아버지가방에들어가신다.\n"
     ]
    }
   ],
   "source": [
    "print(s.DecodeIds(tokensIDs))"
   ]
  },
  {
   "cell_type": "markdown",
   "id": "bbc16c4b",
   "metadata": {},
   "source": [
    "<br>"
   ]
  },
  {
   "cell_type": "code",
   "execution_count": 86,
   "id": "8af04476",
   "metadata": {},
   "outputs": [],
   "source": [
    "# SentencePiece의 토크나이징 실력이 나쁘지 않음을 확인"
   ]
  },
  {
   "cell_type": "markdown",
   "id": "ead872c0",
   "metadata": {},
   "source": [
    "<br><br>"
   ]
  },
  {
   "cell_type": "markdown",
   "id": "395a02d4",
   "metadata": {},
   "source": [
    "### Step 3. Tokenizer 함수 작성\n",
    "<br>"
   ]
  },
  {
   "cell_type": "markdown",
   "id": "129d070b",
   "metadata": {},
   "source": [
    "#### 위에서 훈련시킨 SentencePiece를 활용하여 sp_tokenize() 함수를 정의할 것입니다.\n",
    "\n",
    "<br>"
   ]
  },
  {
   "cell_type": "code",
   "execution_count": 87,
   "id": "3da5fb3e",
   "metadata": {},
   "outputs": [],
   "source": [
    "# 1. 매개변수로 토큰화된 문장의 list를 전달하는 대신 온전한 문장의 list 를 전달합니다.\n",
    "# 2. 생성된 vocab 파일을 읽어와 { <word> : <idx> } 형태를 가지는 word_index 사전과\n",
    "#    <idx> : <word>} 형태를 가지는 index_word 사전을 생성하고 함께 반환합니다.\n",
    "# 3. 리턴값인 tensor 는 앞의 함수와 동일하게 토큰화한 후 Encoding된 문장입니다. \n",
    "#   (바로 학습에 사용할 수 있게 Padding)"
   ]
  },
  {
   "cell_type": "code",
   "execution_count": 88,
   "id": "7d7a9ffe",
   "metadata": {},
   "outputs": [],
   "source": [
    "def sp_tokenize(s, corpus): \n",
    "    tensor = []\n",
    "    \n",
    "    for sen in corpus:\n",
    "        tensor.append(s.EncodeAsIds(sen))\n",
    "        \n",
    "    with open(\"./korean_spm.vocab\", 'r') as f:\n",
    "        vocab = f.readlines()\n",
    "        \n",
    "    word_index = {}\n",
    "    index_word = {}\n",
    "    \n",
    "    for idx, line in enumerate(vocab):\n",
    "        word = line.split(\"\\t\")[0]\n",
    "\n",
    "        word_index.update({word:idx})\n",
    "        index_word.update({idx:word})\n",
    "        \n",
    "    tensor = tf.keras.preprocessing.sequence.pad_sequences(tensor, padding='post')\n",
    "    \n",
    "    return tensor, word_index, index_word"
   ]
  },
  {
   "cell_type": "markdown",
   "id": "6af17592",
   "metadata": {},
   "source": [
    "<br><br>"
   ]
  },
  {
   "cell_type": "markdown",
   "id": "ee6e628c",
   "metadata": {},
   "source": [
    "### Step 4. 네이버 영화리뷰 감정 분석 문제에 SentencePiece 적용해 보기\n",
    "<br>"
   ]
  },
  {
   "cell_type": "markdown",
   "id": "1a2a9961",
   "metadata": {},
   "source": [
    "#### 1) 네이버 영화리뷰 감정 분석 코퍼스에 SentencePiece를 적용시킨 모델 학습하기\n",
    "<br>"
   ]
  },
  {
   "cell_type": "markdown",
   "id": "2f504deb",
   "metadata": {},
   "source": [
    "##### 데이터 준비와 확인\n",
    "<br>"
   ]
  },
  {
   "cell_type": "code",
   "execution_count": 89,
   "id": "c9a6cce7",
   "metadata": {},
   "outputs": [],
   "source": [
    "# 데이터셋: 네이버 영화의 댓글을 모아 구성된 Naver sentiment movie corpus\n",
    "# 데이터 다운로드 없이 Cloud shell에서 해당 파일의 심볼릭 링크를 연결\n",
    "# $ ln -s ~/data/*.txt ~/aiffel/sentiment_classification/data"
   ]
  },
  {
   "cell_type": "code",
   "execution_count": 90,
   "id": "02aae6d1",
   "metadata": {},
   "outputs": [],
   "source": [
    "import pandas as pd\n",
    "\n",
    "train_data = pd.read_table('./data/ratings_train.txt')"
   ]
  },
  {
   "cell_type": "code",
   "execution_count": 91,
   "id": "e7e1f250",
   "metadata": {},
   "outputs": [
    {
     "data": {
      "text/html": [
       "<div>\n",
       "<style scoped>\n",
       "    .dataframe tbody tr th:only-of-type {\n",
       "        vertical-align: middle;\n",
       "    }\n",
       "\n",
       "    .dataframe tbody tr th {\n",
       "        vertical-align: top;\n",
       "    }\n",
       "\n",
       "    .dataframe thead th {\n",
       "        text-align: right;\n",
       "    }\n",
       "</style>\n",
       "<table border=\"1\" class=\"dataframe\">\n",
       "  <thead>\n",
       "    <tr style=\"text-align: right;\">\n",
       "      <th></th>\n",
       "      <th>id</th>\n",
       "      <th>document</th>\n",
       "      <th>label</th>\n",
       "    </tr>\n",
       "  </thead>\n",
       "  <tbody>\n",
       "    <tr>\n",
       "      <th>0</th>\n",
       "      <td>9976970</td>\n",
       "      <td>아 더빙.. 진짜 짜증나네요 목소리</td>\n",
       "      <td>0</td>\n",
       "    </tr>\n",
       "    <tr>\n",
       "      <th>1</th>\n",
       "      <td>3819312</td>\n",
       "      <td>흠...포스터보고 초딩영화줄....오버연기조차 가볍지 않구나</td>\n",
       "      <td>1</td>\n",
       "    </tr>\n",
       "    <tr>\n",
       "      <th>2</th>\n",
       "      <td>10265843</td>\n",
       "      <td>너무재밓었다그래서보는것을추천한다</td>\n",
       "      <td>0</td>\n",
       "    </tr>\n",
       "    <tr>\n",
       "      <th>3</th>\n",
       "      <td>9045019</td>\n",
       "      <td>교도소 이야기구먼 ..솔직히 재미는 없다..평점 조정</td>\n",
       "      <td>0</td>\n",
       "    </tr>\n",
       "    <tr>\n",
       "      <th>4</th>\n",
       "      <td>6483659</td>\n",
       "      <td>사이몬페그의 익살스런 연기가 돋보였던 영화!스파이더맨에서 늙어보이기만 했던 커스틴 ...</td>\n",
       "      <td>1</td>\n",
       "    </tr>\n",
       "  </tbody>\n",
       "</table>\n",
       "</div>"
      ],
      "text/plain": [
       "         id                                           document  label\n",
       "0   9976970                                아 더빙.. 진짜 짜증나네요 목소리      0\n",
       "1   3819312                  흠...포스터보고 초딩영화줄....오버연기조차 가볍지 않구나      1\n",
       "2  10265843                                  너무재밓었다그래서보는것을추천한다      0\n",
       "3   9045019                      교도소 이야기구먼 ..솔직히 재미는 없다..평점 조정      0\n",
       "4   6483659  사이몬페그의 익살스런 연기가 돋보였던 영화!스파이더맨에서 늙어보이기만 했던 커스틴 ...      1"
      ]
     },
     "execution_count": 91,
     "metadata": {},
     "output_type": "execute_result"
    }
   ],
   "source": [
    "train_data.head()"
   ]
  },
  {
   "cell_type": "markdown",
   "id": "893970ea",
   "metadata": {},
   "source": [
    "<br>"
   ]
  },
  {
   "cell_type": "code",
   "execution_count": 92,
   "id": "892f1523",
   "metadata": {},
   "outputs": [],
   "source": [
    "path_to_file = './data/ratings_train.txt'\n",
    "num_lines_to_read = 5"
   ]
  },
  {
   "cell_type": "code",
   "execution_count": 93,
   "id": "e5a4968a",
   "metadata": {},
   "outputs": [],
   "source": [
    "with open(path_to_file, \"r\") as f:\n",
    "    raw = f.read().splitlines()"
   ]
  },
  {
   "cell_type": "code",
   "execution_count": 94,
   "id": "4643117a",
   "metadata": {},
   "outputs": [
    {
     "name": "stdout",
     "output_type": "stream",
     "text": [
      "Data Size: 150001\n"
     ]
    }
   ],
   "source": [
    "print(\"Data Size:\", len(raw))"
   ]
  },
  {
   "cell_type": "code",
   "execution_count": 95,
   "id": "c88036b0",
   "metadata": {},
   "outputs": [
    {
     "name": "stdout",
     "output_type": "stream",
     "text": [
      "Example:\n",
      ">> id\tdocument\tlabel\n",
      ">> 3989148\t약탈자를 위한 변명, 이라. 저놈들은 착한놈들 절대 아닌걸요.\t1\n",
      ">> 4805788\t이 영화가 왜 이렇게 저평가 받는지 모르겠다\t1\n",
      ">> 8317483\t백봉기 언제나오나요?\t1\n",
      ">> 9801316\t아햏햏 아햏햏 아햏햏.\t1\n"
     ]
    }
   ],
   "source": [
    "print(\"Example:\")\n",
    "for sen in raw[0:100][::20]: print(\">>\", sen)"
   ]
  },
  {
   "cell_type": "code",
   "execution_count": 96,
   "id": "4211e081",
   "metadata": {},
   "outputs": [
    {
     "data": {
      "text/plain": [
       "['id\\tdocument\\tlabel',\n",
       " '9976970\\t아 더빙.. 진짜 짜증나네요 목소리\\t0',\n",
       " '3819312\\t흠...포스터보고 초딩영화줄....오버연기조차 가볍지 않구나\\t1',\n",
       " '10265843\\t너무재밓었다그래서보는것을추천한다\\t0',\n",
       " '9045019\\t교도소 이야기구먼 ..솔직히 재미는 없다..평점 조정\\t0']"
      ]
     },
     "execution_count": 96,
     "metadata": {},
     "output_type": "execute_result"
    }
   ],
   "source": [
    "with open(path_to_file, 'r', encoding='utf-8') as file:\n",
    "    lines_preview = [file.readline().strip() for _ in range(num_lines_to_read)]\n",
    "\n",
    "lines_preview"
   ]
  },
  {
   "cell_type": "code",
   "execution_count": 97,
   "id": "bbc5cad0",
   "metadata": {},
   "outputs": [],
   "source": [
    "sentences = []\n",
    "with open(path_to_file, 'r', encoding='utf-8') as file:\n",
    "    next(file)  # Skip the header line\n",
    "    for line in file:\n",
    "        parts = line.strip().split('\\t')\n",
    "        if len(parts) > 1:  # Ensure that the line has the required parts\n",
    "            sentences.append(parts[1])"
   ]
  },
  {
   "cell_type": "code",
   "execution_count": 98,
   "id": "acf850c0",
   "metadata": {},
   "outputs": [
    {
     "name": "stdout",
     "output_type": "stream",
     "text": [
      "Example:\n",
      ">> 아 더빙.. 진짜 짜증나네요 목소리\n",
      ">> 나름 심오한 뜻도 있는 듯. 그냥 학생이 선생과 놀아나는 영화는 절대 아님\n",
      ">> 단순하면서 은은한 매력의 영화\n",
      ">> 보는내내 그대로 들어맞는 예측 카리스마 없는 악역\n",
      ">> 뭐냐..시작하고 3분만에 나왔다. 리플릿 사진 보며 불안하더니만..\n"
     ]
    }
   ],
   "source": [
    "print(\"Example:\")\n",
    "for sen in sentences[0:100][::20]:\n",
    "    print(\">>\", sen)"
   ]
  },
  {
   "cell_type": "markdown",
   "id": "e934620a",
   "metadata": {},
   "source": [
    "<br><br>"
   ]
  },
  {
   "cell_type": "markdown",
   "id": "44fc662f",
   "metadata": {},
   "source": [
    "##### 데이터 분석\n",
    "<br>"
   ]
  },
  {
   "cell_type": "code",
   "execution_count": 114,
   "id": "0b57de97",
   "metadata": {},
   "outputs": [
    {
     "name": "stdout",
     "output_type": "stream",
     "text": [
      "Data Size: 150001\n"
     ]
    }
   ],
   "source": [
    "cleaned_corpus = list(set(raw))  \n",
    "print(\"Data Size:\", len(cleaned_corpus))"
   ]
  },
  {
   "cell_type": "code",
   "execution_count": 115,
   "id": "613293e8",
   "metadata": {},
   "outputs": [],
   "source": [
    "min_len = 999\n",
    "max_len = 0\n",
    "sum_len = 0\n",
    "\n",
    "for sen in raw:\n",
    "    length = len(sen)\n",
    "    if min_len > length: min_len = length\n",
    "    if max_len < length: max_len = length\n",
    "    sum_len += length"
   ]
  },
  {
   "cell_type": "code",
   "execution_count": 116,
   "id": "a51c84e0",
   "metadata": {},
   "outputs": [
    {
     "name": "stdout",
     "output_type": "stream",
     "text": [
      "문장의 최단 길이: 8\n",
      "문장의 최장 길이: 168\n",
      "문장의 평균 길이: 45\n"
     ]
    }
   ],
   "source": [
    "print(\"문장의 최단 길이:\", min_len)\n",
    "print(\"문장의 최장 길이:\", max_len)\n",
    "print(\"문장의 평균 길이:\", sum_len // len(raw))"
   ]
  },
  {
   "cell_type": "markdown",
   "id": "51bd97cd",
   "metadata": {},
   "source": [
    "<br>"
   ]
  },
  {
   "cell_type": "code",
   "execution_count": 117,
   "id": "98f9db68",
   "metadata": {},
   "outputs": [],
   "source": [
    "sentence_length = np.zeros((max_len), dtype=int)\n",
    "\n",
    "for sen in raw:\n",
    "    sentence_length[len(sen)-1] += 1"
   ]
  },
  {
   "cell_type": "code",
   "execution_count": 118,
   "id": "193283b6",
   "metadata": {},
   "outputs": [
    {
     "data": {
      "image/png": "[encoded data removed]",
      "text/plain": [
       "<Figure size 432x288 with 1 Axes>"
      ]
     },
     "metadata": {
      "needs_background": "light"
     },
     "output_type": "display_data"
    }
   ],
   "source": [
    "plt.bar(range(max_len), sentence_length, width=1.0)\n",
    "plt.title(\"Sentence Length Distribution\")\n",
    "plt.show()"
   ]
  },
  {
   "cell_type": "markdown",
   "id": "2f94db95",
   "metadata": {},
   "source": [
    "<br>"
   ]
  },
  {
   "cell_type": "code",
   "execution_count": 119,
   "id": "46621eaa",
   "metadata": {},
   "outputs": [],
   "source": [
    "# 1) 길이가 150 이상의 데이터 제거 (큰 메모리 차지, 학습 시간 오래 걸림)\n",
    "# 2) 길이가 10 미만인 데이터 제거 (너무 짧은 데이터는 오히려 노이즈로 작용)"
   ]
  },
  {
   "cell_type": "code",
   "execution_count": 123,
   "id": "519ef1d1",
   "metadata": {},
   "outputs": [],
   "source": [
    "max_len = 120\n",
    "min_len = 10\n",
    "\n",
    "# 길이 조건에 맞는 문장만 선택함.\n",
    "filtered_corpus = [s for s in cleaned_corpus if (len(s) < max_len) & (len(s) >= min_len)]"
   ]
  },
  {
   "cell_type": "markdown",
   "id": "3aff92f5",
   "metadata": {},
   "source": [
    "<br>"
   ]
  },
  {
   "cell_type": "code",
   "execution_count": 124,
   "id": "6fb4388d",
   "metadata": {},
   "outputs": [],
   "source": [
    "# 분포도를 다시 그려봅니다.\n",
    "sentence_length = np.zeros((max_len), dtype=int)\n",
    "\n",
    "for sen in filtered_corpus:\n",
    "    sentence_length[len(sen)-1] += 1"
   ]
  },
  {
   "cell_type": "code",
   "execution_count": 125,
   "id": "c1992da1",
   "metadata": {},
   "outputs": [
    {
     "data": {
      "image/png": "[encoded data removed]",
      "text/plain": [
       "<Figure size 432x288 with 1 Axes>"
      ]
     },
     "metadata": {
      "needs_background": "light"
     },
     "output_type": "display_data"
    }
   ],
   "source": [
    "plt.bar(range(max_len), sentence_length, width=1.0)\n",
    "plt.title(\"Sentence Length Distribution\")\n",
    "plt.show()"
   ]
  },
  {
   "cell_type": "markdown",
   "id": "b5631616",
   "metadata": {},
   "source": [
    "<br>"
   ]
  },
  {
   "cell_type": "markdown",
   "id": "ebadb5ed",
   "metadata": {},
   "source": [
    "##### SentencePiece를 적용시킨 모델 학습\n",
    "<br>"
   ]
  },
  {
   "cell_type": "code",
   "execution_count": 126,
   "id": "d7b32418",
   "metadata": {},
   "outputs": [],
   "source": [
    "# tokenize() 함수\n",
    "# 토크나이저 내부적으로 단어사전과 토크나이저 기능을 corpus에 맞춤형으로 자동 생성해줌."
   ]
  },
  {
   "cell_type": "code",
   "execution_count": 127,
   "id": "721ac530",
   "metadata": {},
   "outputs": [],
   "source": [
    "def tokenize(corpus):  # corpus: Tokenized Sentence's List\n",
    "    tokenizer = tf.keras.preprocessing.text.Tokenizer(filters='')\n",
    "    tokenizer.fit_on_texts(corpus)\n",
    "    \n",
    "    tensor = tokenizer.texts_to_sequences(corpus)\n",
    "    tensor = tf.keras.preprocessing.sequence.pad_sequences(tensor, padding='post')\n",
    "    \n",
    "    return tensor, tokenizer"
   ]
  },
  {
   "cell_type": "markdown",
   "id": "21759f11",
   "metadata": {},
   "source": [
    "<br>"
   ]
  },
  {
   "cell_type": "code",
   "execution_count": 108,
   "id": "0a8d09f5",
   "metadata": {},
   "outputs": [],
   "source": [
    "# 이를 위해서 SentencePiece 모델을 학습하는 과정을 거쳐야 합니다."
   ]
  },
  {
   "cell_type": "code",
   "execution_count": 109,
   "id": "f0134623",
   "metadata": {},
   "outputs": [],
   "source": [
    "# 데이터 확인"
   ]
  },
  {
   "cell_type": "code",
   "execution_count": 128,
   "id": "16ac5847",
   "metadata": {},
   "outputs": [],
   "source": [
    "import sentencepiece as spm\n",
    "import os"
   ]
  },
  {
   "cell_type": "code",
   "execution_count": 129,
   "id": "2bf07b3c",
   "metadata": {},
   "outputs": [],
   "source": [
    "temp_file = './data/ratings_train_temp.txt'"
   ]
  },
  {
   "cell_type": "code",
   "execution_count": 130,
   "id": "3e5afc1e",
   "metadata": {},
   "outputs": [],
   "source": [
    "with open(temp_file, 'w') as f:\n",
    "    for row in filtered_corpus:   # 이전에 나왔던 정제했던 corpus를 활용해서 진행해야 합니다.\n",
    "        f.write(str(row) + '\\n')"
   ]
  },
  {
   "cell_type": "markdown",
   "id": "0cf3bb31",
   "metadata": {},
   "source": [
    "<br>"
   ]
  },
  {
   "cell_type": "code",
   "execution_count": 131,
   "id": "1c0b6491",
   "metadata": {},
   "outputs": [
    {
     "name": "stderr",
     "output_type": "stream",
     "text": [
      "sentencepiece_trainer.cc(177) LOG(INFO) Running command: --input=./data/ratings_train_temp.txt --model_prefix=naver_spm --vocab_size=8000\n",
      "sentencepiece_trainer.cc(77) LOG(INFO) Starts training with : \n",
      "trainer_spec {\n",
      "  input: ./data/ratings_train_temp.txt\n",
      "  input_format: \n",
      "  model_prefix: naver_spm\n",
      "  model_type: UNIGRAM\n",
      "  vocab_size: 8000\n",
      "  self_test_sample_size: 0\n",
      "  character_coverage: 0.9995\n",
      "  input_sentence_size: 0\n",
      "  shuffle_input_sentence: 1\n",
      "  seed_sentencepiece_size: 1000000\n",
      "  shrinking_factor: 0.75\n",
      "  max_sentence_length: 4192\n",
      "  num_threads: 16\n",
      "  num_sub_iterations: 2\n",
      "  max_sentencepiece_length: 16\n",
      "  split_by_unicode_script: 1\n",
      "  split_by_number: 1\n",
      "  split_by_whitespace: 1\n",
      "  split_digits: 0\n",
      "  treat_whitespace_as_suffix: 0\n",
      "  allow_whitespace_only_pieces: 0\n",
      "  required_chars: \n",
      "  byte_fallback: 0\n",
      "  vocabulary_output_piece_score: 1\n",
      "  train_extremely_large_corpus: 0\n",
      "  hard_vocab_limit: 1\n",
      "  use_all_vocab: 0\n",
      "  unk_id: 0\n",
      "  bos_id: 1\n",
      "  eos_id: 2\n",
      "  pad_id: -1\n",
      "  unk_piece: <unk>\n",
      "  bos_piece: <s>\n",
      "  eos_piece: </s>\n",
      "  pad_piece: <pad>\n",
      "  unk_surface:  ⁇ \n",
      "}\n",
      "normalizer_spec {\n",
      "  name: nmt_nfkc\n",
      "  add_dummy_prefix: 1\n",
      "  remove_extra_whitespaces: 1\n",
      "  escape_whitespaces: 1\n",
      "  normalization_rule_tsv: \n",
      "}\n",
      "denormalizer_spec {}\n",
      "trainer_interface.cc(329) LOG(INFO) SentenceIterator is not specified. Using MultiFileSentenceIterator.\n",
      "trainer_interface.cc(178) LOG(INFO) Loading corpus: ./data/ratings_train_temp.txt\n",
      "trainer_interface.cc(385) LOG(INFO) Loaded all 142825 sentences\n",
      "trainer_interface.cc(400) LOG(INFO) Adding meta_piece: <unk>\n",
      "trainer_interface.cc(400) LOG(INFO) Adding meta_piece: <s>\n",
      "trainer_interface.cc(400) LOG(INFO) Adding meta_piece: </s>\n",
      "trainer_interface.cc(405) LOG(INFO) Normalizing sentences...\n",
      "trainer_interface.cc(466) LOG(INFO) all chars count=5927842\n",
      "trainer_interface.cc(477) LOG(INFO) Done: 99.9501% characters are covered.\n",
      "trainer_interface.cc(487) LOG(INFO) Alphabet size=1628\n",
      "trainer_interface.cc(488) LOG(INFO) Final character coverage=0.999501\n",
      "trainer_interface.cc(520) LOG(INFO) Done! preprocessed 142825 sentences.\n",
      "unigram_model_trainer.cc(139) LOG(INFO) Making suffix array...\n",
      "unigram_model_trainer.cc(143) LOG(INFO) Extracting frequent sub strings...\n",
      "unigram_model_trainer.cc(194) LOG(INFO) Initialized 443747 seed sentencepieces\n",
      "trainer_interface.cc(526) LOG(INFO) Tokenizing input sentences with whitespace: 142825\n",
      "trainer_interface.cc(537) LOG(INFO) Done! 445209\n",
      "unigram_model_trainer.cc(489) LOG(INFO) Using 445209 sentences for EM training\n",
      "unigram_model_trainer.cc(505) LOG(INFO) EM sub_iter=0 size=211498 obj=15.3322 num_tokens=995415 num_tokens/piece=4.7065\n",
      "unigram_model_trainer.cc(505) LOG(INFO) EM sub_iter=1 size=190931 obj=14.2308 num_tokens=1002122 num_tokens/piece=5.24861\n",
      "unigram_model_trainer.cc(505) LOG(INFO) EM sub_iter=0 size=143089 obj=14.2769 num_tokens=1027098 num_tokens/piece=7.17804\n",
      "unigram_model_trainer.cc(505) LOG(INFO) EM sub_iter=1 size=142420 obj=14.1927 num_tokens=1028159 num_tokens/piece=7.2192\n",
      "unigram_model_trainer.cc(505) LOG(INFO) EM sub_iter=0 size=106809 obj=14.3436 num_tokens=1061138 num_tokens/piece=9.93491\n",
      "unigram_model_trainer.cc(505) LOG(INFO) EM sub_iter=1 size=106674 obj=14.2687 num_tokens=1061703 num_tokens/piece=9.95278\n",
      "unigram_model_trainer.cc(505) LOG(INFO) EM sub_iter=0 size=80004 obj=14.4164 num_tokens=1093695 num_tokens/piece=13.6705\n",
      "unigram_model_trainer.cc(505) LOG(INFO) EM sub_iter=1 size=79924 obj=14.3599 num_tokens=1093904 num_tokens/piece=13.6868\n",
      "unigram_model_trainer.cc(505) LOG(INFO) EM sub_iter=0 size=59942 obj=14.5642 num_tokens=1132421 num_tokens/piece=18.8919\n",
      "unigram_model_trainer.cc(505) LOG(INFO) EM sub_iter=1 size=59942 obj=14.5109 num_tokens=1132574 num_tokens/piece=18.8945\n",
      "unigram_model_trainer.cc(505) LOG(INFO) EM sub_iter=0 size=44956 obj=14.7861 num_tokens=1180359 num_tokens/piece=26.2559\n",
      "unigram_model_trainer.cc(505) LOG(INFO) EM sub_iter=1 size=44956 obj=14.7261 num_tokens=1180750 num_tokens/piece=26.2646\n",
      "unigram_model_trainer.cc(505) LOG(INFO) EM sub_iter=0 size=33717 obj=15.0376 num_tokens=1233727 num_tokens/piece=36.5907\n",
      "unigram_model_trainer.cc(505) LOG(INFO) EM sub_iter=1 size=33717 obj=14.9711 num_tokens=1234712 num_tokens/piece=36.6199\n",
      "unigram_model_trainer.cc(505) LOG(INFO) EM sub_iter=0 size=25287 obj=15.3196 num_tokens=1294940 num_tokens/piece=51.2097\n",
      "unigram_model_trainer.cc(505) LOG(INFO) EM sub_iter=1 size=25287 obj=15.2423 num_tokens=1295623 num_tokens/piece=51.2367\n",
      "unigram_model_trainer.cc(505) LOG(INFO) EM sub_iter=0 size=18965 obj=15.6124 num_tokens=1359309 num_tokens/piece=71.6746\n",
      "unigram_model_trainer.cc(505) LOG(INFO) EM sub_iter=1 size=18965 obj=15.5257 num_tokens=1359357 num_tokens/piece=71.6771\n",
      "unigram_model_trainer.cc(505) LOG(INFO) EM sub_iter=0 size=14223 obj=15.9258 num_tokens=1426740 num_tokens/piece=100.312\n",
      "unigram_model_trainer.cc(505) LOG(INFO) EM sub_iter=1 size=14223 obj=15.8218 num_tokens=1426813 num_tokens/piece=100.317\n",
      "unigram_model_trainer.cc(505) LOG(INFO) EM sub_iter=0 size=10667 obj=16.2525 num_tokens=1496240 num_tokens/piece=140.268\n",
      "unigram_model_trainer.cc(505) LOG(INFO) EM sub_iter=1 size=10667 obj=16.1503 num_tokens=1496249 num_tokens/piece=140.269\n",
      "unigram_model_trainer.cc(505) LOG(INFO) EM sub_iter=0 size=8800 obj=16.4642 num_tokens=1539213 num_tokens/piece=174.911\n",
      "unigram_model_trainer.cc(505) LOG(INFO) EM sub_iter=1 size=8800 obj=16.3965 num_tokens=1539217 num_tokens/piece=174.911\n",
      "trainer_interface.cc(615) LOG(INFO) Saving model: naver_spm.model\n",
      "trainer_interface.cc(626) LOG(INFO) Saving vocabs: naver_spm.vocab\n"
     ]
    }
   ],
   "source": [
    "vocab_size = 8000\n",
    "\n",
    "spm.SentencePieceTrainer.Train(\n",
    "    '--input={} --model_prefix=naver_spm --vocab_size={}'.format(temp_file, vocab_size)    \n",
    ")"
   ]
  },
  {
   "cell_type": "markdown",
   "id": "6f8bbddc",
   "metadata": {},
   "source": [
    "<br>"
   ]
  },
  {
   "cell_type": "code",
   "execution_count": 132,
   "id": "c8a789b4",
   "metadata": {},
   "outputs": [
    {
     "name": "stdout",
     "output_type": "stream",
     "text": [
      "-rw-r--r-- 1 root root 447980 Aug 16 05:45 naver_spm_bpe_12000.model\r\n",
      "-rw-r--r-- 1 root root 187220 Aug 16 05:45 naver_spm_bpe_12000.vocab\r\n",
      "-rw-r--r-- 1 root root 525321 Aug 16 05:33 naver_spm_bpe_16000.model\r\n",
      "-rw-r--r-- 1 root root 260561 Aug 16 05:33 naver_spm_bpe_16000.vocab\r\n",
      "-rw-r--r-- 1 root root 298727 Aug 16 05:37 naver_spm_bpe_4000.model\r\n",
      "-rw-r--r-- 1 root root  51971 Aug 16 05:37 naver_spm_bpe_4000.vocab\r\n",
      "-rw-r--r-- 1 root root 371898 Aug 16 05:37 naver_spm_bpe_8000.model\r\n",
      "-rw-r--r-- 1 root root 117142 Aug 16 05:37 naver_spm_bpe_8000.vocab\r\n",
      "-rw-r--r-- 1 root root 253305 Aug 16 05:33 naver_spm_char_16000.model\r\n",
      "-rw-r--r-- 1 root root  16825 Aug 16 05:33 naver_spm_char_16000.vocab\r\n",
      "-rw-r--r-- 1 root root 253304 Aug 16 05:33 naver_spm_char_4000.model\r\n",
      "-rw-r--r-- 1 root root  16825 Aug 16 05:33 naver_spm_char_4000.vocab\r\n",
      "-rw-r--r-- 1 root root 253304 Aug 16 05:33 naver_spm_char_8000.model\r\n",
      "-rw-r--r-- 1 root root  16825 Aug 16 05:33 naver_spm_char_8000.vocab\r\n",
      "-rw-r--r-- 1 root root 368268 Aug 16 07:55 naver_spm.model\r\n",
      "-rw-r--r-- 1 root root 455755 Aug 16 05:37 naver_spm_unigram_12000.model\r\n",
      "-rw-r--r-- 1 root root 228724 Aug 16 05:37 naver_spm_unigram_12000.vocab\r\n",
      "-rw-r--r-- 1 root root 535767 Aug 16 05:32 naver_spm_unigram_16000.model\r\n",
      "-rw-r--r-- 1 root root 312457 Aug 16 05:32 naver_spm_unigram_16000.vocab\r\n",
      "-rw-r--r-- 1 root root 300614 Aug 16 05:36 naver_spm_unigram_4000.model\r\n",
      "-rw-r--r-- 1 root root  66515 Aug 16 05:36 naver_spm_unigram_4000.vocab\r\n",
      "-rw-r--r-- 1 root root 376784 Aug 16 05:36 naver_spm_unigram_8000.model\r\n",
      "-rw-r--r-- 1 root root 146213 Aug 16 05:36 naver_spm_unigram_8000.vocab\r\n",
      "-rw-r--r-- 1 root root 137620 Aug 16 07:55 naver_spm.vocab\r\n",
      "-rw-r--r-- 1 root root 579850 Aug 16 05:33 naver_spm_word_16000.model\r\n",
      "-rw-r--r-- 1 root root 353346 Aug 16 05:33 naver_spm_word_16000.vocab\r\n",
      "-rw-r--r-- 1 root root 320135 Aug 16 05:33 naver_spm_word_4000.model\r\n",
      "-rw-r--r-- 1 root root  85919 Aug 16 05:33 naver_spm_word_4000.vocab\r\n",
      "-rw-r--r-- 1 root root 405454 Aug 16 05:33 naver_spm_word_8000.model\r\n",
      "-rw-r--r-- 1 root root 174893 Aug 16 05:33 naver_spm_word_8000.vocab\r\n"
     ]
    }
   ],
   "source": [
    "!ls -l naver_spm*"
   ]
  },
  {
   "cell_type": "code",
   "execution_count": 77,
   "id": "b26dcc01",
   "metadata": {},
   "outputs": [],
   "source": [
    "# 위 코드를 실행하면 정상적으로 SentencePiece 모델 학습이 완료된 후\n",
    "# naver_spm.model 파일과 naver_spm.vocab vocabulary 파일이 생성됨을 확인할 수 있음."
   ]
  },
  {
   "cell_type": "markdown",
   "id": "16ac3eaa",
   "metadata": {},
   "source": [
    "<br>"
   ]
  },
  {
   "cell_type": "markdown",
   "id": "af1f4f1e",
   "metadata": {},
   "source": [
    "##### 학습된 SentencePiece 모델 활용 확인\n",
    "<br>"
   ]
  },
  {
   "cell_type": "code",
   "execution_count": 78,
   "id": "380da141",
   "metadata": {},
   "outputs": [
    {
     "data": {
      "text/plain": [
       "True"
      ]
     },
     "execution_count": 78,
     "metadata": {},
     "output_type": "execute_result"
    }
   ],
   "source": [
    "s = spm.SentencePieceProcessor()\n",
    "s.Load('naver_spm.model')"
   ]
  },
  {
   "cell_type": "markdown",
   "id": "298730c1",
   "metadata": {},
   "source": [
    "<br>"
   ]
  },
  {
   "cell_type": "code",
   "execution_count": 79,
   "id": "1088a293",
   "metadata": {},
   "outputs": [],
   "source": [
    "# SentencePiece를 활용한 sentence -> encoding"
   ]
  },
  {
   "cell_type": "code",
   "execution_count": 133,
   "id": "5a0affb0",
   "metadata": {},
   "outputs": [
    {
     "name": "stdout",
     "output_type": "stream",
     "text": [
      "[43, 2766, 10, 1567, 68, 5758, 382, 356, 5, 75, 266, 3]\n"
     ]
    }
   ],
   "source": [
    "tokensIDs = s.EncodeAsIds('그영화는우리에게많은감동을주었다.')\n",
    "print(tokensIDs)"
   ]
  },
  {
   "cell_type": "markdown",
   "id": "44baf7b5",
   "metadata": {},
   "source": [
    "<br>"
   ]
  },
  {
   "cell_type": "code",
   "execution_count": 81,
   "id": "a7c2c60f",
   "metadata": {},
   "outputs": [],
   "source": [
    "# SentencePiece를 활용한 sentence -> encoded pieces"
   ]
  },
  {
   "cell_type": "code",
   "execution_count": 134,
   "id": "c1d75eb5",
   "metadata": {},
   "outputs": [
    {
     "name": "stdout",
     "output_type": "stream",
     "text": [
      "['▁그', '영화', '는', '우리', '에게', '많은', '감', '동', '을', '주', '었다', '.']\n"
     ]
    }
   ],
   "source": [
    "print(s.SampleEncodeAsPieces('그영화는우리에게많은감동을주었다.',1, 0.0))"
   ]
  },
  {
   "cell_type": "markdown",
   "id": "d30b9c85",
   "metadata": {},
   "source": [
    "<br>"
   ]
  },
  {
   "cell_type": "code",
   "execution_count": 83,
   "id": "0bce00cf",
   "metadata": {},
   "outputs": [],
   "source": [
    "# SentencePiece를 활용한 encoding -> sentence 복원"
   ]
  },
  {
   "cell_type": "code",
   "execution_count": 135,
   "id": "8984fb47",
   "metadata": {},
   "outputs": [
    {
     "name": "stdout",
     "output_type": "stream",
     "text": [
      "그영화는우리에게많은감동을주었다.\n"
     ]
    }
   ],
   "source": [
    "print(s.DecodeIds(tokensIDs))"
   ]
  },
  {
   "cell_type": "markdown",
   "id": "40a395e9",
   "metadata": {},
   "source": [
    "<br><br>"
   ]
  },
  {
   "cell_type": "markdown",
   "id": "3e786616",
   "metadata": {},
   "source": [
    "#### 2) 학습된 모델로 sp_tokenize() 메소드 구현하기\n",
    "<br>"
   ]
  },
  {
   "cell_type": "code",
   "execution_count": 136,
   "id": "af95e2d0",
   "metadata": {},
   "outputs": [],
   "source": [
    "def sp_tokenize(s, corpus): \n",
    "    tensor = []\n",
    "    \n",
    "    for sen in corpus:\n",
    "        tensor.append(s.EncodeAsIds(sen))\n",
    "        \n",
    "    with open(\"./naver_spm.vocab\", 'r') as f:\n",
    "        vocab = f.readlines()\n",
    "        \n",
    "    word_index = {}\n",
    "    index_word = {}\n",
    "    \n",
    "    for idx, line in enumerate(vocab):\n",
    "        word = line.split(\"\\t\")[0]\n",
    "\n",
    "        word_index.update({word:idx})\n",
    "        index_word.update({idx:word})\n",
    "        \n",
    "    tensor = tf.keras.preprocessing.sequence.pad_sequences(tensor, padding='post')\n",
    "    \n",
    "    return tensor, word_index, index_word"
   ]
  },
  {
   "cell_type": "markdown",
   "id": "05707f46",
   "metadata": {},
   "source": [
    "<br><br>"
   ]
  },
  {
   "cell_type": "markdown",
   "id": "75eea7ee",
   "metadata": {},
   "source": [
    "#### 3) 구현된 토크나이저를 적용하여 네이버 영화리뷰 감정 분석 모델을 재학습하기\n",
    "<br>"
   ]
  },
  {
   "cell_type": "code",
   "execution_count": 137,
   "id": "7c16d6ed",
   "metadata": {},
   "outputs": [],
   "source": [
    "tensor, word_index, index_word = sp_tokenize(s, filtered_corpus)"
   ]
  },
  {
   "cell_type": "code",
   "execution_count": 138,
   "id": "5c8d07ae",
   "metadata": {},
   "outputs": [
    {
     "name": "stdout",
     "output_type": "stream",
     "text": [
      "[[ 801  440 1150 ...    0    0    0]\n",
      " [ 121  281 2544 ...    0    0    0]\n",
      " [ 223 5123 4113 ...    0    0    0]\n",
      " ...\n",
      " [1067  440 2576 ...    0    0    0]\n",
      " [5261  440 3648 ...    0    0    0]\n",
      " [  99 3519 4388 ...    0    0    0]]\n",
      "{'<unk>': 0, '<s>': 1, '</s>': 2, '▁': 3, '▁1': 4, '▁0': 5, '.': 6, '▁9': 7, '..': 8, '이': 9, '▁영화': 10, '▁8': 11, '...': 12, '가': 13, '의': 14, '도': 15, '▁7': 16, '는': 17, ',': 18, '을': 19, '▁6': 20, '고': 21, '에': 22, '▁5': 23, '은': 24, '▁10': 25, '다': 26, '지': 27, '▁3': 28, '▁4': 29, '?': 30, '한': 31, '▁2': 32, '▁너무': 33, '!': 34, '를': 35, '▁정말': 36, '만': 37, '▁이': 38, '로': 39, '게': 40, '나': 41, '영화': 42, '~': 43, '▁진짜': 44, '어': 45, '과': 46, '기': 47, '리': 48, '라': 49, '네': 50, '점': 51, '아': 52, '하고': 53, '인': 54, '으로': 55, '▁잘': 56, '▁안': 57, '....': 58, '!!': 59, '▁그': 60, '에서': 61, '▁아': 62, '▁왜': 63, '해': 64, '와': 65, '들': 66, '서': 67, '네요': 68, '▁이런': 69, '▁다': 70, '▁더': 71, '요': 72, '자': 73, '스': 74, '▁수': 75, '하는': 76, '음': 77, '▁본': 78, '▁그냥': 79, '거': 80, '면': 81, '▁드라마': 82, '지만': 83, '하다': 84, '시': 85, '대': 86, '수': 87, '함': 88, '니': 89, '야': 90, '▁보고': 91, '▁내': 92, '하': 93, '▁평점': 94, '▁연기': 95, '사': 96, '하게': 97, '이다': 98, '▁한': 99, '일': 100, '▁최고': 101, '여': 102, '진': 103, '▁좀': 104, '우': 105, '주': 106, '▁이거': 107, '▁ᄏᄏ': 108, '▁영화를': 109, '던': 110, '▁쓰레기': 111, '드': 112, '미': 113, '▁최고의': 114, '할': 115, '▁못': 116, '는데': 117, '▁봤는데': 118, '데': 119, '보다': 120, '▁참': 121, '구': 122, '냐': 123, '안': 124, '1': 125, '▁완전': 126, '임': 127, '▁없다': 128, '정': 129, '▁없는': 130, '성': 131, '!!!': 132, '▁스토리': 133, 'ᄏᄏ': 134, '▁영화가': 135, '▁내가': 136, '▁영화는': 137, '▁이건': 138, '▁나': 139, '장': 140, '신': 141, '듯': 142, '▁다시': 143, '보': 144, '▁개': 145, '상': 146, '들이': 147, '^^': 148, '▁좋은': 149, '까지': 150, '▁있는': 151, '▁이게': 152, '해서': 153, '▁보는': 154, '중': 155, '▁난': 156, '적': 157, '마': 158, '▁이렇게': 159, '부': 160, '려': 161, '치': 162, '▁뭐': 163, '▁말': 164, '~~': 165, '트': 166, '▁넘': 167, '▁보': 168, '건': 169, '오': 170, '2': 171, '화': 172, 'ᄏ': 173, '전': 174, '보고': 175, '▁평점이': 176, '랑': 177, '습니다': 178, '러': 179, '▁지': 180, '▁것': 181, '물': 182, '▁재밌게': 183, '원': 184, '그': 185, '▁오': 186, '히': 187, '질': 188, '▁작품': 189, '▁역시': 190, ';;': 191, '▁별로': 192, '용': 193, '개': 194, '비': 195, '분': 196, '때': 197, '▁많이': 198, '▁재미': 199, '▁감동': 200, '년': 201, '내': 202, '세': 203, '▁볼': 204, '▁하': 205, '▁또': 206, '▁저': 207, '인데': 208, '▁전': 209, '라고': 210, '적인': 211, '▁무': 212, '??': 213, '감': 214, '소': 215, '▁꼭': 216, '▁아깝다': 217, '▁마지막': 218, '것': 219, '진짜': 220, '했다': 221, '▁ᄏᄏᄏ': 222, '▁생각': 223, '▁대': 224, '▁감독': 225, '제': 226, '입니다': 227, '▁하나': 228, '▁액션': 229, '더': 230, '영': 231, '▁별': 232, '▁명작': 233, '어요': 234, '급': 235, '▁기대': 236, 'ᄏᄏᄏ': 237, '▁김': 238, '선': 239, '▁시간': 240, '▁이야기': 241, '무': 242, '식': 243, '▁가장': 244, '말': 245, '하지': 246, '▁그리고': 247, '▁미': 248, '부터': 249, '▁사': 250, '같은': 251, '▁주': 252, '▁중': 253, '▁어': 254, 'ᅲᅲ': 255, '▁지금': 256, '란': 257, '으면': 258, '▁하는': 259, '▁정': 260, '본': 261, \"'\": 262, '▁무슨': 263, '3': 264, '걸': 265, '당': 266, '▁없고': 267, '좀': 268, ';': 269, '▁조': 270, '드라마': 271, '▁아니': 272, '군': 273, '▁비': 274, '편': 275, '남': 276, '동': 277, '이나': 278, '유': 279, '▁ᄏ': 280, '줄': 281, '▁처음': 282, '호': 283, '▁유': 284, '▁보면': 285, '너무': 286, '▁짱': 287, '없는': 288, '된': 289, '▁만든': 290, '▁좋아': 291, '5': 292, '씨': 293, '모': 294, '있는': 295, '▁다른': 296, '디': 297, '작': 298, '▁ᅲᅲ': 299, '▁사랑': 300, '조': 301, '▁한국': 302, '▁배우': 303, '연': 304, '위': 305, '▁돈': 306, '▁느낌': 307, '▁마': 308, '울': 309, ')': 310, '워': 311, '라는': 312, '▁할': 313, '린': 314, '에게': 315, '▁일본': 316, '▁ᅳᅳ': 317, '한다': 318, '긴': 319, 'ᅲ': 320, '▁두': 321, '르': 322, '두': 323, '▁기': 324, '▁일': 325, '▁영화다': 326, '정말': 327, '바': 328, '운': 329, '▁말이': 330, '노': 331, '크': 332, '▁좋다': 333, '래': 334, '▁와': 335, '준': 336, '심': 337, '살': 338, '▁자': 339, '명': 340, '▁재밌다': 341, '▁거': 342, '었다': 343, '▁제': 344, '▁신': 345, '레': 346, '난': 347, '▁연출': 348, '▁소': 349, '▁내용': 350, '▁굿': 351, '▁ᄒᄒ': 352, '인지': 353, '방': 354, '▁끝까지': 355, '간': 356, '루': 357, '연기': 358, '인가': 359, '타': 360, '실': 361, '류': 362, '들의': 363, '구나': 364, '합니다': 365, 'ᅳᅳ': 366, '▁솔직히': 367, '▁구': 368, '경': 369, '발': 370, '저': 371, '▁같은': 372, '▁대박': 373, '죠': 374, '▁봤다': 375, '▁봐도': 376, '▁해': 377, '▁남': 378, '피': 379, '티': 380, '잘': 381, '민': 382, '▁있다': 383, '길': 384, ',,': 385, '희': 386, '판': 387, '재': 388, '▁최악의': 389, '▁애': 390, 'e': 391, '▁뭔가': 392, '▁알': 393, '생': 394, '프': 395, '했던': 396, '▁최악': 397, '▁후': 398, '단': 399, '▁아주': 400, '국': 401, '▁재미없다': 402, '▁인생': 403, '▁여자': 404, '처럼': 405, '▁재미있게': 406, '든': 407, '▁부': 408, '▁전혀': 409, '▁모': 410, '▁시': 411, '되는': 412, '▁같다': 413, '▁때': 414, '으': 415, \"▁'\": 416, '님': 417, '번': 418, '▁장': 419, '▁코미디': 420, '▁이영화': 421, '파': 422, '하나': 423, '엔': 424, '봤는데': 425, '못': 426, '하지만': 427, '시간': 428, '▁줄': 429, '▁사람': 430, '▁우': 431, '▁이걸': 432, '▁하지만': 433, '▁한번': 434, '때문에': 435, '애': 436, 'ᄒᄒ': 437, '후': 438, '▁대한': 439, '까': 440, '없다': 441, '이랑': 442, '-': 443, '림': 444, '점도': 445, '차': 446, '▁반': 447, '날': 448, '▁실망': 449, '하네': 450, '면서': 451, '▁배우들': 452, '▁되': 453, '터': 454, '▁내용이': 455, '(': 456, '며': 457, '박': 458, '▁바': 459, '▁모두': 460, '하면': 461, '관': 462, '▁스': 463, '▁계속': 464, '되': 465, '▁아니라': 466, '▁추천': 467, '▁많은': 468, '▁이상': 469, '카': 470, '▁없': 471, '▁나오는': 472, '4': 473, '▁어떻게': 474, '▁반전': 475, '들은': 476, '다가': 477, '지는': 478, '형': 479, '▁않고': 480, '▁내내': 481, '▁보기': 482, '▁그래도': 483, '생각': 484, 'o': 485, '이라': 486, '▁이해': 487, '하네요': 488, '▁스릴러': 489, '달': 490, '다니': 491, '키': 492, '▁아닌': 493, '▁박': 494, '없이': 495, '지도': 496, '▁주인공': 497, '10': 498, '▁연기가': 499, '▁공포': 500, '▁아름다운': 501, 't': 502, '▁딱': 503, '▁장면': 504, '▁강': 505, '보면': 506, '버': 507, '▁만들어': 508, '점이': 509, '!!!!': 510, '8': 511, '▁아니다': 512, '어서': 513, '▁그런': 514, '▁우리': 515, '극': 516, '역': 517, '겨': 518, '▁끝': 519, '적으로': 520, '▁전개': 521, '반': 522, '것도': 523, '~~~': 524, '▁남자': 525, '▁제일': 526, 'ᄒ': 527, '▁보다': 528, '따': 529, '▁만드는': 530, '▁듯': 531, '겠다': 532, '현': 533, '▁개봉': 534, '▁기억': 535, '▁조금': 536, '니까': 537, '▁불': 538, '♥': 539, '▁재': 540, '▁심': 541, '▁이제': 542, '▁속': 543, '▁싶다': 544, '최고': 545, '▁내용도': 546, '스토리': 547, '▁않은': 548, '배': 549, '▁배': 550, '▁원': 551, '보는': 552, '▁눈': 553, '▁재밌어요': 554, '즈': 555, '한테': 556, '볼': 557, '▁남는': 558, '▁모든': 559, '▁연기도': 560, '▁요즘': 561, '▁않는': 562, '▁근데': 563, '▁보다가': 564, '▁피': 565, 'ᅳ': 566, '코': 567, '려고': 568, '▁제대로': 569, '속': 570, '공': 571, '▁나는': 572, '하기': 573, '이라는': 574, '년대': 575, '▁파': 576, '▁울': 577, '예': 578, '▁절대': 579, '▁성': 580, '짱': 581, '망': 582, '▁스토리가': 583, '▁음악': 584, '▁건': 585, '▁노': 586, '▁아까운': 587, 'ᄏᄏᄏᄏ': 588, '▁감독이': 589, '해요': 590, '쳐': 591, '져': 592, '▁재밌': 593, '▁망': 594, '▁여운이': 595, '▁욕': 596, '▁재미도': 597, '▁쓰': 598, '체': 599, '▁애니': 600, '▁여': 601, '석': 602, '▁수준': 603, '▁OO': 604, 'i': 605, '▁시간이': 606, '회': 607, '격': 608, '▁나오': 609, '문': 610, '▁아직도': 611, '9': 612, '▁하고': 613, '▁연기력': 614, '▁막장': 615, '▁뻔한': 616, '산': 617, '이란': 618, '▁웃': 619, '배우': 620, '▁영화라고': 621, '▁엄청': 622, '▁걸': 623, '▁때문에': 624, '뿐': 625, '▁만들': 626, '참': 627, '인듯': 628, 'd': 629, '학': 630, '토': 631, '금': 632, '정도': 633, '▁현실': 634, ';;;': 635, '▁있': 636, '없': 637, '태': 638, '던데': 639, '▁ᄏᄏᄏᄏ': 640, '매': 641, '능': 642, '▁영화입니다': 643, '▁오랜만에': 644, '▁상': 645, '▁날': 646, '▁멋진': 647, '▁걍': 648, '▁공': 649, '업': 650, '▁소재': 651, '점은': 652, '▁영화의': 653, '▁나름': 654, '왜': 655, '▁표현': 656, 'ᅮᅮ': 657, '▁나도': 658, 's': 659, '라도': 660, '▁봤습니다': 661, '이고': 662, '▁초': 663, '▁서': 664, '테': 665, '▁좋았다': 666, '▁발': 667, '▁^^': 668, '▁머': 669, '▁미국': 670, '락': 671, '넘': 672, '▁진': 673, '▁가족': 674, '꺼': 675, '▁나온': 676, '통': 677, '▁좋고': 678, '건지': 679, '▁재밋': 680, '▁진심': 681, '▁주는': 682, '▁스토리도': 683, '▁차라리': 684, '는거': 685, '양': 686, '???': 687, '밖에': 688, '▁최고다': 689, '▁도대체': 690, '▁지루하고': 691, '▁눈물': 692, '였다': 693, '▁원작': 694, '▁공감': 695, '▁세': 696, '▁아니고': 697, '▁되는': 698, '▁예': 699, '▁졸': 700, '▁동': 701, '▁공포영화': 702, '▁결말': 703, '▁매': 704, '했는데': 705, '죽': 706, '▁지루함': 707, '▁정도': 708, '▁보면서': 709, '아니': 710, '▁OOO': 711, '▁제목': 712, '브': 713, '▁연': 714, '▁재밌는': 715, '▁B': 716, '▁영': 717, '가는': 718, '▁ᅲ': 719, '▁지루한': 720, '▁봤던': 721, '▁캐릭터': 722, '▁수작': 723, '씬': 724, '장면': 725, '▁시리즈': 726, '▁알바': 727, '종': 728, '7': 729, '재미': 730, '리는': 731, '잼': 732, '았다': 733, '알': 734, '▁차': 735, '평점': 736, '했': 737, '악': 738, '녀': 739, '는게': 740, '▁감독의': 741, '▁대사': 742, '/': 743, '▁인간': 744, '▁기분': 745, '▁재미가': 746, '▁우리나라': 747, '봐도': 748, '블': 749, '▁없음': 750, '재밌': 751, '론': 752, '~!': 753, '▁몇': 754, '▁괜찮은': 755, '▁싶은': 756, '해도': 757, '▁영상': 758, '▁만화': 759, '▁마지막에': 760, '▁허': 761, '등': 762, '▁좋아하는': 763, '▁보세요': 764, '봤다': 765, '짐': 766, '사람': 767, '있': 768, '▁졸작': 769, '▁않': 770, '중에': 771, '력': 772, '이네': 773, '▁막': 774, '▁긴장감': 775, '릴': 776, '▁코믹': 777, '▁가슴': 778, '▁이해가': 779, '▁시작': 780, '었던': 781, '▁영화에': 782, '▁특히': 783, 'h': 784, '▁사람들': 785, '▁뭔': 786, '▁지루하다': 787, '승': 788, '▁시나리오': 789, '▁한국영화': 790, '감동': 791, '집': 792, '있다': 793, '불': 794, '었는데': 795, '구만': 796, '이라고': 797, 'a': 798, ',,,': 799, '더라': 800, '근': 801, '된다': 802, '투': 803, '▁될': 804, '설': 805, '그냥': 806, '▁애니메이션': 807, '▁뭘': 808, '였': 809, '▁토': 810, '들을': 811, '▁기억에': 812, '▁베': 813, '▁사실': 814, '너': 815, '계': 816, '봄': 817, '0': 818, '▁20': 819, '▁배우들의': 820, '는지': 821, '잇': 822, '움': 823, '▁그저': 824, '▁후회': 825, '감독': 826, '절': 827, '포': 828, '▁선': 829, '쓰': 830, '표': 831, '었': 832, '▁함께': 833, '▁보는내내': 834, '000': 835, '대로': 836, '▁들': 837, '6': 838, '▁살': 839, '머': 840, '▁좋': 841, '▁필요': 842, '▁맞': 843, '▁좋아요': 844, '보단': 845, '않': 846, '▁노래': 847, '환': 848, '탄': 849, '케': 850, '▁최': 851, '▁타': 852, '만큼': 853, '▁인': 854, '▁봐야': 855, '니다': 856, '뭐': 857, '▁개인적으로': 858, '▁행복': 859, '이런': 860, '▁경': 861, '▁생각이': 862, '강': 863, '▁강추': 864, '▁같': 865, '사랑': 866, '▁단': 867, '▁치': 868, '▁오늘': 869, '▁봤어요': 870, '▁잠': 871, '돈': 872, '담': 873, '▁재밌음': 874, '▁된': 875, '퍼': 876, '▁못한': 877, '▁몰입도': 878, '갈': 879, '▁억지': 880, '▁재미없': 881, '▁잼': 882, '▁캐스팅': 883, '각': 884, '슨': 885, '▁큰': 886, '난다': 887, '주는': 888, '▁어떤': 889, 'ᅮ': 890, '행': 891, '초': 892, '천': 893, '먹': 894, '스트': 895, '쓰레기': 896, '▁영화로': 897, '른': 898, '▁감': 899, '이야': 900, '쉬': 901, '▁안되는': 902, '▁없이': 903, '적이': 904, '\"\"\"\"': 905, '▁당': 906, '에도': 907, '이네요': 908, '▁보게': 909, '글': 910, '▁매력': 911, '기도': 912, '작품': 913, '내용': 914, '창': 915, 'g': 916, '▁결국': 917, '나는': 918, '▁제발': 919, '▁ᄒ': 920, '점대': 921, '▁웃기': 922, '▁극장에서': 923, '123': 924, '입': 925, '결': 926, '▁더빙': 927, '▁아이': 928, '▁매우': 929, '하면서': 930, '했음': 931, 'c': 932, '▁죽': 933, '▁유치': 934, '만한': 935, '▁극': 936, '▁존나': 937, '향': 938, '을까': 939, '▁모르겠다': 940, '새': 941, '었음': 942, '▁연기는': 943, '▁지루': 944, '평': 945, '군요': 946, '봐': 947, '▁사람이': 948, '▁설정': 949, '록': 950, '졌': 951, '▁마음': 952, '▁아무리': 953, '▁재미없음': 954, '액션': 955, '잡': 956, '이지만': 957, '▁별점': 958, '▁마음이': 959, '▁만들었': 960, '점을': 961, '순': 962, '이상': 963, '교': 964, '▁전쟁': 965, '▁백': 966, '▁호': 967, '▁예술': 968, '해라': 969, '▁음': 970, '▁물': 971, '영화는': 972, '▁분위기': 973, '왔': 974, '▁감동이': 975, '기는': 976, '언': 977, '▁있었': 978, '이지': 979, '▁문제': 980, '직': 981, '병': 982, '▁길': 983, '버린': 984, '▁위한': 985, '▁총': 986, '친': 987, '▁너무나': 988, '칠': 989, '▁보지': 990, '증': 991, '126': 992, '200': 993, '▁똥': 994, '▁않는다': 995, '▁장난': 996, '▁평': 997, '▁ᅮᅮ': 998, '하며': 999, '▁얼마나': 1000, '슬': 1001, '▁명': 1002, '권': 1003, '치는': 1004, '▁존': 1005, '▁있고': 1006, '기에': 1007, '레이': 1008, '▁영화네요': 1009, '▁입': 1010, '102': 1011, '만들': 1012, '▁미친': 1013, '또': 1014, '▁실': 1015, '인줄': 1016, '▁따라': 1017, '짓': 1018, '▁같이': 1019, '▁의미': 1020, '100': 1021, '▁그만': 1022, '▁천': 1023, '907': 1024, '색': 1025, '▁재미있다': 1026, '▁가슴이': 1027, '>': 1028, '맨': 1029, '척': 1030, '▁재밌고': 1031, '막': 1032, '▁간': 1033, '맞': 1034, '▁노잼': 1035, '▁화': 1036, '훈': 1037, '술': 1038, '엇': 1039, '▁중국': 1040, '▁손': 1041, '▁하나도': 1042, '▁없어': 1043, '▁위': 1044, '▁작가': 1045, '▁한다': 1046, '111': 1047, 'p': 1048, '▁이딴': 1049, '될': 1050, '▁기억이': 1051, '▁로맨스': 1052, '▁-': 1053, '▁쓰레기영화': 1054, '▁너': 1055, '▁배경': 1056, '아서': 1057, '▁것이': 1058, '▁결말이': 1059, '▁내용은': 1060, '218': 1061, '났': 1062, '▁느낌이': 1063, '\"\"\"': 1064, '끼': 1065, '▁준': 1066, '133': 1067, '▁약': 1068, '▁높': 1069, '▁있을': 1070, '978': 1071, '▁머리': 1072, '▁누가': 1073, '▁눈물이': 1074, '142': 1075, '김': 1076, '느': 1077, '열': 1078, '▁꽤': 1079, '841': 1080, '904': 1081, '159': 1082, '129': 1083, '221': 1084, '소리': 1085, '별': 1086, 'f': 1087, 'k': 1088, '▁걸작': 1089, '220': 1090, '짜': 1091, '▁엔딩': 1092, '베': 1093, '▁먹': 1094, '▁이름': 1095, '152': 1096, '238': 1097, '수가': 1098, '170': 1099, '656': 1100, '112': 1101, '113': 1102, '▁열': 1103, '완전': 1104, '름': 1105, '라면': 1106, '800': 1107, '돌': 1108, '법': 1109, '▁애들': 1110, '느낌': 1111, '906': 1112, '였음': 1113, '822': 1114, '건가': 1115, '어야': 1116, '▁그렇게': 1117, '▁아무': 1118, '119': 1119, '이거': 1120, '▁허접': 1121, '▁어설픈': 1122, '▁얼굴': 1123, '▁엄마': 1124, '▁스릴': 1125, '▁정신': 1126, '131': 1127, '▁그나마': 1128, '이었다': 1129, '090': 1130, '243': 1131, '▁않다': 1132, '▁대체': 1133, '나요': 1134, '뻔': 1135, '♡': 1136, '기만': 1137, '▁출연': 1138, '▁영화중': 1139, '911': 1140, '▁적': 1141, '209': 1142, '▁간만에': 1143, '266': 1144, '▁갈수록': 1145, '833': 1146, '120': 1147, '134': 1148, '올': 1149, '앗': 1150, '▁훨씬': 1151, '▁영상미': 1152, '913': 1153, '071': 1154, '범': 1155, '843': 1156, '▁여주인공': 1157, '▁감동적인': 1158, '▁잼있': 1159, '802': 1160, '약': 1161, '256': 1162, '께': 1163, '좋아': 1164, '215': 1165, '▁발연기': 1166, '▁카': 1167, '500': 1168, '길래': 1169, '527': 1170, '+': 1171, '▁들어': 1172, '션': 1173, '▁추': 1174, '기를': 1175, '114': 1176, '723': 1177, '737': 1178, '▁맛': 1179, '976': 1180, '▁잔잔한': 1181, '거야': 1182, '▁감동도': 1183, '078': 1184, '다고': 1185, '이건': 1186, '181': 1187, 'u': 1188, '▁주연': 1189, '931': 1190, '렸': 1191, '출': 1192, '라서': 1193, '503': 1194, '121': 1195, '▁멋있': 1196, '▁웃음': 1197, '929': 1198, '055': 1199, '139': 1200, '122': 1201, '리고': 1202, '164': 1203, '▁레': 1204, '874': 1205, '186': 1206, '213': 1207, '▁알고': 1208, '155': 1209, 'y': 1210, '▁위해': 1211, '691': 1212, '▁\"\"\"': 1213, '빠': 1214, '었어요': 1215, '좋': 1216, '062': 1217, '온': 1218, '▁찍': 1219, '918': 1220, '치고': 1221, '플': 1222, '070': 1223, '땜에': 1224, '▁재미있는': 1225, '▁찾': 1226, '236': 1227, '873': 1228, '백': 1229, '445': 1230, '013': 1231, '놓고': 1232, '132': 1233, '▁아쉽다': 1234, '940': 1235, '▁영화관에서': 1236, '850': 1237, '▁밖에': 1238, '066': 1239, '▁성룡': 1240, '902': 1241, '할수': 1242, '하는데': 1243, '916': 1244, '876': 1245, '057': 1246, '140': 1247, '655': 1248, '801': 1249, '웃': 1250, '▁볼만한': 1251, '▁다큐': 1252, '193': 1253, '796': 1254, '644': 1255, '년이': 1256, '216': 1257, '135': 1258, '245': 1259, '141': 1260, '수준': 1261, '851': 1262, '830': 1263, '광': 1264, '217': 1265, '▁재미있어요': 1266, '150': 1267, '겠': 1268, '249': 1269, '듯한': 1270, '105': 1271, '▁올': 1272, '646': 1273, '021': 1274, '399': 1275, '▁재밌네요': 1276, '006': 1277, '799': 1278, '237': 1279, '▁나왔': 1280, '▁담': 1281, '932': 1282, '보니': 1283, '▁야': 1284, '▁작': 1285, '179': 1286, '▁편': 1287, '307': 1288, '128': 1289, '▁없었다': 1290, '136': 1291, '234': 1292, '련': 1293, '988': 1294, '383': 1295, '거지': 1296, '▁그래서': 1297, '900': 1298, '549': 1299, '171': 1300, '205': 1301, '444': 1302, '852': 1303, '257': 1304, '228': 1305, '192': 1306, '225': 1307, '더니': 1308, '432': 1309, '607': 1310, '▁잡': 1311, '▁좋은데': 1312, '137': 1313, '910': 1314, '118': 1315, '914': 1316, '479': 1317, '▁감정': 1318, '▁시즌': 1319, '222': 1320, '154': 1321, '▁구성': 1322, '884': 1323, '845': 1324, '204': 1325, '▁첨': 1326, '왕': 1327, '251': 1328, '▁생각보다': 1329, '269': 1330, '194': 1331, '▁집중': 1332, '082': 1333, '151': 1334, '565': 1335, '814': 1336, '478': 1337, '446': 1338, '413': 1339, '789': 1340, '939': 1341, '201': 1342, '145': 1343, '762': 1344, '효': 1345, '240': 1346, '253': 1347, '▁안되': 1348, '109': 1349, '369': 1350, '▁외': 1351, '143': 1352, '▁친구': 1353, '905': 1354, '_': 1355, '459': 1356, '183': 1357, '809': 1358, '009': 1359, '681': 1360, '974': 1361, '717': 1362, '076': 1363, '▁만': 1364, '▁악': 1365, '920': 1366, '해야': 1367, '522': 1368, '254': 1369, '067': 1370, '971': 1371, '716': 1372, '206': 1373, 'ᄋ': 1374, '231': 1375, '117': 1376, '095': 1377, '837': 1378, '175': 1379, '567': 1380, '460': 1381, '002': 1382, '탈': 1383, '523': 1384, '856': 1385, '414': 1386, '849': 1387, '103': 1388, '912': 1389, '779': 1390, '340': 1391, '645': 1392, '555': 1393, '561': 1394, '됨': 1395, '185': 1396, '332': 1397, '647': 1398, '042': 1399, '813': 1400, '983': 1401, '합': 1402, '008': 1403, '882': 1404, '▁많': 1405, '▁맘에': 1406, '존': 1407, '437': 1408, '▁주제': 1409, '554': 1410, '244': 1411, '917': 1412, '264': 1413, '469': 1414, '248': 1415, '578': 1416, '▁싶': 1417, '욕': 1418, '▁볼만': 1419, '473': 1420, '650': 1421, '235': 1422, '930': 1423, '으나': 1424, '232': 1425, '466': 1426, '748': 1427, '665': 1428, '434': 1429, '685': 1430, '061': 1431, '770': 1432, '952': 1433, '805': 1434, '▁보여주는': 1435, '936': 1436, '666': 1437, '219': 1438, '836': 1439, '188': 1440, '430': 1441, '172': 1442, '440': 1443, '815': 1444, '022': 1445, '203': 1446, '169': 1447, '980': 1448, '848': 1449, '▁뭐야': 1450, '933': 1451, '074': 1452, '887': 1453, '636': 1454, '▁터': 1455, '좋은': 1456, '563': 1457, '464': 1458, '993': 1459, '832': 1460, '144': 1461, '812': 1462, '035': 1463, '405': 1464, '063': 1465, '156': 1466, '059': 1467, '354': 1468, '010': 1469, '552': 1470, '148': 1471, '080': 1472, '765': 1473, '▁30': 1474, '875': 1475, '068': 1476, '502': 1477, '187': 1478, '981': 1479, '081': 1480, '138': 1481, '773': 1482, '526': 1483, '398': 1484, '▁힘': 1485, '994': 1486, '편이': 1487, '521': 1488, '056': 1489, '556': 1490, '495': 1491, '268': 1492, '230': 1493, '756': 1494, '▁버': 1495, '919': 1496, '~!!': 1497, '772': 1498, '293': 1499, '295': 1500, '514': 1501, '992': 1502, '017': 1503, '892': 1504, '영화를': 1505, '226': 1506, '177': 1507, '384': 1508, '104': 1509, '504': 1510, '761': 1511, '▁연기를': 1512, '817': 1513, '▁뿐': 1514, '517': 1515, '▁자체': 1516, '816': 1517, '115': 1518, '458': 1519, '▁다들': 1520, '682': 1521, '831': 1522, '212': 1523, '094': 1524, '818': 1525, '▁역': 1526, '750': 1527, '053': 1528, '863': 1529, '331': 1530, '016': 1531, '777': 1532, '529': 1533, '470': 1534, '▁진정한': 1535, '317': 1536, '▁재미는': 1537, '007': 1538, '보기': 1539, '582': 1540, '844': 1541, '▁비교': 1542, '210': 1543, '052': 1544, '924': 1545, '227': 1546, '679': 1547, '823': 1548, '997': 1549, '습': 1550, '108': 1551, '877': 1552, '▁다음': 1553, '797': 1554, '외': 1555, '838': 1556, '649': 1557, '670': 1558, '099': 1559, '999': 1560, '▁ᅳ': 1561, '149': 1562, '153': 1563, '찍': 1564, '484': 1565, '261': 1566, '601': 1567, '798': 1568, '341': 1569, '▁봐': 1570, '048': 1571, '069': 1572, '807': 1573, '014': 1574, '메': 1575, '나오는': 1576, '820': 1577, '001': 1578, '694': 1579, 'b': 1580, '214': 1581, '661': 1582, '영화가': 1583, '▁CG': 1584, '569': 1585, '471': 1586, '674': 1587, '▁패': 1588, '▁뒤': 1589, '005': 1590, '260': 1591, '901': 1592, '093': 1593, '039': 1594, '▁당시': 1595, '879': 1596, '지루': 1597, '703': 1598, '885': 1599, '774': 1600, '191': 1601, '834': 1602, '894': 1603, '▁영화였다': 1604, '추': 1605, '568': 1606, '207': 1607, '할때': 1608, '683': 1609, '364': 1610, '394': 1611, '▁어느': 1612, '579': 1613, '303': 1614, '418': 1615, '975': 1616, '721': 1617, '▁글': 1618, '520': 1619, '872': 1620, '447': 1621, '262': 1622, '097': 1623, '스러운': 1624, '료': 1625, '했지만': 1626, '튼': 1627, '▁아님': 1628, '871': 1629, '767': 1630, '709': 1631, '598': 1632, '338': 1633, '130': 1634, '795': 1635, '619': 1636, '637': 1637, '386': 1638, '196': 1639, '▁않았': 1640, '903': 1641, '804': 1642, '979': 1643, '928': 1644, '728': 1645, '▁점수': 1646, '▁재미있': 1647, '958': 1648, '938': 1649, '967': 1650, '덕': 1651, '015': 1652, '987': 1653, '211': 1654, '735': 1655, '064': 1656, '689': 1657, '▁오래': 1658, '835': 1659, '265': 1660, '재미있': 1661, '▁메': 1662, '660': 1663, '965': 1664, '788': 1665, '857': 1666, '736': 1667, '726': 1668, '▁분': 1669, '158': 1670, '915': 1671, '208': 1672, '054': 1673, '559': 1674, '306': 1675, '868': 1676, '린다': 1677, '397': 1678, '658': 1679, '673': 1680, '941': 1681, '628': 1682, '339': 1683, '638': 1684, '241': 1685, '360': 1686, '696': 1687, '793': 1688, '▁주고': 1689, '895': 1690, '월': 1691, '468': 1692, '842': 1693, '402': 1694, '▁재미없는': 1695, '198': 1696, '라이': 1697, '780': 1698, '304': 1699, '501': 1700, '▁실화': 1701, '041': 1702, '재밋': 1703, '310': 1704, '733': 1705, '▁코': 1706, '073': 1707, '782': 1708, '298': 1709, '909': 1710, '110': 1711, '처': 1712, '167': 1713, '▁전부': 1714, '233': 1715, '747': 1716, '077': 1717, '259': 1718, '173': 1719, '560': 1720, '혜': 1721, '629': 1722, '622': 1723, '286': 1724, '870': 1725, '580': 1726, '977': 1727, '▁숨': 1728, '195': 1729, '085': 1730, '300': 1731, '730': 1732, '023': 1733, '242': 1734, '881': 1735, '472': 1736, '572': 1737, '825': 1738, '▁짜증나': 1739, '867': 1740, '403': 1741, '252': 1742, '984': 1743, '768': 1744, '그리고': 1745, '643': 1746, '분들': 1747, '995': 1748, '888': 1749, '072': 1750, '998': 1751, '▁약간': 1752, '여자': 1753, '라니': 1754, '없음': 1755, '839': 1756, '423': 1757, '046': 1758, '▁찾아': 1759, '086': 1760, '921': 1761, '463': 1762, '653': 1763, '157': 1764, '▁스토리는': 1765, '617': 1766, '626': 1767, '557': 1768, '기대': 1769, '441': 1770, '989': 1771, '101': 1772, '640': 1773, '168': 1774, '189': 1775, '854': 1776, '926': 1777, '▁몰입': 1778, '794': 1779, 'm': 1780, '▁옛날': 1781, '949': 1782, '▁뭐지': 1783, '573': 1784, '▁네이버': 1785, '302': 1786, '944': 1787, '719': 1788, '785': 1789, '652': 1790, '465': 1791, '▁변': 1792, '239': 1793, '889': 1794, '312': 1795, '▁평가': 1796, '025': 1797, '891': 1798, '거리': 1799, '708': 1800, '511': 1801, '790': 1802, '116': 1803, 'D': 1804, '412': 1805, '934': 1806, '766': 1807, '792': 1808, '124': 1809, '435': 1810, '957': 1811, '443': 1812, '476': 1813, '571': 1814, '358': 1815, '다는': 1816, '616': 1817, '163': 1818, '344': 1819, '776': 1820, '710': 1821, '▁드': 1822, '771': 1823, '▁제작': 1824, '826': 1825, '675': 1826, '진다': 1827, '427': 1828, '083': 1829, '321': 1830, '▁존재': 1831, '421': 1832, '▁준다': 1833, '819': 1834, '먼': 1835, '525': 1836, '659': 1837, '624': 1838, '165': 1839, '이야기': 1840, '045': 1841, '908': 1842, '692': 1843, '▁같아요': 1844, '▁갈': 1845, '688': 1846, '585': 1847, '600': 1848, '810': 1849, '442': 1850, '325': 1851, '419': 1852, '▁생각을': 1853, '533': 1854, '827': 1855, '541': 1856, '811': 1857, '087': 1858, '106': 1859, '323': 1860, '897': 1861, '▁배우들이': 1862, '630': 1863, '718': 1864, '898': 1865, '757': 1866, '494': 1867, '146': 1868, '089': 1869, '337': 1870, '546': 1871, '294': 1872, '297': 1873, '485': 1874, '731': 1875, '320': 1876, '786': 1877, '550': 1878, '037': 1879, '896': 1880, '멋': 1881, '▁있을까': 1882, '677': 1883, '662': 1884, '051': 1885, '326': 1886, '027': 1887, '821': 1888, '899': 1889, '449': 1890, '058': 1891, '783': 1892, '편은': 1893, '받': 1894, '092': 1895, '084': 1896, '615': 1897, '246': 1898, '519': 1899, '184': 1900, '정도로': 1901, '667': 1902, '990': 1903, '945': 1904, '420': 1905, '964': 1906, '▁좋은영화': 1907, '161': 1908, '516': 1909, '698': 1910, '591': 1911, '▁얘기': 1912, '448': 1913, '050': 1914, '784': 1915, '754': 1916, '406': 1917, '697': 1918, '864': 1919, '272': 1920, '648': 1921, '828': 1922, '^': 1923, '755': 1924, '익': 1925, '492': 1926, '커': 1927, '011': 1928, '824': 1929, '361': 1930, '893': 1931, '267': 1932, '▁멜로': 1933, '아깝다': 1934, '738': 1935, '032': 1936, '했어요': 1937, '276': 1938, '404': 1939, '038': 1940, '299': 1941, '714': 1942, '180': 1943, '712': 1944, '966': 1945, '▁데': 1946, '996': 1947, '715': 1948, '544': 1949, '▁영화인데': 1950, '853': 1951, '▁방': 1952, '▁바로': 1953, '467': 1954, '713': 1955, '684': 1956, '250': 1957, '970': 1958, '334': 1959, '에는': 1960, '396': 1961, '575': 1962, '594': 1963, '695': 1964, '493': 1965, '953': 1966, '972': 1967, '낸': 1968, '576': 1969, '335': 1970, '▁요': 1971, '것이': 1972, '▁나이': 1973, '450': 1974, '739': 1975, '612': 1976, '439': 1977, '▁감동을': 1978, '734': 1979, '923': 1980, '588': 1981, '745': 1982, '285': 1983, '342': 1984, '483': 1985, '587': 1986, '477': 1987, '075': 1988, '202': 1989, '▁영화임': 1990, '505': 1991, '278': 1992, '764': 1993, '해지는': 1994, '224': 1995, '539': 1996, '336': 1997, '878': 1998, '935': 1999, '▁판타지': 2000, '▁딸': 2001, '328': 2002, '763': 2003, '▁꿀잼': 2004, '▁암': 2005, '빈': 2006, '보다는': 2007, '700': 2008, '672': 2009, '480': 2010, '951': 2011, '333': 2012, '633': 2013, '겠지': 2014, '379': 2015, '370': 2016, '545': 2017, '651': 2018, '065': 2019, '이라도': 2020, '▁\"\"\"\"': 2021, '704': 2022, '740': 2023, '462': 2024, '263': 2025, '937': 2026, '959': 2027, '720': 2028, '475': 2029, '603': 2030, '751': 2031, '▁영화도': 2032, '세요': 2033, '566': 2034, '▁봤지만': 2035, '놈': 2036, '060': 2037, '686': 2038, '▁모습': 2039, '593': 2040, '558': 2041, '눈': 2042, '▁살아': 2043, '425': 2044, '407': 2045, '▁감동적이': 2046, '706': 2047, '주의': 2048, '258': 2049, '▁종': 2050, '840': 2051, '다시': 2052, '377': 2053, '199': 2054, '474': 2055, '540': 2056, '296': 2057, '950': 2058, '641': 2059, '859': 2060, '088': 2061, '400': 2062, '922': 2063, '962': 2064, '329': 2065, '034': 2066, '537': 2067, '417': 2068, '760': 2069, '330': 2070, '415': 2071, '292': 2072, '486': 2073, '182': 2074, '513': 2075, '▁뭐냐': 2076, '623': 2077, '621': 2078, '543': 2079, '680': 2080, '▁산': 2081, '530': 2082, '▁감성': 2083, '869': 2084, '528': 2085, '551': 2086, '174': 2087, '▁소리': 2088, '678': 2089, '247': 2090, '362': 2091, '▁중간에': 2092, '290': 2093, '461': 2094, '▁예상': 2095, '746': 2096, '277': 2097, '▁괜찮': 2098, '004': 2099, '368': 2100, '508': 2101, '166': 2102, '570': 2103, '401': 2104, '178': 2105, '614': 2106, '775': 2107, '389': 2108, '532': 2109, '107': 2110, '098': 2111, '357': 2112, '▁나와서': 2113, '787': 2114, '711': 2115, '▁어디': 2116, '없고': 2117, '▁언제': 2118, '047': 2119, '454': 2120, '044': 2121, '147': 2122, '308': 2123, '091': 2124, '724': 2125, '283': 2126, '324': 2127, '▁높은': 2128, '963': 2129, '451': 2130, '862': 2131, '393': 2132, '753': 2133, '376': 2134, '642': 2135, '759': 2136, '693': 2137, '611': 2138, '657': 2139, '▁번': 2140, '743': 2141, '489': 2142, '416': 2143, '632': 2144, '371': 2145, '534': 2146, '273': 2147, '▁마음에': 2148, '있고': 2149, '627': 2150, '▁장르': 2151, '860': 2152, '595': 2153, '▁관객': 2154, '865': 2155, '942': 2156, '229': 2157, '270': 2158, '▁충격': 2159, '758': 2160, '705': 2161, '162': 2162, '431': 2163, '411': 2164, '혀': 2165, '947': 2166, '예요': 2167, '▁나올': 2168, '▁good': 2169, '654': 2170, '036': 2171, '347': 2172, '▁시대': 2173, '309': 2174, '491': 2175, '778': 2176, '▁질': 2177, '388': 2178, '429': 2179, '861': 2180, '535': 2181, '슴': 2182, '883': 2183, '574': 2184, '365': 2185, '응': 2186, '003': 2187, '515': 2188, '▁줄거리': 2189, '597': 2190, '315': 2191, '609': 2192, '343': 2193, '▁믿': 2194, '890': 2195, '▁추억': 2196, '606': 2197, '701': 2198, '488': 2199, '387': 2200, '604': 2201, '668': 2202, '019': 2203, '381': 2204, '752': 2205, '▁초딩': 2206, '722': 2207, '▁생각하게': 2208, '찬': 2209, '956': 2210, '553': 2211, '028': 2212, '281': 2213, '727': 2214, '886': 2215, '639': 2216, '잖아': 2217, '608': 2218, '744': 2219, '끝': 2220, '380': 2221, '351': 2222, '791': 2223, '548': 2224, '538': 2225, '858': 2226, '본다': 2227, '499': 2228, '▁나의': 2229, '536': 2230, '366': 2231, '223': 2232, '589': 2233, '581': 2234, '749': 2235, '847': 2236, '438': 2237, '618': 2238, '732': 2239, '409': 2240, '634': 2241, '781': 2242, '676': 2243, '▁했는데': 2244, '▁그대로': 2245, '702': 2246, '806': 2247, '327': 2248, '699': 2249, '803': 2250, '925': 2251, '457': 2252, '176': 2253, '▁이영화를': 2254, '690': 2255, '301': 2256, '829': 2257, '▁어디서': 2258, '288': 2259, '498': 2260, '625': 2261, '줬': 2262, '▁역사': 2263, '319': 2264, '948': 2265, '599': 2266, '275': 2267, '▁포스터': 2268, '나서': 2269, '507': 2270, '▁것을': 2271, '367': 2272, '577': 2273, '428': 2274, '395': 2275, 'l': 2276, '-_-': 2277, '▁각본': 2278, '▁이런영화': 2279, '160': 2280, '392': 2281, '같이': 2282, '셨': 2283, '▁자기': 2284, '518': 2285, '▁혼자': 2286, '▁낮은': 2287, '▁대단한': 2288, '596': 2289, '▁봤음': 2290, '509': 2291, '524': 2292, '961': 2293, '채': 2294, '274': 2295, '602': 2296, '284': 2297, '562': 2298, '▁상당히': 2299, '012': 2300, '햇': 2301, '313': 2302, '▁봐서': 2303, '같': 2304, '729': 2305, '742': 2306, '▁상황': 2307, '▁그러': 2308, '453': 2309, '510': 2310, '▁같은데': 2311, '▁크': 2312, '426': 2313, '289': 2314, '422': 2315, '구요': 2316, '숙': 2317, '▁사람들이': 2318, '352': 2319, '846': 2320, '043': 2321, '을때': 2322, '는건': 2323, '079': 2324, '960': 2325, '314': 2326, '279': 2327, '봐서': 2328, '▁사회': 2329, '▁재밌는데': 2330, '▁거의': 2331, '▁봐라': 2332, '663': 2333, '품': 2334, '▁깨': 2335, '348': 2336, '▁아까움': 2337, '769': 2338, '436': 2339, '▁대해': 2340, '707': 2341, '별로': 2342, '▁비해': 2343, '024': 2344, '610': 2345, '808': 2346, '190': 2347, '382': 2348, '▁아이들': 2349, '▁여기': 2350, '512': 2351, '040': 2352, '096': 2353, '033': 2354, '968': 2355, '▁휴': 2356, '▁tv': 2357, '▁팬': 2358, '목': 2359, '▁90': 2360, '▁꿈': 2361, '346': 2362, '669': 2363, '287': 2364, '927': 2365, '372': 2366, '▁목소리': 2367, '▁게': 2368, '▁너무너무': 2369, '583': 2370, '복': 2371, '▁좋네요': 2372, '866': 2373, '나오': 2374, '271': 2375, '487': 2376, '침': 2377, '▁영화라': 2378, '547': 2379, '031': 2380, '564': 2381, '들어': 2382, '671': 2383, '런': 2384, '리가': 2385, '316': 2386, '패': 2387, '613': 2388, '456': 2389, '345': 2390, '시리즈': 2391, '▁훌륭한': 2392, '귀': 2393, '991': 2394, '954': 2395, '635': 2396, '590': 2397, '스럽다': 2398, '620': 2399, '▁삼': 2400, '주인공': 2401, '▁절': 2402, '311': 2403, '곡': 2404, '197': 2405, '880': 2406, '985': 2407, '▁끝나': 2408, '▁어린': 2409, '씩': 2410, '855': 2411, '408': 2412, '356': 2413, '조차': 2414, '▁포': 2415, '982': 2416, '255': 2417, '▁만점': 2418, '▁아직': 2419, '322': 2420, '378': 2421, '▁하다': 2422, '성이': 2423, '▁통': 2424, '433': 2425, '완': 2426, '973': 2427, '▁원작을': 2428, '▁낮': 2429, '▁궁금': 2430, '496': 2431, '▁따': 2432, '▁저런': 2433, '▁대단': 2434, '▁달': 2435, '029': 2436, '써': 2437, '청': 2438, '030': 2439, '▁장면이': 2440, '125': 2441, '584': 2442, '481': 2443, '근데': 2444, '▁비디오': 2445, '490': 2446, '엉': 2447, '▁누구': 2448, '385': 2449, '▁감독님': 2450, '독': 2451, '506': 2452, '▁된다': 2453, '410': 2454, '955': 2455, '쪽': 2456, '280': 2457, '들도': 2458, '▁책': 2459, '▁다시봐도': 2460, '모르': 2461, '겠지만': 2462, '최악': 2463, '▁왕': 2464, '한거': 2465, '305': 2466, '605': 2467, '127': 2468, '▁평점을': 2469, '기가': 2470, '엿': 2471, '▁힘들': 2472, '725': 2473, '굿': 2474, '잔': 2475, '359': 2476, '▁헐': 2477, '969': 2478, '▁정도로': 2479, '년전': 2480, '▁순': 2481, '363': 2482, '▁그리': 2483, '▁부족': 2484, '390': 2485, '▁굉장히': 2486, '▁신선': 2487, '350': 2488, '482': 2489, '버리': 2490, '대박': 2491, '지않': 2492, '엘': 2493, '츠': 2494, '946': 2495, '▁어쩌': 2496, '▁더욱': 2497, '▁것도': 2498, '455': 2499, '봐야': 2500, '한영화': 2501, '노잼': 2502, '마지막': 2503, '049': 2504, '남자': 2505, '▁재밌었다': 2506, '687': 2507, '986': 2508, '▁더럽게': 2509, 'OO': 2510, '▁있지만': 2511, 'r': 2512, '▁흥행': 2513, '▁어릴때': 2514, '▁여배우': 2515, '▁문': 2516, '끄': 2517, '뜨': 2518, '▁연출력': 2519, '▁극장판': 2520, '291': 2521, '▁몸': 2522, '452': 2523, '▁뭐가': 2524, '이라면': 2525, '▁하지': 2526, '▁삼류': 2527, '시키': 2528, '▁짜증': 2529, '586': 2530, '▁새로운': 2531, '억': 2532, '▁먹먹': 2533, '741': 2534, '349': 2535, '▁처음부터': 2536, '▁싸': 2537, '▁짜': 2538, '건데': 2539, '943': 2540, '▁아버지': 2541, '으니': 2542, '놈들': 2543, '▁보니': 2544, ';;;;': 2545, '듬': 2546, '▁지루해': 2547, '318': 2548, '에선': 2549, '531': 2550, '적이고': 2551, '▁TV': 2552, '497': 2553, '▁돌아': 2554, '▁재미없어': 2555, '도없고': 2556, '▁화면': 2557, '▁s': 2558, '짝': 2559, '쯤': 2560, '괴': 2561, '▁놀': 2562, '▁봄': 2563, '▁그런지': 2564, 'n': 2565, '▁몰': 2566, '▁그러나': 2567, '▁성우': 2568, '282': 2569, '▁이번': 2570, '▁항상': 2571, '▁충분히': 2572, '▁낫다': 2573, '했습니다': 2574, '▁그닥': 2575, '▁흥미진진': 2576, '춘': 2577, '▁낚': 2578, '▁빨리': 2579, '391': 2580, '▁유치한': 2581, '간다': 2582, '▁따뜻한': 2583, '▁안된다': 2584, '아이': 2585, '▁이것도': 2586, '▁광': 2587, '▁태': 2588, '▁있어서': 2589, '▁했다': 2590, '팬': 2591, '같다': 2592, '664': 2593, '함이': 2594, '375': 2595, '▁의도': 2596, '▁못하는': 2597, '땐': 2598, '▁끌': 2599, '631': 2600, '▁저는': 2601, '353': 2602, '▁읽': 2603, '▁말도': 2604, '▁알게': 2605, '▁삶': 2606, '373': 2607, '▁아까워': 2608, '낮': 2609, '▁양': 2610, '▁어색': 2611, '전개': 2612, '▁흠': 2613, '▁세계': 2614, '▁느': 2615, '▁초반': 2616, '▁나와': 2617, '~~~~': 2618, '여서': 2619, '▁어이없': 2620, '활': 2621, '규': 2622, '▁만족': 2623, '▁계': 2624, '▁점점': 2625, '▁ᄍᄍ': 2626, '필': 2627, '▁흐': 2628, '하냐': 2629, ':': 2630, '럽': 2631, '026': 2632, '▁두번': 2633, '▁(': 2634, '▁잘못': 2635, '▁앞': 2636, '▁교훈': 2637, '허': 2638, '드는': 2639, '▁현': 2640, '배우들': 2641, '▁첫': 2642, '▁생': 2643, '철': 2644, '야지': 2645, '542': 2646, '▁말고': 2647, '하시': 2648, '답': 2649, '▁예전에': 2650, '했으면': 2651, '다운': 2652, '거다': 2653, '▁있어': 2654, '▁제가': 2655, '▁없네': 2656, '▁재밌어': 2657, '▁없어서': 2658, '나라': 2659, '겟': 2660, '됬': 2661, '▁허무': 2662, '▁윤': 2663, '374': 2664, '▁별루': 2665, '하여': 2666, '것같다': 2667, '020': 2668, '424': 2669, '링': 2670, '▁봤네요': 2671, '▁슬픈': 2672, '▁망작': 2673, '▁바라': 2674, '였는데': 2675, '명작': 2676, '▁좋겠다': 2677, '이게': 2678, '처음': 2679, '롭': 2680, '혹': 2681, '만든': 2682, '벌': 2683, '었습니다': 2684, '▁좋음': 2685, '355': 2686, '▁도저히': 2687, '▁지루하': 2688, '▁b': 2689, '주세요': 2690, '봐라': 2691, '▁한마디로': 2692, '밀': 2693, '다면': 2694, '▁돈주고': 2695, '▁온': 2696, '▁답답': 2697, '▁이영화는': 2698, '이라니': 2699, '▁무조건': 2700, '틀': 2701, '▁자체가': 2702, '▁나온다': 2703, '말이': 2704, '을듯': 2705, '껏': 2706, '=': 2707, '▁가는': 2708, '▁그것': 2709, '▁완벽': 2710, '일까': 2711, '018': 2712, '▁훌륭': 2713, '속에': 2714, '▁100': 2715, '거냐': 2716, '이에요': 2717, '징': 2718, '▁생각해': 2719, '삼': 2720, '되어': 2721, '▁갑자기': 2722, '▁알았': 2723, '▁그래픽': 2724, '▁여주': 2725, '내가': 2726, '▁디': 2727, '그런': 2728, '겁': 2729, '거나': 2730, '한데': 2731, '들에게': 2732, '▁완벽한': 2733, '곳': 2734, '▁되어': 2735, '592': 2736, '▁-_-': 2737, '인이': 2738, '▁일단': 2739, '도록': 2740, '▁끝내': 2741, '윤': 2742, '염': 2743, '하니': 2744, '▁복수': 2745, '함을': 2746, '지금': 2747, '▁평점은': 2748, '▁영화보다': 2749, '만으로도': 2750, '▁관': 2751, '많': 2752, '싸': 2753, '▁평점에': 2754, '▁설': 2755, '▁엄청난': 2756, '▁웃긴': 2757, '▁뻔': 2758, '▁병맛': 2759, '사람들': 2760, '▁국': 2761, '▁ᄒᄒᄒ': 2762, '▁불륜': 2763, '▁황': 2764, '▁좋았어요': 2765, '▁보여주': 2766, '▁커': 2767, '▁반전이': 2768, '▁있었다': 2769, '립': 2770, '▁M': 2771, '▁투': 2772, '▁관람': 2773, '얼': 2774, '▁없을': 2775, '▁아쉬운': 2776, '▁주인공이': 2777, '옥': 2778, '년도': 2779, '이냐': 2780, '▁지금까지': 2781, '령': 2782, '▁만들지': 2783, '▁리': 2784, '▁개연성': 2785, '▁돌': 2786, '▁빠져': 2787, '▁극장': 2788, '연출': 2789, '되고': 2790, '▁킬링타임용': 2791, '준다': 2792, '휴': 2793, '점짜리': 2794, '동안': 2795, '실망': 2796, '웃음': 2797, '▁시절': 2798, '▁바보': 2799, '▁무서운': 2800, '▁일본영화': 2801, '십': 2802, '▁저질': 2803, '졌다': 2804, '틴': 2805, '▁전형적인': 2806, '쩌': 2807, '나게': 2808, '▁알았다': 2809, '▁참고': 2810, '▁세상': 2811, '보다가': 2812, '................': 2813, '▁괜히': 2814, '▁형': 2815, '▁보는데': 2816, '▁했': 2817, '▁모르고': 2818, '▁으': 2819, 'ᄉ': 2820, '에요': 2821, '▁원래': 2822, '였습니다': 2823, '▁꼬': 2824, '스터': 2825, '▁돈이': 2826, '▁떠': 2827, '▁것은': 2828, '▁대작': 2829, '▁볼수': 2830, '▁재미있고': 2831, '재미없': 2832, '▁가지고': 2833, '꼬': 2834, '▁이정도': 2835, '▁사람은': 2836, '▁부족한': 2837, '▁사랑을': 2838, '▁집': 2839, '▁등': 2840, '▁80': 2841, '▁감독은': 2842, '음악': 2843, '자들': 2844, '▁굳': 2845, '▁힘든': 2846, '▁유머': 2847, '는것': 2848, '▁아쉽': 2849, '▁순간': 2850, '▁지나': 2851, '▁없네요': 2852, '▁전개가': 2853, '리스': 2854, '였던': 2855, '▁소설': 2856, '흔': 2857, '찰': 2858, '많이': 2859, '▁믿고': 2860, '▁써': 2861, '▁화이팅': 2862, '▁댓글': 2863, '▁자꾸': 2864, '부분': 2865, '자가': 2866, '▁어렸을때': 2867, '▁새': 2868, '▁노력': 2869, '▁웃겨': 2870, '보는데': 2871, '▁예고편': 2872, '변': 2873, '책': 2874, '갑': 2875, '누': 2876, '▁선택': 2877, '하는게': 2878, '▁스타일': 2879, '▁보이': 2880, '풍': 2881, '--': 2882, '딱': 2883, '쩔': 2884, '▁무섭': 2885, '▁슬프': 2886, '▁창': 2887, '▁아이들이': 2888, '▁명작이다': 2889, '▁리메이크': 2890, '▁SF': 2891, '▁재밌었어요': 2892, '영화다': 2893, '버렸다': 2894, '좋다': 2895, '묘': 2896, '▁복': 2897, '▁진실': 2898, '▁범죄': 2899, '걸까': 2900, '▁코메디': 2901, '▁괴': 2902, '웠': 2903, '북': 2904, '렌': 2905, '킹': 2906, '▁좀비': 2907, '▁우연히': 2908, '있네': 2909, '▁작품성': 2910, '맛': 2911, '네여': 2912, '시대': 2913, '픈': 2914, '년에': 2915, '쁘': 2916, '싱': 2917, '몽': 2918, '힌': 2919, 'x': 2920, '추천': 2921, '그래도': 2922, '▁왜이리': 2923, '▁뭔지': 2924, '▁재미없고': 2925, '성을': 2926, '곤': 2927, '하던': 2928, '▁알아': 2929, '▁느낄': 2930, '가서': 2931, '▁쳐': 2932, '▁억지로': 2933, '한번': 2934, '▁골': 2935, '▁이런걸': 2936, '▁액션도': 2937, '▁대단하다': 2938, '끔': 2939, '잉': 2940, '▁청춘': 2941, '▁당신': 2942, '▁여운': 2943, '▁지금도': 2944, '▁느끼게': 2945, '꼭': 2946, '▁티비': 2947, '▁않을': 2948, '▁속편': 2949, '어도': 2950, '▁졸라': 2951, '하긴': 2952, '▁신기': 2953, '▁설명': 2954, '역시': 2955, '감이': 2956, '▁해도': 2957, '을텐데': 2958, '▁이리': 2959, '▁미화': 2960, '폐': 2961, '▁기대하고': 2962, '됐': 2963, '▁귀신': 2964, '▁그때': 2965, '줘': 2966, '▁액션영화': 2967, '▁늘': 2968, '▁편집': 2969, '▁후반부': 2970, '▁있는데': 2971, '축': 2972, '▁분들': 2973, '▁시간낭비': 2974, '▁각': 2975, '▁니': 2976, '▁티': 2977, '몰': 2978, 'w': 2979, '견': 2980, '▁유치하고': 2981, '▁까': 2982, '▁이런거': 2983, '▁귀여운': 2984, '▁프랑스': 2985, '▁그래': 2986, '▁회': 2987, '▁처음으로': 2988, '▁ost': 2989, '▁방송': 2990, '▁이상한': 2991, '쾌': 2992, '▁있음': 2993, '랄': 2994, '빵': 2995, '▁내인생': 2996, '에겐': 2997, '▁완성도': 2998, '▁연출이': 2999, '▁아닌가': 3000, '점준다': 3001, '▁됐': 3002, '인거': 3003, '▁귀': 3004, 'ᄆ': 3005, '▁해서': 3006, '▁나쁜': 3007, '봣': 3008, '*': 3009, '▁이유': 3010, '▁감상': 3011, '▁전작': 3012, '▁안보': 3013, '좋았': 3014, '결말': 3015, '로운': 3016, '▁언': 3017, '▁최악이다': 3018, '▁이후': 3019, '▁안나오': 3020, '하는거': 3021, '릭': 3022, '하세요': 3023, '▁겁나': 3024, '▁꺼': 3025, '가지': 3026, '▁천재': 3027, '▁트': 3028, '▁아오': 3029, '▁교': 3030, '▁감사': 3031, '지않는': 3032, '▁맥': 3033, '▁죽음': 3034, '▁나만': 3035, '했고': 3036, '로서': 3037, '렸다': 3038, '▁상상': 3039, '렉': 3040, '작가': 3041, '▁알았는데': 3042, '▁상영': 3043, '▁마무리': 3044, '▁여성': 3045, '들과': 3046, '▁잘봤습니다': 3047, '▁개그': 3048, '▁명작이': 3049, '▁벌': 3050, '족': 3051, '▁해준': 3052, '려서': 3053, '깔': 3054, '뻐': 3055, 'ᅲᅲᅲ': 3056, '▁아무것도': 3057, '주고': 3058, '▁자연': 3059, '놓': 3060, '▁느껴': 3061, '▁쓴': 3062, '▁영화였습니다': 3063, '마다': 3064, '흐': 3065, '났다': 3066, '앙': 3067, '고싶다': 3068, '▁느끼': 3069, '시절': 3070, '으면서': 3071, '▁성장': 3072, '▁인정': 3073, '것을': 3074, '▁작품이': 3075, '홍': 3076, '▁수가': 3077, '▁불편': 3078, '재밌게': 3079, '▁진행': 3080, '학교': 3081, '애들': 3082, '▁모르는': 3083, '▁우울': 3084, '▁진부한': 3085, '▁않음': 3086, '▁슬': 3087, '▁질질': 3088, '애니': 3089, '▁잔인하': 3090, '최': 3091, '▁이미': 3092, '▁분명': 3093, '▁둘': 3094, '▁지루하지': 3095, '지고': 3096, '▁왠지': 3097, '▁가치': 3098, '▁처': 3099, '황': 3100, '충': 3101, '▁앞으로': 3102, '▁매력적인': 3103, '▁배우가': 3104, '킬': 3105, '▁전기세': 3106, '▁아들': 3107, '▁없었': 3108, '▁이야기를': 3109, '졸': 3110, '손': 3111, '@': 3112, '▁독': 3113, '▁만나': 3114, '▁상상력': 3115, '▁넘어': 3116, '빨': 3117, 'ᄀ': 3118, '겠네': 3119, 'ᅲᅲᅲᅲ': 3120, '~^^': 3121, '반전': 3122, '팔': 3123, '최고의': 3124, '▁비슷한': 3125, '▁지금봐도': 3126, '알바': 3127, '▁인간의': 3128, '그러': 3129, '▁그게': 3130, '▁받': 3131, '는걸': 3132, '돼': 3133, '때마다': 3134, '▁화려한': 3135, 'ᄃ': 3136, '▁ᄏᄏᄏᄏᄏ': 3137, '영환': 3138, '▁좋았음': 3139, '안되': 3140, '▁촌': 3141, '지마': 3142, '▁대한민국': 3143, '▁수준이': 3144, '▁만드': 3145, '벨': 3146, '▁갖': 3147, '없어': 3148, '시켜': 3149, '▁합니다': 3150, '인의': 3151, '▁빠': 3152, '마저': 3153, '오는': 3154, '탕': 3155, '▁않았다': 3156, '▁글쎄': 3157, '▁흥미': 3158, '코미디': 3159, '▁허접한': 3160, '▁출': 3161, '눈물': 3162, '▁유쾌': 3163, '하자': 3164, '▁나에게': 3165, '▁비추': 3166, '▁이쁘': 3167, '해주는': 3168, '&': 3169, '▁좋았습니다': 3170, '▁소재는': 3171, '▁살인': 3172, '했어': 3173, '아깝': 3174, '▁세상에': 3175, '아닌': 3176, '▁아빠': 3177, '▁게임': 3178, 'E': 3179, '▁유쾌한': 3180, '닥': 3181, '//': 3182, '면서도': 3183, '셔': 3184, '언니': 3185, '▁한계': 3186, '▁별로다': 3187, '것이다': 3188, '영화중': 3189, '랜': 3190, '가족': 3191, '▁저도': 3192, '득': 3193, '▁로맨틱': 3194, '▁결혼': 3195, '▁중간': 3196, '▁특유의': 3197, 'T': 3198, '보면서': 3199, '▁재미있음': 3200, '전에': 3201, '▁듯한': 3202, '봉': 3203, '▁이런게': 3204, '▁엉성': 3205, '▁있다는': 3206, '▁바람': 3207, 'ᄒᄒᄒ': 3208, '었으면': 3209, '웅': 3210, '폰': 3211, '▁사랑이': 3212, '▁잼없': 3213, '▁금': 3214, '▁보고나서': 3215, '평가': 3216, '????': 3217, '▁촬영': 3218, '▁갑': 3219, '▁아름답다': 3220, '보게': 3221, '▁알수': 3222, '▁것이다': 3223, '▁사람들은': 3224, '였어요': 3225, '▁밑에': 3226, '하지않': 3227, '인간': 3228, '▁현재': 3229, '놓은': 3230, '▁과거': 3231, '▁아니지만': 3232, '▁그랬': 3233, '풀': 3234, '▁왜이렇게': 3235, '강추': 3236, '▁잘만든': 3237, '확': 3238, '▁영화중에': 3239, '▁클': 3240, 'ᄂ': 3241, '▁지난': 3242, '수록': 3243, '▁확': 3244, '봤음': 3245, '▁이것': 3246, '▁황당': 3247, '▁눈이': 3248, '▁멀': 3249, '했는지': 3250, '▁중에': 3251, '▁미안': 3252, '▁인물': 3253, '만으로': 3254, '▁C': 3255, '육': 3256, '땅': 3257, '▁노출': 3258, '했을': 3259, '▁훨': 3260, '든다': 3261, '▁낭비': 3262, '스타': 3263, '▁인상': 3264, '이면': 3265, '▁풀어': 3266, '▁법': 3267, '▁이러': 3268, '▁얼': 3269, '▁어찌': 3270, '념': 3271, '르는': 3272, '▁마음을': 3273, '▁채': 3274, '세계': 3275, '▁목': 3276, '▁생각나': 3277, '보세요': 3278, '▁어린이': 3279, 'ᄅ': 3280, '▁메세지': 3281, '봅니다': 3282, '▁키': 3283, '▁심심': 3284, '▁캐': 3285, '▁소름': 3286, '쇼': 3287, '암': 3288, '▁....': 3289, '▁프로': 3290, '고싶': 3291, '려는': 3292, '▁귀엽고': 3293, '높': 3294, '▁장면은': 3295, '▁씨': 3296, '▁떠나': 3297, '이제': 3298, '턴': 3299, '▁감사합니다': 3300, '▁보고싶다': 3301, '▁등장': 3302, '수있': 3303, '시간이': 3304, '▁역대': 3305, '▁똑같': 3306, '▁답': 3307, 'an': 3308, '▁맞는': 3309, '시고': 3310, '한건': 3311, '뒤': 3312, '▁특': 3313, '▁성인': 3314, '▁만들었다': 3315, '▁미소': 3316, '▁봤었는데': 3317, '▁스토리에': 3318, '▁ᄉᄇ': 3319, '스런': 3320, '나온다': 3321, '▁자유': 3322, '▁너무나도': 3323, '▁보고싶': 3324, '분이': 3325, '▁시청률': 3326, '▁모르겠': 3327, '▁이어': 3328, 'ᄏᄏᄏᄏᄏ': 3329, '▁임': 3330, '즐': 3331, '떡': 3332, '내요': 3333, '텐데': 3334, '쿠': 3335, '▁해주는': 3336, '▁액션이': 3337, '▁어이없는': 3338, '센': 3339, '좌': 3340, '▁깊이': 3341, '재미없다': 3342, '▁물론': 3343, '지않은': 3344, '▁아놔': 3345, '▁동화': 3346, '▁이영화가': 3347, '▁보지마세요': 3348, '왔다': 3349, '▁불쌍': 3350, '▁어색한': 3351, '사람이': 3352, '▁그녀': 3353, '거같다': 3354, '영상': 3355, '욱': 3356, '▁요소': 3357, '▁매력이': 3358, '▁슬프다': 3359, '컨': 3360, '▁리얼': 3361, '▁재밌었는데': 3362, '▁취향': 3363, '더군요': 3364, '▁식상': 3365, '▁모습이': 3366, '▁입니다': 3367, '나옴': 3368, '▁충': 3369, '한듯': 3370, '▁섹시': 3371, '▁먼저': 3372, '▁연애': 3373, '▁제작비': 3374, '▁A': 3375, '없네': 3376, '해준': 3377, '▁받아': 3378, '▁신선한': 3379, '▁재밌습니다': 3380, '▁급': 3381, '▁하면': 3382, '이렇게': 3383, '갔다': 3384, '▁같네요': 3385, '놀': 3386, '▁남주': 3387, '랬': 3388, '▁시도': 3389, '▁잼있게': 3390, '벽': 3391, '재밌어요': 3392, '▁처음이다': 3393, '▁확실히': 3394, '▁보여준': 3395, '▁좋았는데': 3396, '좋아요': 3397, '던가': 3398, '▁표정': 3399, '있게': 3400, '내는': 3401, '어지는': 3402, '▁독특한': 3403, '급영화': 3404, '엄': 3405, '▁싫어': 3406, '▁알바들': 3407, '▁보이는': 3408, '먹는': 3409, '▁전편': 3410, '겹': 3411, '▁본다': 3412, '량': 3413, '퇴': 3414, '▁그렇고': 3415, '껄': 3416, '홀': 3417, '갔': 3418, '거임': 3419, '▁대충': 3420, '코드': 3421, '▁춤': 3422, '▁같습니다': 3423, '유치': 3424, '▁한편': 3425, '▁재미없네': 3426, '무섭': 3427, '잼있': 3428, '▁돋보': 3429, '▁놓': 3430, '뜻': 3431, '▁관계': 3432, '▁그런가': 3433, '빡': 3434, '▁이연걸': 3435, '▁와닿': 3436, '▁여전히': 3437, '▁볼때마다': 3438, '▁일상': 3439, '줘야': 3440, '▁주인공들': 3441, '▁이야기가': 3442, '▁나라': 3443, '▁했지만': 3444, '하라': 3445, '다른': 3446, '지마라': 3447, '▁밀': 3448, '깨': 3449, 'S': 3450, '되지': 3451, '무슨': 3452, '▁브': 3453, '▁오히려': 3454, '▁스케일': 3455, '순간': 3456, '▁애들이': 3457, '▁어릴적': 3458, '시다': 3459, '▁느껴지는': 3460, '▁사이': 3461, '점주는': 3462, '▁있었던': 3463, '▁빨': 3464, '▁정치': 3465, '▁마라': 3466, '▁젤': 3467, '▁그림': 3468, '▁표절': 3469, '▁관심': 3470, '▁아닐까': 3471, '▁눈을': 3472, '▁캐릭터들': 3473, '소재': 3474, '▁근': 3475, '▁이젠': 3476, '스가': 3477, '▁단순': 3478, '▁감동적이고': 3479, '▁그런데': 3480, '수도': 3481, '▁순수한': 3482, '었지만': 3483, '버리고': 3484, '송': 3485, '▁서로': 3486, '널': 3487, '인들': 3488, '▁그럭저럭': 3489, '▁깊은': 3490, '▁cg': 3491, '▁개인': 3492, '▁전달': 3493, '킨': 3494, '▁연기력이': 3495, '드라': 3496, '▁독립영화': 3497, '▁좋았고': 3498, '드리': 3499, 'ᄍᄍ': 3500, '짜증': 3501, '특히': 3502, '▁추억의': 3503, '▁몰랐': 3504, '▁아닌듯': 3505, '만들어': 3506, '▁환상': 3507, '혁': 3508, '모습': 3509, '▁영웅': 3510, '▁접': 3511, '▁긴': 3512, '▁평론가': 3513, '나온': 3514, '▁돌려': 3515, '보이': 3516, '▁찍은': 3517, '▁액션은': 3518, '▁역시나': 3519, '딩': 3520, '들아': 3521, '기엔': 3522, '한다는': 3523, '나고': 3524, '▁좋을': 3525, '▁되었': 3526, '▁어렸을': 3527, '혼': 3528, '스럽': 3529, '▁누': 3530, '탁': 3531, '압': 3532, 'F': 3533, 'P': 3534, '덤': 3535, '▁전체적으로': 3536, '일뿐': 3537, '▁싫다': 3538, '▁삶을': 3539, '제목': 3540, '▁중반': 3541, '마음': 3542, '▁싶어': 3543, '▁좋았': 3544, '꾸': 3545, '▁떨어지는': 3546, '롱': 3547, '벤': 3548, '▁흥미롭': 3549, '▁예쁜': 3550, '▁나를': 3551, '▁성공': 3552, '짜리': 3553, '▁아름답고': 3554, '▁떨어': 3555, '▁기대를': 3556, '▁w': 3557, '하하하': 3558, '▁필요없다': 3559, '나올': 3560, '▁부분': 3561, '▁아깝': 3562, '버려': 3563, '신이': 3564, '시는': 3565, '▁심리': 3566, '닝': 3567, '▁무엇보다': 3568, 'C': 3569, '둘': 3570, ',,,,': 3571, '▁조폭': 3572, '▁감탄': 3573, '버렸': 3574, '▁추천합니다': 3575, '▁시선': 3576, '▁재미있네요': 3577, '▁참신': 3578, '따라': 3579, '친구': 3580, '영화의': 3581, '▁실제': 3582, '▁아저씨': 3583, '던지': 3584, '▁싫': 3585, '▁다소': 3586, '▁안하고': 3587, '▁용': 3588, '▁OST': 3589, 'ᅡ': 3590, '▁슬픔': 3591, '▁보는게': 3592, '콩': 3593, '▁남는다': 3594, '▁기분이': 3595, '▁호러': 3596, '▁볼만함': 3597, '▁뒷': 3598, '▁진지': 3599, '▁않아': 3600, '▁얻': 3601, '▁프로그램': 3602, '▁시원': 3603, '▁여자들': 3604, '▁딴': 3605, '람': 3606, '▁죄': 3607, '▁민': 3608, '▁팔': 3609, '▁무협': 3610, '▁재밌네': 3611, '▁재밌었': 3612, '▁용서': 3613, '▁희망': 3614, '▁필요한': 3615, '▁표': 3616, '▁모자': 3617, '▁아니면': 3618, '▁음악이': 3619, '!!!!!': 3620, '으며': 3621, '.......': 3622, '▁드라마가': 3623, '▁진정': 3624, '▁있다면': 3625, '▁저예산': 3626, '케이': 3627, '갓': 3628, '휘': 3629, '찌': 3630, '▁평생': 3631, '▁알려': 3632, '▁벗': 3633, '▁송': 3634, '▁끝나고': 3635, '▁친': 3636, '▁있나': 3637, '줌': 3638, 'er': 3639, '▁보시길': 3640, '온다': 3641, '율': 3642, '따위': 3643, '와서': 3644, '▁살짝': 3645, '끝나': 3646, '있어': 3647, '총': 3648, '▁고민': 3649, '▁여자가': 3650, '▁맨': 3651, '▁말할': 3652, '▁권': 3653, 'or': 3654, '한다면': 3655, '싸움': 3656, '▁스토리와': 3657, '▁몇번을': 3658, '▁취': 3659, '▁ᅮ': 3660, '▁T': 3661, '것은': 3662, '만화': 3663, '으론': 3664, '▁이정도면': 3665, '▁보기엔': 3666, '%': 3667, '▁놀라': 3668, '▁고전': 3669, '감독이': 3670, '▁예전': 3671, '할듯': 3672, '▁짧': 3673, '▁붙': 3674, '▁함': 3675, '거같': 3676, '▁보여': 3677, '▁사건': 3678, '▁생각나는': 3679, '▁홍': 3680, '▁그다지': 3681, '▁짓': 3682, '▁이하': 3683, '것만': 3684, '▁+': 3685, '▁논': 3686, '새끼': 3687, '재밌다': 3688, '오빠': 3689, '▁중간중간': 3690, '떨': 3691, '▁끝난': 3692, '▁짠': 3693, '맞추': 3694, '▁보았': 3695, '▁꼴': 3696, '아님': 3697, '▁재밋다': 3698, '섬': 3699, '힐': 3700, 'L': 3701, '▁<': 3702, '▁난다': 3703, '취': 3704, '▁봐야할': 3705, 'B': 3706, '▁봤다가': 3707, '▁평범한': 3708, '▁영화관': 3709, '에서는': 3710, '▁멋지다': 3711, '▁화가': 3712, '▁이건뭐': 3713, '흘': 3714, '▁긴장': 3715, '▁달리': 3716, '▁몸매': 3717, '▁행동': 3718, '▁미래': 3719, '▁그의': 3720, '받는': 3721, '▁괴물': 3722, '누나': 3723, '▁사극': 3724, '클': 3725, '스의': 3726, '정신': 3727, '▁아련': 3728, '타임': 3729, '▁영화이다': 3730, '년전에': 3731, '▁영화보고': 3732, '▁현대': 3733, '▁무지': 3734, '빙': 3735, '▁조연': 3736, '▁ᄃᄃ': 3737, '▁빼': 3738, '값': 3739, '▁범인': 3740, '▁아닌데': 3741, '진심': 3742, '었어': 3743, '▁볼수록': 3744, '인것': 3745, '▁십': 3746, '▁I': 3747, '▁청': 3748, 'v': 3749, '▁죽는': 3750, '▁드라마를': 3751, '첨': 3752, '방송': 3753, '▁홍콩': 3754, 'ᄏᄏᄏᄏᄏᄏᄏᄏᄏᄏᄏᄏᄏᄏᄏᄏ': 3755, '있었': 3756, '▁연기와': 3757, '▁하게': 3758, '▁지루해서': 3759, '▁몰입감': 3760, '▁병': 3761, '▁잊': 3762, '평점이': 3763, '▁나왔으면': 3764, '▁엉성한': 3765, '▁디즈니': 3766, '▁압권': 3767, '▁느낀': 3768, '▁카메라': 3769, '▁짜증나는': 3770, '▁부분이': 3771, '지가': 3772, 'ᄃᄃ': 3773, '한국': 3774, '▁티비에서': 3775, '먹고': 3776, '쓴': 3777, '하다니': 3778, '▁필요없는': 3779, '▁m': 3780, '▁못하고': 3781, '▁경찰': 3782, '▁마치': 3783, '되서': 3784, '▁해야': 3785, '▁만들어진': 3786, '걸로': 3787, '▁뮤지컬': 3788, 'j': 3789, '▁어이가': 3790, '▁하는데': 3791, '▁몇번': 3792, '▁높다': 3793, '머리': 3794, '져서': 3795, '▁군대': 3796, '▁썩': 3797, '▁설레': 3798, '▁재밋게': 3799, '인생': 3800, '▁전에': 3801, '더만': 3802, '함과': 3803, '한게': 3804, '하는지': 3805, '▁연기에': 3806, '▁우정': 3807, '멘': 3808, '▁힐링': 3809, '일이': 3810, '자는': 3811, '▁악역': 3812, '▁몰입이': 3813, '▁재미를': 3814, '봤어요': 3815, '더라구요': 3816, '들고': 3817, '▁킬링타임': 3818, '▁같음': 3819, '미치': 3820, '▁동물': 3821, '▁스타': 3822, '▁언제나': 3823, '▁내용을': 3824, '▁보고싶은': 3825, '▁빠져들': 3826, '니깐': 3827, '생겼': 3828, '궁': 3829, '스러움': 3830, '▁결론': 3831, '▁없나': 3832, '▁외국': 3833, '▁안됨': 3834, '▁좋았던': 3835, '님의': 3836, '지않고': 3837, '하면서도': 3838, '▁드는': 3839, '▁후반': 3840, '▁제작진': 3841, '▁이유가': 3842, '▁기본': 3843, '아주': 3844, '▁적당': 3845, '▁아는': 3846, '▁현실성': 3847, '▁가볍게': 3848, '▁리뷰': 3849, '학생': 3850, '▁무섭다': 3851, '▁찍어': 3852, '▁불쾌': 3853, '▁과연': 3854, '♥♥': 3855, '테러': 3856, '▁빈': 3857, '▁잊혀지지': 3858, '▁낫': 3859, '▁에로': 3860, '시킨': 3861, '것같': 3862, '▁재미있었다': 3863, '하시는': 3864, '리를': 3865, '▁되게': 3866, '까진': 3867, '번째': 3868, '낼': 3869, '▁나가': 3870, '▁아깝지': 3871, '▁허술': 3872, '▁사랑스러운': 3873, '웠다': 3874, '▁포장': 3875, '▁통해': 3876, '▁재밌었음': 3877, '에서도': 3878, '▁또한': 3879, '했네': 3880, '▁다큐멘터리': 3881, '▁모습을': 3882, '연기가': 3883, '딸': 3884, '▁제목이': 3885, '▁히': 3886, '▁진심으로': 3887, '▁능력': 3888, '항': 3889, '▁봤으면': 3890, '몬': 3891, '▁비주얼': 3892, '▁쓰래기': 3893, '▁영화지만': 3894, '▁멋지': 3895, '힘': 3896, '하셨': 3897, '하구': 3898, '▁폭': 3899, '▁ᄋᄋ': 3900, '페': 3901, '▁공감이': 3902, '▁좋습니다': 3903, '용으로': 3904, '▁유치함': 3905, '▁다행': 3906, '▁영화냐': 3907, '갑니다': 3908, '▁가능': 3909, '▁영화에서': 3910, '▁다르': 3911, '되네요': 3912, '▁운': 3913, '슈': 3914, '▁더이상': 3915, '▁소재를': 3916, '▁먼': 3917, '프로': 3918, '▁스토리를': 3919, '▁지루할': 3920, '▁덜': 3921, '▁그럼': 3922, '▁풀': 3923, '속에서': 3924, '▁사랑과': 3925, '쏘': 3926, '▁드럽게': 3927, '▁싸구려': 3928, '▁볼거리': 3929, '랄까': 3930, 'in': 3931, '▁짱짱': 3932, '▁울었': 3933, '▁S': 3934, '▁그들의': 3935, '▁역할': 3936, '▁믿을': 3937, '▁화려': 3938, '괜찮': 3939, '▁해주': 3940, '죄': 3941, 'ᅲᅲᅲᅲᅲ': 3942, '있음': 3943, '▁오버': 3944, '▁감동과': 3945, '▁귀엽': 3946, '▁든다': 3947, '▁사람을': 3948, '말고': 3949, '즘': 3950, '볼만': 3951, '굴': 3952, '틈': 3953, '▁쵝오': 3954, '나와': 3955, '좋고': 3956, '생활': 3957, '기분': 3958, '영화로': 3959, '▁말로': 3960, '▁전설': 3961, '▁유치하다': 3962, '▁같아': 3963, '▁죽이': 3964, '▁40': 3965, '▁이제야': 3966, '안에': 3967, '아까움': 3968, '스럽고': 3969, '험': 3970, '쳤': 3971, '숭': 3972, '씨가': 3973, '▁소녀': 3974, '었고': 3975, '▁올해': 3976, '자의': 3977, '이해': 3978, '▁의심': 3979, '▁풍': 3980, '▁처음엔': 3981, '▁시걸': 3982, '하려고': 3983, '많은': 3984, '▁결과': 3985, '▁삶의': 3986, '▁포기': 3987, '▁어쩔': 3988, '골': 3989, '아라': 3990, '웃기': 3991, 'M': 3992, '▁열정': 3993, '스릴러': 3994, '▁나중에': 3995, '▁사랑하는': 3996, '팅': 3997, '▁열심히': 3998, '▁펑펑': 3999, '▁빛': 4000, '점준': 4001, '........': 4002, '▁눈빛': 4003, '▁존경': 4004, '줄이야': 4005, '▁게이': 4006, '하는것': 4007, '자체': 4008, '▁팬이': 4009, '▁킬링타임용으로': 4010, '▁할말': 4011, '▁초반에': 4012, '였지만': 4013, '▁자신': 4014, '받은': 4015, '▁놈': 4016, '▁옛날에': 4017, '폭': 4018, '▁70': 4019, '어진': 4020, '▁멋': 4021, '▁퀄리티': 4022, '▁흘러': 4023, '▁밋밋': 4024, '▁해피엔딩': 4025, '▁느와르': 4026, '▁만큼': 4027, '▁조잡': 4028, '▁나오고': 4029, '▁올라': 4030, '▁이거보고': 4031, '봣는데': 4032, '▁헛': 4033, '▁재미없어요': 4034, '▁소름돋': 4035, '▁합': 4036, '▁개판': 4037, '중의': 4038, '▁질리지': 4039, '▁찡': 4040, '식으로': 4041, '남는': 4042, '▁죽을': 4043, '님이': 4044, 'V': 4045, '워서': 4046, '▁봤었': 4047, '룡': 4048, '▁슬프고': 4049, '릿': 4050, '는건지': 4051, '▁저렇게': 4052, '▁결': 4053, '▁행': 4054, '감을': 4055, '▁뜨': 4056, '▁쫌': 4057, '▁볼만하다': 4058, '▁했던': 4059, '설정': 4060, '▁음악도': 4061, '▁폭력': 4062, '하지도': 4063, '▁군': 4064, '▁볼만하': 4065, '▁따뜻': 4066, '하려는': 4067, '▁뻔하': 4068, '▁있지': 4069, '겼': 4070, '▁꼽': 4071, '▁와우': 4072, '▁뜬금없': 4073, '▁배우의': 4074, '(?)': 4075, '▁듣': 4076, '▁시사회': 4077, '드러': 4078, '▁가끔': 4079, '▁방금': 4080, '▁페': 4081, '▁할말이': 4082, '프리': 4083, '▁메시지': 4084, '▁남을': 4085, '▁소재가': 4086, '▁남기': 4087, '▁그렇다': 4088, '▁d': 4089, '▁올리': 4090, '겟다': 4091, '▁정서': 4092, '▁가진': 4093, '▁어제': 4094, '▁달라': 4095, '잃': 4096, 'A': 4097, '▁웃기고': 4098, '맘': 4099, '▁꾸': 4100, '꿀': 4101, '농': 4102, '▁사랑에': 4103, '보고싶': 4104, '▁생애': 4105, '▁베스트': 4106, '빼고': 4107, '▁분노': 4108, '▁다시한번': 4109, '▁광고': 4110, '아요': 4111, '시간에': 4112, '편보다': 4113, '▁나서': 4114, '막장': 4115, '▁봣': 4116, '내용이': 4117, '▁ᅲᅲᅲ': 4118, '사가': 4119, '정이': 4120, '▁굳이': 4121, '▁웬': 4122, '▁미드': 4123, '▁안되고': 4124, '▁괜찮았': 4125, '협': 4126, '표현': 4127, '밑': 4128, '균': 4129, '명이': 4130, '▁인기': 4131, '▁죽여': 4132, '▁마세요': 4133, '공포': 4134, '▁봣는데': 4135, '▁느끼는': 4136, '▁넣': 4137, '▁이기': 4138, '▁푹': 4139, '▁반전도': 4140, '놔': 4141, '▁헤': 4142, '캐': 4143, '끈': 4144, '▁받았': 4145, '흑': 4146, '울리': 4147, 'X': 4148, '▁견자단': 4149, '뮤': 4150, '▁기대안하고': 4151, '▁희생': 4152, '▁통쾌': 4153, '▁종교': 4154, '받고': 4155, '가슴': 4156, '▁자막': 4157, 'O': 4158, '▁남아': 4159, '▁최근': 4160, '▁밥': 4161, '▁아쉬움': 4162, '▁잔잔하고': 4163, '무비': 4164, '력이': 4165, '형제': 4166, '시길': 4167, '▁나타': 4168, '▁힘들다': 4169, '▁만든다': 4170, '▁귀여워': 4171, '▁굿굿': 4172, '찾': 4173, '▁정말로': 4174, '믿': 4175, '▁없지만': 4176, '잤': 4177, '▁헐리우드': 4178, 'R': 4179, '▁아름다움': 4180, '▁어려운': 4181, '▁형편없': 4182, '▁뛰어난': 4183, '▁명품': 4184, '▁낮아서': 4185, '▁10277': 4186, '▁비극': 4187, 'on': 4188, '▁영화인': 4189, '▁매력있': 4190, '▁죽어': 4191, '▁빠지': 4192, '▁좋아서': 4193, '▁생각합니다': 4194, '▁필': 4195, '▁식': 4196, '▁무서워': 4197, '할까': 4198, '이유': 4199, '▁잭': 4200, '▁많다': 4201, '▁그린': 4202, '만의': 4203, '▁그려': 4204, '▁시시': 4205, '접': 4206, '째': 4207, '▁실패': 4208, '젤': 4209, '솔': 4210, 'N': 4211, '`': 4212, ']': 4213, '▁레전드': 4214, '스러웠': 4215, '엄마': 4216, '상을': 4217, '보지': 4218, '▁영국': 4219, '▁여러': 4220, '느라': 4221, '▁이쁜': 4222, '▁생각한다': 4223, '▁연출도': 4224, '▁필요없': 4225, '젠': 4226, '나와서': 4227, 'ᅲᅮ': 4228, '려면': 4229, '점수': 4230, '이며': 4231, '착': 4232, '▁인생을': 4233, '▁라는': 4234, '▁고생': 4235, '▁즐겁게': 4236, '같음': 4237, '▁출연진': 4238, '구성': 4239, '▁아침': 4240, '▁직': 4241, '▁산으로': 4242, '영화라고': 4243, '오브': 4244, '▁안타깝다': 4245, '▁탄탄한': 4246, '무엇': 4247, '▁시대를': 4248, '식이': 4249, '▁보지마': 4250, '▁평이': 4251, '헤': 4252, '▁높아': 4253, '▁빌려': 4254, '▁많았': 4255, '컬': 4256, '▁로그인': 4257, '▁섹스': 4258, '포인트': 4259, '!!!!!!!!!': 4260, '▁재미있었어요': 4261, '▁샤': 4262, '개봉': 4263, '형님': 4264, '▁이런영화가': 4265, '내용도': 4266, '▁주인공의': 4267, '▁눈물을': 4268, '▁의리': 4269, '중에서': 4270, '흡': 4271, '방식': 4272, '▁헐리웃': 4273, '떄': 4274, '렁': 4275, '▁칼': 4276, '▁드라마는': 4277, '▁따뜻해지는': 4278, '집니다': 4279, '▁사는': 4280, '▁빌': 4281, '▁단연': 4282, '▁유쾌하고': 4283, '▁여기서': 4284, '▁야한': 4285, '인가요': 4286, '▁다만': 4287, '▁몰라도': 4288, '세기': 4289, '▁발로': 4290, '로우': 4291, '▁나쁘지': 4292, '냈': 4293, '▁쇼': 4294, '▁뭐라': 4295, '.........': 4296, '리아': 4297, '아니다': 4298, '▁되었다': 4299, '▁자신의': 4300, '시키는': 4301, '▁젊은': 4302, 'OOO': 4303, '붕': 4304, '텔': 4305, '▁청소년': 4306, '▁흐름': 4307, '있는데': 4308, '잠': 4309, '사이': 4310, '계의': 4311, '▁남녀': 4312, '낫': 4313, '도아니고': 4314, '▁많아': 4315, '면에서': 4316, '▁재밌을': 4317, '▁생각없이': 4318, '나이': 4319, '▁끝나는': 4320, '...........': 4321, '▁가득': 4322, '▁있어요': 4323, '▁둘다': 4324, '▁동생': 4325, '컷': 4326, '톱': 4327, '▁울었다': 4328, '▁나머지': 4329, '▁에휴': 4330, '▁늘어': 4331, '▁우와': 4332, '▁이유는': 4333, '▁쩐다': 4334, '▁안돼': 4335, '▁딱히': 4336, '▁독특': 4337, '▁평범': 4338, '웨': 4339, '▁하루': 4340, '▁이후로': 4341, '버림': 4342, '▁과정': 4343, '재밌음': 4344, '▁있게': 4345, '하려': 4346, '▁크게': 4347, '▁뒤로': 4348, '▁점수를': 4349, '섭': 4350, '수없는': 4351, '픽': 4352, '콜': 4353, '▁;;': 4354, '탐': 4355, '▁시트콤': 4356, '▁즐거운': 4357, '▁어머니': 4358, '▁잔인한': 4359, '▁소재로': 4360, '▁생생': 4361, '사람은': 4362, '▁10275': 4363, '▁악당': 4364, '?!': 4365, '영화임': 4366, '▁전투': 4367, '▁안타깝': 4368, '▁보길': 4369, '들만': 4370, '▁무시': 4371, '했나': 4372, '관계': 4373, '▁이루': 4374, '▁자극': 4375, '▁c': 4376, '▁느껴지': 4377, '▁찍었': 4378, '▁멋있다': 4379, '보자': 4380, '▁보니까': 4381, '▁짝퉁': 4382, '혈': 4383, '▁위대한': 4384, '▁북한': 4385, '끌': 4386, '▁아나': 4387, '긴한데': 4388, '가지고': 4389, '▁사기': 4390, '▁홍보': 4391, '답답': 4392, '▁않게': 4393, '▁지나치': 4394, '흥': 4395, '▁월': 4396, '연기도': 4397, '캐릭터': 4398, '▁신경': 4399, '▁엉망': 4400, '▁긴장감도': 4401, '▁영화에요': 4402, '▁볼게': 4403, '씬은': 4404, '일본': 4405, '했다는': 4406, '▁죄다': 4407, '닌': 4408, '▁꽃': 4409, '▁재미있었': 4410, '▁판': 4411, '개도': 4412, 'ᄋᄋ': 4413, '택': 4414, '헌': 4415, 'ᅵ': 4416, '▁무언가': 4417, '▁마이클': 4418, '▁의외로': 4419, '기억': 4420, '▁상처': 4421, '▁지금은': 4422, '왔는데': 4423, '▁오글거리': 4424, '현실': 4425, '▁나왔다': 4426, '▁지루했다': 4427, '▁가지': 4428, '메이': 4429, '스타일': 4430, '으로서': 4431, '▁돌아가': 4432, '▁특이': 4433, '▁왜케': 4434, '슬퍼': 4435, '놨': 4436, '나오네': 4437, '▁예쁘': 4438, '▁앤': 4439, '▁알겠': 4440, '엔딩': 4441, '▁있네요': 4442, '▁내려': 4443, '▁잼나': 4444, '▁핵': 4445, '▁\"\"\"\"\"\"\"': 4446, '▁어른': 4447, '그래': 4448, '뚱': 4449, '▁무엇을': 4450, '▁발견': 4451, '▁최고입니다': 4452, '▁아픔': 4453, '▁연결': 4454, '▁매력적이': 4455, '▁완': 4456, '대는': 4457, '▁옛': 4458, '▁결말도': 4459, '▁연속': 4460, '▁결말은': 4461, '▁중요한': 4462, '잔잔': 4463, '지를': 4464, '▁전문가': 4465, '부족': 4466, '▁심장': 4467, '했네요': 4468, '▁우리가': 4469, '극장': 4470, '노래': 4471, '▁투자': 4472, '▁살리': 4473, '티비': 4474, '▁끊': 4475, '전쟁': 4476, '▁무비': 4477, '▁이쁘고': 4478, 'ᄃᄃᄃ': 4479, '..........': 4480, 'ᄏᄏᄏᄏᄏᄏᄏᄏᄏᄏᄏ': 4481, '▁발전': 4482, '▁당시에': 4483, '▁진리': 4484, '▁못했다': 4485, '옹': 4486, '땡': 4487, '▁연예인': 4488, '줍니다': 4489, '스러워': 4490, '▁차이': 4491, '냥': 4492, '얘기': 4493, '늘': 4494, '▁어휴': 4495, '친다': 4496, '▁몰입해서': 4497, '▁진부': 4498, '▁살아있': 4499, '▁나옴': 4500, '였어': 4501, 're': 4502, 'ᄌ': 4503, '떠': 4504, '▁느꼈': 4505, '▁이따위': 4506, '▁인생의': 4507, '▁맘': 4508, '로써': 4509, '만드는': 4510, '원작': 4511, '▁반성': 4512, 'ᄇ': 4513, '멸': 4514, '▁주성치': 4515, '▁보고나면': 4516, '▁쉽게': 4517, '▁느낄수': 4518, '▁흔한': 4519, '▁나오면': 4520, '▁코난': 4521, '▁잊지': 4522, '▁학교에서': 4523, '▁건지': 4524, '▁끝이': 4525, '▁영화였어요': 4526, '몸': 4527, '▁집에서': 4528, '▁가서': 4529, '주기': 4530, '▁맡': 4531, '▁모든게': 4532, '▁슈': 4533, '▁국내': 4534, '▁말을': 4535, '▁있습니다': 4536, '이자': 4537, '▁손발이': 4538, '와는': 4539, '것들': 4540, '▁뻔하고': 4541, '\"\"\"\"\"\"\"': 4542, '▁이쁘다': 4543, '뛰': 4544, '▁한국인': 4545, '▁마이너스': 4546, '▁문화': 4547, '▁달달': 4548, '었네': 4549, '▁노답': 4550, '하더라': 4551, '적이다': 4552, '▁잼있다': 4553, '봐야지': 4554, '해진다': 4555, '▁끼': 4556, '▁표현한': 4557, '▁사람의': 4558, '▁좋지만': 4559, '몇': 4560, '▁만들고': 4561, '▁않지만': 4562, '▁웃김': 4563, '안되는': 4564, '감동적': 4565, '▁틀': 4566, '엇다': 4567, '거라': 4568, '▁순수': 4569, '어라': 4570, '되면': 4571, '틱': 4572, '▁봤더니': 4573, '롤': 4574, '털': 4575, '▁어렵': 4576, '했으나': 4577, '하고싶': 4578, '해주세요': 4579, '그리': 4580, '▁음악과': 4581, '▁의문': 4582, '▁느낌을': 4583, '르고': 4584, '▁보았다': 4585, '겨울': 4586, '적은': 4587, '하기만': 4588, '굳': 4589, '▁오바': 4590, '▁단순한': 4591, '유발': 4592, '▁비슷': 4593, ':)': 4594, '소설': 4595, '▁받을': 4596, '▁있으': 4597, '▁솔직': 4598, '뽕': 4599, '녕': 4600, '▁뭉클': 4601, '▁흥미로운': 4602, '▁시간을': 4603, '▁현실적이': 4604, '▁웃음이': 4605, '▁망한': 4606, '▁빼고': 4607, '▁ᄋ': 4608, 'ᅮᅮᅮ': 4609, '▁푸': 4610, '있나': 4611, '▁싶네요': 4612, '▁신선하고': 4613, '▁억지스럽': 4614, '꿀잼': 4615, '▁감동적': 4616, '쁜': 4617, '▁철': 4618, '▁왠': 4619, '쉽': 4620, '연기력': 4621, '수있는': 4622, '▁우주': 4623, '▁멍청한': 4624, '매력': 4625, '▁한국영화는': 4626, '▁모르': 4627, '줬다': 4628, '략': 4629, '▁the': 4630, '▁젠장': 4631, '▁슈퍼': 4632, '장면이': 4633, '▁벌써': 4634, '하는건': 4635, '▁최강': 4636, '▁속에': 4637, '▁시청': 4638, '▁시각': 4639, '▁무척': 4640, '▁좋았을': 4641, '▁10276': 4642, '▁50': 4643, '▁극치': 4644, '▁아쉽네요': 4645, '▁현실적인': 4646, '▁남자가': 4647, '▁볼수있': 4648, '사는': 4649, '▁아마': 4650, '▁미모': 4651, '맹': 4652, '편의': 4653, '슬프': 4654, '드립니다': 4655, '보는내내': 4656, '▁채널': 4657, '더라면': 4658, '▁빼고는': 4659, '장난': 4660, '아쉽': 4661, '▁끌어': 4662, '▁케이블': 4663, '▁되지': 4664, '까지는': 4665, '▁시청자': 4666, '사회': 4667, '▁묘사': 4668, '▁반개도': 4669, '줄알았': 4670, '▁지구': 4671, '▁재밌던데': 4672, '빼곤': 4673, '대사': 4674, '▁멍청': 4675, '▁전체': 4676, '▁부족하다': 4677, '▁보인다': 4678, '▁신파': 4679, '▁안보고': 4680, '▁감동적이다': 4681, '▁쓰레기같은': 4682, '자체가': 4683, '▁못해': 4684, '▁쓰레기다': 4685, '▁한심': 4686, '마리': 4687, 'it': 4688, '▁잔': 4689, '▁흥': 4690, '맥': 4691, '점정도': 4692, '뭔': 4693, '▁혼': 4694, '하신': 4695, '▁줌': 4696, '잇는': 4697, 'st': 4698, '▁러닝타임': 4699, '쥬': 4700, '▁김기덕': 4701, '▁떨어지': 4702, '▁새롭': 4703, '▁좀더': 4704, '▁웃기지도': 4705, '계속': 4706, '▁안나': 4707, '▁낮네': 4708, '▁없는데': 4709, '▁조합': 4710, '▁떠나서': 4711, '가요': 4712, '▁꽝': 4713, '▁못할': 4714, '내고': 4715, '▁공부': 4716, '▁괜찮은데': 4717, '▁잔잔하': 4718, '▁한참': 4719, '넣': 4720, '▁있으면': 4721, '갈수록': 4722, '야한다': 4723, '▁이해할': 4724, '▁루': 4725, '▁배우들도': 4726, '▁[': 4727, '▁뽑': 4728, '이런영화': 4729, '▁인간이': 4730, '▁:': 4731, '팀': 4732, '▁불구하고': 4733, '▁맨날': 4734, '하지마라': 4735, '만이': 4736, '버리는': 4737, '▁한데': 4738, '▁무서웠': 4739, '▁제로': 4740, '▁올려': 4741, '▁빵점': 4742, '몰입': 4743, '▁볼만했': 4744, '▁그걸': 4745, '▁니들': 4746, '▁아줌마': 4747, '▁영화인듯': 4748, '잔인': 4749, '▁최대': 4750, '▁콩': 4751, '▁중에서': 4752, '▁기독교': 4753, '떼': 4754, '▁더러운': 4755, '▁관한': 4756, '다는게': 4757, '▁민망': 4758, '었나': 4759, '▁지켜': 4760, '▁레알': 4761, '▁국민': 4762, '▁역대급': 4763, '▁외모': 4764, '편도': 4765, '▁징': 4766, '▁007': 4767, '해진': 4768, '▁주말': 4769, '▁거지': 4770, '▁원작의': 4771, '▁작가가': 4772, '▁진부하고': 4773, '▁여행': 4774, '쳤다': 4775, '줘서': 4776, '▁이래': 4777, '▁인물들': 4778, 'en': 4779, '시작': 4780, '이라서': 4781, '낀': 4782, '▁포르노': 4783, 'ing': 4784, '기위해': 4785, '하던데': 4786, 'ᄏᄏᄏᄏᄏᄏᄏᄏᄏᄏᄏᄏ': 4787, '▁영어': 4788, '▁고통': 4789, '♥♥♥': 4790, '▁뜻': 4791, '▁무섭지도': 4792, '▁남겨': 4793, '셔서': 4794, '▁꿈을': 4795, '지도않고': 4796, '▁못한다': 4797, '▁없지': 4798, '▁재미잇': 4799, '만큼은': 4800, '▁훈훈한': 4801, '▁울고': 4802, '푸': 4803, '▁쓸': 4804, '▁인도': 4805, '으려': 4806, '끝까지': 4807, '▁낳': 4808, '▁지루하게': 4809, '객': 4810, '자리': 4811, '넹': 4812, '칙': 4813, '퀴': 4814, '▁아까울': 4815, '▁아름다웠': 4816, '▁좋아할': 4817, '▁화끈': 4818, '셈': 4819, '▁보시': 4820, '▁일품': 4821, '▁잊을': 4822, '제발': 4823, '제작': 4824, '~~~~~~~~': 4825, '님들': 4826, '죽이고': 4827, '에대한': 4828, '▁힘이': 4829, '이였다': 4830, '과는': 4831, '▁유명한': 4832, '스럽지': 4833, '▁나오지': 4834, '편에': 4835, '▁철학': 4836, '밥': 4837, '보네': 4838, '했었는데': 4839, '▁하는지': 4840, '▁찌': 4841, '짜증나': 4842, '▁오글': 4843, '해야지': 4844, '▁카리스마': 4845, '편을': 4846, '▁검색': 4847, '아쉬웠': 4848, '▁찌질': 4849, '▁기다리': 4850, '▁잼있어요': 4851, '▁아이돌': 4852, '▁박수를': 4853, '▁영화라는': 4854, '▁하네요': 4855, '치곤': 4856, '▁들었': 4857, '▁가면': 4858, '▁a': 4859, '▁장면에서': 4860, '봐요': 4861, '버릴': 4862, '▁괜찮다': 4863, '지말고': 4864, '▁착': 4865, '세상': 4866, 'G': 4867, 'I': 4868, '없는영화': 4869, '▁삶에': 4870, '▁색': 4871, '씨의': 4872, '배우가': 4873, '뉴': 4874, '랫': 4875, '탓': 4876, '▁초등학생': 4877, '▁크리스마스': 4878, '▁더불어': 4879, '냄새': 4880, '▁필름': 4881, '▁크리스': 4882, '▁복잡': 4883, '▁방법': 4884, '이었음': 4885, '▁변태': 4886, '▁한번쯤': 4887, '▁아이가': 4888, '▁주기': 4889, '▁사랑이야기': 4890, '▁하나하나': 4891, '▁모르겠지만': 4892, '▁중요': 4893, '우리': 4894, '▁인상적이': 4895, '었네요': 4896, '▁보자': 4897, '▁왜이래': 4898, '▁드립니다': 4899, '하기도': 4900, '▁인간들': 4901, '년만에': 4902, '▁작품을': 4903, '고싶은': 4904, '쥐': 4905, '듣': 4906, '▁안맞': 4907, '▁유명': 4908, '텐': 4909, '▁것들': 4910, '례': 4911, '룩': 4912, '섯': 4913, '▁싸이코': 4914, '▁좋았으나': 4915, '▁추억이': 4916, 'ar': 4917, '억지': 4918, '▁최소': 4919, '▁없었던': 4920, '▁갔': 4921, '머니': 4922, '쟁이': 4923, '감독님': 4924, '까요': 4925, '▁평점보고': 4926, '▁수도': 4927, '▁가져': 4928, '▁만든영화': 4929, '▁이유를': 4930, '하기엔': 4931, '▁같아서': 4932, '▁지루하기': 4933, '▁할까': 4934, '▁잊을수': 4935, '막히': 4936, '시즌': 4937, '▁아역': 4938, '개념': 4939, '옷': 4940, '▁로봇': 4941, '▁좋게': 4942, '▁양심': 4943, '▁이해하기': 4944, '▁끝났': 4945, '▁누구나': 4946, '~!!!': 4947, '▁졸리': 4948, '▁허세': 4949, '▁친구들': 4950, '▁기대했는데': 4951, '이러': 4952, '하겠': 4953, '으로써': 4954, '▁대사가': 4955, '▁간다': 4956, '좋아하는': 4957, '앞': 4958, '▁오랜만': 4959, '▁ᄏᄏᄏᄏᄏᄏ': 4960, '▁싶지': 4961, '▁쩝': 4962, '공포영화': 4963, '▁좋아해서': 4964, '기에는': 4965, '▁9985': 4966, '못보겠': 4967, '뭔가': 4968, '똥': 4969, '^^*': 4970, '▁훈훈': 4971, '▁전설의': 4972, '겠네요': 4973, '▁틀어': 4974, '닮': 4975, 'ᄎ': 4976, '둔': 4977, '▁응원': 4978, '▁바뀌': 4979, '▁뛰어넘': 4980, '점이다': 4981, '▁즐기': 4982, '▁좋겠어요': 4983, '▁의미를': 4984, '▁한명': 4985, '▁점수가': 4986, '▁돋': 4987, '▁설마': 4988, '▁착한': 4989, '▁탈': 4990, '좋음': 4991, '▁1,2': 4992, '▁자살': 4993, '▁할수': 4994, '▁보기에': 4995, '점줌': 4996, '▁명작입니다': 4997, '자를': 4998, '주면': 4999, '▁그렇다고': 5000, '▁비디오로': 5001, '▁아직까지': 5002, '▁폴': 5003, '공감': 5004, '▁감동의': 5005, '▁본영화': 5006, '끼리': 5007, '특': 5008, '샤': 5009, '▁눈에': 5010, '밤': 5011, '멍': 5012, '빌': 5013, '▁재미와': 5014, '▁행복한': 5015, '본영화': 5016, '깜': 5017, '▁어처구니': 5018, '칸': 5019, '▁누군가': 5020, '▁감흥': 5021, '▁개뿔': 5022, '▁느껴진다': 5023, '▁21': 5024, '보고싶다': 5025, '▁멍': 5026, '것보다': 5027, '▁시리즈중': 5028, '▁기술': 5029, '▁야동': 5030, '▁작품이다': 5031, '▁살려': 5032, '나가는': 5033, '▁낚시': 5034, '▁이럴': 5035, '▁넘치는': 5036, '한다고': 5037, '▁말하는': 5038, '▁견': 5039, '없어서': 5040, '▁연기력도': 5041, '스키': 5042, 'as': 5043, '▁홍콩영화': 5044, '▁보려고': 5045, '▁본거': 5046, '▁가슴에': 5047, '▁장면들': 5048, '▁이때': 5049, '▁긴장감이': 5050, '▁망치': 5051, '<': 5052, '벅': 5053, 'ᅥ': 5054, '▁시간가는줄': 5055, '▁패러디': 5056, '▁보러': 5057, '▁낮다': 5058, '겁니다': 5059, '▁갈등': 5060, '▁세월': 5061, '▁자식': 5062, '▁O': 5063, '▁개막장': 5064, '▁때문': 5065, '▁웃기다': 5066, '간의': 5067, '▁무리': 5068, '▁하면서': 5069, '▁재미있어': 5070, '▁사랑은': 5071, '의미': 5072, '새끼들': 5073, '▁평론가들': 5074, '▁원작이': 5075, '는거야': 5076, '쳐서': 5077, '허접': 5078, '차라리': 5079, '셀': 5080, 'K': 5081, '깍': 5082, '▁에피소드': 5083, '럭': 5084, '쭉': 5085, 'z': 5086, '▁왠만하면': 5087, '▁기다려': 5088, '▁떨어진다': 5089, '▁겨우': 5090, '▁풍경': 5091, '그래서': 5092, '▁있구나': 5093, '이걸': 5094, '▁엄': 5095, '▁모르게': 5096, '▁관객들': 5097, '▁한심한': 5098, '▁덕분에': 5099, '잡고': 5100, '▁깔끔': 5101, '내내': 5102, '냈다': 5103, '▁작은': 5104, '럴': 5105, '▁승': 5106, '▁2014': 5107, '쓰레기영화': 5108, '▁모르겠고': 5109, '▁찬': 5110, '▁말하고': 5111, '있냐': 5112, '닐': 5113, '▁전쟁영화': 5114, '엠': 5115, '▁초등학교': 5116, '삐': 5117, '델': 5118, '폼': 5119, '▁깜짝': 5120, '무서움': 5121, '▁교육': 5122, '▁애기': 5123, '얼굴': 5124, '▁어린시절': 5125, '▁빈약': 5126, '꼴': 5127, '것인가': 5128, '요즘': 5129, '할만한': 5130, '!!!!!!': 5131, '▁들었다': 5132, '영화인데': 5133, '저리': 5134, '▁이것이': 5135, '씬이': 5136, '하는영화': 5137, '▁생각함': 5138, '▁실제로': 5139, '▁사랑의': 5140, '속의': 5141, '▁재밌다고': 5142, '▁도전': 5143, '▁뿐이다': 5144, '▁형님': 5145, '했을까': 5146, '스크': 5147, '렬': 5148, '▁못하다': 5149, '부작': 5150, '▁뛰어': 5151, '자나': 5152, '▁대화': 5153, '▁빠진': 5154, '겠음': 5155, '겠어요': 5156, '같아': 5157, '▁어릴': 5158, '▁블랙': 5159, '구리': 5160, '핀': 5161, '▁외계인': 5162, '▁스트레스': 5163, '▁피해자': 5164, '▁재미없게': 5165, '▁낚였다': 5166, '▁다룬': 5167, '▁최초': 5168, '씁쓸': 5169, '▁부모': 5170, '▁부르': 5171, '▁헤어': 5172, '▁여태': 5173, '▁전개도': 5174, '▁좋았지만': 5175, '▁힘들었': 5176, '시대에': 5177, '▁가치가': 5178, '▁잼잇': 5179, '년도에': 5180, '재미없음': 5181, '보구': 5182, '▁개봉한': 5183, '▁뇌': 5184, 'll': 5185, '▁야구': 5186, '능력': 5187, '싶': 5188, '오래': 5189, '살아': 5190, '더라도': 5191, '▁어른들': 5192, '나올때': 5193, '필요': 5194, '▁최고임': 5195, '인건': 5196, '▁단지': 5197, '기로': 5198, '▁봤네': 5199, '콘': 5200, '▁ᄉ': 5201, '▁답답한': 5202, '꾼': 5203, '윈': 5204, '쿨': 5205, '긋': 5206, '렷': 5207, '▁고양이': 5208, '▁영원히': 5209, '▁용기': 5210, '▁반복': 5211, '▁참신한': 5212, '▁못함': 5213, '였고': 5214, '▁일이': 5215, '▁완전히': 5216, '랜드': 5217, '같고': 5218, '▁잘봤어요': 5219, '▁악마': 5220, '▁재미있습니다': 5221, '배경': 5222, '▁명화': 5223, '▁잼나게': 5224, '0%': 5225, '▁연기자들': 5226, '▁남편': 5227, '▁싶은데': 5228, '▁쿠': 5229, '▁이미지': 5230, '빨리': 5231, '뻔한': 5232, '▁감정을': 5233, '지루함': 5234, '▁밤': 5235, '▁D': 5236, '켜': 5237, 'ᄏᄏᄏᄏᄏᄏᄏᄏᄏ': 5238, '대단': 5239, '▁개성': 5240, '▁탑': 5241, '륜': 5242, '춰': 5243, '▁보여준다': 5244, 'H': 5245, '▁색다른': 5246, '히어로': 5247, '▁몇몇': 5248, '▁개연성이': 5249, '그만': 5250, '▁여름': 5251, '돋': 5252, '▁재미없었다': 5253, '▁감명': 5254, '겠습니다': 5255, '기법': 5256, '!!!!!!!!!!!!!!!!': 5257, '▁해석': 5258, '▁훌륭하다': 5259, '▁아픈': 5260, 'le': 5261, '▁맹': 5262, '문화': 5263, '오글': 5264, '기까지': 5265, '▁미쳤': 5266, '▁생각하는': 5267, '30': 5268, '▁그렇지': 5269, '▁한마디': 5270, '▁보긴': 5271, '▁지나도': 5272, '▁아프': 5273, '▁쌍': 5274, '▁확실': 5275, '뭐야': 5276, '▁죽는줄': 5277, '껴': 5278, '섹': 5279, '냉': 5280, '빅': 5281, '▁무엇인지': 5282, '▁소중한': 5283, '▁아까웠다': 5284, '▁특별한': 5285, '▁그저그런': 5286, '▁짜증난다': 5287, '▁전율': 5288, '▁그녀의': 5289, '▁보았습니다': 5290, '감독의': 5291, '낚': 5292, '큰': 5293, '▁기대이상': 5294, '마지막에': 5295, '더빙': 5296, '▁산만하': 5297, '▁감히': 5298, '▁색감': 5299, '▁암튼': 5300, '오늘': 5301, '▁보통': 5302, '▁보지말': 5303, '거면': 5304, '▁웃고': 5305, 'th': 5306, '▁먹고': 5307, '점대는': 5308, '▁조화': 5309, '▁학교': 5310, '▁돼': 5311, '▁체': 5312, '때매': 5313, '▁있어야': 5314, '▁좋아하는데': 5315, '▁그거': 5316, '낯': 5317, '▁봤을때': 5318, '▁잔뜩': 5319, '▁스스로': 5320, '▁극장가서': 5321, '매니아': 5322, '▁에이': 5323, '▁수준의': 5324, '▁생각하고': 5325, '▁아니야': 5326, '읽': 5327, '▁만들다니': 5328, '▁노래도': 5329, '▁으리': 5330, '덜': 5331, '▁그당시': 5332, '▁기회': 5333, '▁엉성하고': 5334, '▁되고': 5335, '▁돌리': 5336, '것같아요': 5337, '▁동안': 5338, '▁커플': 5339, '▁에로영화': 5340, '▁최고였다': 5341, '▁소름이': 5342, '같네': 5343, '▁됨': 5344, '좋겠': 5345, '우스': 5346, '명의': 5347, '▁정도의': 5348, '▁만들면': 5349, '▁죽이는': 5350, '▁다르다': 5351, '거리는': 5352, '▁없어요': 5353, '스럽게': 5354, '▁장르가': 5355, '▁캬': 5356, '아무': 5357, '절대': 5358, '닿': 5359, '셉': 5360, '뽀': 5361, '쿵': 5362, '▁잠깐': 5363, '▁핵노잼': 5364, '납니다': 5365, '▁니콜': 5366, '▁이래서': 5367, '하고싶은': 5368, '▁이런영화를': 5369, 'bb': 5370, '▁조카': 5371, '요소': 5372, '주고싶다': 5373, '배우들의': 5374, '▁관객을': 5375, '▁남자의': 5376, '▁충격적이': 5377, '부분이': 5378, '되나': 5379, '▁많고': 5380, '▁심하게': 5381, '있어서': 5382, '트리': 5383, '빠지': 5384, '출연': 5385, '▁코미디영화': 5386, '▁주기도': 5387, '▁최근에': 5388, '때부터': 5389, '▁지났': 5390, '긴다': 5391, '개그': 5392, '만듬': 5393, '덕에': 5394, '칭': 5395, '펑': 5396, '▁DVD': 5397, '핑': 5398, '▁아류작': 5399, '▁안타까운': 5400, '▁이제서야': 5401, '▁소소한': 5402, '옴': 5403, '거같은데': 5404, '▁효과': 5405, '같지': 5406, '▁일어나': 5407, '▁보지마라': 5408, '▁짝이': 5409, '▁깎': 5410, '▁남네요': 5411, '됐다': 5412, '▁선생님': 5413, '▁빼면': 5414, '▁10273': 5415, '▁선동': 5416, '▁인디': 5417, '앤': 5418, '▁비하면': 5419, '▁보여줬': 5420, '▁생각나서': 5421, '▁모를': 5422, '▁어쩔수': 5423, '▁본다면': 5424, '보여': 5425, '▁우리의': 5426, '▁읽어': 5427, '▁안습': 5428, '▁오락': 5429, '▁뿌': 5430, '리즈': 5431, '레스': 5432, '▁최고의영화': 5433, '▁9986': 5434, '스포': 5435, '▁가족영화': 5436, '▁공포물': 5437, '했지': 5438, '▁따로': 5439, '▁본방사수': 5440, '▁식상한': 5441, '▁검': 5442, '▁낮지': 5443, '▁맞아': 5444, '20': 5445, '아까운': 5446, '뜬': 5447, '▁후속작': 5448, '▁동성애': 5449, '▁아이디어': 5450, '▁살고': 5451, '▁직접': 5452, '▁노래가': 5453, '▁모험': 5454, '▁감각': 5455, '▁비밀': 5456, '▁별로임': 5457, '▁앞으로도': 5458, '▁해결': 5459, '어디': 5460, '▁무술': 5461, '▁만남': 5462, '었지': 5463, '▁일반': 5464, '▁막판에': 5465, '▁않을까': 5466, '▁그럴': 5467, '하진': 5468, '빛': 5469, '쓸': 5470, '꽃': 5471, '▁내용인지': 5472, '재밌어': 5473, '올리': 5474, '▁침': 5475, '▁하는거': 5476, '모두': 5477, '▁보내': 5478, '년작': 5479, '물을': 5480, '▁모두가': 5481, '풋풋': 5482, '콤': 5483, '▁로버트': 5484, 'U': 5485, '▁봤을까': 5486, '▁스티븐': 5487, '▁심형래': 5488, '브라': 5489, '▁잔혹': 5490, '▁마지막장면': 5491, '▁낮아': 5492, '▁속에서': 5493, 'es': 5494, '왓': 5495, '▁여러분': 5496, '▁끈': 5497, '주고싶': 5498, '▁방영': 5499, '▁매력적': 5500, '▁들어가': 5501, '▁ᄀ': 5502, '▁탄탄': 5503, '▁예쁘고': 5504, '것같은': 5505, '▁정말이지': 5506, '흠': 5507, '아저씨': 5508, '▁출연한': 5509, '▁내가본': 5510, '하지마': 5511, '번을': 5512, '▁보며': 5513, '▁남아있': 5514, '▁영화보면서': 5515, '버전': 5516, '▁신비': 5517, '안됨': 5518, '사람들이': 5519, '▁내면': 5520, '동생': 5521, '▁마이': 5522, '▁넌': 5523, '▁개연성도': 5524, '▁죽은': 5525, 'ad': 5526, '▁배우를': 5527, '아까웠': 5528, '엑': 5529, '▁교과서': 5530, '▁제임스': 5531, '분은': 5532, '▁sf': 5533, '▁억지스러운': 5534, '▁조작': 5535, '▁오래된': 5536, '..............': 5537, '▁최고로': 5538, '얘': 5539, '▁조절': 5540, '▁10272': 5541, '▁집중해서': 5542, '▁썼': 5543, '이름': 5544, '생김': 5545, '▁괜찮음': 5546, '점이상': 5547, '찡': 5548, '붙': 5549, '▁60': 5550, '낭비': 5551, '딴': 5552, '▁안볼': 5553, '관람': 5554, '▁영상이': 5555, '▁캐릭터가': 5556, '▁영화보는': 5557, '야겠다': 5558, '▁않네요': 5559, '▁떨': 5560, '▁불쌍하다': 5561, '▁ᄌ': 5562, '했더니': 5563, '▁9305': 5564, '▁재밋어요': 5565, '▁기대했': 5566, '▁연출과': 5567, '감정': 5568, '문제': 5569, '▁단편': 5570, '▁볼수있는': 5571, '현실을': 5572, '▁ᄏᄏᄏᄏᄏᄏᄏ': 5573, '▁얼마': 5574, '었을': 5575, '보셈': 5576, '▁오빠': 5577, '▁여운을': 5578, '괜': 5579, '롯': 5580, '쪼': 5581, '▁주윤발': 5582, '▁특수효과': 5583, '층': 5584, '▁제이슨': 5585, '▁우리는': 5586, '▁위로': 5587, '▁여러가지': 5588, '▁잤다': 5589, '▁씹': 5590, '▁바꾸': 5591, '▁먼가': 5592, '▁주변': 5593, '만드네': 5594, '▁열연': 5595, '▁끝날': 5596, '▁재미도없고': 5597, '▁모르겠음': 5598, '▁모든것': 5599, '▁G': 5600, '여주': 5601, '▁부실': 5602, '▁여전': 5603, '▁비판': 5604, '-_-;': 5605, '상태': 5606, '▁가슴을': 5607, '비디오': 5608, '긴장감': 5609, '좋았다': 5610, '▁실력': 5611, '▁편견': 5612, '▁분위기가': 5613, '어이없': 5614, '싶다': 5615, '▁싶었': 5616, '바닥': 5617, '모든': 5618, '장애': 5619, '긴하지만': 5620, '▁대부분': 5621, '럼': 5622, '▁재난영화': 5623, '▁단어': 5624, '사람들은': 5625, '▁옥': 5626, '▁집에': 5627, '스토리도': 5628, '찮': 5629, '▁줄수': 5630, '딜': 5631, '▁됩니다': 5632, '▁살다살다': 5633, '랭': 5634, '싼': 5635, '▁거짓말': 5636, '▁다운받아': 5637, '▁경험': 5638, '▁비현실적': 5639, '애들이': 5640, 'ᄏᄏᄏᄏᄏᄏᄏᄏᄏᄏ': 5641, '▁반전은': 5642, '▁또다른': 5643, '주연': 5644, '▁만들었는지': 5645, '▁깨닫게': 5646, '▁과장': 5647, '높은': 5648, '▁따분': 5649, '▁한편의': 5650, '▁쥐': 5651, '라곤': 5652, '보니까': 5653, '▁궁금하다': 5654, '▁많은걸': 5655, '뿌': 5656, '하군': 5657, '▁뭐하나': 5658, '▁싶을': 5659, '번은': 5660, '▁구성이': 5661, '졸작': 5662, '하길': 5663, '같은영화': 5664, '후회': 5665, '▁망친': 5666, '조금': 5667, '받아서': 5668, '▁소장': 5669, '본사람': 5670, '▁만든거': 5671, '▁있다니': 5672, '♥♥♥♥': 5673, '닉': 5674, '앵': 5675, '▁인내심': 5676, '▁해리포터': 5677, '▁내생에': 5678, '▁어쩜': 5679, '▁남자들': 5680, '▁기가': 5681, '떨어지': 5682, '▁매력을': 5683, '▁적당히': 5684, '▁세상을': 5685, '▁결정': 5686, '▁엔딩이': 5687, '▁게다가': 5688, '▁이딴걸': 5689, '▁케이블에서': 5690, '나오고': 5691, '▁살면서': 5692, '였으면': 5693, '▁안맞는': 5694, '▁좀비영화': 5695, '▁뛰어나': 5696, '▁생각하면': 5697, '▁만들수': 5698, '▁손발': 5699, '▁안본': 5700, '▁기준': 5701, '못해': 5702, '▁풍자': 5703, '특별': 5704, '헐': 5705, '▁포스': 5706, '▁느꼈다': 5707, '초반': 5708, '▁이상하게': 5709, '것만으로도': 5710, '▁느껴졌': 5711, '배우들이': 5712, '쟁': 5713, '▁아까운영화': 5714, '▁애들은': 5715, '▁포스터가': 5716, '▁남은': 5717, '▁자주': 5718, '다큐': 5719, '렵': 5720, '▁ᄍᄍᄍ': 5721, '▁있던': 5722, '^-^': 5723, '▁블록버스터': 5724, '펙': 5725, '▁디테일': 5726, '▁길게': 5727, '▁말도안되는': 5728, '▁할머니': 5729, '▁사진': 5730, '▁로코': 5731, '▁남자주인공': 5732, '▁알겠는데': 5733, '▁톰': 5734, '치고는': 5735, '엇는데': 5736, '▁욕망': 5737, '▁나에겐': 5738, '게임': 5739, '▁대중': 5740, '▁놀랍다': 5741, '▁지겹다': 5742, '▁형사': 5743, '▁있었지만': 5744, '조아': 5745, '▁이런건': 5746, '보이는': 5747, '▁잘만들': 5748, '화이팅': 5749, '▁초딩때': 5750, '추억': 5751, '▁본인': 5752, '▁스릴있': 5753, '▁뭘까': 5754, '▁진수': 5755, '▁두고': 5756, '햇다': 5757, '좋은영화': 5758, '고싶어': 5759, '▁높게': 5760, '▁기자': 5761, '▁분들은': 5762, '없었': 5763, '▁영혼': 5764, '듭': 5765, '★': 5766, '▁짜임새': 5767, '싹': 5768, '▁스크린': 5769, '▁울컥': 5770, '▁낙': 5771, '▁담배': 5772, '▁나름대로': 5773, '▁이런영화는': 5774, '▁좋겠네요': 5775, '▁당연': 5776, '부러': 5777, '▁그자체': 5778, '▁아쉽지만': 5779, '▁대해서': 5780, '▁요리': 5781, '▁재밋음': 5782, '임에도': 5783, '▁어설프고': 5784, '기전에': 5785, '▁그립다': 5786, 'ᅮᅲ': 5787, '▁없습니다': 5788, '▁재미없어서': 5789, '삶': 5790, '▁조선': 5791, '으니까': 5792, '이즈': 5793, '▁살린': 5794, '촌': 5795, '뇌': 5796, '걍': 5797, '▁보여주고': 5798, '▁헬': 5799, '포스터': 5800, '웃김': 5801, '관객': 5802, '했을때': 5803, '상황': 5804, '▁거장': 5805, '▁똑같은': 5806, '른다': 5807, '같아서': 5808, '거같아요': 5809, '▁재미로': 5810, '▁잠이': 5811, '때문': 5812, '▁예쁘다': 5813, '▁W': 5814, '잖': 5815, '장르': 5816, '챙겨': 5817, '▁액션씬': 5818, '여행': 5819, '액': 5820, '▁약간의': 5821, '▁you': 5822, '▁가벼운': 5823, '곧': 5824, '▁러시아': 5825, '▁제니퍼': 5826, '컴': 5827, '▁탄생': 5828, '▁집착': 5829, '이었습니다': 5830, '▁웃으면서': 5831, '▁태어나서': 5832, '▁데리고': 5833, '▁언제봐도': 5834, '▁원작에': 5835, '▁둘이': 5836, '▁시간아깝다': 5837, '▁봐도봐도': 5838, '▁개노잼': 5839, '굿굿굿': 5840, '말이필요없': 5841, '보시길': 5842, '▁기억나는': 5843, '▁다루': 5844, '아빠': 5845, '▁봐야하는': 5846, '▁불러': 5847, '있습니다': 5848, '▁선물': 5849, '받아': 5850, '할수없': 5851, '▁의미가': 5852, '큐': 5853, '▁찾아보': 5854, '논': 5855, '지말자': 5856, '▁뭐니': 5857, '▁난해하': 5858, '웃겨': 5859, '▁편안': 5860, '▁답이': 5861, '▁9855': 5862, '▁잘만들었': 5863, '▁오락영화': 5864, '▁아름답': 5865, '▁봤어': 5866, '▁갖고': 5867, '▁Good': 5868, '▁아닙니다': 5869, '▁dvd': 5870, '곰': 5871, '뎅': 5872, '▁사운드': 5873, '▁이뻐서': 5874, '▁이따구': 5875, '▁시리즈는': 5876, '▁유일한': 5877, '▁인상적': 5878, '▁당황': 5879, '▁폐지': 5880, '져요': 5881, '▁흔들': 5882, '싶어서': 5883, '▁반담': 5884, '▁연극': 5885, '▁최고봉': 5886, '▁하지원': 5887, '▁동심': 5888, '줘도': 5889, '▁따뜻하고': 5890, '놈이': 5891, '▁다시보니': 5892, '▁진부하': 5893, '되었다': 5894, '기도하고': 5895, '다시보고싶': 5896, '재미있게': 5897, '▁있었는데': 5898, '었는지': 5899, '어린': 5900, '▁재밌어서': 5901, '▁하아': 5902, '보소': 5903, '▁샘': 5904, '거같음': 5905, '▁아이들과': 5906, '▁새로': 5907, '모르겟': 5908, '▁결말을': 5909, 'al': 5910, '솔직히': 5911, '도대체': 5912, '커플': 5913, '할뿐': 5914, '▁어디에': 5915, '▁않나': 5916, '▁몇년': 5917, '류영화': 5918, '▁영상과': 5919, '▁추리': 5920, '▁어렵다': 5921, '딘': 5922, '팍': 5923, 'ᄁ': 5924, '▁숨겨진': 5925, '닷': 5926, '램': 5927, '▁강렬한': 5928, '▁장국영': 5929, '▁끔찍': 5930, '▁유일하게': 5931, '▁다양한': 5932, '▁싸우는': 5933, '▁흑인': 5934, '여운이': 5935, '▁재개봉': 5936, '▁결코': 5937, '▁여자친구': 5938, '▁소설을': 5939, '▁놀라운': 5940, '▁울리는': 5941, '▁쓰는': 5942, '▁살아가는': 5943, '▁막장드라마': 5944, '▁나랑': 5945, '▁운명': 5946, '▁새벽에': 5947, '보는게': 5948, '▁즐거웠': 5949, '▁제목만': 5950, '하겠다': 5951, '검': 5952, '▁녹': 5953, '▁어설프': 5954, '▁답답하고': 5955, '▁잼있음': 5956, '▁빠르': 5957, '▁매미': 5958, '▁열받': 5959, '려다가': 5960, '말아먹': 5961, '구석': 5962, '▁재밌지': 5963, '어떻게': 5964, '▁시청률이': 5965, '▁짜증만': 5966, '▁잡아': 5967, '씀': 5968, '▁공감할': 5969, '댄': 5970, '본영화중': 5971, '▁관점': 5972, '묵': 5973, '갱': 5974, '▁오랫만에': 5975, '샌': 5976, '▁배트맨': 5977, '▁홍상수': 5978, '▁감정이입': 5979, '▁돋보이는': 5980, '갠적으로': 5981, '▁믿고보는': 5982, '었을까': 5983, '▁근래': 5984, '▁하늘': 5985, '▁한숨': 5986, '때까지': 5987, '▁담겨': 5988, '▁하나같이': 5989, '▁교훈을': 5990, '▁배역': 5991, '▁변화': 5992, '▁아름답게': 5993, '▁모든걸': 5994, '▁않아서': 5995, '옆': 5996, '▁10247': 5997, '▁싶어요': 5998, '▁클레멘타인': 5999, '▁시간만': 6000, '▁좋겠': 6001, '후반': 6002, '쓰는': 6003, '지마세요': 6004, '▁한국에서': 6005, '▁수작이다': 6006, '▁죽인': 6007, '베리': 6008, '▁쩔어': 6009, '▁하나로': 6010, '▁짧은': 6011, '▁자세': 6012, '▁멋졌': 6013, '벗': 6014, '▁안봐도': 6015, '▁아깝고': 6016, '될듯': 6017, '빠져': 6018, '▁볼때': 6019, '▁자체는': 6020, '▁삼류영화': 6021, '들끼리': 6022, '공주': 6023, '일듯': 6024, '낭': 6025, '혹은': 6026, '▁임팩트': 6027, '▁조니뎁': 6028, 'J': 6029, '▁뱀파이어': 6030, '▁왤케': 6031, '▁할리우드': 6032, '▁내생애': 6033, '▁빵빵': 6034, '할거': 6035, '▁대단하': 6036, '▁배경음악': 6037, '▁첫사랑': 6038, '▁하하': 6039, '▁내용과': 6040, '해주고': 6041, '▁맞지': 6042, '▁여자주인공': 6043, '▁10024': 6044, '▁10274': 6045, '▁꼬마': 6046, '▁성격': 6047, '겨운': 6048, '▁부모님': 6049, '건가요': 6050, '▁사랑해요': 6051, '▁빵터': 6052, '▁없었음': 6053, '▁호구': 6054, '▁불편한': 6055, '▁생긴': 6056, '▁손에': 6057, '▁재미있을': 6058, '▁떨어지고': 6059, '▁없냐': 6060, '웨이': 6061, '▁많은데': 6062, '아이들': 6063, '▁사상': 6064, '▁위해서': 6065, '썼': 6066, '스토': 6067, '▁점수는': 6068, '보게되': 6069, '▁반대': 6070, '▁좋네': 6071, '▁유치해': 6072, '없네요': 6073, '보인다': 6074, '▁허술한': 6075, '글자': 6076, '쩜': 6077, '닫': 6078, '랙': 6079, '뭣': 6080, '벼': 6081, '맴': 6082, '부끄럽': 6083, '▁뭥미': 6084, '▁뭐하자는': 6085, '분만에': 6086, '멜로': 6087, '할수가': 6088, '▁첨엔': 6089, '▁디워': 6090, '▁몰랐다': 6091, '거든': 6092, 'lo': 6093, '▁말하고자': 6094, '▁무료': 6095, '▁10004': 6096, '▁명장면': 6097, '▁주연배우': 6098, '않다': 6099, '▁인해': 6100, '▁책을': 6101, '▁아래': 6102, '학년': 6103, '기억이': 6104, '어색': 6105, '▁강한': 6106, '열자': 6107, ',,,,,,': 6108, '▁이해할수': 6109, '▁바다': 6110, '▁아쉬움이': 6111, '▁잔잔하면서': 6112, '▁발상': 6113, '▁마음으로': 6114, '해야할': 6115, '▁엉망이': 6116, '▁밀려': 6117, '▁귀엽다': 6118, '▁보기에는': 6119, '▁영화라니': 6120, '▁이상해': 6121, '점부터': 6122, '~~^^': 6123, '▁꽤나': 6124, '▁저급': 6125, '▁주제를': 6126, '▁아내': 6127, '재미있어요': 6128, '쩐다': 6129, '뿐이다': 6130, '▁사랑해': 6131, '▁보는거': 6132, '▁생각으로': 6133, '▁부분도': 6134, '안타까': 6135, '삭': 6136, '닼': 6137, '웟': 6138, '찐': 6139, '탱': 6140, '퓨': 6141, '덩어리': 6142, '▁하정우': 6143, '▁어울리는': 6144, '▁오글거려': 6145, '▁처절': 6146, '▁장난하냐': 6147, '▁사라지': 6148, '▁어째': 6149, '▁그야말로': 6150, '▁두번째': 6151, '리스트': 6152, '▁보다니': 6153, '▁10003': 6154, '▁ᄏᄏᄏᄏᄏᄏᄏᄏ': 6155, '▁대놓고': 6156, '▁10246': 6157, '▁난잡': 6158, '▁없나요': 6159, '▁10005': 6160, '▁다시보고': 6161, '놨네': 6162, '듯하다': 6163, '▁힘내': 6164, '▁매일': 6165, '할것': 6166, '라는걸': 6167, '▁훈훈하': 6168, '▁볼만했다': 6169, '▁그만큼': 6170, '존나': 6171, '▁낮게': 6172, '▁자신을': 6173, '였나': 6174, '월드': 6175, '▁음식': 6176, '이랄까': 6177, 'ᄍ': 6178, '느껴': 6179, '▁만들기': 6180, '▁짜증이': 6181, '▁순수함': 6182, '거죠': 6183, '▁다운받': 6184, '언제': 6185, '▁대통령': 6186, '▁명불허전': 6187, '▁우뢰매': 6188, '▁짐캐리': 6189, '▁컴퓨터': 6190, '켄': 6191, 'ᄡ': 6192, '▁고등학교': 6193, '▁명복을': 6194, '▁반드시': 6195, '▁익숙': 6196, '▁of': 6197, '▁영환데': 6198, '▁달콤': 6199, '▁바랍니다': 6200, '▁아닐': 6201, '▁모른다': 6202, '▁가정': 6203, '▁목적': 6204, '▁부럽': 6205, '줄알았는데': 6206, '▁10271': 6207, '▁짜증남': 6208, '▁애매': 6209, '▁듣고': 6210, '▁아깝네': 6211, '발연기': 6212, '▁우연': 6213, '볼수': 6214, '▁한국판': 6215, '▁만들어주': 6216, '아닌가': 6217, '▁짜증나서': 6218, '▁여주가': 6219, '▁재미있는데': 6220, '▁어른이': 6221, '이딴': 6222, '역사': 6223, '▁불쌍한': 6224, '▁멋지고': 6225, '▁포스터만': 6226, '둥이': 6227, '▁나네요': 6228, '▁실화를': 6229, '▁아예': 6230, '바라': 6231, '느끼': 6232, '꼈': 6233, '깃': 6234, '땀': 6235, '뗄': 6236, '▁쓸데없이': 6237, '앨': 6238, '짤': 6239, '둡': 6240, '▁이소룡': 6241, '▁즐겨': 6242, '소름': 6243, '▁착각': 6244, '▁흐르는': 6245, '극장에서': 6246, '▁쉽지': 6247, '▁아무런': 6248, '▁돈내고': 6249, '▁끼워': 6250, '▁재미없을': 6251, '▁거품': 6252, '▁한개도': 6253, '▁혹시나': 6254, '보긴': 6255, '앞에서': 6256, '▁어거지': 6257, '겠죠': 6258, '있지': 6259, 'ch': 6260, '▁본건데': 6261, '▁때려': 6262, '▁감동받': 6263, '▁안간다': 6264, '▁세상이': 6265, '▁수입': 6266, '▁2000': 6267, '먹은': 6268, '▁알겠다': 6269, '마냥': 6270, '▁철학적': 6271, '하러': 6272, '▁믿기지': 6273, '에대해': 6274, '▁소년': 6275, '불쌍': 6276, '숨': 6277, '깝': 6278, '아까워': 6279, '므': 6280, '▁세번': 6281, '낮은': 6282, '춤': 6283, '코믹': 6284, '귀엽': 6285, '분위기': 6286, '목소리': 6287, '올라': 6288, '▁싶었다': 6289, '욤': 6290, '▁설득력': 6291, '▁짜집기': 6292, '▁플롯': 6293, '▁아놀드': 6294, '▁박진감': 6295, '▁귀여움': 6296, '▁폭풍': 6297, '▁이것보단': 6298, '▁당연히': 6299, '아아아': 6300, '▁보게된': 6301, '짱짱': 6302, '▁내용전개': 6303, '▁괜찮았는데': 6304, '보여주': 6305, '분동안': 6306, '질질끌': 6307, '▁하품': 6308, '▁독일': 6309, '▁현실과': 6310, '▁잔잔하게': 6311, '▁생에': 6312, '둥': 6313, '갔는데': 6314, '있어요': 6315, '▁그지같': 6316, '사건': 6317, '싶은데': 6318, '너무너무': 6319, '▁배신': 6320, '부분은': 6321, '▁거기에': 6322, '▁2012': 6323, '돌이': 6324, '▁포스터에': 6325, '톤': 6326, '있었다': 6327, '▁안될': 6328, '▁자신이': 6329, '▁정신없': 6330, '당시': 6331, '▁당신은': 6332, '▁적절': 6333, '▁그럴듯': 6334, '▁괜찮았다': 6335, '재미없어': 6336, '▁예수': 6337, '했다면': 6338, '찾아': 6339, '보고있어요': 6340, '왠': 6341, '납': 6342, '첩': 6343, '얄': 6344, '젖': 6345, '▁빕니다': 6346, '▁움직이': 6347, '쫓': 6348, '▁깡패': 6349, '▁희대의': 6350, '▁양아치': 6351, '▁제시카': 6352, '▁케빈': 6353, '▁늑대': 6354, '▁연인': 6355, '▁명대사': 6356, '▁평균': 6357, '▁은근히': 6358, '▁중독': 6359, '혼자': 6360, '▁도망': 6361, '▁10182': 6362, '▁이상하고': 6363, '▁10250': 6364, '▁높아서': 6365, '이런류의': 6366, '햇는데': 6367, '▁10252': 6368, '▁생각했는데': 6369, '▁원조': 6370, '뭐냐': 6371, '▁키스': 6372, '▁확인': 6373, '▁기대없이': 6374, '게만드는': 6375, '여운': 6376, '▁재난': 6377, '봣다': 6378, '만족': 6379, '하는건지': 6380, '▁대본': 6381, '외로': 6382, '▁충분': 6383, '미친': 6384, '보기싫': 6385, '▁작품입니다': 6386, '▁무섭지': 6387, '싫어': 6388, '하시길': 6389, '▁박수': 6390, '있을까': 6391, '나왓': 6392, '보고싶어요': 6393, '▁무섭고': 6394, '아버지': 6395, '캐스팅': 6396, '측': 6397, 'ᅢ': 6398, '▁아무생각없이': 6399, '▁웰메이드': 6400, '똘': 6401, '뻥': 6402, '읍': 6403, '▁이토록': 6404, '▁스포츠': 6405, '▁정우성': 6406, '보느니': 6407, '▁앞뒤': 6408, '▁못보겠다': 6409, '▁실험': 6410, '▁루즈': 6411, '▁압도': 6412, '노답': 6413, '▁폭발': 6414, '▁여러번': 6415, '답니다': 6416, '▁10127': 6417, '재미있다': 6418, '▁추격': 6419, '▁10079': 6420, '▁볼만합니다': 6421, '▁동양': 6422, '▁인형': 6423, '▁재미있었음': 6424, '▁to': 6425, '▁재밌었던': 6426, '▁정신병자': 6427, '▁보려': 6428, '▁아깝네요': 6429, '▁10007': 6430, '▁별하나': 6431, '▁감동적이네요': 6432, '좋네요': 6433, '▁생기': 6434, '▁남긴': 6435, '▁자아': 6436, '볼수있': 6437, '▁쩌는': 6438, '뻔했다': 6439, '놀이': 6440, '▁마지막까지': 6441, '▁어디가': 6442, '▁봤다면': 6443, '▁즐겁': 6444, '칼': 6445, '▁없으면': 6446, '윌': 6447, '▁송강호': 6448, '▁케릭터': 6449, '뢰': 6450, '및': 6451, '▁박중훈': 6452, '곱': 6453, '튜': 6454, '▁부끄러': 6455, '▁이해불가': 6456, '▁목숨': 6457, '아직도': 6458, '▁블랙코미디': 6459, '▁배꼽': 6460, '엄청': 6461, '▁떨어짐': 6462, '▁상영관': 6463, '▁어느정도': 6464, '오르': 6465, '알아': 6466, '▁안보는게': 6467, '스케': 6468, '지않아': 6469, '▁울면서': 6470, '▁많아서': 6471, '보내': 6472, '▁10077': 6473, '못하겠': 6474, '왔어요': 6475, '▁않았지만': 6476, '스톤': 6477, '▁어울리지': 6478, '▁좋을듯': 6479, '▁어색하고': 6480, '▁아프다': 6481, '께요': 6482, '▁등장인물': 6483, '간만에': 6484, '작이라': 6485, '▁부부': 6486, '▁적당한': 6487, '▁알았네': 6488, '▁정도면': 6489, '없나': 6490, '미국': 6491, '▁몰라': 6492, '▁가능한': 6493, '▁멋있는': 6494, '▁혹시': 6495, '점주기도': 6496, 'ᅩ': 6497, '덩': 6498, '뚝': 6499, '쟈': 6500, '▁나레이션': 6501, '▁소중함을': 6502, '▁유덕화': 6503, '곽': 6504, '▁빨갱이': 6505, '▁우려먹': 6506, '▁도무지': 6507, '▁즐길': 6508, '90': 6509, '▁첩보': 6510, '▁무엇인가': 6511, '▁빠른': 6512, '탑': 6513, '▁만화책': 6514, '▁흘리': 6515, '▁에효': 6516, '▁만들었을까': 6517, '도좋고': 6518, '그랬': 6519, '▁부담': 6520, '▁10270': 6521, '▁예술영화': 6522, '행복': 6523, '▁시작부터': 6524, '▁10124': 6525, '하나하나가': 6526, '▁10108': 6527, '▁사랑합니다': 6528, '▁눈물나': 6529, '▁책으로': 6530, '곳에서': 6531, '귀신': 6532, '▁ᄒᄃᄃ': 6533, '▁실수': 6534, '~~~~~': 6535, '▁명연기': 6536, '있으면': 6537, '▁소화': 6538, '▁10136': 6539, '광구': 6540, '▁허무한': 6541, '▁희망을': 6542, '▁지겹': 6543, '빼': 6544, '▁그립': 6545, '▁갖다': 6546, '나름': 6547, '못하는': 6548, '▁찍는': 6549, '소녀': 6550, '▁10018': 6551, '뷰': 6552, '찔': 6553, '펜': 6554, '랴': 6555, '퀄': 6556, '띠': 6557, '▁공짜로': 6558, '▁드디어': 6559, '▁오글오글': 6560, '▁심지어': 6561, '▁꿈꾸': 6562, '▁맞춰': 6563, '▁가수': 6564, '▁10125': 6565, '▁명배우': 6566, '▁아만다': 6567, '평론가': 6568, '▁무겁': 6569, '▁10178': 6570, '같아요': 6571, '▁생각난다': 6572, '▁알았음': 6573, '신분': 6574, '▁기대이하': 6575, '▁영원한': 6576, '▁절정': 6577, '꺼야': 6578, '▁유치해서': 6579, '▁여자애': 6580, '▁100%': 6581, '▁끝나서': 6582, '갈때': 6583, '아까운영화': 6584, '▁따뜻해': 6585, 'li': 6586, '표정': 6587, '줘야지': 6588, '▁빛을': 6589, '▁황당한': 6590, '▁놀랍': 6591, '▁어디로': 6592, '겐': 6593, '▁김치': 6594, '▁역사를': 6595, '되요': 6596, '늙': 6597, '좋아하': 6598, '~~~~~~': 6599, '않음': 6600, '▁정상': 6601, '젊': 6602, '▁쓸데없는': 6603, '▁듭니다': 6604, '▁사투리': 6605, '▁흥미로웠': 6606, '▁역겨운': 6607, '▁좋았을텐데': 6608, '▁왠만한': 6609, '▁위험': 6610, '▁축구': 6611, '▁관련': 6612, '▁장애인': 6613, '▁감동적이에요': 6614, '▁살렸다': 6615, '▁등등': 6616, '▁판단': 6617, '▁향수': 6618, '것같은데': 6619, '▁만들어낸': 6620, '▁잘못된': 6621, '▁재미있었습니다': 6622, '▁보았던': 6623, 'TV': 6624, '▁기존': 6625, '▁스토리전개': 6626, '▁미안하다': 6627, '점만점에': 6628, '▁친구랑': 6629, '▁욕심': 6630, 'am': 6631, '▁고어': 6632, '편까지': 6633, '유쾌하게': 6634, '▁그렇지만': 6635, '▁서울': 6636, '▁실감': 6637, '▁모르겠네요': 6638, '제대로': 6639, '으려고': 6640, '▁왜곡': 6641, '▁아니었다': 6642, '▁액션신': 6643, '터짐': 6644, '부분에서': 6645, '지루하다': 6646, '▁중심': 6647, '순위': 6648, '▁밤에': 6649, '▁잼있네요': 6650, '▁전편보다': 6651, '▁의사': 6652, '지루하고': 6653, '만큼이나': 6654, '▁찾아볼': 6655, '▁미국식': 6656, '빠진': 6657, '▁의지': 6658, '받았다': 6659, '▁슬픈영화': 6660, '▁10020': 6661, '▁자극적': 6662, '랍': 6663, '젼': 6664, '밧': 6665, '▁네티즌': 6666, '▁류승범': 6667, '▁오프닝': 6668, '눌': 6669, '닭': 6670, '셋': 6671, '▁감명깊게': 6672, '▁브루스': 6673, '▁호기심': 6674, '곳에': 6675, '▁보지마셈': 6676, '▁환경': 6677, '▁향연': 6678, '▁마니': 6679, '▁할아버지': 6680, '▁로빈': 6681, '▁적어도': 6682, '▁마시길': 6683, '▁억지감동': 6684, '▁꼭보세요': 6685, '▁여친': 6686, '▁사랑스럽다': 6687, '▁화나': 6688, '▁만난': 6689, '▁보시면': 6690, '▁살인마': 6691, '▁다행이다': 6692, '▁탄탄하고': 6693, '▁괜찮았음': 6694, '비슷': 6695, '▁기적': 6696, '▁수많은': 6697, '외엔': 6698, '선택': 6699, '선수': 6700, '잼씀': 6701, '▁보고싶어': 6702, '▁소름끼치는': 6703, '▁녹아': 6704, '▁평화': 6705, '잖아요': 6706, '▁사람들에게': 6707, '▁내돈': 6708, '▁그동안': 6709, '▁말밖에': 6710, '▁다르게': 6711, '▁보겠다': 6712, '조연': 6713, '▁멋져': 6714, '▁사랑한다': 6715, '▁정작': 6716, '셔야': 6717, '▁잘만들었다': 6718, '것처럼': 6719, '등록': 6720, '▁깔끔한': 6721, '그러나': 6722, '겠는데': 6723, '▁않으': 6724, '힘들': 6725, '멜': 6726, '▁인상적인': 6727, '▁기대하지': 6728, '▁안본다': 6729, '였네요': 6730, '▁만들어서': 6731, '갠': 6732, '▁마지막엔': 6733, '▁비슷하': 6734, '멈': 6735, '▁스타워즈': 6736, '껀': 6737, '걷': 6738, '스파이더맨': 6739, '▁언젠가': 6740, '▁전반적으로': 6741, '▁화장실': 6742, '▁박보영': 6743, '▁괜찬': 6744, '쯧쯧': 6745, '▁이끌어': 6746, '▁누군지': 6747, '▁삭제': 6748, '▁하이틴': 6749, '▁스타뎀': 6750, '맙시다': 6751, '잊지못할': 6752, '▁스파이': 6753, '▁민폐': 6754, '▁그려낸': 6755, '▁풋풋한': 6756, '▁돈아까워': 6757, '▁일부러': 6758, 'un': 6759, '▁낫겠다': 6760, '▁따름': 6761, '▁부탁': 6762, '▁파괴': 6763, '▁요새': 6764, '▁개콘': 6765, '잊혀지': 6766, '▁재밌게봤어요': 6767, '할줄': 6768, '자마자': 6769, '해줄': 6770, '▁보았는데': 6771, '▁사람이라면': 6772, '▁재능': 6773, '▁재미있었는데': 6774, '▁처음에는': 6775, '▁귀여워요': 6776, '▁이딴영화': 6777, '▁담긴': 6778, '꿈': 6779, '것같네요': 6780, '시나리오': 6781, '핵': 6782, '▁있었으면': 6783, '그럼': 6784, '바람': 6785, '시간동안': 6786, '▁마지막회': 6787, '▁첨이다': 6788, '▁넘넘': 6789, '▁어설프다': 6790, '▁생명': 6791, '▁현실감': 6792, '▁정보': 6793, '장난치': 6794, '싫다': 6795, '▁실망스럽': 6796, '▁않은데': 6797, '▁승리': 6798, '▁달려': 6799, '▁의상': 6800, '▁괜찮아': 6801, '▁가득한': 6802, '▁망할': 6803, '스릴': 6804, '해지고': 6805, '거에요': 6806, 'ro': 6807, '천원': 6808, '보신분들': 6809, '답게': 6810, '픔': 6811, '떤': 6812, '엽': 6813, '하거나': 6814, '헉': 6815, '▁키아누': 6816, '븐': 6817, '▁movie': 6818, '랩': 6819, '썰': 6820, '엣': 6821, '옳': 6822, '홈': 6823, '▁가까운': 6824, '▁신하균': 6825, '▁자동차': 6826, '▁흑백': 6827, '▁혐오': 6828, '▁한효주': 6829, '▁엽기': 6830, '▁죄송': 6831, '▁낭만': 6832, '▁탈출': 6833, '▁센스': 6834, '▁픽사': 6835, '▁그림체': 6836, '▁앉아': 6837, '▁개똥': 6838, 'ᄀᄀ': 6839, '▁유럽': 6840, '▁장난하나': 6841, '▁모르지만': 6842, '▁마약': 6843, '▁울었어요': 6844, '잊': 6845, '꼽': 6846, '▁유행': 6847, '▁순수하고': 6848, '▁나을듯': 6849, '나왔으면': 6850, '▁공간': 6851, '▁보고나니': 6852, '▁위트': 6853, '▁죽었': 6854, '하니까': 6855, '▁귀여': 6856, '아무리': 6857, '에비해': 6858, '▁찾아서': 6859, '▁빠지는': 6860, '▁두시간': 6861, '▁등장인물들': 6862, '▁벗어나': 6863, '할수있는': 6864, '소재와': 6865, '▁괜찮게': 6866, '▁4.44': 6867, '▁놓치': 6868, '멋잇': 6869, '▁소장하고': 6870, '있지만': 6871, '싶음': 6872, 'ed': 6873, '비추': 6874, '쯔': 6875, '툭': 6876, '▁흡입력': 6877, '넬': 6878, '▁놀랐다': 6879, '▁못봐주겠': 6880, '▁아기자기': 6881, '▁알파치노': 6882, '▁점수준것들': 6883, '릇': 6884, '인상깊었': 6885, '템': 6886, '렐': 6887, '▁역겹다': 6888, '▁말그대로': 6889, '▁배급사': 6890, '▁일주일': 6891, '▁킬러': 6892, '▁맞나': 6893, '▁상관없': 6894, '▁짜릿': 6895, '▁예측': 6896, '당시엔': 6897, '▁오래전에': 6898, '▁고독': 6899, '▁은근': 6900, '▁절망': 6901, '▁가족들': 6902, '▁말아야': 6903, '▁부활': 6904, '▁말하려는': 6905, '▁조낸': 6906, '▁첨부터': 6907, '댄스': 6908, '▁궁금해서': 6909, '▁아니잖아': 6910, '▁웃었다': 6911, '▁치유': 6912, '하자면': 6913, '하지말고': 6914, '갖': 6915, 'CG': 6916, '보네요': 6917, '드립': 6918, '전혀': 6919, '▁잠시': 6920, '▁불안': 6921, '긴했지만': 6922, '해줘서': 6923, '▁프랑스영화': 6924, '▁벗어': 6925, '▁신선함': 6926, '▁옆에': 6927, '▁재미없네요': 6928, '볼까': 6929, '▁여신': 6930, 've': 6931, '▁초반부': 6932, '▁씁쓸하': 6933, '▁때리': 6934, '▁상대': 6935, '▁영원': 6936, '아름다': 6937, '씁': 6938, '렀': 6939, '뭉': 6940, '퉁': 6941, '뱀': 6942, '엮': 6943, '▁EBS': 6944, '▁둘째치고': 6945, '룰': 6946, '쩍': 6947, '츄': 6948, '캡': 6949, '▁이병헌': 6950, '쉐': 6951, '▁도데체': 6952, '오랫동안': 6953, '▁강동원': 6954, '▁어두운': 6955, '▁김혜수': 6956, '▁무거운': 6957, '▁불가능': 6958, '▁라이언': 6959, '▁쓸쓸': 6960, '▁격투': 6961, '▁극혐': 6962, '▁아름다워': 6963, '▁생각해보게': 6964, '▁고딩': 6965, '▁제외하': 6966, '▁이도저도': 6967, '▁극복': 6968, '▁감동적입니다': 6969, '▁심한': 6970, '▁개꿀잼': 6971, '▁거북': 6972, '▁만들어졌': 6973, '▁거지같은': 6974, '보임': 6975, '▁언제까지': 6976, '▁돼지': 6977, '봣어요': 6978, '▁적절한': 6979, '▁답답하다': 6980, '신분들': 6981, '뻔함': 6982, '폴': 6983, '▁잃었': 6984, '그렇게': 6985, '▁시작해서': 6986, '▁반영': 6987, '▁건질': 6988, 'us': 6989, '▁모르겠네': 6990, '▁답답함': 6991, '돈주고': 6992, '재밋음': 6993, '떨어져': 6994, '누님': 6995, '였다면': 6996, '▁대사들': 6997, '쿡': 6998, '덴': 6999, '빗': 7000, '숀': 7001, '▁유치찬란': 7002, '▁인터넷': 7003, '끗': 7004, '옮': 7005, '퉤': 7006, '▁리얼리티': 7007, '▁임창정': 7008, '머릿속': 7009, '▁고뇌': 7010, '▁상징': 7011, '▁좋으나': 7012, '동시에': 7013, '▁흥분': 7014, '▁서양': 7015, '▁가족애': 7016, '므로': 7017, '▁보고싶은데': 7018, '줘요': 7019, '▁연기잘하': 7020, '▁완벽하다': 7021, 'very': 7022, '▁어이없음': 7023, '특집': 7024, '▁빠져서': 7025, '▁좋아하지만': 7026, '것같아': 7027, '훌륭': 7028, '코메디': 7029, '▁괜찮네요': 7030, 'ri': 7031, '▁삶과': 7032, '▁충분한': 7033, '앞으로': 7034, 'ter': 7035, '▁별로였다': 7036, '외에는': 7037, '▁볼것': 7038, '▁새벽': 7039, '생기고': 7040, '뜸': 7041, '▁시간때우기': 7042, '▁오그라드는': 7043, '▁왕조현': 7044, '둠': 7045, '듦': 7046, '몫': 7047, '뭇': 7048, '쉴': 7049, '▁김수현': 7050, '▁닥치고': 7051, '▁기발한': 7052, '▁수면제': 7053, '▁ᄌᄂ': 7054, '▁bad': 7055, '▁상큼': 7056, '▁말이필요없다': 7057, '▁로맨틱코미디': 7058, '▁각색': 7059, '▁과학': 7060, '▁강력': 7061, '명성에': 7062, '▁재앙': 7063, '▁엄청나게': 7064, 'ost': 7065, '▁사랑스럽고': 7066, '▁전체적인': 7067, '▁로망': 7068, '▁에라이': 7069, '▁충분하다': 7070, '녀석': 7071, '▁단순히': 7072, '▁우왕': 7073, '▁놀란': 7074, '▁다운받아서': 7075, '▁충격적인': 7076, '였구나': 7077, '▁평소': 7078, '▁독특하고': 7079, '▁웃겼다': 7080, '▁최고에요': 7081, '▁준비': 7082, '쩝': 7083, '잭': 7084, '뭘': 7085, '병맛': 7086, '허무': 7087, '보지마라': 7088, '▁나와야': 7089, '▁빠졌': 7090, '복수': 7091, '▁도시': 7092, '▁여배우들': 7093, '▁캐리': 7094, '▁들어간': 7095, '▁전문': 7096, '▁낚인': 7097, '▁섬세한': 7098, '▁시종일관': 7099, '쩡': 7100, '됫': 7101, '▁바탕으로': 7102, '▁두고두고': 7103, '▁평점조절': 7104, '▁아쉬울': 7105, '▁칭찬': 7106, '▁미스터리': 7107, '드려요': 7108, '▁혁명': 7109, '마누라': 7110, '▁굳굳': 7111, '▁잘생겼': 7112, '망작': 7113, '▁역량': 7114, '▁빛나는': 7115, '페이스': 7116, '▁라스트': 7117, '▁좋겠습니다': 7118, '습니까': 7119, '차별': 7120, '▁멋져요': 7121, '▁태국': 7122, '▁한심하다': 7123, '??????': 7124, '립니다': 7125, '▁싶었던': 7126, '▁속았다': 7127, '학년때': 7128, '▁무엇이': 7129, '▁부산': 7130, '▁역사상': 7131, '▁상당': 7132, '▁공유': 7133, '싶었는데': 7134, '▁2.22': 7135, '되길': 7136, '▁한번더': 7137, '맞음': 7138, '만드나': 7139, '틀리': 7140, '개인적으로': 7141, '돌려': 7142, '로맨스': 7143, '하겠습니다': 7144, '편집': 7145, '▁자극적인': 7146, '▁있긴': 7147, 'av': 7148, '▁정신병': 7149, '▁정체': 7150, '구먼': 7151, '삼류': 7152, '앉': 7153, '▁뻔뻔': 7154, '덮': 7155, '렛': 7156, '밉': 7157, '킴': 7158, '▁미스캐스팅': 7159, '▁비쥬얼': 7160, '▁섬뜩': 7161, '뤄': 7162, '퀸': 7163, '▁여러모로': 7164, '▁되돌아': 7165, '▁비호감': 7166, '점준것중': 7167, '어울림': 7168, '▁완젼': 7169, '흑흑': 7170, '▁케미': 7171, '▁레옹': 7172, '▁멋짐': 7173, '▁동영상': 7174, '▁내취향': 7175, '▁묘한': 7176, '▁중학생': 7177, '▁귀여웠': 7178, '▁드림': 7179, '▁괜찮았던': 7180, '합시다': 7181, '▁진지하게': 7182, '▁인류': 7183, '▁않아요': 7184, '▁미녀': 7185, '▁부족함': 7186, '▁강간': 7187, '경찰': 7188, '예술': 7189, '▁싫어하는': 7190, '->': 7191, '각본': 7192, '▁웃겼': 7193, '▁흉내': 7194, '▁좋더라': 7195, '극히': 7196, '둑': 7197, '맙': 7198, '뎀': 7199, '쏴': 7200, '렴': 7201, '핫': 7202, '▁어정쩡': 7203, '▁짬뽕': 7204, '▁몽환적': 7205, '▁안타까움': 7206, '▁비행기': 7207, '▁걱정': 7208, '▁도둑': 7209, '▁풀어낸': 7210, '▁잃은': 7211, '▁알려주는': 7212, '▁만약': 7213, '▁보고있는데': 7214, '▁최후': 7215, '▁강추합니다': 7216, '▁아이유': 7217, '▁가히': 7218, '▁주려': 7219, '▁그리워': 7220, '먹었': 7221, '멀': 7222, '▁개봉당시': 7223, '범죄': 7224, '오랜만에': 7225, '초딩': 7226, '▁욕먹': 7227, '아닌데': 7228, '밖': 7229, '▁살아야': 7230, 'ma': 7231, '▁디카프리오': 7232, '▁밝혀': 7233, '▁애니매이션': 7234, '렘': 7235, '뻑': 7236, '캠': 7237, '팩': 7238, '▁뒤죽박죽': 7239, '▁엄정화': 7240, '켓': 7241, '▁원피스': 7242, '▁피아노': 7243, '▁왕가위': 7244, '▁섬세하': 7245, '▁드니로': 7246, '▁no': 7247, '▁자연스럽게': 7248, '▁그럴싸': 7249, '▁치밀하': 7250, '▁환장': 7251, '><': 7252, '▁난해한': 7253, '▁방황': 7254, '▁잔잔함': 7255, '▁아쉬워요': 7256, '▁감동적임': 7257, '▁가짜': 7258, '▁모욕': 7259, '▁역작': 7260, '▁아이들에게': 7261, '▁주온': 7262, '겠는가': 7263, '▁한동안': 7264, '나오는거': 7265, '▁공감되': 7266, '프로그램': 7267, '무서운': 7268, '댓글': 7269, '까봐': 7270, '결국': 7271, '교회': 7272, '것같음': 7273, '▁넣어': 7274, '▁막판': 7275, '밋': 7276, '▁허허': 7277, '챙': 7278, '▁팬들': 7279, '▁킬링': 7280, '▁가볍지': 7281, '뿜': 7282, '▁뒤늦게': 7283, '▁포켓몬': 7284, '겻': 7285, '뺏': 7286, '셧': 7287, '▁그냥저냥': 7288, '▁아마추어': 7289, '▁한석규': 7290, '썸': 7291, '▁클래식': 7292, '▁감성팔이': 7293, '▁묵직': 7294, '▁봐줄만': 7295, '▁무간도': 7296, '▁거부감': 7297, '▁크리스찬': 7298, '▁극단적': 7299, '▁호흡': 7300, '▁자연스러운': 7301, '▁개그맨': 7302, '▁공룡': 7303, '▁직업': 7304, '▁권력': 7305, '▁돌아보게': 7306, '시켰': 7307, '▁아무튼': 7308, '▁재탕': 7309, '▁반갑': 7310, '▁보여줄': 7311, '분짜리': 7312, '▁불쌍해서': 7313, '▁나올까': 7314, '▁만났': 7315, '돋는다': 7316, '샘': 7317, '킬링타임': 7318, '훨': 7319, '재밋어요': 7320, '좋아하는데': 7321, '▁OOOO': 7322, 'ᄒᄒᄒᄒᄒ': 7323, '▁완성': 7324, 'la': 7325, '나봐요': 7326, '검사': 7327, '▁일깨워': 7328, '▁송승헌': 7329, '▁영웅본색': 7330, '▁테이큰': 7331, '늬': 7332, '뚫': 7333, '좆': 7334, '훼': 7335, '▁설경구': 7336, '꽁': 7337, '▁가슴아프': 7338, '▁망쳐놓': 7339, '▁컬트': 7340, '▁총체적': 7341, '▁늙은': 7342, '▁잔인함': 7343, '▁거기다': 7344, '▁혼란': 7345, '▁못하겠다': 7346, '▁동화같은': 7347, '▁늙어': 7348, '▁감동적이었다': 7349, '▁챙겨보': 7350, '▁재밌었습니다': 7351, '▁마법': 7352, '▁흉내내': 7353, '덕분에': 7354, '시청률': 7355, '무서워': 7356, '보지마세요': 7357, '▁커버': 7358, '혐': 7359, '밍': 7360, '믄': 7361, '▁카메론': 7362, '얀': 7363, '▁겨울왕국': 7364, '▁고등학생': 7365, '▁러브라인': 7366, '▁엔딩크레딧': 7367, '▁호불호가': 7368, '덧': 7369, '썬': 7370, '왈': 7371, '▁원주율': 7372, '▁팝콘': 7373, '▁김민종': 7374, '▁김희선': 7375, '▁드래곤볼': 7376, '▁워낙': 7377, '▁손색이': 7378, '▁다니엘': 7379, '땜시': 7380, '▁전성기': 7381, '▁슈퍼맨': 7382, '▁절묘': 7383, '▁억지스런': 7384, '-.-': 7385, '▁시간아까워': 7386, '▁닮았': 7387, '현실적': 7388, '▁흘러가는': 7389, '▁기억난다': 7390, '▁있어보이': 7391, 'com': 7392, '▁브레': 7393, '큼': 7394, '옛날': 7395, '애니메이션': 7396, '얼마나': 7397, '더럽게': 7398, '궁금': 7399, '해야하나': 7400, '▁알게되': 7401, '영활': 7402, '▁짜증났': 7403, '▁야하지도': 7404, '야말로': 7405, '팝': 7406, 'ᄊ': 7407, '▁군더더기': 7408, '▁박찬욱': 7409, '턱': 7410, '톡': 7411, '헷': 7412, '혔': 7413, '뜯': 7414, '▁객관적': 7415, '▁나머진': 7416, '▁데뷔작': 7417, '▁최민수': 7418, '▁흠잡을': 7419, '▁후속편': 7420, '▁러셀': 7421, '▁엠마': 7422, '▁온갖': 7423, '▁택시': 7424, '▁귀찮': 7425, '▁민족': 7426, '▁새삼': 7427, '▁찬양': 7428, '▁파격적': 7429, '▁분량': 7430, '밴드': 7431, '▁흘렸': 7432, 'vs': 7433, '깐': 7434, '킥': 7435, '밨': 7436, '짙': 7437, 'ᄐ': 7438, '뎁': 7439, '륵': 7440, '첫': 7441, '냄': 7442, 'Y': 7443, '궈': 7444, '숲': 7445, '쌓': 7446, '앜': 7447, '졋': 7448, '썩': 7449, '꽝': 7450, '룬': 7451, '훌': 7452, '☆': 7453, '끓': 7454, '랏': 7455, '멕': 7456, '삘': 7457, '잣': 7458, '칫': 7459, '팽': 7460, '헨': 7461, '짧': 7462, '풋': 7463, '삽': 7464, '겄': 7465, '뼈': 7466, '쇄': 7467, '쉣': 7468, '줫': 7469, '훗': 7470, '쫌': 7471, '펠': 7472, '윽': 7473, '댓': 7474, '봇': 7475, '뚜': 7476, '탠': 7477, '↓': 7478, '뎌': 7479, '욬': 7480, '웩': 7481, '웰': 7482, '푼': 7483, '즌': 7484, '흉': 7485, '뜩': 7486, '뱅': 7487, '릅': 7488, '텅': 7489, '녁': 7490, '룸': 7491, '릉': 7492, '짖': 7493, '넷': 7494, '톰': 7495, '깎': 7496, '낌': 7497, '쎄': 7498, '쯧': 7499, '옵': 7500, '긔': 7501, '꺄': 7502, '썻': 7503, '헝': 7504, '핳': 7505, '넼': 7506, '싫': 7507, '믹': 7508, '펼': 7509, '긍': 7510, '쇠': 7511, '짬': 7512, '곁': 7513, '껍': 7514, '둬': 7515, '딕': 7516, '벙': 7517, '셜': 7518, '잎': 7519, '즉': 7520, '엌': 7521, '쩐': 7522, '낙': 7523, '씹': 7524, '봅': 7525, 'ᅦ': 7526, '밸': 7527, '。': 7528, '됴': 7529, '펀': 7530, '人': 7531, '겸': 7532, '빤': 7533, '켈': 7534, '훔': 7535, '갇': 7536, '꾹': 7537, '뉘': 7538, '쏙': 7539, '횽': 7540, '뿔': 7541, '뷔': 7542, 'Z': 7543, '럿': 7544, '쏠': 7545, '챔': 7546, '콕': 7547, '펴': 7548, '띵': 7549, '깁': 7550, '쵝': 7551, '깡': 7552, '샹': 7553, '됌': 7554, '샀': 7555, '펄': 7556, '핏': 7557, '넓': 7558, '맷': 7559, '톨': 7560, '#': 7561, 'q': 7562, 'ᄑ': 7563, '댐': 7564, '쌩': 7565, '꿨': 7566, '숫': 7567, '○': 7568, '욜': 7569, '컵': 7570, '댕': 7571, '묶': 7572, '슐': 7573, '쨩': 7574, '텀': 7575, '흙': 7576, '쉰': 7577, '흰': 7578, '쌍': 7579, '캬': 7580, '낳': 7581, '줍': 7582, '죤': 7583, '탭': 7584, '댈': 7585, '뱉': 7586, '쫙': 7587, '췄': 7588, '칩': 7589, 'ᅭ': 7590, '귓': 7591, '룹': 7592, '쌀': 7593, '듀': 7594, '뀌': 7595, '률': 7596, '뇨': 7597, '엎': 7598, '욧': 7599, '햄': 7600, '뺀': 7601, '솟': 7602, '쌈': 7603, '쌔': 7604, '캅': 7605, '힛': 7606, '\\\\': 7607, '쌤': 7608, '쑤': 7609, '륙': 7610, 'W': 7611, '꽤': 7612, '홉': 7613, '눠': 7614, '셰': 7615, '췌': 7616, '젓': 7617, '팡': 7618, '뻘': 7619, '넌': 7620, '밴': 7621, '찜': 7622, '엥': 7623, '·': 7624, '썽': 7625, 'ᆞ': 7626, '괘': 7627, '닦': 7628, '샬': 7629, '얕': 7630, '쪄': 7631, '탔': 7632, '퍽': 7633, '힝': 7634, '햐': 7635, '냅': 7636, '떳': 7637, '웬': 7638, '[': 7639, '뽑': 7640, '끊': 7641, '뭥': 7642, '깬': 7643, '’': 7644, '뒀': 7645, '샷': 7646, '셸': 7647, '썅': 7648, '씌': 7649, '킷': 7650, '툰': 7651, '짠': 7652, 'ᅣ': 7653, '싯': 7654, '‘': 7655, '늠': 7656, '얹': 7657, '乃': 7658, '굼': 7659, '뛴': 7660, '밭': 7661, '앳': 7662, '얌': 7663, '깽': 7664, '꺅': 7665, '웁': 7666, '륭': 7667, '롬': 7668, '놉': 7669, '돠': 7670, '갤': 7671, '겜': 7672, '꽂': 7673, '꾀': 7674, '낱': 7675, '됀': 7676, '젬': 7677, '촉': 7678, '쵸': 7679, '켠': 7680, '꿋': 7681, '씽': 7682, '윙': 7683, '낄': 7684, '|': 7685, '뎈': 7686, '딥': 7687, '떴': 7688, '뤽': 7689, '밈': 7690, '샴': 7691, '욯': 7692, '쟝': 7693, '몹': 7694, '갸': 7695, '낰': 7696, 'ᅧ': 7697, '헬': 7698, '푹': 7699, '곸': 7700, '팜': 7701, 'Q': 7702, '덥': 7703, '붐': 7704, '붓': 7705, '뺴': 7706, '얔': 7707, '웡': 7708, '읎': 7709, '좁': 7710, '짭': 7711, '퀼': 7712, '핡': 7713, '땟': 7714, '훅': 7715, '녹': 7716, '캔': 7717, '힙': 7718, '뺐': 7719, '뜰': 7720, '쑈': 7721, '쿤': 7722, '♬': 7723, '댔': 7724, '댜': 7725, '룻': 7726, '뮬': 7727, '쁠': 7728, '섰': 7729, '퀘': 7730, '큘': 7731, '꿉': 7732, '뭍': 7733, '빽': 7734, '짚': 7735, '늑': 7736, '첼': 7737, '無': 7738, '뵈': 7739, '젝': 7740, '“': 7741, '甲': 7742, '겔': 7743, '뷁': 7744, '좃': 7745, '쪙': 7746, '겅': 7747, '빔': 7748, '쾅': 7749, '킁': 7750, '쉘': 7751, '맡': 7752, '얻': 7753, '걱': 7754, '텍': 7755, '캣': 7756, '됏': 7757, '슥': 7758, '걔': 7759, '맬': 7760, '욘': 7761, '칵': 7762, '풉': 7763, '휼': 7764, '”': 7765, '뤘': 7766, '믓': 7767, '얍': 7768, '윗': 7769, '융': 7770, '훤': 7771, '쨔': 7772, '촬': 7773, '넝': 7774, '벡': 7775, '죵': 7776, '횡': 7777, '굽': 7778, '꼐': 7779, '넥': 7780, '뱃': 7781, '뿅': 7782, '숴': 7783, '춥': 7784, '흣': 7785, '댁': 7786, '잌': 7787, '잰': 7788, '퉷': 7789, '뤠': 7790, '헛': 7791, '켰': 7792, '괄': 7793, '귄': 7794, '쏜': 7795, '쳇': 7796, '캄': 7797, '꿰': 7798, '눅': 7799, '뎃': 7800, '뵙': 7801, '욥': 7802, '졷': 7803, '찼': 7804, '텨': 7805, '퐁': 7806, '헴': 7807, '끽': 7808, '→': 7809, '{': 7810, '}': 7811, '뒈': 7812, '밓': 7813, '첸': 7814, '냔': 7815, '넛': 7816, '넴': 7817, '뿍': 7818, '뿡': 7819, '괸': 7820, '돔': 7821, '멧': 7822, '썹': 7823, '쒯': 7824, '팰': 7825, '헿': 7826, '곀': 7827, '넉': 7828, '뒷': 7829, '땜': 7830, '쒸': 7831, '깟': 7832, '멱': 7833, 'ᆪ': 7834, '死': 7835, '뒹': 7836, '렜': 7837, '륨': 7838, '볶': 7839, '쫘': 7840, '큭': 7841, '펭': 7842, '햅': 7843, 'ᄈ': 7844, '샵': 7845, '콱': 7846, '읭': 7847, '쥑': 7848, '닛': 7849, '갚': 7850, '女': 7851, '뻗': 7852, '섀': 7853, '끙': 7854, '뇬': 7855, '$': 7856, '⌒': 7857, '♪': 7858, '作': 7859, '꽈': 7860, '넨': 7861, '떵': 7862, '벳': 7863, '쎈': 7864, '웹': 7865, '쨰': 7866, '뺑': 7867, '쮸': 7868, '갘': 7869, '킵': 7870, '컥': 7871, '쿼': 7872, '옛': 7873, '퀀': 7874, '쌉': 7875, '숟': 7876, '땔': 7877, '뉜': 7878, '낍': 7879, '뀜': 7880, '깼': 7881, '괭': 7882, '툴': 7883, '좔': 7884, '잴': 7885, '앍': 7886, '덱': 7887, '껑': 7888, '휠': 7889, '훑': 7890, '홥': 7891, '츤': 7892, '촘': 7893, '쫑': 7894, '샛': 7895, '닠': 7896, '휩': 7897, '폄': 7898, '쁩': 7899, '뀔': 7900, '긁': 7901, '핥': 7902, '콥': 7903, '릎': 7904, '꺾': 7905, '괞': 7906, '횟': 7907, '헠': 7908, '큽': 7909, '쟤': 7910, '옜': 7911, '샐': 7912, '딪': 7913, '멎': 7914, '뚤': 7915, '꺽': 7916, '꼼': 7917, '굵': 7918, '슌': 7919, '낡': 7920, '핍': 7921, '씻': 7922, '펏': 7923, '쥔': 7924, '돕': 7925, '녔': 7926, '닳': 7927, '쬐': 7928, '왼': 7929, '뺨': 7930, '픕': 7931, '쫒': 7932, '꽥': 7933, '쿄': 7934, '딨': 7935, '쨋': 7936, '빚': 7937, '넋': 7938, '얽': 7939, '뀐': 7940, '꼇': 7941, '뭡': 7942, '앓': 7943, '밟': 7944, '멤': 7945, '꽉': 7946, '붉': 7947, '웍': 7948, '솜': 7949, '땠': 7950, '홧': 7951, '쭈': 7952, '핸': 7953, '틋': 7954, '컸': 7955, '뻣': 7956, '맺': 7957, '맑': 7958, '찢': 7959, '겪': 7960, '쨌': 7961, '빕': 7962, '팠': 7963, '쫄': 7964, '띄': 7965, '틸': 7966, '텝': 7967, '껐': 7968, '콧': 7969, '닙': 7970, '쏟': 7971, '왤': 7972, '딧': 7973, '뻤': 7974, '꿔': 7975, '튀': 7976, '섞': 7977, '펐': 7978, '획': 7979, '겉': 7980, '밝': 7981, '쁨': 7982, '됩': 7983, '늦': 7984, '볍': 7985, '찝': 7986, '묻': 7987, '슷': 7988, '굉': 7989, '똑': 7990, '랐': 7991, '떻': 7992, '깊': 7993, '렇': 7994, '\"': 7995, '았': 7996, '밌': 7997, '봤': 7998, '탤': 7999}\n",
      "{0: '<unk>', 1: '<s>', 2: '</s>', 3: '▁', 4: '▁1', 5: '▁0', 6: '.', 7: '▁9', 8: '..', 9: '이', 10: '▁영화', 11: '▁8', 12: '...', 13: '가', 14: '의', 15: '도', 16: '▁7', 17: '는', 18: ',', 19: '을', 20: '▁6', 21: '고', 22: '에', 23: '▁5', 24: '은', 25: '▁10', 26: '다', 27: '지', 28: '▁3', 29: '▁4', 30: '?', 31: '한', 32: '▁2', 33: '▁너무', 34: '!', 35: '를', 36: '▁정말', 37: '만', 38: '▁이', 39: '로', 40: '게', 41: '나', 42: '영화', 43: '~', 44: '▁진짜', 45: '어', 46: '과', 47: '기', 48: '리', 49: '라', 50: '네', 51: '점', 52: '아', 53: '하고', 54: '인', 55: '으로', 56: '▁잘', 57: '▁안', 58: '....', 59: '!!', 60: '▁그', 61: '에서', 62: '▁아', 63: '▁왜', 64: '해', 65: '와', 66: '들', 67: '서', 68: '네요', 69: '▁이런', 70: '▁다', 71: '▁더', 72: '요', 73: '자', 74: '스', 75: '▁수', 76: '하는', 77: '음', 78: '▁본', 79: '▁그냥', 80: '거', 81: '면', 82: '▁드라마', 83: '지만', 84: '하다', 85: '시', 86: '대', 87: '수', 88: '함', 89: '니', 90: '야', 91: '▁보고', 92: '▁내', 93: '하', 94: '▁평점', 95: '▁연기', 96: '사', 97: '하게', 98: '이다', 99: '▁한', 100: '일', 101: '▁최고', 102: '여', 103: '진', 104: '▁좀', 105: '우', 106: '주', 107: '▁이거', 108: '▁ᄏᄏ', 109: '▁영화를', 110: '던', 111: '▁쓰레기', 112: '드', 113: '미', 114: '▁최고의', 115: '할', 116: '▁못', 117: '는데', 118: '▁봤는데', 119: '데', 120: '보다', 121: '▁참', 122: '구', 123: '냐', 124: '안', 125: '1', 126: '▁완전', 127: '임', 128: '▁없다', 129: '정', 130: '▁없는', 131: '성', 132: '!!!', 133: '▁스토리', 134: 'ᄏᄏ', 135: '▁영화가', 136: '▁내가', 137: '▁영화는', 138: '▁이건', 139: '▁나', 140: '장', 141: '신', 142: '듯', 143: '▁다시', 144: '보', 145: '▁개', 146: '상', 147: '들이', 148: '^^', 149: '▁좋은', 150: '까지', 151: '▁있는', 152: '▁이게', 153: '해서', 154: '▁보는', 155: '중', 156: '▁난', 157: '적', 158: '마', 159: '▁이렇게', 160: '부', 161: '려', 162: '치', 163: '▁뭐', 164: '▁말', 165: '~~', 166: '트', 167: '▁넘', 168: '▁보', 169: '건', 170: '오', 171: '2', 172: '화', 173: 'ᄏ', 174: '전', 175: '보고', 176: '▁평점이', 177: '랑', 178: '습니다', 179: '러', 180: '▁지', 181: '▁것', 182: '물', 183: '▁재밌게', 184: '원', 185: '그', 186: '▁오', 187: '히', 188: '질', 189: '▁작품', 190: '▁역시', 191: ';;', 192: '▁별로', 193: '용', 194: '개', 195: '비', 196: '분', 197: '때', 198: '▁많이', 199: '▁재미', 200: '▁감동', 201: '년', 202: '내', 203: '세', 204: '▁볼', 205: '▁하', 206: '▁또', 207: '▁저', 208: '인데', 209: '▁전', 210: '라고', 211: '적인', 212: '▁무', 213: '??', 214: '감', 215: '소', 216: '▁꼭', 217: '▁아깝다', 218: '▁마지막', 219: '것', 220: '진짜', 221: '했다', 222: '▁ᄏᄏᄏ', 223: '▁생각', 224: '▁대', 225: '▁감독', 226: '제', 227: '입니다', 228: '▁하나', 229: '▁액션', 230: '더', 231: '영', 232: '▁별', 233: '▁명작', 234: '어요', 235: '급', 236: '▁기대', 237: 'ᄏᄏᄏ', 238: '▁김', 239: '선', 240: '▁시간', 241: '▁이야기', 242: '무', 243: '식', 244: '▁가장', 245: '말', 246: '하지', 247: '▁그리고', 248: '▁미', 249: '부터', 250: '▁사', 251: '같은', 252: '▁주', 253: '▁중', 254: '▁어', 255: 'ᅲᅲ', 256: '▁지금', 257: '란', 258: '으면', 259: '▁하는', 260: '▁정', 261: '본', 262: \"'\", 263: '▁무슨', 264: '3', 265: '걸', 266: '당', 267: '▁없고', 268: '좀', 269: ';', 270: '▁조', 271: '드라마', 272: '▁아니', 273: '군', 274: '▁비', 275: '편', 276: '남', 277: '동', 278: '이나', 279: '유', 280: '▁ᄏ', 281: '줄', 282: '▁처음', 283: '호', 284: '▁유', 285: '▁보면', 286: '너무', 287: '▁짱', 288: '없는', 289: '된', 290: '▁만든', 291: '▁좋아', 292: '5', 293: '씨', 294: '모', 295: '있는', 296: '▁다른', 297: '디', 298: '작', 299: '▁ᅲᅲ', 300: '▁사랑', 301: '조', 302: '▁한국', 303: '▁배우', 304: '연', 305: '위', 306: '▁돈', 307: '▁느낌', 308: '▁마', 309: '울', 310: ')', 311: '워', 312: '라는', 313: '▁할', 314: '린', 315: '에게', 316: '▁일본', 317: '▁ᅳᅳ', 318: '한다', 319: '긴', 320: 'ᅲ', 321: '▁두', 322: '르', 323: '두', 324: '▁기', 325: '▁일', 326: '▁영화다', 327: '정말', 328: '바', 329: '운', 330: '▁말이', 331: '노', 332: '크', 333: '▁좋다', 334: '래', 335: '▁와', 336: '준', 337: '심', 338: '살', 339: '▁자', 340: '명', 341: '▁재밌다', 342: '▁거', 343: '었다', 344: '▁제', 345: '▁신', 346: '레', 347: '난', 348: '▁연출', 349: '▁소', 350: '▁내용', 351: '▁굿', 352: '▁ᄒᄒ', 353: '인지', 354: '방', 355: '▁끝까지', 356: '간', 357: '루', 358: '연기', 359: '인가', 360: '타', 361: '실', 362: '류', 363: '들의', 364: '구나', 365: '합니다', 366: 'ᅳᅳ', 367: '▁솔직히', 368: '▁구', 369: '경', 370: '발', 371: '저', 372: '▁같은', 373: '▁대박', 374: '죠', 375: '▁봤다', 376: '▁봐도', 377: '▁해', 378: '▁남', 379: '피', 380: '티', 381: '잘', 382: '민', 383: '▁있다', 384: '길', 385: ',,', 386: '희', 387: '판', 388: '재', 389: '▁최악의', 390: '▁애', 391: 'e', 392: '▁뭔가', 393: '▁알', 394: '생', 395: '프', 396: '했던', 397: '▁최악', 398: '▁후', 399: '단', 400: '▁아주', 401: '국', 402: '▁재미없다', 403: '▁인생', 404: '▁여자', 405: '처럼', 406: '▁재미있게', 407: '든', 408: '▁부', 409: '▁전혀', 410: '▁모', 411: '▁시', 412: '되는', 413: '▁같다', 414: '▁때', 415: '으', 416: \"▁'\", 417: '님', 418: '번', 419: '▁장', 420: '▁코미디', 421: '▁이영화', 422: '파', 423: '하나', 424: '엔', 425: '봤는데', 426: '못', 427: '하지만', 428: '시간', 429: '▁줄', 430: '▁사람', 431: '▁우', 432: '▁이걸', 433: '▁하지만', 434: '▁한번', 435: '때문에', 436: '애', 437: 'ᄒᄒ', 438: '후', 439: '▁대한', 440: '까', 441: '없다', 442: '이랑', 443: '-', 444: '림', 445: '점도', 446: '차', 447: '▁반', 448: '날', 449: '▁실망', 450: '하네', 451: '면서', 452: '▁배우들', 453: '▁되', 454: '터', 455: '▁내용이', 456: '(', 457: '며', 458: '박', 459: '▁바', 460: '▁모두', 461: '하면', 462: '관', 463: '▁스', 464: '▁계속', 465: '되', 466: '▁아니라', 467: '▁추천', 468: '▁많은', 469: '▁이상', 470: '카', 471: '▁없', 472: '▁나오는', 473: '4', 474: '▁어떻게', 475: '▁반전', 476: '들은', 477: '다가', 478: '지는', 479: '형', 480: '▁않고', 481: '▁내내', 482: '▁보기', 483: '▁그래도', 484: '생각', 485: 'o', 486: '이라', 487: '▁이해', 488: '하네요', 489: '▁스릴러', 490: '달', 491: '다니', 492: '키', 493: '▁아닌', 494: '▁박', 495: '없이', 496: '지도', 497: '▁주인공', 498: '10', 499: '▁연기가', 500: '▁공포', 501: '▁아름다운', 502: 't', 503: '▁딱', 504: '▁장면', 505: '▁강', 506: '보면', 507: '버', 508: '▁만들어', 509: '점이', 510: '!!!!', 511: '8', 512: '▁아니다', 513: '어서', 514: '▁그런', 515: '▁우리', 516: '극', 517: '역', 518: '겨', 519: '▁끝', 520: '적으로', 521: '▁전개', 522: '반', 523: '것도', 524: '~~~', 525: '▁남자', 526: '▁제일', 527: 'ᄒ', 528: '▁보다', 529: '따', 530: '▁만드는', 531: '▁듯', 532: '겠다', 533: '현', 534: '▁개봉', 535: '▁기억', 536: '▁조금', 537: '니까', 538: '▁불', 539: '♥', 540: '▁재', 541: '▁심', 542: '▁이제', 543: '▁속', 544: '▁싶다', 545: '최고', 546: '▁내용도', 547: '스토리', 548: '▁않은', 549: '배', 550: '▁배', 551: '▁원', 552: '보는', 553: '▁눈', 554: '▁재밌어요', 555: '즈', 556: '한테', 557: '볼', 558: '▁남는', 559: '▁모든', 560: '▁연기도', 561: '▁요즘', 562: '▁않는', 563: '▁근데', 564: '▁보다가', 565: '▁피', 566: 'ᅳ', 567: '코', 568: '려고', 569: '▁제대로', 570: '속', 571: '공', 572: '▁나는', 573: '하기', 574: '이라는', 575: '년대', 576: '▁파', 577: '▁울', 578: '예', 579: '▁절대', 580: '▁성', 581: '짱', 582: '망', 583: '▁스토리가', 584: '▁음악', 585: '▁건', 586: '▁노', 587: '▁아까운', 588: 'ᄏᄏᄏᄏ', 589: '▁감독이', 590: '해요', 591: '쳐', 592: '져', 593: '▁재밌', 594: '▁망', 595: '▁여운이', 596: '▁욕', 597: '▁재미도', 598: '▁쓰', 599: '체', 600: '▁애니', 601: '▁여', 602: '석', 603: '▁수준', 604: '▁OO', 605: 'i', 606: '▁시간이', 607: '회', 608: '격', 609: '▁나오', 610: '문', 611: '▁아직도', 612: '9', 613: '▁하고', 614: '▁연기력', 615: '▁막장', 616: '▁뻔한', 617: '산', 618: '이란', 619: '▁웃', 620: '배우', 621: '▁영화라고', 622: '▁엄청', 623: '▁걸', 624: '▁때문에', 625: '뿐', 626: '▁만들', 627: '참', 628: '인듯', 629: 'd', 630: '학', 631: '토', 632: '금', 633: '정도', 634: '▁현실', 635: ';;;', 636: '▁있', 637: '없', 638: '태', 639: '던데', 640: '▁ᄏᄏᄏᄏ', 641: '매', 642: '능', 643: '▁영화입니다', 644: '▁오랜만에', 645: '▁상', 646: '▁날', 647: '▁멋진', 648: '▁걍', 649: '▁공', 650: '업', 651: '▁소재', 652: '점은', 653: '▁영화의', 654: '▁나름', 655: '왜', 656: '▁표현', 657: 'ᅮᅮ', 658: '▁나도', 659: 's', 660: '라도', 661: '▁봤습니다', 662: '이고', 663: '▁초', 664: '▁서', 665: '테', 666: '▁좋았다', 667: '▁발', 668: '▁^^', 669: '▁머', 670: '▁미국', 671: '락', 672: '넘', 673: '▁진', 674: '▁가족', 675: '꺼', 676: '▁나온', 677: '통', 678: '▁좋고', 679: '건지', 680: '▁재밋', 681: '▁진심', 682: '▁주는', 683: '▁스토리도', 684: '▁차라리', 685: '는거', 686: '양', 687: '???', 688: '밖에', 689: '▁최고다', 690: '▁도대체', 691: '▁지루하고', 692: '▁눈물', 693: '였다', 694: '▁원작', 695: '▁공감', 696: '▁세', 697: '▁아니고', 698: '▁되는', 699: '▁예', 700: '▁졸', 701: '▁동', 702: '▁공포영화', 703: '▁결말', 704: '▁매', 705: '했는데', 706: '죽', 707: '▁지루함', 708: '▁정도', 709: '▁보면서', 710: '아니', 711: '▁OOO', 712: '▁제목', 713: '브', 714: '▁연', 715: '▁재밌는', 716: '▁B', 717: '▁영', 718: '가는', 719: '▁ᅲ', 720: '▁지루한', 721: '▁봤던', 722: '▁캐릭터', 723: '▁수작', 724: '씬', 725: '장면', 726: '▁시리즈', 727: '▁알바', 728: '종', 729: '7', 730: '재미', 731: '리는', 732: '잼', 733: '았다', 734: '알', 735: '▁차', 736: '평점', 737: '했', 738: '악', 739: '녀', 740: '는게', 741: '▁감독의', 742: '▁대사', 743: '/', 744: '▁인간', 745: '▁기분', 746: '▁재미가', 747: '▁우리나라', 748: '봐도', 749: '블', 750: '▁없음', 751: '재밌', 752: '론', 753: '~!', 754: '▁몇', 755: '▁괜찮은', 756: '▁싶은', 757: '해도', 758: '▁영상', 759: '▁만화', 760: '▁마지막에', 761: '▁허', 762: '등', 763: '▁좋아하는', 764: '▁보세요', 765: '봤다', 766: '짐', 767: '사람', 768: '있', 769: '▁졸작', 770: '▁않', 771: '중에', 772: '력', 773: '이네', 774: '▁막', 775: '▁긴장감', 776: '릴', 777: '▁코믹', 778: '▁가슴', 779: '▁이해가', 780: '▁시작', 781: '었던', 782: '▁영화에', 783: '▁특히', 784: 'h', 785: '▁사람들', 786: '▁뭔', 787: '▁지루하다', 788: '승', 789: '▁시나리오', 790: '▁한국영화', 791: '감동', 792: '집', 793: '있다', 794: '불', 795: '었는데', 796: '구만', 797: '이라고', 798: 'a', 799: ',,,', 800: '더라', 801: '근', 802: '된다', 803: '투', 804: '▁될', 805: '설', 806: '그냥', 807: '▁애니메이션', 808: '▁뭘', 809: '였', 810: '▁토', 811: '들을', 812: '▁기억에', 813: '▁베', 814: '▁사실', 815: '너', 816: '계', 817: '봄', 818: '0', 819: '▁20', 820: '▁배우들의', 821: '는지', 822: '잇', 823: '움', 824: '▁그저', 825: '▁후회', 826: '감독', 827: '절', 828: '포', 829: '▁선', 830: '쓰', 831: '표', 832: '었', 833: '▁함께', 834: '▁보는내내', 835: '000', 836: '대로', 837: '▁들', 838: '6', 839: '▁살', 840: '머', 841: '▁좋', 842: '▁필요', 843: '▁맞', 844: '▁좋아요', 845: '보단', 846: '않', 847: '▁노래', 848: '환', 849: '탄', 850: '케', 851: '▁최', 852: '▁타', 853: '만큼', 854: '▁인', 855: '▁봐야', 856: '니다', 857: '뭐', 858: '▁개인적으로', 859: '▁행복', 860: '이런', 861: '▁경', 862: '▁생각이', 863: '강', 864: '▁강추', 865: '▁같', 866: '사랑', 867: '▁단', 868: '▁치', 869: '▁오늘', 870: '▁봤어요', 871: '▁잠', 872: '돈', 873: '담', 874: '▁재밌음', 875: '▁된', 876: '퍼', 877: '▁못한', 878: '▁몰입도', 879: '갈', 880: '▁억지', 881: '▁재미없', 882: '▁잼', 883: '▁캐스팅', 884: '각', 885: '슨', 886: '▁큰', 887: '난다', 888: '주는', 889: '▁어떤', 890: 'ᅮ', 891: '행', 892: '초', 893: '천', 894: '먹', 895: '스트', 896: '쓰레기', 897: '▁영화로', 898: '른', 899: '▁감', 900: '이야', 901: '쉬', 902: '▁안되는', 903: '▁없이', 904: '적이', 905: '\"\"\"\"', 906: '▁당', 907: '에도', 908: '이네요', 909: '▁보게', 910: '글', 911: '▁매력', 912: '기도', 913: '작품', 914: '내용', 915: '창', 916: 'g', 917: '▁결국', 918: '나는', 919: '▁제발', 920: '▁ᄒ', 921: '점대', 922: '▁웃기', 923: '▁극장에서', 924: '123', 925: '입', 926: '결', 927: '▁더빙', 928: '▁아이', 929: '▁매우', 930: '하면서', 931: '했음', 932: 'c', 933: '▁죽', 934: '▁유치', 935: '만한', 936: '▁극', 937: '▁존나', 938: '향', 939: '을까', 940: '▁모르겠다', 941: '새', 942: '었음', 943: '▁연기는', 944: '▁지루', 945: '평', 946: '군요', 947: '봐', 948: '▁사람이', 949: '▁설정', 950: '록', 951: '졌', 952: '▁마음', 953: '▁아무리', 954: '▁재미없음', 955: '액션', 956: '잡', 957: '이지만', 958: '▁별점', 959: '▁마음이', 960: '▁만들었', 961: '점을', 962: '순', 963: '이상', 964: '교', 965: '▁전쟁', 966: '▁백', 967: '▁호', 968: '▁예술', 969: '해라', 970: '▁음', 971: '▁물', 972: '영화는', 973: '▁분위기', 974: '왔', 975: '▁감동이', 976: '기는', 977: '언', 978: '▁있었', 979: '이지', 980: '▁문제', 981: '직', 982: '병', 983: '▁길', 984: '버린', 985: '▁위한', 986: '▁총', 987: '친', 988: '▁너무나', 989: '칠', 990: '▁보지', 991: '증', 992: '126', 993: '200', 994: '▁똥', 995: '▁않는다', 996: '▁장난', 997: '▁평', 998: '▁ᅮᅮ', 999: '하며', 1000: '▁얼마나', 1001: '슬', 1002: '▁명', 1003: '권', 1004: '치는', 1005: '▁존', 1006: '▁있고', 1007: '기에', 1008: '레이', 1009: '▁영화네요', 1010: '▁입', 1011: '102', 1012: '만들', 1013: '▁미친', 1014: '또', 1015: '▁실', 1016: '인줄', 1017: '▁따라', 1018: '짓', 1019: '▁같이', 1020: '▁의미', 1021: '100', 1022: '▁그만', 1023: '▁천', 1024: '907', 1025: '색', 1026: '▁재미있다', 1027: '▁가슴이', 1028: '>', 1029: '맨', 1030: '척', 1031: '▁재밌고', 1032: '막', 1033: '▁간', 1034: '맞', 1035: '▁노잼', 1036: '▁화', 1037: '훈', 1038: '술', 1039: '엇', 1040: '▁중국', 1041: '▁손', 1042: '▁하나도', 1043: '▁없어', 1044: '▁위', 1045: '▁작가', 1046: '▁한다', 1047: '111', 1048: 'p', 1049: '▁이딴', 1050: '될', 1051: '▁기억이', 1052: '▁로맨스', 1053: '▁-', 1054: '▁쓰레기영화', 1055: '▁너', 1056: '▁배경', 1057: '아서', 1058: '▁것이', 1059: '▁결말이', 1060: '▁내용은', 1061: '218', 1062: '났', 1063: '▁느낌이', 1064: '\"\"\"', 1065: '끼', 1066: '▁준', 1067: '133', 1068: '▁약', 1069: '▁높', 1070: '▁있을', 1071: '978', 1072: '▁머리', 1073: '▁누가', 1074: '▁눈물이', 1075: '142', 1076: '김', 1077: '느', 1078: '열', 1079: '▁꽤', 1080: '841', 1081: '904', 1082: '159', 1083: '129', 1084: '221', 1085: '소리', 1086: '별', 1087: 'f', 1088: 'k', 1089: '▁걸작', 1090: '220', 1091: '짜', 1092: '▁엔딩', 1093: '베', 1094: '▁먹', 1095: '▁이름', 1096: '152', 1097: '238', 1098: '수가', 1099: '170', 1100: '656', 1101: '112', 1102: '113', 1103: '▁열', 1104: '완전', 1105: '름', 1106: '라면', 1107: '800', 1108: '돌', 1109: '법', 1110: '▁애들', 1111: '느낌', 1112: '906', 1113: '였음', 1114: '822', 1115: '건가', 1116: '어야', 1117: '▁그렇게', 1118: '▁아무', 1119: '119', 1120: '이거', 1121: '▁허접', 1122: '▁어설픈', 1123: '▁얼굴', 1124: '▁엄마', 1125: '▁스릴', 1126: '▁정신', 1127: '131', 1128: '▁그나마', 1129: '이었다', 1130: '090', 1131: '243', 1132: '▁않다', 1133: '▁대체', 1134: '나요', 1135: '뻔', 1136: '♡', 1137: '기만', 1138: '▁출연', 1139: '▁영화중', 1140: '911', 1141: '▁적', 1142: '209', 1143: '▁간만에', 1144: '266', 1145: '▁갈수록', 1146: '833', 1147: '120', 1148: '134', 1149: '올', 1150: '앗', 1151: '▁훨씬', 1152: '▁영상미', 1153: '913', 1154: '071', 1155: '범', 1156: '843', 1157: '▁여주인공', 1158: '▁감동적인', 1159: '▁잼있', 1160: '802', 1161: '약', 1162: '256', 1163: '께', 1164: '좋아', 1165: '215', 1166: '▁발연기', 1167: '▁카', 1168: '500', 1169: '길래', 1170: '527', 1171: '+', 1172: '▁들어', 1173: '션', 1174: '▁추', 1175: '기를', 1176: '114', 1177: '723', 1178: '737', 1179: '▁맛', 1180: '976', 1181: '▁잔잔한', 1182: '거야', 1183: '▁감동도', 1184: '078', 1185: '다고', 1186: '이건', 1187: '181', 1188: 'u', 1189: '▁주연', 1190: '931', 1191: '렸', 1192: '출', 1193: '라서', 1194: '503', 1195: '121', 1196: '▁멋있', 1197: '▁웃음', 1198: '929', 1199: '055', 1200: '139', 1201: '122', 1202: '리고', 1203: '164', 1204: '▁레', 1205: '874', 1206: '186', 1207: '213', 1208: '▁알고', 1209: '155', 1210: 'y', 1211: '▁위해', 1212: '691', 1213: '▁\"\"\"', 1214: '빠', 1215: '었어요', 1216: '좋', 1217: '062', 1218: '온', 1219: '▁찍', 1220: '918', 1221: '치고', 1222: '플', 1223: '070', 1224: '땜에', 1225: '▁재미있는', 1226: '▁찾', 1227: '236', 1228: '873', 1229: '백', 1230: '445', 1231: '013', 1232: '놓고', 1233: '132', 1234: '▁아쉽다', 1235: '940', 1236: '▁영화관에서', 1237: '850', 1238: '▁밖에', 1239: '066', 1240: '▁성룡', 1241: '902', 1242: '할수', 1243: '하는데', 1244: '916', 1245: '876', 1246: '057', 1247: '140', 1248: '655', 1249: '801', 1250: '웃', 1251: '▁볼만한', 1252: '▁다큐', 1253: '193', 1254: '796', 1255: '644', 1256: '년이', 1257: '216', 1258: '135', 1259: '245', 1260: '141', 1261: '수준', 1262: '851', 1263: '830', 1264: '광', 1265: '217', 1266: '▁재미있어요', 1267: '150', 1268: '겠', 1269: '249', 1270: '듯한', 1271: '105', 1272: '▁올', 1273: '646', 1274: '021', 1275: '399', 1276: '▁재밌네요', 1277: '006', 1278: '799', 1279: '237', 1280: '▁나왔', 1281: '▁담', 1282: '932', 1283: '보니', 1284: '▁야', 1285: '▁작', 1286: '179', 1287: '▁편', 1288: '307', 1289: '128', 1290: '▁없었다', 1291: '136', 1292: '234', 1293: '련', 1294: '988', 1295: '383', 1296: '거지', 1297: '▁그래서', 1298: '900', 1299: '549', 1300: '171', 1301: '205', 1302: '444', 1303: '852', 1304: '257', 1305: '228', 1306: '192', 1307: '225', 1308: '더니', 1309: '432', 1310: '607', 1311: '▁잡', 1312: '▁좋은데', 1313: '137', 1314: '910', 1315: '118', 1316: '914', 1317: '479', 1318: '▁감정', 1319: '▁시즌', 1320: '222', 1321: '154', 1322: '▁구성', 1323: '884', 1324: '845', 1325: '204', 1326: '▁첨', 1327: '왕', 1328: '251', 1329: '▁생각보다', 1330: '269', 1331: '194', 1332: '▁집중', 1333: '082', 1334: '151', 1335: '565', 1336: '814', 1337: '478', 1338: '446', 1339: '413', 1340: '789', 1341: '939', 1342: '201', 1343: '145', 1344: '762', 1345: '효', 1346: '240', 1347: '253', 1348: '▁안되', 1349: '109', 1350: '369', 1351: '▁외', 1352: '143', 1353: '▁친구', 1354: '905', 1355: '_', 1356: '459', 1357: '183', 1358: '809', 1359: '009', 1360: '681', 1361: '974', 1362: '717', 1363: '076', 1364: '▁만', 1365: '▁악', 1366: '920', 1367: '해야', 1368: '522', 1369: '254', 1370: '067', 1371: '971', 1372: '716', 1373: '206', 1374: 'ᄋ', 1375: '231', 1376: '117', 1377: '095', 1378: '837', 1379: '175', 1380: '567', 1381: '460', 1382: '002', 1383: '탈', 1384: '523', 1385: '856', 1386: '414', 1387: '849', 1388: '103', 1389: '912', 1390: '779', 1391: '340', 1392: '645', 1393: '555', 1394: '561', 1395: '됨', 1396: '185', 1397: '332', 1398: '647', 1399: '042', 1400: '813', 1401: '983', 1402: '합', 1403: '008', 1404: '882', 1405: '▁많', 1406: '▁맘에', 1407: '존', 1408: '437', 1409: '▁주제', 1410: '554', 1411: '244', 1412: '917', 1413: '264', 1414: '469', 1415: '248', 1416: '578', 1417: '▁싶', 1418: '욕', 1419: '▁볼만', 1420: '473', 1421: '650', 1422: '235', 1423: '930', 1424: '으나', 1425: '232', 1426: '466', 1427: '748', 1428: '665', 1429: '434', 1430: '685', 1431: '061', 1432: '770', 1433: '952', 1434: '805', 1435: '▁보여주는', 1436: '936', 1437: '666', 1438: '219', 1439: '836', 1440: '188', 1441: '430', 1442: '172', 1443: '440', 1444: '815', 1445: '022', 1446: '203', 1447: '169', 1448: '980', 1449: '848', 1450: '▁뭐야', 1451: '933', 1452: '074', 1453: '887', 1454: '636', 1455: '▁터', 1456: '좋은', 1457: '563', 1458: '464', 1459: '993', 1460: '832', 1461: '144', 1462: '812', 1463: '035', 1464: '405', 1465: '063', 1466: '156', 1467: '059', 1468: '354', 1469: '010', 1470: '552', 1471: '148', 1472: '080', 1473: '765', 1474: '▁30', 1475: '875', 1476: '068', 1477: '502', 1478: '187', 1479: '981', 1480: '081', 1481: '138', 1482: '773', 1483: '526', 1484: '398', 1485: '▁힘', 1486: '994', 1487: '편이', 1488: '521', 1489: '056', 1490: '556', 1491: '495', 1492: '268', 1493: '230', 1494: '756', 1495: '▁버', 1496: '919', 1497: '~!!', 1498: '772', 1499: '293', 1500: '295', 1501: '514', 1502: '992', 1503: '017', 1504: '892', 1505: '영화를', 1506: '226', 1507: '177', 1508: '384', 1509: '104', 1510: '504', 1511: '761', 1512: '▁연기를', 1513: '817', 1514: '▁뿐', 1515: '517', 1516: '▁자체', 1517: '816', 1518: '115', 1519: '458', 1520: '▁다들', 1521: '682', 1522: '831', 1523: '212', 1524: '094', 1525: '818', 1526: '▁역', 1527: '750', 1528: '053', 1529: '863', 1530: '331', 1531: '016', 1532: '777', 1533: '529', 1534: '470', 1535: '▁진정한', 1536: '317', 1537: '▁재미는', 1538: '007', 1539: '보기', 1540: '582', 1541: '844', 1542: '▁비교', 1543: '210', 1544: '052', 1545: '924', 1546: '227', 1547: '679', 1548: '823', 1549: '997', 1550: '습', 1551: '108', 1552: '877', 1553: '▁다음', 1554: '797', 1555: '외', 1556: '838', 1557: '649', 1558: '670', 1559: '099', 1560: '999', 1561: '▁ᅳ', 1562: '149', 1563: '153', 1564: '찍', 1565: '484', 1566: '261', 1567: '601', 1568: '798', 1569: '341', 1570: '▁봐', 1571: '048', 1572: '069', 1573: '807', 1574: '014', 1575: '메', 1576: '나오는', 1577: '820', 1578: '001', 1579: '694', 1580: 'b', 1581: '214', 1582: '661', 1583: '영화가', 1584: '▁CG', 1585: '569', 1586: '471', 1587: '674', 1588: '▁패', 1589: '▁뒤', 1590: '005', 1591: '260', 1592: '901', 1593: '093', 1594: '039', 1595: '▁당시', 1596: '879', 1597: '지루', 1598: '703', 1599: '885', 1600: '774', 1601: '191', 1602: '834', 1603: '894', 1604: '▁영화였다', 1605: '추', 1606: '568', 1607: '207', 1608: '할때', 1609: '683', 1610: '364', 1611: '394', 1612: '▁어느', 1613: '579', 1614: '303', 1615: '418', 1616: '975', 1617: '721', 1618: '▁글', 1619: '520', 1620: '872', 1621: '447', 1622: '262', 1623: '097', 1624: '스러운', 1625: '료', 1626: '했지만', 1627: '튼', 1628: '▁아님', 1629: '871', 1630: '767', 1631: '709', 1632: '598', 1633: '338', 1634: '130', 1635: '795', 1636: '619', 1637: '637', 1638: '386', 1639: '196', 1640: '▁않았', 1641: '903', 1642: '804', 1643: '979', 1644: '928', 1645: '728', 1646: '▁점수', 1647: '▁재미있', 1648: '958', 1649: '938', 1650: '967', 1651: '덕', 1652: '015', 1653: '987', 1654: '211', 1655: '735', 1656: '064', 1657: '689', 1658: '▁오래', 1659: '835', 1660: '265', 1661: '재미있', 1662: '▁메', 1663: '660', 1664: '965', 1665: '788', 1666: '857', 1667: '736', 1668: '726', 1669: '▁분', 1670: '158', 1671: '915', 1672: '208', 1673: '054', 1674: '559', 1675: '306', 1676: '868', 1677: '린다', 1678: '397', 1679: '658', 1680: '673', 1681: '941', 1682: '628', 1683: '339', 1684: '638', 1685: '241', 1686: '360', 1687: '696', 1688: '793', 1689: '▁주고', 1690: '895', 1691: '월', 1692: '468', 1693: '842', 1694: '402', 1695: '▁재미없는', 1696: '198', 1697: '라이', 1698: '780', 1699: '304', 1700: '501', 1701: '▁실화', 1702: '041', 1703: '재밋', 1704: '310', 1705: '733', 1706: '▁코', 1707: '073', 1708: '782', 1709: '298', 1710: '909', 1711: '110', 1712: '처', 1713: '167', 1714: '▁전부', 1715: '233', 1716: '747', 1717: '077', 1718: '259', 1719: '173', 1720: '560', 1721: '혜', 1722: '629', 1723: '622', 1724: '286', 1725: '870', 1726: '580', 1727: '977', 1728: '▁숨', 1729: '195', 1730: '085', 1731: '300', 1732: '730', 1733: '023', 1734: '242', 1735: '881', 1736: '472', 1737: '572', 1738: '825', 1739: '▁짜증나', 1740: '867', 1741: '403', 1742: '252', 1743: '984', 1744: '768', 1745: '그리고', 1746: '643', 1747: '분들', 1748: '995', 1749: '888', 1750: '072', 1751: '998', 1752: '▁약간', 1753: '여자', 1754: '라니', 1755: '없음', 1756: '839', 1757: '423', 1758: '046', 1759: '▁찾아', 1760: '086', 1761: '921', 1762: '463', 1763: '653', 1764: '157', 1765: '▁스토리는', 1766: '617', 1767: '626', 1768: '557', 1769: '기대', 1770: '441', 1771: '989', 1772: '101', 1773: '640', 1774: '168', 1775: '189', 1776: '854', 1777: '926', 1778: '▁몰입', 1779: '794', 1780: 'm', 1781: '▁옛날', 1782: '949', 1783: '▁뭐지', 1784: '573', 1785: '▁네이버', 1786: '302', 1787: '944', 1788: '719', 1789: '785', 1790: '652', 1791: '465', 1792: '▁변', 1793: '239', 1794: '889', 1795: '312', 1796: '▁평가', 1797: '025', 1798: '891', 1799: '거리', 1800: '708', 1801: '511', 1802: '790', 1803: '116', 1804: 'D', 1805: '412', 1806: '934', 1807: '766', 1808: '792', 1809: '124', 1810: '435', 1811: '957', 1812: '443', 1813: '476', 1814: '571', 1815: '358', 1816: '다는', 1817: '616', 1818: '163', 1819: '344', 1820: '776', 1821: '710', 1822: '▁드', 1823: '771', 1824: '▁제작', 1825: '826', 1826: '675', 1827: '진다', 1828: '427', 1829: '083', 1830: '321', 1831: '▁존재', 1832: '421', 1833: '▁준다', 1834: '819', 1835: '먼', 1836: '525', 1837: '659', 1838: '624', 1839: '165', 1840: '이야기', 1841: '045', 1842: '908', 1843: '692', 1844: '▁같아요', 1845: '▁갈', 1846: '688', 1847: '585', 1848: '600', 1849: '810', 1850: '442', 1851: '325', 1852: '419', 1853: '▁생각을', 1854: '533', 1855: '827', 1856: '541', 1857: '811', 1858: '087', 1859: '106', 1860: '323', 1861: '897', 1862: '▁배우들이', 1863: '630', 1864: '718', 1865: '898', 1866: '757', 1867: '494', 1868: '146', 1869: '089', 1870: '337', 1871: '546', 1872: '294', 1873: '297', 1874: '485', 1875: '731', 1876: '320', 1877: '786', 1878: '550', 1879: '037', 1880: '896', 1881: '멋', 1882: '▁있을까', 1883: '677', 1884: '662', 1885: '051', 1886: '326', 1887: '027', 1888: '821', 1889: '899', 1890: '449', 1891: '058', 1892: '783', 1893: '편은', 1894: '받', 1895: '092', 1896: '084', 1897: '615', 1898: '246', 1899: '519', 1900: '184', 1901: '정도로', 1902: '667', 1903: '990', 1904: '945', 1905: '420', 1906: '964', 1907: '▁좋은영화', 1908: '161', 1909: '516', 1910: '698', 1911: '591', 1912: '▁얘기', 1913: '448', 1914: '050', 1915: '784', 1916: '754', 1917: '406', 1918: '697', 1919: '864', 1920: '272', 1921: '648', 1922: '828', 1923: '^', 1924: '755', 1925: '익', 1926: '492', 1927: '커', 1928: '011', 1929: '824', 1930: '361', 1931: '893', 1932: '267', 1933: '▁멜로', 1934: '아깝다', 1935: '738', 1936: '032', 1937: '했어요', 1938: '276', 1939: '404', 1940: '038', 1941: '299', 1942: '714', 1943: '180', 1944: '712', 1945: '966', 1946: '▁데', 1947: '996', 1948: '715', 1949: '544', 1950: '▁영화인데', 1951: '853', 1952: '▁방', 1953: '▁바로', 1954: '467', 1955: '713', 1956: '684', 1957: '250', 1958: '970', 1959: '334', 1960: '에는', 1961: '396', 1962: '575', 1963: '594', 1964: '695', 1965: '493', 1966: '953', 1967: '972', 1968: '낸', 1969: '576', 1970: '335', 1971: '▁요', 1972: '것이', 1973: '▁나이', 1974: '450', 1975: '739', 1976: '612', 1977: '439', 1978: '▁감동을', 1979: '734', 1980: '923', 1981: '588', 1982: '745', 1983: '285', 1984: '342', 1985: '483', 1986: '587', 1987: '477', 1988: '075', 1989: '202', 1990: '▁영화임', 1991: '505', 1992: '278', 1993: '764', 1994: '해지는', 1995: '224', 1996: '539', 1997: '336', 1998: '878', 1999: '935', 2000: '▁판타지', 2001: '▁딸', 2002: '328', 2003: '763', 2004: '▁꿀잼', 2005: '▁암', 2006: '빈', 2007: '보다는', 2008: '700', 2009: '672', 2010: '480', 2011: '951', 2012: '333', 2013: '633', 2014: '겠지', 2015: '379', 2016: '370', 2017: '545', 2018: '651', 2019: '065', 2020: '이라도', 2021: '▁\"\"\"\"', 2022: '704', 2023: '740', 2024: '462', 2025: '263', 2026: '937', 2027: '959', 2028: '720', 2029: '475', 2030: '603', 2031: '751', 2032: '▁영화도', 2033: '세요', 2034: '566', 2035: '▁봤지만', 2036: '놈', 2037: '060', 2038: '686', 2039: '▁모습', 2040: '593', 2041: '558', 2042: '눈', 2043: '▁살아', 2044: '425', 2045: '407', 2046: '▁감동적이', 2047: '706', 2048: '주의', 2049: '258', 2050: '▁종', 2051: '840', 2052: '다시', 2053: '377', 2054: '199', 2055: '474', 2056: '540', 2057: '296', 2058: '950', 2059: '641', 2060: '859', 2061: '088', 2062: '400', 2063: '922', 2064: '962', 2065: '329', 2066: '034', 2067: '537', 2068: '417', 2069: '760', 2070: '330', 2071: '415', 2072: '292', 2073: '486', 2074: '182', 2075: '513', 2076: '▁뭐냐', 2077: '623', 2078: '621', 2079: '543', 2080: '680', 2081: '▁산', 2082: '530', 2083: '▁감성', 2084: '869', 2085: '528', 2086: '551', 2087: '174', 2088: '▁소리', 2089: '678', 2090: '247', 2091: '362', 2092: '▁중간에', 2093: '290', 2094: '461', 2095: '▁예상', 2096: '746', 2097: '277', 2098: '▁괜찮', 2099: '004', 2100: '368', 2101: '508', 2102: '166', 2103: '570', 2104: '401', 2105: '178', 2106: '614', 2107: '775', 2108: '389', 2109: '532', 2110: '107', 2111: '098', 2112: '357', 2113: '▁나와서', 2114: '787', 2115: '711', 2116: '▁어디', 2117: '없고', 2118: '▁언제', 2119: '047', 2120: '454', 2121: '044', 2122: '147', 2123: '308', 2124: '091', 2125: '724', 2126: '283', 2127: '324', 2128: '▁높은', 2129: '963', 2130: '451', 2131: '862', 2132: '393', 2133: '753', 2134: '376', 2135: '642', 2136: '759', 2137: '693', 2138: '611', 2139: '657', 2140: '▁번', 2141: '743', 2142: '489', 2143: '416', 2144: '632', 2145: '371', 2146: '534', 2147: '273', 2148: '▁마음에', 2149: '있고', 2150: '627', 2151: '▁장르', 2152: '860', 2153: '595', 2154: '▁관객', 2155: '865', 2156: '942', 2157: '229', 2158: '270', 2159: '▁충격', 2160: '758', 2161: '705', 2162: '162', 2163: '431', 2164: '411', 2165: '혀', 2166: '947', 2167: '예요', 2168: '▁나올', 2169: '▁good', 2170: '654', 2171: '036', 2172: '347', 2173: '▁시대', 2174: '309', 2175: '491', 2176: '778', 2177: '▁질', 2178: '388', 2179: '429', 2180: '861', 2181: '535', 2182: '슴', 2183: '883', 2184: '574', 2185: '365', 2186: '응', 2187: '003', 2188: '515', 2189: '▁줄거리', 2190: '597', 2191: '315', 2192: '609', 2193: '343', 2194: '▁믿', 2195: '890', 2196: '▁추억', 2197: '606', 2198: '701', 2199: '488', 2200: '387', 2201: '604', 2202: '668', 2203: '019', 2204: '381', 2205: '752', 2206: '▁초딩', 2207: '722', 2208: '▁생각하게', 2209: '찬', 2210: '956', 2211: '553', 2212: '028', 2213: '281', 2214: '727', 2215: '886', 2216: '639', 2217: '잖아', 2218: '608', 2219: '744', 2220: '끝', 2221: '380', 2222: '351', 2223: '791', 2224: '548', 2225: '538', 2226: '858', 2227: '본다', 2228: '499', 2229: '▁나의', 2230: '536', 2231: '366', 2232: '223', 2233: '589', 2234: '581', 2235: '749', 2236: '847', 2237: '438', 2238: '618', 2239: '732', 2240: '409', 2241: '634', 2242: '781', 2243: '676', 2244: '▁했는데', 2245: '▁그대로', 2246: '702', 2247: '806', 2248: '327', 2249: '699', 2250: '803', 2251: '925', 2252: '457', 2253: '176', 2254: '▁이영화를', 2255: '690', 2256: '301', 2257: '829', 2258: '▁어디서', 2259: '288', 2260: '498', 2261: '625', 2262: '줬', 2263: '▁역사', 2264: '319', 2265: '948', 2266: '599', 2267: '275', 2268: '▁포스터', 2269: '나서', 2270: '507', 2271: '▁것을', 2272: '367', 2273: '577', 2274: '428', 2275: '395', 2276: 'l', 2277: '-_-', 2278: '▁각본', 2279: '▁이런영화', 2280: '160', 2281: '392', 2282: '같이', 2283: '셨', 2284: '▁자기', 2285: '518', 2286: '▁혼자', 2287: '▁낮은', 2288: '▁대단한', 2289: '596', 2290: '▁봤음', 2291: '509', 2292: '524', 2293: '961', 2294: '채', 2295: '274', 2296: '602', 2297: '284', 2298: '562', 2299: '▁상당히', 2300: '012', 2301: '햇', 2302: '313', 2303: '▁봐서', 2304: '같', 2305: '729', 2306: '742', 2307: '▁상황', 2308: '▁그러', 2309: '453', 2310: '510', 2311: '▁같은데', 2312: '▁크', 2313: '426', 2314: '289', 2315: '422', 2316: '구요', 2317: '숙', 2318: '▁사람들이', 2319: '352', 2320: '846', 2321: '043', 2322: '을때', 2323: '는건', 2324: '079', 2325: '960', 2326: '314', 2327: '279', 2328: '봐서', 2329: '▁사회', 2330: '▁재밌는데', 2331: '▁거의', 2332: '▁봐라', 2333: '663', 2334: '품', 2335: '▁깨', 2336: '348', 2337: '▁아까움', 2338: '769', 2339: '436', 2340: '▁대해', 2341: '707', 2342: '별로', 2343: '▁비해', 2344: '024', 2345: '610', 2346: '808', 2347: '190', 2348: '382', 2349: '▁아이들', 2350: '▁여기', 2351: '512', 2352: '040', 2353: '096', 2354: '033', 2355: '968', 2356: '▁휴', 2357: '▁tv', 2358: '▁팬', 2359: '목', 2360: '▁90', 2361: '▁꿈', 2362: '346', 2363: '669', 2364: '287', 2365: '927', 2366: '372', 2367: '▁목소리', 2368: '▁게', 2369: '▁너무너무', 2370: '583', 2371: '복', 2372: '▁좋네요', 2373: '866', 2374: '나오', 2375: '271', 2376: '487', 2377: '침', 2378: '▁영화라', 2379: '547', 2380: '031', 2381: '564', 2382: '들어', 2383: '671', 2384: '런', 2385: '리가', 2386: '316', 2387: '패', 2388: '613', 2389: '456', 2390: '345', 2391: '시리즈', 2392: '▁훌륭한', 2393: '귀', 2394: '991', 2395: '954', 2396: '635', 2397: '590', 2398: '스럽다', 2399: '620', 2400: '▁삼', 2401: '주인공', 2402: '▁절', 2403: '311', 2404: '곡', 2405: '197', 2406: '880', 2407: '985', 2408: '▁끝나', 2409: '▁어린', 2410: '씩', 2411: '855', 2412: '408', 2413: '356', 2414: '조차', 2415: '▁포', 2416: '982', 2417: '255', 2418: '▁만점', 2419: '▁아직', 2420: '322', 2421: '378', 2422: '▁하다', 2423: '성이', 2424: '▁통', 2425: '433', 2426: '완', 2427: '973', 2428: '▁원작을', 2429: '▁낮', 2430: '▁궁금', 2431: '496', 2432: '▁따', 2433: '▁저런', 2434: '▁대단', 2435: '▁달', 2436: '029', 2437: '써', 2438: '청', 2439: '030', 2440: '▁장면이', 2441: '125', 2442: '584', 2443: '481', 2444: '근데', 2445: '▁비디오', 2446: '490', 2447: '엉', 2448: '▁누구', 2449: '385', 2450: '▁감독님', 2451: '독', 2452: '506', 2453: '▁된다', 2454: '410', 2455: '955', 2456: '쪽', 2457: '280', 2458: '들도', 2459: '▁책', 2460: '▁다시봐도', 2461: '모르', 2462: '겠지만', 2463: '최악', 2464: '▁왕', 2465: '한거', 2466: '305', 2467: '605', 2468: '127', 2469: '▁평점을', 2470: '기가', 2471: '엿', 2472: '▁힘들', 2473: '725', 2474: '굿', 2475: '잔', 2476: '359', 2477: '▁헐', 2478: '969', 2479: '▁정도로', 2480: '년전', 2481: '▁순', 2482: '363', 2483: '▁그리', 2484: '▁부족', 2485: '390', 2486: '▁굉장히', 2487: '▁신선', 2488: '350', 2489: '482', 2490: '버리', 2491: '대박', 2492: '지않', 2493: '엘', 2494: '츠', 2495: '946', 2496: '▁어쩌', 2497: '▁더욱', 2498: '▁것도', 2499: '455', 2500: '봐야', 2501: '한영화', 2502: '노잼', 2503: '마지막', 2504: '049', 2505: '남자', 2506: '▁재밌었다', 2507: '687', 2508: '986', 2509: '▁더럽게', 2510: 'OO', 2511: '▁있지만', 2512: 'r', 2513: '▁흥행', 2514: '▁어릴때', 2515: '▁여배우', 2516: '▁문', 2517: '끄', 2518: '뜨', 2519: '▁연출력', 2520: '▁극장판', 2521: '291', 2522: '▁몸', 2523: '452', 2524: '▁뭐가', 2525: '이라면', 2526: '▁하지', 2527: '▁삼류', 2528: '시키', 2529: '▁짜증', 2530: '586', 2531: '▁새로운', 2532: '억', 2533: '▁먹먹', 2534: '741', 2535: '349', 2536: '▁처음부터', 2537: '▁싸', 2538: '▁짜', 2539: '건데', 2540: '943', 2541: '▁아버지', 2542: '으니', 2543: '놈들', 2544: '▁보니', 2545: ';;;;', 2546: '듬', 2547: '▁지루해', 2548: '318', 2549: '에선', 2550: '531', 2551: '적이고', 2552: '▁TV', 2553: '497', 2554: '▁돌아', 2555: '▁재미없어', 2556: '도없고', 2557: '▁화면', 2558: '▁s', 2559: '짝', 2560: '쯤', 2561: '괴', 2562: '▁놀', 2563: '▁봄', 2564: '▁그런지', 2565: 'n', 2566: '▁몰', 2567: '▁그러나', 2568: '▁성우', 2569: '282', 2570: '▁이번', 2571: '▁항상', 2572: '▁충분히', 2573: '▁낫다', 2574: '했습니다', 2575: '▁그닥', 2576: '▁흥미진진', 2577: '춘', 2578: '▁낚', 2579: '▁빨리', 2580: '391', 2581: '▁유치한', 2582: '간다', 2583: '▁따뜻한', 2584: '▁안된다', 2585: '아이', 2586: '▁이것도', 2587: '▁광', 2588: '▁태', 2589: '▁있어서', 2590: '▁했다', 2591: '팬', 2592: '같다', 2593: '664', 2594: '함이', 2595: '375', 2596: '▁의도', 2597: '▁못하는', 2598: '땐', 2599: '▁끌', 2600: '631', 2601: '▁저는', 2602: '353', 2603: '▁읽', 2604: '▁말도', 2605: '▁알게', 2606: '▁삶', 2607: '373', 2608: '▁아까워', 2609: '낮', 2610: '▁양', 2611: '▁어색', 2612: '전개', 2613: '▁흠', 2614: '▁세계', 2615: '▁느', 2616: '▁초반', 2617: '▁나와', 2618: '~~~~', 2619: '여서', 2620: '▁어이없', 2621: '활', 2622: '규', 2623: '▁만족', 2624: '▁계', 2625: '▁점점', 2626: '▁ᄍᄍ', 2627: '필', 2628: '▁흐', 2629: '하냐', 2630: ':', 2631: '럽', 2632: '026', 2633: '▁두번', 2634: '▁(', 2635: '▁잘못', 2636: '▁앞', 2637: '▁교훈', 2638: '허', 2639: '드는', 2640: '▁현', 2641: '배우들', 2642: '▁첫', 2643: '▁생', 2644: '철', 2645: '야지', 2646: '542', 2647: '▁말고', 2648: '하시', 2649: '답', 2650: '▁예전에', 2651: '했으면', 2652: '다운', 2653: '거다', 2654: '▁있어', 2655: '▁제가', 2656: '▁없네', 2657: '▁재밌어', 2658: '▁없어서', 2659: '나라', 2660: '겟', 2661: '됬', 2662: '▁허무', 2663: '▁윤', 2664: '374', 2665: '▁별루', 2666: '하여', 2667: '것같다', 2668: '020', 2669: '424', 2670: '링', 2671: '▁봤네요', 2672: '▁슬픈', 2673: '▁망작', 2674: '▁바라', 2675: '였는데', 2676: '명작', 2677: '▁좋겠다', 2678: '이게', 2679: '처음', 2680: '롭', 2681: '혹', 2682: '만든', 2683: '벌', 2684: '었습니다', 2685: '▁좋음', 2686: '355', 2687: '▁도저히', 2688: '▁지루하', 2689: '▁b', 2690: '주세요', 2691: '봐라', 2692: '▁한마디로', 2693: '밀', 2694: '다면', 2695: '▁돈주고', 2696: '▁온', 2697: '▁답답', 2698: '▁이영화는', 2699: '이라니', 2700: '▁무조건', 2701: '틀', 2702: '▁자체가', 2703: '▁나온다', 2704: '말이', 2705: '을듯', 2706: '껏', 2707: '=', 2708: '▁가는', 2709: '▁그것', 2710: '▁완벽', 2711: '일까', 2712: '018', 2713: '▁훌륭', 2714: '속에', 2715: '▁100', 2716: '거냐', 2717: '이에요', 2718: '징', 2719: '▁생각해', 2720: '삼', 2721: '되어', 2722: '▁갑자기', 2723: '▁알았', 2724: '▁그래픽', 2725: '▁여주', 2726: '내가', 2727: '▁디', 2728: '그런', 2729: '겁', 2730: '거나', 2731: '한데', 2732: '들에게', 2733: '▁완벽한', 2734: '곳', 2735: '▁되어', 2736: '592', 2737: '▁-_-', 2738: '인이', 2739: '▁일단', 2740: '도록', 2741: '▁끝내', 2742: '윤', 2743: '염', 2744: '하니', 2745: '▁복수', 2746: '함을', 2747: '지금', 2748: '▁평점은', 2749: '▁영화보다', 2750: '만으로도', 2751: '▁관', 2752: '많', 2753: '싸', 2754: '▁평점에', 2755: '▁설', 2756: '▁엄청난', 2757: '▁웃긴', 2758: '▁뻔', 2759: '▁병맛', 2760: '사람들', 2761: '▁국', 2762: '▁ᄒᄒᄒ', 2763: '▁불륜', 2764: '▁황', 2765: '▁좋았어요', 2766: '▁보여주', 2767: '▁커', 2768: '▁반전이', 2769: '▁있었다', 2770: '립', 2771: '▁M', 2772: '▁투', 2773: '▁관람', 2774: '얼', 2775: '▁없을', 2776: '▁아쉬운', 2777: '▁주인공이', 2778: '옥', 2779: '년도', 2780: '이냐', 2781: '▁지금까지', 2782: '령', 2783: '▁만들지', 2784: '▁리', 2785: '▁개연성', 2786: '▁돌', 2787: '▁빠져', 2788: '▁극장', 2789: '연출', 2790: '되고', 2791: '▁킬링타임용', 2792: '준다', 2793: '휴', 2794: '점짜리', 2795: '동안', 2796: '실망', 2797: '웃음', 2798: '▁시절', 2799: '▁바보', 2800: '▁무서운', 2801: '▁일본영화', 2802: '십', 2803: '▁저질', 2804: '졌다', 2805: '틴', 2806: '▁전형적인', 2807: '쩌', 2808: '나게', 2809: '▁알았다', 2810: '▁참고', 2811: '▁세상', 2812: '보다가', 2813: '................', 2814: '▁괜히', 2815: '▁형', 2816: '▁보는데', 2817: '▁했', 2818: '▁모르고', 2819: '▁으', 2820: 'ᄉ', 2821: '에요', 2822: '▁원래', 2823: '였습니다', 2824: '▁꼬', 2825: '스터', 2826: '▁돈이', 2827: '▁떠', 2828: '▁것은', 2829: '▁대작', 2830: '▁볼수', 2831: '▁재미있고', 2832: '재미없', 2833: '▁가지고', 2834: '꼬', 2835: '▁이정도', 2836: '▁사람은', 2837: '▁부족한', 2838: '▁사랑을', 2839: '▁집', 2840: '▁등', 2841: '▁80', 2842: '▁감독은', 2843: '음악', 2844: '자들', 2845: '▁굳', 2846: '▁힘든', 2847: '▁유머', 2848: '는것', 2849: '▁아쉽', 2850: '▁순간', 2851: '▁지나', 2852: '▁없네요', 2853: '▁전개가', 2854: '리스', 2855: '였던', 2856: '▁소설', 2857: '흔', 2858: '찰', 2859: '많이', 2860: '▁믿고', 2861: '▁써', 2862: '▁화이팅', 2863: '▁댓글', 2864: '▁자꾸', 2865: '부분', 2866: '자가', 2867: '▁어렸을때', 2868: '▁새', 2869: '▁노력', 2870: '▁웃겨', 2871: '보는데', 2872: '▁예고편', 2873: '변', 2874: '책', 2875: '갑', 2876: '누', 2877: '▁선택', 2878: '하는게', 2879: '▁스타일', 2880: '▁보이', 2881: '풍', 2882: '--', 2883: '딱', 2884: '쩔', 2885: '▁무섭', 2886: '▁슬프', 2887: '▁창', 2888: '▁아이들이', 2889: '▁명작이다', 2890: '▁리메이크', 2891: '▁SF', 2892: '▁재밌었어요', 2893: '영화다', 2894: '버렸다', 2895: '좋다', 2896: '묘', 2897: '▁복', 2898: '▁진실', 2899: '▁범죄', 2900: '걸까', 2901: '▁코메디', 2902: '▁괴', 2903: '웠', 2904: '북', 2905: '렌', 2906: '킹', 2907: '▁좀비', 2908: '▁우연히', 2909: '있네', 2910: '▁작품성', 2911: '맛', 2912: '네여', 2913: '시대', 2914: '픈', 2915: '년에', 2916: '쁘', 2917: '싱', 2918: '몽', 2919: '힌', 2920: 'x', 2921: '추천', 2922: '그래도', 2923: '▁왜이리', 2924: '▁뭔지', 2925: '▁재미없고', 2926: '성을', 2927: '곤', 2928: '하던', 2929: '▁알아', 2930: '▁느낄', 2931: '가서', 2932: '▁쳐', 2933: '▁억지로', 2934: '한번', 2935: '▁골', 2936: '▁이런걸', 2937: '▁액션도', 2938: '▁대단하다', 2939: '끔', 2940: '잉', 2941: '▁청춘', 2942: '▁당신', 2943: '▁여운', 2944: '▁지금도', 2945: '▁느끼게', 2946: '꼭', 2947: '▁티비', 2948: '▁않을', 2949: '▁속편', 2950: '어도', 2951: '▁졸라', 2952: '하긴', 2953: '▁신기', 2954: '▁설명', 2955: '역시', 2956: '감이', 2957: '▁해도', 2958: '을텐데', 2959: '▁이리', 2960: '▁미화', 2961: '폐', 2962: '▁기대하고', 2963: '됐', 2964: '▁귀신', 2965: '▁그때', 2966: '줘', 2967: '▁액션영화', 2968: '▁늘', 2969: '▁편집', 2970: '▁후반부', 2971: '▁있는데', 2972: '축', 2973: '▁분들', 2974: '▁시간낭비', 2975: '▁각', 2976: '▁니', 2977: '▁티', 2978: '몰', 2979: 'w', 2980: '견', 2981: '▁유치하고', 2982: '▁까', 2983: '▁이런거', 2984: '▁귀여운', 2985: '▁프랑스', 2986: '▁그래', 2987: '▁회', 2988: '▁처음으로', 2989: '▁ost', 2990: '▁방송', 2991: '▁이상한', 2992: '쾌', 2993: '▁있음', 2994: '랄', 2995: '빵', 2996: '▁내인생', 2997: '에겐', 2998: '▁완성도', 2999: '▁연출이', 3000: '▁아닌가', 3001: '점준다', 3002: '▁됐', 3003: '인거', 3004: '▁귀', 3005: 'ᄆ', 3006: '▁해서', 3007: '▁나쁜', 3008: '봣', 3009: '*', 3010: '▁이유', 3011: '▁감상', 3012: '▁전작', 3013: '▁안보', 3014: '좋았', 3015: '결말', 3016: '로운', 3017: '▁언', 3018: '▁최악이다', 3019: '▁이후', 3020: '▁안나오', 3021: '하는거', 3022: '릭', 3023: '하세요', 3024: '▁겁나', 3025: '▁꺼', 3026: '가지', 3027: '▁천재', 3028: '▁트', 3029: '▁아오', 3030: '▁교', 3031: '▁감사', 3032: '지않는', 3033: '▁맥', 3034: '▁죽음', 3035: '▁나만', 3036: '했고', 3037: '로서', 3038: '렸다', 3039: '▁상상', 3040: '렉', 3041: '작가', 3042: '▁알았는데', 3043: '▁상영', 3044: '▁마무리', 3045: '▁여성', 3046: '들과', 3047: '▁잘봤습니다', 3048: '▁개그', 3049: '▁명작이', 3050: '▁벌', 3051: '족', 3052: '▁해준', 3053: '려서', 3054: '깔', 3055: '뻐', 3056: 'ᅲᅲᅲ', 3057: '▁아무것도', 3058: '주고', 3059: '▁자연', 3060: '놓', 3061: '▁느껴', 3062: '▁쓴', 3063: '▁영화였습니다', 3064: '마다', 3065: '흐', 3066: '났다', 3067: '앙', 3068: '고싶다', 3069: '▁느끼', 3070: '시절', 3071: '으면서', 3072: '▁성장', 3073: '▁인정', 3074: '것을', 3075: '▁작품이', 3076: '홍', 3077: '▁수가', 3078: '▁불편', 3079: '재밌게', 3080: '▁진행', 3081: '학교', 3082: '애들', 3083: '▁모르는', 3084: '▁우울', 3085: '▁진부한', 3086: '▁않음', 3087: '▁슬', 3088: '▁질질', 3089: '애니', 3090: '▁잔인하', 3091: '최', 3092: '▁이미', 3093: '▁분명', 3094: '▁둘', 3095: '▁지루하지', 3096: '지고', 3097: '▁왠지', 3098: '▁가치', 3099: '▁처', 3100: '황', 3101: '충', 3102: '▁앞으로', 3103: '▁매력적인', 3104: '▁배우가', 3105: '킬', 3106: '▁전기세', 3107: '▁아들', 3108: '▁없었', 3109: '▁이야기를', 3110: '졸', 3111: '손', 3112: '@', 3113: '▁독', 3114: '▁만나', 3115: '▁상상력', 3116: '▁넘어', 3117: '빨', 3118: 'ᄀ', 3119: '겠네', 3120: 'ᅲᅲᅲᅲ', 3121: '~^^', 3122: '반전', 3123: '팔', 3124: '최고의', 3125: '▁비슷한', 3126: '▁지금봐도', 3127: '알바', 3128: '▁인간의', 3129: '그러', 3130: '▁그게', 3131: '▁받', 3132: '는걸', 3133: '돼', 3134: '때마다', 3135: '▁화려한', 3136: 'ᄃ', 3137: '▁ᄏᄏᄏᄏᄏ', 3138: '영환', 3139: '▁좋았음', 3140: '안되', 3141: '▁촌', 3142: '지마', 3143: '▁대한민국', 3144: '▁수준이', 3145: '▁만드', 3146: '벨', 3147: '▁갖', 3148: '없어', 3149: '시켜', 3150: '▁합니다', 3151: '인의', 3152: '▁빠', 3153: '마저', 3154: '오는', 3155: '탕', 3156: '▁않았다', 3157: '▁글쎄', 3158: '▁흥미', 3159: '코미디', 3160: '▁허접한', 3161: '▁출', 3162: '눈물', 3163: '▁유쾌', 3164: '하자', 3165: '▁나에게', 3166: '▁비추', 3167: '▁이쁘', 3168: '해주는', 3169: '&', 3170: '▁좋았습니다', 3171: '▁소재는', 3172: '▁살인', 3173: '했어', 3174: '아깝', 3175: '▁세상에', 3176: '아닌', 3177: '▁아빠', 3178: '▁게임', 3179: 'E', 3180: '▁유쾌한', 3181: '닥', 3182: '//', 3183: '면서도', 3184: '셔', 3185: '언니', 3186: '▁한계', 3187: '▁별로다', 3188: '것이다', 3189: '영화중', 3190: '랜', 3191: '가족', 3192: '▁저도', 3193: '득', 3194: '▁로맨틱', 3195: '▁결혼', 3196: '▁중간', 3197: '▁특유의', 3198: 'T', 3199: '보면서', 3200: '▁재미있음', 3201: '전에', 3202: '▁듯한', 3203: '봉', 3204: '▁이런게', 3205: '▁엉성', 3206: '▁있다는', 3207: '▁바람', 3208: 'ᄒᄒᄒ', 3209: '었으면', 3210: '웅', 3211: '폰', 3212: '▁사랑이', 3213: '▁잼없', 3214: '▁금', 3215: '▁보고나서', 3216: '평가', 3217: '????', 3218: '▁촬영', 3219: '▁갑', 3220: '▁아름답다', 3221: '보게', 3222: '▁알수', 3223: '▁것이다', 3224: '▁사람들은', 3225: '였어요', 3226: '▁밑에', 3227: '하지않', 3228: '인간', 3229: '▁현재', 3230: '놓은', 3231: '▁과거', 3232: '▁아니지만', 3233: '▁그랬', 3234: '풀', 3235: '▁왜이렇게', 3236: '강추', 3237: '▁잘만든', 3238: '확', 3239: '▁영화중에', 3240: '▁클', 3241: 'ᄂ', 3242: '▁지난', 3243: '수록', 3244: '▁확', 3245: '봤음', 3246: '▁이것', 3247: '▁황당', 3248: '▁눈이', 3249: '▁멀', 3250: '했는지', 3251: '▁중에', 3252: '▁미안', 3253: '▁인물', 3254: '만으로', 3255: '▁C', 3256: '육', 3257: '땅', 3258: '▁노출', 3259: '했을', 3260: '▁훨', 3261: '든다', 3262: '▁낭비', 3263: '스타', 3264: '▁인상', 3265: '이면', 3266: '▁풀어', 3267: '▁법', 3268: '▁이러', 3269: '▁얼', 3270: '▁어찌', 3271: '념', 3272: '르는', 3273: '▁마음을', 3274: '▁채', 3275: '세계', 3276: '▁목', 3277: '▁생각나', 3278: '보세요', 3279: '▁어린이', 3280: 'ᄅ', 3281: '▁메세지', 3282: '봅니다', 3283: '▁키', 3284: '▁심심', 3285: '▁캐', 3286: '▁소름', 3287: '쇼', 3288: '암', 3289: '▁....', 3290: '▁프로', 3291: '고싶', 3292: '려는', 3293: '▁귀엽고', 3294: '높', 3295: '▁장면은', 3296: '▁씨', 3297: '▁떠나', 3298: '이제', 3299: '턴', 3300: '▁감사합니다', 3301: '▁보고싶다', 3302: '▁등장', 3303: '수있', 3304: '시간이', 3305: '▁역대', 3306: '▁똑같', 3307: '▁답', 3308: 'an', 3309: '▁맞는', 3310: '시고', 3311: '한건', 3312: '뒤', 3313: '▁특', 3314: '▁성인', 3315: '▁만들었다', 3316: '▁미소', 3317: '▁봤었는데', 3318: '▁스토리에', 3319: '▁ᄉᄇ', 3320: '스런', 3321: '나온다', 3322: '▁자유', 3323: '▁너무나도', 3324: '▁보고싶', 3325: '분이', 3326: '▁시청률', 3327: '▁모르겠', 3328: '▁이어', 3329: 'ᄏᄏᄏᄏᄏ', 3330: '▁임', 3331: '즐', 3332: '떡', 3333: '내요', 3334: '텐데', 3335: '쿠', 3336: '▁해주는', 3337: '▁액션이', 3338: '▁어이없는', 3339: '센', 3340: '좌', 3341: '▁깊이', 3342: '재미없다', 3343: '▁물론', 3344: '지않은', 3345: '▁아놔', 3346: '▁동화', 3347: '▁이영화가', 3348: '▁보지마세요', 3349: '왔다', 3350: '▁불쌍', 3351: '▁어색한', 3352: '사람이', 3353: '▁그녀', 3354: '거같다', 3355: '영상', 3356: '욱', 3357: '▁요소', 3358: '▁매력이', 3359: '▁슬프다', 3360: '컨', 3361: '▁리얼', 3362: '▁재밌었는데', 3363: '▁취향', 3364: '더군요', 3365: '▁식상', 3366: '▁모습이', 3367: '▁입니다', 3368: '나옴', 3369: '▁충', 3370: '한듯', 3371: '▁섹시', 3372: '▁먼저', 3373: '▁연애', 3374: '▁제작비', 3375: '▁A', 3376: '없네', 3377: '해준', 3378: '▁받아', 3379: '▁신선한', 3380: '▁재밌습니다', 3381: '▁급', 3382: '▁하면', 3383: '이렇게', 3384: '갔다', 3385: '▁같네요', 3386: '놀', 3387: '▁남주', 3388: '랬', 3389: '▁시도', 3390: '▁잼있게', 3391: '벽', 3392: '재밌어요', 3393: '▁처음이다', 3394: '▁확실히', 3395: '▁보여준', 3396: '▁좋았는데', 3397: '좋아요', 3398: '던가', 3399: '▁표정', 3400: '있게', 3401: '내는', 3402: '어지는', 3403: '▁독특한', 3404: '급영화', 3405: '엄', 3406: '▁싫어', 3407: '▁알바들', 3408: '▁보이는', 3409: '먹는', 3410: '▁전편', 3411: '겹', 3412: '▁본다', 3413: '량', 3414: '퇴', 3415: '▁그렇고', 3416: '껄', 3417: '홀', 3418: '갔', 3419: '거임', 3420: '▁대충', 3421: '코드', 3422: '▁춤', 3423: '▁같습니다', 3424: '유치', 3425: '▁한편', 3426: '▁재미없네', 3427: '무섭', 3428: '잼있', 3429: '▁돋보', 3430: '▁놓', 3431: '뜻', 3432: '▁관계', 3433: '▁그런가', 3434: '빡', 3435: '▁이연걸', 3436: '▁와닿', 3437: '▁여전히', 3438: '▁볼때마다', 3439: '▁일상', 3440: '줘야', 3441: '▁주인공들', 3442: '▁이야기가', 3443: '▁나라', 3444: '▁했지만', 3445: '하라', 3446: '다른', 3447: '지마라', 3448: '▁밀', 3449: '깨', 3450: 'S', 3451: '되지', 3452: '무슨', 3453: '▁브', 3454: '▁오히려', 3455: '▁스케일', 3456: '순간', 3457: '▁애들이', 3458: '▁어릴적', 3459: '시다', 3460: '▁느껴지는', 3461: '▁사이', 3462: '점주는', 3463: '▁있었던', 3464: '▁빨', 3465: '▁정치', 3466: '▁마라', 3467: '▁젤', 3468: '▁그림', 3469: '▁표절', 3470: '▁관심', 3471: '▁아닐까', 3472: '▁눈을', 3473: '▁캐릭터들', 3474: '소재', 3475: '▁근', 3476: '▁이젠', 3477: '스가', 3478: '▁단순', 3479: '▁감동적이고', 3480: '▁그런데', 3481: '수도', 3482: '▁순수한', 3483: '었지만', 3484: '버리고', 3485: '송', 3486: '▁서로', 3487: '널', 3488: '인들', 3489: '▁그럭저럭', 3490: '▁깊은', 3491: '▁cg', 3492: '▁개인', 3493: '▁전달', 3494: '킨', 3495: '▁연기력이', 3496: '드라', 3497: '▁독립영화', 3498: '▁좋았고', 3499: '드리', 3500: 'ᄍᄍ', 3501: '짜증', 3502: '특히', 3503: '▁추억의', 3504: '▁몰랐', 3505: '▁아닌듯', 3506: '만들어', 3507: '▁환상', 3508: '혁', 3509: '모습', 3510: '▁영웅', 3511: '▁접', 3512: '▁긴', 3513: '▁평론가', 3514: '나온', 3515: '▁돌려', 3516: '보이', 3517: '▁찍은', 3518: '▁액션은', 3519: '▁역시나', 3520: '딩', 3521: '들아', 3522: '기엔', 3523: '한다는', 3524: '나고', 3525: '▁좋을', 3526: '▁되었', 3527: '▁어렸을', 3528: '혼', 3529: '스럽', 3530: '▁누', 3531: '탁', 3532: '압', 3533: 'F', 3534: 'P', 3535: '덤', 3536: '▁전체적으로', 3537: '일뿐', 3538: '▁싫다', 3539: '▁삶을', 3540: '제목', 3541: '▁중반', 3542: '마음', 3543: '▁싶어', 3544: '▁좋았', 3545: '꾸', 3546: '▁떨어지는', 3547: '롱', 3548: '벤', 3549: '▁흥미롭', 3550: '▁예쁜', 3551: '▁나를', 3552: '▁성공', 3553: '짜리', 3554: '▁아름답고', 3555: '▁떨어', 3556: '▁기대를', 3557: '▁w', 3558: '하하하', 3559: '▁필요없다', 3560: '나올', 3561: '▁부분', 3562: '▁아깝', 3563: '버려', 3564: '신이', 3565: '시는', 3566: '▁심리', 3567: '닝', 3568: '▁무엇보다', 3569: 'C', 3570: '둘', 3571: ',,,,', 3572: '▁조폭', 3573: '▁감탄', 3574: '버렸', 3575: '▁추천합니다', 3576: '▁시선', 3577: '▁재미있네요', 3578: '▁참신', 3579: '따라', 3580: '친구', 3581: '영화의', 3582: '▁실제', 3583: '▁아저씨', 3584: '던지', 3585: '▁싫', 3586: '▁다소', 3587: '▁안하고', 3588: '▁용', 3589: '▁OST', 3590: 'ᅡ', 3591: '▁슬픔', 3592: '▁보는게', 3593: '콩', 3594: '▁남는다', 3595: '▁기분이', 3596: '▁호러', 3597: '▁볼만함', 3598: '▁뒷', 3599: '▁진지', 3600: '▁않아', 3601: '▁얻', 3602: '▁프로그램', 3603: '▁시원', 3604: '▁여자들', 3605: '▁딴', 3606: '람', 3607: '▁죄', 3608: '▁민', 3609: '▁팔', 3610: '▁무협', 3611: '▁재밌네', 3612: '▁재밌었', 3613: '▁용서', 3614: '▁희망', 3615: '▁필요한', 3616: '▁표', 3617: '▁모자', 3618: '▁아니면', 3619: '▁음악이', 3620: '!!!!!', 3621: '으며', 3622: '.......', 3623: '▁드라마가', 3624: '▁진정', 3625: '▁있다면', 3626: '▁저예산', 3627: '케이', 3628: '갓', 3629: '휘', 3630: '찌', 3631: '▁평생', 3632: '▁알려', 3633: '▁벗', 3634: '▁송', 3635: '▁끝나고', 3636: '▁친', 3637: '▁있나', 3638: '줌', 3639: 'er', 3640: '▁보시길', 3641: '온다', 3642: '율', 3643: '따위', 3644: '와서', 3645: '▁살짝', 3646: '끝나', 3647: '있어', 3648: '총', 3649: '▁고민', 3650: '▁여자가', 3651: '▁맨', 3652: '▁말할', 3653: '▁권', 3654: 'or', 3655: '한다면', 3656: '싸움', 3657: '▁스토리와', 3658: '▁몇번을', 3659: '▁취', 3660: '▁ᅮ', 3661: '▁T', 3662: '것은', 3663: '만화', 3664: '으론', 3665: '▁이정도면', 3666: '▁보기엔', 3667: '%', 3668: '▁놀라', 3669: '▁고전', 3670: '감독이', 3671: '▁예전', 3672: '할듯', 3673: '▁짧', 3674: '▁붙', 3675: '▁함', 3676: '거같', 3677: '▁보여', 3678: '▁사건', 3679: '▁생각나는', 3680: '▁홍', 3681: '▁그다지', 3682: '▁짓', 3683: '▁이하', 3684: '것만', 3685: '▁+', 3686: '▁논', 3687: '새끼', 3688: '재밌다', 3689: '오빠', 3690: '▁중간중간', 3691: '떨', 3692: '▁끝난', 3693: '▁짠', 3694: '맞추', 3695: '▁보았', 3696: '▁꼴', 3697: '아님', 3698: '▁재밋다', 3699: '섬', 3700: '힐', 3701: 'L', 3702: '▁<', 3703: '▁난다', 3704: '취', 3705: '▁봐야할', 3706: 'B', 3707: '▁봤다가', 3708: '▁평범한', 3709: '▁영화관', 3710: '에서는', 3711: '▁멋지다', 3712: '▁화가', 3713: '▁이건뭐', 3714: '흘', 3715: '▁긴장', 3716: '▁달리', 3717: '▁몸매', 3718: '▁행동', 3719: '▁미래', 3720: '▁그의', 3721: '받는', 3722: '▁괴물', 3723: '누나', 3724: '▁사극', 3725: '클', 3726: '스의', 3727: '정신', 3728: '▁아련', 3729: '타임', 3730: '▁영화이다', 3731: '년전에', 3732: '▁영화보고', 3733: '▁현대', 3734: '▁무지', 3735: '빙', 3736: '▁조연', 3737: '▁ᄃᄃ', 3738: '▁빼', 3739: '값', 3740: '▁범인', 3741: '▁아닌데', 3742: '진심', 3743: '었어', 3744: '▁볼수록', 3745: '인것', 3746: '▁십', 3747: '▁I', 3748: '▁청', 3749: 'v', 3750: '▁죽는', 3751: '▁드라마를', 3752: '첨', 3753: '방송', 3754: '▁홍콩', 3755: 'ᄏᄏᄏᄏᄏᄏᄏᄏᄏᄏᄏᄏᄏᄏᄏᄏ', 3756: '있었', 3757: '▁연기와', 3758: '▁하게', 3759: '▁지루해서', 3760: '▁몰입감', 3761: '▁병', 3762: '▁잊', 3763: '평점이', 3764: '▁나왔으면', 3765: '▁엉성한', 3766: '▁디즈니', 3767: '▁압권', 3768: '▁느낀', 3769: '▁카메라', 3770: '▁짜증나는', 3771: '▁부분이', 3772: '지가', 3773: 'ᄃᄃ', 3774: '한국', 3775: '▁티비에서', 3776: '먹고', 3777: '쓴', 3778: '하다니', 3779: '▁필요없는', 3780: '▁m', 3781: '▁못하고', 3782: '▁경찰', 3783: '▁마치', 3784: '되서', 3785: '▁해야', 3786: '▁만들어진', 3787: '걸로', 3788: '▁뮤지컬', 3789: 'j', 3790: '▁어이가', 3791: '▁하는데', 3792: '▁몇번', 3793: '▁높다', 3794: '머리', 3795: '져서', 3796: '▁군대', 3797: '▁썩', 3798: '▁설레', 3799: '▁재밋게', 3800: '인생', 3801: '▁전에', 3802: '더만', 3803: '함과', 3804: '한게', 3805: '하는지', 3806: '▁연기에', 3807: '▁우정', 3808: '멘', 3809: '▁힐링', 3810: '일이', 3811: '자는', 3812: '▁악역', 3813: '▁몰입이', 3814: '▁재미를', 3815: '봤어요', 3816: '더라구요', 3817: '들고', 3818: '▁킬링타임', 3819: '▁같음', 3820: '미치', 3821: '▁동물', 3822: '▁스타', 3823: '▁언제나', 3824: '▁내용을', 3825: '▁보고싶은', 3826: '▁빠져들', 3827: '니깐', 3828: '생겼', 3829: '궁', 3830: '스러움', 3831: '▁결론', 3832: '▁없나', 3833: '▁외국', 3834: '▁안됨', 3835: '▁좋았던', 3836: '님의', 3837: '지않고', 3838: '하면서도', 3839: '▁드는', 3840: '▁후반', 3841: '▁제작진', 3842: '▁이유가', 3843: '▁기본', 3844: '아주', 3845: '▁적당', 3846: '▁아는', 3847: '▁현실성', 3848: '▁가볍게', 3849: '▁리뷰', 3850: '학생', 3851: '▁무섭다', 3852: '▁찍어', 3853: '▁불쾌', 3854: '▁과연', 3855: '♥♥', 3856: '테러', 3857: '▁빈', 3858: '▁잊혀지지', 3859: '▁낫', 3860: '▁에로', 3861: '시킨', 3862: '것같', 3863: '▁재미있었다', 3864: '하시는', 3865: '리를', 3866: '▁되게', 3867: '까진', 3868: '번째', 3869: '낼', 3870: '▁나가', 3871: '▁아깝지', 3872: '▁허술', 3873: '▁사랑스러운', 3874: '웠다', 3875: '▁포장', 3876: '▁통해', 3877: '▁재밌었음', 3878: '에서도', 3879: '▁또한', 3880: '했네', 3881: '▁다큐멘터리', 3882: '▁모습을', 3883: '연기가', 3884: '딸', 3885: '▁제목이', 3886: '▁히', 3887: '▁진심으로', 3888: '▁능력', 3889: '항', 3890: '▁봤으면', 3891: '몬', 3892: '▁비주얼', 3893: '▁쓰래기', 3894: '▁영화지만', 3895: '▁멋지', 3896: '힘', 3897: '하셨', 3898: '하구', 3899: '▁폭', 3900: '▁ᄋᄋ', 3901: '페', 3902: '▁공감이', 3903: '▁좋습니다', 3904: '용으로', 3905: '▁유치함', 3906: '▁다행', 3907: '▁영화냐', 3908: '갑니다', 3909: '▁가능', 3910: '▁영화에서', 3911: '▁다르', 3912: '되네요', 3913: '▁운', 3914: '슈', 3915: '▁더이상', 3916: '▁소재를', 3917: '▁먼', 3918: '프로', 3919: '▁스토리를', 3920: '▁지루할', 3921: '▁덜', 3922: '▁그럼', 3923: '▁풀', 3924: '속에서', 3925: '▁사랑과', 3926: '쏘', 3927: '▁드럽게', 3928: '▁싸구려', 3929: '▁볼거리', 3930: '랄까', 3931: 'in', 3932: '▁짱짱', 3933: '▁울었', 3934: '▁S', 3935: '▁그들의', 3936: '▁역할', 3937: '▁믿을', 3938: '▁화려', 3939: '괜찮', 3940: '▁해주', 3941: '죄', 3942: 'ᅲᅲᅲᅲᅲ', 3943: '있음', 3944: '▁오버', 3945: '▁감동과', 3946: '▁귀엽', 3947: '▁든다', 3948: '▁사람을', 3949: '말고', 3950: '즘', 3951: '볼만', 3952: '굴', 3953: '틈', 3954: '▁쵝오', 3955: '나와', 3956: '좋고', 3957: '생활', 3958: '기분', 3959: '영화로', 3960: '▁말로', 3961: '▁전설', 3962: '▁유치하다', 3963: '▁같아', 3964: '▁죽이', 3965: '▁40', 3966: '▁이제야', 3967: '안에', 3968: '아까움', 3969: '스럽고', 3970: '험', 3971: '쳤', 3972: '숭', 3973: '씨가', 3974: '▁소녀', 3975: '었고', 3976: '▁올해', 3977: '자의', 3978: '이해', 3979: '▁의심', 3980: '▁풍', 3981: '▁처음엔', 3982: '▁시걸', 3983: '하려고', 3984: '많은', 3985: '▁결과', 3986: '▁삶의', 3987: '▁포기', 3988: '▁어쩔', 3989: '골', 3990: '아라', 3991: '웃기', 3992: 'M', 3993: '▁열정', 3994: '스릴러', 3995: '▁나중에', 3996: '▁사랑하는', 3997: '팅', 3998: '▁열심히', 3999: '▁펑펑', 4000: '▁빛', 4001: '점준', 4002: '........', 4003: '▁눈빛', 4004: '▁존경', 4005: '줄이야', 4006: '▁게이', 4007: '하는것', 4008: '자체', 4009: '▁팬이', 4010: '▁킬링타임용으로', 4011: '▁할말', 4012: '▁초반에', 4013: '였지만', 4014: '▁자신', 4015: '받은', 4016: '▁놈', 4017: '▁옛날에', 4018: '폭', 4019: '▁70', 4020: '어진', 4021: '▁멋', 4022: '▁퀄리티', 4023: '▁흘러', 4024: '▁밋밋', 4025: '▁해피엔딩', 4026: '▁느와르', 4027: '▁만큼', 4028: '▁조잡', 4029: '▁나오고', 4030: '▁올라', 4031: '▁이거보고', 4032: '봣는데', 4033: '▁헛', 4034: '▁재미없어요', 4035: '▁소름돋', 4036: '▁합', 4037: '▁개판', 4038: '중의', 4039: '▁질리지', 4040: '▁찡', 4041: '식으로', 4042: '남는', 4043: '▁죽을', 4044: '님이', 4045: 'V', 4046: '워서', 4047: '▁봤었', 4048: '룡', 4049: '▁슬프고', 4050: '릿', 4051: '는건지', 4052: '▁저렇게', 4053: '▁결', 4054: '▁행', 4055: '감을', 4056: '▁뜨', 4057: '▁쫌', 4058: '▁볼만하다', 4059: '▁했던', 4060: '설정', 4061: '▁음악도', 4062: '▁폭력', 4063: '하지도', 4064: '▁군', 4065: '▁볼만하', 4066: '▁따뜻', 4067: '하려는', 4068: '▁뻔하', 4069: '▁있지', 4070: '겼', 4071: '▁꼽', 4072: '▁와우', 4073: '▁뜬금없', 4074: '▁배우의', 4075: '(?)', 4076: '▁듣', 4077: '▁시사회', 4078: '드러', 4079: '▁가끔', 4080: '▁방금', 4081: '▁페', 4082: '▁할말이', 4083: '프리', 4084: '▁메시지', 4085: '▁남을', 4086: '▁소재가', 4087: '▁남기', 4088: '▁그렇다', 4089: '▁d', 4090: '▁올리', 4091: '겟다', 4092: '▁정서', 4093: '▁가진', 4094: '▁어제', 4095: '▁달라', 4096: '잃', 4097: 'A', 4098: '▁웃기고', 4099: '맘', 4100: '▁꾸', 4101: '꿀', 4102: '농', 4103: '▁사랑에', 4104: '보고싶', 4105: '▁생애', 4106: '▁베스트', 4107: '빼고', 4108: '▁분노', 4109: '▁다시한번', 4110: '▁광고', 4111: '아요', 4112: '시간에', 4113: '편보다', 4114: '▁나서', 4115: '막장', 4116: '▁봣', 4117: '내용이', 4118: '▁ᅲᅲᅲ', 4119: '사가', 4120: '정이', 4121: '▁굳이', 4122: '▁웬', 4123: '▁미드', 4124: '▁안되고', 4125: '▁괜찮았', 4126: '협', 4127: '표현', 4128: '밑', 4129: '균', 4130: '명이', 4131: '▁인기', 4132: '▁죽여', 4133: '▁마세요', 4134: '공포', 4135: '▁봣는데', 4136: '▁느끼는', 4137: '▁넣', 4138: '▁이기', 4139: '▁푹', 4140: '▁반전도', 4141: '놔', 4142: '▁헤', 4143: '캐', 4144: '끈', 4145: '▁받았', 4146: '흑', 4147: '울리', 4148: 'X', 4149: '▁견자단', 4150: '뮤', 4151: '▁기대안하고', 4152: '▁희생', 4153: '▁통쾌', 4154: '▁종교', 4155: '받고', 4156: '가슴', 4157: '▁자막', 4158: 'O', 4159: '▁남아', 4160: '▁최근', 4161: '▁밥', 4162: '▁아쉬움', 4163: '▁잔잔하고', 4164: '무비', 4165: '력이', 4166: '형제', 4167: '시길', 4168: '▁나타', 4169: '▁힘들다', 4170: '▁만든다', 4171: '▁귀여워', 4172: '▁굿굿', 4173: '찾', 4174: '▁정말로', 4175: '믿', 4176: '▁없지만', 4177: '잤', 4178: '▁헐리우드', 4179: 'R', 4180: '▁아름다움', 4181: '▁어려운', 4182: '▁형편없', 4183: '▁뛰어난', 4184: '▁명품', 4185: '▁낮아서', 4186: '▁10277', 4187: '▁비극', 4188: 'on', 4189: '▁영화인', 4190: '▁매력있', 4191: '▁죽어', 4192: '▁빠지', 4193: '▁좋아서', 4194: '▁생각합니다', 4195: '▁필', 4196: '▁식', 4197: '▁무서워', 4198: '할까', 4199: '이유', 4200: '▁잭', 4201: '▁많다', 4202: '▁그린', 4203: '만의', 4204: '▁그려', 4205: '▁시시', 4206: '접', 4207: '째', 4208: '▁실패', 4209: '젤', 4210: '솔', 4211: 'N', 4212: '`', 4213: ']', 4214: '▁레전드', 4215: '스러웠', 4216: '엄마', 4217: '상을', 4218: '보지', 4219: '▁영국', 4220: '▁여러', 4221: '느라', 4222: '▁이쁜', 4223: '▁생각한다', 4224: '▁연출도', 4225: '▁필요없', 4226: '젠', 4227: '나와서', 4228: 'ᅲᅮ', 4229: '려면', 4230: '점수', 4231: '이며', 4232: '착', 4233: '▁인생을', 4234: '▁라는', 4235: '▁고생', 4236: '▁즐겁게', 4237: '같음', 4238: '▁출연진', 4239: '구성', 4240: '▁아침', 4241: '▁직', 4242: '▁산으로', 4243: '영화라고', 4244: '오브', 4245: '▁안타깝다', 4246: '▁탄탄한', 4247: '무엇', 4248: '▁시대를', 4249: '식이', 4250: '▁보지마', 4251: '▁평이', 4252: '헤', 4253: '▁높아', 4254: '▁빌려', 4255: '▁많았', 4256: '컬', 4257: '▁로그인', 4258: '▁섹스', 4259: '포인트', 4260: '!!!!!!!!!', 4261: '▁재미있었어요', 4262: '▁샤', 4263: '개봉', 4264: '형님', 4265: '▁이런영화가', 4266: '내용도', 4267: '▁주인공의', 4268: '▁눈물을', 4269: '▁의리', 4270: '중에서', 4271: '흡', 4272: '방식', 4273: '▁헐리웃', 4274: '떄', 4275: '렁', 4276: '▁칼', 4277: '▁드라마는', 4278: '▁따뜻해지는', 4279: '집니다', 4280: '▁사는', 4281: '▁빌', 4282: '▁단연', 4283: '▁유쾌하고', 4284: '▁여기서', 4285: '▁야한', 4286: '인가요', 4287: '▁다만', 4288: '▁몰라도', 4289: '세기', 4290: '▁발로', 4291: '로우', 4292: '▁나쁘지', 4293: '냈', 4294: '▁쇼', 4295: '▁뭐라', 4296: '.........', 4297: '리아', 4298: '아니다', 4299: '▁되었다', 4300: '▁자신의', 4301: '시키는', 4302: '▁젊은', 4303: 'OOO', 4304: '붕', 4305: '텔', 4306: '▁청소년', 4307: '▁흐름', 4308: '있는데', 4309: '잠', 4310: '사이', 4311: '계의', 4312: '▁남녀', 4313: '낫', 4314: '도아니고', 4315: '▁많아', 4316: '면에서', 4317: '▁재밌을', 4318: '▁생각없이', 4319: '나이', 4320: '▁끝나는', 4321: '...........', 4322: '▁가득', 4323: '▁있어요', 4324: '▁둘다', 4325: '▁동생', 4326: '컷', 4327: '톱', 4328: '▁울었다', 4329: '▁나머지', 4330: '▁에휴', 4331: '▁늘어', 4332: '▁우와', 4333: '▁이유는', 4334: '▁쩐다', 4335: '▁안돼', 4336: '▁딱히', 4337: '▁독특', 4338: '▁평범', 4339: '웨', 4340: '▁하루', 4341: '▁이후로', 4342: '버림', 4343: '▁과정', 4344: '재밌음', 4345: '▁있게', 4346: '하려', 4347: '▁크게', 4348: '▁뒤로', 4349: '▁점수를', 4350: '섭', 4351: '수없는', 4352: '픽', 4353: '콜', 4354: '▁;;', 4355: '탐', 4356: '▁시트콤', 4357: '▁즐거운', 4358: '▁어머니', 4359: '▁잔인한', 4360: '▁소재로', 4361: '▁생생', 4362: '사람은', 4363: '▁10275', 4364: '▁악당', 4365: '?!', 4366: '영화임', 4367: '▁전투', 4368: '▁안타깝', 4369: '▁보길', 4370: '들만', 4371: '▁무시', 4372: '했나', 4373: '관계', 4374: '▁이루', 4375: '▁자극', 4376: '▁c', 4377: '▁느껴지', 4378: '▁찍었', 4379: '▁멋있다', 4380: '보자', 4381: '▁보니까', 4382: '▁짝퉁', 4383: '혈', 4384: '▁위대한', 4385: '▁북한', 4386: '끌', 4387: '▁아나', 4388: '긴한데', 4389: '가지고', 4390: '▁사기', 4391: '▁홍보', 4392: '답답', 4393: '▁않게', 4394: '▁지나치', 4395: '흥', 4396: '▁월', 4397: '연기도', 4398: '캐릭터', 4399: '▁신경', 4400: '▁엉망', 4401: '▁긴장감도', 4402: '▁영화에요', 4403: '▁볼게', 4404: '씬은', 4405: '일본', 4406: '했다는', 4407: '▁죄다', 4408: '닌', 4409: '▁꽃', 4410: '▁재미있었', 4411: '▁판', 4412: '개도', 4413: 'ᄋᄋ', 4414: '택', 4415: '헌', 4416: 'ᅵ', 4417: '▁무언가', 4418: '▁마이클', 4419: '▁의외로', 4420: '기억', 4421: '▁상처', 4422: '▁지금은', 4423: '왔는데', 4424: '▁오글거리', 4425: '현실', 4426: '▁나왔다', 4427: '▁지루했다', 4428: '▁가지', 4429: '메이', 4430: '스타일', 4431: '으로서', 4432: '▁돌아가', 4433: '▁특이', 4434: '▁왜케', 4435: '슬퍼', 4436: '놨', 4437: '나오네', 4438: '▁예쁘', 4439: '▁앤', 4440: '▁알겠', 4441: '엔딩', 4442: '▁있네요', 4443: '▁내려', 4444: '▁잼나', 4445: '▁핵', 4446: '▁\"\"\"\"\"\"\"', 4447: '▁어른', 4448: '그래', 4449: '뚱', 4450: '▁무엇을', 4451: '▁발견', 4452: '▁최고입니다', 4453: '▁아픔', 4454: '▁연결', 4455: '▁매력적이', 4456: '▁완', 4457: '대는', 4458: '▁옛', 4459: '▁결말도', 4460: '▁연속', 4461: '▁결말은', 4462: '▁중요한', 4463: '잔잔', 4464: '지를', 4465: '▁전문가', 4466: '부족', 4467: '▁심장', 4468: '했네요', 4469: '▁우리가', 4470: '극장', 4471: '노래', 4472: '▁투자', 4473: '▁살리', 4474: '티비', 4475: '▁끊', 4476: '전쟁', 4477: '▁무비', 4478: '▁이쁘고', 4479: 'ᄃᄃᄃ', 4480: '..........', 4481: 'ᄏᄏᄏᄏᄏᄏᄏᄏᄏᄏᄏ', 4482: '▁발전', 4483: '▁당시에', 4484: '▁진리', 4485: '▁못했다', 4486: '옹', 4487: '땡', 4488: '▁연예인', 4489: '줍니다', 4490: '스러워', 4491: '▁차이', 4492: '냥', 4493: '얘기', 4494: '늘', 4495: '▁어휴', 4496: '친다', 4497: '▁몰입해서', 4498: '▁진부', 4499: '▁살아있', 4500: '▁나옴', 4501: '였어', 4502: 're', 4503: 'ᄌ', 4504: '떠', 4505: '▁느꼈', 4506: '▁이따위', 4507: '▁인생의', 4508: '▁맘', 4509: '로써', 4510: '만드는', 4511: '원작', 4512: '▁반성', 4513: 'ᄇ', 4514: '멸', 4515: '▁주성치', 4516: '▁보고나면', 4517: '▁쉽게', 4518: '▁느낄수', 4519: '▁흔한', 4520: '▁나오면', 4521: '▁코난', 4522: '▁잊지', 4523: '▁학교에서', 4524: '▁건지', 4525: '▁끝이', 4526: '▁영화였어요', 4527: '몸', 4528: '▁집에서', 4529: '▁가서', 4530: '주기', 4531: '▁맡', 4532: '▁모든게', 4533: '▁슈', 4534: '▁국내', 4535: '▁말을', 4536: '▁있습니다', 4537: '이자', 4538: '▁손발이', 4539: '와는', 4540: '것들', 4541: '▁뻔하고', 4542: '\"\"\"\"\"\"\"', 4543: '▁이쁘다', 4544: '뛰', 4545: '▁한국인', 4546: '▁마이너스', 4547: '▁문화', 4548: '▁달달', 4549: '었네', 4550: '▁노답', 4551: '하더라', 4552: '적이다', 4553: '▁잼있다', 4554: '봐야지', 4555: '해진다', 4556: '▁끼', 4557: '▁표현한', 4558: '▁사람의', 4559: '▁좋지만', 4560: '몇', 4561: '▁만들고', 4562: '▁않지만', 4563: '▁웃김', 4564: '안되는', 4565: '감동적', 4566: '▁틀', 4567: '엇다', 4568: '거라', 4569: '▁순수', 4570: '어라', 4571: '되면', 4572: '틱', 4573: '▁봤더니', 4574: '롤', 4575: '털', 4576: '▁어렵', 4577: '했으나', 4578: '하고싶', 4579: '해주세요', 4580: '그리', 4581: '▁음악과', 4582: '▁의문', 4583: '▁느낌을', 4584: '르고', 4585: '▁보았다', 4586: '겨울', 4587: '적은', 4588: '하기만', 4589: '굳', 4590: '▁오바', 4591: '▁단순한', 4592: '유발', 4593: '▁비슷', 4594: ':)', 4595: '소설', 4596: '▁받을', 4597: '▁있으', 4598: '▁솔직', 4599: '뽕', 4600: '녕', 4601: '▁뭉클', 4602: '▁흥미로운', 4603: '▁시간을', 4604: '▁현실적이', 4605: '▁웃음이', 4606: '▁망한', 4607: '▁빼고', 4608: '▁ᄋ', 4609: 'ᅮᅮᅮ', 4610: '▁푸', 4611: '있나', 4612: '▁싶네요', 4613: '▁신선하고', 4614: '▁억지스럽', 4615: '꿀잼', 4616: '▁감동적', 4617: '쁜', 4618: '▁철', 4619: '▁왠', 4620: '쉽', 4621: '연기력', 4622: '수있는', 4623: '▁우주', 4624: '▁멍청한', 4625: '매력', 4626: '▁한국영화는', 4627: '▁모르', 4628: '줬다', 4629: '략', 4630: '▁the', 4631: '▁젠장', 4632: '▁슈퍼', 4633: '장면이', 4634: '▁벌써', 4635: '하는건', 4636: '▁최강', 4637: '▁속에', 4638: '▁시청', 4639: '▁시각', 4640: '▁무척', 4641: '▁좋았을', 4642: '▁10276', 4643: '▁50', 4644: '▁극치', 4645: '▁아쉽네요', 4646: '▁현실적인', 4647: '▁남자가', 4648: '▁볼수있', 4649: '사는', 4650: '▁아마', 4651: '▁미모', 4652: '맹', 4653: '편의', 4654: '슬프', 4655: '드립니다', 4656: '보는내내', 4657: '▁채널', 4658: '더라면', 4659: '▁빼고는', 4660: '장난', 4661: '아쉽', 4662: '▁끌어', 4663: '▁케이블', 4664: '▁되지', 4665: '까지는', 4666: '▁시청자', 4667: '사회', 4668: '▁묘사', 4669: '▁반개도', 4670: '줄알았', 4671: '▁지구', 4672: '▁재밌던데', 4673: '빼곤', 4674: '대사', 4675: '▁멍청', 4676: '▁전체', 4677: '▁부족하다', 4678: '▁보인다', 4679: '▁신파', 4680: '▁안보고', 4681: '▁감동적이다', 4682: '▁쓰레기같은', 4683: '자체가', 4684: '▁못해', 4685: '▁쓰레기다', 4686: '▁한심', 4687: '마리', 4688: 'it', 4689: '▁잔', 4690: '▁흥', 4691: '맥', 4692: '점정도', 4693: '뭔', 4694: '▁혼', 4695: '하신', 4696: '▁줌', 4697: '잇는', 4698: 'st', 4699: '▁러닝타임', 4700: '쥬', 4701: '▁김기덕', 4702: '▁떨어지', 4703: '▁새롭', 4704: '▁좀더', 4705: '▁웃기지도', 4706: '계속', 4707: '▁안나', 4708: '▁낮네', 4709: '▁없는데', 4710: '▁조합', 4711: '▁떠나서', 4712: '가요', 4713: '▁꽝', 4714: '▁못할', 4715: '내고', 4716: '▁공부', 4717: '▁괜찮은데', 4718: '▁잔잔하', 4719: '▁한참', 4720: '넣', 4721: '▁있으면', 4722: '갈수록', 4723: '야한다', 4724: '▁이해할', 4725: '▁루', 4726: '▁배우들도', 4727: '▁[', 4728: '▁뽑', 4729: '이런영화', 4730: '▁인간이', 4731: '▁:', 4732: '팀', 4733: '▁불구하고', 4734: '▁맨날', 4735: '하지마라', 4736: '만이', 4737: '버리는', 4738: '▁한데', 4739: '▁무서웠', 4740: '▁제로', 4741: '▁올려', 4742: '▁빵점', 4743: '몰입', 4744: '▁볼만했', 4745: '▁그걸', 4746: '▁니들', 4747: '▁아줌마', 4748: '▁영화인듯', 4749: '잔인', 4750: '▁최대', 4751: '▁콩', 4752: '▁중에서', 4753: '▁기독교', 4754: '떼', 4755: '▁더러운', 4756: '▁관한', 4757: '다는게', 4758: '▁민망', 4759: '었나', 4760: '▁지켜', 4761: '▁레알', 4762: '▁국민', 4763: '▁역대급', 4764: '▁외모', 4765: '편도', 4766: '▁징', 4767: '▁007', 4768: '해진', 4769: '▁주말', 4770: '▁거지', 4771: '▁원작의', 4772: '▁작가가', 4773: '▁진부하고', 4774: '▁여행', 4775: '쳤다', 4776: '줘서', 4777: '▁이래', 4778: '▁인물들', 4779: 'en', 4780: '시작', 4781: '이라서', 4782: '낀', 4783: '▁포르노', 4784: 'ing', 4785: '기위해', 4786: '하던데', 4787: 'ᄏᄏᄏᄏᄏᄏᄏᄏᄏᄏᄏᄏ', 4788: '▁영어', 4789: '▁고통', 4790: '♥♥♥', 4791: '▁뜻', 4792: '▁무섭지도', 4793: '▁남겨', 4794: '셔서', 4795: '▁꿈을', 4796: '지도않고', 4797: '▁못한다', 4798: '▁없지', 4799: '▁재미잇', 4800: '만큼은', 4801: '▁훈훈한', 4802: '▁울고', 4803: '푸', 4804: '▁쓸', 4805: '▁인도', 4806: '으려', 4807: '끝까지', 4808: '▁낳', 4809: '▁지루하게', 4810: '객', 4811: '자리', 4812: '넹', 4813: '칙', 4814: '퀴', 4815: '▁아까울', 4816: '▁아름다웠', 4817: '▁좋아할', 4818: '▁화끈', 4819: '셈', 4820: '▁보시', 4821: '▁일품', 4822: '▁잊을', 4823: '제발', 4824: '제작', 4825: '~~~~~~~~', 4826: '님들', 4827: '죽이고', 4828: '에대한', 4829: '▁힘이', 4830: '이였다', 4831: '과는', 4832: '▁유명한', 4833: '스럽지', 4834: '▁나오지', 4835: '편에', 4836: '▁철학', 4837: '밥', 4838: '보네', 4839: '했었는데', 4840: '▁하는지', 4841: '▁찌', 4842: '짜증나', 4843: '▁오글', 4844: '해야지', 4845: '▁카리스마', 4846: '편을', 4847: '▁검색', 4848: '아쉬웠', 4849: '▁찌질', 4850: '▁기다리', 4851: '▁잼있어요', 4852: '▁아이돌', 4853: '▁박수를', 4854: '▁영화라는', 4855: '▁하네요', 4856: '치곤', 4857: '▁들었', 4858: '▁가면', 4859: '▁a', 4860: '▁장면에서', 4861: '봐요', 4862: '버릴', 4863: '▁괜찮다', 4864: '지말고', 4865: '▁착', 4866: '세상', 4867: 'G', 4868: 'I', 4869: '없는영화', 4870: '▁삶에', 4871: '▁색', 4872: '씨의', 4873: '배우가', 4874: '뉴', 4875: '랫', 4876: '탓', 4877: '▁초등학생', 4878: '▁크리스마스', 4879: '▁더불어', 4880: '냄새', 4881: '▁필름', 4882: '▁크리스', 4883: '▁복잡', 4884: '▁방법', 4885: '이었음', 4886: '▁변태', 4887: '▁한번쯤', 4888: '▁아이가', 4889: '▁주기', 4890: '▁사랑이야기', 4891: '▁하나하나', 4892: '▁모르겠지만', 4893: '▁중요', 4894: '우리', 4895: '▁인상적이', 4896: '었네요', 4897: '▁보자', 4898: '▁왜이래', 4899: '▁드립니다', 4900: '하기도', 4901: '▁인간들', 4902: '년만에', 4903: '▁작품을', 4904: '고싶은', 4905: '쥐', 4906: '듣', 4907: '▁안맞', 4908: '▁유명', 4909: '텐', 4910: '▁것들', 4911: '례', 4912: '룩', 4913: '섯', 4914: '▁싸이코', 4915: '▁좋았으나', 4916: '▁추억이', 4917: 'ar', 4918: '억지', 4919: '▁최소', 4920: '▁없었던', 4921: '▁갔', 4922: '머니', 4923: '쟁이', 4924: '감독님', 4925: '까요', 4926: '▁평점보고', 4927: '▁수도', 4928: '▁가져', 4929: '▁만든영화', 4930: '▁이유를', 4931: '하기엔', 4932: '▁같아서', 4933: '▁지루하기', 4934: '▁할까', 4935: '▁잊을수', 4936: '막히', 4937: '시즌', 4938: '▁아역', 4939: '개념', 4940: '옷', 4941: '▁로봇', 4942: '▁좋게', 4943: '▁양심', 4944: '▁이해하기', 4945: '▁끝났', 4946: '▁누구나', 4947: '~!!!', 4948: '▁졸리', 4949: '▁허세', 4950: '▁친구들', 4951: '▁기대했는데', 4952: '이러', 4953: '하겠', 4954: '으로써', 4955: '▁대사가', 4956: '▁간다', 4957: '좋아하는', 4958: '앞', 4959: '▁오랜만', 4960: '▁ᄏᄏᄏᄏᄏᄏ', 4961: '▁싶지', 4962: '▁쩝', 4963: '공포영화', 4964: '▁좋아해서', 4965: '기에는', 4966: '▁9985', 4967: '못보겠', 4968: '뭔가', 4969: '똥', 4970: '^^*', 4971: '▁훈훈', 4972: '▁전설의', 4973: '겠네요', 4974: '▁틀어', 4975: '닮', 4976: 'ᄎ', 4977: '둔', 4978: '▁응원', 4979: '▁바뀌', 4980: '▁뛰어넘', 4981: '점이다', 4982: '▁즐기', 4983: '▁좋겠어요', 4984: '▁의미를', 4985: '▁한명', 4986: '▁점수가', 4987: '▁돋', 4988: '▁설마', 4989: '▁착한', 4990: '▁탈', 4991: '좋음', 4992: '▁1,2', 4993: '▁자살', 4994: '▁할수', 4995: '▁보기에', 4996: '점줌', 4997: '▁명작입니다', 4998: '자를', 4999: '주면', 5000: '▁그렇다고', 5001: '▁비디오로', 5002: '▁아직까지', 5003: '▁폴', 5004: '공감', 5005: '▁감동의', 5006: '▁본영화', 5007: '끼리', 5008: '특', 5009: '샤', 5010: '▁눈에', 5011: '밤', 5012: '멍', 5013: '빌', 5014: '▁재미와', 5015: '▁행복한', 5016: '본영화', 5017: '깜', 5018: '▁어처구니', 5019: '칸', 5020: '▁누군가', 5021: '▁감흥', 5022: '▁개뿔', 5023: '▁느껴진다', 5024: '▁21', 5025: '보고싶다', 5026: '▁멍', 5027: '것보다', 5028: '▁시리즈중', 5029: '▁기술', 5030: '▁야동', 5031: '▁작품이다', 5032: '▁살려', 5033: '나가는', 5034: '▁낚시', 5035: '▁이럴', 5036: '▁넘치는', 5037: '한다고', 5038: '▁말하는', 5039: '▁견', 5040: '없어서', 5041: '▁연기력도', 5042: '스키', 5043: 'as', 5044: '▁홍콩영화', 5045: '▁보려고', 5046: '▁본거', 5047: '▁가슴에', 5048: '▁장면들', 5049: '▁이때', 5050: '▁긴장감이', 5051: '▁망치', 5052: '<', 5053: '벅', 5054: 'ᅥ', 5055: '▁시간가는줄', 5056: '▁패러디', 5057: '▁보러', 5058: '▁낮다', 5059: '겁니다', 5060: '▁갈등', 5061: '▁세월', 5062: '▁자식', 5063: '▁O', 5064: '▁개막장', 5065: '▁때문', 5066: '▁웃기다', 5067: '간의', 5068: '▁무리', 5069: '▁하면서', 5070: '▁재미있어', 5071: '▁사랑은', 5072: '의미', 5073: '새끼들', 5074: '▁평론가들', 5075: '▁원작이', 5076: '는거야', 5077: '쳐서', 5078: '허접', 5079: '차라리', 5080: '셀', 5081: 'K', 5082: '깍', 5083: '▁에피소드', 5084: '럭', 5085: '쭉', 5086: 'z', 5087: '▁왠만하면', 5088: '▁기다려', 5089: '▁떨어진다', 5090: '▁겨우', 5091: '▁풍경', 5092: '그래서', 5093: '▁있구나', 5094: '이걸', 5095: '▁엄', 5096: '▁모르게', 5097: '▁관객들', 5098: '▁한심한', 5099: '▁덕분에', 5100: '잡고', 5101: '▁깔끔', 5102: '내내', 5103: '냈다', 5104: '▁작은', 5105: '럴', 5106: '▁승', 5107: '▁2014', 5108: '쓰레기영화', 5109: '▁모르겠고', 5110: '▁찬', 5111: '▁말하고', 5112: '있냐', 5113: '닐', 5114: '▁전쟁영화', 5115: '엠', 5116: '▁초등학교', 5117: '삐', 5118: '델', 5119: '폼', 5120: '▁깜짝', 5121: '무서움', 5122: '▁교육', 5123: '▁애기', 5124: '얼굴', 5125: '▁어린시절', 5126: '▁빈약', 5127: '꼴', 5128: '것인가', 5129: '요즘', 5130: '할만한', 5131: '!!!!!!', 5132: '▁들었다', 5133: '영화인데', 5134: '저리', 5135: '▁이것이', 5136: '씬이', 5137: '하는영화', 5138: '▁생각함', 5139: '▁실제로', 5140: '▁사랑의', 5141: '속의', 5142: '▁재밌다고', 5143: '▁도전', 5144: '▁뿐이다', 5145: '▁형님', 5146: '했을까', 5147: '스크', 5148: '렬', 5149: '▁못하다', 5150: '부작', 5151: '▁뛰어', 5152: '자나', 5153: '▁대화', 5154: '▁빠진', 5155: '겠음', 5156: '겠어요', 5157: '같아', 5158: '▁어릴', 5159: '▁블랙', 5160: '구리', 5161: '핀', 5162: '▁외계인', 5163: '▁스트레스', 5164: '▁피해자', 5165: '▁재미없게', 5166: '▁낚였다', 5167: '▁다룬', 5168: '▁최초', 5169: '씁쓸', 5170: '▁부모', 5171: '▁부르', 5172: '▁헤어', 5173: '▁여태', 5174: '▁전개도', 5175: '▁좋았지만', 5176: '▁힘들었', 5177: '시대에', 5178: '▁가치가', 5179: '▁잼잇', 5180: '년도에', 5181: '재미없음', 5182: '보구', 5183: '▁개봉한', 5184: '▁뇌', 5185: 'll', 5186: '▁야구', 5187: '능력', 5188: '싶', 5189: '오래', 5190: '살아', 5191: '더라도', 5192: '▁어른들', 5193: '나올때', 5194: '필요', 5195: '▁최고임', 5196: '인건', 5197: '▁단지', 5198: '기로', 5199: '▁봤네', 5200: '콘', 5201: '▁ᄉ', 5202: '▁답답한', 5203: '꾼', 5204: '윈', 5205: '쿨', 5206: '긋', 5207: '렷', 5208: '▁고양이', 5209: '▁영원히', 5210: '▁용기', 5211: '▁반복', 5212: '▁참신한', 5213: '▁못함', 5214: '였고', 5215: '▁일이', 5216: '▁완전히', 5217: '랜드', 5218: '같고', 5219: '▁잘봤어요', 5220: '▁악마', 5221: '▁재미있습니다', 5222: '배경', 5223: '▁명화', 5224: '▁잼나게', 5225: '0%', 5226: '▁연기자들', 5227: '▁남편', 5228: '▁싶은데', 5229: '▁쿠', 5230: '▁이미지', 5231: '빨리', 5232: '뻔한', 5233: '▁감정을', 5234: '지루함', 5235: '▁밤', 5236: '▁D', 5237: '켜', 5238: 'ᄏᄏᄏᄏᄏᄏᄏᄏᄏ', 5239: '대단', 5240: '▁개성', 5241: '▁탑', 5242: '륜', 5243: '춰', 5244: '▁보여준다', 5245: 'H', 5246: '▁색다른', 5247: '히어로', 5248: '▁몇몇', 5249: '▁개연성이', 5250: '그만', 5251: '▁여름', 5252: '돋', 5253: '▁재미없었다', 5254: '▁감명', 5255: '겠습니다', 5256: '기법', 5257: '!!!!!!!!!!!!!!!!', 5258: '▁해석', 5259: '▁훌륭하다', 5260: '▁아픈', 5261: 'le', 5262: '▁맹', 5263: '문화', 5264: '오글', 5265: '기까지', 5266: '▁미쳤', 5267: '▁생각하는', 5268: '30', 5269: '▁그렇지', 5270: '▁한마디', 5271: '▁보긴', 5272: '▁지나도', 5273: '▁아프', 5274: '▁쌍', 5275: '▁확실', 5276: '뭐야', 5277: '▁죽는줄', 5278: '껴', 5279: '섹', 5280: '냉', 5281: '빅', 5282: '▁무엇인지', 5283: '▁소중한', 5284: '▁아까웠다', 5285: '▁특별한', 5286: '▁그저그런', 5287: '▁짜증난다', 5288: '▁전율', 5289: '▁그녀의', 5290: '▁보았습니다', 5291: '감독의', 5292: '낚', 5293: '큰', 5294: '▁기대이상', 5295: '마지막에', 5296: '더빙', 5297: '▁산만하', 5298: '▁감히', 5299: '▁색감', 5300: '▁암튼', 5301: '오늘', 5302: '▁보통', 5303: '▁보지말', 5304: '거면', 5305: '▁웃고', 5306: 'th', 5307: '▁먹고', 5308: '점대는', 5309: '▁조화', 5310: '▁학교', 5311: '▁돼', 5312: '▁체', 5313: '때매', 5314: '▁있어야', 5315: '▁좋아하는데', 5316: '▁그거', 5317: '낯', 5318: '▁봤을때', 5319: '▁잔뜩', 5320: '▁스스로', 5321: '▁극장가서', 5322: '매니아', 5323: '▁에이', 5324: '▁수준의', 5325: '▁생각하고', 5326: '▁아니야', 5327: '읽', 5328: '▁만들다니', 5329: '▁노래도', 5330: '▁으리', 5331: '덜', 5332: '▁그당시', 5333: '▁기회', 5334: '▁엉성하고', 5335: '▁되고', 5336: '▁돌리', 5337: '것같아요', 5338: '▁동안', 5339: '▁커플', 5340: '▁에로영화', 5341: '▁최고였다', 5342: '▁소름이', 5343: '같네', 5344: '▁됨', 5345: '좋겠', 5346: '우스', 5347: '명의', 5348: '▁정도의', 5349: '▁만들면', 5350: '▁죽이는', 5351: '▁다르다', 5352: '거리는', 5353: '▁없어요', 5354: '스럽게', 5355: '▁장르가', 5356: '▁캬', 5357: '아무', 5358: '절대', 5359: '닿', 5360: '셉', 5361: '뽀', 5362: '쿵', 5363: '▁잠깐', 5364: '▁핵노잼', 5365: '납니다', 5366: '▁니콜', 5367: '▁이래서', 5368: '하고싶은', 5369: '▁이런영화를', 5370: 'bb', 5371: '▁조카', 5372: '요소', 5373: '주고싶다', 5374: '배우들의', 5375: '▁관객을', 5376: '▁남자의', 5377: '▁충격적이', 5378: '부분이', 5379: '되나', 5380: '▁많고', 5381: '▁심하게', 5382: '있어서', 5383: '트리', 5384: '빠지', 5385: '출연', 5386: '▁코미디영화', 5387: '▁주기도', 5388: '▁최근에', 5389: '때부터', 5390: '▁지났', 5391: '긴다', 5392: '개그', 5393: '만듬', 5394: '덕에', 5395: '칭', 5396: '펑', 5397: '▁DVD', 5398: '핑', 5399: '▁아류작', 5400: '▁안타까운', 5401: '▁이제서야', 5402: '▁소소한', 5403: '옴', 5404: '거같은데', 5405: '▁효과', 5406: '같지', 5407: '▁일어나', 5408: '▁보지마라', 5409: '▁짝이', 5410: '▁깎', 5411: '▁남네요', 5412: '됐다', 5413: '▁선생님', 5414: '▁빼면', 5415: '▁10273', 5416: '▁선동', 5417: '▁인디', 5418: '앤', 5419: '▁비하면', 5420: '▁보여줬', 5421: '▁생각나서', 5422: '▁모를', 5423: '▁어쩔수', 5424: '▁본다면', 5425: '보여', 5426: '▁우리의', 5427: '▁읽어', 5428: '▁안습', 5429: '▁오락', 5430: '▁뿌', 5431: '리즈', 5432: '레스', 5433: '▁최고의영화', 5434: '▁9986', 5435: '스포', 5436: '▁가족영화', 5437: '▁공포물', 5438: '했지', 5439: '▁따로', 5440: '▁본방사수', 5441: '▁식상한', 5442: '▁검', 5443: '▁낮지', 5444: '▁맞아', 5445: '20', 5446: '아까운', 5447: '뜬', 5448: '▁후속작', 5449: '▁동성애', 5450: '▁아이디어', 5451: '▁살고', 5452: '▁직접', 5453: '▁노래가', 5454: '▁모험', 5455: '▁감각', 5456: '▁비밀', 5457: '▁별로임', 5458: '▁앞으로도', 5459: '▁해결', 5460: '어디', 5461: '▁무술', 5462: '▁만남', 5463: '었지', 5464: '▁일반', 5465: '▁막판에', 5466: '▁않을까', 5467: '▁그럴', 5468: '하진', 5469: '빛', 5470: '쓸', 5471: '꽃', 5472: '▁내용인지', 5473: '재밌어', 5474: '올리', 5475: '▁침', 5476: '▁하는거', 5477: '모두', 5478: '▁보내', 5479: '년작', 5480: '물을', 5481: '▁모두가', 5482: '풋풋', 5483: '콤', 5484: '▁로버트', 5485: 'U', 5486: '▁봤을까', 5487: '▁스티븐', 5488: '▁심형래', 5489: '브라', 5490: '▁잔혹', 5491: '▁마지막장면', 5492: '▁낮아', 5493: '▁속에서', 5494: 'es', 5495: '왓', 5496: '▁여러분', 5497: '▁끈', 5498: '주고싶', 5499: '▁방영', 5500: '▁매력적', 5501: '▁들어가', 5502: '▁ᄀ', 5503: '▁탄탄', 5504: '▁예쁘고', 5505: '것같은', 5506: '▁정말이지', 5507: '흠', 5508: '아저씨', 5509: '▁출연한', 5510: '▁내가본', 5511: '하지마', 5512: '번을', 5513: '▁보며', 5514: '▁남아있', 5515: '▁영화보면서', 5516: '버전', 5517: '▁신비', 5518: '안됨', 5519: '사람들이', 5520: '▁내면', 5521: '동생', 5522: '▁마이', 5523: '▁넌', 5524: '▁개연성도', 5525: '▁죽은', 5526: 'ad', 5527: '▁배우를', 5528: '아까웠', 5529: '엑', 5530: '▁교과서', 5531: '▁제임스', 5532: '분은', 5533: '▁sf', 5534: '▁억지스러운', 5535: '▁조작', 5536: '▁오래된', 5537: '..............', 5538: '▁최고로', 5539: '얘', 5540: '▁조절', 5541: '▁10272', 5542: '▁집중해서', 5543: '▁썼', 5544: '이름', 5545: '생김', 5546: '▁괜찮음', 5547: '점이상', 5548: '찡', 5549: '붙', 5550: '▁60', 5551: '낭비', 5552: '딴', 5553: '▁안볼', 5554: '관람', 5555: '▁영상이', 5556: '▁캐릭터가', 5557: '▁영화보는', 5558: '야겠다', 5559: '▁않네요', 5560: '▁떨', 5561: '▁불쌍하다', 5562: '▁ᄌ', 5563: '했더니', 5564: '▁9305', 5565: '▁재밋어요', 5566: '▁기대했', 5567: '▁연출과', 5568: '감정', 5569: '문제', 5570: '▁단편', 5571: '▁볼수있는', 5572: '현실을', 5573: '▁ᄏᄏᄏᄏᄏᄏᄏ', 5574: '▁얼마', 5575: '었을', 5576: '보셈', 5577: '▁오빠', 5578: '▁여운을', 5579: '괜', 5580: '롯', 5581: '쪼', 5582: '▁주윤발', 5583: '▁특수효과', 5584: '층', 5585: '▁제이슨', 5586: '▁우리는', 5587: '▁위로', 5588: '▁여러가지', 5589: '▁잤다', 5590: '▁씹', 5591: '▁바꾸', 5592: '▁먼가', 5593: '▁주변', 5594: '만드네', 5595: '▁열연', 5596: '▁끝날', 5597: '▁재미도없고', 5598: '▁모르겠음', 5599: '▁모든것', 5600: '▁G', 5601: '여주', 5602: '▁부실', 5603: '▁여전', 5604: '▁비판', 5605: '-_-;', 5606: '상태', 5607: '▁가슴을', 5608: '비디오', 5609: '긴장감', 5610: '좋았다', 5611: '▁실력', 5612: '▁편견', 5613: '▁분위기가', 5614: '어이없', 5615: '싶다', 5616: '▁싶었', 5617: '바닥', 5618: '모든', 5619: '장애', 5620: '긴하지만', 5621: '▁대부분', 5622: '럼', 5623: '▁재난영화', 5624: '▁단어', 5625: '사람들은', 5626: '▁옥', 5627: '▁집에', 5628: '스토리도', 5629: '찮', 5630: '▁줄수', 5631: '딜', 5632: '▁됩니다', 5633: '▁살다살다', 5634: '랭', 5635: '싼', 5636: '▁거짓말', 5637: '▁다운받아', 5638: '▁경험', 5639: '▁비현실적', 5640: '애들이', 5641: 'ᄏᄏᄏᄏᄏᄏᄏᄏᄏᄏ', 5642: '▁반전은', 5643: '▁또다른', 5644: '주연', 5645: '▁만들었는지', 5646: '▁깨닫게', 5647: '▁과장', 5648: '높은', 5649: '▁따분', 5650: '▁한편의', 5651: '▁쥐', 5652: '라곤', 5653: '보니까', 5654: '▁궁금하다', 5655: '▁많은걸', 5656: '뿌', 5657: '하군', 5658: '▁뭐하나', 5659: '▁싶을', 5660: '번은', 5661: '▁구성이', 5662: '졸작', 5663: '하길', 5664: '같은영화', 5665: '후회', 5666: '▁망친', 5667: '조금', 5668: '받아서', 5669: '▁소장', 5670: '본사람', 5671: '▁만든거', 5672: '▁있다니', 5673: '♥♥♥♥', 5674: '닉', 5675: '앵', 5676: '▁인내심', 5677: '▁해리포터', 5678: '▁내생에', 5679: '▁어쩜', 5680: '▁남자들', 5681: '▁기가', 5682: '떨어지', 5683: '▁매력을', 5684: '▁적당히', 5685: '▁세상을', 5686: '▁결정', 5687: '▁엔딩이', 5688: '▁게다가', 5689: '▁이딴걸', 5690: '▁케이블에서', 5691: '나오고', 5692: '▁살면서', 5693: '였으면', 5694: '▁안맞는', 5695: '▁좀비영화', 5696: '▁뛰어나', 5697: '▁생각하면', 5698: '▁만들수', 5699: '▁손발', 5700: '▁안본', 5701: '▁기준', 5702: '못해', 5703: '▁풍자', 5704: '특별', 5705: '헐', 5706: '▁포스', 5707: '▁느꼈다', 5708: '초반', 5709: '▁이상하게', 5710: '것만으로도', 5711: '▁느껴졌', 5712: '배우들이', 5713: '쟁', 5714: '▁아까운영화', 5715: '▁애들은', 5716: '▁포스터가', 5717: '▁남은', 5718: '▁자주', 5719: '다큐', 5720: '렵', 5721: '▁ᄍᄍᄍ', 5722: '▁있던', 5723: '^-^', 5724: '▁블록버스터', 5725: '펙', 5726: '▁디테일', 5727: '▁길게', 5728: '▁말도안되는', 5729: '▁할머니', 5730: '▁사진', 5731: '▁로코', 5732: '▁남자주인공', 5733: '▁알겠는데', 5734: '▁톰', 5735: '치고는', 5736: '엇는데', 5737: '▁욕망', 5738: '▁나에겐', 5739: '게임', 5740: '▁대중', 5741: '▁놀랍다', 5742: '▁지겹다', 5743: '▁형사', 5744: '▁있었지만', 5745: '조아', 5746: '▁이런건', 5747: '보이는', 5748: '▁잘만들', 5749: '화이팅', 5750: '▁초딩때', 5751: '추억', 5752: '▁본인', 5753: '▁스릴있', 5754: '▁뭘까', 5755: '▁진수', 5756: '▁두고', 5757: '햇다', 5758: '좋은영화', 5759: '고싶어', 5760: '▁높게', 5761: '▁기자', 5762: '▁분들은', 5763: '없었', 5764: '▁영혼', 5765: '듭', 5766: '★', 5767: '▁짜임새', 5768: '싹', 5769: '▁스크린', 5770: '▁울컥', 5771: '▁낙', 5772: '▁담배', 5773: '▁나름대로', 5774: '▁이런영화는', 5775: '▁좋겠네요', 5776: '▁당연', 5777: '부러', 5778: '▁그자체', 5779: '▁아쉽지만', 5780: '▁대해서', 5781: '▁요리', 5782: '▁재밋음', 5783: '임에도', 5784: '▁어설프고', 5785: '기전에', 5786: '▁그립다', 5787: 'ᅮᅲ', 5788: '▁없습니다', 5789: '▁재미없어서', 5790: '삶', 5791: '▁조선', 5792: '으니까', 5793: '이즈', 5794: '▁살린', 5795: '촌', 5796: '뇌', 5797: '걍', 5798: '▁보여주고', 5799: '▁헬', 5800: '포스터', 5801: '웃김', 5802: '관객', 5803: '했을때', 5804: '상황', 5805: '▁거장', 5806: '▁똑같은', 5807: '른다', 5808: '같아서', 5809: '거같아요', 5810: '▁재미로', 5811: '▁잠이', 5812: '때문', 5813: '▁예쁘다', 5814: '▁W', 5815: '잖', 5816: '장르', 5817: '챙겨', 5818: '▁액션씬', 5819: '여행', 5820: '액', 5821: '▁약간의', 5822: '▁you', 5823: '▁가벼운', 5824: '곧', 5825: '▁러시아', 5826: '▁제니퍼', 5827: '컴', 5828: '▁탄생', 5829: '▁집착', 5830: '이었습니다', 5831: '▁웃으면서', 5832: '▁태어나서', 5833: '▁데리고', 5834: '▁언제봐도', 5835: '▁원작에', 5836: '▁둘이', 5837: '▁시간아깝다', 5838: '▁봐도봐도', 5839: '▁개노잼', 5840: '굿굿굿', 5841: '말이필요없', 5842: '보시길', 5843: '▁기억나는', 5844: '▁다루', 5845: '아빠', 5846: '▁봐야하는', 5847: '▁불러', 5848: '있습니다', 5849: '▁선물', 5850: '받아', 5851: '할수없', 5852: '▁의미가', 5853: '큐', 5854: '▁찾아보', 5855: '논', 5856: '지말자', 5857: '▁뭐니', 5858: '▁난해하', 5859: '웃겨', 5860: '▁편안', 5861: '▁답이', 5862: '▁9855', 5863: '▁잘만들었', 5864: '▁오락영화', 5865: '▁아름답', 5866: '▁봤어', 5867: '▁갖고', 5868: '▁Good', 5869: '▁아닙니다', 5870: '▁dvd', 5871: '곰', 5872: '뎅', 5873: '▁사운드', 5874: '▁이뻐서', 5875: '▁이따구', 5876: '▁시리즈는', 5877: '▁유일한', 5878: '▁인상적', 5879: '▁당황', 5880: '▁폐지', 5881: '져요', 5882: '▁흔들', 5883: '싶어서', 5884: '▁반담', 5885: '▁연극', 5886: '▁최고봉', 5887: '▁하지원', 5888: '▁동심', 5889: '줘도', 5890: '▁따뜻하고', 5891: '놈이', 5892: '▁다시보니', 5893: '▁진부하', 5894: '되었다', 5895: '기도하고', 5896: '다시보고싶', 5897: '재미있게', 5898: '▁있었는데', 5899: '었는지', 5900: '어린', 5901: '▁재밌어서', 5902: '▁하아', 5903: '보소', 5904: '▁샘', 5905: '거같음', 5906: '▁아이들과', 5907: '▁새로', 5908: '모르겟', 5909: '▁결말을', 5910: 'al', 5911: '솔직히', 5912: '도대체', 5913: '커플', 5914: '할뿐', 5915: '▁어디에', 5916: '▁않나', 5917: '▁몇년', 5918: '류영화', 5919: '▁영상과', 5920: '▁추리', 5921: '▁어렵다', 5922: '딘', 5923: '팍', 5924: 'ᄁ', 5925: '▁숨겨진', 5926: '닷', 5927: '램', 5928: '▁강렬한', 5929: '▁장국영', 5930: '▁끔찍', 5931: '▁유일하게', 5932: '▁다양한', 5933: '▁싸우는', 5934: '▁흑인', 5935: '여운이', 5936: '▁재개봉', 5937: '▁결코', 5938: '▁여자친구', 5939: '▁소설을', 5940: '▁놀라운', 5941: '▁울리는', 5942: '▁쓰는', 5943: '▁살아가는', 5944: '▁막장드라마', 5945: '▁나랑', 5946: '▁운명', 5947: '▁새벽에', 5948: '보는게', 5949: '▁즐거웠', 5950: '▁제목만', 5951: '하겠다', 5952: '검', 5953: '▁녹', 5954: '▁어설프', 5955: '▁답답하고', 5956: '▁잼있음', 5957: '▁빠르', 5958: '▁매미', 5959: '▁열받', 5960: '려다가', 5961: '말아먹', 5962: '구석', 5963: '▁재밌지', 5964: '어떻게', 5965: '▁시청률이', 5966: '▁짜증만', 5967: '▁잡아', 5968: '씀', 5969: '▁공감할', 5970: '댄', 5971: '본영화중', 5972: '▁관점', 5973: '묵', 5974: '갱', 5975: '▁오랫만에', 5976: '샌', 5977: '▁배트맨', 5978: '▁홍상수', 5979: '▁감정이입', 5980: '▁돋보이는', 5981: '갠적으로', 5982: '▁믿고보는', 5983: '었을까', 5984: '▁근래', 5985: '▁하늘', 5986: '▁한숨', 5987: '때까지', 5988: '▁담겨', 5989: '▁하나같이', 5990: '▁교훈을', 5991: '▁배역', 5992: '▁변화', 5993: '▁아름답게', 5994: '▁모든걸', 5995: '▁않아서', 5996: '옆', 5997: '▁10247', 5998: '▁싶어요', 5999: '▁클레멘타인', 6000: '▁시간만', 6001: '▁좋겠', 6002: '후반', 6003: '쓰는', 6004: '지마세요', 6005: '▁한국에서', 6006: '▁수작이다', 6007: '▁죽인', 6008: '베리', 6009: '▁쩔어', 6010: '▁하나로', 6011: '▁짧은', 6012: '▁자세', 6013: '▁멋졌', 6014: '벗', 6015: '▁안봐도', 6016: '▁아깝고', 6017: '될듯', 6018: '빠져', 6019: '▁볼때', 6020: '▁자체는', 6021: '▁삼류영화', 6022: '들끼리', 6023: '공주', 6024: '일듯', 6025: '낭', 6026: '혹은', 6027: '▁임팩트', 6028: '▁조니뎁', 6029: 'J', 6030: '▁뱀파이어', 6031: '▁왤케', 6032: '▁할리우드', 6033: '▁내생애', 6034: '▁빵빵', 6035: '할거', 6036: '▁대단하', 6037: '▁배경음악', 6038: '▁첫사랑', 6039: '▁하하', 6040: '▁내용과', 6041: '해주고', 6042: '▁맞지', 6043: '▁여자주인공', 6044: '▁10024', 6045: '▁10274', 6046: '▁꼬마', 6047: '▁성격', 6048: '겨운', 6049: '▁부모님', 6050: '건가요', 6051: '▁사랑해요', 6052: '▁빵터', 6053: '▁없었음', 6054: '▁호구', 6055: '▁불편한', 6056: '▁생긴', 6057: '▁손에', 6058: '▁재미있을', 6059: '▁떨어지고', 6060: '▁없냐', 6061: '웨이', 6062: '▁많은데', 6063: '아이들', 6064: '▁사상', 6065: '▁위해서', 6066: '썼', 6067: '스토', 6068: '▁점수는', 6069: '보게되', 6070: '▁반대', 6071: '▁좋네', 6072: '▁유치해', 6073: '없네요', 6074: '보인다', 6075: '▁허술한', 6076: '글자', 6077: '쩜', 6078: '닫', 6079: '랙', 6080: '뭣', 6081: '벼', 6082: '맴', 6083: '부끄럽', 6084: '▁뭥미', 6085: '▁뭐하자는', 6086: '분만에', 6087: '멜로', 6088: '할수가', 6089: '▁첨엔', 6090: '▁디워', 6091: '▁몰랐다', 6092: '거든', 6093: 'lo', 6094: '▁말하고자', 6095: '▁무료', 6096: '▁10004', 6097: '▁명장면', 6098: '▁주연배우', 6099: '않다', 6100: '▁인해', 6101: '▁책을', 6102: '▁아래', 6103: '학년', 6104: '기억이', 6105: '어색', 6106: '▁강한', 6107: '열자', 6108: ',,,,,,', 6109: '▁이해할수', 6110: '▁바다', 6111: '▁아쉬움이', 6112: '▁잔잔하면서', 6113: '▁발상', 6114: '▁마음으로', 6115: '해야할', 6116: '▁엉망이', 6117: '▁밀려', 6118: '▁귀엽다', 6119: '▁보기에는', 6120: '▁영화라니', 6121: '▁이상해', 6122: '점부터', 6123: '~~^^', 6124: '▁꽤나', 6125: '▁저급', 6126: '▁주제를', 6127: '▁아내', 6128: '재미있어요', 6129: '쩐다', 6130: '뿐이다', 6131: '▁사랑해', 6132: '▁보는거', 6133: '▁생각으로', 6134: '▁부분도', 6135: '안타까', 6136: '삭', 6137: '닼', 6138: '웟', 6139: '찐', 6140: '탱', 6141: '퓨', 6142: '덩어리', 6143: '▁하정우', 6144: '▁어울리는', 6145: '▁오글거려', 6146: '▁처절', 6147: '▁장난하냐', 6148: '▁사라지', 6149: '▁어째', 6150: '▁그야말로', 6151: '▁두번째', 6152: '리스트', 6153: '▁보다니', 6154: '▁10003', 6155: '▁ᄏᄏᄏᄏᄏᄏᄏᄏ', 6156: '▁대놓고', 6157: '▁10246', 6158: '▁난잡', 6159: '▁없나요', 6160: '▁10005', 6161: '▁다시보고', 6162: '놨네', 6163: '듯하다', 6164: '▁힘내', 6165: '▁매일', 6166: '할것', 6167: '라는걸', 6168: '▁훈훈하', 6169: '▁볼만했다', 6170: '▁그만큼', 6171: '존나', 6172: '▁낮게', 6173: '▁자신을', 6174: '였나', 6175: '월드', 6176: '▁음식', 6177: '이랄까', 6178: 'ᄍ', 6179: '느껴', 6180: '▁만들기', 6181: '▁짜증이', 6182: '▁순수함', 6183: '거죠', 6184: '▁다운받', 6185: '언제', 6186: '▁대통령', 6187: '▁명불허전', 6188: '▁우뢰매', 6189: '▁짐캐리', 6190: '▁컴퓨터', 6191: '켄', 6192: 'ᄡ', 6193: '▁고등학교', 6194: '▁명복을', 6195: '▁반드시', 6196: '▁익숙', 6197: '▁of', 6198: '▁영환데', 6199: '▁달콤', 6200: '▁바랍니다', 6201: '▁아닐', 6202: '▁모른다', 6203: '▁가정', 6204: '▁목적', 6205: '▁부럽', 6206: '줄알았는데', 6207: '▁10271', 6208: '▁짜증남', 6209: '▁애매', 6210: '▁듣고', 6211: '▁아깝네', 6212: '발연기', 6213: '▁우연', 6214: '볼수', 6215: '▁한국판', 6216: '▁만들어주', 6217: '아닌가', 6218: '▁짜증나서', 6219: '▁여주가', 6220: '▁재미있는데', 6221: '▁어른이', 6222: '이딴', 6223: '역사', 6224: '▁불쌍한', 6225: '▁멋지고', 6226: '▁포스터만', 6227: '둥이', 6228: '▁나네요', 6229: '▁실화를', 6230: '▁아예', 6231: '바라', 6232: '느끼', 6233: '꼈', 6234: '깃', 6235: '땀', 6236: '뗄', 6237: '▁쓸데없이', 6238: '앨', 6239: '짤', 6240: '둡', 6241: '▁이소룡', 6242: '▁즐겨', 6243: '소름', 6244: '▁착각', 6245: '▁흐르는', 6246: '극장에서', 6247: '▁쉽지', 6248: '▁아무런', 6249: '▁돈내고', 6250: '▁끼워', 6251: '▁재미없을', 6252: '▁거품', 6253: '▁한개도', 6254: '▁혹시나', 6255: '보긴', 6256: '앞에서', 6257: '▁어거지', 6258: '겠죠', 6259: '있지', 6260: 'ch', 6261: '▁본건데', 6262: '▁때려', 6263: '▁감동받', 6264: '▁안간다', 6265: '▁세상이', 6266: '▁수입', 6267: '▁2000', 6268: '먹은', 6269: '▁알겠다', 6270: '마냥', 6271: '▁철학적', 6272: '하러', 6273: '▁믿기지', 6274: '에대해', 6275: '▁소년', 6276: '불쌍', 6277: '숨', 6278: '깝', 6279: '아까워', 6280: '므', 6281: '▁세번', 6282: '낮은', 6283: '춤', 6284: '코믹', 6285: '귀엽', 6286: '분위기', 6287: '목소리', 6288: '올라', 6289: '▁싶었다', 6290: '욤', 6291: '▁설득력', 6292: '▁짜집기', 6293: '▁플롯', 6294: '▁아놀드', 6295: '▁박진감', 6296: '▁귀여움', 6297: '▁폭풍', 6298: '▁이것보단', 6299: '▁당연히', 6300: '아아아', 6301: '▁보게된', 6302: '짱짱', 6303: '▁내용전개', 6304: '▁괜찮았는데', 6305: '보여주', 6306: '분동안', 6307: '질질끌', 6308: '▁하품', 6309: '▁독일', 6310: '▁현실과', 6311: '▁잔잔하게', 6312: '▁생에', 6313: '둥', 6314: '갔는데', 6315: '있어요', 6316: '▁그지같', 6317: '사건', 6318: '싶은데', 6319: '너무너무', 6320: '▁배신', 6321: '부분은', 6322: '▁거기에', 6323: '▁2012', 6324: '돌이', 6325: '▁포스터에', 6326: '톤', 6327: '있었다', 6328: '▁안될', 6329: '▁자신이', 6330: '▁정신없', 6331: '당시', 6332: '▁당신은', 6333: '▁적절', 6334: '▁그럴듯', 6335: '▁괜찮았다', 6336: '재미없어', 6337: '▁예수', 6338: '했다면', 6339: '찾아', 6340: '보고있어요', 6341: '왠', 6342: '납', 6343: '첩', 6344: '얄', 6345: '젖', 6346: '▁빕니다', 6347: '▁움직이', 6348: '쫓', 6349: '▁깡패', 6350: '▁희대의', 6351: '▁양아치', 6352: '▁제시카', 6353: '▁케빈', 6354: '▁늑대', 6355: '▁연인', 6356: '▁명대사', 6357: '▁평균', 6358: '▁은근히', 6359: '▁중독', 6360: '혼자', 6361: '▁도망', 6362: '▁10182', 6363: '▁이상하고', 6364: '▁10250', 6365: '▁높아서', 6366: '이런류의', 6367: '햇는데', 6368: '▁10252', 6369: '▁생각했는데', 6370: '▁원조', 6371: '뭐냐', 6372: '▁키스', 6373: '▁확인', 6374: '▁기대없이', 6375: '게만드는', 6376: '여운', 6377: '▁재난', 6378: '봣다', 6379: '만족', 6380: '하는건지', 6381: '▁대본', 6382: '외로', 6383: '▁충분', 6384: '미친', 6385: '보기싫', 6386: '▁작품입니다', 6387: '▁무섭지', 6388: '싫어', 6389: '하시길', 6390: '▁박수', 6391: '있을까', 6392: '나왓', 6393: '보고싶어요', 6394: '▁무섭고', 6395: '아버지', 6396: '캐스팅', 6397: '측', 6398: 'ᅢ', 6399: '▁아무생각없이', 6400: '▁웰메이드', 6401: '똘', 6402: '뻥', 6403: '읍', 6404: '▁이토록', 6405: '▁스포츠', 6406: '▁정우성', 6407: '보느니', 6408: '▁앞뒤', 6409: '▁못보겠다', 6410: '▁실험', 6411: '▁루즈', 6412: '▁압도', 6413: '노답', 6414: '▁폭발', 6415: '▁여러번', 6416: '답니다', 6417: '▁10127', 6418: '재미있다', 6419: '▁추격', 6420: '▁10079', 6421: '▁볼만합니다', 6422: '▁동양', 6423: '▁인형', 6424: '▁재미있었음', 6425: '▁to', 6426: '▁재밌었던', 6427: '▁정신병자', 6428: '▁보려', 6429: '▁아깝네요', 6430: '▁10007', 6431: '▁별하나', 6432: '▁감동적이네요', 6433: '좋네요', 6434: '▁생기', 6435: '▁남긴', 6436: '▁자아', 6437: '볼수있', 6438: '▁쩌는', 6439: '뻔했다', 6440: '놀이', 6441: '▁마지막까지', 6442: '▁어디가', 6443: '▁봤다면', 6444: '▁즐겁', 6445: '칼', 6446: '▁없으면', 6447: '윌', 6448: '▁송강호', 6449: '▁케릭터', 6450: '뢰', 6451: '및', 6452: '▁박중훈', 6453: '곱', 6454: '튜', 6455: '▁부끄러', 6456: '▁이해불가', 6457: '▁목숨', 6458: '아직도', 6459: '▁블랙코미디', 6460: '▁배꼽', 6461: '엄청', 6462: '▁떨어짐', 6463: '▁상영관', 6464: '▁어느정도', 6465: '오르', 6466: '알아', 6467: '▁안보는게', 6468: '스케', 6469: '지않아', 6470: '▁울면서', 6471: '▁많아서', 6472: '보내', 6473: '▁10077', 6474: '못하겠', 6475: '왔어요', 6476: '▁않았지만', 6477: '스톤', 6478: '▁어울리지', 6479: '▁좋을듯', 6480: '▁어색하고', 6481: '▁아프다', 6482: '께요', 6483: '▁등장인물', 6484: '간만에', 6485: '작이라', 6486: '▁부부', 6487: '▁적당한', 6488: '▁알았네', 6489: '▁정도면', 6490: '없나', 6491: '미국', 6492: '▁몰라', 6493: '▁가능한', 6494: '▁멋있는', 6495: '▁혹시', 6496: '점주기도', 6497: 'ᅩ', 6498: '덩', 6499: '뚝', 6500: '쟈', 6501: '▁나레이션', 6502: '▁소중함을', 6503: '▁유덕화', 6504: '곽', 6505: '▁빨갱이', 6506: '▁우려먹', 6507: '▁도무지', 6508: '▁즐길', 6509: '90', 6510: '▁첩보', 6511: '▁무엇인가', 6512: '▁빠른', 6513: '탑', 6514: '▁만화책', 6515: '▁흘리', 6516: '▁에효', 6517: '▁만들었을까', 6518: '도좋고', 6519: '그랬', 6520: '▁부담', 6521: '▁10270', 6522: '▁예술영화', 6523: '행복', 6524: '▁시작부터', 6525: '▁10124', 6526: '하나하나가', 6527: '▁10108', 6528: '▁사랑합니다', 6529: '▁눈물나', 6530: '▁책으로', 6531: '곳에서', 6532: '귀신', 6533: '▁ᄒᄃᄃ', 6534: '▁실수', 6535: '~~~~~', 6536: '▁명연기', 6537: '있으면', 6538: '▁소화', 6539: '▁10136', 6540: '광구', 6541: '▁허무한', 6542: '▁희망을', 6543: '▁지겹', 6544: '빼', 6545: '▁그립', 6546: '▁갖다', 6547: '나름', 6548: '못하는', 6549: '▁찍는', 6550: '소녀', 6551: '▁10018', 6552: '뷰', 6553: '찔', 6554: '펜', 6555: '랴', 6556: '퀄', 6557: '띠', 6558: '▁공짜로', 6559: '▁드디어', 6560: '▁오글오글', 6561: '▁심지어', 6562: '▁꿈꾸', 6563: '▁맞춰', 6564: '▁가수', 6565: '▁10125', 6566: '▁명배우', 6567: '▁아만다', 6568: '평론가', 6569: '▁무겁', 6570: '▁10178', 6571: '같아요', 6572: '▁생각난다', 6573: '▁알았음', 6574: '신분', 6575: '▁기대이하', 6576: '▁영원한', 6577: '▁절정', 6578: '꺼야', 6579: '▁유치해서', 6580: '▁여자애', 6581: '▁100%', 6582: '▁끝나서', 6583: '갈때', 6584: '아까운영화', 6585: '▁따뜻해', 6586: 'li', 6587: '표정', 6588: '줘야지', 6589: '▁빛을', 6590: '▁황당한', 6591: '▁놀랍', 6592: '▁어디로', 6593: '겐', 6594: '▁김치', 6595: '▁역사를', 6596: '되요', 6597: '늙', 6598: '좋아하', 6599: '~~~~~~', 6600: '않음', 6601: '▁정상', 6602: '젊', 6603: '▁쓸데없는', 6604: '▁듭니다', 6605: '▁사투리', 6606: '▁흥미로웠', 6607: '▁역겨운', 6608: '▁좋았을텐데', 6609: '▁왠만한', 6610: '▁위험', 6611: '▁축구', 6612: '▁관련', 6613: '▁장애인', 6614: '▁감동적이에요', 6615: '▁살렸다', 6616: '▁등등', 6617: '▁판단', 6618: '▁향수', 6619: '것같은데', 6620: '▁만들어낸', 6621: '▁잘못된', 6622: '▁재미있었습니다', 6623: '▁보았던', 6624: 'TV', 6625: '▁기존', 6626: '▁스토리전개', 6627: '▁미안하다', 6628: '점만점에', 6629: '▁친구랑', 6630: '▁욕심', 6631: 'am', 6632: '▁고어', 6633: '편까지', 6634: '유쾌하게', 6635: '▁그렇지만', 6636: '▁서울', 6637: '▁실감', 6638: '▁모르겠네요', 6639: '제대로', 6640: '으려고', 6641: '▁왜곡', 6642: '▁아니었다', 6643: '▁액션신', 6644: '터짐', 6645: '부분에서', 6646: '지루하다', 6647: '▁중심', 6648: '순위', 6649: '▁밤에', 6650: '▁잼있네요', 6651: '▁전편보다', 6652: '▁의사', 6653: '지루하고', 6654: '만큼이나', 6655: '▁찾아볼', 6656: '▁미국식', 6657: '빠진', 6658: '▁의지', 6659: '받았다', 6660: '▁슬픈영화', 6661: '▁10020', 6662: '▁자극적', 6663: '랍', 6664: '젼', 6665: '밧', 6666: '▁네티즌', 6667: '▁류승범', 6668: '▁오프닝', 6669: '눌', 6670: '닭', 6671: '셋', 6672: '▁감명깊게', 6673: '▁브루스', 6674: '▁호기심', 6675: '곳에', 6676: '▁보지마셈', 6677: '▁환경', 6678: '▁향연', 6679: '▁마니', 6680: '▁할아버지', 6681: '▁로빈', 6682: '▁적어도', 6683: '▁마시길', 6684: '▁억지감동', 6685: '▁꼭보세요', 6686: '▁여친', 6687: '▁사랑스럽다', 6688: '▁화나', 6689: '▁만난', 6690: '▁보시면', 6691: '▁살인마', 6692: '▁다행이다', 6693: '▁탄탄하고', 6694: '▁괜찮았음', 6695: '비슷', 6696: '▁기적', 6697: '▁수많은', 6698: '외엔', 6699: '선택', 6700: '선수', 6701: '잼씀', 6702: '▁보고싶어', 6703: '▁소름끼치는', 6704: '▁녹아', 6705: '▁평화', 6706: '잖아요', 6707: '▁사람들에게', 6708: '▁내돈', 6709: '▁그동안', 6710: '▁말밖에', 6711: '▁다르게', 6712: '▁보겠다', 6713: '조연', 6714: '▁멋져', 6715: '▁사랑한다', 6716: '▁정작', 6717: '셔야', 6718: '▁잘만들었다', 6719: '것처럼', 6720: '등록', 6721: '▁깔끔한', 6722: '그러나', 6723: '겠는데', 6724: '▁않으', 6725: '힘들', 6726: '멜', 6727: '▁인상적인', 6728: '▁기대하지', 6729: '▁안본다', 6730: '였네요', 6731: '▁만들어서', 6732: '갠', 6733: '▁마지막엔', 6734: '▁비슷하', 6735: '멈', 6736: '▁스타워즈', 6737: '껀', 6738: '걷', 6739: '스파이더맨', 6740: '▁언젠가', 6741: '▁전반적으로', 6742: '▁화장실', 6743: '▁박보영', 6744: '▁괜찬', 6745: '쯧쯧', 6746: '▁이끌어', 6747: '▁누군지', 6748: '▁삭제', 6749: '▁하이틴', 6750: '▁스타뎀', 6751: '맙시다', 6752: '잊지못할', 6753: '▁스파이', 6754: '▁민폐', 6755: '▁그려낸', 6756: '▁풋풋한', 6757: '▁돈아까워', 6758: '▁일부러', 6759: 'un', 6760: '▁낫겠다', 6761: '▁따름', 6762: '▁부탁', 6763: '▁파괴', 6764: '▁요새', 6765: '▁개콘', 6766: '잊혀지', 6767: '▁재밌게봤어요', 6768: '할줄', 6769: '자마자', 6770: '해줄', 6771: '▁보았는데', 6772: '▁사람이라면', 6773: '▁재능', 6774: '▁재미있었는데', 6775: '▁처음에는', 6776: '▁귀여워요', 6777: '▁이딴영화', 6778: '▁담긴', 6779: '꿈', 6780: '것같네요', 6781: '시나리오', 6782: '핵', 6783: '▁있었으면', 6784: '그럼', 6785: '바람', 6786: '시간동안', 6787: '▁마지막회', 6788: '▁첨이다', 6789: '▁넘넘', 6790: '▁어설프다', 6791: '▁생명', 6792: '▁현실감', 6793: '▁정보', 6794: '장난치', 6795: '싫다', 6796: '▁실망스럽', 6797: '▁않은데', 6798: '▁승리', 6799: '▁달려', 6800: '▁의상', 6801: '▁괜찮아', 6802: '▁가득한', 6803: '▁망할', 6804: '스릴', 6805: '해지고', 6806: '거에요', 6807: 'ro', 6808: '천원', 6809: '보신분들', 6810: '답게', 6811: '픔', 6812: '떤', 6813: '엽', 6814: '하거나', 6815: '헉', 6816: '▁키아누', 6817: '븐', 6818: '▁movie', 6819: '랩', 6820: '썰', 6821: '엣', 6822: '옳', 6823: '홈', 6824: '▁가까운', 6825: '▁신하균', 6826: '▁자동차', 6827: '▁흑백', 6828: '▁혐오', 6829: '▁한효주', 6830: '▁엽기', 6831: '▁죄송', 6832: '▁낭만', 6833: '▁탈출', 6834: '▁센스', 6835: '▁픽사', 6836: '▁그림체', 6837: '▁앉아', 6838: '▁개똥', 6839: 'ᄀᄀ', 6840: '▁유럽', 6841: '▁장난하나', 6842: '▁모르지만', 6843: '▁마약', 6844: '▁울었어요', 6845: '잊', 6846: '꼽', 6847: '▁유행', 6848: '▁순수하고', 6849: '▁나을듯', 6850: '나왔으면', 6851: '▁공간', 6852: '▁보고나니', 6853: '▁위트', 6854: '▁죽었', 6855: '하니까', 6856: '▁귀여', 6857: '아무리', 6858: '에비해', 6859: '▁찾아서', 6860: '▁빠지는', 6861: '▁두시간', 6862: '▁등장인물들', 6863: '▁벗어나', 6864: '할수있는', 6865: '소재와', 6866: '▁괜찮게', 6867: '▁4.44', 6868: '▁놓치', 6869: '멋잇', 6870: '▁소장하고', 6871: '있지만', 6872: '싶음', 6873: 'ed', 6874: '비추', 6875: '쯔', 6876: '툭', 6877: '▁흡입력', 6878: '넬', 6879: '▁놀랐다', 6880: '▁못봐주겠', 6881: '▁아기자기', 6882: '▁알파치노', 6883: '▁점수준것들', 6884: '릇', 6885: '인상깊었', 6886: '템', 6887: '렐', 6888: '▁역겹다', 6889: '▁말그대로', 6890: '▁배급사', 6891: '▁일주일', 6892: '▁킬러', 6893: '▁맞나', 6894: '▁상관없', 6895: '▁짜릿', 6896: '▁예측', 6897: '당시엔', 6898: '▁오래전에', 6899: '▁고독', 6900: '▁은근', 6901: '▁절망', 6902: '▁가족들', 6903: '▁말아야', 6904: '▁부활', 6905: '▁말하려는', 6906: '▁조낸', 6907: '▁첨부터', 6908: '댄스', 6909: '▁궁금해서', 6910: '▁아니잖아', 6911: '▁웃었다', 6912: '▁치유', 6913: '하자면', 6914: '하지말고', 6915: '갖', 6916: 'CG', 6917: '보네요', 6918: '드립', 6919: '전혀', 6920: '▁잠시', 6921: '▁불안', 6922: '긴했지만', 6923: '해줘서', 6924: '▁프랑스영화', 6925: '▁벗어', 6926: '▁신선함', 6927: '▁옆에', 6928: '▁재미없네요', 6929: '볼까', 6930: '▁여신', 6931: 've', 6932: '▁초반부', 6933: '▁씁쓸하', 6934: '▁때리', 6935: '▁상대', 6936: '▁영원', 6937: '아름다', 6938: '씁', 6939: '렀', 6940: '뭉', 6941: '퉁', 6942: '뱀', 6943: '엮', 6944: '▁EBS', 6945: '▁둘째치고', 6946: '룰', 6947: '쩍', 6948: '츄', 6949: '캡', 6950: '▁이병헌', 6951: '쉐', 6952: '▁도데체', 6953: '오랫동안', 6954: '▁강동원', 6955: '▁어두운', 6956: '▁김혜수', 6957: '▁무거운', 6958: '▁불가능', 6959: '▁라이언', 6960: '▁쓸쓸', 6961: '▁격투', 6962: '▁극혐', 6963: '▁아름다워', 6964: '▁생각해보게', 6965: '▁고딩', 6966: '▁제외하', 6967: '▁이도저도', 6968: '▁극복', 6969: '▁감동적입니다', 6970: '▁심한', 6971: '▁개꿀잼', 6972: '▁거북', 6973: '▁만들어졌', 6974: '▁거지같은', 6975: '보임', 6976: '▁언제까지', 6977: '▁돼지', 6978: '봣어요', 6979: '▁적절한', 6980: '▁답답하다', 6981: '신분들', 6982: '뻔함', 6983: '폴', 6984: '▁잃었', 6985: '그렇게', 6986: '▁시작해서', 6987: '▁반영', 6988: '▁건질', 6989: 'us', 6990: '▁모르겠네', 6991: '▁답답함', 6992: '돈주고', 6993: '재밋음', 6994: '떨어져', 6995: '누님', 6996: '였다면', 6997: '▁대사들', 6998: '쿡', 6999: '덴', 7000: '빗', 7001: '숀', 7002: '▁유치찬란', 7003: '▁인터넷', 7004: '끗', 7005: '옮', 7006: '퉤', 7007: '▁리얼리티', 7008: '▁임창정', 7009: '머릿속', 7010: '▁고뇌', 7011: '▁상징', 7012: '▁좋으나', 7013: '동시에', 7014: '▁흥분', 7015: '▁서양', 7016: '▁가족애', 7017: '므로', 7018: '▁보고싶은데', 7019: '줘요', 7020: '▁연기잘하', 7021: '▁완벽하다', 7022: 'very', 7023: '▁어이없음', 7024: '특집', 7025: '▁빠져서', 7026: '▁좋아하지만', 7027: '것같아', 7028: '훌륭', 7029: '코메디', 7030: '▁괜찮네요', 7031: 'ri', 7032: '▁삶과', 7033: '▁충분한', 7034: '앞으로', 7035: 'ter', 7036: '▁별로였다', 7037: '외에는', 7038: '▁볼것', 7039: '▁새벽', 7040: '생기고', 7041: '뜸', 7042: '▁시간때우기', 7043: '▁오그라드는', 7044: '▁왕조현', 7045: '둠', 7046: '듦', 7047: '몫', 7048: '뭇', 7049: '쉴', 7050: '▁김수현', 7051: '▁닥치고', 7052: '▁기발한', 7053: '▁수면제', 7054: '▁ᄌᄂ', 7055: '▁bad', 7056: '▁상큼', 7057: '▁말이필요없다', 7058: '▁로맨틱코미디', 7059: '▁각색', 7060: '▁과학', 7061: '▁강력', 7062: '명성에', 7063: '▁재앙', 7064: '▁엄청나게', 7065: 'ost', 7066: '▁사랑스럽고', 7067: '▁전체적인', 7068: '▁로망', 7069: '▁에라이', 7070: '▁충분하다', 7071: '녀석', 7072: '▁단순히', 7073: '▁우왕', 7074: '▁놀란', 7075: '▁다운받아서', 7076: '▁충격적인', 7077: '였구나', 7078: '▁평소', 7079: '▁독특하고', 7080: '▁웃겼다', 7081: '▁최고에요', 7082: '▁준비', 7083: '쩝', 7084: '잭', 7085: '뭘', 7086: '병맛', 7087: '허무', 7088: '보지마라', 7089: '▁나와야', 7090: '▁빠졌', 7091: '복수', 7092: '▁도시', 7093: '▁여배우들', 7094: '▁캐리', 7095: '▁들어간', 7096: '▁전문', 7097: '▁낚인', 7098: '▁섬세한', 7099: '▁시종일관', 7100: '쩡', 7101: '됫', 7102: '▁바탕으로', 7103: '▁두고두고', 7104: '▁평점조절', 7105: '▁아쉬울', 7106: '▁칭찬', 7107: '▁미스터리', 7108: '드려요', 7109: '▁혁명', 7110: '마누라', 7111: '▁굳굳', 7112: '▁잘생겼', 7113: '망작', 7114: '▁역량', 7115: '▁빛나는', 7116: '페이스', 7117: '▁라스트', 7118: '▁좋겠습니다', 7119: '습니까', 7120: '차별', 7121: '▁멋져요', 7122: '▁태국', 7123: '▁한심하다', 7124: '??????', 7125: '립니다', 7126: '▁싶었던', 7127: '▁속았다', 7128: '학년때', 7129: '▁무엇이', 7130: '▁부산', 7131: '▁역사상', 7132: '▁상당', 7133: '▁공유', 7134: '싶었는데', 7135: '▁2.22', 7136: '되길', 7137: '▁한번더', 7138: '맞음', 7139: '만드나', 7140: '틀리', 7141: '개인적으로', 7142: '돌려', 7143: '로맨스', 7144: '하겠습니다', 7145: '편집', 7146: '▁자극적인', 7147: '▁있긴', 7148: 'av', 7149: '▁정신병', 7150: '▁정체', 7151: '구먼', 7152: '삼류', 7153: '앉', 7154: '▁뻔뻔', 7155: '덮', 7156: '렛', 7157: '밉', 7158: '킴', 7159: '▁미스캐스팅', 7160: '▁비쥬얼', 7161: '▁섬뜩', 7162: '뤄', 7163: '퀸', 7164: '▁여러모로', 7165: '▁되돌아', 7166: '▁비호감', 7167: '점준것중', 7168: '어울림', 7169: '▁완젼', 7170: '흑흑', 7171: '▁케미', 7172: '▁레옹', 7173: '▁멋짐', 7174: '▁동영상', 7175: '▁내취향', 7176: '▁묘한', 7177: '▁중학생', 7178: '▁귀여웠', 7179: '▁드림', 7180: '▁괜찮았던', 7181: '합시다', 7182: '▁진지하게', 7183: '▁인류', 7184: '▁않아요', 7185: '▁미녀', 7186: '▁부족함', 7187: '▁강간', 7188: '경찰', 7189: '예술', 7190: '▁싫어하는', 7191: '->', 7192: '각본', 7193: '▁웃겼', 7194: '▁흉내', 7195: '▁좋더라', 7196: '극히', 7197: '둑', 7198: '맙', 7199: '뎀', 7200: '쏴', 7201: '렴', 7202: '핫', 7203: '▁어정쩡', 7204: '▁짬뽕', 7205: '▁몽환적', 7206: '▁안타까움', 7207: '▁비행기', 7208: '▁걱정', 7209: '▁도둑', 7210: '▁풀어낸', 7211: '▁잃은', 7212: '▁알려주는', 7213: '▁만약', 7214: '▁보고있는데', 7215: '▁최후', 7216: '▁강추합니다', 7217: '▁아이유', 7218: '▁가히', 7219: '▁주려', 7220: '▁그리워', 7221: '먹었', 7222: '멀', 7223: '▁개봉당시', 7224: '범죄', 7225: '오랜만에', 7226: '초딩', 7227: '▁욕먹', 7228: '아닌데', 7229: '밖', 7230: '▁살아야', 7231: 'ma', 7232: '▁디카프리오', 7233: '▁밝혀', 7234: '▁애니매이션', 7235: '렘', 7236: '뻑', 7237: '캠', 7238: '팩', 7239: '▁뒤죽박죽', 7240: '▁엄정화', 7241: '켓', 7242: '▁원피스', 7243: '▁피아노', 7244: '▁왕가위', 7245: '▁섬세하', 7246: '▁드니로', 7247: '▁no', 7248: '▁자연스럽게', 7249: '▁그럴싸', 7250: '▁치밀하', 7251: '▁환장', 7252: '><', 7253: '▁난해한', 7254: '▁방황', 7255: '▁잔잔함', 7256: '▁아쉬워요', 7257: '▁감동적임', 7258: '▁가짜', 7259: '▁모욕', 7260: '▁역작', 7261: '▁아이들에게', 7262: '▁주온', 7263: '겠는가', 7264: '▁한동안', 7265: '나오는거', 7266: '▁공감되', 7267: '프로그램', 7268: '무서운', 7269: '댓글', 7270: '까봐', 7271: '결국', 7272: '교회', 7273: '것같음', 7274: '▁넣어', 7275: '▁막판', 7276: '밋', 7277: '▁허허', 7278: '챙', 7279: '▁팬들', 7280: '▁킬링', 7281: '▁가볍지', 7282: '뿜', 7283: '▁뒤늦게', 7284: '▁포켓몬', 7285: '겻', 7286: '뺏', 7287: '셧', 7288: '▁그냥저냥', 7289: '▁아마추어', 7290: '▁한석규', 7291: '썸', 7292: '▁클래식', 7293: '▁감성팔이', 7294: '▁묵직', 7295: '▁봐줄만', 7296: '▁무간도', 7297: '▁거부감', 7298: '▁크리스찬', 7299: '▁극단적', 7300: '▁호흡', 7301: '▁자연스러운', 7302: '▁개그맨', 7303: '▁공룡', 7304: '▁직업', 7305: '▁권력', 7306: '▁돌아보게', 7307: '시켰', 7308: '▁아무튼', 7309: '▁재탕', 7310: '▁반갑', 7311: '▁보여줄', 7312: '분짜리', 7313: '▁불쌍해서', 7314: '▁나올까', 7315: '▁만났', 7316: '돋는다', 7317: '샘', 7318: '킬링타임', 7319: '훨', 7320: '재밋어요', 7321: '좋아하는데', 7322: '▁OOOO', 7323: 'ᄒᄒᄒᄒᄒ', 7324: '▁완성', 7325: 'la', 7326: '나봐요', 7327: '검사', 7328: '▁일깨워', 7329: '▁송승헌', 7330: '▁영웅본색', 7331: '▁테이큰', 7332: '늬', 7333: '뚫', 7334: '좆', 7335: '훼', 7336: '▁설경구', 7337: '꽁', 7338: '▁가슴아프', 7339: '▁망쳐놓', 7340: '▁컬트', 7341: '▁총체적', 7342: '▁늙은', 7343: '▁잔인함', 7344: '▁거기다', 7345: '▁혼란', 7346: '▁못하겠다', 7347: '▁동화같은', 7348: '▁늙어', 7349: '▁감동적이었다', 7350: '▁챙겨보', 7351: '▁재밌었습니다', 7352: '▁마법', 7353: '▁흉내내', 7354: '덕분에', 7355: '시청률', 7356: '무서워', 7357: '보지마세요', 7358: '▁커버', 7359: '혐', 7360: '밍', 7361: '믄', 7362: '▁카메론', 7363: '얀', 7364: '▁겨울왕국', 7365: '▁고등학생', 7366: '▁러브라인', 7367: '▁엔딩크레딧', 7368: '▁호불호가', 7369: '덧', 7370: '썬', 7371: '왈', 7372: '▁원주율', 7373: '▁팝콘', 7374: '▁김민종', 7375: '▁김희선', 7376: '▁드래곤볼', 7377: '▁워낙', 7378: '▁손색이', 7379: '▁다니엘', 7380: '땜시', 7381: '▁전성기', 7382: '▁슈퍼맨', 7383: '▁절묘', 7384: '▁억지스런', 7385: '-.-', 7386: '▁시간아까워', 7387: '▁닮았', 7388: '현실적', 7389: '▁흘러가는', 7390: '▁기억난다', 7391: '▁있어보이', 7392: 'com', 7393: '▁브레', 7394: '큼', 7395: '옛날', 7396: '애니메이션', 7397: '얼마나', 7398: '더럽게', 7399: '궁금', 7400: '해야하나', 7401: '▁알게되', 7402: '영활', 7403: '▁짜증났', 7404: '▁야하지도', 7405: '야말로', 7406: '팝', 7407: 'ᄊ', 7408: '▁군더더기', 7409: '▁박찬욱', 7410: '턱', 7411: '톡', 7412: '헷', 7413: '혔', 7414: '뜯', 7415: '▁객관적', 7416: '▁나머진', 7417: '▁데뷔작', 7418: '▁최민수', 7419: '▁흠잡을', 7420: '▁후속편', 7421: '▁러셀', 7422: '▁엠마', 7423: '▁온갖', 7424: '▁택시', 7425: '▁귀찮', 7426: '▁민족', 7427: '▁새삼', 7428: '▁찬양', 7429: '▁파격적', 7430: '▁분량', 7431: '밴드', 7432: '▁흘렸', 7433: 'vs', 7434: '깐', 7435: '킥', 7436: '밨', 7437: '짙', 7438: 'ᄐ', 7439: '뎁', 7440: '륵', 7441: '첫', 7442: '냄', 7443: 'Y', 7444: '궈', 7445: '숲', 7446: '쌓', 7447: '앜', 7448: '졋', 7449: '썩', 7450: '꽝', 7451: '룬', 7452: '훌', 7453: '☆', 7454: '끓', 7455: '랏', 7456: '멕', 7457: '삘', 7458: '잣', 7459: '칫', 7460: '팽', 7461: '헨', 7462: '짧', 7463: '풋', 7464: '삽', 7465: '겄', 7466: '뼈', 7467: '쇄', 7468: '쉣', 7469: '줫', 7470: '훗', 7471: '쫌', 7472: '펠', 7473: '윽', 7474: '댓', 7475: '봇', 7476: '뚜', 7477: '탠', 7478: '↓', 7479: '뎌', 7480: '욬', 7481: '웩', 7482: '웰', 7483: '푼', 7484: '즌', 7485: '흉', 7486: '뜩', 7487: '뱅', 7488: '릅', 7489: '텅', 7490: '녁', 7491: '룸', 7492: '릉', 7493: '짖', 7494: '넷', 7495: '톰', 7496: '깎', 7497: '낌', 7498: '쎄', 7499: '쯧', 7500: '옵', 7501: '긔', 7502: '꺄', 7503: '썻', 7504: '헝', 7505: '핳', 7506: '넼', 7507: '싫', 7508: '믹', 7509: '펼', 7510: '긍', 7511: '쇠', 7512: '짬', 7513: '곁', 7514: '껍', 7515: '둬', 7516: '딕', 7517: '벙', 7518: '셜', 7519: '잎', 7520: '즉', 7521: '엌', 7522: '쩐', 7523: '낙', 7524: '씹', 7525: '봅', 7526: 'ᅦ', 7527: '밸', 7528: '。', 7529: '됴', 7530: '펀', 7531: '人', 7532: '겸', 7533: '빤', 7534: '켈', 7535: '훔', 7536: '갇', 7537: '꾹', 7538: '뉘', 7539: '쏙', 7540: '횽', 7541: '뿔', 7542: '뷔', 7543: 'Z', 7544: '럿', 7545: '쏠', 7546: '챔', 7547: '콕', 7548: '펴', 7549: '띵', 7550: '깁', 7551: '쵝', 7552: '깡', 7553: '샹', 7554: '됌', 7555: '샀', 7556: '펄', 7557: '핏', 7558: '넓', 7559: '맷', 7560: '톨', 7561: '#', 7562: 'q', 7563: 'ᄑ', 7564: '댐', 7565: '쌩', 7566: '꿨', 7567: '숫', 7568: '○', 7569: '욜', 7570: '컵', 7571: '댕', 7572: '묶', 7573: '슐', 7574: '쨩', 7575: '텀', 7576: '흙', 7577: '쉰', 7578: '흰', 7579: '쌍', 7580: '캬', 7581: '낳', 7582: '줍', 7583: '죤', 7584: '탭', 7585: '댈', 7586: '뱉', 7587: '쫙', 7588: '췄', 7589: '칩', 7590: 'ᅭ', 7591: '귓', 7592: '룹', 7593: '쌀', 7594: '듀', 7595: '뀌', 7596: '률', 7597: '뇨', 7598: '엎', 7599: '욧', 7600: '햄', 7601: '뺀', 7602: '솟', 7603: '쌈', 7604: '쌔', 7605: '캅', 7606: '힛', 7607: '\\\\', 7608: '쌤', 7609: '쑤', 7610: '륙', 7611: 'W', 7612: '꽤', 7613: '홉', 7614: '눠', 7615: '셰', 7616: '췌', 7617: '젓', 7618: '팡', 7619: '뻘', 7620: '넌', 7621: '밴', 7622: '찜', 7623: '엥', 7624: '·', 7625: '썽', 7626: 'ᆞ', 7627: '괘', 7628: '닦', 7629: '샬', 7630: '얕', 7631: '쪄', 7632: '탔', 7633: '퍽', 7634: '힝', 7635: '햐', 7636: '냅', 7637: '떳', 7638: '웬', 7639: '[', 7640: '뽑', 7641: '끊', 7642: '뭥', 7643: '깬', 7644: '’', 7645: '뒀', 7646: '샷', 7647: '셸', 7648: '썅', 7649: '씌', 7650: '킷', 7651: '툰', 7652: '짠', 7653: 'ᅣ', 7654: '싯', 7655: '‘', 7656: '늠', 7657: '얹', 7658: '乃', 7659: '굼', 7660: '뛴', 7661: '밭', 7662: '앳', 7663: '얌', 7664: '깽', 7665: '꺅', 7666: '웁', 7667: '륭', 7668: '롬', 7669: '놉', 7670: '돠', 7671: '갤', 7672: '겜', 7673: '꽂', 7674: '꾀', 7675: '낱', 7676: '됀', 7677: '젬', 7678: '촉', 7679: '쵸', 7680: '켠', 7681: '꿋', 7682: '씽', 7683: '윙', 7684: '낄', 7685: '|', 7686: '뎈', 7687: '딥', 7688: '떴', 7689: '뤽', 7690: '밈', 7691: '샴', 7692: '욯', 7693: '쟝', 7694: '몹', 7695: '갸', 7696: '낰', 7697: 'ᅧ', 7698: '헬', 7699: '푹', 7700: '곸', 7701: '팜', 7702: 'Q', 7703: '덥', 7704: '붐', 7705: '붓', 7706: '뺴', 7707: '얔', 7708: '웡', 7709: '읎', 7710: '좁', 7711: '짭', 7712: '퀼', 7713: '핡', 7714: '땟', 7715: '훅', 7716: '녹', 7717: '캔', 7718: '힙', 7719: '뺐', 7720: '뜰', 7721: '쑈', 7722: '쿤', 7723: '♬', 7724: '댔', 7725: '댜', 7726: '룻', 7727: '뮬', 7728: '쁠', 7729: '섰', 7730: '퀘', 7731: '큘', 7732: '꿉', 7733: '뭍', 7734: '빽', 7735: '짚', 7736: '늑', 7737: '첼', 7738: '無', 7739: '뵈', 7740: '젝', 7741: '“', 7742: '甲', 7743: '겔', 7744: '뷁', 7745: '좃', 7746: '쪙', 7747: '겅', 7748: '빔', 7749: '쾅', 7750: '킁', 7751: '쉘', 7752: '맡', 7753: '얻', 7754: '걱', 7755: '텍', 7756: '캣', 7757: '됏', 7758: '슥', 7759: '걔', 7760: '맬', 7761: '욘', 7762: '칵', 7763: '풉', 7764: '휼', 7765: '”', 7766: '뤘', 7767: '믓', 7768: '얍', 7769: '윗', 7770: '융', 7771: '훤', 7772: '쨔', 7773: '촬', 7774: '넝', 7775: '벡', 7776: '죵', 7777: '횡', 7778: '굽', 7779: '꼐', 7780: '넥', 7781: '뱃', 7782: '뿅', 7783: '숴', 7784: '춥', 7785: '흣', 7786: '댁', 7787: '잌', 7788: '잰', 7789: '퉷', 7790: '뤠', 7791: '헛', 7792: '켰', 7793: '괄', 7794: '귄', 7795: '쏜', 7796: '쳇', 7797: '캄', 7798: '꿰', 7799: '눅', 7800: '뎃', 7801: '뵙', 7802: '욥', 7803: '졷', 7804: '찼', 7805: '텨', 7806: '퐁', 7807: '헴', 7808: '끽', 7809: '→', 7810: '{', 7811: '}', 7812: '뒈', 7813: '밓', 7814: '첸', 7815: '냔', 7816: '넛', 7817: '넴', 7818: '뿍', 7819: '뿡', 7820: '괸', 7821: '돔', 7822: '멧', 7823: '썹', 7824: '쒯', 7825: '팰', 7826: '헿', 7827: '곀', 7828: '넉', 7829: '뒷', 7830: '땜', 7831: '쒸', 7832: '깟', 7833: '멱', 7834: 'ᆪ', 7835: '死', 7836: '뒹', 7837: '렜', 7838: '륨', 7839: '볶', 7840: '쫘', 7841: '큭', 7842: '펭', 7843: '햅', 7844: 'ᄈ', 7845: '샵', 7846: '콱', 7847: '읭', 7848: '쥑', 7849: '닛', 7850: '갚', 7851: '女', 7852: '뻗', 7853: '섀', 7854: '끙', 7855: '뇬', 7856: '$', 7857: '⌒', 7858: '♪', 7859: '作', 7860: '꽈', 7861: '넨', 7862: '떵', 7863: '벳', 7864: '쎈', 7865: '웹', 7866: '쨰', 7867: '뺑', 7868: '쮸', 7869: '갘', 7870: '킵', 7871: '컥', 7872: '쿼', 7873: '옛', 7874: '퀀', 7875: '쌉', 7876: '숟', 7877: '땔', 7878: '뉜', 7879: '낍', 7880: '뀜', 7881: '깼', 7882: '괭', 7883: '툴', 7884: '좔', 7885: '잴', 7886: '앍', 7887: '덱', 7888: '껑', 7889: '휠', 7890: '훑', 7891: '홥', 7892: '츤', 7893: '촘', 7894: '쫑', 7895: '샛', 7896: '닠', 7897: '휩', 7898: '폄', 7899: '쁩', 7900: '뀔', 7901: '긁', 7902: '핥', 7903: '콥', 7904: '릎', 7905: '꺾', 7906: '괞', 7907: '횟', 7908: '헠', 7909: '큽', 7910: '쟤', 7911: '옜', 7912: '샐', 7913: '딪', 7914: '멎', 7915: '뚤', 7916: '꺽', 7917: '꼼', 7918: '굵', 7919: '슌', 7920: '낡', 7921: '핍', 7922: '씻', 7923: '펏', 7924: '쥔', 7925: '돕', 7926: '녔', 7927: '닳', 7928: '쬐', 7929: '왼', 7930: '뺨', 7931: '픕', 7932: '쫒', 7933: '꽥', 7934: '쿄', 7935: '딨', 7936: '쨋', 7937: '빚', 7938: '넋', 7939: '얽', 7940: '뀐', 7941: '꼇', 7942: '뭡', 7943: '앓', 7944: '밟', 7945: '멤', 7946: '꽉', 7947: '붉', 7948: '웍', 7949: '솜', 7950: '땠', 7951: '홧', 7952: '쭈', 7953: '핸', 7954: '틋', 7955: '컸', 7956: '뻣', 7957: '맺', 7958: '맑', 7959: '찢', 7960: '겪', 7961: '쨌', 7962: '빕', 7963: '팠', 7964: '쫄', 7965: '띄', 7966: '틸', 7967: '텝', 7968: '껐', 7969: '콧', 7970: '닙', 7971: '쏟', 7972: '왤', 7973: '딧', 7974: '뻤', 7975: '꿔', 7976: '튀', 7977: '섞', 7978: '펐', 7979: '획', 7980: '겉', 7981: '밝', 7982: '쁨', 7983: '됩', 7984: '늦', 7985: '볍', 7986: '찝', 7987: '묻', 7988: '슷', 7989: '굉', 7990: '똑', 7991: '랐', 7992: '떻', 7993: '깊', 7994: '렇', 7995: '\"', 7996: '았', 7997: '밌', 7998: '봤', 7999: '탤'}\n"
     ]
    }
   ],
   "source": [
    "print(tensor)\n",
    "print(word_index)\n",
    "print(index_word)"
   ]
  },
  {
   "cell_type": "markdown",
   "id": "b1752d96",
   "metadata": {},
   "source": [
    "<br><br>"
   ]
  },
  {
   "cell_type": "markdown",
   "id": "baad5280",
   "metadata": {},
   "source": [
    "#### 4) KoNLPy 형태소 분석기를 사용한 모델과 성능 비교하기\n",
    "<br>"
   ]
  },
  {
   "cell_type": "markdown",
   "id": "4b8dfe4e",
   "metadata": {},
   "source": [
    "##### KoNLPy 형태소 분석기\n",
    "<br>"
   ]
  },
  {
   "cell_type": "code",
   "execution_count": 88,
   "id": "7154db84",
   "metadata": {},
   "outputs": [],
   "source": [
    "from konlpy.tag import Hannanum,Kkma,Komoran,Mecab,Okt"
   ]
  },
  {
   "cell_type": "code",
   "execution_count": 89,
   "id": "26cf4961",
   "metadata": {},
   "outputs": [],
   "source": [
    "tokenizer_list = [Hannanum(),Kkma(),Komoran(),Mecab(),Okt()]"
   ]
  },
  {
   "cell_type": "code",
   "execution_count": 90,
   "id": "95da7e36",
   "metadata": {},
   "outputs": [],
   "source": [
    "text = 'Google에서 제공하는 학습된 SentencePiece 모델의 토크나이저와 KoNLPy 형태소 분석기를 사용한 모델 중 어떤 게 더 성능이 좋은지 비교해봅시다.'"
   ]
  },
  {
   "cell_type": "code",
   "execution_count": 91,
   "id": "c1cf6b87",
   "metadata": {},
   "outputs": [
    {
     "name": "stdout",
     "output_type": "stream",
     "text": [
      "[Hannanum] \n",
      "[('Google', 'F'), ('에서', 'J'), ('제공', 'N'), ('하', 'X'), ('는', 'E'), ('학습', 'N'), ('되', 'X'), ('ㄴ', 'E'), ('SentencePiece', 'F'), ('모델', 'N'), ('의', 'J'), ('토크나이저', 'N'), ('와', 'J'), ('KoNLPy', 'F'), ('형태소', 'N'), ('분석기', 'N'), ('를', 'J'), ('사용', 'N'), ('하', 'X'), ('ㄴ', 'E'), ('모델', 'N'), ('중', 'N'), ('어떤', 'M'), ('것', 'N'), ('이', 'J'), ('더', 'M'), ('성능', 'N'), ('이', 'J'), ('좋', 'P'), ('은', 'E'), ('지', 'N'), ('비교', 'N'), ('하', 'X'), ('어', 'E'), ('보', 'P'), ('ㅂ시다', 'E'), ('.', 'S')]\n",
      "[Kkma] \n",
      "[('Google', 'OL'), ('에서', 'JKM'), ('제공', 'NNG'), ('하', 'XSV'), ('는', 'ETD'), ('학습', 'NNG'), ('되', 'XSV'), ('ㄴ', 'ETD'), ('SentencePiece', 'OL'), ('모델', 'NNG'), ('의', 'JKG'), ('토크', 'NNG'), ('나이저', 'NNG'), ('와', 'JC'), ('KoNLPy', 'OL'), ('형태소', 'NNG'), ('분석기', 'NNG'), ('를', 'JKO'), ('사용', 'NNG'), ('하', 'XSV'), ('ㄴ', 'ETD'), ('모델', 'NNG'), ('중', 'NNB'), ('어떠', 'VV'), ('ㄴ', 'ETD'), ('것', 'NNB'), ('이', 'JKS'), ('더', 'MAG'), ('성능', 'NNG'), ('이', 'JKS'), ('좋', 'VA'), ('은지', 'ECS'), ('비교', 'NNG'), ('하', 'XSV'), ('어', 'ECS'), ('보', 'VV'), ('ㅂ시다', 'EFA'), ('.', 'SF')]\n",
      "[Komoran] \n",
      "[('Google', 'SL'), ('에서', 'JKB'), ('제공', 'NNG'), ('하', 'XSV'), ('는', 'ETM'), ('학습', 'NNG'), ('되', 'XSV'), ('ㄴ', 'ETM'), ('SentencePiece', 'SL'), ('모델', 'NNP'), ('의', 'JKG'), ('토크', 'NNP'), ('나이', 'NNP'), ('저', 'NP'), ('와', 'JKB'), ('KoNLPy', 'SL'), ('형태소', 'NNP'), ('분석기', 'NNG'), ('를', 'JKO'), ('사용', 'NNG'), ('하', 'XSV'), ('ㄴ', 'ETM'), ('모델', 'NNP'), ('중', 'NNB'), ('어떤', 'MM'), ('게', 'NNG'), ('더', 'MAG'), ('성능', 'NNP'), ('이', 'JKS'), ('좋', 'VA'), ('은지', 'EC'), ('비교', 'NNG'), ('하', 'XSV'), ('아', 'EC'), ('보', 'VX'), ('ㅂ시다', 'EF'), ('.', 'SF')]\n",
      "[Mecab] \n",
      "[('Google', 'SL'), ('에서', 'JKB'), ('제공', 'NNG'), ('하', 'XSV'), ('는', 'ETM'), ('학습', 'NNG'), ('된', 'XSV+ETM'), ('SentencePiece', 'SL'), ('모델', 'NNG'), ('의', 'JKG'), ('토크', 'NNG'), ('나이저', 'NNP'), ('와', 'JC'), ('KoNLPy', 'SL'), ('형태소', 'NNG'), ('분석기', 'NNG'), ('를', 'JKO'), ('사용', 'NNG'), ('한', 'XSV+ETM'), ('모델', 'NNG'), ('중', 'NNB'), ('어떤', 'MM'), ('게', 'NNB+JKS'), ('더', 'MAG'), ('성능', 'NNG'), ('이', 'JKS'), ('좋', 'VA'), ('은지', 'EC'), ('비교', 'NNG'), ('해', 'XSV+EC'), ('봅시다', 'VX+EF'), ('.', 'SF')]\n",
      "[Okt] \n",
      "[('Google', 'Alpha'), ('에서', 'Josa'), ('제공', 'Noun'), ('하는', 'Verb'), ('학습', 'Noun'), ('된', 'Verb'), ('SentencePiece', 'Alpha'), ('모델', 'Noun'), ('의', 'Josa'), ('토크', 'Noun'), ('나', 'Josa'), ('이', 'Determiner'), ('저', 'Noun'), ('와', 'Josa'), ('KoNLPy', 'Alpha'), ('형태소', 'Noun'), ('분석', 'Noun'), ('기를', 'Verb'), ('사용', 'Noun'), ('한', 'Josa'), ('모델', 'Noun'), ('중', 'Noun'), ('어떤', 'Adjective'), ('게', 'Noun'), ('더', 'Noun'), ('성능', 'Noun'), ('이', 'Josa'), ('좋은지', 'Adjective'), ('비교', 'Noun'), ('해봅시다', 'Verb'), ('.', 'Punctuation')]\n"
     ]
    }
   ],
   "source": [
    "for tokenizer in tokenizer_list:\n",
    "    print('[{}] \\n{}'.format(tokenizer.__class__.__name__, tokenizer.pos(text)))"
   ]
  },
  {
   "cell_type": "markdown",
   "id": "093bd37d",
   "metadata": {},
   "source": [
    "<br>"
   ]
  },
  {
   "cell_type": "markdown",
   "id": "5ec4ee04",
   "metadata": {},
   "source": [
    "##### 학습된 SentencePiece 모델 활용을 활용한 토크나이저\n",
    "<br>"
   ]
  },
  {
   "cell_type": "code",
   "execution_count": 92,
   "id": "7853c9a2",
   "metadata": {},
   "outputs": [
    {
     "data": {
      "text/plain": [
       "True"
      ]
     },
     "execution_count": 92,
     "metadata": {},
     "output_type": "execute_result"
    }
   ],
   "source": [
    "s = spm.SentencePieceProcessor()\n",
    "s.Load('naver_spm.model')"
   ]
  },
  {
   "cell_type": "code",
   "execution_count": 93,
   "id": "b980c329",
   "metadata": {},
   "outputs": [],
   "source": [
    "text = 'Google에서 제공하는 학습된 SentencePiece 모델의 토크나이저와 KoNLPy 형태소 분석기를 사용한 모델 중 어떤 게 더 성능이 좋은지 비교해봅시다.'"
   ]
  },
  {
   "cell_type": "code",
   "execution_count": 94,
   "id": "6946a045",
   "metadata": {},
   "outputs": [
    {
     "name": "stdout",
     "output_type": "stream",
     "text": [
      "[1021, 221, 221, 562, 967, 15, 4709, 2359, 1442, 54, 473, 1773, 5068, 471, 4551, 2484, 2241, 6, 821, 142, 69, 8, 536, 26, 1251, 221, 698, 940, 471, 371, 3406, 133, 2327, 849, 4408, 2241, 63, 762, 1510, 106, 372, 1602, 8, 1018, 29, 3774, 48, 7634, 66, 38, 3]\n"
     ]
    }
   ],
   "source": [
    "tokensIDs = s.EncodeAsIds(text)\n",
    "print(tokensIDs)"
   ]
  },
  {
   "cell_type": "code",
   "execution_count": 95,
   "id": "d2310a8e",
   "metadata": {},
   "outputs": [
    {
     "name": "stdout",
     "output_type": "stream",
     "text": [
      "['▁G', 'o', 'o', 'g', 'le', '에서', '▁제공하는', '▁학', '습', '된', '▁S', 'ent', 'ence', 'P', 'ie', 'ce', '▁모델', '의', '▁토', '크', '나', '이', '저', '와', '▁K', 'o', 'N', 'L', 'P', 'y', '▁형태', '소', '▁분석', '기를', '▁사용한', '▁모델', '▁중', '▁어떤', '▁게', '▁더', '▁성', '능', '이', '▁좋은', '지', '▁비교', '해', '봅', '시', '다', '.']\n"
     ]
    }
   ],
   "source": [
    "print(s.SampleEncodeAsPieces(text,1, 0.0))"
   ]
  },
  {
   "cell_type": "code",
   "execution_count": 96,
   "id": "871e752d",
   "metadata": {},
   "outputs": [
    {
     "name": "stdout",
     "output_type": "stream",
     "text": [
      "Google에서 제공하는 학습된 SentencePiece 모델의 토크나이저와 KoNLPy 형태소 분석기를 사용한 모델 중 어떤 게 더 성능이 좋은지 비교해봅시다.\n"
     ]
    }
   ],
   "source": [
    "print(s.DecodeIds(tokensIDs))"
   ]
  },
  {
   "cell_type": "markdown",
   "id": "dedba193",
   "metadata": {},
   "source": [
    "<br>"
   ]
  },
  {
   "cell_type": "markdown",
   "id": "a390e0d0",
   "metadata": {},
   "source": [
    "##### 성능 비교: (1) 정확도\n",
    "<br>"
   ]
  },
  {
   "cell_type": "code",
   "execution_count": 97,
   "id": "b4c50e19",
   "metadata": {},
   "outputs": [],
   "source": [
    "# 정답 토큰화 결과\n",
    "ground_truth_tokens = ['Google', '에서', '제공', '하', '는', '학습', '된', 'SentencePiece', '모델', '의', '토크나이저', '와', 'KoNLPy', '형태소', '분석기', '를', '사용', '한', '모델', '중', '어떤', '게', '더', '성능', '이', '좋', '은', '지', '비교', '해', '봅', '시', '다', '.']"
   ]
  },
  {
   "cell_type": "markdown",
   "id": "9b13ae53",
   "metadata": {},
   "source": [
    "<br>"
   ]
  },
  {
   "cell_type": "code",
   "execution_count": 98,
   "id": "68c914bf",
   "metadata": {},
   "outputs": [],
   "source": [
    "# KoNLPy 토크나이저와 정답 토큰화 결과 비교"
   ]
  },
  {
   "cell_type": "code",
   "execution_count": 99,
   "id": "8cba51dd",
   "metadata": {},
   "outputs": [
    {
     "name": "stdout",
     "output_type": "stream",
     "text": [
      "[Hannanum] Accuracy: 79.41%\n",
      "[Kkma] Accuracy: 67.65%\n",
      "[Komoran] Accuracy: 73.53%\n",
      "[Mecab] Accuracy: 82.35%\n",
      "[Okt] Accuracy: 64.71%\n"
     ]
    }
   ],
   "source": [
    "for tokenizer in tokenizer_list:\n",
    "    tokens = [token[0] for token in tokenizer.pos(text)]\n",
    "    matching_tokens = sum(1 for token in ground_truth_tokens if token in tokens)\n",
    "    accuracy = matching_tokens / len(ground_truth_tokens)\n",
    "    #accuracy = sum(1 for a, b in zip(tokens, ground_truth_tokens) if a == b) / len(ground_truth_tokens)\n",
    "    print('[{}] Accuracy: {:.2f}%'.format(tokenizer.__class__.__name__, accuracy * 100))"
   ]
  },
  {
   "cell_type": "markdown",
   "id": "21e7055e",
   "metadata": {},
   "source": [
    "<br>"
   ]
  },
  {
   "cell_type": "code",
   "execution_count": 100,
   "id": "159f5322",
   "metadata": {},
   "outputs": [],
   "source": [
    "# SentencePiece 토크나이저와 정답 토큰화 결과 비교"
   ]
  },
  {
   "cell_type": "code",
   "execution_count": 101,
   "id": "062c20da",
   "metadata": {},
   "outputs": [],
   "source": [
    "tokens = s.SampleEncodeAsPieces(text, 1, 0.0)"
   ]
  },
  {
   "cell_type": "code",
   "execution_count": 102,
   "id": "2e4a67f8",
   "metadata": {},
   "outputs": [],
   "source": [
    "matching_tokens = sum(1 for token in ground_truth_tokens if token in tokens)\n",
    "accuracy = matching_tokens / len(ground_truth_tokens)"
   ]
  },
  {
   "cell_type": "code",
   "execution_count": 103,
   "id": "8fc1518b",
   "metadata": {},
   "outputs": [
    {
     "name": "stdout",
     "output_type": "stream",
     "text": [
      "[SentencePiece] Accuracy: 32.35%\n"
     ]
    }
   ],
   "source": [
    "print('[SentencePiece] Accuracy: {:.2f}%'.format(accuracy * 100))"
   ]
  },
  {
   "cell_type": "markdown",
   "id": "da0e6341",
   "metadata": {},
   "source": [
    "<br>"
   ]
  },
  {
   "cell_type": "markdown",
   "id": "242d6231",
   "metadata": {},
   "source": [
    "##### 성능 비교: (2) 속도 (참고)\n",
    "<br>"
   ]
  },
  {
   "cell_type": "code",
   "execution_count": 138,
   "id": "e74b9d08",
   "metadata": {},
   "outputs": [
    {
     "name": "stdout",
     "output_type": "stream",
     "text": [
      "KoNLPy Tokenizers Time: 31.897274497998296\n",
      "SentencePiece Tokenizer Time: 0.013703678007004783\n"
     ]
    }
   ],
   "source": [
    "import timeit\n",
    "\n",
    "def konlpy_time():\n",
    "    for tokenizer in tokenizer_list:\n",
    "        tokenizer.pos(text)\n",
    "\n",
    "def sentencepiece_time():\n",
    "    tokensIDs = s.EncodeAsIds(text)\n",
    "\n",
    "print(\"KoNLPy Tokenizers Time:\", timeit.timeit(konlpy_time, number=1000))\n",
    "print(\"SentencePiece Tokenizer Time:\", timeit.timeit(sentencepiece_time, number=1000))"
   ]
  },
  {
   "cell_type": "markdown",
   "id": "16cd5ce0",
   "metadata": {},
   "source": [
    "<br>"
   ]
  },
  {
   "cell_type": "markdown",
   "id": "3b00aa6a",
   "metadata": {},
   "source": [
    "##### 결과\n",
    "+ KoNLPy 토크나이저: 대략 70%대 정확도를 보여줌.\n",
    "+ SentencePiece 토크나이저: 30%대 정확도를 보여줌.\n",
    "+ 정확도 부분에서 KoNLPy 토크나이저가 보다 2배 이상 높은 성능을 보임을 알 수 있음."
   ]
  },
  {
   "cell_type": "markdown",
   "id": "dafac213",
   "metadata": {},
   "source": [
    "<br><br>"
   ]
  },
  {
   "cell_type": "markdown",
   "id": "e7043ce6",
   "metadata": {},
   "source": [
    "#### 5) SentencePiece 모델의 model_type, vocab_size 등을 변경해 가며 성능 개선 여부 확인하기\n",
    "<br>"
   ]
  },
  {
   "cell_type": "markdown",
   "id": "37582108",
   "metadata": {},
   "source": [
    "##### model_type별(unigram, bpe, char, word), 어휘 크기별(4000, 8000, 12000) 실험\n",
    "<br>"
   ]
  },
  {
   "cell_type": "code",
   "execution_count": 19,
   "id": "d8e1f325",
   "metadata": {},
   "outputs": [],
   "source": [
    "def train_sentencepiece(corpus, model_type='unigram', vocab_size=8000, temp_file='./data/temp_file.txt'):\n",
    "    with open(temp_file, 'w') as f:\n",
    "        for row in corpus:\n",
    "            f.write(str(row) + '\\n')\n",
    "\n",
    "    model_prefix = f'naver_spm_{model_type}_{vocab_size}'\n",
    "    spm.SentencePieceTrainer.Train(f'--input={temp_file} --model_prefix={model_prefix} --vocab_size={vocab_size} --model_type={model_type}')\n",
    "    \n",
    "    s = spm.SentencePieceProcessor()\n",
    "    s.Load(f'{model_prefix}.model')\n",
    "\n",
    "    return s"
   ]
  },
  {
   "cell_type": "code",
   "execution_count": 105,
   "id": "28f68bcc",
   "metadata": {},
   "outputs": [],
   "source": [
    "# 다양한 모델 타입과 어휘 크기로 실험\n",
    "model_types = ['unigram', 'bpe', 'char', 'word']\n",
    "vocab_sizes = [4000, 8000, 12000]"
   ]
  },
  {
   "cell_type": "code",
   "execution_count": 139,
   "id": "fe609d47",
   "metadata": {},
   "outputs": [],
   "source": [
    "filtered_corpus = filtered_corpus  # 필터링된 코퍼스"
   ]
  },
  {
   "cell_type": "code",
   "execution_count": 107,
   "id": "841fd15c",
   "metadata": {},
   "outputs": [
    {
     "name": "stderr",
     "output_type": "stream",
     "text": [
      "sentencepiece_trainer.cc(177) LOG(INFO) Running command: --input=./data/temp_file.txt --model_prefix=naver_spm_unigram_4000 --vocab_size=4000 --model_type=unigram\n",
      "sentencepiece_trainer.cc(77) LOG(INFO) Starts training with : \n",
      "trainer_spec {\n",
      "  input: ./data/temp_file.txt\n",
      "  input_format: \n",
      "  model_prefix: naver_spm_unigram_4000\n",
      "  model_type: UNIGRAM\n",
      "  vocab_size: 4000\n",
      "  self_test_sample_size: 0\n",
      "  character_coverage: 0.9995\n",
      "  input_sentence_size: 0\n",
      "  shuffle_input_sentence: 1\n",
      "  seed_sentencepiece_size: 1000000\n",
      "  shrinking_factor: 0.75\n",
      "  max_sentence_length: 4192\n",
      "  num_threads: 16\n",
      "  num_sub_iterations: 2\n",
      "  max_sentencepiece_length: 16\n",
      "  split_by_unicode_script: 1\n",
      "  split_by_number: 1\n",
      "  split_by_whitespace: 1\n",
      "  split_digits: 0\n",
      "  treat_whitespace_as_suffix: 0\n",
      "  allow_whitespace_only_pieces: 0\n",
      "  required_chars: \n",
      "  byte_fallback: 0\n",
      "  vocabulary_output_piece_score: 1\n",
      "  train_extremely_large_corpus: 0\n",
      "  hard_vocab_limit: 1\n",
      "  use_all_vocab: 0\n",
      "  unk_id: 0\n",
      "  bos_id: 1\n",
      "  eos_id: 2\n",
      "  pad_id: -1\n",
      "  unk_piece: <unk>\n",
      "  bos_piece: <s>\n",
      "  eos_piece: </s>\n",
      "  pad_piece: <pad>\n",
      "  unk_surface:  ⁇ \n",
      "}\n",
      "normalizer_spec {\n",
      "  name: nmt_nfkc\n",
      "  add_dummy_prefix: 1\n",
      "  remove_extra_whitespaces: 1\n",
      "  escape_whitespaces: 1\n",
      "  normalization_rule_tsv: \n",
      "}\n",
      "denormalizer_spec {}\n",
      "trainer_interface.cc(329) LOG(INFO) SentenceIterator is not specified. Using MultiFileSentenceIterator.\n",
      "trainer_interface.cc(178) LOG(INFO) Loading corpus: ./data/temp_file.txt\n",
      "trainer_interface.cc(385) LOG(INFO) Loaded all 76908 sentences\n",
      "trainer_interface.cc(400) LOG(INFO) Adding meta_piece: <unk>\n",
      "trainer_interface.cc(400) LOG(INFO) Adding meta_piece: <s>\n",
      "trainer_interface.cc(400) LOG(INFO) Adding meta_piece: </s>\n",
      "trainer_interface.cc(405) LOG(INFO) Normalizing sentences...\n",
      "trainer_interface.cc(466) LOG(INFO) all chars count=4996369\n",
      "trainer_interface.cc(477) LOG(INFO) Done: 99.95% characters are covered.\n",
      "trainer_interface.cc(487) LOG(INFO) Alphabet size=1317\n",
      "trainer_interface.cc(488) LOG(INFO) Final character coverage=0.9995\n",
      "trainer_interface.cc(520) LOG(INFO) Done! preprocessed 76908 sentences.\n",
      "unigram_model_trainer.cc(139) LOG(INFO) Making suffix array...\n",
      "unigram_model_trainer.cc(143) LOG(INFO) Extracting frequent sub strings...\n",
      "unigram_model_trainer.cc(194) LOG(INFO) Initialized 174340 seed sentencepieces\n",
      "trainer_interface.cc(526) LOG(INFO) Tokenizing input sentences with whitespace: 76908\n",
      "trainer_interface.cc(537) LOG(INFO) Done! 237965\n",
      "unigram_model_trainer.cc(489) LOG(INFO) Using 237965 sentences for EM training\n",
      "unigram_model_trainer.cc(505) LOG(INFO) EM sub_iter=0 size=92555 obj=14.853 num_tokens=523272 num_tokens/piece=5.65363\n",
      "unigram_model_trainer.cc(505) LOG(INFO) EM sub_iter=1 size=82083 obj=13.516 num_tokens=525776 num_tokens/piece=6.40542\n",
      "unigram_model_trainer.cc(505) LOG(INFO) EM sub_iter=0 size=61555 obj=13.5533 num_tokens=546907 num_tokens/piece=8.88485\n",
      "unigram_model_trainer.cc(505) LOG(INFO) EM sub_iter=1 size=61506 obj=13.5101 num_tokens=547350 num_tokens/piece=8.89913\n",
      "unigram_model_trainer.cc(505) LOG(INFO) EM sub_iter=0 size=46126 obj=13.6926 num_tokens=575369 num_tokens/piece=12.4739\n",
      "unigram_model_trainer.cc(505) LOG(INFO) EM sub_iter=1 size=46126 obj=13.6493 num_tokens=575466 num_tokens/piece=12.476\n",
      "unigram_model_trainer.cc(505) LOG(INFO) EM sub_iter=0 size=34594 obj=13.8894 num_tokens=606014 num_tokens/piece=17.5179\n",
      "unigram_model_trainer.cc(505) LOG(INFO) EM sub_iter=1 size=34594 obj=13.8387 num_tokens=606012 num_tokens/piece=17.5178\n",
      "unigram_model_trainer.cc(505) LOG(INFO) EM sub_iter=0 size=25945 obj=14.1301 num_tokens=637532 num_tokens/piece=24.5724\n",
      "unigram_model_trainer.cc(505) LOG(INFO) EM sub_iter=1 size=25945 obj=14.0747 num_tokens=637568 num_tokens/piece=24.5738\n",
      "unigram_model_trainer.cc(505) LOG(INFO) EM sub_iter=0 size=19458 obj=14.4091 num_tokens=670960 num_tokens/piece=34.4825\n",
      "unigram_model_trainer.cc(505) LOG(INFO) EM sub_iter=1 size=19458 obj=14.3468 num_tokens=670999 num_tokens/piece=34.4845\n",
      "unigram_model_trainer.cc(505) LOG(INFO) EM sub_iter=0 size=14593 obj=14.7196 num_tokens=705636 num_tokens/piece=48.3544\n",
      "unigram_model_trainer.cc(505) LOG(INFO) EM sub_iter=1 size=14593 obj=14.648 num_tokens=705645 num_tokens/piece=48.355\n",
      "unigram_model_trainer.cc(505) LOG(INFO) EM sub_iter=0 size=10944 obj=15.0875 num_tokens=741620 num_tokens/piece=67.765\n",
      "unigram_model_trainer.cc(505) LOG(INFO) EM sub_iter=1 size=10944 obj=15.007 num_tokens=741624 num_tokens/piece=67.7654\n",
      "unigram_model_trainer.cc(505) LOG(INFO) EM sub_iter=0 size=8208 obj=15.5071 num_tokens=778523 num_tokens/piece=94.8493\n",
      "unigram_model_trainer.cc(505) LOG(INFO) EM sub_iter=1 size=8208 obj=15.4123 num_tokens=778525 num_tokens/piece=94.8495\n",
      "unigram_model_trainer.cc(505) LOG(INFO) EM sub_iter=0 size=6156 obj=16.0022 num_tokens=818324 num_tokens/piece=132.931\n",
      "unigram_model_trainer.cc(505) LOG(INFO) EM sub_iter=1 size=6156 obj=15.8728 num_tokens=818366 num_tokens/piece=132.938\n",
      "unigram_model_trainer.cc(505) LOG(INFO) EM sub_iter=0 size=4617 obj=16.5441 num_tokens=862511 num_tokens/piece=186.812\n",
      "unigram_model_trainer.cc(505) LOG(INFO) EM sub_iter=1 size=4617 obj=16.4121 num_tokens=862516 num_tokens/piece=186.813\n",
      "unigram_model_trainer.cc(505) LOG(INFO) EM sub_iter=0 size=4400 obj=16.5262 num_tokens=871178 num_tokens/piece=197.995\n",
      "unigram_model_trainer.cc(505) LOG(INFO) EM sub_iter=1 size=4400 obj=16.5037 num_tokens=871788 num_tokens/piece=198.134\n",
      "trainer_interface.cc(615) LOG(INFO) Saving model: naver_spm_unigram_4000.model\n",
      "trainer_interface.cc(626) LOG(INFO) Saving vocabs: naver_spm_unigram_4000.vocab\n",
      "sentencepiece_trainer.cc(177) LOG(INFO) Running command: --input=./data/temp_file.txt --model_prefix=naver_spm_unigram_8000 --vocab_size=8000 --model_type=unigram\n",
      "sentencepiece_trainer.cc(77) LOG(INFO) Starts training with : \n",
      "trainer_spec {\n",
      "  input: ./data/temp_file.txt\n",
      "  input_format: \n",
      "  model_prefix: naver_spm_unigram_8000\n",
      "  model_type: UNIGRAM\n",
      "  vocab_size: 8000\n",
      "  self_test_sample_size: 0\n",
      "  character_coverage: 0.9995\n",
      "  input_sentence_size: 0\n",
      "  shuffle_input_sentence: 1\n",
      "  seed_sentencepiece_size: 1000000\n",
      "  shrinking_factor: 0.75\n",
      "  max_sentence_length: 4192\n",
      "  num_threads: 16\n",
      "  num_sub_iterations: 2\n",
      "  max_sentencepiece_length: 16\n",
      "  split_by_unicode_script: 1\n",
      "  split_by_number: 1\n",
      "  split_by_whitespace: 1\n",
      "  split_digits: 0\n",
      "  treat_whitespace_as_suffix: 0\n",
      "  allow_whitespace_only_pieces: 0\n",
      "  required_chars: \n",
      "  byte_fallback: 0\n",
      "  vocabulary_output_piece_score: 1\n",
      "  train_extremely_large_corpus: 0\n",
      "  hard_vocab_limit: 1\n",
      "  use_all_vocab: 0\n",
      "  unk_id: 0\n",
      "  bos_id: 1\n",
      "  eos_id: 2\n",
      "  pad_id: -1\n",
      "  unk_piece: <unk>\n",
      "  bos_piece: <s>\n",
      "  eos_piece: </s>\n",
      "  pad_piece: <pad>\n",
      "  unk_surface:  ⁇ \n",
      "}\n",
      "normalizer_spec {\n",
      "  name: nmt_nfkc\n",
      "  add_dummy_prefix: 1\n",
      "  remove_extra_whitespaces: 1\n",
      "  escape_whitespaces: 1\n",
      "  normalization_rule_tsv: \n",
      "}\n",
      "denormalizer_spec {}\n",
      "trainer_interface.cc(329) LOG(INFO) SentenceIterator is not specified. Using MultiFileSentenceIterator.\n",
      "trainer_interface.cc(178) LOG(INFO) Loading corpus: ./data/temp_file.txt\n",
      "trainer_interface.cc(385) LOG(INFO) Loaded all 76908 sentences\n",
      "trainer_interface.cc(400) LOG(INFO) Adding meta_piece: <unk>\n",
      "trainer_interface.cc(400) LOG(INFO) Adding meta_piece: <s>\n",
      "trainer_interface.cc(400) LOG(INFO) Adding meta_piece: </s>\n",
      "trainer_interface.cc(405) LOG(INFO) Normalizing sentences...\n",
      "trainer_interface.cc(466) LOG(INFO) all chars count=4996369\n",
      "trainer_interface.cc(477) LOG(INFO) Done: 99.95% characters are covered.\n",
      "trainer_interface.cc(487) LOG(INFO) Alphabet size=1317\n",
      "trainer_interface.cc(488) LOG(INFO) Final character coverage=0.9995\n",
      "trainer_interface.cc(520) LOG(INFO) Done! preprocessed 76908 sentences.\n",
      "unigram_model_trainer.cc(139) LOG(INFO) Making suffix array...\n",
      "unigram_model_trainer.cc(143) LOG(INFO) Extracting frequent sub strings...\n",
      "unigram_model_trainer.cc(194) LOG(INFO) Initialized 174340 seed sentencepieces\n",
      "trainer_interface.cc(526) LOG(INFO) Tokenizing input sentences with whitespace: 76908\n",
      "trainer_interface.cc(537) LOG(INFO) Done! 237965\n",
      "unigram_model_trainer.cc(489) LOG(INFO) Using 237965 sentences for EM training\n",
      "unigram_model_trainer.cc(505) LOG(INFO) EM sub_iter=0 size=92555 obj=14.853 num_tokens=523272 num_tokens/piece=5.65363\n",
      "unigram_model_trainer.cc(505) LOG(INFO) EM sub_iter=1 size=82083 obj=13.516 num_tokens=525776 num_tokens/piece=6.40542\n",
      "unigram_model_trainer.cc(505) LOG(INFO) EM sub_iter=0 size=61555 obj=13.5533 num_tokens=546907 num_tokens/piece=8.88485\n",
      "unigram_model_trainer.cc(505) LOG(INFO) EM sub_iter=1 size=61506 obj=13.5101 num_tokens=547350 num_tokens/piece=8.89913\n",
      "unigram_model_trainer.cc(505) LOG(INFO) EM sub_iter=0 size=46126 obj=13.6926 num_tokens=575369 num_tokens/piece=12.4739\n",
      "unigram_model_trainer.cc(505) LOG(INFO) EM sub_iter=1 size=46126 obj=13.6493 num_tokens=575466 num_tokens/piece=12.476\n",
      "unigram_model_trainer.cc(505) LOG(INFO) EM sub_iter=0 size=34594 obj=13.8894 num_tokens=606014 num_tokens/piece=17.5179\n",
      "unigram_model_trainer.cc(505) LOG(INFO) EM sub_iter=1 size=34594 obj=13.8387 num_tokens=606012 num_tokens/piece=17.5178\n",
      "unigram_model_trainer.cc(505) LOG(INFO) EM sub_iter=0 size=25945 obj=14.1301 num_tokens=637532 num_tokens/piece=24.5724\n",
      "unigram_model_trainer.cc(505) LOG(INFO) EM sub_iter=1 size=25945 obj=14.0747 num_tokens=637568 num_tokens/piece=24.5738\n",
      "unigram_model_trainer.cc(505) LOG(INFO) EM sub_iter=0 size=19458 obj=14.4091 num_tokens=670960 num_tokens/piece=34.4825\n",
      "unigram_model_trainer.cc(505) LOG(INFO) EM sub_iter=1 size=19458 obj=14.3468 num_tokens=670999 num_tokens/piece=34.4845\n",
      "unigram_model_trainer.cc(505) LOG(INFO) EM sub_iter=0 size=14593 obj=14.7196 num_tokens=705636 num_tokens/piece=48.3544\n",
      "unigram_model_trainer.cc(505) LOG(INFO) EM sub_iter=1 size=14593 obj=14.648 num_tokens=705645 num_tokens/piece=48.355\n",
      "unigram_model_trainer.cc(505) LOG(INFO) EM sub_iter=0 size=10944 obj=15.0875 num_tokens=741620 num_tokens/piece=67.765\n",
      "unigram_model_trainer.cc(505) LOG(INFO) EM sub_iter=1 size=10944 obj=15.007 num_tokens=741624 num_tokens/piece=67.7654\n",
      "unigram_model_trainer.cc(505) LOG(INFO) EM sub_iter=0 size=8800 obj=15.3757 num_tokens=769363 num_tokens/piece=87.4276\n",
      "unigram_model_trainer.cc(505) LOG(INFO) EM sub_iter=1 size=8800 obj=15.307 num_tokens=769367 num_tokens/piece=87.4281\n",
      "trainer_interface.cc(615) LOG(INFO) Saving model: naver_spm_unigram_8000.model\n",
      "trainer_interface.cc(626) LOG(INFO) Saving vocabs: naver_spm_unigram_8000.vocab\n",
      "sentencepiece_trainer.cc(177) LOG(INFO) Running command: --input=./data/temp_file.txt --model_prefix=naver_spm_unigram_12000 --vocab_size=12000 --model_type=unigram\n",
      "sentencepiece_trainer.cc(77) LOG(INFO) Starts training with : \n",
      "trainer_spec {\n",
      "  input: ./data/temp_file.txt\n",
      "  input_format: \n",
      "  model_prefix: naver_spm_unigram_12000\n",
      "  model_type: UNIGRAM\n",
      "  vocab_size: 12000\n",
      "  self_test_sample_size: 0\n",
      "  character_coverage: 0.9995\n",
      "  input_sentence_size: 0\n",
      "  shuffle_input_sentence: 1\n",
      "  seed_sentencepiece_size: 1000000\n",
      "  shrinking_factor: 0.75\n",
      "  max_sentence_length: 4192\n",
      "  num_threads: 16\n",
      "  num_sub_iterations: 2\n",
      "  max_sentencepiece_length: 16\n",
      "  split_by_unicode_script: 1\n",
      "  split_by_number: 1\n",
      "  split_by_whitespace: 1\n",
      "  split_digits: 0\n",
      "  treat_whitespace_as_suffix: 0\n",
      "  allow_whitespace_only_pieces: 0\n",
      "  required_chars: \n",
      "  byte_fallback: 0\n",
      "  vocabulary_output_piece_score: 1\n",
      "  train_extremely_large_corpus: 0\n",
      "  hard_vocab_limit: 1\n",
      "  use_all_vocab: 0\n",
      "  unk_id: 0\n",
      "  bos_id: 1\n",
      "  eos_id: 2\n",
      "  pad_id: -1\n",
      "  unk_piece: <unk>\n",
      "  bos_piece: <s>\n",
      "  eos_piece: </s>\n",
      "  pad_piece: <pad>\n",
      "  unk_surface:  ⁇ \n",
      "}\n",
      "normalizer_spec {\n",
      "  name: nmt_nfkc\n",
      "  add_dummy_prefix: 1\n",
      "  remove_extra_whitespaces: 1\n",
      "  escape_whitespaces: 1\n",
      "  normalization_rule_tsv: \n",
      "}\n",
      "denormalizer_spec {}\n",
      "trainer_interface.cc(329) LOG(INFO) SentenceIterator is not specified. Using MultiFileSentenceIterator.\n",
      "trainer_interface.cc(178) LOG(INFO) Loading corpus: ./data/temp_file.txt\n",
      "trainer_interface.cc(385) LOG(INFO) Loaded all 76908 sentences\n",
      "trainer_interface.cc(400) LOG(INFO) Adding meta_piece: <unk>\n",
      "trainer_interface.cc(400) LOG(INFO) Adding meta_piece: <s>\n",
      "trainer_interface.cc(400) LOG(INFO) Adding meta_piece: </s>\n",
      "trainer_interface.cc(405) LOG(INFO) Normalizing sentences...\n",
      "trainer_interface.cc(466) LOG(INFO) all chars count=4996369\n",
      "trainer_interface.cc(477) LOG(INFO) Done: 99.95% characters are covered.\n",
      "trainer_interface.cc(487) LOG(INFO) Alphabet size=1317\n",
      "trainer_interface.cc(488) LOG(INFO) Final character coverage=0.9995\n",
      "trainer_interface.cc(520) LOG(INFO) Done! preprocessed 76908 sentences.\n",
      "unigram_model_trainer.cc(139) LOG(INFO) Making suffix array...\n",
      "unigram_model_trainer.cc(143) LOG(INFO) Extracting frequent sub strings...\n",
      "unigram_model_trainer.cc(194) LOG(INFO) Initialized 174340 seed sentencepieces\n",
      "trainer_interface.cc(526) LOG(INFO) Tokenizing input sentences with whitespace: 76908\n",
      "trainer_interface.cc(537) LOG(INFO) Done! 237965\n",
      "unigram_model_trainer.cc(489) LOG(INFO) Using 237965 sentences for EM training\n",
      "unigram_model_trainer.cc(505) LOG(INFO) EM sub_iter=0 size=92555 obj=14.853 num_tokens=523272 num_tokens/piece=5.65363\n",
      "unigram_model_trainer.cc(505) LOG(INFO) EM sub_iter=1 size=82083 obj=13.516 num_tokens=525776 num_tokens/piece=6.40542\n",
      "unigram_model_trainer.cc(505) LOG(INFO) EM sub_iter=0 size=61555 obj=13.5533 num_tokens=546907 num_tokens/piece=8.88485\n",
      "unigram_model_trainer.cc(505) LOG(INFO) EM sub_iter=1 size=61506 obj=13.5101 num_tokens=547350 num_tokens/piece=8.89913\n",
      "unigram_model_trainer.cc(505) LOG(INFO) EM sub_iter=0 size=46126 obj=13.6926 num_tokens=575369 num_tokens/piece=12.4739\n",
      "unigram_model_trainer.cc(505) LOG(INFO) EM sub_iter=1 size=46126 obj=13.6493 num_tokens=575466 num_tokens/piece=12.476\n",
      "unigram_model_trainer.cc(505) LOG(INFO) EM sub_iter=0 size=34594 obj=13.8894 num_tokens=606014 num_tokens/piece=17.5179\n",
      "unigram_model_trainer.cc(505) LOG(INFO) EM sub_iter=1 size=34594 obj=13.8387 num_tokens=606012 num_tokens/piece=17.5178\n",
      "unigram_model_trainer.cc(505) LOG(INFO) EM sub_iter=0 size=25945 obj=14.1301 num_tokens=637532 num_tokens/piece=24.5724\n",
      "unigram_model_trainer.cc(505) LOG(INFO) EM sub_iter=1 size=25945 obj=14.0747 num_tokens=637568 num_tokens/piece=24.5738\n",
      "unigram_model_trainer.cc(505) LOG(INFO) EM sub_iter=0 size=19458 obj=14.4091 num_tokens=670960 num_tokens/piece=34.4825\n",
      "unigram_model_trainer.cc(505) LOG(INFO) EM sub_iter=1 size=19458 obj=14.3468 num_tokens=670999 num_tokens/piece=34.4845\n",
      "unigram_model_trainer.cc(505) LOG(INFO) EM sub_iter=0 size=14593 obj=14.7196 num_tokens=705636 num_tokens/piece=48.3544\n",
      "unigram_model_trainer.cc(505) LOG(INFO) EM sub_iter=1 size=14593 obj=14.648 num_tokens=705645 num_tokens/piece=48.355\n",
      "unigram_model_trainer.cc(505) LOG(INFO) EM sub_iter=0 size=13200 obj=14.7903 num_tokens=717765 num_tokens/piece=54.3761\n",
      "unigram_model_trainer.cc(505) LOG(INFO) EM sub_iter=1 size=13200 obj=14.7652 num_tokens=717769 num_tokens/piece=54.3764\n",
      "trainer_interface.cc(615) LOG(INFO) Saving model: naver_spm_unigram_12000.model\n",
      "trainer_interface.cc(626) LOG(INFO) Saving vocabs: naver_spm_unigram_12000.vocab\n",
      "sentencepiece_trainer.cc(177) LOG(INFO) Running command: --input=./data/temp_file.txt --model_prefix=naver_spm_bpe_4000 --vocab_size=4000 --model_type=bpe\n",
      "sentencepiece_trainer.cc(77) LOG(INFO) Starts training with : \n",
      "trainer_spec {\n",
      "  input: ./data/temp_file.txt\n",
      "  input_format: \n",
      "  model_prefix: naver_spm_bpe_4000\n",
      "  model_type: BPE\n",
      "  vocab_size: 4000\n",
      "  self_test_sample_size: 0\n",
      "  character_coverage: 0.9995\n",
      "  input_sentence_size: 0\n",
      "  shuffle_input_sentence: 1\n",
      "  seed_sentencepiece_size: 1000000\n",
      "  shrinking_factor: 0.75\n",
      "  max_sentence_length: 4192\n",
      "  num_threads: 16\n",
      "  num_sub_iterations: 2\n",
      "  max_sentencepiece_length: 16\n",
      "  split_by_unicode_script: 1\n",
      "  split_by_number: 1\n",
      "  split_by_whitespace: 1\n",
      "  split_digits: 0\n",
      "  treat_whitespace_as_suffix: 0\n",
      "  allow_whitespace_only_pieces: 0\n",
      "  required_chars: \n",
      "  byte_fallback: 0\n",
      "  vocabulary_output_piece_score: 1\n",
      "  train_extremely_large_corpus: 0\n",
      "  hard_vocab_limit: 1\n",
      "  use_all_vocab: 0\n",
      "  unk_id: 0\n",
      "  bos_id: 1\n",
      "  eos_id: 2\n",
      "  pad_id: -1\n",
      "  unk_piece: <unk>\n",
      "  bos_piece: <s>\n",
      "  eos_piece: </s>\n",
      "  pad_piece: <pad>\n",
      "  unk_surface:  ⁇ \n",
      "}\n",
      "normalizer_spec {\n",
      "  name: nmt_nfkc\n",
      "  add_dummy_prefix: 1\n",
      "  remove_extra_whitespaces: 1\n",
      "  escape_whitespaces: 1\n",
      "  normalization_rule_tsv: \n",
      "}\n",
      "denormalizer_spec {}\n",
      "trainer_interface.cc(329) LOG(INFO) SentenceIterator is not specified. Using MultiFileSentenceIterator.\n",
      "trainer_interface.cc(178) LOG(INFO) Loading corpus: ./data/temp_file.txt\n",
      "trainer_interface.cc(385) LOG(INFO) Loaded all 76908 sentences\n",
      "trainer_interface.cc(400) LOG(INFO) Adding meta_piece: <unk>\n",
      "trainer_interface.cc(400) LOG(INFO) Adding meta_piece: <s>\n",
      "trainer_interface.cc(400) LOG(INFO) Adding meta_piece: </s>\n",
      "trainer_interface.cc(405) LOG(INFO) Normalizing sentences...\n",
      "trainer_interface.cc(466) LOG(INFO) all chars count=4996369\n",
      "trainer_interface.cc(477) LOG(INFO) Done: 99.95% characters are covered.\n",
      "trainer_interface.cc(487) LOG(INFO) Alphabet size=1317\n",
      "trainer_interface.cc(488) LOG(INFO) Final character coverage=0.9995\n",
      "trainer_interface.cc(520) LOG(INFO) Done! preprocessed 76908 sentences.\n",
      "trainer_interface.cc(526) LOG(INFO) Tokenizing input sentences with whitespace: 76908\n",
      "trainer_interface.cc(537) LOG(INFO) Done! 237965\n",
      "bpe_model_trainer.cc(167) LOG(INFO) Updating active symbols. max_freq=37043 min_freq=188\n",
      "bpe_model_trainer.cc(258) LOG(INFO) Added: freq=10526 size=20 all=64102 active=6239 piece=▁가\n",
      "bpe_model_trainer.cc(258) LOG(INFO) Added: freq=7586 size=40 all=66979 active=9116 piece=▁일\n",
      "bpe_model_trainer.cc(258) LOG(INFO) Added: freq=5712 size=60 all=69013 active=11150 piece=▁하\n",
      "bpe_model_trainer.cc(258) LOG(INFO) Added: freq=4404 size=80 all=71006 active=13143 piece=▁해\n",
      "bpe_model_trainer.cc(258) LOG(INFO) Added: freq=3904 size=100 all=72666 active=14803 piece=▁결\n",
      "bpe_model_trainer.cc(167) LOG(INFO) Updating active symbols. max_freq=3872 min_freq=147\n",
      "bpe_model_trainer.cc(258) LOG(INFO) Added: freq=3422 size=120 all=74308 active=5232 piece=▁반\n",
      "bpe_model_trainer.cc(258) LOG(INFO) Added: freq=3011 size=140 all=76157 active=7081 piece=들을\n",
      "bpe_model_trainer.cc(258) LOG(INFO) Added: freq=2743 size=160 all=77986 active=8910 piece=▁에\n",
      "bpe_model_trainer.cc(258) LOG(INFO) Added: freq=2451 size=180 all=79566 active=10490 piece=한다\n",
      "bpe_model_trainer.cc(258) LOG(INFO) Added: freq=2222 size=200 all=80983 active=11907 piece=에는\n",
      "bpe_model_trainer.cc(167) LOG(INFO) Updating active symbols. max_freq=2209 min_freq=126\n",
      "bpe_model_trainer.cc(258) LOG(INFO) Added: freq=2027 size=220 all=82597 active=5345 piece=▁지역\n",
      "bpe_model_trainer.cc(258) LOG(INFO) Added: freq=1878 size=240 all=83697 active=6445 piece=▁한편\n",
      "bpe_model_trainer.cc(258) LOG(INFO) Added: freq=1732 size=260 all=85129 active=7877 piece=▁보도\n",
      "bpe_model_trainer.cc(258) LOG(INFO) Added: freq=1623 size=280 all=86544 active=9292 piece=▁관련\n",
      "bpe_model_trainer.cc(258) LOG(INFO) Added: freq=1557 size=300 all=87836 active=10584 piece=▁대통령은\n",
      "bpe_model_trainer.cc(167) LOG(INFO) Updating active symbols. max_freq=1556 min_freq=113\n",
      "bpe_model_trainer.cc(258) LOG(INFO) Added: freq=1510 size=320 all=89131 active=5686 piece=▁부시\n",
      "bpe_model_trainer.cc(258) LOG(INFO) Added: freq=1411 size=340 all=90150 active=6705 piece=▁산\n",
      "bpe_model_trainer.cc(258) LOG(INFO) Added: freq=1328 size=360 all=91505 active=8060 piece=▁계획\n",
      "bpe_model_trainer.cc(258) LOG(INFO) Added: freq=1264 size=380 all=92481 active=9036 piece=▁한다\n",
      "bpe_model_trainer.cc(258) LOG(INFO) Added: freq=1210 size=400 all=93606 active=10161 piece=▁했다\n",
      "bpe_model_trainer.cc(167) LOG(INFO) Updating active symbols. max_freq=1208 min_freq=101\n",
      "bpe_model_trainer.cc(258) LOG(INFO) Added: freq=1153 size=420 all=94570 active=5639 piece=▁토\n",
      "bpe_model_trainer.cc(258) LOG(INFO) Added: freq=1104 size=440 all=95620 active=6689 piece=▁생각\n",
      "bpe_model_trainer.cc(258) LOG(INFO) Added: freq=1050 size=460 all=96566 active=7635 piece=리스\n",
      "bpe_model_trainer.cc(258) LOG(INFO) Added: freq=993 size=480 all=97877 active=8946 piece=▁종\n",
      "bpe_model_trainer.cc(258) LOG(INFO) Added: freq=960 size=500 all=99285 active=10354 piece=▁수도\n",
      "bpe_model_trainer.cc(167) LOG(INFO) Updating active symbols. max_freq=959 min_freq=93\n",
      "bpe_model_trainer.cc(258) LOG(INFO) Added: freq=914 size=520 all=100009 active=5662 piece=▁지원\n",
      "bpe_model_trainer.cc(258) LOG(INFO) Added: freq=886 size=540 all=100963 active=6616 piece=▁채\n",
      "bpe_model_trainer.cc(258) LOG(INFO) Added: freq=863 size=560 all=101872 active=7525 piece=장이\n",
      "bpe_model_trainer.cc(258) LOG(INFO) Added: freq=835 size=580 all=102527 active=8180 piece=▁없다\n",
      "bpe_model_trainer.cc(258) LOG(INFO) Added: freq=809 size=600 all=103222 active=8875 piece=▁휴\n",
      "bpe_model_trainer.cc(167) LOG(INFO) Updating active symbols. max_freq=808 min_freq=87\n",
      "bpe_model_trainer.cc(258) LOG(INFO) Added: freq=778 size=620 all=104234 active=6140 piece=▁나타\n",
      "bpe_model_trainer.cc(258) LOG(INFO) Added: freq=758 size=640 all=105000 active=6906 piece=▁a\n",
      "bpe_model_trainer.cc(258) LOG(INFO) Added: freq=739 size=660 all=106070 active=7976 piece=▁the\n",
      "bpe_model_trainer.cc(258) LOG(INFO) Added: freq=722 size=680 all=107085 active=8991 piece=▁K\n",
      "bpe_model_trainer.cc(258) LOG(INFO) Added: freq=706 size=700 all=107900 active=9806 piece=▁폐\n",
      "bpe_model_trainer.cc(167) LOG(INFO) Updating active symbols. max_freq=705 min_freq=81\n",
      "bpe_model_trainer.cc(258) LOG(INFO) Added: freq=686 size=720 all=109102 active=6554 piece=▁각\n",
      "bpe_model_trainer.cc(258) LOG(INFO) Added: freq=664 size=740 all=109988 active=7440 piece=ing\n",
      "bpe_model_trainer.cc(258) LOG(INFO) Added: freq=651 size=760 all=111188 active=8640 piece=▁방송\n",
      "bpe_model_trainer.cc(258) LOG(INFO) Added: freq=627 size=780 all=111910 active=9362 piece=인을\n",
      "bpe_model_trainer.cc(258) LOG(INFO) Added: freq=611 size=800 all=112988 active=10440 piece=▁받아\n",
      "bpe_model_trainer.cc(167) LOG(INFO) Updating active symbols. max_freq=610 min_freq=75\n",
      "bpe_model_trainer.cc(258) LOG(INFO) Added: freq=597 size=820 all=113726 active=6364 piece=▁의회\n",
      "bpe_model_trainer.cc(258) LOG(INFO) Added: freq=584 size=840 all=114502 active=7140 piece=▁2008\n",
      "bpe_model_trainer.cc(258) LOG(INFO) Added: freq=572 size=860 all=115558 active=8196 piece=▁골\n",
      "bpe_model_trainer.cc(258) LOG(INFO) Added: freq=553 size=880 all=116451 active=9089 piece=▁승리\n",
      "bpe_model_trainer.cc(258) LOG(INFO) Added: freq=540 size=900 all=117389 active=10027 piece=▁소속\n",
      "bpe_model_trainer.cc(167) LOG(INFO) Updating active symbols. max_freq=540 min_freq=71\n",
      "bpe_model_trainer.cc(258) LOG(INFO) Added: freq=533 size=920 all=118207 active=6670 piece=▁사진\n",
      "bpe_model_trainer.cc(258) LOG(INFO) Added: freq=521 size=940 all=118926 active=7389 piece=▁24\n",
      "bpe_model_trainer.cc(258) LOG(INFO) Added: freq=508 size=960 all=119724 active=8187 piece=자들을\n",
      "bpe_model_trainer.cc(258) LOG(INFO) Added: freq=499 size=980 all=120621 active=9084 piece=▁보호\n",
      "bpe_model_trainer.cc(258) LOG(INFO) Added: freq=489 size=1000 all=121556 active=10019 piece=▁22\n",
      "bpe_model_trainer.cc(167) LOG(INFO) Updating active symbols. max_freq=489 min_freq=67\n",
      "bpe_model_trainer.cc(258) LOG(INFO) Added: freq=475 size=1020 all=122136 active=6641 piece=대의\n",
      "bpe_model_trainer.cc(258) LOG(INFO) Added: freq=461 size=1040 all=123133 active=7638 piece=▁몰\n",
      "bpe_model_trainer.cc(258) LOG(INFO) Added: freq=453 size=1060 all=123897 active=8402 piece=▁오후\n",
      "bpe_model_trainer.cc(258) LOG(INFO) Added: freq=442 size=1080 all=124582 active=9087 piece=▁선수\n",
      "bpe_model_trainer.cc(258) LOG(INFO) Added: freq=430 size=1100 all=125174 active=9679 piece=카에\n",
      "bpe_model_trainer.cc(167) LOG(INFO) Updating active symbols. max_freq=429 min_freq=63\n",
      "bpe_model_trainer.cc(258) LOG(INFO) Added: freq=423 size=1120 all=125908 active=6981 piece=▁시민\n",
      "bpe_model_trainer.cc(258) LOG(INFO) Added: freq=414 size=1140 all=126439 active=7512 piece=▁사태\n",
      "bpe_model_trainer.cc(258) LOG(INFO) Added: freq=406 size=1160 all=127264 active=8337 piece=국의\n",
      "bpe_model_trainer.cc(258) LOG(INFO) Added: freq=397 size=1180 all=128061 active=9134 piece=▁부인\n",
      "bpe_model_trainer.cc(258) LOG(INFO) Added: freq=393 size=1200 all=128731 active=9804 piece=▁백악관\n",
      "bpe_model_trainer.cc(167) LOG(INFO) Updating active symbols. max_freq=393 min_freq=61\n",
      "bpe_model_trainer.cc(258) LOG(INFO) Added: freq=388 size=1220 all=129605 active=7298 piece=▁충돌\n",
      "bpe_model_trainer.cc(258) LOG(INFO) Added: freq=384 size=1240 all=130293 active=7986 piece=▁수감\n",
      "bpe_model_trainer.cc(258) LOG(INFO) Added: freq=377 size=1260 all=130992 active=8685 piece=합니다\n",
      "bpe_model_trainer.cc(258) LOG(INFO) Added: freq=371 size=1280 all=131855 active=9548 piece=▁이상의\n",
      "bpe_model_trainer.cc(258) LOG(INFO) Added: freq=365 size=1300 all=132534 active=10227 piece=▁이전\n",
      "bpe_model_trainer.cc(167) LOG(INFO) Updating active symbols. max_freq=365 min_freq=58\n",
      "bpe_model_trainer.cc(258) LOG(INFO) Added: freq=360 size=1320 all=133153 active=7219 piece=▁사망했다\n",
      "bpe_model_trainer.cc(258) LOG(INFO) Added: freq=352 size=1340 all=133685 active=7751 piece=▁동영\n",
      "bpe_model_trainer.cc(258) LOG(INFO) Added: freq=346 size=1360 all=134204 active=8270 piece=스터\n",
      "bpe_model_trainer.cc(258) LOG(INFO) Added: freq=341 size=1380 all=134948 active=9014 piece=▁불구하고\n",
      "bpe_model_trainer.cc(258) LOG(INFO) Added: freq=335 size=1400 all=135581 active=9647 piece=▁지진\n",
      "bpe_model_trainer.cc(167) LOG(INFO) Updating active symbols. max_freq=335 min_freq=55\n",
      "bpe_model_trainer.cc(258) LOG(INFO) Added: freq=328 size=1420 all=136186 active=7363 piece=▁놀\n",
      "bpe_model_trainer.cc(258) LOG(INFO) Added: freq=324 size=1440 all=136982 active=8159 piece=후보\n",
      "bpe_model_trainer.cc(258) LOG(INFO) Added: freq=320 size=1460 all=137580 active=8757 piece=▁서비\n",
      "bpe_model_trainer.cc(258) LOG(INFO) Added: freq=314 size=1480 all=138121 active=9298 piece=us\n",
      "bpe_model_trainer.cc(258) LOG(INFO) Added: freq=310 size=1500 all=138646 active=9823 piece=지구\n",
      "bpe_model_trainer.cc(167) LOG(INFO) Updating active symbols. max_freq=310 min_freq=53\n",
      "bpe_model_trainer.cc(258) LOG(INFO) Added: freq=308 size=1520 all=139149 active=7402 piece=▁인한\n",
      "bpe_model_trainer.cc(258) LOG(INFO) Added: freq=305 size=1540 all=139874 active=8127 piece=▁계획을\n",
      "bpe_model_trainer.cc(258) LOG(INFO) Added: freq=300 size=1560 all=140342 active=8595 piece=▁이뤄\n",
      "bpe_model_trainer.cc(258) LOG(INFO) Added: freq=296 size=1580 all=140928 active=9181 piece=이를\n",
      "bpe_model_trainer.cc(258) LOG(INFO) Added: freq=291 size=1600 all=141753 active=10006 piece=차례\n",
      "bpe_model_trainer.cc(167) LOG(INFO) Updating active symbols. max_freq=291 min_freq=51\n",
      "bpe_model_trainer.cc(258) LOG(INFO) Added: freq=287 size=1620 all=142342 active=7658 piece=▁윌리\n",
      "bpe_model_trainer.cc(258) LOG(INFO) Added: freq=283 size=1640 all=143021 active=8337 piece=▁선택\n",
      "bpe_model_trainer.cc(258) LOG(INFO) Added: freq=279 size=1660 all=143853 active=9169 piece=▁한국의\n",
      "bpe_model_trainer.cc(258) LOG(INFO) Added: freq=275 size=1680 all=144262 active=9578 piece=텍사\n",
      "bpe_model_trainer.cc(258) LOG(INFO) Added: freq=272 size=1700 all=144636 active=9952 piece=▁시장\n",
      "bpe_model_trainer.cc(167) LOG(INFO) Updating active symbols. max_freq=272 min_freq=49\n",
      "bpe_model_trainer.cc(258) LOG(INFO) Added: freq=268 size=1720 all=145091 active=7650 piece=▁끌\n",
      "bpe_model_trainer.cc(258) LOG(INFO) Added: freq=264 size=1740 all=145496 active=8055 piece=ers\n",
      "bpe_model_trainer.cc(258) LOG(INFO) Added: freq=260 size=1760 all=146082 active=8641 piece=▁비상\n",
      "bpe_model_trainer.cc(258) LOG(INFO) Added: freq=256 size=1780 all=146726 active=9285 piece=▁샌\n",
      "bpe_model_trainer.cc(258) LOG(INFO) Added: freq=253 size=1800 all=147210 active=9769 piece=▁보였다\n",
      "bpe_model_trainer.cc(167) LOG(INFO) Updating active symbols. max_freq=253 min_freq=48\n",
      "bpe_model_trainer.cc(258) LOG(INFO) Added: freq=250 size=1820 all=147710 active=7859 piece=▁사업\n",
      "bpe_model_trainer.cc(258) LOG(INFO) Added: freq=246 size=1840 all=148298 active=8447 piece=군의\n",
      "bpe_model_trainer.cc(258) LOG(INFO) Added: freq=244 size=1860 all=148901 active=9050 piece=▁한나라당\n",
      "bpe_model_trainer.cc(258) LOG(INFO) Added: freq=240 size=1880 all=149555 active=9704 piece=▁따라\n",
      "bpe_model_trainer.cc(258) LOG(INFO) Added: freq=237 size=1900 all=150341 active=10490 piece=으로써\n",
      "bpe_model_trainer.cc(167) LOG(INFO) Updating active symbols. max_freq=237 min_freq=46\n",
      "bpe_model_trainer.cc(258) LOG(INFO) Added: freq=235 size=1920 all=150923 active=8056 piece=▁부모\n",
      "bpe_model_trainer.cc(258) LOG(INFO) Added: freq=233 size=1940 all=151336 active=8469 piece=▁의원은\n",
      "bpe_model_trainer.cc(258) LOG(INFO) Added: freq=229 size=1960 all=151810 active=8943 piece=▁사망자\n",
      "bpe_model_trainer.cc(258) LOG(INFO) Added: freq=226 size=1980 all=152221 active=9354 piece=▁특히\n",
      "bpe_model_trainer.cc(258) LOG(INFO) Added: freq=224 size=2000 all=152707 active=9840 piece=▁월요일\n",
      "bpe_model_trainer.cc(167) LOG(INFO) Updating active symbols. max_freq=224 min_freq=45\n",
      "bpe_model_trainer.cc(258) LOG(INFO) Added: freq=221 size=2020 all=153338 active=8254 piece=▁되어\n",
      "bpe_model_trainer.cc(258) LOG(INFO) Added: freq=218 size=2040 all=153757 active=8673 piece=im\n",
      "bpe_model_trainer.cc(258) LOG(INFO) Added: freq=216 size=2060 all=154273 active=9189 piece=소에\n",
      "bpe_model_trainer.cc(258) LOG(INFO) Added: freq=213 size=2080 all=154856 active=9772 piece=운티\n",
      "bpe_model_trainer.cc(258) LOG(INFO) Added: freq=211 size=2100 all=155287 active=10203 piece=▁서로\n",
      "bpe_model_trainer.cc(167) LOG(INFO) Updating active symbols. max_freq=211 min_freq=43\n",
      "bpe_model_trainer.cc(258) LOG(INFO) Added: freq=210 size=2120 all=155776 active=8245 piece=▁밝혀졌다\n",
      "bpe_model_trainer.cc(258) LOG(INFO) Added: freq=206 size=2140 all=156463 active=8932 piece=▁위반\n",
      "bpe_model_trainer.cc(258) LOG(INFO) Added: freq=204 size=2160 all=156912 active=9381 piece=▁동맹\n",
      "bpe_model_trainer.cc(258) LOG(INFO) Added: freq=203 size=2180 all=157599 active=10068 piece=책을\n",
      "bpe_model_trainer.cc(258) LOG(INFO) Added: freq=201 size=2200 all=158065 active=10534 piece=IA\n",
      "bpe_model_trainer.cc(167) LOG(INFO) Updating active symbols. max_freq=201 min_freq=41\n",
      "bpe_model_trainer.cc(258) LOG(INFO) Added: freq=200 size=2220 all=158689 active=8505 piece=▁시즌\n",
      "bpe_model_trainer.cc(258) LOG(INFO) Added: freq=199 size=2240 all=159178 active=8994 piece=▁프로그램을\n",
      "bpe_model_trainer.cc(258) LOG(INFO) Added: freq=197 size=2260 all=159622 active=9438 piece=▁않아\n",
      "bpe_model_trainer.cc(258) LOG(INFO) Added: freq=195 size=2280 all=160134 active=9950 piece=명으로\n",
      "bpe_model_trainer.cc(258) LOG(INFO) Added: freq=193 size=2300 all=160657 active=10473 piece=▁80\n",
      "bpe_model_trainer.cc(167) LOG(INFO) Updating active symbols. max_freq=193 min_freq=40\n",
      "bpe_model_trainer.cc(258) LOG(INFO) Added: freq=191 size=2320 all=160937 active=8303 piece=지에서\n",
      "bpe_model_trainer.cc(258) LOG(INFO) Added: freq=189 size=2340 all=161665 active=9031 piece=▁그룹\n",
      "bpe_model_trainer.cc(258) LOG(INFO) Added: freq=188 size=2360 all=162110 active=9476 piece=▁The\n",
      "bpe_model_trainer.cc(258) LOG(INFO) Added: freq=186 size=2380 all=162540 active=9906 piece=▁되고\n",
      "bpe_model_trainer.cc(258) LOG(INFO) Added: freq=184 size=2400 all=162933 active=10299 piece=니스\n",
      "bpe_model_trainer.cc(167) LOG(INFO) Updating active symbols. max_freq=184 min_freq=39\n",
      "bpe_model_trainer.cc(258) LOG(INFO) Added: freq=182 size=2420 all=163449 active=8615 piece=▁수단\n",
      "bpe_model_trainer.cc(258) LOG(INFO) Added: freq=179 size=2440 all=163807 active=8973 piece=▁경영\n",
      "bpe_model_trainer.cc(258) LOG(INFO) Added: freq=178 size=2460 all=164193 active=9359 piece=▁아직까지\n",
      "bpe_model_trainer.cc(258) LOG(INFO) Added: freq=175 size=2480 all=164562 active=9728 piece=▁l\n",
      "bpe_model_trainer.cc(258) LOG(INFO) Added: freq=174 size=2500 all=165025 active=10191 piece=▁해야\n",
      "bpe_model_trainer.cc(167) LOG(INFO) Updating active symbols. max_freq=174 min_freq=38\n",
      "bpe_model_trainer.cc(258) LOG(INFO) Added: freq=172 size=2520 all=165399 active=8617 piece=▁달러를\n",
      "bpe_model_trainer.cc(258) LOG(INFO) Added: freq=171 size=2540 all=165768 active=8986 piece=트에서\n",
      "bpe_model_trainer.cc(258) LOG(INFO) Added: freq=169 size=2560 all=166171 active=9389 piece=리로\n",
      "bpe_model_trainer.cc(258) LOG(INFO) Added: freq=168 size=2580 all=166772 active=9990 piece=▁도움을\n",
      "bpe_model_trainer.cc(258) LOG(INFO) Added: freq=166 size=2600 all=167173 active=10391 piece=▁능\n",
      "bpe_model_trainer.cc(167) LOG(INFO) Updating active symbols. max_freq=166 min_freq=37\n",
      "bpe_model_trainer.cc(258) LOG(INFO) Added: freq=165 size=2620 all=167543 active=8720 piece=▁지시\n",
      "bpe_model_trainer.cc(258) LOG(INFO) Added: freq=163 size=2640 all=167892 active=9069 piece=▁론\n",
      "bpe_model_trainer.cc(258) LOG(INFO) Added: freq=162 size=2660 all=168369 active=9546 piece=▁힘들\n",
      "bpe_model_trainer.cc(258) LOG(INFO) Added: freq=161 size=2680 all=168824 active=10001 piece=▁con\n",
      "trainer_interface.cc(615) LOG(INFO) Saving model: naver_spm_bpe_4000.model\n",
      "trainer_interface.cc(626) LOG(INFO) Saving vocabs: naver_spm_bpe_4000.vocab\n",
      "sentencepiece_trainer.cc(177) LOG(INFO) Running command: --input=./data/temp_file.txt --model_prefix=naver_spm_bpe_8000 --vocab_size=8000 --model_type=bpe\n",
      "sentencepiece_trainer.cc(77) LOG(INFO) Starts training with : \n",
      "trainer_spec {\n",
      "  input: ./data/temp_file.txt\n",
      "  input_format: \n",
      "  model_prefix: naver_spm_bpe_8000\n",
      "  model_type: BPE\n",
      "  vocab_size: 8000\n",
      "  self_test_sample_size: 0\n",
      "  character_coverage: 0.9995\n",
      "  input_sentence_size: 0\n",
      "  shuffle_input_sentence: 1\n",
      "  seed_sentencepiece_size: 1000000\n",
      "  shrinking_factor: 0.75\n",
      "  max_sentence_length: 4192\n",
      "  num_threads: 16\n",
      "  num_sub_iterations: 2\n",
      "  max_sentencepiece_length: 16\n",
      "  split_by_unicode_script: 1\n",
      "  split_by_number: 1\n",
      "  split_by_whitespace: 1\n",
      "  split_digits: 0\n",
      "  treat_whitespace_as_suffix: 0\n",
      "  allow_whitespace_only_pieces: 0\n",
      "  required_chars: \n",
      "  byte_fallback: 0\n",
      "  vocabulary_output_piece_score: 1\n",
      "  train_extremely_large_corpus: 0\n",
      "  hard_vocab_limit: 1\n",
      "  use_all_vocab: 0\n",
      "  unk_id: 0\n",
      "  bos_id: 1\n",
      "  eos_id: 2\n",
      "  pad_id: -1\n",
      "  unk_piece: <unk>\n",
      "  bos_piece: <s>\n",
      "  eos_piece: </s>\n",
      "  pad_piece: <pad>\n",
      "  unk_surface:  ⁇ \n",
      "}\n",
      "normalizer_spec {\n",
      "  name: nmt_nfkc\n",
      "  add_dummy_prefix: 1\n",
      "  remove_extra_whitespaces: 1\n",
      "  escape_whitespaces: 1\n",
      "  normalization_rule_tsv: \n",
      "}\n",
      "denormalizer_spec {}\n",
      "trainer_interface.cc(329) LOG(INFO) SentenceIterator is not specified. Using MultiFileSentenceIterator.\n",
      "trainer_interface.cc(178) LOG(INFO) Loading corpus: ./data/temp_file.txt\n",
      "trainer_interface.cc(385) LOG(INFO) Loaded all 76908 sentences\n",
      "trainer_interface.cc(400) LOG(INFO) Adding meta_piece: <unk>\n",
      "trainer_interface.cc(400) LOG(INFO) Adding meta_piece: <s>\n",
      "trainer_interface.cc(400) LOG(INFO) Adding meta_piece: </s>\n",
      "trainer_interface.cc(405) LOG(INFO) Normalizing sentences...\n",
      "trainer_interface.cc(466) LOG(INFO) all chars count=4996369\n",
      "trainer_interface.cc(477) LOG(INFO) Done: 99.95% characters are covered.\n",
      "trainer_interface.cc(487) LOG(INFO) Alphabet size=1317\n",
      "trainer_interface.cc(488) LOG(INFO) Final character coverage=0.9995\n",
      "trainer_interface.cc(520) LOG(INFO) Done! preprocessed 76908 sentences.\n",
      "trainer_interface.cc(526) LOG(INFO) Tokenizing input sentences with whitespace: 76908\n",
      "trainer_interface.cc(537) LOG(INFO) Done! 237965\n",
      "bpe_model_trainer.cc(167) LOG(INFO) Updating active symbols. max_freq=37043 min_freq=188\n",
      "bpe_model_trainer.cc(258) LOG(INFO) Added: freq=10526 size=20 all=64102 active=6239 piece=▁가\n",
      "bpe_model_trainer.cc(258) LOG(INFO) Added: freq=7586 size=40 all=66979 active=9116 piece=▁일\n",
      "bpe_model_trainer.cc(258) LOG(INFO) Added: freq=5712 size=60 all=69013 active=11150 piece=▁하\n",
      "bpe_model_trainer.cc(258) LOG(INFO) Added: freq=4404 size=80 all=71006 active=13143 piece=▁해\n",
      "bpe_model_trainer.cc(258) LOG(INFO) Added: freq=3904 size=100 all=72666 active=14803 piece=▁결\n",
      "bpe_model_trainer.cc(167) LOG(INFO) Updating active symbols. max_freq=3872 min_freq=147\n",
      "bpe_model_trainer.cc(258) LOG(INFO) Added: freq=3422 size=120 all=74308 active=5232 piece=▁반\n",
      "bpe_model_trainer.cc(258) LOG(INFO) Added: freq=3011 size=140 all=76157 active=7081 piece=들을\n",
      "bpe_model_trainer.cc(258) LOG(INFO) Added: freq=2743 size=160 all=77986 active=8910 piece=▁에\n",
      "bpe_model_trainer.cc(258) LOG(INFO) Added: freq=2451 size=180 all=79566 active=10490 piece=한다\n",
      "bpe_model_trainer.cc(258) LOG(INFO) Added: freq=2222 size=200 all=80983 active=11907 piece=에는\n",
      "bpe_model_trainer.cc(167) LOG(INFO) Updating active symbols. max_freq=2209 min_freq=126\n",
      "bpe_model_trainer.cc(258) LOG(INFO) Added: freq=2027 size=220 all=82597 active=5345 piece=▁지역\n",
      "bpe_model_trainer.cc(258) LOG(INFO) Added: freq=1878 size=240 all=83697 active=6445 piece=▁한편\n",
      "bpe_model_trainer.cc(258) LOG(INFO) Added: freq=1732 size=260 all=85129 active=7877 piece=▁보도\n",
      "bpe_model_trainer.cc(258) LOG(INFO) Added: freq=1623 size=280 all=86544 active=9292 piece=▁관련\n",
      "bpe_model_trainer.cc(258) LOG(INFO) Added: freq=1557 size=300 all=87836 active=10584 piece=▁대통령은\n",
      "bpe_model_trainer.cc(167) LOG(INFO) Updating active symbols. max_freq=1556 min_freq=113\n",
      "bpe_model_trainer.cc(258) LOG(INFO) Added: freq=1510 size=320 all=89131 active=5686 piece=▁부시\n",
      "bpe_model_trainer.cc(258) LOG(INFO) Added: freq=1411 size=340 all=90150 active=6705 piece=▁산\n",
      "bpe_model_trainer.cc(258) LOG(INFO) Added: freq=1328 size=360 all=91505 active=8060 piece=▁계획\n",
      "bpe_model_trainer.cc(258) LOG(INFO) Added: freq=1264 size=380 all=92481 active=9036 piece=▁한다\n",
      "bpe_model_trainer.cc(258) LOG(INFO) Added: freq=1210 size=400 all=93606 active=10161 piece=▁했다\n",
      "bpe_model_trainer.cc(167) LOG(INFO) Updating active symbols. max_freq=1208 min_freq=101\n",
      "bpe_model_trainer.cc(258) LOG(INFO) Added: freq=1153 size=420 all=94570 active=5639 piece=▁토\n",
      "bpe_model_trainer.cc(258) LOG(INFO) Added: freq=1104 size=440 all=95620 active=6689 piece=▁생각\n",
      "bpe_model_trainer.cc(258) LOG(INFO) Added: freq=1050 size=460 all=96566 active=7635 piece=리스\n",
      "bpe_model_trainer.cc(258) LOG(INFO) Added: freq=993 size=480 all=97877 active=8946 piece=▁종\n",
      "bpe_model_trainer.cc(258) LOG(INFO) Added: freq=960 size=500 all=99285 active=10354 piece=▁수도\n",
      "bpe_model_trainer.cc(167) LOG(INFO) Updating active symbols. max_freq=959 min_freq=93\n",
      "bpe_model_trainer.cc(258) LOG(INFO) Added: freq=914 size=520 all=100009 active=5662 piece=▁지원\n",
      "bpe_model_trainer.cc(258) LOG(INFO) Added: freq=886 size=540 all=100963 active=6616 piece=▁채\n",
      "bpe_model_trainer.cc(258) LOG(INFO) Added: freq=863 size=560 all=101872 active=7525 piece=장이\n",
      "bpe_model_trainer.cc(258) LOG(INFO) Added: freq=835 size=580 all=102527 active=8180 piece=▁없다\n",
      "bpe_model_trainer.cc(258) LOG(INFO) Added: freq=809 size=600 all=103222 active=8875 piece=▁휴\n",
      "bpe_model_trainer.cc(167) LOG(INFO) Updating active symbols. max_freq=808 min_freq=87\n",
      "bpe_model_trainer.cc(258) LOG(INFO) Added: freq=778 size=620 all=104234 active=6140 piece=▁나타\n",
      "bpe_model_trainer.cc(258) LOG(INFO) Added: freq=758 size=640 all=105000 active=6906 piece=▁a\n",
      "bpe_model_trainer.cc(258) LOG(INFO) Added: freq=739 size=660 all=106070 active=7976 piece=▁the\n",
      "bpe_model_trainer.cc(258) LOG(INFO) Added: freq=722 size=680 all=107085 active=8991 piece=▁K\n",
      "bpe_model_trainer.cc(258) LOG(INFO) Added: freq=706 size=700 all=107900 active=9806 piece=▁폐\n",
      "bpe_model_trainer.cc(167) LOG(INFO) Updating active symbols. max_freq=705 min_freq=81\n",
      "bpe_model_trainer.cc(258) LOG(INFO) Added: freq=686 size=720 all=109102 active=6554 piece=▁각\n",
      "bpe_model_trainer.cc(258) LOG(INFO) Added: freq=664 size=740 all=109988 active=7440 piece=ing\n",
      "bpe_model_trainer.cc(258) LOG(INFO) Added: freq=651 size=760 all=111188 active=8640 piece=▁방송\n",
      "bpe_model_trainer.cc(258) LOG(INFO) Added: freq=627 size=780 all=111910 active=9362 piece=인을\n",
      "bpe_model_trainer.cc(258) LOG(INFO) Added: freq=611 size=800 all=112988 active=10440 piece=▁받아\n",
      "bpe_model_trainer.cc(167) LOG(INFO) Updating active symbols. max_freq=610 min_freq=75\n",
      "bpe_model_trainer.cc(258) LOG(INFO) Added: freq=597 size=820 all=113726 active=6364 piece=▁의회\n",
      "bpe_model_trainer.cc(258) LOG(INFO) Added: freq=584 size=840 all=114502 active=7140 piece=▁2008\n",
      "bpe_model_trainer.cc(258) LOG(INFO) Added: freq=572 size=860 all=115558 active=8196 piece=▁골\n",
      "bpe_model_trainer.cc(258) LOG(INFO) Added: freq=553 size=880 all=116451 active=9089 piece=▁승리\n",
      "bpe_model_trainer.cc(258) LOG(INFO) Added: freq=540 size=900 all=117389 active=10027 piece=▁소속\n",
      "bpe_model_trainer.cc(167) LOG(INFO) Updating active symbols. max_freq=540 min_freq=71\n",
      "bpe_model_trainer.cc(258) LOG(INFO) Added: freq=533 size=920 all=118207 active=6670 piece=▁사진\n",
      "bpe_model_trainer.cc(258) LOG(INFO) Added: freq=521 size=940 all=118926 active=7389 piece=▁24\n",
      "bpe_model_trainer.cc(258) LOG(INFO) Added: freq=508 size=960 all=119724 active=8187 piece=자들을\n",
      "bpe_model_trainer.cc(258) LOG(INFO) Added: freq=499 size=980 all=120621 active=9084 piece=▁보호\n",
      "bpe_model_trainer.cc(258) LOG(INFO) Added: freq=489 size=1000 all=121556 active=10019 piece=▁22\n",
      "bpe_model_trainer.cc(167) LOG(INFO) Updating active symbols. max_fr"
     ]
    },
    {
     "ename": "KeyboardInterrupt",
     "evalue": "",
     "output_type": "error",
     "traceback": [
      "\u001b[0;31m---------------------------------------------------------------------------\u001b[0m",
      "\u001b[0;31mKeyboardInterrupt\u001b[0m                         Traceback (most recent call last)",
      "\u001b[0;32m/tmp/ipykernel_3849/3155837191.py\u001b[0m in \u001b[0;36m<module>\u001b[0;34m\u001b[0m\n\u001b[1;32m      1\u001b[0m \u001b[0;32mfor\u001b[0m \u001b[0mmodel_type\u001b[0m \u001b[0;32min\u001b[0m \u001b[0mmodel_types\u001b[0m\u001b[0;34m:\u001b[0m\u001b[0;34m\u001b[0m\u001b[0;34m\u001b[0m\u001b[0m\n\u001b[1;32m      2\u001b[0m     \u001b[0;32mfor\u001b[0m \u001b[0mvocab_size\u001b[0m \u001b[0;32min\u001b[0m \u001b[0mvocab_sizes\u001b[0m\u001b[0;34m:\u001b[0m\u001b[0;34m\u001b[0m\u001b[0;34m\u001b[0m\u001b[0m\n\u001b[0;32m----> 3\u001b[0;31m         \u001b[0msentence_piece_model\u001b[0m \u001b[0;34m=\u001b[0m \u001b[0mtrain_sentencepiece\u001b[0m\u001b[0;34m(\u001b[0m\u001b[0mfiltered_corpus\u001b[0m\u001b[0;34m,\u001b[0m \u001b[0mmodel_type\u001b[0m\u001b[0;34m,\u001b[0m \u001b[0mvocab_size\u001b[0m\u001b[0;34m)\u001b[0m\u001b[0;34m\u001b[0m\u001b[0;34m\u001b[0m\u001b[0m\n\u001b[0m\u001b[1;32m      4\u001b[0m         \u001b[0mtensor\u001b[0m\u001b[0;34m,\u001b[0m \u001b[0mword_index\u001b[0m\u001b[0;34m,\u001b[0m \u001b[0mindex_word\u001b[0m \u001b[0;34m=\u001b[0m \u001b[0msp_tokenize\u001b[0m\u001b[0;34m(\u001b[0m\u001b[0msentence_piece_model\u001b[0m\u001b[0;34m,\u001b[0m \u001b[0mfiltered_corpus\u001b[0m\u001b[0;34m)\u001b[0m\u001b[0;34m\u001b[0m\u001b[0;34m\u001b[0m\u001b[0m\n",
      "\u001b[0;32m/tmp/ipykernel_3849/3346833760.py\u001b[0m in \u001b[0;36mtrain_sentencepiece\u001b[0;34m(corpus, model_type, vocab_size, temp_file)\u001b[0m\n\u001b[1;32m      5\u001b[0m \u001b[0;34m\u001b[0m\u001b[0m\n\u001b[1;32m      6\u001b[0m     \u001b[0mmodel_prefix\u001b[0m \u001b[0;34m=\u001b[0m \u001b[0;34mf'naver_spm_{model_type}_{vocab_size}'\u001b[0m\u001b[0;34m\u001b[0m\u001b[0;34m\u001b[0m\u001b[0m\n\u001b[0;32m----> 7\u001b[0;31m     \u001b[0mspm\u001b[0m\u001b[0;34m.\u001b[0m\u001b[0mSentencePieceTrainer\u001b[0m\u001b[0;34m.\u001b[0m\u001b[0mTrain\u001b[0m\u001b[0;34m(\u001b[0m\u001b[0;34mf'--input={temp_file} --model_prefix={model_prefix} --vocab_size={vocab_size} --model_type={model_type}'\u001b[0m\u001b[0;34m)\u001b[0m\u001b[0;34m\u001b[0m\u001b[0;34m\u001b[0m\u001b[0m\n\u001b[0m\u001b[1;32m      8\u001b[0m \u001b[0;34m\u001b[0m\u001b[0m\n\u001b[1;32m      9\u001b[0m     \u001b[0ms\u001b[0m \u001b[0;34m=\u001b[0m \u001b[0mspm\u001b[0m\u001b[0;34m.\u001b[0m\u001b[0mSentencePieceProcessor\u001b[0m\u001b[0;34m(\u001b[0m\u001b[0;34m)\u001b[0m\u001b[0;34m\u001b[0m\u001b[0;34m\u001b[0m\u001b[0m\n",
      "\u001b[0;32m/opt/conda/lib/python3.9/site-packages/sentencepiece/__init__.py\u001b[0m in \u001b[0;36mTrain\u001b[0;34m(arg, **kwargs)\u001b[0m\n\u001b[1;32m    405\u001b[0m       \u001b[0;34m\"\"\"Train Sentencepiece model. Accept both kwargs and legacy string arg.\"\"\"\u001b[0m\u001b[0;34m\u001b[0m\u001b[0;34m\u001b[0m\u001b[0m\n\u001b[1;32m    406\u001b[0m       \u001b[0;32mif\u001b[0m \u001b[0marg\u001b[0m \u001b[0;32mis\u001b[0m \u001b[0;32mnot\u001b[0m \u001b[0;32mNone\u001b[0m \u001b[0;32mand\u001b[0m \u001b[0mtype\u001b[0m\u001b[0;34m(\u001b[0m\u001b[0marg\u001b[0m\u001b[0;34m)\u001b[0m \u001b[0;32mis\u001b[0m \u001b[0mstr\u001b[0m\u001b[0;34m:\u001b[0m\u001b[0;34m\u001b[0m\u001b[0;34m\u001b[0m\u001b[0m\n\u001b[0;32m--> 407\u001b[0;31m         \u001b[0;32mreturn\u001b[0m \u001b[0mSentencePieceTrainer\u001b[0m\u001b[0;34m.\u001b[0m\u001b[0m_TrainFromString\u001b[0m\u001b[0;34m(\u001b[0m\u001b[0marg\u001b[0m\u001b[0;34m)\u001b[0m\u001b[0;34m\u001b[0m\u001b[0;34m\u001b[0m\u001b[0m\n\u001b[0m\u001b[1;32m    408\u001b[0m \u001b[0;34m\u001b[0m\u001b[0m\n\u001b[1;32m    409\u001b[0m       \u001b[0;32mdef\u001b[0m \u001b[0m_encode\u001b[0m\u001b[0;34m(\u001b[0m\u001b[0mvalue\u001b[0m\u001b[0;34m)\u001b[0m\u001b[0;34m:\u001b[0m\u001b[0;34m\u001b[0m\u001b[0;34m\u001b[0m\u001b[0m\n",
      "\u001b[0;32m/opt/conda/lib/python3.9/site-packages/sentencepiece/__init__.py\u001b[0m in \u001b[0;36m_TrainFromString\u001b[0;34m(arg)\u001b[0m\n\u001b[1;32m    383\u001b[0m     \u001b[0;34m@\u001b[0m\u001b[0mstaticmethod\u001b[0m\u001b[0;34m\u001b[0m\u001b[0;34m\u001b[0m\u001b[0m\n\u001b[1;32m    384\u001b[0m     \u001b[0;32mdef\u001b[0m \u001b[0m_TrainFromString\u001b[0m\u001b[0;34m(\u001b[0m\u001b[0marg\u001b[0m\u001b[0;34m)\u001b[0m\u001b[0;34m:\u001b[0m\u001b[0;34m\u001b[0m\u001b[0;34m\u001b[0m\u001b[0m\n\u001b[0;32m--> 385\u001b[0;31m         \u001b[0;32mreturn\u001b[0m \u001b[0m_sentencepiece\u001b[0m\u001b[0;34m.\u001b[0m\u001b[0mSentencePieceTrainer__TrainFromString\u001b[0m\u001b[0;34m(\u001b[0m\u001b[0marg\u001b[0m\u001b[0;34m)\u001b[0m\u001b[0;34m\u001b[0m\u001b[0;34m\u001b[0m\u001b[0m\n\u001b[0m\u001b[1;32m    386\u001b[0m \u001b[0;34m\u001b[0m\u001b[0m\n\u001b[1;32m    387\u001b[0m     \u001b[0;34m@\u001b[0m\u001b[0mstaticmethod\u001b[0m\u001b[0;34m\u001b[0m\u001b[0;34m\u001b[0m\u001b[0m\n",
      "\u001b[0;31mKeyboardInterrupt\u001b[0m: "
     ]
    }
   ],
   "source": [
    "for model_type in model_types:\n",
    "    for vocab_size in vocab_sizes:\n",
    "        sentence_piece_model = train_sentencepiece(filtered_corpus, model_type, vocab_size)\n",
    "        tensor, word_index, index_word = sp_tokenize(sentence_piece_model, filtered_corpus)"
   ]
  },
  {
   "cell_type": "markdown",
   "id": "a7e9108b",
   "metadata": {},
   "source": [
    "<br>"
   ]
  },
  {
   "cell_type": "markdown",
   "id": "a845000c",
   "metadata": {},
   "source": [
    "##### model type 및 어휘 크기별 성능(accuracy) 비교\n",
    "<br>"
   ]
  },
  {
   "cell_type": "code",
   "execution_count": 133,
   "id": "818ef454",
   "metadata": {},
   "outputs": [],
   "source": [
    "def evaluate_model(model_type, vocab_size, text, ground_truth_tokens):\n",
    "    model_name = f'naver_spm_{model_type}_{vocab_size}.model'\n",
    "    s = spm.SentencePieceProcessor()\n",
    "    s.Load(model_name)\n",
    "\n",
    "    tokens = s.SampleEncodeAsPieces(text, 1, 0.0)\n",
    "    matching_tokens = sum(1 for token in ground_truth_tokens if token in tokens)\n",
    "    accuracy = matching_tokens / len(ground_truth_tokens)\n",
    "    print(f'[SentencePiece: model_type={model_type}, vocab_size={vocab_size}] Accuracy: {accuracy * 100:.2f}%')"
   ]
  },
  {
   "cell_type": "code",
   "execution_count": 134,
   "id": "c310b9d1",
   "metadata": {},
   "outputs": [],
   "source": [
    "model_types = ['bpe', 'unigram']\n",
    "vocab_sizes = [4000, 8000, 16000]"
   ]
  },
  {
   "cell_type": "code",
   "execution_count": 135,
   "id": "079f3238",
   "metadata": {},
   "outputs": [],
   "source": [
    "text = 'Google에서 제공하는 학습된 SentencePiece 모델의 토크나이저와 KoNLPy 형태소 분석기를 사용한 모델 중 어떤 게 더 성능이 좋은지 비교해봅시다.'\n",
    "ground_truth_tokens = ['Google', '에서', '제공', '하', '는', '학습', '된', 'SentencePiece', '모델', '의', '토크나이저', '와', 'KoNLPy', '형태소', '분석기', '를', '사용', '한', '모델', '중', '어떤', '게', '더', '성능', '이', '좋', '은', '지', '비교', '해', '봅', '시', '다', '.']"
   ]
  },
  {
   "cell_type": "code",
   "execution_count": 136,
   "id": "1c758d1f",
   "metadata": {},
   "outputs": [
    {
     "name": "stdout",
     "output_type": "stream",
     "text": [
      "[SentencePiece: model_type=bpe, vocab_size=4000] Accuracy: 35.29%\n",
      "[SentencePiece: model_type=bpe, vocab_size=8000] Accuracy: 32.35%\n",
      "[SentencePiece: model_type=bpe, vocab_size=16000] Accuracy: 23.53%\n",
      "[SentencePiece: model_type=unigram, vocab_size=4000] Accuracy: 35.29%\n",
      "[SentencePiece: model_type=unigram, vocab_size=8000] Accuracy: 32.35%\n",
      "[SentencePiece: model_type=unigram, vocab_size=16000] Accuracy: 32.35%\n"
     ]
    }
   ],
   "source": [
    "for model_type in model_types:\n",
    "    for vocab_size in vocab_sizes:\n",
    "        evaluate_model(model_type, vocab_size, text, ground_truth_tokens)"
   ]
  },
  {
   "cell_type": "markdown",
   "id": "59678417",
   "metadata": {},
   "source": [
    "<br><br>"
   ]
  },
  {
   "cell_type": "markdown",
   "id": "b31e0479",
   "metadata": {},
   "source": [
    "### 루브릭 평가문항에 따른 추가 코드 작성\n",
    "<br>"
   ]
  },
  {
   "cell_type": "markdown",
   "id": "1739f6f2",
   "metadata": {},
   "source": [
    "#### SentencePiece 토크나이저가 적용된 Text Classfier 모델 학습 및 결과 확인\n",
    "<br>"
   ]
  },
  {
   "cell_type": "code",
   "execution_count": 148,
   "id": "8bcc055c",
   "metadata": {},
   "outputs": [],
   "source": [
    "def sp_tokenize(s, corpus, spm):\n",
    "\n",
    "    tensor = []\n",
    "\n",
    "    for sen in corpus:\n",
    "        sen = str(sen)  # 문자열로 변환\n",
    "        tensor.append(s.EncodeAsIds(sen))\n",
    "\n",
    "    with open(\"./{}.vocab\".format(spm), 'r') as f: \n",
    "        vocab = f.readlines()\n",
    "\n",
    "    word_index = {}\n",
    "    index_word = {}\n",
    "\n",
    "    for idx, line in enumerate(vocab):\n",
    "        word = line.split(\"\\t\")[0]\n",
    "\n",
    "        word_index.update({idx:word})\n",
    "        index_word.update({word:idx})\n",
    "\n",
    "    tensor = tf.keras.preprocessing.sequence.pad_sequences(tensor, padding='pre', maxlen=max_len)\n",
    "\n",
    "    return tensor, word_index, index_word"
   ]
  },
  {
   "cell_type": "code",
   "execution_count": 149,
   "id": "ad692576",
   "metadata": {},
   "outputs": [],
   "source": [
    "tensor, word_index, index_word = sp_tokenize(s, train_data['label'], 'naver_spm')"
   ]
  },
  {
   "cell_type": "code",
   "execution_count": 150,
   "id": "4b785100",
   "metadata": {},
   "outputs": [],
   "source": [
    "from sklearn.model_selection import train_test_split\n",
    "\n",
    "filtered_label = np.array(train_data['label'])\n",
    "\n",
    "# train: 70%, val: 15%, test: 15%\n",
    "x_train, x_temp, y_train, y_temp = train_test_split(tensor, filtered_label, test_size=0.3, random_state=42)\n",
    "x_val, x_test, y_val, y_test = train_test_split(x_temp, y_temp, test_size=0.5, random_state=42)"
   ]
  },
  {
   "cell_type": "code",
   "execution_count": 151,
   "id": "466b0f20",
   "metadata": {},
   "outputs": [
    {
     "name": "stdout",
     "output_type": "stream",
     "text": [
      "105000 22500 22500\n",
      "105000 22500 22500\n"
     ]
    }
   ],
   "source": [
    "print(len(x_train), len(x_test), len(x_val))\n",
    "print(len(y_train), len(y_test), len(y_val))"
   ]
  },
  {
   "cell_type": "markdown",
   "id": "0d56809b",
   "metadata": {},
   "source": [
    "<br>"
   ]
  },
  {
   "cell_type": "code",
   "execution_count": 169,
   "id": "e8dffb1f",
   "metadata": {},
   "outputs": [],
   "source": [
    "from tensorflow import keras\n",
    "from tensorflow.keras.initializers import Constant\n",
    "\n",
    "vocab_size = vocab_size\n",
    "word_vector_dim = 32  \n",
    "\n",
    "model_LSTM = keras.Sequential()\n",
    "model_LSTM.add(keras.layers.Embedding(vocab_size, word_vector_dim))         \n",
    "model_LSTM.add(keras.layers.LSTM(128))\n",
    "model_LSTM.add(keras.layers.Dense(1, activation='sigmoid'))  # 최종 출력은 긍정/부정을 나타내는 1dim 입니다."
   ]
  },
  {
   "cell_type": "code",
   "execution_count": 170,
   "id": "d150fba7",
   "metadata": {},
   "outputs": [
    {
     "name": "stdout",
     "output_type": "stream",
     "text": [
      "Model: \"sequential_3\"\n",
      "_________________________________________________________________\n",
      "Layer (type)                 Output Shape              Param #   \n",
      "=================================================================\n",
      "embedding_3 (Embedding)      (None, None, 32)          256000    \n",
      "_________________________________________________________________\n",
      "lstm_3 (LSTM)                (None, 128)               82432     \n",
      "_________________________________________________________________\n",
      "dense_3 (Dense)              (None, 1)                 129       \n",
      "=================================================================\n",
      "Total params: 338,561\n",
      "Trainable params: 338,561\n",
      "Non-trainable params: 0\n",
      "_________________________________________________________________\n"
     ]
    }
   ],
   "source": [
    "model_LSTM.summary()"
   ]
  },
  {
   "cell_type": "markdown",
   "id": "a11a1d3f",
   "metadata": {},
   "source": [
    "<br>"
   ]
  },
  {
   "cell_type": "code",
   "execution_count": 171,
   "id": "46dd5ccb",
   "metadata": {},
   "outputs": [],
   "source": [
    "es = keras.callbacks.EarlyStopping(monitor='val_loss', mode='min', verbose=1, patience=2)"
   ]
  },
  {
   "cell_type": "code",
   "execution_count": 172,
   "id": "846eaa72",
   "metadata": {},
   "outputs": [],
   "source": [
    "model_LSTM.compile(\n",
    "    optimizer='adam',\n",
    "    loss='binary_crossentropy',\n",
    "    metrics=['accuracy']\n",
    ")"
   ]
  },
  {
   "cell_type": "code",
   "execution_count": 173,
   "id": "dab4f052",
   "metadata": {},
   "outputs": [
    {
     "name": "stdout",
     "output_type": "stream",
     "text": [
      "Epoch 1/15\n",
      "3282/3282 [==============================] - 28s 8ms/step - loss: 0.0112 - accuracy: 0.9993 - val_loss: 6.8493e-06 - val_accuracy: 1.0000\n",
      "Epoch 2/15\n",
      "3282/3282 [==============================] - 26s 8ms/step - loss: 2.7887e-06 - accuracy: 1.0000 - val_loss: 8.8857e-07 - val_accuracy: 1.0000\n",
      "Epoch 3/15\n",
      "3282/3282 [==============================] - 26s 8ms/step - loss: 4.1653e-07 - accuracy: 1.0000 - val_loss: 1.5659e-07 - val_accuracy: 1.0000\n",
      "Epoch 4/15\n",
      "3282/3282 [==============================] - 26s 8ms/step - loss: 7.7575e-08 - accuracy: 1.0000 - val_loss: 2.9278e-08 - val_accuracy: 1.0000\n",
      "Epoch 5/15\n",
      "3282/3282 [==============================] - 26s 8ms/step - loss: 2.0593e-08 - accuracy: 1.0000 - val_loss: 1.6839e-08 - val_accuracy: 1.0000\n",
      "Epoch 6/15\n",
      "3282/3282 [==============================] - 26s 8ms/step - loss: 1.5726e-08 - accuracy: 1.0000 - val_loss: 1.5274e-08 - val_accuracy: 1.0000\n",
      "Epoch 7/15\n",
      "3282/3282 [==============================] - 26s 8ms/step - loss: 1.4495e-08 - accuracy: 1.0000 - val_loss: 1.4513e-08 - val_accuracy: 1.0000\n",
      "Epoch 8/15\n",
      "3282/3282 [==============================] - 26s 8ms/step - loss: 1.3898e-08 - accuracy: 1.0000 - val_loss: 1.3206e-08 - val_accuracy: 1.0000\n",
      "Epoch 9/15\n",
      "3282/3282 [==============================] - 26s 8ms/step - loss: 1.3771e-08 - accuracy: 1.0000 - val_loss: 1.3045e-08 - val_accuracy: 1.0000\n",
      "Epoch 10/15\n",
      "3282/3282 [==============================] - 26s 8ms/step - loss: 1.3653e-08 - accuracy: 1.0000 - val_loss: 1.1908e-08 - val_accuracy: 1.0000\n",
      "Epoch 11/15\n",
      "3282/3282 [==============================] - 26s 8ms/step - loss: 1.3204e-08 - accuracy: 1.0000 - val_loss: 1.2465e-08 - val_accuracy: 1.0000\n",
      "Epoch 12/15\n",
      "3282/3282 [==============================] - 26s 8ms/step - loss: 1.3360e-08 - accuracy: 1.0000 - val_loss: 1.2302e-08 - val_accuracy: 1.0000\n",
      "Epoch 00012: early stopping\n"
     ]
    }
   ],
   "source": [
    "history_LSTM = model_LSTM.fit(\n",
    "    x_train, y_train,   \n",
    "    validation_data=(x_val,y_val),\n",
    "    epochs=15,\n",
    "    batch_size=32,       \n",
    "    verbose=1,\n",
    "    callbacks=es\n",
    ")"
   ]
  },
  {
   "cell_type": "markdown",
   "id": "43737b57",
   "metadata": {},
   "source": [
    "<br>"
   ]
  },
  {
   "cell_type": "code",
   "execution_count": 174,
   "id": "6a7c835a",
   "metadata": {},
   "outputs": [
    {
     "data": {
      "image/png": "[encoded data removed]",
      "text/plain": [
       "<Figure size 432x288 with 1 Axes>"
      ]
     },
     "metadata": {
      "needs_background": "light"
     },
     "output_type": "display_data"
    }
   ],
   "source": [
    "plt.plot(history_LSTM.history['loss'])\n",
    "plt.plot(history_LSTM.history['val_loss'])\n",
    "plt.title('Loss')\n",
    "plt.ylabel('loss')\n",
    "plt.xlabel('epoch')\n",
    "plt.legend(['train', 'val'], loc='upper left')\n",
    "plt.show()"
   ]
  },
  {
   "cell_type": "markdown",
   "id": "09a91f9e",
   "metadata": {},
   "source": [
    "<br>"
   ]
  },
  {
   "cell_type": "code",
   "execution_count": 175,
   "id": "7deb1d32",
   "metadata": {},
   "outputs": [
    {
     "name": "stdout",
     "output_type": "stream",
     "text": [
      "704/704 - 2s - loss: 1.2240e-08 - accuracy: 1.0000\n",
      "spm acc: 100.0 %\n"
     ]
    }
   ],
   "source": [
    "results = model_LSTM.evaluate(x_test,  y_test, verbose=2)\n",
    "print('spm acc:', round(results[1] * 100,2), '%' )"
   ]
  },
  {
   "cell_type": "markdown",
   "id": "31df52a3",
   "metadata": {},
   "source": [
    "<br>"
   ]
  },
  {
   "cell_type": "markdown",
   "id": "084578b9",
   "metadata": {},
   "source": [
    "#### 결과\n",
    "SentencePiece 토크나이저가 적용된 Text Classifier 모델이 정상적으로 수렴하여 80% 이상의 test accuracy를 보임을 확인할 수 있다."
   ]
  }
 ],
 "metadata": {
  "kernelspec": {
   "display_name": "Python 3 (ipykernel)",
   "language": "python",
   "name": "python3"
  },
  "language_info": {
   "codemirror_mode": {
    "name": "ipython",
    "version": 3
   },
   "file_extension": ".py",
   "mimetype": "text/x-python",
   "name": "python",
   "nbconvert_exporter": "python",
   "pygments_lexer": "ipython3",
   "version": "3.9.7"
  }
 },
 "nbformat": 4,
 "nbformat_minor": 5
}
