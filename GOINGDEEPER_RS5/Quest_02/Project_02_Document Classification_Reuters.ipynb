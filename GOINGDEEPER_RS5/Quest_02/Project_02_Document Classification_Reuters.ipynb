{
 "cells": [
  {
   "cell_type": "markdown",
   "id": "4894815e",
   "metadata": {},
   "source": [
    "# 6. 뉴스 카테고리 다중분류 [프로젝트]\n",
    "<br>"
   ]
  },
  {
   "cell_type": "markdown",
   "id": "2b500b37",
   "metadata": {},
   "source": [
    "## 6-1. 프로젝트: Vocabulary Size를 변경해서 시도해보기\n",
    "<br>"
   ]
  },
  {
   "cell_type": "markdown",
   "id": "4bbc4f5e",
   "metadata": {},
   "source": [
    "#### 라이브러리 import 및 버전 확인\n",
    "<br>"
   ]
  },
  {
   "cell_type": "code",
   "execution_count": 29,
   "id": "a1c849d8",
   "metadata": {},
   "outputs": [],
   "source": [
    "from tensorflow.keras.datasets import reuters\n",
    "import matplotlib.pyplot as plt\n",
    "import seaborn as sns\n",
    "import numpy as np\n",
    "import pandas as pd\n",
    "import tensorflow as tf\n",
    "import sklearn"
   ]
  },
  {
   "cell_type": "code",
   "execution_count": 31,
   "id": "3ea625c9",
   "metadata": {},
   "outputs": [
    {
     "name": "stdout",
     "output_type": "stream",
     "text": [
      "2.6.0\n",
      "3.4.3\n",
      "0.11.2\n",
      "1.21.4\n",
      "1.3.3\n",
      "1.0\n"
     ]
    }
   ],
   "source": [
    "print(tf.__version__)\n",
    "print(plt.matplotlib.__version__)\n",
    "print(sns.__version__)\n",
    "print(np.__version__)\n",
    "print(pd.__version__)\n",
    "print(sklearn.__version__)"
   ]
  },
  {
   "cell_type": "markdown",
   "id": "b965dc7a",
   "metadata": {},
   "source": [
    "<br><br>"
   ]
  },
  {
   "cell_type": "markdown",
   "id": "560d274b",
   "metadata": {},
   "source": [
    "### 1. 모든 단어 사용\n",
    "<br>"
   ]
  },
  {
   "cell_type": "markdown",
   "id": "2945043f",
   "metadata": {},
   "source": [
    "#### 훈련 및 테스트 데이터(로이터 뉴스) 로드하기\n",
    "<br>"
   ]
  },
  {
   "cell_type": "code",
   "execution_count": 32,
   "id": "23fdc6e9",
   "metadata": {},
   "outputs": [
    {
     "name": "stdout",
     "output_type": "stream",
     "text": [
      "Downloading data from https://storage.googleapis.com/tensorflow/tf-keras-datasets/reuters.npz\n",
      "2113536/2110848 [==============================] - 0s 0us/step\n",
      "2121728/2110848 [==============================] - 0s 0us/step\n"
     ]
    }
   ],
   "source": [
    "(x_train, y_train), (x_test, y_test) = reuters.load_data(num_words=None, test_split=0.2)"
   ]
  },
  {
   "cell_type": "code",
   "execution_count": 33,
   "id": "f865f4d0",
   "metadata": {},
   "outputs": [
    {
     "name": "stdout",
     "output_type": "stream",
     "text": [
      "훈련 샘플의 수: 8982\n",
      "테스트 샘플의 수: 2246\n"
     ]
    }
   ],
   "source": [
    "print('훈련 샘플의 수: {}'.format(len(x_train)))\n",
    "print('테스트 샘플의 수: {}'.format(len(x_test)))"
   ]
  },
  {
   "cell_type": "code",
   "execution_count": 34,
   "id": "5c4a47d6",
   "metadata": {},
   "outputs": [
    {
     "name": "stdout",
     "output_type": "stream",
     "text": [
      "클래스의 수 : 46\n"
     ]
    }
   ],
   "source": [
    "num_classes = max(y_train) + 1\n",
    "print('클래스의 수 : {}'.format(num_classes))"
   ]
  },
  {
   "cell_type": "markdown",
   "id": "7aba8b91",
   "metadata": {},
   "source": [
    "<br><br>"
   ]
  },
  {
   "cell_type": "markdown",
   "id": "12fa76ab",
   "metadata": {},
   "source": [
    "#### 데이터 분포 확인해보기\n",
    "<br>"
   ]
  },
  {
   "cell_type": "code",
   "execution_count": 35,
   "id": "94d02d6a",
   "metadata": {},
   "outputs": [],
   "source": [
    "# 뉴스 데이터의 길이 분포 확인"
   ]
  },
  {
   "cell_type": "code",
   "execution_count": 36,
   "id": "cae48a56",
   "metadata": {},
   "outputs": [
    {
     "name": "stdout",
     "output_type": "stream",
     "text": [
      "훈련용 뉴스의 최대 길이 :2376\n",
      "훈련용 뉴스의 평균 길이 :145.5398574927633\n"
     ]
    }
   ],
   "source": [
    "print('훈련용 뉴스의 최대 길이 :{}'.format(max(len(l) for l in x_train)))\n",
    "print('훈련용 뉴스의 평균 길이 :{}'.format(sum(map(len, x_train))/len(x_train)))"
   ]
  },
  {
   "cell_type": "code",
   "execution_count": 37,
   "id": "68651df6",
   "metadata": {},
   "outputs": [
    {
     "data": {
      "image/png": "[encoded data removed]",
      "text/plain": [
       "<Figure size 432x288 with 1 Axes>"
      ]
     },
     "metadata": {
      "needs_background": "light"
     },
     "output_type": "display_data"
    }
   ],
   "source": [
    "plt.hist([len(s) for s in x_train], bins=50)\n",
    "plt.xlabel('length of samples')\n",
    "plt.ylabel('number of samples')\n",
    "plt.show()"
   ]
  },
  {
   "cell_type": "markdown",
   "id": "963fe62d",
   "metadata": {},
   "source": [
    "<br>"
   ]
  },
  {
   "cell_type": "code",
   "execution_count": 38,
   "id": "06206f88",
   "metadata": {},
   "outputs": [],
   "source": [
    "# 클래스 분포 확인"
   ]
  },
  {
   "cell_type": "code",
   "execution_count": 39,
   "id": "03ddb3d7",
   "metadata": {},
   "outputs": [
    {
     "data": {
      "image/png": "[encoded data removed]",
      "text/plain": [
       "<Figure size 792x360 with 1 Axes>"
      ]
     },
     "metadata": {
      "needs_background": "light"
     },
     "output_type": "display_data"
    }
   ],
   "source": [
    "fig, axe = plt.subplots(ncols=1)\n",
    "fig.set_size_inches(11,5)\n",
    "sns.countplot(x=y_train)\n",
    "plt.show()"
   ]
  },
  {
   "cell_type": "markdown",
   "id": "21730ff7",
   "metadata": {},
   "source": [
    "<br>"
   ]
  },
  {
   "cell_type": "markdown",
   "id": "3c08534b",
   "metadata": {},
   "source": [
    "#### 원본 뉴스 데이터로 복원\n",
    "<br>"
   ]
  },
  {
   "cell_type": "code",
   "execution_count": 40,
   "id": "c6b22f9a",
   "metadata": {},
   "outputs": [
    {
     "name": "stdout",
     "output_type": "stream",
     "text": [
      "Downloading data from https://storage.googleapis.com/tensorflow/tf-keras-datasets/reuters_word_index.json\n",
      "557056/550378 [==============================] - 0s 0us/step\n",
      "565248/550378 [==============================] - 0s 0us/step\n"
     ]
    }
   ],
   "source": [
    "word_index = reuters.get_word_index(path=\"reuters_word_index.json\")"
   ]
  },
  {
   "cell_type": "code",
   "execution_count": 41,
   "id": "9d0b2697",
   "metadata": {},
   "outputs": [],
   "source": [
    "index_to_word = { index+3 : word for word, index in word_index.items() }"
   ]
  },
  {
   "cell_type": "code",
   "execution_count": 42,
   "id": "245f42eb",
   "metadata": {},
   "outputs": [],
   "source": [
    "# index_to_word에 숫자 0은 <pad>, 숫자 1은 <sos>, 숫자 2는 <unk>를 넣어줌.\n",
    "for index, token in enumerate((\"<pad>\", \"<sos>\", \"<unk>\")):\n",
    "  index_to_word[index]=token"
   ]
  },
  {
   "cell_type": "markdown",
   "id": "79ef67b2",
   "metadata": {},
   "source": [
    "<br>"
   ]
  },
  {
   "cell_type": "code",
   "execution_count": 43,
   "id": "553bee16",
   "metadata": {},
   "outputs": [],
   "source": [
    "# index_to_word를 통해서 첫 번째 훈련용 뉴스 기사를 원래 텍스트로 복원해보기"
   ]
  },
  {
   "cell_type": "code",
   "execution_count": 44,
   "id": "71e78b4f",
   "metadata": {},
   "outputs": [
    {
     "name": "stdout",
     "output_type": "stream",
     "text": [
      "<sos> mcgrath rentcorp said as a result of its december acquisition of space co it expects earnings per share in 1987 of 1 15 to 1 30 dlrs per share up from 70 cts in 1986 the company said pretax net should rise to nine to 10 mln dlrs from six mln dlrs in 1986 and rental operation revenues to 19 to 22 mln dlrs from 12 5 mln dlrs it said cash flow per share this year should be 2 50 to three dlrs reuter 3\n"
     ]
    }
   ],
   "source": [
    "print(' '.join([index_to_word[index] for index in x_train[0]]))"
   ]
  },
  {
   "cell_type": "markdown",
   "id": "0e823fa5",
   "metadata": {},
   "source": [
    "<br>"
   ]
  },
  {
   "cell_type": "code",
   "execution_count": 45,
   "id": "d461fcca",
   "metadata": {},
   "outputs": [],
   "source": [
    "# 전체 훈련용 뉴스 데이터와 전체 테스트용 뉴스 데이터를 텍스트 데이터로 변환"
   ]
  },
  {
   "cell_type": "code",
   "execution_count": 46,
   "id": "8be6435b",
   "metadata": {},
   "outputs": [],
   "source": [
    "decoded = []\n",
    "for i in range(len(x_train)):\n",
    "    t = ' '.join([index_to_word[index] for index in x_train[i]])\n",
    "    decoded.append(t)"
   ]
  },
  {
   "cell_type": "code",
   "execution_count": 47,
   "id": "5dacce0d",
   "metadata": {},
   "outputs": [
    {
     "name": "stdout",
     "output_type": "stream",
     "text": [
      "8982\n"
     ]
    }
   ],
   "source": [
    "x_train = decoded  # train 데이터 변환\n",
    "print(len(x_train))"
   ]
  },
  {
   "cell_type": "code",
   "execution_count": 48,
   "id": "320be183",
   "metadata": {},
   "outputs": [],
   "source": [
    "decoded = []\n",
    "for i in range(len(x_test)):\n",
    "    t = ' '.join([index_to_word[index] for index in x_test[i]])\n",
    "    decoded.append(t)"
   ]
  },
  {
   "cell_type": "code",
   "execution_count": 49,
   "id": "2394b8d5",
   "metadata": {},
   "outputs": [
    {
     "name": "stdout",
     "output_type": "stream",
     "text": [
      "2246\n"
     ]
    }
   ],
   "source": [
    "x_test = decoded  # test 데이터 변환\n",
    "print(len(x_test))"
   ]
  },
  {
   "cell_type": "markdown",
   "id": "b939ace9",
   "metadata": {},
   "source": [
    "<br><br>"
   ]
  },
  {
   "cell_type": "markdown",
   "id": "8f0639df",
   "metadata": {},
   "source": [
    "#### 벡터화하기\n",
    "<br>"
   ]
  },
  {
   "cell_type": "code",
   "execution_count": 50,
   "id": "5ad8645d",
   "metadata": {},
   "outputs": [],
   "source": [
    "from sklearn.feature_extraction.text import CountVectorizer\n",
    "from sklearn.feature_extraction.text import TfidfTransformer"
   ]
  },
  {
   "cell_type": "markdown",
   "id": "5ccece84",
   "metadata": {},
   "source": [
    "##### DTM 생성"
   ]
  },
  {
   "cell_type": "code",
   "execution_count": 51,
   "id": "429e3ef0",
   "metadata": {},
   "outputs": [],
   "source": [
    "dtmvector = CountVectorizer()\n",
    "x_train_dtm = dtmvector.fit_transform(x_train)"
   ]
  },
  {
   "cell_type": "code",
   "execution_count": 52,
   "id": "20296701",
   "metadata": {},
   "outputs": [
    {
     "name": "stdout",
     "output_type": "stream",
     "text": [
      "(8982, 26506)\n"
     ]
    }
   ],
   "source": [
    "print(x_train_dtm.shape)"
   ]
  },
  {
   "cell_type": "markdown",
   "id": "951d739a",
   "metadata": {},
   "source": [
    "##### TF-IDF 생성"
   ]
  },
  {
   "cell_type": "code",
   "execution_count": 53,
   "id": "b98da12e",
   "metadata": {},
   "outputs": [],
   "source": [
    "tfidf_transformer = TfidfTransformer()\n",
    "tfidfv = tfidf_transformer.fit_transform(x_train_dtm)"
   ]
  },
  {
   "cell_type": "code",
   "execution_count": 54,
   "id": "168ecbab",
   "metadata": {},
   "outputs": [
    {
     "name": "stdout",
     "output_type": "stream",
     "text": [
      "(8982, 26506)\n"
     ]
    }
   ],
   "source": [
    "print(tfidfv.shape)"
   ]
  },
  {
   "cell_type": "markdown",
   "id": "fcf0b220",
   "metadata": {},
   "source": [
    "<br><br>"
   ]
  },
  {
   "cell_type": "markdown",
   "id": "aef98324",
   "metadata": {},
   "source": [
    "#### 머신러닝 모델 학습 및 예측\n",
    "<br>"
   ]
  },
  {
   "cell_type": "code",
   "execution_count": 55,
   "id": "6114c82f",
   "metadata": {},
   "outputs": [],
   "source": [
    "from sklearn.naive_bayes import MultinomialNB  \n",
    "from sklearn.linear_model import LogisticRegression, SGDClassifier\n",
    "from sklearn.naive_bayes import ComplementNB\n",
    "from sklearn.tree import DecisionTreeClassifier\n",
    "from sklearn.ensemble import RandomForestClassifier\n",
    "from sklearn.ensemble import GradientBoostingClassifier\n",
    "from sklearn.ensemble import VotingClassifier\n",
    "from sklearn.svm import LinearSVC\n",
    "from sklearn.metrics import accuracy_score  "
   ]
  },
  {
   "cell_type": "code",
   "execution_count": 56,
   "id": "f6d30ff6",
   "metadata": {},
   "outputs": [],
   "source": [
    "from sklearn.metrics import classification_report\n",
    "from sklearn.metrics import confusion_matrix"
   ]
  },
  {
   "cell_type": "markdown",
   "id": "0828e32b",
   "metadata": {},
   "source": [
    "<br>"
   ]
  },
  {
   "cell_type": "code",
   "execution_count": 57,
   "id": "ac6df036",
   "metadata": {},
   "outputs": [],
   "source": [
    "# 테스트 데이터에 대한 정확도를 측정하기 위해 테스트 데이터를 TF-IDF 행렬로 변환"
   ]
  },
  {
   "cell_type": "code",
   "execution_count": 58,
   "id": "ac3f6863",
   "metadata": {},
   "outputs": [],
   "source": [
    "x_test_dtm = dtmvector.transform(x_test)              # 테스트 데이터를 DTM으로 변환\n",
    "tfidfv_test = tfidf_transformer.transform(x_test_dtm) # DTM을 TF-IDF 행렬로 변환"
   ]
  },
  {
   "cell_type": "markdown",
   "id": "19896e25",
   "metadata": {},
   "source": [
    "<br>"
   ]
  },
  {
   "cell_type": "markdown",
   "id": "4311e364",
   "metadata": {},
   "source": [
    "##### 나이브 베이즈 분류기"
   ]
  },
  {
   "cell_type": "code",
   "execution_count": 59,
   "id": "9e74c9c1",
   "metadata": {},
   "outputs": [
    {
     "data": {
      "text/plain": [
       "MultinomialNB()"
      ]
     },
     "execution_count": 59,
     "metadata": {},
     "output_type": "execute_result"
    }
   ],
   "source": [
    "model_nb = MultinomialNB()\n",
    "model_nb.fit(tfidfv, y_train)"
   ]
  },
  {
   "cell_type": "code",
   "execution_count": 60,
   "id": "a8b15d08",
   "metadata": {},
   "outputs": [
    {
     "name": "stdout",
     "output_type": "stream",
     "text": [
      "정확도: 0.5997328584149599\n"
     ]
    }
   ],
   "source": [
    "predicted = model_nb.predict(tfidfv_test)            # 테스트 데이터에 대한 예측\n",
    "print(\"정확도:\", accuracy_score(y_test, predicted))  # 예측값과 실제값 비교"
   ]
  },
  {
   "cell_type": "markdown",
   "id": "4c251c49",
   "metadata": {},
   "source": [
    "##### Complement Naive Bayes Classifier(CNB)"
   ]
  },
  {
   "cell_type": "code",
   "execution_count": 61,
   "id": "6754dae1",
   "metadata": {},
   "outputs": [
    {
     "data": {
      "text/plain": [
       "ComplementNB()"
      ]
     },
     "execution_count": 61,
     "metadata": {},
     "output_type": "execute_result"
    }
   ],
   "source": [
    "model_cnb = ComplementNB()\n",
    "model_cnb.fit(tfidfv, y_train)"
   ]
  },
  {
   "cell_type": "code",
   "execution_count": 62,
   "id": "27f588b8",
   "metadata": {},
   "outputs": [
    {
     "name": "stdout",
     "output_type": "stream",
     "text": [
      "정확도: 0.7649154051647373\n"
     ]
    }
   ],
   "source": [
    "predicted = model_cnb.predict(tfidfv_test)           \n",
    "print(\"정확도:\", accuracy_score(y_test, predicted))  "
   ]
  },
  {
   "cell_type": "markdown",
   "id": "623f9d49",
   "metadata": {},
   "source": [
    "##### 로지스틱 회귀(Logistic Regression)"
   ]
  },
  {
   "cell_type": "code",
   "execution_count": 63,
   "id": "993290fb",
   "metadata": {},
   "outputs": [
    {
     "data": {
      "text/plain": [
       "LogisticRegression(C=10000, max_iter=3000)"
      ]
     },
     "execution_count": 63,
     "metadata": {},
     "output_type": "execute_result"
    }
   ],
   "source": [
    "model_lr = LogisticRegression(C=10000, penalty='l2', max_iter=3000)\n",
    "model_lr.fit(tfidfv, y_train)  # 10분 정도 소요됨."
   ]
  },
  {
   "cell_type": "code",
   "execution_count": 64,
   "id": "0705ccb9",
   "metadata": {},
   "outputs": [
    {
     "name": "stdout",
     "output_type": "stream",
     "text": [
      "정확도: 0.8165627782724845\n"
     ]
    }
   ],
   "source": [
    "predicted = model_lr.predict(tfidfv_test)            \n",
    "print(\"정확도:\", accuracy_score(y_test, predicted))  "
   ]
  },
  {
   "cell_type": "markdown",
   "id": "6fb3e3ba",
   "metadata": {},
   "source": [
    "##### 선형 서포트 벡터 머신(LSVM)"
   ]
  },
  {
   "cell_type": "code",
   "execution_count": 65,
   "id": "f778bfd1",
   "metadata": {},
   "outputs": [
    {
     "name": "stderr",
     "output_type": "stream",
     "text": [
      "/opt/conda/lib/python3.9/site-packages/sklearn/svm/_base.py:1199: ConvergenceWarning: Liblinear failed to converge, increase the number of iterations.\n",
      "  warnings.warn(\n"
     ]
    },
    {
     "data": {
      "text/plain": [
       "LinearSVC(C=1000, dual=False, max_iter=3000, penalty='l1')"
      ]
     },
     "execution_count": 65,
     "metadata": {},
     "output_type": "execute_result"
    }
   ],
   "source": [
    "model_lsvc = LinearSVC(C=1000, penalty='l1', max_iter=3000, dual=False)\n",
    "model_lsvc.fit(tfidfv, y_train)"
   ]
  },
  {
   "cell_type": "code",
   "execution_count": 66,
   "id": "42c1cfac",
   "metadata": {},
   "outputs": [
    {
     "name": "stdout",
     "output_type": "stream",
     "text": [
      "정확도: 0.7916295636687445\n"
     ]
    }
   ],
   "source": [
    "predicted = model_lsvc.predict(tfidfv_test)            \n",
    "print(\"정확도:\", accuracy_score(y_test, predicted))  "
   ]
  },
  {
   "cell_type": "markdown",
   "id": "9f74f5f6",
   "metadata": {},
   "source": [
    "##### 결정 트리(Decision Tree)"
   ]
  },
  {
   "cell_type": "code",
   "execution_count": 67,
   "id": "7f89d04a",
   "metadata": {},
   "outputs": [
    {
     "data": {
      "text/plain": [
       "DecisionTreeClassifier(max_depth=10, random_state=0)"
      ]
     },
     "execution_count": 67,
     "metadata": {},
     "output_type": "execute_result"
    }
   ],
   "source": [
    "model_tree = DecisionTreeClassifier(max_depth=10, random_state=0)\n",
    "model_tree.fit(tfidfv, y_train)"
   ]
  },
  {
   "cell_type": "code",
   "execution_count": 68,
   "id": "a6c56474",
   "metadata": {},
   "outputs": [
    {
     "name": "stdout",
     "output_type": "stream",
     "text": [
      "정확도: 0.6211041852181657\n"
     ]
    }
   ],
   "source": [
    "predicted = model_tree.predict(tfidfv_test)            \n",
    "print(\"정확도:\", accuracy_score(y_test, predicted))  "
   ]
  },
  {
   "cell_type": "markdown",
   "id": "f92873e4",
   "metadata": {},
   "source": [
    "##### 랜덤 포레스트(Random Forest)"
   ]
  },
  {
   "cell_type": "code",
   "execution_count": 69,
   "id": "33f1ebe0",
   "metadata": {},
   "outputs": [
    {
     "data": {
      "text/plain": [
       "RandomForestClassifier(random_state=0)"
      ]
     },
     "execution_count": 69,
     "metadata": {},
     "output_type": "execute_result"
    }
   ],
   "source": [
    "model_forest = RandomForestClassifier(n_estimators=100, random_state=0) # 100개의 트리를 사용\n",
    "model_forest.fit(tfidfv, y_train)"
   ]
  },
  {
   "cell_type": "code",
   "execution_count": 70,
   "id": "8baac997",
   "metadata": {},
   "outputs": [
    {
     "name": "stdout",
     "output_type": "stream",
     "text": [
      "정확도: 0.7439893143365984\n"
     ]
    }
   ],
   "source": [
    "predicted = model_forest.predict(tfidfv_test)            \n",
    "print(\"정확도:\", accuracy_score(y_test, predicted))  "
   ]
  },
  {
   "cell_type": "markdown",
   "id": "bc66c825",
   "metadata": {},
   "source": [
    "##### 그래디언트 부스팅 트리(GradientBoostingClassifier)"
   ]
  },
  {
   "cell_type": "code",
   "execution_count": 71,
   "id": "1caa1b20",
   "metadata": {},
   "outputs": [
    {
     "data": {
      "text/plain": [
       "GradientBoostingClassifier(random_state=0)"
      ]
     },
     "execution_count": 71,
     "metadata": {},
     "output_type": "execute_result"
    }
   ],
   "source": [
    "model_grbt = GradientBoostingClassifier(random_state=0)  # verbose=3\n",
    "model_grbt.fit(tfidfv, y_train)  # 15분 정도 소요됨."
   ]
  },
  {
   "cell_type": "code",
   "execution_count": 72,
   "id": "aa7fb7b5",
   "metadata": {},
   "outputs": [
    {
     "name": "stdout",
     "output_type": "stream",
     "text": [
      "정확도: 0.7702582368655387\n"
     ]
    }
   ],
   "source": [
    "predicted = model_grbt.predict(tfidfv_test)            \n",
    "print(\"정확도:\", accuracy_score(y_test, predicted))  "
   ]
  },
  {
   "cell_type": "markdown",
   "id": "0e7aded5",
   "metadata": {},
   "source": [
    "##### 보팅(Voting)"
   ]
  },
  {
   "cell_type": "code",
   "execution_count": 73,
   "id": "3a080f1a",
   "metadata": {},
   "outputs": [],
   "source": [
    "# VotingClassifier 생성 \n",
    "voting_classifier = VotingClassifier(\n",
    "    estimators=[\n",
    "        ('model_lr', LogisticRegression(penalty='l2', random_state=0)),\n",
    "        ('model_cnb', ComplementNB()),\n",
    "        ('model_grbt', GradientBoostingClassifier(random_state=0))\n",
    "    ],\n",
    "    voting='soft' \n",
    ")"
   ]
  },
  {
   "cell_type": "code",
   "execution_count": 74,
   "id": "ef721fc7",
   "metadata": {},
   "outputs": [
    {
     "name": "stderr",
     "output_type": "stream",
     "text": [
      "/opt/conda/lib/python3.9/site-packages/sklearn/linear_model/_logistic.py:814: ConvergenceWarning: lbfgs failed to converge (status=1):\n",
      "STOP: TOTAL NO. of ITERATIONS REACHED LIMIT.\n",
      "\n",
      "Increase the number of iterations (max_iter) or scale the data as shown in:\n",
      "    https://scikit-learn.org/stable/modules/preprocessing.html\n",
      "Please also refer to the documentation for alternative solver options:\n",
      "    https://scikit-learn.org/stable/modules/linear_model.html#logistic-regression\n",
      "  n_iter_i = _check_optimize_result(\n"
     ]
    },
    {
     "data": {
      "text/plain": [
       "VotingClassifier(estimators=[('model_lr', LogisticRegression(random_state=0)),\n",
       "                             ('model_cnb', ComplementNB()),\n",
       "                             ('model_grbt',\n",
       "                              GradientBoostingClassifier(random_state=0))],\n",
       "                 voting='soft')"
      ]
     },
     "execution_count": 74,
     "metadata": {},
     "output_type": "execute_result"
    }
   ],
   "source": [
    "voting_classifier.fit(tfidfv, y_train)"
   ]
  },
  {
   "cell_type": "code",
   "execution_count": 75,
   "id": "f47c2ecf",
   "metadata": {},
   "outputs": [
    {
     "name": "stdout",
     "output_type": "stream",
     "text": [
      "정확도: 0.8000890471950134\n"
     ]
    }
   ],
   "source": [
    "predicted = voting_classifier.predict(tfidfv_test)\n",
    "print(\"정확도:\", accuracy_score(y_test, predicted))"
   ]
  },
  {
   "cell_type": "markdown",
   "id": "eac19ad8",
   "metadata": {},
   "source": [
    "<br><br>"
   ]
  },
  {
   "cell_type": "markdown",
   "id": "e01407b6",
   "metadata": {},
   "source": [
    "### 2. 빈도수 상위 5,000개의 단어만 사용\n",
    "<br>"
   ]
  },
  {
   "cell_type": "markdown",
   "id": "3d432e30",
   "metadata": {},
   "source": [
    "#### 훈련 및 테스트 데이터(로이터 뉴스) 로드하기\n",
    "<br>"
   ]
  },
  {
   "cell_type": "code",
   "execution_count": 113,
   "id": "00684162",
   "metadata": {},
   "outputs": [],
   "source": [
    "(x_train_5k, y_train_5k), (x_test_5k, y_test_5k) = reuters.load_data(num_words=5000, test_split=0.2)"
   ]
  },
  {
   "cell_type": "markdown",
   "id": "91864391",
   "metadata": {},
   "source": [
    "<br>"
   ]
  },
  {
   "cell_type": "markdown",
   "id": "f0e354b8",
   "metadata": {},
   "source": [
    "#### 원본 뉴스 데이터로 복원\n",
    "<br>"
   ]
  },
  {
   "cell_type": "code",
   "execution_count": 114,
   "id": "e971b9ee",
   "metadata": {},
   "outputs": [],
   "source": [
    "decoded = []\n",
    "for i in range(len(x_train_5k)):\n",
    "    t = ' '.join([index_to_word.get(index, '<unk>') for index in x_train_5k[i]]) # get 메서드 사용하여 인덱스가 없으면 '<unk>' 반환\n",
    "    decoded.append(t)"
   ]
  },
  {
   "cell_type": "code",
   "execution_count": 115,
   "id": "b233822b",
   "metadata": {},
   "outputs": [
    {
     "name": "stdout",
     "output_type": "stream",
     "text": [
      "8982\n"
     ]
    }
   ],
   "source": [
    "x_train_5k = decoded\n",
    "print(len(x_train_5k))"
   ]
  },
  {
   "cell_type": "code",
   "execution_count": 116,
   "id": "3f0316bd",
   "metadata": {},
   "outputs": [],
   "source": [
    "decoded = []\n",
    "for i in range(len(x_test_5k)):\n",
    "    t = ' '.join([index_to_word.get(index, '<unk>') for index in x_test_5k[i]]) # get 메서드 사용하여 인덱스가 없으면 '<unk>' 반환\n",
    "    decoded.append(t)"
   ]
  },
  {
   "cell_type": "code",
   "execution_count": 117,
   "id": "4e977a80",
   "metadata": {},
   "outputs": [
    {
     "name": "stdout",
     "output_type": "stream",
     "text": [
      "2246\n"
     ]
    }
   ],
   "source": [
    "x_test_5k = decoded\n",
    "print(len(x_test_5k))"
   ]
  },
  {
   "cell_type": "markdown",
   "id": "7b489022",
   "metadata": {},
   "source": [
    "<br>"
   ]
  },
  {
   "cell_type": "markdown",
   "id": "d55f924c",
   "metadata": {},
   "source": [
    "#### 벡터화하기"
   ]
  },
  {
   "cell_type": "markdown",
   "id": "ca3f475f",
   "metadata": {},
   "source": [
    "##### DTM 생성"
   ]
  },
  {
   "cell_type": "code",
   "execution_count": 118,
   "id": "dd4f6c17",
   "metadata": {},
   "outputs": [],
   "source": [
    "dtmvector = CountVectorizer()\n",
    "x_train_dtm_5k = dtmvector.fit_transform(x_train_5k)"
   ]
  },
  {
   "cell_type": "code",
   "execution_count": 119,
   "id": "f4873783",
   "metadata": {},
   "outputs": [
    {
     "name": "stdout",
     "output_type": "stream",
     "text": [
      "(8982, 4867)\n"
     ]
    }
   ],
   "source": [
    "print(x_train_dtm_5k.shape)"
   ]
  },
  {
   "cell_type": "markdown",
   "id": "d0880630",
   "metadata": {},
   "source": [
    "##### TF-IDF 생성"
   ]
  },
  {
   "cell_type": "code",
   "execution_count": 120,
   "id": "fa4a25cf",
   "metadata": {},
   "outputs": [],
   "source": [
    "tfidf_transformer = TfidfTransformer()\n",
    "tfidfv_5k = tfidf_transformer.fit_transform(x_train_dtm_5k)"
   ]
  },
  {
   "cell_type": "code",
   "execution_count": 121,
   "id": "e378e1dc",
   "metadata": {},
   "outputs": [
    {
     "name": "stdout",
     "output_type": "stream",
     "text": [
      "(8982, 4867)\n"
     ]
    }
   ],
   "source": [
    "print(tfidfv_5k.shape)"
   ]
  },
  {
   "cell_type": "markdown",
   "id": "8dacc08b",
   "metadata": {},
   "source": [
    "<br>"
   ]
  },
  {
   "cell_type": "markdown",
   "id": "e703faab",
   "metadata": {},
   "source": [
    "#### 머신러닝 모델 학습\n",
    "<br>"
   ]
  },
  {
   "cell_type": "code",
   "execution_count": 85,
   "id": "b7c66799",
   "metadata": {},
   "outputs": [],
   "source": [
    "# 데이터를 TF-IDF 행렬로 변환"
   ]
  },
  {
   "cell_type": "code",
   "execution_count": 122,
   "id": "c8246032",
   "metadata": {},
   "outputs": [],
   "source": [
    "x_test_dtm_5k = dtmvector.transform(x_test_5k)               # 테스트 데이터를 DTM으로 변환\n",
    "tfidfv_test_5k = tfidf_transformer.transform(x_test_dtm_5k)  # DTM을 TF-IDF 행렬로 변환"
   ]
  },
  {
   "cell_type": "markdown",
   "id": "1e659e6c",
   "metadata": {},
   "source": [
    "<br>"
   ]
  },
  {
   "cell_type": "code",
   "execution_count": 87,
   "id": "4e14fe35",
   "metadata": {},
   "outputs": [],
   "source": [
    "# 모델별 훈련 및 예측 "
   ]
  },
  {
   "cell_type": "code",
   "execution_count": 88,
   "id": "8a09d416",
   "metadata": {},
   "outputs": [],
   "source": [
    "def train_predict(tfidfv, y_train, tfidfv_test, y_test):\n",
    "    # 1) 나이브 베이즈 분류기\n",
    "    model_nb = MultinomialNB()\n",
    "    model_nb.fit(tfidfv, y_train)\n",
    "    \n",
    "    predicted = model_nb.predict(tfidfv_test)            \n",
    "    print(\"정확도_나이브 베이즈 분류기:\", accuracy_score(y_test, predicted))  \n",
    "    \n",
    "    # 2) Complement Naive Bayes Classifier(CNB)\n",
    "    model_cnb = ComplementNB()\n",
    "    model_cnb.fit(tfidfv, y_train)\n",
    "    \n",
    "    predicted = model_cnb.predict(tfidfv_test)           \n",
    "    print(\"정확도_CNB:\", accuracy_score(y_test, predicted))\n",
    "    \n",
    "    # 3) 로지스틱 회귀(Logistic Regression)\n",
    "    model_lr = LogisticRegression(C=10000, penalty='l2', max_iter=3000)\n",
    "    model_lr.fit(tfidfv, y_train) \n",
    "    \n",
    "    predicted = model_lr.predict(tfidfv_test)            \n",
    "    print(\"정확도_로지스틱 회귀:\", accuracy_score(y_test, predicted))  \n",
    "    \n",
    "    # 4) 선형 서포트 벡터 머신(LSVM)\n",
    "    model_lsvc = LinearSVC(C=1000, penalty='l1', max_iter=3000, dual=False)\n",
    "    model_lsvc.fit(tfidfv, y_train)\n",
    "    \n",
    "    predicted = model_lsvc.predict(tfidfv_test)            \n",
    "    print(\"정확도_LSVM:\", accuracy_score(y_test, predicted))  \n",
    "    \n",
    "    # 5) 결정 트리(Decision Tree)\n",
    "    model_tree = DecisionTreeClassifier(max_depth=10, random_state=0)\n",
    "    model_tree.fit(tfidfv, y_train)\n",
    "    \n",
    "    predicted = model_tree.predict(tfidfv_test)            \n",
    "    print(\"정확도_Decision Tree:\", accuracy_score(y_test, predicted))\n",
    "    \n",
    "    # 6) 랜덤 포레스트(Random Forest)\n",
    "    model_forest = RandomForestClassifier(n_estimators=100, random_state=0) # 100개의 트리를 사용\n",
    "    model_forest.fit(tfidfv, y_train)\n",
    "    \n",
    "    predicted = model_forest.predict(tfidfv_test)            \n",
    "    print(\"정확도_Random Forest:\", accuracy_score(y_test, predicted))  \n",
    "    \n",
    "    # 7) 그래디언트 부스팅 트리(GradientBoostingClassifier)\n",
    "    model_grbt = GradientBoostingClassifier(random_state=0)  # verbose=3\n",
    "    model_grbt.fit(tfidfv, y_train)  # 15분 정도 소요됨.\n",
    "    \n",
    "    predicted = model_grbt.predict(tfidfv_test)            \n",
    "    print(\"정확도_GradientBoosting:\", accuracy_score(y_test, predicted))  \n",
    "    \n",
    "    # 8) 보팅(Voting)\n",
    "    voting_classifier = VotingClassifier(\n",
    "        estimators=[\n",
    "            ('model_lr', LogisticRegression(penalty='l2', random_state=0)),\n",
    "            ('model_cnb', ComplementNB()),\n",
    "            ('model_grbt', GradientBoostingClassifier(random_state=0))\n",
    "        ],\n",
    "        voting='soft' \n",
    "    )\n",
    "    voting_classifier.fit(tfidfv, y_train)\n",
    "    \n",
    "    predicted = voting_classifier.predict(tfidfv_test)\n",
    "    print(\"정확도_Voting:\", accuracy_score(y_test, predicted))\n",
    "    \n",
    "    return model_nb, model_cnb, model_lr, model_lsvc, model_tree, model_forest, model_grbt, voting_classifier"
   ]
  },
  {
   "cell_type": "code",
   "execution_count": 89,
   "id": "ca4d15c6",
   "metadata": {},
   "outputs": [
    {
     "name": "stdout",
     "output_type": "stream",
     "text": [
      "정확도_나이브 베이즈 분류기: 0.6731967943009796\n",
      "정확도_CNB: 0.7707034728406055\n",
      "정확도_로지스틱 회귀: 0.8036509349955476\n"
     ]
    },
    {
     "name": "stderr",
     "output_type": "stream",
     "text": [
      "/opt/conda/lib/python3.9/site-packages/sklearn/svm/_base.py:1199: ConvergenceWarning: Liblinear failed to converge, increase the number of iterations.\n",
      "  warnings.warn(\n"
     ]
    },
    {
     "name": "stdout",
     "output_type": "stream",
     "text": [
      "정확도_LSVM: 0.7751558325912734\n",
      "정확도_Decision Tree: 0.6179875333926982\n",
      "정확도_Random Forest: 0.7582368655387355\n",
      "정확도_GradientBoosting: 0.767586821015138\n"
     ]
    },
    {
     "name": "stderr",
     "output_type": "stream",
     "text": [
      "/opt/conda/lib/python3.9/site-packages/sklearn/linear_model/_logistic.py:814: ConvergenceWarning: lbfgs failed to converge (status=1):\n",
      "STOP: TOTAL NO. of ITERATIONS REACHED LIMIT.\n",
      "\n",
      "Increase the number of iterations (max_iter) or scale the data as shown in:\n",
      "    https://scikit-learn.org/stable/modules/preprocessing.html\n",
      "Please also refer to the documentation for alternative solver options:\n",
      "    https://scikit-learn.org/stable/modules/linear_model.html#logistic-regression\n",
      "  n_iter_i = _check_optimize_result(\n"
     ]
    },
    {
     "name": "stdout",
     "output_type": "stream",
     "text": [
      "정확도_Voting: 0.7960819234194123\n"
     ]
    }
   ],
   "source": [
    "model_nb_5k, model_cnb_5k, model_lr_5k, model_lsvc_5k, model_tree_5k, model_forest_5k, model_grbt_5k, voting_classifier_5k = train_predict(tfidfv_5k, y_train_5k, tfidfv_test_5k, y_test_5k) "
   ]
  },
  {
   "cell_type": "markdown",
   "id": "1e196eae",
   "metadata": {},
   "source": [
    "<br><br>"
   ]
  },
  {
   "cell_type": "markdown",
   "id": "901a4dbf",
   "metadata": {},
   "source": [
    "### 3. 직접 단어 개수를 설정해서 사용 (2000개)\n",
    "<br>"
   ]
  },
  {
   "cell_type": "code",
   "execution_count": 90,
   "id": "83949e80",
   "metadata": {},
   "outputs": [],
   "source": [
    "(x_train_2k, y_train_2k), (x_test_2k, y_test_2k) = reuters.load_data(num_words=2000, test_split=0.2)"
   ]
  },
  {
   "cell_type": "markdown",
   "id": "722dc819",
   "metadata": {},
   "source": [
    "<br>"
   ]
  },
  {
   "cell_type": "code",
   "execution_count": 91,
   "id": "84d86b56",
   "metadata": {},
   "outputs": [],
   "source": [
    "decoded = []\n",
    "for i in range(len(x_train_2k)):\n",
    "    t = ' '.join([index_to_word[index] for index in x_train_2k[i]])\n",
    "    decoded.append(t)"
   ]
  },
  {
   "cell_type": "code",
   "execution_count": 92,
   "id": "ce8effcf",
   "metadata": {},
   "outputs": [
    {
     "name": "stdout",
     "output_type": "stream",
     "text": [
      "8982\n"
     ]
    }
   ],
   "source": [
    "x_train_2k = decoded\n",
    "print(len(x_train_2k))"
   ]
  },
  {
   "cell_type": "code",
   "execution_count": 93,
   "id": "a838c055",
   "metadata": {},
   "outputs": [],
   "source": [
    "decoded = []\n",
    "for i in range(len(x_test_2k)):\n",
    "    t = ' '.join([index_to_word[index] for index in x_test_2k[i]])\n",
    "    decoded.append(t)"
   ]
  },
  {
   "cell_type": "code",
   "execution_count": 94,
   "id": "d35259b3",
   "metadata": {},
   "outputs": [
    {
     "name": "stdout",
     "output_type": "stream",
     "text": [
      "2246\n"
     ]
    }
   ],
   "source": [
    "x_test_2k = decoded\n",
    "print(len(x_test_2k))"
   ]
  },
  {
   "cell_type": "markdown",
   "id": "f34a762e",
   "metadata": {},
   "source": [
    "<br>"
   ]
  },
  {
   "cell_type": "code",
   "execution_count": 95,
   "id": "0ee1d3e3",
   "metadata": {},
   "outputs": [],
   "source": [
    "dtmvector = CountVectorizer()\n",
    "x_train_dtm_2k = dtmvector.fit_transform(x_train_2k)"
   ]
  },
  {
   "cell_type": "code",
   "execution_count": 96,
   "id": "03e0ac3a",
   "metadata": {},
   "outputs": [
    {
     "name": "stdout",
     "output_type": "stream",
     "text": [
      "(8982, 1944)\n"
     ]
    }
   ],
   "source": [
    "print(x_train_dtm_2k.shape)"
   ]
  },
  {
   "cell_type": "code",
   "execution_count": 97,
   "id": "f53f26b2",
   "metadata": {},
   "outputs": [],
   "source": [
    "tfidf_transformer = TfidfTransformer()\n",
    "tfidfv_2k = tfidf_transformer.fit_transform(x_train_dtm_2k)"
   ]
  },
  {
   "cell_type": "code",
   "execution_count": 98,
   "id": "95e77023",
   "metadata": {},
   "outputs": [
    {
     "name": "stdout",
     "output_type": "stream",
     "text": [
      "(8982, 1944)\n"
     ]
    }
   ],
   "source": [
    "print(tfidfv_2k.shape)"
   ]
  },
  {
   "cell_type": "markdown",
   "id": "b9a27f94",
   "metadata": {},
   "source": [
    "<br>"
   ]
  },
  {
   "cell_type": "code",
   "execution_count": 99,
   "id": "8cef37ff",
   "metadata": {},
   "outputs": [],
   "source": [
    "x_test_dtm_2k = dtmvector.transform(x_test_2k) \n",
    "tfidfv_test_2k = tfidf_transformer.transform(x_test_dtm_2k) "
   ]
  },
  {
   "cell_type": "code",
   "execution_count": 100,
   "id": "f699a21c",
   "metadata": {},
   "outputs": [
    {
     "name": "stdout",
     "output_type": "stream",
     "text": [
      "정확도_나이브 베이즈 분류기: 0.6914514692787177\n",
      "정확도_CNB: 0.7569011576135352\n",
      "정확도_로지스틱 회귀: 0.7773820124666073\n"
     ]
    },
    {
     "name": "stderr",
     "output_type": "stream",
     "text": [
      "/opt/conda/lib/python3.9/site-packages/sklearn/svm/_base.py:1199: ConvergenceWarning: Liblinear failed to converge, increase the number of iterations.\n",
      "  warnings.warn(\n"
     ]
    },
    {
     "name": "stdout",
     "output_type": "stream",
     "text": [
      "정확도_LSVM: 0.7341941228851291\n",
      "정확도_Decision Tree: 0.6255565449688335\n",
      "정확도_Random Forest: 0.7720391807658059\n",
      "정확도_GradientBoosting: 0.757346393588602\n"
     ]
    },
    {
     "name": "stderr",
     "output_type": "stream",
     "text": [
      "/opt/conda/lib/python3.9/site-packages/sklearn/linear_model/_logistic.py:814: ConvergenceWarning: lbfgs failed to converge (status=1):\n",
      "STOP: TOTAL NO. of ITERATIONS REACHED LIMIT.\n",
      "\n",
      "Increase the number of iterations (max_iter) or scale the data as shown in:\n",
      "    https://scikit-learn.org/stable/modules/preprocessing.html\n",
      "Please also refer to the documentation for alternative solver options:\n",
      "    https://scikit-learn.org/stable/modules/linear_model.html#logistic-regression\n",
      "  n_iter_i = _check_optimize_result(\n"
     ]
    },
    {
     "name": "stdout",
     "output_type": "stream",
     "text": [
      "정확도_Voting: 0.7836153161175423\n"
     ]
    }
   ],
   "source": [
    "model_nb_2k, model_cnb_2k, model_lr_2k, model_lsvc_2k, model_tree_2k, model_forest_2k, model_grbt_2k, voting_classifier_2k = train_predict(tfidfv_2k, y_train_2k, tfidfv_test_2k, y_test_2k) "
   ]
  },
  {
   "cell_type": "markdown",
   "id": "f1b96fee",
   "metadata": {},
   "source": [
    "<br><br>"
   ]
  },
  {
   "cell_type": "markdown",
   "id": "b5dfc144",
   "metadata": {},
   "source": [
    "### 단어 개수 및 분류 모델에 따른 accuracy 분석\n",
    "<br>"
   ]
  },
  {
   "cell_type": "markdown",
   "id": "af027bf0",
   "metadata": {},
   "source": [
    "#### 1) 모든 단어 사용 시\n",
    "<br>\n",
    "\n",
    "+ 정확도_Naive Bayes Classifier: 0.5997328584149599\n",
    "\n",
    "+ 정확도_CNB: 0.7649154051647373\n",
    "\n",
    "+ 정확도_Logistic Regression: 0.8165627782724845\n",
    "\n",
    "+ 정확도_LSVM: 0.792520035618878\n",
    "\n",
    "+ 정확도_Decision Tree: 0.6211041852181657\n",
    "\n",
    "+ 정확도_Random Forest: 0.7439893143365984\n",
    "\n",
    "+ 정확도_GradientBoosting: 0.7702582368655387\n",
    "\n",
    "+ 정확도_Voting: 0.8000890471950134\n",
    "\n",
    "<br>"
   ]
  },
  {
   "cell_type": "markdown",
   "id": "5354e309",
   "metadata": {},
   "source": [
    "#### 2) 빈도수 상위 5,000개의 단어만 사용\n",
    "<br>\n",
    "\n",
    "+ 정확도_Naive Bayes Classifier: 0.6731967943009796\n",
    "\n",
    "+ 정확도_CNB: 0.7707034728406055\n",
    "\n",
    "+ 정확도_Logistic Regression: 0.8036509349955476\n",
    "\n",
    "+ 정확도_LSVM: 0.7787177203918076\n",
    "\n",
    "+ 정확도_Decision Tree: 0.6179875333926982\n",
    "\n",
    "+ 정확도_Random Forest: 0.7582368655387355\n",
    "\n",
    "+ 정확도_GradientBoosting: 0.767586821015138\n",
    "\n",
    "+ 정확도_Voting: 0.7960819234194123\n",
    "\n",
    "<br>"
   ]
  },
  {
   "cell_type": "markdown",
   "id": "a598f899",
   "metadata": {},
   "source": [
    "#### 3) 2000개 사용 시\n",
    "<br>\n",
    "\n",
    "+ 정확도_Naive Bayes Classifier: 0.6914514692787177\n",
    "\n",
    "+ 정확도_CNB: 0.7569011576135352\n",
    "\n",
    "+ 정확도_Logistic Regression: 0.7773820124666073\n",
    "\n",
    "+ 정확도_LSVM: 0.7315227070347284\n",
    "\n",
    "+ 정확도_Decision Tree: 0.6255565449688335\n",
    "\n",
    "+ 정확도_Random Forest: 0.7720391807658059\n",
    "\n",
    "+ 정확도_GradientBoosting: 0.757346393588602\n",
    "\n",
    "+ 정확도_Voting: 0.7836153161175423"
   ]
  },
  {
   "cell_type": "markdown",
   "id": "ff243b38",
   "metadata": {},
   "source": [
    "<br><br>"
   ]
  },
  {
   "cell_type": "markdown",
   "id": "17e8b1ad",
   "metadata": {},
   "source": [
    "### 단어 크기에 따른 분류 모델의 F1 score 비교\n",
    "<br>"
   ]
  },
  {
   "cell_type": "markdown",
   "id": "2cdfa2bd",
   "metadata": {},
   "source": [
    "##### Voting 모델 (모든 단어 사용 시)\n",
    "<br>"
   ]
  },
  {
   "cell_type": "code",
   "execution_count": 103,
   "id": "fb37990a",
   "metadata": {},
   "outputs": [],
   "source": [
    "# 예측 확률 계산\n",
    "prediction_probabilities = voting_classifier.predict_proba(tfidfv_test)\n",
    "\n",
    "# 가장 확률이 높은 클래스의 인덱스를 찾음\n",
    "prediction = np.argmax(prediction_probabilities, axis=1)"
   ]
  },
  {
   "cell_type": "code",
   "execution_count": 104,
   "id": "52c6bdf1",
   "metadata": {},
   "outputs": [
    {
     "name": "stdout",
     "output_type": "stream",
     "text": [
      "정확도: 0.8000890471950134\n",
      "              precision    recall  f1-score   support\n",
      "\n",
      "           0       0.64      0.58      0.61        12\n",
      "           1       0.80      0.78      0.79       105\n",
      "           2       0.67      0.70      0.68        20\n",
      "           3       0.91      0.93      0.92       813\n",
      "           4       0.78      0.89      0.83       474\n",
      "           5       1.00      0.20      0.33         5\n",
      "           6       0.77      0.71      0.74        14\n",
      "           7       1.00      0.33      0.50         3\n",
      "           8       0.67      0.68      0.68        38\n",
      "           9       0.95      0.80      0.87        25\n",
      "          10       0.83      0.80      0.81        30\n",
      "          11       0.68      0.71      0.69        83\n",
      "          12       0.50      0.46      0.48        13\n",
      "          13       0.65      0.59      0.62        37\n",
      "          14       0.00      0.00      0.00         2\n",
      "          15       0.25      0.11      0.15         9\n",
      "          16       0.76      0.73      0.74        99\n",
      "          17       0.83      0.42      0.56        12\n",
      "          18       0.62      0.50      0.56        20\n",
      "          19       0.75      0.69      0.72       133\n",
      "          20       0.74      0.46      0.57        70\n",
      "          21       0.64      0.67      0.65        27\n",
      "          22       0.33      0.14      0.20         7\n",
      "          23       0.62      0.67      0.64        12\n",
      "          24       0.69      0.47      0.56        19\n",
      "          25       0.88      0.68      0.76        31\n",
      "          26       1.00      1.00      1.00         8\n",
      "          27       0.33      0.50      0.40         4\n",
      "          28       0.29      0.20      0.24        10\n",
      "          29       0.50      0.75      0.60         4\n",
      "          30       0.36      0.42      0.38        12\n",
      "          31       0.58      0.54      0.56        13\n",
      "          32       1.00      1.00      1.00        10\n",
      "          33       0.83      1.00      0.91         5\n",
      "          34       0.80      0.57      0.67         7\n",
      "          35       0.33      0.17      0.22         6\n",
      "          36       0.54      0.64      0.58        11\n",
      "          37       0.50      1.00      0.67         2\n",
      "          38       0.50      0.33      0.40         3\n",
      "          39       0.33      0.20      0.25         5\n",
      "          40       0.75      0.30      0.43        10\n",
      "          41       0.62      0.62      0.62         8\n",
      "          42       1.00      0.67      0.80         3\n",
      "          43       0.50      0.50      0.50         6\n",
      "          44       0.80      0.80      0.80         5\n",
      "          45       0.50      1.00      0.67         1\n",
      "\n",
      "    accuracy                           0.80      2246\n",
      "   macro avg       0.65      0.59      0.60      2246\n",
      "weighted avg       0.80      0.80      0.79      2246\n",
      "\n"
     ]
    }
   ],
   "source": [
    "from sklearn.metrics import classification_report\n",
    "from sklearn.metrics import confusion_matrix\n",
    "\n",
    "print(\"정확도:\", accuracy_score(y_test, prediction))\n",
    "print(classification_report(y_test, prediction))"
   ]
  },
  {
   "cell_type": "markdown",
   "id": "2e524d0d",
   "metadata": {},
   "source": [
    "<br>"
   ]
  },
  {
   "cell_type": "markdown",
   "id": "edbedc61",
   "metadata": {},
   "source": [
    "##### Voting 모델 (빈도수 상위 5,000개의 단어만 사용 시)\n",
    "<br>"
   ]
  },
  {
   "cell_type": "code",
   "execution_count": 124,
   "id": "7b4717c0",
   "metadata": {},
   "outputs": [],
   "source": [
    "# 예측 확률 계산\n",
    "prediction_probabilities = voting_classifier.predict_proba(tfidfv_test_5k)\n",
    "\n",
    "# 가장 확률이 높은 클래스의 인덱스를 찾음\n",
    "prediction = np.argmax(prediction_probabilities, axis=1)"
   ]
  },
  {
   "cell_type": "code",
   "execution_count": 108,
   "id": "62dba36f",
   "metadata": {},
   "outputs": [
    {
     "name": "stdout",
     "output_type": "stream",
     "text": [
      "정확도: 0.8000890471950134\n",
      "              precision    recall  f1-score   support\n",
      "\n",
      "           0       0.64      0.58      0.61        12\n",
      "           1       0.80      0.78      0.79       105\n",
      "           2       0.67      0.70      0.68        20\n",
      "           3       0.91      0.93      0.92       813\n",
      "           4       0.78      0.89      0.83       474\n",
      "           5       1.00      0.20      0.33         5\n",
      "           6       0.77      0.71      0.74        14\n",
      "           7       1.00      0.33      0.50         3\n",
      "           8       0.67      0.68      0.68        38\n",
      "           9       0.95      0.80      0.87        25\n",
      "          10       0.83      0.80      0.81        30\n",
      "          11       0.68      0.71      0.69        83\n",
      "          12       0.50      0.46      0.48        13\n",
      "          13       0.65      0.59      0.62        37\n",
      "          14       0.00      0.00      0.00         2\n",
      "          15       0.25      0.11      0.15         9\n",
      "          16       0.76      0.73      0.74        99\n",
      "          17       0.83      0.42      0.56        12\n",
      "          18       0.62      0.50      0.56        20\n",
      "          19       0.75      0.69      0.72       133\n",
      "          20       0.74      0.46      0.57        70\n",
      "          21       0.64      0.67      0.65        27\n",
      "          22       0.33      0.14      0.20         7\n",
      "          23       0.62      0.67      0.64        12\n",
      "          24       0.69      0.47      0.56        19\n",
      "          25       0.88      0.68      0.76        31\n",
      "          26       1.00      1.00      1.00         8\n",
      "          27       0.33      0.50      0.40         4\n",
      "          28       0.29      0.20      0.24        10\n",
      "          29       0.50      0.75      0.60         4\n",
      "          30       0.36      0.42      0.38        12\n",
      "          31       0.58      0.54      0.56        13\n",
      "          32       1.00      1.00      1.00        10\n",
      "          33       0.83      1.00      0.91         5\n",
      "          34       0.80      0.57      0.67         7\n",
      "          35       0.33      0.17      0.22         6\n",
      "          36       0.54      0.64      0.58        11\n",
      "          37       0.50      1.00      0.67         2\n",
      "          38       0.50      0.33      0.40         3\n",
      "          39       0.33      0.20      0.25         5\n",
      "          40       0.75      0.30      0.43        10\n",
      "          41       0.62      0.62      0.62         8\n",
      "          42       1.00      0.67      0.80         3\n",
      "          43       0.50      0.50      0.50         6\n",
      "          44       0.80      0.80      0.80         5\n",
      "          45       0.50      1.00      0.67         1\n",
      "\n",
      "    accuracy                           0.80      2246\n",
      "   macro avg       0.65      0.59      0.60      2246\n",
      "weighted avg       0.80      0.80      0.79      2246\n",
      "\n"
     ]
    }
   ],
   "source": [
    "print(\"정확도:\", accuracy_score(y_test_5k, prediction))\n",
    "print(classification_report(y_test_5k, prediction))"
   ]
  },
  {
   "cell_type": "markdown",
   "id": "93d8fb0f",
   "metadata": {},
   "source": [
    "<br>"
   ]
  },
  {
   "cell_type": "code",
   "execution_count": 128,
   "id": "d6f9c194",
   "metadata": {},
   "outputs": [],
   "source": [
    "# 예측 확률 계산\n",
    "prediction_probabilities = voting_classifier.predict_proba(tfidfv_test_2k)\n",
    "\n",
    "# 가장 확률이 높은 클래스의 인덱스를 찾음\n",
    "prediction = np.argmax(prediction_probabilities, axis=1)"
   ]
  },
  {
   "cell_type": "code",
   "execution_count": 126,
   "id": "e1f2b1cc",
   "metadata": {},
   "outputs": [
    {
     "name": "stdout",
     "output_type": "stream",
     "text": [
      "정확도: 0.8000890471950134\n",
      "              precision    recall  f1-score   support\n",
      "\n",
      "           0       0.64      0.58      0.61        12\n",
      "           1       0.80      0.78      0.79       105\n",
      "           2       0.67      0.70      0.68        20\n",
      "           3       0.91      0.93      0.92       813\n",
      "           4       0.78      0.89      0.83       474\n",
      "           5       1.00      0.20      0.33         5\n",
      "           6       0.77      0.71      0.74        14\n",
      "           7       1.00      0.33      0.50         3\n",
      "           8       0.67      0.68      0.68        38\n",
      "           9       0.95      0.80      0.87        25\n",
      "          10       0.83      0.80      0.81        30\n",
      "          11       0.68      0.71      0.69        83\n",
      "          12       0.50      0.46      0.48        13\n",
      "          13       0.65      0.59      0.62        37\n",
      "          14       0.00      0.00      0.00         2\n",
      "          15       0.25      0.11      0.15         9\n",
      "          16       0.76      0.73      0.74        99\n",
      "          17       0.83      0.42      0.56        12\n",
      "          18       0.62      0.50      0.56        20\n",
      "          19       0.75      0.69      0.72       133\n",
      "          20       0.74      0.46      0.57        70\n",
      "          21       0.64      0.67      0.65        27\n",
      "          22       0.33      0.14      0.20         7\n",
      "          23       0.62      0.67      0.64        12\n",
      "          24       0.69      0.47      0.56        19\n",
      "          25       0.88      0.68      0.76        31\n",
      "          26       1.00      1.00      1.00         8\n",
      "          27       0.33      0.50      0.40         4\n",
      "          28       0.29      0.20      0.24        10\n",
      "          29       0.50      0.75      0.60         4\n",
      "          30       0.36      0.42      0.38        12\n",
      "          31       0.58      0.54      0.56        13\n",
      "          32       1.00      1.00      1.00        10\n",
      "          33       0.83      1.00      0.91         5\n",
      "          34       0.80      0.57      0.67         7\n",
      "          35       0.33      0.17      0.22         6\n",
      "          36       0.54      0.64      0.58        11\n",
      "          37       0.50      1.00      0.67         2\n",
      "          38       0.50      0.33      0.40         3\n",
      "          39       0.33      0.20      0.25         5\n",
      "          40       0.75      0.30      0.43        10\n",
      "          41       0.62      0.62      0.62         8\n",
      "          42       1.00      0.67      0.80         3\n",
      "          43       0.50      0.50      0.50         6\n",
      "          44       0.80      0.80      0.80         5\n",
      "          45       0.50      1.00      0.67         1\n",
      "\n",
      "    accuracy                           0.80      2246\n",
      "   macro avg       0.65      0.59      0.60      2246\n",
      "weighted avg       0.80      0.80      0.79      2246\n",
      "\n"
     ]
    }
   ],
   "source": [
    "print(\"정확도:\", accuracy_score(y_test_2k, prediction))\n",
    "print(classification_report(y_test_2k, prediction))"
   ]
  },
  {
   "cell_type": "markdown",
   "id": "5424fa86",
   "metadata": {},
   "source": [
    "<br><br>"
   ]
  },
  {
   "cell_type": "markdown",
   "id": "dc284d08",
   "metadata": {},
   "source": [
    "### 4. 딥러닝 모델과 비교해 보기\n",
    "<br>"
   ]
  },
  {
   "cell_type": "markdown",
   "id": "83089137",
   "metadata": {},
   "source": [
    "#### RNN(LSTM) 모델로 학습하기\n",
    "<br>"
   ]
  },
  {
   "cell_type": "code",
   "execution_count": 129,
   "id": "b84edc46",
   "metadata": {},
   "outputs": [],
   "source": [
    "# 빈도수 상위 5,000개의 단어 dataset 이용"
   ]
  },
  {
   "cell_type": "code",
   "execution_count": 147,
   "id": "8ef336be",
   "metadata": {},
   "outputs": [
    {
     "name": "stdout",
     "output_type": "stream",
     "text": [
      "(8982, 4867)\n",
      "(8982,)\n"
     ]
    }
   ],
   "source": [
    "print(tfidfv_5k.shape) \n",
    "print(y_train_5k.shape)"
   ]
  },
  {
   "cell_type": "markdown",
   "id": "81406366",
   "metadata": {},
   "source": [
    "<br>"
   ]
  },
  {
   "cell_type": "code",
   "execution_count": 148,
   "id": "99358b28",
   "metadata": {},
   "outputs": [],
   "source": [
    "# 희소 행렬을 NumPy 배열로 변환\n",
    "tfidfv_5k_array = tfidfv_5k.toarray()"
   ]
  },
  {
   "cell_type": "code",
   "execution_count": 149,
   "id": "657249e3",
   "metadata": {},
   "outputs": [],
   "source": [
    "from tensorflow.keras.utils import to_categorical\n",
    "\n",
    "# 원-핫 인코딩 적용\n",
    "y_train_5k_one_hot = to_categorical(y_train_5k, num_classes=num_classes)"
   ]
  },
  {
   "cell_type": "markdown",
   "id": "7961f81c",
   "metadata": {},
   "source": [
    "<br>"
   ]
  },
  {
   "cell_type": "code",
   "execution_count": 150,
   "id": "c4694715",
   "metadata": {},
   "outputs": [],
   "source": [
    "from tensorflow.keras import Sequential\n",
    "from tensorflow.keras.layers import Embedding, LSTM, Dense, Dropout, BatchNormalization, Bidirectional\n",
    "from tensorflow.keras.regularizers import l2"
   ]
  },
  {
   "cell_type": "code",
   "execution_count": 151,
   "id": "ecce2eed",
   "metadata": {},
   "outputs": [],
   "source": [
    "vocab_size = 5000\n",
    "word_vector_dim = 64 \n",
    "num_classes = 46  # 로이터 데이터셋의 클래스 수\n",
    "L2_lambda = 1e-4  # L2 정규화 계수"
   ]
  },
  {
   "cell_type": "code",
   "execution_count": 152,
   "id": "0b0c14d9",
   "metadata": {},
   "outputs": [],
   "source": [
    "model_LSTM = Sequential([\n",
    "    Embedding(vocab_size, word_vector_dim, input_length=None), # input_length는 필요한 경우 지정할 수 있습니다.\n",
    "    Bidirectional(LSTM(64, kernel_regularizer=l2(L2_lambda), return_sequences=True)), # 양방향 LSTM\n",
    "    BatchNormalization(),\n",
    "    Dropout(0.5), # Dropout 레이어 추가\n",
    "    LSTM(32, kernel_regularizer=l2(L2_lambda)),\n",
    "    BatchNormalization(),\n",
    "    Dropout(0.5), # Dropout 레이어 추가\n",
    "    Dense(num_classes, activation='softmax')\n",
    "])"
   ]
  },
  {
   "cell_type": "code",
   "execution_count": 153,
   "id": "e6f73088",
   "metadata": {},
   "outputs": [
    {
     "name": "stdout",
     "output_type": "stream",
     "text": [
      "Model: \"sequential_3\"\n",
      "_________________________________________________________________\n",
      "Layer (type)                 Output Shape              Param #   \n",
      "=================================================================\n",
      "embedding_3 (Embedding)      (None, None, 64)          320000    \n",
      "_________________________________________________________________\n",
      "bidirectional_3 (Bidirection (None, None, 128)         66048     \n",
      "_________________________________________________________________\n",
      "batch_normalization_6 (Batch (None, None, 128)         512       \n",
      "_________________________________________________________________\n",
      "dropout_6 (Dropout)          (None, None, 128)         0         \n",
      "_________________________________________________________________\n",
      "lstm_7 (LSTM)                (None, 32)                20608     \n",
      "_________________________________________________________________\n",
      "batch_normalization_7 (Batch (None, 32)                128       \n",
      "_________________________________________________________________\n",
      "dropout_7 (Dropout)          (None, 32)                0         \n",
      "_________________________________________________________________\n",
      "dense_3 (Dense)              (None, 46)                1518      \n",
      "=================================================================\n",
      "Total params: 408,814\n",
      "Trainable params: 408,494\n",
      "Non-trainable params: 320\n",
      "_________________________________________________________________\n"
     ]
    }
   ],
   "source": [
    "model_LSTM.summary()"
   ]
  },
  {
   "cell_type": "code",
   "execution_count": 154,
   "id": "98eb78d9",
   "metadata": {},
   "outputs": [],
   "source": [
    "# 모델 컴파일\n",
    "model_LSTM.compile(optimizer='adam', loss='categorical_crossentropy', metrics=['accuracy'])"
   ]
  },
  {
   "cell_type": "code",
   "execution_count": 155,
   "id": "9fd3d489",
   "metadata": {},
   "outputs": [
    {
     "name": "stdout",
     "output_type": "stream",
     "text": [
      "Epoch 1/5\n",
      "57/57 [==============================] - 39s 628ms/step - loss: 4.3108 - accuracy: 0.0434 - val_loss: 3.6771 - val_accuracy: 0.0445\n",
      "Epoch 2/5\n",
      "57/57 [==============================] - 35s 610ms/step - loss: 3.8674 - accuracy: 0.0905 - val_loss: 3.4797 - val_accuracy: 0.0445\n",
      "Epoch 3/5\n",
      "57/57 [==============================] - 35s 608ms/step - loss: 3.5221 - accuracy: 0.1665 - val_loss: 3.1771 - val_accuracy: 0.3450\n",
      "Epoch 4/5\n",
      "57/57 [==============================] - 35s 612ms/step - loss: 3.1738 - accuracy: 0.2511 - val_loss: 3.1019 - val_accuracy: 0.2220\n",
      "Epoch 5/5\n",
      "57/57 [==============================] - 35s 608ms/step - loss: 2.8513 - accuracy: 0.3084 - val_loss: 2.6271 - val_accuracy: 0.3450\n"
     ]
    }
   ],
   "source": [
    "# 모델 훈련\n",
    "history = model_LSTM.fit(tfidfv_5k_array, y_train_5k_one_hot, epochs=5, batch_size=128, validation_split=0.2)"
   ]
  },
  {
   "cell_type": "markdown",
   "id": "9ce639fa",
   "metadata": {},
   "source": [
    "<br>"
   ]
  },
  {
   "cell_type": "code",
   "execution_count": 156,
   "id": "27a3dbbb",
   "metadata": {},
   "outputs": [
    {
     "data": {
      "image/png": "[encoded data removed]",
      "text/plain": [
       "<Figure size 432x288 with 1 Axes>"
      ]
     },
     "metadata": {
      "needs_background": "light"
     },
     "output_type": "display_data"
    }
   ],
   "source": [
    "plt.plot(history.history['loss'])\n",
    "plt.plot(history.history['val_loss'])\n",
    "plt.title('loss')\n",
    "plt.ylabel('loss')\n",
    "plt.xlabel('epoch')\n",
    "plt.legend(['train', 'val'], loc='upper left')\n",
    "plt.show()"
   ]
  },
  {
   "cell_type": "code",
   "execution_count": 157,
   "id": "28107797",
   "metadata": {},
   "outputs": [
    {
     "data": {
      "image/png": "[encoded data removed]",
      "text/plain": [
       "<Figure size 432x288 with 1 Axes>"
      ]
     },
     "metadata": {
      "needs_background": "light"
     },
     "output_type": "display_data"
    }
   ],
   "source": [
    "plt.plot(history.history['accuracy'])\n",
    "plt.plot(history.history['val_accuracy'])\n",
    "plt.title('accuracy')\n",
    "plt.ylabel('accuracy')\n",
    "plt.xlabel('epoch')\n",
    "plt.legend(['train', 'val'], loc='upper left')\n",
    "plt.show()"
   ]
  },
  {
   "cell_type": "markdown",
   "id": "f63aa459",
   "metadata": {},
   "source": [
    "<br>"
   ]
  },
  {
   "cell_type": "code",
   "execution_count": 130,
   "id": "dbac713a",
   "metadata": {},
   "outputs": [],
   "source": [
    "# 예측을 위한 훈련 및 테스트 데이터 전처리"
   ]
  },
  {
   "cell_type": "code",
   "execution_count": 158,
   "id": "2652984b",
   "metadata": {},
   "outputs": [],
   "source": [
    "from tensorflow.keras.preprocessing.text import Tokenizer\n",
    "from tensorflow.keras.preprocessing.sequence import pad_sequences\n",
    "\n",
    "# 토크나이저 정의 (훈련 데이터에 사용한 것과 동일해야 함)\n",
    "tokenizer = Tokenizer(num_words=vocab_size)\n",
    "tokenizer.fit_on_texts(x_train)  \n",
    "\n",
    "# 테스트 데이터 토큰화\n",
    "x_test_sequences = tokenizer.texts_to_sequences(x_test)  \n",
    "\n",
    "# 패딩\n",
    "x_test_padded = pad_sequences(x_test_sequences, maxlen=max(len(l) for l in x_train))"
   ]
  },
  {
   "cell_type": "code",
   "execution_count": 159,
   "id": "0a29ec4d",
   "metadata": {},
   "outputs": [],
   "source": [
    "# 원-핫 인코딩 적용\n",
    "y_test_one_hot = to_categorical(y_test, num_classes=num_classes)"
   ]
  },
  {
   "cell_type": "code",
   "execution_count": 160,
   "id": "c45413a2",
   "metadata": {},
   "outputs": [
    {
     "name": "stdout",
     "output_type": "stream",
     "text": [
      "71/71 [==============================] - 24s 318ms/step - loss: 2.6071 - accuracy: 0.3620\n",
      "Test accuracy: 0.36197686195373535\n"
     ]
    }
   ],
   "source": [
    "# 모델 평가\n",
    "test_loss, test_accuracy = model_LSTM.evaluate(x_test_padded, y_test_one_hot)\n",
    "print(f'Test accuracy: {test_accuracy}')"
   ]
  },
  {
   "cell_type": "code",
   "execution_count": 161,
   "id": "90f7773c",
   "metadata": {},
   "outputs": [],
   "source": [
    "# 테스트 데이터 토큰화\n",
    "x_test_sequences = tokenizer.texts_to_sequences(x_test)  \n",
    "\n",
    "# 패딩\n",
    "x_test_padded = pad_sequences(x_test_sequences, maxlen=max(len(l) for l in x_train))"
   ]
  },
  {
   "cell_type": "markdown",
   "id": "78848085",
   "metadata": {},
   "source": [
    "<br>"
   ]
  },
  {
   "cell_type": "code",
   "execution_count": null,
   "id": "6349de64",
   "metadata": {},
   "outputs": [],
   "source": [
    "# 모델 예측\n",
    "predictions = model_LSTM.predict(x_test_padded)"
   ]
  },
  {
   "cell_type": "code",
   "execution_count": 162,
   "id": "5a42dcf4",
   "metadata": {},
   "outputs": [
    {
     "data": {
      "text/plain": [
       "array([[0.0133548 , 0.03335145, 0.01149791, ..., 0.00797594, 0.00853876,\n",
       "        0.0095059 ],\n",
       "       [0.01332119, 0.0333331 , 0.01147635, ..., 0.00794987, 0.00853468,\n",
       "        0.00948157],\n",
       "       [0.01326131, 0.03317604, 0.01143975, ..., 0.00792133, 0.00851229,\n",
       "        0.00942805],\n",
       "       ...,\n",
       "       [0.01325458, 0.03330901, 0.01144173, ..., 0.0079073 , 0.0085095 ,\n",
       "        0.00943479],\n",
       "       [0.01332501, 0.0333737 , 0.0115573 , ..., 0.00795474, 0.00852901,\n",
       "        0.00952018],\n",
       "       [0.01329392, 0.03333624, 0.01151206, ..., 0.00794728, 0.00852634,\n",
       "        0.00948699]], dtype=float32)"
      ]
     },
     "execution_count": 162,
     "metadata": {},
     "output_type": "execute_result"
    }
   ],
   "source": [
    "predictions"
   ]
  },
  {
   "cell_type": "markdown",
   "id": "c6fc428b",
   "metadata": {},
   "source": [
    "<br>"
   ]
  },
  {
   "cell_type": "code",
   "execution_count": 131,
   "id": "91873744",
   "metadata": {},
   "outputs": [],
   "source": [
    "# 딥러닝 모델(LSTM)의 F1 Score 결과"
   ]
  },
  {
   "cell_type": "code",
   "execution_count": 166,
   "id": "e71e0500",
   "metadata": {},
   "outputs": [
    {
     "name": "stdout",
     "output_type": "stream",
     "text": [
      "              precision    recall  f1-score   support\n",
      "\n",
      "           0       0.00      0.00      0.00        12\n",
      "           1       0.00      0.00      0.00       105\n",
      "           2       0.00      0.00      0.00        20\n",
      "           3       0.36      1.00      0.53       813\n",
      "           4       0.00      0.00      0.00       474\n",
      "           5       0.00      0.00      0.00         5\n",
      "           6       0.00      0.00      0.00        14\n",
      "           7       0.00      0.00      0.00         3\n",
      "           8       0.00      0.00      0.00        38\n",
      "           9       0.00      0.00      0.00        25\n",
      "          10       0.00      0.00      0.00        30\n",
      "          11       0.00      0.00      0.00        83\n",
      "          12       0.00      0.00      0.00        13\n",
      "          13       0.00      0.00      0.00        37\n",
      "          14       0.00      0.00      0.00         2\n",
      "          15       0.00      0.00      0.00         9\n",
      "          16       0.00      0.00      0.00        99\n",
      "          17       0.00      0.00      0.00        12\n",
      "          18       0.00      0.00      0.00        20\n",
      "          19       0.00      0.00      0.00       133\n",
      "          20       0.00      0.00      0.00        70\n",
      "          21       0.00      0.00      0.00        27\n",
      "          22       0.00      0.00      0.00         7\n",
      "          23       0.00      0.00      0.00        12\n",
      "          24       0.00      0.00      0.00        19\n",
      "          25       0.00      0.00      0.00        31\n",
      "          26       0.00      0.00      0.00         8\n",
      "          27       0.00      0.00      0.00         4\n",
      "          28       0.00      0.00      0.00        10\n",
      "          29       0.00      0.00      0.00         4\n",
      "          30       0.00      0.00      0.00        12\n",
      "          31       0.00      0.00      0.00        13\n",
      "          32       0.00      0.00      0.00        10\n",
      "          33       0.00      0.00      0.00         5\n",
      "          34       0.00      0.00      0.00         7\n",
      "          35       0.00      0.00      0.00         6\n",
      "          36       0.00      0.00      0.00        11\n",
      "          37       0.00      0.00      0.00         2\n",
      "          38       0.00      0.00      0.00         3\n",
      "          39       0.00      0.00      0.00         5\n",
      "          40       0.00      0.00      0.00        10\n",
      "          41       0.00      0.00      0.00         8\n",
      "          42       0.00      0.00      0.00         3\n",
      "          43       0.00      0.00      0.00         6\n",
      "          44       0.00      0.00      0.00         5\n",
      "          45       0.00      0.00      0.00         1\n",
      "\n",
      "    accuracy                           0.36      2246\n",
      "   macro avg       0.01      0.02      0.01      2246\n",
      "weighted avg       0.13      0.36      0.19      2246\n",
      "\n"
     ]
    },
    {
     "name": "stderr",
     "output_type": "stream",
     "text": [
      "/opt/conda/lib/python3.9/site-packages/sklearn/metrics/_classification.py:1308: UndefinedMetricWarning: Precision and F-score are ill-defined and being set to 0.0 in labels with no predicted samples. Use `zero_division` parameter to control this behavior.\n",
      "  _warn_prf(average, modifier, msg_start, len(result))\n",
      "/opt/conda/lib/python3.9/site-packages/sklearn/metrics/_classification.py:1308: UndefinedMetricWarning: Precision and F-score are ill-defined and being set to 0.0 in labels with no predicted samples. Use `zero_division` parameter to control this behavior.\n",
      "  _warn_prf(average, modifier, msg_start, len(result))\n",
      "/opt/conda/lib/python3.9/site-packages/sklearn/metrics/_classification.py:1308: UndefinedMetricWarning: Precision and F-score are ill-defined and being set to 0.0 in labels with no predicted samples. Use `zero_division` parameter to control this behavior.\n",
      "  _warn_prf(average, modifier, msg_start, len(result))\n"
     ]
    }
   ],
   "source": [
    "from sklearn.metrics import classification_report\n",
    "from sklearn.metrics import confusion_matrix\n",
    "\n",
    "print(classification_report(y_test, predictions.argmax(axis=1)))"
   ]
  },
  {
   "cell_type": "markdown",
   "id": "9636e14a",
   "metadata": {},
   "source": [
    "<br>"
   ]
  },
  {
   "cell_type": "code",
   "execution_count": 164,
   "id": "19a26992",
   "metadata": {},
   "outputs": [
    {
     "data": {
      "image/png": "[encoded data removed]",
      "text/plain": [
       "<Figure size 720x504 with 2 Axes>"
      ]
     },
     "metadata": {
      "needs_background": "light"
     },
     "output_type": "display_data"
    }
   ],
   "source": [
    "from sklearn.metrics import confusion_matrix\n",
    "import seaborn as sns\n",
    "import matplotlib.pyplot as plt\n",
    "\n",
    "# 모델의 예측값 얻기\n",
    "y_pred = model_LSTM.predict(x_test_padded)\n",
    "y_pred_classes = np.argmax(y_pred, axis=1)\n",
    "\n",
    "# 혼동 행렬 계산\n",
    "cm = confusion_matrix(y_test, y_pred_classes)\n",
    "\n",
    "# 혼동 행렬 시각화\n",
    "plt.figure(figsize=(10, 7))\n",
    "sns.heatmap(cm, annot=True, fmt='d')\n",
    "plt.xlabel('Predicted')\n",
    "plt.ylabel('True')\n",
    "plt.show()"
   ]
  },
  {
   "cell_type": "markdown",
   "id": "35e03477",
   "metadata": {},
   "source": [
    "<br><br>"
   ]
  },
  {
   "cell_type": "markdown",
   "id": "501330ea",
   "metadata": {},
   "source": [
    "## 6-2. 프로젝트 제출\n",
    "<br>"
   ]
  },
  {
   "cell_type": "markdown",
   "id": "9ebc3d34",
   "metadata": {},
   "source": [
    "### 루브릭\n",
    "<br>"
   ]
  },
  {
   "cell_type": "markdown",
   "id": "f3b5c7d6",
   "metadata": {},
   "source": [
    "#### 평가문항과 상세기준\n",
    "<br>"
   ]
  },
  {
   "cell_type": "markdown",
   "id": "b7af6628",
   "metadata": {},
   "source": [
    "##### 1. 분류 모델의 accuracy가 기준 이상 높게 나왔는가?\n",
    "\n",
    "3가지 단어 개수에 대해 8가지 머신러닝 기법을 적용하여 그중 최적의 솔루션을 도출\n",
    "\n",
    "<br>"
   ]
  },
  {
   "cell_type": "markdown",
   "id": "48b57043",
   "metadata": {},
   "source": [
    "##### 2. 분류 모델의 F1 score가 기준 이상 높게 나왔는가?\n",
    "Vocabulary size에 따른 각 머신러닝 모델의 성능변화 추이를 살피고, 해당 머신러닝 알고리즘의 특성에 근거해 원인을 분석하였다.\n",
    "\n",
    "<br>"
   ]
  },
  {
   "cell_type": "markdown",
   "id": "fd4f9921",
   "metadata": {},
   "source": [
    "##### 3. 딥러닝 모델을 활용해 성능이 비교 및 확인되었는가?\n",
    "동일한 데이터셋과 전처리 조건으로 딥러닝 모델의 성능과 비교하여 결과에 따른 원인을 분석하였다."
   ]
  }
 ],
 "metadata": {
  "kernelspec": {
   "display_name": "Python 3 (ipykernel)",
   "language": "python",
   "name": "python3"
  },
  "language_info": {
   "codemirror_mode": {
    "name": "ipython",
    "version": 3
   },
   "file_extension": ".py",
   "mimetype": "text/x-python",
   "name": "python",
   "nbconvert_exporter": "python",
   "pygments_lexer": "ipython3",
   "version": "3.9.7"
  }
 },
 "nbformat": 4,
 "nbformat_minor": 5
}
