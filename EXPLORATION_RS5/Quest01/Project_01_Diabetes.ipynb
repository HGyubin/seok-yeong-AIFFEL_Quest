{
 "cells": [
  {
   "cell_type": "code",
   "execution_count": 1,
   "id": "1e53e3ac",
   "metadata": {},
   "outputs": [],
   "source": [
    "# 2-1. 프로젝트 1 : 손수 설계하는 선형회귀, 당뇨병 수치를 맞춰보자!"
   ]
  },
  {
   "cell_type": "code",
   "execution_count": 2,
   "id": "706a7d98",
   "metadata": {},
   "outputs": [],
   "source": [
    "# (1) 데이터 가져오기"
   ]
  },
  {
   "cell_type": "code",
   "execution_count": 3,
   "id": "527014fb",
   "metadata": {},
   "outputs": [],
   "source": [
    "# sklearn.datasets의 load_diabetes에서 데이터를 가져와주세요.\n",
    "# diabetes의 data를 df_X에, target을 df_y에 저장해주세요."
   ]
  },
  {
   "cell_type": "code",
   "execution_count": 63,
   "id": "0f9c0a61",
   "metadata": {},
   "outputs": [
    {
     "name": "stdout",
     "output_type": "stream",
     "text": [
      "(442, 10)\n",
      "(442,)\n"
     ]
    }
   ],
   "source": [
    "from sklearn.datasets import load_diabetes\n",
    "\n",
    "diabetes=load_diabetes()\n",
    "\n",
    "df_X = diabetes.data\n",
    "df_y = diabetes.target\n",
    "\n",
    "print(df_X.shape)\n",
    "print(df_y.shape)"
   ]
  },
  {
   "cell_type": "code",
   "execution_count": 64,
   "id": "131c5756",
   "metadata": {},
   "outputs": [],
   "source": [
    "# (2) 모델에 입력할 데이터 X 준비하기"
   ]
  },
  {
   "cell_type": "code",
   "execution_count": 65,
   "id": "70744c86",
   "metadata": {},
   "outputs": [],
   "source": [
    "# df_X에 있는 값들을 numpy array로 변환해서 저장해주세요."
   ]
  },
  {
   "cell_type": "code",
   "execution_count": 66,
   "id": "174388a3",
   "metadata": {},
   "outputs": [
    {
     "name": "stdout",
     "output_type": "stream",
     "text": [
      "[[ 0.03807591  0.05068012  0.06169621 ... -0.00259226  0.01990842\n",
      "  -0.01764613]\n",
      " [-0.00188202 -0.04464164 -0.05147406 ... -0.03949338 -0.06832974\n",
      "  -0.09220405]\n",
      " [ 0.08529891  0.05068012  0.04445121 ... -0.00259226  0.00286377\n",
      "  -0.02593034]\n",
      " ...\n",
      " [ 0.04170844  0.05068012 -0.01590626 ... -0.01107952 -0.04687948\n",
      "   0.01549073]\n",
      " [-0.04547248 -0.04464164  0.03906215 ...  0.02655962  0.04452837\n",
      "  -0.02593034]\n",
      " [-0.04547248 -0.04464164 -0.0730303  ... -0.03949338 -0.00421986\n",
      "   0.00306441]]\n"
     ]
    }
   ],
   "source": [
    "import numpy as np\n",
    "\n",
    "X = np.array(df_X)\n",
    "print(X)"
   ]
  },
  {
   "cell_type": "code",
   "execution_count": 67,
   "id": "a2b929a0",
   "metadata": {},
   "outputs": [],
   "source": [
    "# (3) 모델에 예측할 데이터 y 준비하기"
   ]
  },
  {
   "cell_type": "code",
   "execution_count": 68,
   "id": "af35373c",
   "metadata": {},
   "outputs": [
    {
     "name": "stdout",
     "output_type": "stream",
     "text": [
      "[151.  75. 141. 206. 135.  97. 138.  63. 110. 310. 101.  69. 179. 185.\n",
      " 118. 171. 166. 144.  97. 168.  68.  49.  68. 245. 184. 202. 137.  85.\n",
      " 131. 283. 129.  59. 341.  87.  65. 102. 265. 276. 252.  90. 100.  55.\n",
      "  61.  92. 259.  53. 190. 142.  75. 142. 155. 225.  59. 104. 182. 128.\n",
      "  52.  37. 170. 170.  61. 144.  52. 128.  71. 163. 150.  97. 160. 178.\n",
      "  48. 270. 202. 111.  85.  42. 170. 200. 252. 113. 143.  51.  52. 210.\n",
      "  65. 141.  55. 134.  42. 111.  98. 164.  48.  96.  90. 162. 150. 279.\n",
      "  92.  83. 128. 102. 302. 198.  95.  53. 134. 144. 232.  81. 104.  59.\n",
      " 246. 297. 258. 229. 275. 281. 179. 200. 200. 173. 180.  84. 121. 161.\n",
      "  99. 109. 115. 268. 274. 158. 107.  83. 103. 272.  85. 280. 336. 281.\n",
      " 118. 317. 235.  60. 174. 259. 178. 128.  96. 126. 288.  88. 292.  71.\n",
      " 197. 186.  25.  84.  96. 195.  53. 217. 172. 131. 214.  59.  70. 220.\n",
      " 268. 152.  47.  74. 295. 101. 151. 127. 237. 225.  81. 151. 107.  64.\n",
      " 138. 185. 265. 101. 137. 143. 141.  79. 292. 178.  91. 116.  86. 122.\n",
      "  72. 129. 142.  90. 158.  39. 196. 222. 277.  99. 196. 202. 155.  77.\n",
      " 191.  70.  73.  49.  65. 263. 248. 296. 214. 185.  78.  93. 252. 150.\n",
      "  77. 208.  77. 108. 160.  53. 220. 154. 259.  90. 246. 124.  67.  72.\n",
      " 257. 262. 275. 177.  71.  47. 187. 125.  78.  51. 258. 215. 303. 243.\n",
      "  91. 150. 310. 153. 346.  63.  89.  50.  39. 103. 308. 116. 145.  74.\n",
      "  45. 115. 264.  87. 202. 127. 182. 241.  66.  94. 283.  64. 102. 200.\n",
      " 265.  94. 230. 181. 156. 233.  60. 219.  80.  68. 332. 248.  84. 200.\n",
      "  55.  85.  89.  31. 129.  83. 275.  65. 198. 236. 253. 124.  44. 172.\n",
      " 114. 142. 109. 180. 144. 163. 147.  97. 220. 190. 109. 191. 122. 230.\n",
      " 242. 248. 249. 192. 131. 237.  78. 135. 244. 199. 270. 164.  72.  96.\n",
      " 306.  91. 214.  95. 216. 263. 178. 113. 200. 139. 139.  88. 148.  88.\n",
      " 243.  71.  77. 109. 272.  60.  54. 221.  90. 311. 281. 182. 321.  58.\n",
      " 262. 206. 233. 242. 123. 167.  63. 197.  71. 168. 140. 217. 121. 235.\n",
      " 245.  40.  52. 104. 132.  88.  69. 219.  72. 201. 110.  51. 277.  63.\n",
      " 118.  69. 273. 258.  43. 198. 242. 232. 175.  93. 168. 275. 293. 281.\n",
      "  72. 140. 189. 181. 209. 136. 261. 113. 131. 174. 257.  55.  84.  42.\n",
      " 146. 212. 233.  91. 111. 152. 120.  67. 310.  94. 183.  66. 173.  72.\n",
      "  49.  64.  48. 178. 104. 132. 220.  57.]\n"
     ]
    }
   ],
   "source": [
    "y = np.array(df_y)\n",
    "print(y)"
   ]
  },
  {
   "cell_type": "code",
   "execution_count": 69,
   "id": "a9e66498",
   "metadata": {},
   "outputs": [],
   "source": [
    "# (4) train 데이터와 test 데이터로 분리하기"
   ]
  },
  {
   "cell_type": "code",
   "execution_count": 70,
   "id": "1661608d",
   "metadata": {},
   "outputs": [],
   "source": [
    "# X와 y 데이터를 각각 train 데이터와 test 데이터로 분리해주세요."
   ]
  },
  {
   "cell_type": "code",
   "execution_count": 71,
   "id": "0b508335",
   "metadata": {},
   "outputs": [
    {
     "name": "stdout",
     "output_type": "stream",
     "text": [
      "(353, 10) (353,)\n",
      "(89, 10) (89,)\n"
     ]
    }
   ],
   "source": [
    "from sklearn.model_selection import train_test_split\n",
    "\n",
    "X_train, X_test, y_train, y_test = train_test_split(X, y, test_size=0.2, random_state=42)\n",
    "\n",
    "print(X_train.shape, y_train.shape)\n",
    "print(X_test.shape, y_test.shape)"
   ]
  },
  {
   "cell_type": "code",
   "execution_count": 72,
   "id": "4b676957",
   "metadata": {},
   "outputs": [],
   "source": [
    "# (5) 모델 준비하기"
   ]
  },
  {
   "cell_type": "code",
   "execution_count": 73,
   "id": "51416141",
   "metadata": {},
   "outputs": [],
   "source": [
    "# 입력 데이터 개수에 맞는 가중치 W와 b를 준비해주세요.\n",
    "# 모델 함수를 구현해주세요."
   ]
  },
  {
   "cell_type": "code",
   "execution_count": 74,
   "id": "309bc0a8",
   "metadata": {},
   "outputs": [],
   "source": [
    "import numpy as np\n",
    "W = np.random.rand(10)\n",
    "b = np.random.rand()"
   ]
  },
  {
   "cell_type": "code",
   "execution_count": 75,
   "id": "3dbe2df2",
   "metadata": {},
   "outputs": [
    {
     "data": {
      "text/plain": [
       "array([0.74962778, 0.7505978 , 0.56103922, 0.38434043, 0.45108091,\n",
       "       0.01628237, 0.6898813 , 0.30870136, 0.39484505, 0.61262799])"
      ]
     },
     "execution_count": 75,
     "metadata": {},
     "output_type": "execute_result"
    }
   ],
   "source": [
    "W"
   ]
  },
  {
   "cell_type": "code",
   "execution_count": 76,
   "id": "00939671",
   "metadata": {},
   "outputs": [
    {
     "data": {
      "text/plain": [
       "(10,)"
      ]
     },
     "execution_count": 76,
     "metadata": {},
     "output_type": "execute_result"
    }
   ],
   "source": [
    "W.shape"
   ]
  },
  {
   "cell_type": "code",
   "execution_count": 77,
   "id": "36d0070f",
   "metadata": {},
   "outputs": [
    {
     "data": {
      "text/plain": [
       "0.19445791031083115"
      ]
     },
     "execution_count": 77,
     "metadata": {},
     "output_type": "execute_result"
    }
   ],
   "source": [
    "b"
   ]
  },
  {
   "cell_type": "code",
   "execution_count": 78,
   "id": "692a2d57",
   "metadata": {},
   "outputs": [],
   "source": [
    "def model(X, W, b):\n",
    "    predictions = 0\n",
    "    for i in range(10):\n",
    "        predictions += X[:, i] * W[i]\n",
    "    predictions += b\n",
    "    return predictions"
   ]
  },
  {
   "cell_type": "code",
   "execution_count": 79,
   "id": "0857d424",
   "metadata": {},
   "outputs": [],
   "source": [
    "# (6) 손실함수 loss 정의하기"
   ]
  },
  {
   "cell_type": "code",
   "execution_count": 80,
   "id": "032c87cc",
   "metadata": {},
   "outputs": [],
   "source": [
    "# 손실함수를 MSE 함수로 정의해주세요."
   ]
  },
  {
   "cell_type": "code",
   "execution_count": 81,
   "id": "0ae43e64",
   "metadata": {},
   "outputs": [],
   "source": [
    "def MSE(a, b):\n",
    "    mse = ((a - b)**2).mean()\n",
    "    return mse"
   ]
  },
  {
   "cell_type": "code",
   "execution_count": 82,
   "id": "5b3dfb38",
   "metadata": {},
   "outputs": [],
   "source": [
    "def loss(X, W, b, y):\n",
    "    predictions = model(X, W, b)\n",
    "    L = MSE(predictions, y)\n",
    "    return L"
   ]
  },
  {
   "cell_type": "code",
   "execution_count": 83,
   "id": "70b71ea9",
   "metadata": {},
   "outputs": [],
   "source": [
    "# (7) 기울기를 구하는 gradient 함수 구현하기"
   ]
  },
  {
   "cell_type": "code",
   "execution_count": 84,
   "id": "b77f4069",
   "metadata": {},
   "outputs": [],
   "source": [
    "# 기울기를 계산하는 gradient 함수를 구현해주세요."
   ]
  },
  {
   "cell_type": "code",
   "execution_count": 85,
   "id": "ff4e465d",
   "metadata": {},
   "outputs": [],
   "source": [
    "def gradient(X, W, b, y):\n",
    "    N = len(y)               # N은 데이터 포인트의 개수\n",
    "    y_pred = model(X, W, b)  # y_pred 준비\n",
    "    dW = 1/N * 2 * X.T.dot(y_pred - y)  # 공식에 맞게 gradient 계산\n",
    "    db = 2 * (y_pred - y).mean()\n",
    "    return dW, db"
   ]
  },
  {
   "cell_type": "code",
   "execution_count": 86,
   "id": "82182d54",
   "metadata": {},
   "outputs": [],
   "source": [
    "# (8) 하이퍼 파라미터인 학습률 설정하기"
   ]
  },
  {
   "cell_type": "code",
   "execution_count": 87,
   "id": "1bd526f7",
   "metadata": {},
   "outputs": [],
   "source": [
    "# 학습률, learning rate 를 설정해주세요.\n",
    "# 만약 학습이 잘 되지 않는다면 learning rate 값을 한번 여러 가지로 설정하며 실험해 보세요."
   ]
  },
  {
   "cell_type": "code",
   "execution_count": 88,
   "id": "fa42eb62",
   "metadata": {},
   "outputs": [],
   "source": [
    "LEARNING_RATE = 0.1"
   ]
  },
  {
   "cell_type": "code",
   "execution_count": 89,
   "id": "0145b5b3",
   "metadata": {},
   "outputs": [],
   "source": [
    "# (9) 모델 학습하기"
   ]
  },
  {
   "cell_type": "code",
   "execution_count": 90,
   "id": "69f2a5a9",
   "metadata": {},
   "outputs": [],
   "source": [
    "# 정의된 손실함수와 기울기 함수로 모델을 학습해주세요.\n",
    "# loss값이 충분히 떨어질 때까지 학습을 진행해주세요.\n",
    "# 입력하는 데이터인 X에 들어가는 특성 컬럼들을 몇 개 빼도 괜찮습니다. 다양한 데이터로 실험해 보세요."
   ]
  },
  {
   "cell_type": "code",
   "execution_count": 91,
   "id": "2a0a9c7f",
   "metadata": {},
   "outputs": [
    {
     "name": "stdout",
     "output_type": "stream",
     "text": [
      "Iteration 100 : Loss 5380.3357\n",
      "Iteration 200 : Loss 4877.6618\n",
      "Iteration 300 : Loss 4503.9083\n",
      "Iteration 400 : Loss 4222.3184\n",
      "Iteration 500 : Loss 4007.0341\n",
      "Iteration 600 : Loss 3839.8200\n",
      "Iteration 700 : Loss 3707.7768\n",
      "Iteration 800 : Loss 3601.7450\n",
      "Iteration 900 : Loss 3515.1892\n",
      "Iteration 1000 : Loss 3443.4191\n",
      "Iteration 1100 : Loss 3383.0449\n",
      "Iteration 1200 : Loss 3331.5952\n",
      "Iteration 1300 : Loss 3287.2506\n",
      "Iteration 1400 : Loss 3248.6555\n",
      "Iteration 1500 : Loss 3214.7869\n",
      "Iteration 1600 : Loss 3184.8615\n",
      "Iteration 1700 : Loss 3158.2700\n",
      "Iteration 1800 : Loss 3134.5312\n",
      "Iteration 1900 : Loss 3113.2583\n",
      "Iteration 2000 : Loss 3094.1359\n",
      "Iteration 2100 : Loss 3076.9029\n",
      "Iteration 2200 : Loss 3061.3399\n",
      "Iteration 2300 : Loss 3047.2604\n",
      "Iteration 2400 : Loss 3034.5043\n",
      "Iteration 2500 : Loss 3022.9325\n",
      "Iteration 2600 : Loss 3012.4238\n",
      "Iteration 2700 : Loss 3002.8712\n",
      "Iteration 2800 : Loss 2994.1803\n",
      "Iteration 2900 : Loss 2986.2670\n",
      "Iteration 3000 : Loss 2979.0566\n",
      "Iteration 3100 : Loss 2972.4821\n",
      "Iteration 3200 : Loss 2966.4834\n",
      "Iteration 3300 : Loss 2961.0067\n",
      "Iteration 3400 : Loss 2956.0034\n",
      "Iteration 3500 : Loss 2951.4298\n",
      "Iteration 3600 : Loss 2947.2466\n",
      "Iteration 3700 : Loss 2943.4181\n",
      "Iteration 3800 : Loss 2939.9122\n",
      "Iteration 3900 : Loss 2936.6998\n",
      "Iteration 4000 : Loss 2933.7545\n",
      "Iteration 4100 : Loss 2931.0526\n",
      "Iteration 4200 : Loss 2928.5725\n",
      "Iteration 4300 : Loss 2926.2945\n",
      "Iteration 4400 : Loss 2924.2009\n",
      "Iteration 4500 : Loss 2922.2757\n",
      "Iteration 4600 : Loss 2920.5041\n",
      "Iteration 4700 : Loss 2918.8729\n",
      "Iteration 4800 : Loss 2917.3700\n",
      "Iteration 4900 : Loss 2915.9845\n",
      "Iteration 5000 : Loss 2914.7063\n",
      "Iteration 5100 : Loss 2913.5264\n",
      "Iteration 5200 : Loss 2912.4364\n",
      "Iteration 5300 : Loss 2911.4290\n",
      "Iteration 5400 : Loss 2910.4971\n",
      "Iteration 5500 : Loss 2909.6345\n",
      "Iteration 5600 : Loss 2908.8356\n",
      "Iteration 5700 : Loss 2908.0951\n",
      "Iteration 5800 : Loss 2907.4083\n",
      "Iteration 5900 : Loss 2906.7708\n",
      "Iteration 6000 : Loss 2906.1786\n",
      "Iteration 6100 : Loss 2905.6282\n",
      "Iteration 6200 : Loss 2905.1161\n",
      "Iteration 6300 : Loss 2904.6395\n",
      "Iteration 6400 : Loss 2904.1954\n",
      "Iteration 6500 : Loss 2903.7814\n",
      "Iteration 6600 : Loss 2903.3951\n",
      "Iteration 6700 : Loss 2903.0344\n",
      "Iteration 6800 : Loss 2902.6973\n",
      "Iteration 6900 : Loss 2902.3820\n",
      "Iteration 7000 : Loss 2902.0869\n",
      "Iteration 7100 : Loss 2901.8104\n",
      "Iteration 7200 : Loss 2901.5512\n",
      "Iteration 7300 : Loss 2901.3080\n",
      "Iteration 7400 : Loss 2901.0796\n",
      "Iteration 7500 : Loss 2900.8649\n",
      "Iteration 7600 : Loss 2900.6629\n",
      "Iteration 7700 : Loss 2900.4726\n",
      "Iteration 7800 : Loss 2900.2934\n",
      "Iteration 7900 : Loss 2900.1242\n"
     ]
    }
   ],
   "source": [
    "losses = []\n",
    "\n",
    "for i in range(1, 8000):\n",
    "    dW, db = gradient(X_train, W, b, y_train)\n",
    "    W -= LEARNING_RATE * dW\n",
    "    b -= LEARNING_RATE * db\n",
    "    L = loss(X_train, W, b, y_train)\n",
    "    losses.append(L)\n",
    "    if i%100 == 0:\n",
    "        print('Iteration %d : Loss %0.4f' % (i, L))"
   ]
  },
  {
   "cell_type": "code",
   "execution_count": 92,
   "id": "d6aa65f9",
   "metadata": {},
   "outputs": [
    {
     "data": {
      "image/png": "[encoded data removed]",
      "text/plain": [
       "<Figure size 432x288 with 1 Axes>"
      ]
     },
     "metadata": {
      "needs_background": "light"
     },
     "output_type": "display_data"
    }
   ],
   "source": [
    "import matplotlib.pyplot as plt\n",
    "plt.plot(losses)\n",
    "plt.show()"
   ]
  },
  {
   "cell_type": "code",
   "execution_count": 93,
   "id": "d4f38ddd",
   "metadata": {},
   "outputs": [
    {
     "data": {
      "text/plain": [
       "(array([  39.50055384, -230.89048113,  542.55433385,  337.71588693,\n",
       "         -89.96428596, -128.9096932 , -217.79375103,  146.79736555,\n",
       "         402.24448137,   83.05902771]),\n",
       " 151.3113538064084)"
      ]
     },
     "execution_count": 93,
     "metadata": {},
     "output_type": "execute_result"
    }
   ],
   "source": [
    "W, b"
   ]
  },
  {
   "cell_type": "code",
   "execution_count": 94,
   "id": "80323bb2",
   "metadata": {},
   "outputs": [],
   "source": [
    "# (10) test 데이터에 대한 성능 확인하기"
   ]
  },
  {
   "cell_type": "code",
   "execution_count": 95,
   "id": "0293b915",
   "metadata": {},
   "outputs": [],
   "source": [
    "# test 데이터에 대한 성능을 확인해주세요."
   ]
  },
  {
   "cell_type": "code",
   "execution_count": 96,
   "id": "b7e12ead",
   "metadata": {},
   "outputs": [
    {
     "data": {
      "text/plain": [
       "2876.5986311081947"
      ]
     },
     "execution_count": 96,
     "metadata": {},
     "output_type": "execute_result"
    }
   ],
   "source": [
    "prediction = model(X_test, W, b)\n",
    "mse = loss(X_test, W, b, y_test)\n",
    "mse"
   ]
  },
  {
   "cell_type": "code",
   "execution_count": 97,
   "id": "5d03ce1f",
   "metadata": {},
   "outputs": [],
   "source": [
    "# (11) 정답 데이터와 예측한 데이터 시각화하기"
   ]
  },
  {
   "cell_type": "code",
   "execution_count": 98,
   "id": "25acb41b",
   "metadata": {},
   "outputs": [],
   "source": [
    "# x축에는 X 데이터의 첫 번째 컬럼을,\n",
    "# y축에는 정답인 target 데이터를 넣어서\n",
    "# 모델이 예측한 데이터를 시각화해 주세요."
   ]
  },
  {
   "cell_type": "code",
   "execution_count": 99,
   "id": "41fc39e6",
   "metadata": {},
   "outputs": [
    {
     "data": {
      "image/png": "[encoded data removed]",
      "text/plain": [
       "<Figure size 432x288 with 1 Axes>"
      ]
     },
     "metadata": {
      "needs_background": "light"
     },
     "output_type": "display_data"
    }
   ],
   "source": [
    "plt.scatter(X_test[:, 0], y_test)\n",
    "plt.scatter(X_test[:, 0], prediction)\n",
    "plt.show()"
   ]
  },
  {
   "cell_type": "code",
   "execution_count": null,
   "id": "0fc31020",
   "metadata": {},
   "outputs": [],
   "source": []
  }
 ],
 "metadata": {
  "kernelspec": {
   "display_name": "Python 3 (ipykernel)",
   "language": "python",
   "name": "python3"
  },
  "language_info": {
   "codemirror_mode": {
    "name": "ipython",
    "version": 3
   },
   "file_extension": ".py",
   "mimetype": "text/x-python",
   "name": "python",
   "nbconvert_exporter": "python",
   "pygments_lexer": "ipython3",
   "version": "3.9.7"
  }
 },
 "nbformat": 4,
 "nbformat_minor": 5
}
