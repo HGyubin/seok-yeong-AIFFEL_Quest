{
 "cells": [
  {
   "cell_type": "code",
   "execution_count": 2,
   "id": "66cf87ec",
   "metadata": {},
   "outputs": [],
   "source": [
    "# 2. 날씨 좋은 월요일 오후 세 시, 자전거 타는 사람은 몇 명? [프로젝트]"
   ]
  },
  {
   "cell_type": "code",
   "execution_count": 3,
   "id": "27616935",
   "metadata": {},
   "outputs": [],
   "source": [
    "# 2-1. 프로젝트 1 : 손수 설계하는 선형회귀, 당뇨병 수치를 맞춰보자!"
   ]
  },
  {
   "cell_type": "code",
   "execution_count": 4,
   "id": "23b7fbbe",
   "metadata": {},
   "outputs": [],
   "source": [
    "# (1) 데이터 가져오기"
   ]
  },
  {
   "cell_type": "code",
   "execution_count": 5,
   "id": "29f8c09a",
   "metadata": {},
   "outputs": [],
   "source": [
    "# sklearn.datasets의 load_diabetes에서 데이터를 가져와주세요.\n",
    "# diabetes의 data를 df_X에, target을 df_y에 저장해주세요."
   ]
  },
  {
   "cell_type": "code",
   "execution_count": 2,
   "id": "548b73a3",
   "metadata": {},
   "outputs": [
    {
     "name": "stdout",
     "output_type": "stream",
     "text": [
      "(442, 10)\n",
      "(442,)\n"
     ]
    }
   ],
   "source": [
    "from sklearn.datasets import load_diabetes\n",
    "\n",
    "diabetes=load_diabetes()\n",
    "\n",
    "df_X = diabetes.data\n",
    "df_y = diabetes.target\n",
    "\n",
    "print(df_X.shape)\n",
    "print(df_y.shape)"
   ]
  },
  {
   "cell_type": "code",
   "execution_count": 7,
   "id": "f7a118bc",
   "metadata": {},
   "outputs": [],
   "source": [
    "# (2) 모델에 입력할 데이터 X 준비하기"
   ]
  },
  {
   "cell_type": "code",
   "execution_count": 8,
   "id": "a55fb0f7",
   "metadata": {},
   "outputs": [],
   "source": [
    "# df_X에 있는 값들을 numpy array로 변환해서 저장해주세요."
   ]
  },
  {
   "cell_type": "code",
   "execution_count": 3,
   "id": "016d38e1",
   "metadata": {},
   "outputs": [
    {
     "name": "stdout",
     "output_type": "stream",
     "text": [
      "[[ 0.03807591  0.05068012  0.06169621 ... -0.00259226  0.01990842\n",
      "  -0.01764613]\n",
      " [-0.00188202 -0.04464164 -0.05147406 ... -0.03949338 -0.06832974\n",
      "  -0.09220405]\n",
      " [ 0.08529891  0.05068012  0.04445121 ... -0.00259226  0.00286377\n",
      "  -0.02593034]\n",
      " ...\n",
      " [ 0.04170844  0.05068012 -0.01590626 ... -0.01107952 -0.04687948\n",
      "   0.01549073]\n",
      " [-0.04547248 -0.04464164  0.03906215 ...  0.02655962  0.04452837\n",
      "  -0.02593034]\n",
      " [-0.04547248 -0.04464164 -0.0730303  ... -0.03949338 -0.00421986\n",
      "   0.00306441]]\n"
     ]
    }
   ],
   "source": [
    "import numpy as np\n",
    "\n",
    "X = np.array(df_X)\n",
    "print(X)"
   ]
  },
  {
   "cell_type": "code",
   "execution_count": 10,
   "id": "8c59e4ab",
   "metadata": {},
   "outputs": [],
   "source": [
    "# (3) 모델에 예측할 데이터 y 준비하기"
   ]
  },
  {
   "cell_type": "code",
   "execution_count": 4,
   "id": "7ffe392c",
   "metadata": {},
   "outputs": [
    {
     "name": "stdout",
     "output_type": "stream",
     "text": [
      "[151.  75. 141. 206. 135.  97. 138.  63. 110. 310. 101.  69. 179. 185.\n",
      " 118. 171. 166. 144.  97. 168.  68.  49.  68. 245. 184. 202. 137.  85.\n",
      " 131. 283. 129.  59. 341.  87.  65. 102. 265. 276. 252.  90. 100.  55.\n",
      "  61.  92. 259.  53. 190. 142.  75. 142. 155. 225.  59. 104. 182. 128.\n",
      "  52.  37. 170. 170.  61. 144.  52. 128.  71. 163. 150.  97. 160. 178.\n",
      "  48. 270. 202. 111.  85.  42. 170. 200. 252. 113. 143.  51.  52. 210.\n",
      "  65. 141.  55. 134.  42. 111.  98. 164.  48.  96.  90. 162. 150. 279.\n",
      "  92.  83. 128. 102. 302. 198.  95.  53. 134. 144. 232.  81. 104.  59.\n",
      " 246. 297. 258. 229. 275. 281. 179. 200. 200. 173. 180.  84. 121. 161.\n",
      "  99. 109. 115. 268. 274. 158. 107.  83. 103. 272.  85. 280. 336. 281.\n",
      " 118. 317. 235.  60. 174. 259. 178. 128.  96. 126. 288.  88. 292.  71.\n",
      " 197. 186.  25.  84.  96. 195.  53. 217. 172. 131. 214.  59.  70. 220.\n",
      " 268. 152.  47.  74. 295. 101. 151. 127. 237. 225.  81. 151. 107.  64.\n",
      " 138. 185. 265. 101. 137. 143. 141.  79. 292. 178.  91. 116.  86. 122.\n",
      "  72. 129. 142.  90. 158.  39. 196. 222. 277.  99. 196. 202. 155.  77.\n",
      " 191.  70.  73.  49.  65. 263. 248. 296. 214. 185.  78.  93. 252. 150.\n",
      "  77. 208.  77. 108. 160.  53. 220. 154. 259.  90. 246. 124.  67.  72.\n",
      " 257. 262. 275. 177.  71.  47. 187. 125.  78.  51. 258. 215. 303. 243.\n",
      "  91. 150. 310. 153. 346.  63.  89.  50.  39. 103. 308. 116. 145.  74.\n",
      "  45. 115. 264.  87. 202. 127. 182. 241.  66.  94. 283.  64. 102. 200.\n",
      " 265.  94. 230. 181. 156. 233.  60. 219.  80.  68. 332. 248.  84. 200.\n",
      "  55.  85.  89.  31. 129.  83. 275.  65. 198. 236. 253. 124.  44. 172.\n",
      " 114. 142. 109. 180. 144. 163. 147.  97. 220. 190. 109. 191. 122. 230.\n",
      " 242. 248. 249. 192. 131. 237.  78. 135. 244. 199. 270. 164.  72.  96.\n",
      " 306.  91. 214.  95. 216. 263. 178. 113. 200. 139. 139.  88. 148.  88.\n",
      " 243.  71.  77. 109. 272.  60.  54. 221.  90. 311. 281. 182. 321.  58.\n",
      " 262. 206. 233. 242. 123. 167.  63. 197.  71. 168. 140. 217. 121. 235.\n",
      " 245.  40.  52. 104. 132.  88.  69. 219.  72. 201. 110.  51. 277.  63.\n",
      " 118.  69. 273. 258.  43. 198. 242. 232. 175.  93. 168. 275. 293. 281.\n",
      "  72. 140. 189. 181. 209. 136. 261. 113. 131. 174. 257.  55.  84.  42.\n",
      " 146. 212. 233.  91. 111. 152. 120.  67. 310.  94. 183.  66. 173.  72.\n",
      "  49.  64.  48. 178. 104. 132. 220.  57.]\n"
     ]
    }
   ],
   "source": [
    "y = np.array(df_y)\n",
    "print(y)"
   ]
  },
  {
   "cell_type": "code",
   "execution_count": 12,
   "id": "b01e30d2",
   "metadata": {},
   "outputs": [],
   "source": [
    "# (4) train 데이터와 test 데이터로 분리하기"
   ]
  },
  {
   "cell_type": "code",
   "execution_count": 13,
   "id": "b961c84f",
   "metadata": {},
   "outputs": [],
   "source": [
    "# X와 y 데이터를 각각 train 데이터와 test 데이터로 분리해주세요."
   ]
  },
  {
   "cell_type": "code",
   "execution_count": 5,
   "id": "454b73a5",
   "metadata": {},
   "outputs": [
    {
     "name": "stdout",
     "output_type": "stream",
     "text": [
      "(353, 10) (353,)\n",
      "(89, 10) (89,)\n"
     ]
    }
   ],
   "source": [
    "from sklearn.model_selection import train_test_split\n",
    "\n",
    "X_train, X_test, y_train, y_test = train_test_split(X, y, test_size=0.2, random_state=42)\n",
    "\n",
    "print(X_train.shape, y_train.shape)\n",
    "print(X_test.shape, y_test.shape)"
   ]
  },
  {
   "cell_type": "code",
   "execution_count": 16,
   "id": "6281d4c3",
   "metadata": {},
   "outputs": [],
   "source": [
    "# (5) 모델 준비하기"
   ]
  },
  {
   "cell_type": "code",
   "execution_count": 17,
   "id": "cbb1d5e1",
   "metadata": {},
   "outputs": [],
   "source": [
    "# 입력 데이터 개수에 맞는 가중치 W와 b를 준비해주세요.\n",
    "# 모델 함수를 구현해주세요."
   ]
  },
  {
   "cell_type": "code",
   "execution_count": 6,
   "id": "6ee4498c",
   "metadata": {},
   "outputs": [],
   "source": [
    "import numpy as np\n",
    "W = np.random.rand(10)\n",
    "b = np.random.rand()"
   ]
  },
  {
   "cell_type": "code",
   "execution_count": 7,
   "id": "27c04a2c",
   "metadata": {},
   "outputs": [
    {
     "data": {
      "text/plain": [
       "array([0.19559946, 0.89643809, 0.34730122, 0.41617539, 0.43725895,\n",
       "       0.7661797 , 0.68363219, 0.356228  , 0.99511068, 0.58582887])"
      ]
     },
     "execution_count": 7,
     "metadata": {},
     "output_type": "execute_result"
    }
   ],
   "source": [
    "W"
   ]
  },
  {
   "cell_type": "code",
   "execution_count": 8,
   "id": "427dd1d4",
   "metadata": {},
   "outputs": [
    {
     "name": "stdout",
     "output_type": "stream",
     "text": [
      "(10,)\n"
     ]
    }
   ],
   "source": [
    "print(W.shape)"
   ]
  },
  {
   "cell_type": "code",
   "execution_count": 9,
   "id": "8a40fd76",
   "metadata": {},
   "outputs": [
    {
     "data": {
      "text/plain": [
       "0.846268197156241"
      ]
     },
     "execution_count": 9,
     "metadata": {},
     "output_type": "execute_result"
    }
   ],
   "source": [
    "b"
   ]
  },
  {
   "cell_type": "code",
   "execution_count": 10,
   "id": "ff343882",
   "metadata": {},
   "outputs": [],
   "source": [
    "def model(X, W, b):\n",
    "    predictions = 0\n",
    "    for i in range(10):\n",
    "        predictions += X[:, i] * W[i]\n",
    "    predictions += b\n",
    "    return predictions"
   ]
  },
  {
   "cell_type": "code",
   "execution_count": 11,
   "id": "06743c1c",
   "metadata": {},
   "outputs": [],
   "source": [
    "# (6) 손실함수 loss 정의하기"
   ]
  },
  {
   "cell_type": "code",
   "execution_count": 12,
   "id": "cfed2c9f",
   "metadata": {},
   "outputs": [],
   "source": [
    "# 손실함수를 MSE 함수로 정의해주세요."
   ]
  },
  {
   "cell_type": "code",
   "execution_count": 13,
   "id": "bc25848c",
   "metadata": {},
   "outputs": [],
   "source": [
    "def MSE(a, b):\n",
    "    mse = ((a - b)**2).mean()\n",
    "    return mse"
   ]
  },
  {
   "cell_type": "code",
   "execution_count": 14,
   "id": "d0493cb8",
   "metadata": {},
   "outputs": [],
   "source": [
    "def loss(X, W, b, y):\n",
    "    predictions = model(X, W, b)\n",
    "    L = MSE(predictions, y)\n",
    "    return L"
   ]
  },
  {
   "cell_type": "code",
   "execution_count": 15,
   "id": "18f199ff",
   "metadata": {},
   "outputs": [],
   "source": [
    "# (7) 기울기를 구하는 gradient 함수 구현하기"
   ]
  },
  {
   "cell_type": "code",
   "execution_count": 16,
   "id": "d3915b8a",
   "metadata": {},
   "outputs": [],
   "source": [
    "# 기울기를 계산하는 gradient 함수를 구현해주세요."
   ]
  },
  {
   "cell_type": "code",
   "execution_count": 17,
   "id": "2caf3b5e",
   "metadata": {},
   "outputs": [],
   "source": [
    "def gradient(X, W, b, y):\n",
    "    N = len(y)               # N은 데이터 포인트의 개수\n",
    "    y_pred = model(X, W, b)  # y_pred 준비\n",
    "    dW = 1/N * 2 * X.T.dot(y_pred - y)  # 공식에 맞게 gradient 계산\n",
    "    db = 2 * (y_pred - y).mean()\n",
    "    return dW, db"
   ]
  },
  {
   "cell_type": "code",
   "execution_count": 18,
   "id": "a5e89ff4",
   "metadata": {},
   "outputs": [],
   "source": [
    "# (8) 하이퍼 파라미터인 학습률 설정하기"
   ]
  },
  {
   "cell_type": "code",
   "execution_count": 19,
   "id": "92ad5532",
   "metadata": {},
   "outputs": [],
   "source": [
    "# 학습률, learning rate 를 설정해주세요.\n",
    "# 만약 학습이 잘 되지 않는다면 learning rate 값을 한번 여러 가지로 설정하며 실험해 보세요."
   ]
  },
  {
   "cell_type": "code",
   "execution_count": 20,
   "id": "1319164c",
   "metadata": {},
   "outputs": [],
   "source": [
    "LEARNING_RATE = 0.01"
   ]
  },
  {
   "cell_type": "code",
   "execution_count": 21,
   "id": "8f93c69c",
   "metadata": {},
   "outputs": [],
   "source": [
    "# (9) 모델 학습하기"
   ]
  },
  {
   "cell_type": "code",
   "execution_count": 22,
   "id": "17ca0771",
   "metadata": {},
   "outputs": [],
   "source": [
    "# 정의된 손실함수와 기울기 함수로 모델을 학습해주세요.\n",
    "# loss값이 충분히 떨어질 때까지 학습을 진행해주세요.\n",
    "# 입력하는 데이터인 X에 들어가는 특성 컬럼들을 몇 개 빼도 괜찮습니다. 다양한 데이터로 실험해 보세요."
   ]
  },
  {
   "cell_type": "code",
   "execution_count": 23,
   "id": "2a4fd29a",
   "metadata": {},
   "outputs": [
    {
     "name": "stdout",
     "output_type": "stream",
     "text": [
      "Iteration 100 : Loss 6395.3678\n",
      "Iteration 200 : Loss 5915.5544\n",
      "Iteration 300 : Loss 5834.9246\n",
      "Iteration 400 : Loss 5763.5507\n",
      "Iteration 500 : Loss 5694.4994\n",
      "Iteration 600 : Loss 5627.5756\n",
      "Iteration 700 : Loss 5562.7051\n",
      "Iteration 800 : Loss 5499.8186\n",
      "Iteration 900 : Loss 5438.8491\n",
      "Iteration 1000 : Loss 5379.7318\n",
      "Iteration 1100 : Loss 5322.4043\n",
      "Iteration 1200 : Loss 5266.8065\n",
      "Iteration 1300 : Loss 5212.8801\n",
      "Iteration 1400 : Loss 5160.5692\n",
      "Iteration 1500 : Loss 5109.8194\n",
      "Iteration 1600 : Loss 5060.5786\n",
      "Iteration 1700 : Loss 5012.7963\n",
      "Iteration 1800 : Loss 4966.4237\n",
      "Iteration 1900 : Loss 4921.4140\n",
      "Iteration 2000 : Loss 4877.7216\n",
      "Iteration 2100 : Loss 4835.3028\n",
      "Iteration 2200 : Loss 4794.1154\n",
      "Iteration 2300 : Loss 4754.1185\n",
      "Iteration 2400 : Loss 4715.2727\n",
      "Iteration 2500 : Loss 4677.5400\n",
      "Iteration 2600 : Loss 4640.8837\n",
      "Iteration 2700 : Loss 4605.2683\n",
      "Iteration 2800 : Loss 4570.6596\n",
      "Iteration 2900 : Loss 4537.0245\n",
      "Iteration 3000 : Loss 4504.3313\n",
      "Iteration 3100 : Loss 4472.5491\n",
      "Iteration 3200 : Loss 4441.6481\n",
      "Iteration 3300 : Loss 4411.5997\n",
      "Iteration 3400 : Loss 4382.3761\n",
      "Iteration 3500 : Loss 4353.9506\n",
      "Iteration 3600 : Loss 4326.2974\n",
      "Iteration 3700 : Loss 4299.3915\n",
      "Iteration 3800 : Loss 4273.2088\n",
      "Iteration 3900 : Loss 4247.7261\n",
      "Iteration 4000 : Loss 4222.9209\n",
      "Iteration 4100 : Loss 4198.7714\n",
      "Iteration 4200 : Loss 4175.2568\n",
      "Iteration 4300 : Loss 4152.3568\n",
      "Iteration 4400 : Loss 4130.0519\n",
      "Iteration 4500 : Loss 4108.3232\n",
      "Iteration 4600 : Loss 4087.1525\n",
      "Iteration 4700 : Loss 4066.5222\n",
      "Iteration 4800 : Loss 4046.4152\n",
      "Iteration 4900 : Loss 4026.8152\n",
      "Iteration 5000 : Loss 4007.7062\n",
      "Iteration 5100 : Loss 3989.0730\n",
      "Iteration 5200 : Loss 3970.9008\n",
      "Iteration 5300 : Loss 3953.1752\n",
      "Iteration 5400 : Loss 3935.8825\n",
      "Iteration 5500 : Loss 3919.0092\n",
      "Iteration 5600 : Loss 3902.5425\n",
      "Iteration 5700 : Loss 3886.4699\n",
      "Iteration 5800 : Loss 3870.7794\n",
      "Iteration 5900 : Loss 3855.4594\n",
      "Iteration 6000 : Loss 3840.4985\n",
      "Iteration 6100 : Loss 3825.8860\n",
      "Iteration 6200 : Loss 3811.6114\n",
      "Iteration 6300 : Loss 3797.6644\n",
      "Iteration 6400 : Loss 3784.0353\n",
      "Iteration 6500 : Loss 3770.7146\n",
      "Iteration 6600 : Loss 3757.6932\n",
      "Iteration 6700 : Loss 3744.9622\n",
      "Iteration 6800 : Loss 3732.5129\n",
      "Iteration 6900 : Loss 3720.3373\n",
      "Iteration 7000 : Loss 3708.4272\n",
      "Iteration 7100 : Loss 3696.7749\n",
      "Iteration 7200 : Loss 3685.3729\n",
      "Iteration 7300 : Loss 3674.2141\n",
      "Iteration 7400 : Loss 3663.2913\n",
      "Iteration 7500 : Loss 3652.5980\n",
      "Iteration 7600 : Loss 3642.1274\n",
      "Iteration 7700 : Loss 3631.8733\n",
      "Iteration 7800 : Loss 3621.8296\n",
      "Iteration 7900 : Loss 3611.9904\n",
      "Iteration 8000 : Loss 3602.3499\n",
      "Iteration 8100 : Loss 3592.9026\n",
      "Iteration 8200 : Loss 3583.6431\n",
      "Iteration 8300 : Loss 3574.5663\n",
      "Iteration 8400 : Loss 3565.6671\n",
      "Iteration 8500 : Loss 3556.9407\n",
      "Iteration 8600 : Loss 3548.3825\n",
      "Iteration 8700 : Loss 3539.9877\n",
      "Iteration 8800 : Loss 3531.7522\n",
      "Iteration 8900 : Loss 3523.6715\n",
      "Iteration 9000 : Loss 3515.7417\n",
      "Iteration 9100 : Loss 3507.9586\n",
      "Iteration 9200 : Loss 3500.3184\n",
      "Iteration 9300 : Loss 3492.8175\n",
      "Iteration 9400 : Loss 3485.4521\n",
      "Iteration 9500 : Loss 3478.2188\n",
      "Iteration 9600 : Loss 3471.1142\n",
      "Iteration 9700 : Loss 3464.1350\n",
      "Iteration 9800 : Loss 3457.2779\n",
      "Iteration 9900 : Loss 3450.5400\n",
      "Iteration 10000 : Loss 3443.9183\n",
      "Iteration 10100 : Loss 3437.4097\n",
      "Iteration 10200 : Loss 3431.0116\n",
      "Iteration 10300 : Loss 3424.7212\n",
      "Iteration 10400 : Loss 3418.5359\n",
      "Iteration 10500 : Loss 3412.4531\n",
      "Iteration 10600 : Loss 3406.4703\n",
      "Iteration 10700 : Loss 3400.5852\n",
      "Iteration 10800 : Loss 3394.7954\n",
      "Iteration 10900 : Loss 3389.0987\n",
      "Iteration 11000 : Loss 3383.4928\n",
      "Iteration 11100 : Loss 3377.9758\n",
      "Iteration 11200 : Loss 3372.5454\n",
      "Iteration 11300 : Loss 3367.1997\n",
      "Iteration 11400 : Loss 3361.9367\n",
      "Iteration 11500 : Loss 3356.7547\n",
      "Iteration 11600 : Loss 3351.6517\n",
      "Iteration 11700 : Loss 3346.6260\n",
      "Iteration 11800 : Loss 3341.6759\n",
      "Iteration 11900 : Loss 3336.7997\n",
      "Iteration 12000 : Loss 3331.9958\n",
      "Iteration 12100 : Loss 3327.2626\n",
      "Iteration 12200 : Loss 3322.5986\n",
      "Iteration 12300 : Loss 3318.0022\n",
      "Iteration 12400 : Loss 3313.4722\n",
      "Iteration 12500 : Loss 3309.0070\n",
      "Iteration 12600 : Loss 3304.6054\n",
      "Iteration 12700 : Loss 3300.2659\n",
      "Iteration 12800 : Loss 3295.9874\n",
      "Iteration 12900 : Loss 3291.7685\n",
      "Iteration 13000 : Loss 3287.6080\n",
      "Iteration 13100 : Loss 3283.5048\n",
      "Iteration 13200 : Loss 3279.4578\n",
      "Iteration 13300 : Loss 3275.4657\n",
      "Iteration 13400 : Loss 3271.5276\n",
      "Iteration 13500 : Loss 3267.6423\n",
      "Iteration 13600 : Loss 3263.8089\n",
      "Iteration 13700 : Loss 3260.0264\n",
      "Iteration 13800 : Loss 3256.2937\n",
      "Iteration 13900 : Loss 3252.6099\n",
      "Iteration 14000 : Loss 3248.9742\n",
      "Iteration 14100 : Loss 3245.3855\n",
      "Iteration 14200 : Loss 3241.8431\n",
      "Iteration 14300 : Loss 3238.3461\n",
      "Iteration 14400 : Loss 3234.8937\n",
      "Iteration 14500 : Loss 3231.4850\n",
      "Iteration 14600 : Loss 3228.1192\n",
      "Iteration 14700 : Loss 3224.7957\n",
      "Iteration 14800 : Loss 3221.5137\n",
      "Iteration 14900 : Loss 3218.2723\n",
      "Iteration 15000 : Loss 3215.0710\n",
      "Iteration 15100 : Loss 3211.9090\n",
      "Iteration 15200 : Loss 3208.7857\n",
      "Iteration 15300 : Loss 3205.7003\n",
      "Iteration 15400 : Loss 3202.6523\n",
      "Iteration 15500 : Loss 3199.6411\n",
      "Iteration 15600 : Loss 3196.6659\n",
      "Iteration 15700 : Loss 3193.7263\n",
      "Iteration 15800 : Loss 3190.8216\n",
      "Iteration 15900 : Loss 3187.9513\n",
      "Iteration 16000 : Loss 3185.1148\n",
      "Iteration 16100 : Loss 3182.3115\n",
      "Iteration 16200 : Loss 3179.5410\n",
      "Iteration 16300 : Loss 3176.8028\n",
      "Iteration 16400 : Loss 3174.0962\n",
      "Iteration 16500 : Loss 3171.4209\n",
      "Iteration 16600 : Loss 3168.7763\n",
      "Iteration 16700 : Loss 3166.1619\n",
      "Iteration 16800 : Loss 3163.5774\n",
      "Iteration 16900 : Loss 3161.0222\n",
      "Iteration 17000 : Loss 3158.4960\n",
      "Iteration 17100 : Loss 3155.9982\n",
      "Iteration 17200 : Loss 3153.5284\n",
      "Iteration 17300 : Loss 3151.0864\n",
      "Iteration 17400 : Loss 3148.6715\n",
      "Iteration 17500 : Loss 3146.2835\n",
      "Iteration 17600 : Loss 3143.9219\n",
      "Iteration 17700 : Loss 3141.5864\n",
      "Iteration 17800 : Loss 3139.2767\n",
      "Iteration 17900 : Loss 3136.9922\n",
      "Iteration 18000 : Loss 3134.7327\n",
      "Iteration 18100 : Loss 3132.4979\n",
      "Iteration 18200 : Loss 3130.2873\n",
      "Iteration 18300 : Loss 3128.1007\n",
      "Iteration 18400 : Loss 3125.9377\n",
      "Iteration 18500 : Loss 3123.7980\n",
      "Iteration 18600 : Loss 3121.6813\n",
      "Iteration 18700 : Loss 3119.5873\n",
      "Iteration 18800 : Loss 3117.5156\n",
      "Iteration 18900 : Loss 3115.4660\n",
      "Iteration 19000 : Loss 3113.4382\n",
      "Iteration 19100 : Loss 3111.4318\n",
      "Iteration 19200 : Loss 3109.4466\n",
      "Iteration 19300 : Loss 3107.4824\n",
      "Iteration 19400 : Loss 3105.5388\n",
      "Iteration 19500 : Loss 3103.6156\n",
      "Iteration 19600 : Loss 3101.7126\n",
      "Iteration 19700 : Loss 3099.8294\n",
      "Iteration 19800 : Loss 3097.9658\n",
      "Iteration 19900 : Loss 3096.1216\n",
      "Iteration 20000 : Loss 3094.2965\n",
      "Iteration 20100 : Loss 3092.4902\n",
      "Iteration 20200 : Loss 3090.7026\n",
      "Iteration 20300 : Loss 3088.9335\n",
      "Iteration 20400 : Loss 3087.1825\n",
      "Iteration 20500 : Loss 3085.4494\n",
      "Iteration 20600 : Loss 3083.7342\n",
      "Iteration 20700 : Loss 3082.0364\n",
      "Iteration 20800 : Loss 3080.3559\n",
      "Iteration 20900 : Loss 3078.6926\n",
      "Iteration 21000 : Loss 3077.0461\n",
      "Iteration 21100 : Loss 3075.4163\n",
      "Iteration 21200 : Loss 3073.8031\n",
      "Iteration 21300 : Loss 3072.2061\n",
      "Iteration 21400 : Loss 3070.6252\n",
      "Iteration 21500 : Loss 3069.0602\n",
      "Iteration 21600 : Loss 3067.5110\n",
      "Iteration 21700 : Loss 3065.9772\n",
      "Iteration 21800 : Loss 3064.4589\n",
      "Iteration 21900 : Loss 3062.9557\n",
      "Iteration 22000 : Loss 3061.4675\n",
      "Iteration 22100 : Loss 3059.9942\n",
      "Iteration 22200 : Loss 3058.5355\n",
      "Iteration 22300 : Loss 3057.0913\n",
      "Iteration 22400 : Loss 3055.6615\n",
      "Iteration 22500 : Loss 3054.2458\n",
      "Iteration 22600 : Loss 3052.8440\n",
      "Iteration 22700 : Loss 3051.4562\n",
      "Iteration 22800 : Loss 3050.0820\n",
      "Iteration 22900 : Loss 3048.7214\n",
      "Iteration 23000 : Loss 3047.3741\n",
      "Iteration 23100 : Loss 3046.0401\n",
      "Iteration 23200 : Loss 3044.7191\n",
      "Iteration 23300 : Loss 3043.4111\n",
      "Iteration 23400 : Loss 3042.1159\n",
      "Iteration 23500 : Loss 3040.8333\n",
      "Iteration 23600 : Loss 3039.5632\n",
      "Iteration 23700 : Loss 3038.3055\n",
      "Iteration 23800 : Loss 3037.0601\n",
      "Iteration 23900 : Loss 3035.8268\n",
      "Iteration 24000 : Loss 3034.6054\n",
      "Iteration 24100 : Loss 3033.3959\n",
      "Iteration 24200 : Loss 3032.1980\n",
      "Iteration 24300 : Loss 3031.0118\n",
      "Iteration 24400 : Loss 3029.8371\n",
      "Iteration 24500 : Loss 3028.6736\n",
      "Iteration 24600 : Loss 3027.5214\n",
      "Iteration 24700 : Loss 3026.3803\n",
      "Iteration 24800 : Loss 3025.2502\n",
      "Iteration 24900 : Loss 3024.1309\n",
      "Iteration 25000 : Loss 3023.0223\n",
      "Iteration 25100 : Loss 3021.9244\n",
      "Iteration 25200 : Loss 3020.8370\n",
      "Iteration 25300 : Loss 3019.7600\n",
      "Iteration 25400 : Loss 3018.6933\n",
      "Iteration 25500 : Loss 3017.6368\n",
      "Iteration 25600 : Loss 3016.5904\n",
      "Iteration 25700 : Loss 3015.5539\n",
      "Iteration 25800 : Loss 3014.5273\n",
      "Iteration 25900 : Loss 3013.5105\n",
      "Iteration 26000 : Loss 3012.5033\n",
      "Iteration 26100 : Loss 3011.5057\n",
      "Iteration 26200 : Loss 3010.5176\n",
      "Iteration 26300 : Loss 3009.5388\n",
      "Iteration 26400 : Loss 3008.5693\n",
      "Iteration 26500 : Loss 3007.6090\n",
      "Iteration 26600 : Loss 3006.6577\n",
      "Iteration 26700 : Loss 3005.7154\n",
      "Iteration 26800 : Loss 3004.7820\n",
      "Iteration 26900 : Loss 3003.8574\n",
      "Iteration 27000 : Loss 3002.9415\n",
      "Iteration 27100 : Loss 3002.0342\n",
      "Iteration 27200 : Loss 3001.1354\n",
      "Iteration 27300 : Loss 3000.2451\n",
      "Iteration 27400 : Loss 2999.3632\n",
      "Iteration 27500 : Loss 2998.4895\n",
      "Iteration 27600 : Loss 2997.6240\n",
      "Iteration 27700 : Loss 2996.7666\n",
      "Iteration 27800 : Loss 2995.9172\n",
      "Iteration 27900 : Loss 2995.0757\n",
      "Iteration 28000 : Loss 2994.2421\n",
      "Iteration 28100 : Loss 2993.4163\n",
      "Iteration 28200 : Loss 2992.5982\n",
      "Iteration 28300 : Loss 2991.7877\n",
      "Iteration 28400 : Loss 2990.9848\n",
      "Iteration 28500 : Loss 2990.1893\n",
      "Iteration 28600 : Loss 2989.4012\n",
      "Iteration 28700 : Loss 2988.6204\n",
      "Iteration 28800 : Loss 2987.8469\n",
      "Iteration 28900 : Loss 2987.0805\n",
      "Iteration 29000 : Loss 2986.3213\n",
      "Iteration 29100 : Loss 2985.5690\n",
      "Iteration 29200 : Loss 2984.8238\n",
      "Iteration 29300 : Loss 2984.0854\n",
      "Iteration 29400 : Loss 2983.3538\n",
      "Iteration 29500 : Loss 2982.6290\n",
      "Iteration 29600 : Loss 2981.9109\n",
      "Iteration 29700 : Loss 2981.1994\n",
      "Iteration 29800 : Loss 2980.4944\n",
      "Iteration 29900 : Loss 2979.7959\n",
      "Iteration 30000 : Loss 2979.1039\n",
      "Iteration 30100 : Loss 2978.4182\n",
      "Iteration 30200 : Loss 2977.7388\n",
      "Iteration 30300 : Loss 2977.0657\n",
      "Iteration 30400 : Loss 2976.3987\n",
      "Iteration 30500 : Loss 2975.7378\n",
      "Iteration 30600 : Loss 2975.0830\n",
      "Iteration 30700 : Loss 2974.4342\n",
      "Iteration 30800 : Loss 2973.7913\n",
      "Iteration 30900 : Loss 2973.1543\n",
      "Iteration 31000 : Loss 2972.5230\n",
      "Iteration 31100 : Loss 2971.8976\n",
      "Iteration 31200 : Loss 2971.2779\n",
      "Iteration 31300 : Loss 2970.6638\n",
      "Iteration 31400 : Loss 2970.0553\n",
      "Iteration 31500 : Loss 2969.4523\n",
      "Iteration 31600 : Loss 2968.8548\n",
      "Iteration 31700 : Loss 2968.2627\n",
      "Iteration 31800 : Loss 2967.6761\n",
      "Iteration 31900 : Loss 2967.0947\n",
      "Iteration 32000 : Loss 2966.5186\n",
      "Iteration 32100 : Loss 2965.9478\n",
      "Iteration 32200 : Loss 2965.3821\n",
      "Iteration 32300 : Loss 2964.8215\n",
      "Iteration 32400 : Loss 2964.2660\n",
      "Iteration 32500 : Loss 2963.7155\n",
      "Iteration 32600 : Loss 2963.1700\n",
      "Iteration 32700 : Loss 2962.6294\n",
      "Iteration 32800 : Loss 2962.0937\n",
      "Iteration 32900 : Loss 2961.5628\n",
      "Iteration 33000 : Loss 2961.0367\n",
      "Iteration 33100 : Loss 2960.5153\n",
      "Iteration 33200 : Loss 2959.9986\n",
      "Iteration 33300 : Loss 2959.4866\n",
      "Iteration 33400 : Loss 2958.9791\n",
      "Iteration 33500 : Loss 2958.4762\n",
      "Iteration 33600 : Loss 2957.9779\n",
      "Iteration 33700 : Loss 2957.4839\n",
      "Iteration 33800 : Loss 2956.9945\n",
      "Iteration 33900 : Loss 2956.5094\n",
      "Iteration 34000 : Loss 2956.0286\n",
      "Iteration 34100 : Loss 2955.5521\n",
      "Iteration 34200 : Loss 2955.0799\n",
      "Iteration 34300 : Loss 2954.6119\n",
      "Iteration 34400 : Loss 2954.1481\n",
      "Iteration 34500 : Loss 2953.6884\n",
      "Iteration 34600 : Loss 2953.2329\n",
      "Iteration 34700 : Loss 2952.7813\n",
      "Iteration 34800 : Loss 2952.3338\n",
      "Iteration 34900 : Loss 2951.8903\n",
      "Iteration 35000 : Loss 2951.4507\n",
      "Iteration 35100 : Loss 2951.0150\n",
      "Iteration 35200 : Loss 2950.5832\n",
      "Iteration 35300 : Loss 2950.1552\n",
      "Iteration 35400 : Loss 2949.7310\n",
      "Iteration 35500 : Loss 2949.3106\n",
      "Iteration 35600 : Loss 2948.8939\n",
      "Iteration 35700 : Loss 2948.4808\n",
      "Iteration 35800 : Loss 2948.0714\n",
      "Iteration 35900 : Loss 2947.6657\n",
      "Iteration 36000 : Loss 2947.2635\n",
      "Iteration 36100 : Loss 2946.8649\n",
      "Iteration 36200 : Loss 2946.4697\n",
      "Iteration 36300 : Loss 2946.0781\n",
      "Iteration 36400 : Loss 2945.6899\n",
      "Iteration 36500 : Loss 2945.3051\n",
      "Iteration 36600 : Loss 2944.9238\n",
      "Iteration 36700 : Loss 2944.5457\n",
      "Iteration 36800 : Loss 2944.1710\n",
      "Iteration 36900 : Loss 2943.7996\n",
      "Iteration 37000 : Loss 2943.4314\n",
      "Iteration 37100 : Loss 2943.0664\n",
      "Iteration 37200 : Loss 2942.7047\n",
      "Iteration 37300 : Loss 2942.3461\n",
      "Iteration 37400 : Loss 2941.9906\n",
      "Iteration 37500 : Loss 2941.6383\n",
      "Iteration 37600 : Loss 2941.2890\n",
      "Iteration 37700 : Loss 2940.9428\n",
      "Iteration 37800 : Loss 2940.5996\n",
      "Iteration 37900 : Loss 2940.2594\n",
      "Iteration 38000 : Loss 2939.9222\n",
      "Iteration 38100 : Loss 2939.5879\n",
      "Iteration 38200 : Loss 2939.2565\n",
      "Iteration 38300 : Loss 2938.9279\n",
      "Iteration 38400 : Loss 2938.6023\n",
      "Iteration 38500 : Loss 2938.2794\n",
      "Iteration 38600 : Loss 2937.9594\n",
      "Iteration 38700 : Loss 2937.6421\n",
      "Iteration 38800 : Loss 2937.3276\n",
      "Iteration 38900 : Loss 2937.0158\n",
      "Iteration 39000 : Loss 2936.7067\n",
      "Iteration 39100 : Loss 2936.4003\n",
      "Iteration 39200 : Loss 2936.0965\n",
      "Iteration 39300 : Loss 2935.7954\n",
      "Iteration 39400 : Loss 2935.4968\n",
      "Iteration 39500 : Loss 2935.2008\n",
      "Iteration 39600 : Loss 2934.9074\n",
      "Iteration 39700 : Loss 2934.6165\n",
      "Iteration 39800 : Loss 2934.3281\n",
      "Iteration 39900 : Loss 2934.0422\n",
      "Iteration 40000 : Loss 2933.7587\n",
      "Iteration 40100 : Loss 2933.4777\n",
      "Iteration 40200 : Loss 2933.1991\n",
      "Iteration 40300 : Loss 2932.9228\n",
      "Iteration 40400 : Loss 2932.6490\n",
      "Iteration 40500 : Loss 2932.3775\n",
      "Iteration 40600 : Loss 2932.1083\n",
      "Iteration 40700 : Loss 2931.8414\n",
      "Iteration 40800 : Loss 2931.5768\n",
      "Iteration 40900 : Loss 2931.3144\n",
      "Iteration 41000 : Loss 2931.0543\n",
      "Iteration 41100 : Loss 2930.7964\n",
      "Iteration 41200 : Loss 2930.5407\n",
      "Iteration 41300 : Loss 2930.2872\n",
      "Iteration 41400 : Loss 2930.0358\n",
      "Iteration 41500 : Loss 2929.7866\n",
      "Iteration 41600 : Loss 2929.5395\n",
      "Iteration 41700 : Loss 2929.2945\n",
      "Iteration 41800 : Loss 2929.0515\n",
      "Iteration 41900 : Loss 2928.8106\n",
      "Iteration 42000 : Loss 2928.5718\n",
      "Iteration 42100 : Loss 2928.3350\n",
      "Iteration 42200 : Loss 2928.1002\n",
      "Iteration 42300 : Loss 2927.8674\n",
      "Iteration 42400 : Loss 2927.6365\n",
      "Iteration 42500 : Loss 2927.4076\n",
      "Iteration 42600 : Loss 2927.1806\n",
      "Iteration 42700 : Loss 2926.9556\n",
      "Iteration 42800 : Loss 2926.7324\n",
      "Iteration 42900 : Loss 2926.5111\n",
      "Iteration 43000 : Loss 2926.2917\n",
      "Iteration 43100 : Loss 2926.0741\n",
      "Iteration 43200 : Loss 2925.8584\n",
      "Iteration 43300 : Loss 2925.6444\n",
      "Iteration 43400 : Loss 2925.4323\n",
      "Iteration 43500 : Loss 2925.2219\n",
      "Iteration 43600 : Loss 2925.0133\n",
      "Iteration 43700 : Loss 2924.8065\n",
      "Iteration 43800 : Loss 2924.6013\n",
      "Iteration 43900 : Loss 2924.3979\n",
      "Iteration 44000 : Loss 2924.1962\n",
      "Iteration 44100 : Loss 2923.9962\n",
      "Iteration 44200 : Loss 2923.7978\n",
      "Iteration 44300 : Loss 2923.6011\n",
      "Iteration 44400 : Loss 2923.4060\n",
      "Iteration 44500 : Loss 2923.2126\n",
      "Iteration 44600 : Loss 2923.0207\n",
      "Iteration 44700 : Loss 2922.8305\n",
      "Iteration 44800 : Loss 2922.6418\n",
      "Iteration 44900 : Loss 2922.4547\n",
      "Iteration 45000 : Loss 2922.2692\n",
      "Iteration 45100 : Loss 2922.0851\n",
      "Iteration 45200 : Loss 2921.9027\n",
      "Iteration 45300 : Loss 2921.7217\n",
      "Iteration 45400 : Loss 2921.5422\n",
      "Iteration 45500 : Loss 2921.3642\n",
      "Iteration 45600 : Loss 2921.1877\n",
      "Iteration 45700 : Loss 2921.0126\n",
      "Iteration 45800 : Loss 2920.8389\n",
      "Iteration 45900 : Loss 2920.6667\n",
      "Iteration 46000 : Loss 2920.4959\n",
      "Iteration 46100 : Loss 2920.3266\n",
      "Iteration 46200 : Loss 2920.1586\n",
      "Iteration 46300 : Loss 2919.9920\n",
      "Iteration 46400 : Loss 2919.8267\n",
      "Iteration 46500 : Loss 2919.6628\n",
      "Iteration 46600 : Loss 2919.5003\n",
      "Iteration 46700 : Loss 2919.3390\n",
      "Iteration 46800 : Loss 2919.1791\n",
      "Iteration 46900 : Loss 2919.0206\n",
      "Iteration 47000 : Loss 2918.8633\n",
      "Iteration 47100 : Loss 2918.7072\n",
      "Iteration 47200 : Loss 2918.5525\n",
      "Iteration 47300 : Loss 2918.3990\n",
      "Iteration 47400 : Loss 2918.2468\n",
      "Iteration 47500 : Loss 2918.0958\n",
      "Iteration 47600 : Loss 2917.9460\n",
      "Iteration 47700 : Loss 2917.7975\n",
      "Iteration 47800 : Loss 2917.6501\n",
      "Iteration 47900 : Loss 2917.5040\n",
      "Iteration 48000 : Loss 2917.3590\n",
      "Iteration 48100 : Loss 2917.2152\n",
      "Iteration 48200 : Loss 2917.0726\n",
      "Iteration 48300 : Loss 2916.9311\n",
      "Iteration 48400 : Loss 2916.7908\n",
      "Iteration 48500 : Loss 2916.6516\n",
      "Iteration 48600 : Loss 2916.5135\n",
      "Iteration 48700 : Loss 2916.3765\n",
      "Iteration 48800 : Loss 2916.2407\n",
      "Iteration 48900 : Loss 2916.1059\n",
      "Iteration 49000 : Loss 2915.9722\n",
      "Iteration 49100 : Loss 2915.8396\n",
      "Iteration 49200 : Loss 2915.7080\n",
      "Iteration 49300 : Loss 2915.5775\n",
      "Iteration 49400 : Loss 2915.4481\n",
      "Iteration 49500 : Loss 2915.3197\n",
      "Iteration 49600 : Loss 2915.1923\n",
      "Iteration 49700 : Loss 2915.0659\n",
      "Iteration 49800 : Loss 2914.9406\n",
      "Iteration 49900 : Loss 2914.8162\n",
      "Iteration 50000 : Loss 2914.6928\n"
     ]
    }
   ],
   "source": [
    "losses = []\n",
    "\n",
    "for i in range(1, 50001):\n",
    "    dW, db = gradient(X_train, W, b, y_train)\n",
    "    W -= LEARNING_RATE * dW\n",
    "    b -= LEARNING_RATE * db\n",
    "    L = loss(X_train, W, b, y_train)\n",
    "    losses.append(L)\n",
    "    if i%100 == 0:\n",
    "        print('Iteration %d : Loss %0.4f' % (i, L))"
   ]
  },
  {
   "cell_type": "code",
   "execution_count": 24,
   "id": "89752936",
   "metadata": {},
   "outputs": [
    {
     "data": {
      "image/png": "[encoded data removed]",
      "text/plain": [
       "<Figure size 432x288 with 1 Axes>"
      ]
     },
     "metadata": {
      "needs_background": "light"
     },
     "output_type": "display_data"
    }
   ],
   "source": [
    "import matplotlib.pyplot as plt\n",
    "plt.plot(losses)\n",
    "plt.show()"
   ]
  },
  {
   "cell_type": "code",
   "execution_count": 25,
   "id": "16077c70",
   "metadata": {},
   "outputs": [
    {
     "data": {
      "text/plain": [
       "(array([  41.76351536, -203.14552658,  509.45203384,  325.01757251,\n",
       "         -71.07674355, -119.05443155, -216.03908789,  144.37238011,\n",
       "         376.69103238,  112.00711389]),\n",
       " 151.373024058107)"
      ]
     },
     "execution_count": 25,
     "metadata": {},
     "output_type": "execute_result"
    }
   ],
   "source": [
    "W, b"
   ]
  },
  {
   "cell_type": "code",
   "execution_count": 26,
   "id": "060b09b4",
   "metadata": {},
   "outputs": [],
   "source": [
    "# (10) test 데이터에 대한 성능 확인하기"
   ]
  },
  {
   "cell_type": "code",
   "execution_count": 27,
   "id": "e604455f",
   "metadata": {},
   "outputs": [],
   "source": [
    "# test 데이터에 대한 성능을 확인해주세요."
   ]
  },
  {
   "cell_type": "code",
   "execution_count": 28,
   "id": "de31f158",
   "metadata": {},
   "outputs": [
    {
     "data": {
      "text/plain": [
       "2866.6831091278495"
      ]
     },
     "execution_count": 28,
     "metadata": {},
     "output_type": "execute_result"
    }
   ],
   "source": [
    "prediction = model(X_test, W, b)\n",
    "mse = loss(X_test, W, b, y_test)\n",
    "mse"
   ]
  },
  {
   "cell_type": "code",
   "execution_count": 29,
   "id": "8cad352a",
   "metadata": {},
   "outputs": [],
   "source": [
    "# (11) 정답 데이터와 예측한 데이터 시각화하기"
   ]
  },
  {
   "cell_type": "code",
   "execution_count": 30,
   "id": "5427c9c0",
   "metadata": {},
   "outputs": [],
   "source": [
    "# x축에는 X 데이터의 첫 번째 컬럼을,\n",
    "# y축에는 정답인 target 데이터를 넣어서\n",
    "# 모델이 예측한 데이터를 시각화해 주세요."
   ]
  },
  {
   "cell_type": "code",
   "execution_count": 31,
   "id": "474cb875",
   "metadata": {},
   "outputs": [
    {
     "data": {
      "image/png": "[encoded data removed]",
      "text/plain": [
       "<Figure size 432x288 with 1 Axes>"
      ]
     },
     "metadata": {
      "needs_background": "light"
     },
     "output_type": "display_data"
    }
   ],
   "source": [
    "plt.scatter(X_test[:, 0], y_test)\n",
    "plt.scatter(X_test[:, 0], prediction)\n",
    "plt.show()"
   ]
  },
  {
   "cell_type": "code",
   "execution_count": null,
   "id": "659eeda0",
   "metadata": {},
   "outputs": [],
   "source": []
  },
  {
   "cell_type": "code",
   "execution_count": 107,
   "id": "9c607772",
   "metadata": {},
   "outputs": [],
   "source": [
    "# 2-2. 프로젝트 2 : 날씨 좋은 월요일 오후 세 시, 자전거 타는 사람은 몇 명?"
   ]
  },
  {
   "cell_type": "code",
   "execution_count": 108,
   "id": "c7a19bf0",
   "metadata": {},
   "outputs": [],
   "source": [
    "# 마지막 프로젝트로는 보다 실용적인 데이터셋을 활용할 예정입니다.\n",
    "# 바로 그 유명한 캐글(Kaggle) 경진대회에서 제공하는 데이터셋인데요!"
   ]
  },
  {
   "cell_type": "code",
   "execution_count": 109,
   "id": "16b72d33",
   "metadata": {},
   "outputs": [],
   "source": [
    "# 데이터셋의 주제는 시간, 온도, 습도, 계절 등의 정보가 담긴 데이터를 통해 \n",
    "# 자전거의 대여량을 예측하는 문제입니다."
   ]
  },
  {
   "cell_type": "code",
   "execution_count": 110,
   "id": "ae6469ab",
   "metadata": {},
   "outputs": [],
   "source": [
    "# 이번 프로젝트에서는 직접 손실함수와 기울기를 계산하지 않고,\n",
    "# 사이킷런(sklearn)의 LinearRegression 모델을 활용할 것입니다."
   ]
  },
  {
   "cell_type": "code",
   "execution_count": 111,
   "id": "97ac3f8b",
   "metadata": {},
   "outputs": [],
   "source": [
    "# (1) 데이터 가져오기"
   ]
  },
  {
   "cell_type": "code",
   "execution_count": 112,
   "id": "2a74eb85",
   "metadata": {},
   "outputs": [],
   "source": [
    "# 터미널에서 ~/data/data/bike-sharing-demand 경로에 \n",
    "# train.csv 데이터를 train 변수로 가져 옵니다."
   ]
  },
  {
   "cell_type": "code",
   "execution_count": 32,
   "id": "30e6fe95",
   "metadata": {},
   "outputs": [
    {
     "name": "stdout",
     "output_type": "stream",
     "text": [
      "(10886, 12)\n"
     ]
    },
    {
     "data": {
      "text/html": [
       "<div>\n",
       "<style scoped>\n",
       "    .dataframe tbody tr th:only-of-type {\n",
       "        vertical-align: middle;\n",
       "    }\n",
       "\n",
       "    .dataframe tbody tr th {\n",
       "        vertical-align: top;\n",
       "    }\n",
       "\n",
       "    .dataframe thead th {\n",
       "        text-align: right;\n",
       "    }\n",
       "</style>\n",
       "<table border=\"1\" class=\"dataframe\">\n",
       "  <thead>\n",
       "    <tr style=\"text-align: right;\">\n",
       "      <th></th>\n",
       "      <th>datetime</th>\n",
       "      <th>season</th>\n",
       "      <th>holiday</th>\n",
       "      <th>workingday</th>\n",
       "      <th>weather</th>\n",
       "      <th>temp</th>\n",
       "      <th>atemp</th>\n",
       "      <th>humidity</th>\n",
       "      <th>windspeed</th>\n",
       "      <th>casual</th>\n",
       "      <th>registered</th>\n",
       "      <th>count</th>\n",
       "    </tr>\n",
       "  </thead>\n",
       "  <tbody>\n",
       "    <tr>\n",
       "      <th>0</th>\n",
       "      <td>2011-01-01 00:00:00</td>\n",
       "      <td>1</td>\n",
       "      <td>0</td>\n",
       "      <td>0</td>\n",
       "      <td>1</td>\n",
       "      <td>9.84</td>\n",
       "      <td>14.395</td>\n",
       "      <td>81</td>\n",
       "      <td>0.0</td>\n",
       "      <td>3</td>\n",
       "      <td>13</td>\n",
       "      <td>16</td>\n",
       "    </tr>\n",
       "    <tr>\n",
       "      <th>1</th>\n",
       "      <td>2011-01-01 01:00:00</td>\n",
       "      <td>1</td>\n",
       "      <td>0</td>\n",
       "      <td>0</td>\n",
       "      <td>1</td>\n",
       "      <td>9.02</td>\n",
       "      <td>13.635</td>\n",
       "      <td>80</td>\n",
       "      <td>0.0</td>\n",
       "      <td>8</td>\n",
       "      <td>32</td>\n",
       "      <td>40</td>\n",
       "    </tr>\n",
       "    <tr>\n",
       "      <th>2</th>\n",
       "      <td>2011-01-01 02:00:00</td>\n",
       "      <td>1</td>\n",
       "      <td>0</td>\n",
       "      <td>0</td>\n",
       "      <td>1</td>\n",
       "      <td>9.02</td>\n",
       "      <td>13.635</td>\n",
       "      <td>80</td>\n",
       "      <td>0.0</td>\n",
       "      <td>5</td>\n",
       "      <td>27</td>\n",
       "      <td>32</td>\n",
       "    </tr>\n",
       "    <tr>\n",
       "      <th>3</th>\n",
       "      <td>2011-01-01 03:00:00</td>\n",
       "      <td>1</td>\n",
       "      <td>0</td>\n",
       "      <td>0</td>\n",
       "      <td>1</td>\n",
       "      <td>9.84</td>\n",
       "      <td>14.395</td>\n",
       "      <td>75</td>\n",
       "      <td>0.0</td>\n",
       "      <td>3</td>\n",
       "      <td>10</td>\n",
       "      <td>13</td>\n",
       "    </tr>\n",
       "    <tr>\n",
       "      <th>4</th>\n",
       "      <td>2011-01-01 04:00:00</td>\n",
       "      <td>1</td>\n",
       "      <td>0</td>\n",
       "      <td>0</td>\n",
       "      <td>1</td>\n",
       "      <td>9.84</td>\n",
       "      <td>14.395</td>\n",
       "      <td>75</td>\n",
       "      <td>0.0</td>\n",
       "      <td>0</td>\n",
       "      <td>1</td>\n",
       "      <td>1</td>\n",
       "    </tr>\n",
       "  </tbody>\n",
       "</table>\n",
       "</div>"
      ],
      "text/plain": [
       "              datetime  season  holiday  workingday  weather  temp   atemp  \\\n",
       "0  2011-01-01 00:00:00       1        0           0        1  9.84  14.395   \n",
       "1  2011-01-01 01:00:00       1        0           0        1  9.02  13.635   \n",
       "2  2011-01-01 02:00:00       1        0           0        1  9.02  13.635   \n",
       "3  2011-01-01 03:00:00       1        0           0        1  9.84  14.395   \n",
       "4  2011-01-01 04:00:00       1        0           0        1  9.84  14.395   \n",
       "\n",
       "   humidity  windspeed  casual  registered  count  \n",
       "0        81        0.0       3          13     16  \n",
       "1        80        0.0       8          32     40  \n",
       "2        80        0.0       5          27     32  \n",
       "3        75        0.0       3          10     13  \n",
       "4        75        0.0       0           1      1  "
      ]
     },
     "execution_count": 32,
     "metadata": {},
     "output_type": "execute_result"
    }
   ],
   "source": [
    "import pandas as pd\n",
    "\n",
    "train = pd.read_csv('~/data/data/bike-sharing-demand/train.csv')\n",
    "print(train.shape)\n",
    "train.head()"
   ]
  },
  {
   "cell_type": "code",
   "execution_count": 114,
   "id": "787ab9d8",
   "metadata": {},
   "outputs": [],
   "source": [
    "# (2) datetime 컬럼을 datetime 자료형으로 변환하고\n",
    "# 연, 월, 일, 시, 분, 초까지 6가지 컬럼 생성하기"
   ]
  },
  {
   "cell_type": "code",
   "execution_count": 115,
   "id": "1346b390",
   "metadata": {},
   "outputs": [],
   "source": [
    "# to_datetime 활용 : 링크 참조\n",
    "# pandas datetime extract year month day 키워드로 검색해 보기"
   ]
  },
  {
   "cell_type": "code",
   "execution_count": 33,
   "id": "007f805c",
   "metadata": {},
   "outputs": [],
   "source": [
    "train['datetime'] = pd.to_datetime(train['datetime'])\n",
    "train['year'] = train['datetime'].dt.year\n",
    "train['month'] = train['datetime'].dt.month\n",
    "train['day'] = train['datetime'].dt.day\n",
    "train['hour'] = train['datetime'].dt.hour\n",
    "train['min'] = train['datetime'].dt.minute\n",
    "train['second'] = train['datetime'].dt.second"
   ]
  },
  {
   "cell_type": "code",
   "execution_count": 34,
   "id": "0b4202d5",
   "metadata": {},
   "outputs": [
    {
     "data": {
      "text/html": [
       "<div>\n",
       "<style scoped>\n",
       "    .dataframe tbody tr th:only-of-type {\n",
       "        vertical-align: middle;\n",
       "    }\n",
       "\n",
       "    .dataframe tbody tr th {\n",
       "        vertical-align: top;\n",
       "    }\n",
       "\n",
       "    .dataframe thead th {\n",
       "        text-align: right;\n",
       "    }\n",
       "</style>\n",
       "<table border=\"1\" class=\"dataframe\">\n",
       "  <thead>\n",
       "    <tr style=\"text-align: right;\">\n",
       "      <th></th>\n",
       "      <th>datetime</th>\n",
       "      <th>season</th>\n",
       "      <th>holiday</th>\n",
       "      <th>workingday</th>\n",
       "      <th>weather</th>\n",
       "      <th>temp</th>\n",
       "      <th>atemp</th>\n",
       "      <th>humidity</th>\n",
       "      <th>windspeed</th>\n",
       "      <th>casual</th>\n",
       "      <th>registered</th>\n",
       "      <th>count</th>\n",
       "      <th>year</th>\n",
       "      <th>month</th>\n",
       "      <th>day</th>\n",
       "      <th>hour</th>\n",
       "      <th>min</th>\n",
       "      <th>second</th>\n",
       "    </tr>\n",
       "  </thead>\n",
       "  <tbody>\n",
       "    <tr>\n",
       "      <th>0</th>\n",
       "      <td>2011-01-01 00:00:00</td>\n",
       "      <td>1</td>\n",
       "      <td>0</td>\n",
       "      <td>0</td>\n",
       "      <td>1</td>\n",
       "      <td>9.84</td>\n",
       "      <td>14.395</td>\n",
       "      <td>81</td>\n",
       "      <td>0.0</td>\n",
       "      <td>3</td>\n",
       "      <td>13</td>\n",
       "      <td>16</td>\n",
       "      <td>2011</td>\n",
       "      <td>1</td>\n",
       "      <td>1</td>\n",
       "      <td>0</td>\n",
       "      <td>0</td>\n",
       "      <td>0</td>\n",
       "    </tr>\n",
       "    <tr>\n",
       "      <th>1</th>\n",
       "      <td>2011-01-01 01:00:00</td>\n",
       "      <td>1</td>\n",
       "      <td>0</td>\n",
       "      <td>0</td>\n",
       "      <td>1</td>\n",
       "      <td>9.02</td>\n",
       "      <td>13.635</td>\n",
       "      <td>80</td>\n",
       "      <td>0.0</td>\n",
       "      <td>8</td>\n",
       "      <td>32</td>\n",
       "      <td>40</td>\n",
       "      <td>2011</td>\n",
       "      <td>1</td>\n",
       "      <td>1</td>\n",
       "      <td>1</td>\n",
       "      <td>0</td>\n",
       "      <td>0</td>\n",
       "    </tr>\n",
       "    <tr>\n",
       "      <th>2</th>\n",
       "      <td>2011-01-01 02:00:00</td>\n",
       "      <td>1</td>\n",
       "      <td>0</td>\n",
       "      <td>0</td>\n",
       "      <td>1</td>\n",
       "      <td>9.02</td>\n",
       "      <td>13.635</td>\n",
       "      <td>80</td>\n",
       "      <td>0.0</td>\n",
       "      <td>5</td>\n",
       "      <td>27</td>\n",
       "      <td>32</td>\n",
       "      <td>2011</td>\n",
       "      <td>1</td>\n",
       "      <td>1</td>\n",
       "      <td>2</td>\n",
       "      <td>0</td>\n",
       "      <td>0</td>\n",
       "    </tr>\n",
       "    <tr>\n",
       "      <th>3</th>\n",
       "      <td>2011-01-01 03:00:00</td>\n",
       "      <td>1</td>\n",
       "      <td>0</td>\n",
       "      <td>0</td>\n",
       "      <td>1</td>\n",
       "      <td>9.84</td>\n",
       "      <td>14.395</td>\n",
       "      <td>75</td>\n",
       "      <td>0.0</td>\n",
       "      <td>3</td>\n",
       "      <td>10</td>\n",
       "      <td>13</td>\n",
       "      <td>2011</td>\n",
       "      <td>1</td>\n",
       "      <td>1</td>\n",
       "      <td>3</td>\n",
       "      <td>0</td>\n",
       "      <td>0</td>\n",
       "    </tr>\n",
       "    <tr>\n",
       "      <th>4</th>\n",
       "      <td>2011-01-01 04:00:00</td>\n",
       "      <td>1</td>\n",
       "      <td>0</td>\n",
       "      <td>0</td>\n",
       "      <td>1</td>\n",
       "      <td>9.84</td>\n",
       "      <td>14.395</td>\n",
       "      <td>75</td>\n",
       "      <td>0.0</td>\n",
       "      <td>0</td>\n",
       "      <td>1</td>\n",
       "      <td>1</td>\n",
       "      <td>2011</td>\n",
       "      <td>1</td>\n",
       "      <td>1</td>\n",
       "      <td>4</td>\n",
       "      <td>0</td>\n",
       "      <td>0</td>\n",
       "    </tr>\n",
       "  </tbody>\n",
       "</table>\n",
       "</div>"
      ],
      "text/plain": [
       "             datetime  season  holiday  workingday  weather  temp   atemp  \\\n",
       "0 2011-01-01 00:00:00       1        0           0        1  9.84  14.395   \n",
       "1 2011-01-01 01:00:00       1        0           0        1  9.02  13.635   \n",
       "2 2011-01-01 02:00:00       1        0           0        1  9.02  13.635   \n",
       "3 2011-01-01 03:00:00       1        0           0        1  9.84  14.395   \n",
       "4 2011-01-01 04:00:00       1        0           0        1  9.84  14.395   \n",
       "\n",
       "   humidity  windspeed  casual  registered  count  year  month  day  hour  \\\n",
       "0        81        0.0       3          13     16  2011      1    1     0   \n",
       "1        80        0.0       8          32     40  2011      1    1     1   \n",
       "2        80        0.0       5          27     32  2011      1    1     2   \n",
       "3        75        0.0       3          10     13  2011      1    1     3   \n",
       "4        75        0.0       0           1      1  2011      1    1     4   \n",
       "\n",
       "   min  second  \n",
       "0    0       0  \n",
       "1    0       0  \n",
       "2    0       0  \n",
       "3    0       0  \n",
       "4    0       0  "
      ]
     },
     "execution_count": 34,
     "metadata": {},
     "output_type": "execute_result"
    }
   ],
   "source": [
    "train.head()"
   ]
  },
  {
   "cell_type": "code",
   "execution_count": 134,
   "id": "52c0e6f1",
   "metadata": {},
   "outputs": [],
   "source": [
    "# (3) year, month, day, hour, minute, second 데이터 개수 시각화하기"
   ]
  },
  {
   "cell_type": "code",
   "execution_count": 145,
   "id": "7d6c0d96",
   "metadata": {},
   "outputs": [],
   "source": [
    "# sns.countplot 활용해서 시각화하기\n",
    "# subplot을 활용해서 한 번에 6개의 그래프 함께 시각화하기"
   ]
  },
  {
   "cell_type": "code",
   "execution_count": 35,
   "id": "f9c7cfb1",
   "metadata": {},
   "outputs": [
    {
     "data": {
      "image/png": "[encoded data removed]",
      "text/plain": [
       "<Figure size 1440x576 with 6 Axes>"
      ]
     },
     "metadata": {
      "needs_background": "light"
     },
     "output_type": "display_data"
    }
   ],
   "source": [
    "import seaborn as sns\n",
    "import numpy as np\n",
    "\n",
    "plt.figure(figsize=(20, 8))\n",
    "\n",
    "plt.subplot(3, 2, 1)\n",
    "sns.countplot(data=train, x='year')\n",
    "plt.subplot(3, 2, 2)\n",
    "sns.countplot(data=train, x='month')\n",
    "plt.subplot(3, 2, 3)\n",
    "sns.countplot(data=train, x='day')\n",
    "plt.subplot(3, 2, 4)\n",
    "sns.countplot(data=train, x='hour')\n",
    "plt.subplot(3, 2, 5)\n",
    "sns.countplot(data=train, x='min')\n",
    "plt.subplot(3, 2, 6)\n",
    "sns.countplot(data=train, x='second')\n",
    "plt.show()"
   ]
  },
  {
   "cell_type": "code",
   "execution_count": 146,
   "id": "39096e1b",
   "metadata": {},
   "outputs": [],
   "source": [
    "# (4) X, y 컬럼 선택 및 train/test 데이터 분리"
   ]
  },
  {
   "cell_type": "code",
   "execution_count": 147,
   "id": "f3ba79dd",
   "metadata": {},
   "outputs": [],
   "source": [
    "# X(feature) 에는 어떤 데이터 컬럼을 넣어야 될지 고민해 봅시다.\n",
    "# 만일 모든 데이터 컬럼(특징)을 넣는다면 오차 값이 말도 안 되게 적게 나올 수도 있습니다.\n",
    "# count 값을 맞추고자 하므로, y 변수에 count 컬럼의 데이터 넣기"
   ]
  },
  {
   "cell_type": "code",
   "execution_count": 39,
   "id": "cfb3b3f0",
   "metadata": {},
   "outputs": [
    {
     "data": {
      "text/html": [
       "<div>\n",
       "<style scoped>\n",
       "    .dataframe tbody tr th:only-of-type {\n",
       "        vertical-align: middle;\n",
       "    }\n",
       "\n",
       "    .dataframe tbody tr th {\n",
       "        vertical-align: top;\n",
       "    }\n",
       "\n",
       "    .dataframe thead th {\n",
       "        text-align: right;\n",
       "    }\n",
       "</style>\n",
       "<table border=\"1\" class=\"dataframe\">\n",
       "  <thead>\n",
       "    <tr style=\"text-align: right;\">\n",
       "      <th></th>\n",
       "      <th>holiday</th>\n",
       "      <th>workingday</th>\n",
       "      <th>weather</th>\n",
       "      <th>atemp</th>\n",
       "      <th>humidity</th>\n",
       "      <th>windspeed</th>\n",
       "      <th>count</th>\n",
       "      <th>month</th>\n",
       "      <th>hour</th>\n",
       "    </tr>\n",
       "  </thead>\n",
       "  <tbody>\n",
       "    <tr>\n",
       "      <th>0</th>\n",
       "      <td>0</td>\n",
       "      <td>0</td>\n",
       "      <td>1</td>\n",
       "      <td>14.395</td>\n",
       "      <td>81</td>\n",
       "      <td>0.0000</td>\n",
       "      <td>16</td>\n",
       "      <td>1</td>\n",
       "      <td>0</td>\n",
       "    </tr>\n",
       "    <tr>\n",
       "      <th>1</th>\n",
       "      <td>0</td>\n",
       "      <td>0</td>\n",
       "      <td>1</td>\n",
       "      <td>13.635</td>\n",
       "      <td>80</td>\n",
       "      <td>0.0000</td>\n",
       "      <td>40</td>\n",
       "      <td>1</td>\n",
       "      <td>1</td>\n",
       "    </tr>\n",
       "    <tr>\n",
       "      <th>2</th>\n",
       "      <td>0</td>\n",
       "      <td>0</td>\n",
       "      <td>1</td>\n",
       "      <td>13.635</td>\n",
       "      <td>80</td>\n",
       "      <td>0.0000</td>\n",
       "      <td>32</td>\n",
       "      <td>1</td>\n",
       "      <td>2</td>\n",
       "    </tr>\n",
       "    <tr>\n",
       "      <th>3</th>\n",
       "      <td>0</td>\n",
       "      <td>0</td>\n",
       "      <td>1</td>\n",
       "      <td>14.395</td>\n",
       "      <td>75</td>\n",
       "      <td>0.0000</td>\n",
       "      <td>13</td>\n",
       "      <td>1</td>\n",
       "      <td>3</td>\n",
       "    </tr>\n",
       "    <tr>\n",
       "      <th>4</th>\n",
       "      <td>0</td>\n",
       "      <td>0</td>\n",
       "      <td>1</td>\n",
       "      <td>14.395</td>\n",
       "      <td>75</td>\n",
       "      <td>0.0000</td>\n",
       "      <td>1</td>\n",
       "      <td>1</td>\n",
       "      <td>4</td>\n",
       "    </tr>\n",
       "    <tr>\n",
       "      <th>...</th>\n",
       "      <td>...</td>\n",
       "      <td>...</td>\n",
       "      <td>...</td>\n",
       "      <td>...</td>\n",
       "      <td>...</td>\n",
       "      <td>...</td>\n",
       "      <td>...</td>\n",
       "      <td>...</td>\n",
       "      <td>...</td>\n",
       "    </tr>\n",
       "    <tr>\n",
       "      <th>10881</th>\n",
       "      <td>0</td>\n",
       "      <td>1</td>\n",
       "      <td>1</td>\n",
       "      <td>19.695</td>\n",
       "      <td>50</td>\n",
       "      <td>26.0027</td>\n",
       "      <td>336</td>\n",
       "      <td>12</td>\n",
       "      <td>19</td>\n",
       "    </tr>\n",
       "    <tr>\n",
       "      <th>10882</th>\n",
       "      <td>0</td>\n",
       "      <td>1</td>\n",
       "      <td>1</td>\n",
       "      <td>17.425</td>\n",
       "      <td>57</td>\n",
       "      <td>15.0013</td>\n",
       "      <td>241</td>\n",
       "      <td>12</td>\n",
       "      <td>20</td>\n",
       "    </tr>\n",
       "    <tr>\n",
       "      <th>10883</th>\n",
       "      <td>0</td>\n",
       "      <td>1</td>\n",
       "      <td>1</td>\n",
       "      <td>15.910</td>\n",
       "      <td>61</td>\n",
       "      <td>15.0013</td>\n",
       "      <td>168</td>\n",
       "      <td>12</td>\n",
       "      <td>21</td>\n",
       "    </tr>\n",
       "    <tr>\n",
       "      <th>10884</th>\n",
       "      <td>0</td>\n",
       "      <td>1</td>\n",
       "      <td>1</td>\n",
       "      <td>17.425</td>\n",
       "      <td>61</td>\n",
       "      <td>6.0032</td>\n",
       "      <td>129</td>\n",
       "      <td>12</td>\n",
       "      <td>22</td>\n",
       "    </tr>\n",
       "    <tr>\n",
       "      <th>10885</th>\n",
       "      <td>0</td>\n",
       "      <td>1</td>\n",
       "      <td>1</td>\n",
       "      <td>16.665</td>\n",
       "      <td>66</td>\n",
       "      <td>8.9981</td>\n",
       "      <td>88</td>\n",
       "      <td>12</td>\n",
       "      <td>23</td>\n",
       "    </tr>\n",
       "  </tbody>\n",
       "</table>\n",
       "<p>10886 rows × 9 columns</p>\n",
       "</div>"
      ],
      "text/plain": [
       "       holiday  workingday  weather   atemp  humidity  windspeed  count  \\\n",
       "0            0           0        1  14.395        81     0.0000     16   \n",
       "1            0           0        1  13.635        80     0.0000     40   \n",
       "2            0           0        1  13.635        80     0.0000     32   \n",
       "3            0           0        1  14.395        75     0.0000     13   \n",
       "4            0           0        1  14.395        75     0.0000      1   \n",
       "...        ...         ...      ...     ...       ...        ...    ...   \n",
       "10881        0           1        1  19.695        50    26.0027    336   \n",
       "10882        0           1        1  17.425        57    15.0013    241   \n",
       "10883        0           1        1  15.910        61    15.0013    168   \n",
       "10884        0           1        1  17.425        61     6.0032    129   \n",
       "10885        0           1        1  16.665        66     8.9981     88   \n",
       "\n",
       "       month  hour  \n",
       "0          1     0  \n",
       "1          1     1  \n",
       "2          1     2  \n",
       "3          1     3  \n",
       "4          1     4  \n",
       "...      ...   ...  \n",
       "10881     12    19  \n",
       "10882     12    20  \n",
       "10883     12    21  \n",
       "10884     12    22  \n",
       "10885     12    23  \n",
       "\n",
       "[10886 rows x 9 columns]"
      ]
     },
     "execution_count": 39,
     "metadata": {},
     "output_type": "execute_result"
    }
   ],
   "source": [
    "train.drop(['datetime', 'year', 'day', 'min', 'second', 'season', 'temp', 'casual', 'registered'], axis=1)"
   ]
  },
  {
   "cell_type": "code",
   "execution_count": 41,
   "id": "4810950b",
   "metadata": {},
   "outputs": [],
   "source": [
    "X = train[['month', 'holiday', 'workingday', 'temp', 'humidity', 'windspeed', 'hour']].to_numpy()\n",
    "y = train['count'].to_numpy()"
   ]
  },
  {
   "cell_type": "code",
   "execution_count": 42,
   "id": "cd428960",
   "metadata": {},
   "outputs": [
    {
     "name": "stdout",
     "output_type": "stream",
     "text": [
      "(8708, 7) (8708,)\n",
      "(2178, 7) (2178,)\n"
     ]
    }
   ],
   "source": [
    "from sklearn.model_selection import train_test_split\n",
    "\n",
    "X_train, X_test, y_train, y_test = train_test_split(X, y, test_size=0.2, random_state=42)\n",
    "\n",
    "print(X_train.shape, y_train.shape)\n",
    "print(X_test.shape, y_test.shape)"
   ]
  },
  {
   "cell_type": "code",
   "execution_count": 43,
   "id": "dd1db57b",
   "metadata": {},
   "outputs": [],
   "source": [
    "# (5) LinearRegression 모델 학습"
   ]
  },
  {
   "cell_type": "code",
   "execution_count": 44,
   "id": "7584291b",
   "metadata": {},
   "outputs": [],
   "source": [
    "# sklearn의 LinearRegression 모델 불러오기 및 학습하기"
   ]
  },
  {
   "cell_type": "code",
   "execution_count": 46,
   "id": "674121f6",
   "metadata": {},
   "outputs": [
    {
     "data": {
      "text/plain": [
       "LinearRegression()"
      ]
     },
     "execution_count": 46,
     "metadata": {},
     "output_type": "execute_result"
    }
   ],
   "source": [
    "from sklearn.linear_model import LinearRegression\n",
    "\n",
    "model = LinearRegression()\n",
    "model.fit(X_train, y_train)"
   ]
  },
  {
   "cell_type": "code",
   "execution_count": 47,
   "id": "d7f4e6e8",
   "metadata": {},
   "outputs": [],
   "source": [
    "# (6) 학습된 모델로 X_test에 대한 예측값 출력 및 손실함수값 계산"
   ]
  },
  {
   "cell_type": "code",
   "execution_count": 49,
   "id": "524eb0eb",
   "metadata": {},
   "outputs": [],
   "source": [
    "# 학습된 모델에 X_test를 입력해서 예측값 출력하기\n",
    "# 모델이 예측한 값과 정답 target 간의 손실함수 값 계산하기\n",
    "# mse 값과 함께 rmse 값도 계산하기"
   ]
  },
  {
   "cell_type": "code",
   "execution_count": 50,
   "id": "87c9cb35",
   "metadata": {},
   "outputs": [
    {
     "data": {
      "text/plain": [
       "array([287.73494418,   4.41126929, 243.38482918, ..., 268.38310208,\n",
       "        -5.01578513, 206.5236416 ])"
      ]
     },
     "execution_count": 50,
     "metadata": {},
     "output_type": "execute_result"
    }
   ],
   "source": [
    "predictions = model.predict(X_test)\n",
    "predictions"
   ]
  },
  {
   "cell_type": "code",
   "execution_count": 53,
   "id": "79b1fb2b",
   "metadata": {},
   "outputs": [
    {
     "data": {
      "text/plain": [
       "21680.434621465207"
      ]
     },
     "execution_count": 53,
     "metadata": {},
     "output_type": "execute_result"
    }
   ],
   "source": [
    "from sklearn.metrics import mean_squared_error\n",
    "\n",
    "mse = mean_squared_error(y_test, predictions)\n",
    "mse"
   ]
  },
  {
   "cell_type": "code",
   "execution_count": 54,
   "id": "b1a6e260",
   "metadata": {},
   "outputs": [
    {
     "data": {
      "text/plain": [
       "147.24277442871417"
      ]
     },
     "execution_count": 54,
     "metadata": {},
     "output_type": "execute_result"
    }
   ],
   "source": [
    "rmse = mean_squared_error(y_test, predictions) ** 0.5\n",
    "rmse"
   ]
  },
  {
   "cell_type": "code",
   "execution_count": 55,
   "id": "f8d0dfdd",
   "metadata": {},
   "outputs": [],
   "source": [
    "# (7) x축은 temp 또는 humidity로, y축은 count로 예측 결과 시각화하기"
   ]
  },
  {
   "cell_type": "code",
   "execution_count": 56,
   "id": "719160fa",
   "metadata": {},
   "outputs": [],
   "source": [
    "# x축에 X 데이터 중 temp 데이터를, y축에는 count 데이터를 넣어서 시각화하기\n",
    "# x축에 X 데이터 중 humidity 데이터를, y축에는 count 데이터를 넣어서 시각화하기"
   ]
  },
  {
   "cell_type": "code",
   "execution_count": 57,
   "id": "6fbf0ad5",
   "metadata": {},
   "outputs": [
    {
     "data": {
      "image/png": "[encoded data removed]",
      "text/plain": [
       "<Figure size 432x288 with 1 Axes>"
      ]
     },
     "metadata": {
      "needs_background": "light"
     },
     "output_type": "display_data"
    }
   ],
   "source": [
    "plt.scatter(X_test[:, 3], y_test, label=\"true\")\n",
    "plt.scatter(X_test[:, 3], predictions, label=\"pred\")\n",
    "plt.ylabel('count')\n",
    "plt.xlabel('temp')\n",
    "plt.legend()\n",
    "plt.show()"
   ]
  },
  {
   "cell_type": "code",
   "execution_count": 58,
   "id": "5f5550ce",
   "metadata": {},
   "outputs": [
    {
     "data": {
      "image/png": "[encoded data removed]",
      "text/plain": [
       "<Figure size 432x288 with 1 Axes>"
      ]
     },
     "metadata": {
      "needs_background": "light"
     },
     "output_type": "display_data"
    }
   ],
   "source": [
    "plt.scatter(X_test[:, 4], y_test, label=\"true\")\n",
    "plt.scatter(X_test[:, 4], predictions, label=\"pred\")\n",
    "plt.ylabel('count')\n",
    "plt.xlabel('humidity')\n",
    "plt.legend()\n",
    "plt.show()"
   ]
  },
  {
   "cell_type": "code",
   "execution_count": null,
   "id": "d26023e0",
   "metadata": {},
   "outputs": [],
   "source": []
  }
 ],
 "metadata": {
  "kernelspec": {
   "display_name": "Python 3 (ipykernel)",
   "language": "python",
   "name": "python3"
  },
  "language_info": {
   "codemirror_mode": {
    "name": "ipython",
    "version": 3
   },
   "file_extension": ".py",
   "mimetype": "text/x-python",
   "name": "python",
   "nbconvert_exporter": "python",
   "pygments_lexer": "ipython3",
   "version": "3.9.7"
  }
 },
 "nbformat": 4,
 "nbformat_minor": 5
}
