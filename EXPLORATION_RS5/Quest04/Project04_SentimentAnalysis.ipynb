{
 "cells": [
  {
   "cell_type": "code",
   "execution_count": 1,
   "id": "08e86482",
   "metadata": {},
   "outputs": [],
   "source": [
    "# 프로젝트 : 네이버 영화리뷰 감성분석 도전하기"
   ]
  },
  {
   "cell_type": "code",
   "execution_count": 2,
   "id": "dae7996d",
   "metadata": {},
   "outputs": [],
   "source": [
    "# 데이터셋: 네이버 영화의 댓글을 모아 구성된 Naver sentiment movie corpus\n",
    "# 데이터 다운로드 없이 Cloud shell에서 해당 파일의 심볼릭 링크를 연결\n",
    "# $ ln -s ~/data/*.txt ~/aiffel/sentiment_classification/data"
   ]
  },
  {
   "cell_type": "code",
   "execution_count": 3,
   "id": "4af3ca77",
   "metadata": {},
   "outputs": [],
   "source": [
    "# 필요 라이브러리 가져오기 및 버전 확인"
   ]
  },
  {
   "cell_type": "code",
   "execution_count": 4,
   "id": "ab175793",
   "metadata": {},
   "outputs": [
    {
     "name": "stdout",
     "output_type": "stream",
     "text": [
      "1.3.3\n",
      "0.5.2\n",
      "4.1.2\n"
     ]
    }
   ],
   "source": [
    "import pandas\n",
    "import konlpy\n",
    "import gensim\n",
    "\n",
    "print(pandas.__version__)\n",
    "print(konlpy.__version__)\n",
    "print(gensim.__version__)"
   ]
  },
  {
   "cell_type": "code",
   "execution_count": 5,
   "id": "2a2ef1e8",
   "metadata": {},
   "outputs": [],
   "source": [
    "# 1) 데이터 준비와 확인"
   ]
  },
  {
   "cell_type": "code",
   "execution_count": 6,
   "id": "4068f0e2",
   "metadata": {},
   "outputs": [
    {
     "data": {
      "text/html": [
       "<div>\n",
       "<style scoped>\n",
       "    .dataframe tbody tr th:only-of-type {\n",
       "        vertical-align: middle;\n",
       "    }\n",
       "\n",
       "    .dataframe tbody tr th {\n",
       "        vertical-align: top;\n",
       "    }\n",
       "\n",
       "    .dataframe thead th {\n",
       "        text-align: right;\n",
       "    }\n",
       "</style>\n",
       "<table border=\"1\" class=\"dataframe\">\n",
       "  <thead>\n",
       "    <tr style=\"text-align: right;\">\n",
       "      <th></th>\n",
       "      <th>id</th>\n",
       "      <th>document</th>\n",
       "      <th>label</th>\n",
       "    </tr>\n",
       "  </thead>\n",
       "  <tbody>\n",
       "    <tr>\n",
       "      <th>0</th>\n",
       "      <td>9976970</td>\n",
       "      <td>아 더빙.. 진짜 짜증나네요 목소리</td>\n",
       "      <td>0</td>\n",
       "    </tr>\n",
       "    <tr>\n",
       "      <th>1</th>\n",
       "      <td>3819312</td>\n",
       "      <td>흠...포스터보고 초딩영화줄....오버연기조차 가볍지 않구나</td>\n",
       "      <td>1</td>\n",
       "    </tr>\n",
       "    <tr>\n",
       "      <th>2</th>\n",
       "      <td>10265843</td>\n",
       "      <td>너무재밓었다그래서보는것을추천한다</td>\n",
       "      <td>0</td>\n",
       "    </tr>\n",
       "    <tr>\n",
       "      <th>3</th>\n",
       "      <td>9045019</td>\n",
       "      <td>교도소 이야기구먼 ..솔직히 재미는 없다..평점 조정</td>\n",
       "      <td>0</td>\n",
       "    </tr>\n",
       "    <tr>\n",
       "      <th>4</th>\n",
       "      <td>6483659</td>\n",
       "      <td>사이몬페그의 익살스런 연기가 돋보였던 영화!스파이더맨에서 늙어보이기만 했던 커스틴 ...</td>\n",
       "      <td>1</td>\n",
       "    </tr>\n",
       "  </tbody>\n",
       "</table>\n",
       "</div>"
      ],
      "text/plain": [
       "         id                                           document  label\n",
       "0   9976970                                아 더빙.. 진짜 짜증나네요 목소리      0\n",
       "1   3819312                  흠...포스터보고 초딩영화줄....오버연기조차 가볍지 않구나      1\n",
       "2  10265843                                  너무재밓었다그래서보는것을추천한다      0\n",
       "3   9045019                      교도소 이야기구먼 ..솔직히 재미는 없다..평점 조정      0\n",
       "4   6483659  사이몬페그의 익살스런 연기가 돋보였던 영화!스파이더맨에서 늙어보이기만 했던 커스틴 ...      1"
      ]
     },
     "execution_count": 6,
     "metadata": {},
     "output_type": "execute_result"
    }
   ],
   "source": [
    "import pandas as pd\n",
    "\n",
    "# 데이터를 읽어봅시다. \n",
    "train_data = pd.read_table('~/aiffel/sentiment_classification/data/ratings_train.txt')\n",
    "test_data = pd.read_table('~/aiffel/sentiment_classification/data/ratings_test.txt')\n",
    "\n",
    "train_data.head()"
   ]
  },
  {
   "cell_type": "code",
   "execution_count": 7,
   "id": "ba2be2bd",
   "metadata": {},
   "outputs": [],
   "source": [
    "# 2) 데이터로더 구성"
   ]
  },
  {
   "cell_type": "code",
   "execution_count": 7,
   "id": "ce1f5ecc",
   "metadata": {},
   "outputs": [],
   "source": [
    "from konlpy.tag import Mecab\n",
    "import numpy as np\n",
    "from collections import Counter\n",
    "\n",
    "tokenizer = Mecab()\n",
    "stopwords = ['의','가','이','은','들','는','좀','잘','걍','과','도','를','으로','자','에','와','한','하다']"
   ]
  },
  {
   "cell_type": "code",
   "execution_count": 9,
   "id": "2466e181",
   "metadata": {},
   "outputs": [],
   "source": [
    "def load_data(train_data, test_data, num_words=10000):\n",
    "    # 데이터의 중복 및 NaN 결측치 제거\n",
    "    train_data.drop_duplicates(subset=['document'], inplace=True)\n",
    "    train_data = train_data.dropna(how = 'any') \n",
    "    test_data.drop_duplicates(subset=['document'], inplace=True)\n",
    "    test_data = test_data.dropna(how = 'any') \n",
    "    \n",
    "    # 한국어 토크나이저로 토큰화 및 불용어(Stopwords) 제거\n",
    "    X_train = []\n",
    "    for sentence in train_data['document']:\n",
    "        temp_X = tokenizer.morphs(sentence) # 토큰화\n",
    "        temp_X = [word for word in temp_X if not word in stopwords] # 불용어 제거\n",
    "        X_train.append(temp_X)\n",
    "\n",
    "    X_test = []\n",
    "    for sentence in test_data['document']:\n",
    "        temp_X = tokenizer.morphs(sentence) # 토큰화\n",
    "        temp_X = [word for word in temp_X if not word in stopwords] # 불용어 제거\n",
    "        X_test.append(temp_X)\n",
    "    \n",
    "    # 사전word_to_index 구성\n",
    "    words = np.concatenate(X_train).tolist()\n",
    "    counter = Counter(words)\n",
    "    counter = counter.most_common(10000-4)\n",
    "    vocab = ['<PAD>','<BOS>', '<UNK>', '<UNUSED>'] + [key for key, _ in counter]\n",
    "    word_to_index = {word:index for index, word in enumerate(vocab)}\n",
    "    \n",
    "    # 텍스트 스트링을 사전 인덱스 스트링으로 변환\n",
    "    def wordlist_to_indexlist(wordlist):\n",
    "        return [word_to_index[word] if word in word_to_index else word_to_index['<UNK>'] for word in wordlist]\n",
    "        \n",
    "    X_train = list(map(wordlist_to_indexlist, X_train))\n",
    "    X_test = list(map(wordlist_to_indexlist, X_test))\n",
    "        \n",
    "    return X_train, np.array(list(train_data['label'])), X_test, np.array(list(test_data['label'])), word_to_index"
   ]
  },
  {
   "cell_type": "code",
   "execution_count": 10,
   "id": "b5dcc9de",
   "metadata": {},
   "outputs": [],
   "source": [
    "X_train, y_train, X_test, y_test, word_to_index = load_data(train_data, test_data)"
   ]
  },
  {
   "cell_type": "code",
   "execution_count": 11,
   "id": "0fcc3b65",
   "metadata": {},
   "outputs": [
    {
     "name": "stdout",
     "output_type": "stream",
     "text": [
      "146182 146182\n",
      "49157 49157\n"
     ]
    }
   ],
   "source": [
    "print(len(X_train), len(y_train))\n",
    "print(len(X_test), len(y_test))"
   ]
  },
  {
   "cell_type": "code",
   "execution_count": 12,
   "id": "dd778da5",
   "metadata": {},
   "outputs": [],
   "source": [
    "index_to_word = {index:word for word, index in word_to_index.items()}"
   ]
  },
  {
   "cell_type": "code",
   "execution_count": 13,
   "id": "63420b9d",
   "metadata": {},
   "outputs": [],
   "source": [
    "# 문장 1개를 활용할 딕셔너리와 함께 주면, 단어 인덱스 리스트 벡터로 변환해 주는 함수입니다. \n",
    "# 단, 모든 문장은 <BOS>로 시작하는 것으로 합니다. \n",
    "def get_encoded_sentence(sentence, word_to_index):\n",
    "    return [word_to_index['<BOS>']]+[word_to_index[word] if word in word_to_index else word_to_index['<UNK>'] for word in sentence.split()]\n",
    "\n",
    "# 여러 개의 문장 리스트를 한꺼번에 단어 인덱스 리스트 벡터로 encode해 주는 함수입니다. \n",
    "def get_encoded_sentences(sentences, word_to_index):\n",
    "    return [get_encoded_sentence(sentence, word_to_index) for sentence in sentences]\n",
    "\n",
    "# 숫자 벡터로 encode된 문장을 원래대로 decode하는 함수입니다. \n",
    "def get_decoded_sentence(encoded_sentence, index_to_word):\n",
    "    return ' '.join(index_to_word[index] if index in index_to_word else '<UNK>' for index in encoded_sentence[1:])  #[1:]를 통해 <BOS>를 제외\n",
    "\n",
    "# 여러 개의 숫자 벡터로 encode된 문장을 한꺼번에 원래대로 decode하는 함수입니다. \n",
    "def get_decoded_sentences(encoded_sentences, index_to_word):\n",
    "    return [get_decoded_sentence(encoded_sentence, index_to_word) for encoded_sentence in encoded_sentences]"
   ]
  },
  {
   "cell_type": "code",
   "execution_count": 14,
   "id": "92d10a75",
   "metadata": {},
   "outputs": [],
   "source": [
    "# 3) 모델 구성을 위한 데이터 분석 및 가공"
   ]
  },
  {
   "cell_type": "code",
   "execution_count": 15,
   "id": "08117577",
   "metadata": {},
   "outputs": [],
   "source": [
    "# 데이터셋 내 문장 길이 분포 확인"
   ]
  },
  {
   "cell_type": "code",
   "execution_count": 16,
   "id": "75173244",
   "metadata": {},
   "outputs": [
    {
     "name": "stdout",
     "output_type": "stream",
     "text": [
      "전체 문장길이: 195339\n",
      "문장 길이 평균 :  15.96940191154864\n",
      "문장 길이 최대 :  116\n",
      "문장 길이 표준편차 :  12.843571191092\n"
     ]
    },
    {
     "data": {
      "image/png": "[encoded data removed]",
      "text/plain": [
       "<Figure size 432x288 with 1 Axes>"
      ]
     },
     "metadata": {
      "needs_background": "light"
     },
     "output_type": "display_data"
    }
   ],
   "source": [
    "import matplotlib.pyplot as plt\n",
    "\n",
    "# 전체 문장 길이\n",
    "total_data_text = list(X_train) + list(X_test)\n",
    "num_tokens = [len(tokens) for tokens in total_data_text]\n",
    "num_tokens = np.array(num_tokens)\n",
    "print(\"전체 문장길이:\", len(num_tokens))\n",
    "\n",
    "# 문장 길이의 평균값, 최대값, 표준편차\n",
    "print('문장 길이 평균 : ', np.mean(num_tokens))\n",
    "print('문장 길이 최대 : ', np.max(num_tokens))\n",
    "print('문장 길이 표준편차 : ', np.std(num_tokens))\n",
    "\n",
    "# 문장 길이 분포 확인\n",
    "plt.hist(num_tokens, bins=50)\n",
    "plt.show()"
   ]
  },
  {
   "cell_type": "code",
   "execution_count": 17,
   "id": "accdd112",
   "metadata": {},
   "outputs": [],
   "source": [
    "# 적절한 최대 문장 길이 지정"
   ]
  },
  {
   "cell_type": "code",
   "execution_count": 18,
   "id": "ac45f62d",
   "metadata": {},
   "outputs": [
    {
     "name": "stdout",
     "output_type": "stream",
     "text": [
      "pad_sequences maxlen :  41\n",
      "전체 문장의 0.9342988343341575%가 maxlen 설정값 이내에 포함됩니다. \n"
     ]
    }
   ],
   "source": [
    "max_tokens = np.mean(num_tokens) + 2 * np.std(num_tokens)\n",
    "maxlen = int(max_tokens)\n",
    "print('pad_sequences maxlen : ', maxlen)\n",
    "print(f'전체 문장의 {np.sum(num_tokens < max_tokens) / len(num_tokens)}%가 maxlen 설정값 이내에 포함됩니다. ')"
   ]
  },
  {
   "cell_type": "code",
   "execution_count": 19,
   "id": "9d60cfbe",
   "metadata": {},
   "outputs": [],
   "source": [
    "# maxlen=41이 됩니다."
   ]
  },
  {
   "cell_type": "code",
   "execution_count": 20,
   "id": "449bfc25",
   "metadata": {},
   "outputs": [],
   "source": [
    "# keras.preprocessing.sequence.pad_sequences 을 활용한 패딩 추가"
   ]
  },
  {
   "cell_type": "code",
   "execution_count": 21,
   "id": "411bc0e3",
   "metadata": {},
   "outputs": [
    {
     "name": "stdout",
     "output_type": "stream",
     "text": [
      "(146182, 41)\n"
     ]
    }
   ],
   "source": [
    "import tensorflow as tf\n",
    "from tensorflow.keras.preprocessing.sequence import pad_sequences\n",
    "\n",
    "X_train = pad_sequences(X_train, value=word_to_index[\"<PAD>\"], padding='pre', maxlen=maxlen)\n",
    "\n",
    "X_test = pad_sequences(X_test, value=word_to_index[\"<PAD>\"], padding='pre', maxlen=maxlen)\n",
    "\n",
    "print(X_train.shape)"
   ]
  },
  {
   "cell_type": "code",
   "execution_count": 52,
   "id": "cb0525c1",
   "metadata": {},
   "outputs": [],
   "source": [
    "# 4) 모델 구성 및 validation set 구성"
   ]
  },
  {
   "cell_type": "code",
   "execution_count": 103,
   "id": "660ba774",
   "metadata": {},
   "outputs": [],
   "source": [
    "# validation set 구성(8:2)"
   ]
  },
  {
   "cell_type": "code",
   "execution_count": 22,
   "id": "73410e1a",
   "metadata": {},
   "outputs": [
    {
     "name": "stdout",
     "output_type": "stream",
     "text": [
      "29236\n"
     ]
    }
   ],
   "source": [
    "val_size = 0.2\n",
    "val_idx = round(len(X_train)*val_size)\n",
    "\n",
    "print(val_idx)\n",
    "\n",
    "# 학습용 데이터셋\n",
    "X_train = X_train[val_idx:]  \n",
    "y_train = y_train[val_idx:]\n",
    "\n",
    "# validation 용 데이터셋\n",
    "X_val = X_train[:val_idx]   \n",
    "y_val = y_train[:val_idx]"
   ]
  },
  {
   "cell_type": "code",
   "execution_count": 23,
   "id": "6dfd4e9e",
   "metadata": {},
   "outputs": [
    {
     "name": "stdout",
     "output_type": "stream",
     "text": [
      "(116946, 41) (116946,)\n",
      "(29236, 41) (29236,)\n"
     ]
    }
   ],
   "source": [
    "print(X_train.shape, y_train.shape)\n",
    "print(X_val.shape, y_val.shape)"
   ]
  },
  {
   "cell_type": "code",
   "execution_count": null,
   "id": "74f8128b",
   "metadata": {},
   "outputs": [],
   "source": [
    "# 모델 구성"
   ]
  },
  {
   "cell_type": "code",
   "execution_count": 53,
   "id": "88e146cf",
   "metadata": {},
   "outputs": [],
   "source": [
    "# 1) LSTM 모델"
   ]
  },
  {
   "cell_type": "code",
   "execution_count": 24,
   "id": "7742fa63",
   "metadata": {},
   "outputs": [
    {
     "name": "stdout",
     "output_type": "stream",
     "text": [
      "Model: \"sequential\"\n",
      "_________________________________________________________________\n",
      "Layer (type)                 Output Shape              Param #   \n",
      "=================================================================\n",
      "embedding (Embedding)        (None, None, 16)          160000    \n",
      "_________________________________________________________________\n",
      "lstm (LSTM)                  (None, 10)                1080      \n",
      "_________________________________________________________________\n",
      "dense (Dense)                (None, 8)                 88        \n",
      "_________________________________________________________________\n",
      "dense_1 (Dense)              (None, 1)                 9         \n",
      "=================================================================\n",
      "Total params: 161,177\n",
      "Trainable params: 161,177\n",
      "Non-trainable params: 0\n",
      "_________________________________________________________________\n",
      "Epoch 1/20\n",
      "229/229 [==============================] - 43s 116ms/step - loss: 0.5594 - accuracy: 0.7469 - val_loss: 0.4631 - val_accuracy: 0.8566\n",
      "Epoch 2/20\n",
      "229/229 [==============================] - 25s 110ms/step - loss: 0.4485 - accuracy: 0.8522 - val_loss: 0.4096 - val_accuracy: 0.8731\n",
      "Epoch 3/20\n",
      "229/229 [==============================] - 25s 111ms/step - loss: 0.3905 - accuracy: 0.8660 - val_loss: 0.3135 - val_accuracy: 0.8840\n",
      "Epoch 4/20\n",
      "229/229 [==============================] - 25s 110ms/step - loss: 0.3153 - accuracy: 0.8746 - val_loss: 0.2841 - val_accuracy: 0.8908\n",
      "Epoch 5/20\n",
      "229/229 [==============================] - 25s 110ms/step - loss: 0.2924 - accuracy: 0.8850 - val_loss: 0.2629 - val_accuracy: 0.9023\n",
      "Epoch 6/20\n",
      "229/229 [==============================] - 25s 111ms/step - loss: 0.2765 - accuracy: 0.8926 - val_loss: 0.2520 - val_accuracy: 0.9073\n",
      "Epoch 7/20\n",
      "229/229 [==============================] - 25s 110ms/step - loss: 0.2628 - accuracy: 0.8992 - val_loss: 0.2374 - val_accuracy: 0.9135\n",
      "Epoch 8/20\n",
      "229/229 [==============================] - 25s 111ms/step - loss: 0.2504 - accuracy: 0.9053 - val_loss: 0.2246 - val_accuracy: 0.9192\n",
      "Epoch 9/20\n",
      "229/229 [==============================] - 25s 110ms/step - loss: 0.2391 - accuracy: 0.9104 - val_loss: 0.2153 - val_accuracy: 0.9242\n",
      "Epoch 10/20\n",
      "229/229 [==============================] - 25s 110ms/step - loss: 0.2281 - accuracy: 0.9154 - val_loss: 0.2094 - val_accuracy: 0.9259\n",
      "Epoch 11/20\n",
      "229/229 [==============================] - 25s 110ms/step - loss: 0.2184 - accuracy: 0.9193 - val_loss: 0.1978 - val_accuracy: 0.9312\n",
      "Epoch 12/20\n",
      "229/229 [==============================] - 25s 110ms/step - loss: 0.2075 - accuracy: 0.9248 - val_loss: 0.1891 - val_accuracy: 0.9346\n",
      "Epoch 13/20\n",
      "229/229 [==============================] - 25s 111ms/step - loss: 0.1979 - accuracy: 0.9289 - val_loss: 0.1774 - val_accuracy: 0.9386\n",
      "Epoch 14/20\n",
      "229/229 [==============================] - 25s 109ms/step - loss: 0.1887 - accuracy: 0.9332 - val_loss: 0.1674 - val_accuracy: 0.9448\n",
      "Epoch 15/20\n",
      "229/229 [==============================] - 25s 110ms/step - loss: 0.1793 - accuracy: 0.9373 - val_loss: 0.1565 - val_accuracy: 0.9485\n",
      "Epoch 16/20\n",
      "229/229 [==============================] - 25s 109ms/step - loss: 0.1715 - accuracy: 0.9404 - val_loss: 0.1507 - val_accuracy: 0.9503\n",
      "Epoch 17/20\n",
      "229/229 [==============================] - 25s 109ms/step - loss: 0.1626 - accuracy: 0.9444 - val_loss: 0.1438 - val_accuracy: 0.9526\n",
      "Epoch 18/20\n",
      "229/229 [==============================] - 25s 110ms/step - loss: 0.1564 - accuracy: 0.9461 - val_loss: 0.1381 - val_accuracy: 0.9562\n",
      "Epoch 19/20\n",
      "229/229 [==============================] - 25s 109ms/step - loss: 0.1501 - accuracy: 0.9489 - val_loss: 0.1310 - val_accuracy: 0.9583\n",
      "Epoch 20/20\n",
      "229/229 [==============================] - 25s 109ms/step - loss: 0.1443 - accuracy: 0.9514 - val_loss: 0.1268 - val_accuracy: 0.9597\n"
     ]
    }
   ],
   "source": [
    "vocab_size = 10000    # 어휘 사전의 크기입니다(10,000개의 단어)\n",
    "word_vector_dim = 16  # 워드 벡터의 차원 수 (변경 가능한 하이퍼파라미터)\n",
    "\n",
    "# model 설계 - 딥러닝 모델 코드를 직접 작성해 주세요.\n",
    "model_lstm = tf.keras.Sequential()\n",
    "# [[YOUR CODE]]\n",
    "model_lstm.add(tf.keras.layers.Embedding(input_dim=vocab_size, output_dim=word_vector_dim, mask_zero=True))\n",
    "model_lstm.add(tf.keras.layers.LSTM(10))   # 가장 널리 쓰이는 RNN인 LSTM 레이어를 사용하였습니다. 이때 LSTM state 벡터의 차원수는 8로 하였습니다. (변경 가능)\n",
    "model_lstm.add(tf.keras.layers.Dense(8, activation='relu'))\n",
    "model_lstm.add(tf.keras.layers.Dense(1, activation='sigmoid'))  # 최종 출력은 긍정/부정을 나타내는 1dim 입니다.\n",
    "model_lstm.summary()\n",
    "\n",
    "model_lstm.compile(optimizer='adam',\n",
    "              loss='binary_crossentropy',\n",
    "              metrics=['accuracy'])\n",
    "              \n",
    "epochs=20  # 몇 epoch를 훈련하면 좋을지 결과를 보면서 바꾸어 봅시다. \n",
    "\n",
    "history_lstm = model_lstm.fit(X_train,\n",
    "                    y_train,\n",
    "                    epochs=epochs,\n",
    "                    batch_size=512,\n",
    "                    validation_data=(X_val, y_val),\n",
    "                    verbose=1)"
   ]
  },
  {
   "cell_type": "code",
   "execution_count": 25,
   "id": "0234bfa0",
   "metadata": {},
   "outputs": [],
   "source": [
    "# 2) 1D CNN 모델"
   ]
  },
  {
   "cell_type": "code",
   "execution_count": 26,
   "id": "d4c7a505",
   "metadata": {},
   "outputs": [
    {
     "name": "stdout",
     "output_type": "stream",
     "text": [
      "Model: \"sequential_1\"\n",
      "_________________________________________________________________\n",
      "Layer (type)                 Output Shape              Param #   \n",
      "=================================================================\n",
      "embedding_1 (Embedding)      (None, None, 16)          160000    \n",
      "_________________________________________________________________\n",
      "conv1d (Conv1D)              (None, None, 16)          1808      \n",
      "_________________________________________________________________\n",
      "max_pooling1d (MaxPooling1D) (None, None, 16)          0         \n",
      "_________________________________________________________________\n",
      "conv1d_1 (Conv1D)            (None, None, 16)          1808      \n",
      "_________________________________________________________________\n",
      "global_max_pooling1d (Global (None, 16)                0         \n",
      "_________________________________________________________________\n",
      "dense_2 (Dense)              (None, 8)                 136       \n",
      "_________________________________________________________________\n",
      "dense_3 (Dense)              (None, 1)                 9         \n",
      "=================================================================\n",
      "Total params: 163,761\n",
      "Trainable params: 163,761\n",
      "Non-trainable params: 0\n",
      "_________________________________________________________________\n",
      "Epoch 1/20\n",
      "229/229 [==============================] - 32s 7ms/step - loss: 0.5354 - accuracy: 0.7224 - val_loss: 0.3404 - val_accuracy: 0.8597\n",
      "Epoch 2/20\n",
      "229/229 [==============================] - 1s 5ms/step - loss: 0.3372 - accuracy: 0.8570 - val_loss: 0.2984 - val_accuracy: 0.8782\n",
      "Epoch 3/20\n",
      "229/229 [==============================] - 1s 6ms/step - loss: 0.3047 - accuracy: 0.8726 - val_loss: 0.2721 - val_accuracy: 0.8905\n",
      "Epoch 4/20\n",
      "229/229 [==============================] - 1s 5ms/step - loss: 0.2824 - accuracy: 0.8837 - val_loss: 0.2519 - val_accuracy: 0.9008\n",
      "Epoch 5/20\n",
      "229/229 [==============================] - 1s 5ms/step - loss: 0.2610 - accuracy: 0.8943 - val_loss: 0.2251 - val_accuracy: 0.9153\n",
      "Epoch 6/20\n",
      "229/229 [==============================] - 1s 5ms/step - loss: 0.2371 - accuracy: 0.9068 - val_loss: 0.1991 - val_accuracy: 0.9277\n",
      "Epoch 7/20\n",
      "229/229 [==============================] - 1s 5ms/step - loss: 0.2110 - accuracy: 0.9203 - val_loss: 0.1732 - val_accuracy: 0.9396\n",
      "Epoch 8/20\n",
      "229/229 [==============================] - 1s 5ms/step - loss: 0.1849 - accuracy: 0.9321 - val_loss: 0.1479 - val_accuracy: 0.9511\n",
      "Epoch 9/20\n",
      "229/229 [==============================] - 1s 5ms/step - loss: 0.1602 - accuracy: 0.9429 - val_loss: 0.1260 - val_accuracy: 0.9590\n",
      "Epoch 10/20\n",
      "229/229 [==============================] - 1s 5ms/step - loss: 0.1382 - accuracy: 0.9529 - val_loss: 0.1090 - val_accuracy: 0.9656\n",
      "Epoch 11/20\n",
      "229/229 [==============================] - 1s 6ms/step - loss: 0.1194 - accuracy: 0.9607 - val_loss: 0.0942 - val_accuracy: 0.9717\n",
      "Epoch 12/20\n",
      "229/229 [==============================] - 1s 6ms/step - loss: 0.1034 - accuracy: 0.9668 - val_loss: 0.0826 - val_accuracy: 0.9762\n",
      "Epoch 13/20\n",
      "229/229 [==============================] - 1s 6ms/step - loss: 0.0908 - accuracy: 0.9712 - val_loss: 0.0725 - val_accuracy: 0.9792\n",
      "Epoch 14/20\n",
      "229/229 [==============================] - 1s 5ms/step - loss: 0.0791 - accuracy: 0.9759 - val_loss: 0.0646 - val_accuracy: 0.9824\n",
      "Epoch 15/20\n",
      "229/229 [==============================] - 1s 5ms/step - loss: 0.0700 - accuracy: 0.9796 - val_loss: 0.0576 - val_accuracy: 0.9844\n",
      "Epoch 16/20\n",
      "229/229 [==============================] - 1s 5ms/step - loss: 0.0641 - accuracy: 0.9809 - val_loss: 0.0535 - val_accuracy: 0.9851\n",
      "Epoch 17/20\n",
      "229/229 [==============================] - 1s 5ms/step - loss: 0.0580 - accuracy: 0.9831 - val_loss: 0.0477 - val_accuracy: 0.9879\n",
      "Epoch 18/20\n",
      "229/229 [==============================] - 1s 5ms/step - loss: 0.0523 - accuracy: 0.9849 - val_loss: 0.0439 - val_accuracy: 0.9879\n",
      "Epoch 19/20\n",
      "229/229 [==============================] - 1s 6ms/step - loss: 0.0484 - accuracy: 0.9864 - val_loss: 0.0404 - val_accuracy: 0.9891\n",
      "Epoch 20/20\n",
      "229/229 [==============================] - 1s 5ms/step - loss: 0.0461 - accuracy: 0.9869 - val_loss: 0.0374 - val_accuracy: 0.9902\n"
     ]
    }
   ],
   "source": [
    "vocab_size = 10000    # 어휘 사전의 크기입니다(10,000개의 단어)\n",
    "word_vector_dim = 16  # 워드 벡터의 차원 수 (변경 가능한 하이퍼파라미터)\n",
    "\n",
    "model_cnn = tf.keras.Sequential()\n",
    "model_cnn.add(tf.keras.layers.Embedding(vocab_size, word_vector_dim, input_shape=(None,)))\n",
    "model_cnn.add(tf.keras.layers.Conv1D(16, 7, activation='relu'))\n",
    "model_cnn.add(tf.keras.layers.MaxPooling1D(5))\n",
    "model_cnn.add(tf.keras.layers.Conv1D(16, 7, activation='relu'))\n",
    "model_cnn.add(tf.keras.layers.GlobalMaxPooling1D())\n",
    "model_cnn.add(tf.keras.layers.Dense(8, activation='relu'))\n",
    "model_cnn.add(tf.keras.layers.Dense(1, activation='sigmoid'))  # 최종 출력은 긍정/부정을 나타내는 1dim 입니다.\n",
    "\n",
    "model_cnn.summary()\n",
    "\n",
    "model_cnn.compile(optimizer='adam',\n",
    "              loss='binary_crossentropy',\n",
    "              metrics=['accuracy'])\n",
    "              \n",
    "epochs=20  # 몇 epoch를 훈련하면 좋을지 결과를 보면서 바꾸어 봅시다. \n",
    "\n",
    "history_cnn = model_cnn.fit(X_train,\n",
    "                    y_train,\n",
    "                    epochs=epochs,\n",
    "                    batch_size=512,\n",
    "                    validation_data=(X_val, y_val),\n",
    "                    verbose=1)"
   ]
  },
  {
   "cell_type": "code",
   "execution_count": 82,
   "id": "b09bbc31",
   "metadata": {},
   "outputs": [],
   "source": [
    "# 3) GRU 모델"
   ]
  },
  {
   "cell_type": "code",
   "execution_count": 27,
   "id": "88ff2e03",
   "metadata": {},
   "outputs": [
    {
     "name": "stdout",
     "output_type": "stream",
     "text": [
      "Model: \"sequential_2\"\n",
      "_________________________________________________________________\n",
      "Layer (type)                 Output Shape              Param #   \n",
      "=================================================================\n",
      "embedding_2 (Embedding)      (None, None, 16)          160000    \n",
      "_________________________________________________________________\n",
      "gru (GRU)                    (None, 10)                840       \n",
      "_________________________________________________________________\n",
      "dense_4 (Dense)              (None, 8)                 88        \n",
      "_________________________________________________________________\n",
      "dense_5 (Dense)              (None, 1)                 9         \n",
      "=================================================================\n",
      "Total params: 160,937\n",
      "Trainable params: 160,937\n",
      "Non-trainable params: 0\n",
      "_________________________________________________________________\n",
      "Epoch 1/20\n",
      "229/229 [==============================] - 32s 122ms/step - loss: 0.5093 - accuracy: 0.7486 - val_loss: 0.3385 - val_accuracy: 0.8621\n",
      "Epoch 2/20\n",
      "229/229 [==============================] - 26s 116ms/step - loss: 0.3403 - accuracy: 0.8570 - val_loss: 0.3062 - val_accuracy: 0.8779\n",
      "Epoch 3/20\n",
      "229/229 [==============================] - 26s 115ms/step - loss: 0.3187 - accuracy: 0.8695 - val_loss: 0.2950 - val_accuracy: 0.8838\n",
      "Epoch 4/20\n",
      "229/229 [==============================] - 26s 115ms/step - loss: 0.3084 - accuracy: 0.8739 - val_loss: 0.2854 - val_accuracy: 0.8890\n",
      "Epoch 5/20\n",
      "229/229 [==============================] - 27s 116ms/step - loss: 0.3003 - accuracy: 0.8778 - val_loss: 0.2772 - val_accuracy: 0.8922\n",
      "Epoch 6/20\n",
      "229/229 [==============================] - 27s 116ms/step - loss: 0.2919 - accuracy: 0.8825 - val_loss: 0.2698 - val_accuracy: 0.8953\n",
      "Epoch 7/20\n",
      "229/229 [==============================] - 27s 116ms/step - loss: 0.2827 - accuracy: 0.8871 - val_loss: 0.2589 - val_accuracy: 0.9014\n",
      "Epoch 8/20\n",
      "229/229 [==============================] - 27s 116ms/step - loss: 0.2726 - accuracy: 0.8920 - val_loss: 0.2490 - val_accuracy: 0.9043\n",
      "Epoch 9/20\n",
      "229/229 [==============================] - 26s 115ms/step - loss: 0.2600 - accuracy: 0.8986 - val_loss: 0.2340 - val_accuracy: 0.9128\n",
      "Epoch 10/20\n",
      "229/229 [==============================] - 27s 117ms/step - loss: 0.2481 - accuracy: 0.9038 - val_loss: 0.2288 - val_accuracy: 0.9126\n",
      "Epoch 11/20\n",
      "229/229 [==============================] - 26s 115ms/step - loss: 0.2362 - accuracy: 0.9094 - val_loss: 0.2096 - val_accuracy: 0.9245\n",
      "Epoch 12/20\n",
      "229/229 [==============================] - 27s 117ms/step - loss: 0.2256 - accuracy: 0.9150 - val_loss: 0.2015 - val_accuracy: 0.9280\n",
      "Epoch 13/20\n",
      "229/229 [==============================] - 26s 115ms/step - loss: 0.2159 - accuracy: 0.9188 - val_loss: 0.1938 - val_accuracy: 0.9303\n",
      "Epoch 14/20\n",
      "229/229 [==============================] - 27s 116ms/step - loss: 0.2072 - accuracy: 0.9234 - val_loss: 0.1845 - val_accuracy: 0.9360\n",
      "Epoch 15/20\n",
      "229/229 [==============================] - 27s 116ms/step - loss: 0.1988 - accuracy: 0.9272 - val_loss: 0.1798 - val_accuracy: 0.9384\n",
      "Epoch 16/20\n",
      "229/229 [==============================] - 26s 115ms/step - loss: 0.1918 - accuracy: 0.9301 - val_loss: 0.1716 - val_accuracy: 0.9402\n",
      "Epoch 17/20\n",
      "229/229 [==============================] - 27s 116ms/step - loss: 0.1864 - accuracy: 0.9329 - val_loss: 0.1716 - val_accuracy: 0.9407\n",
      "Epoch 18/20\n",
      "229/229 [==============================] - 26s 115ms/step - loss: 0.1799 - accuracy: 0.9363 - val_loss: 0.1611 - val_accuracy: 0.9451\n",
      "Epoch 19/20\n",
      "229/229 [==============================] - 27s 117ms/step - loss: 0.1743 - accuracy: 0.9386 - val_loss: 0.1580 - val_accuracy: 0.9469\n",
      "Epoch 20/20\n",
      "229/229 [==============================] - 26s 115ms/step - loss: 0.1697 - accuracy: 0.9402 - val_loss: 0.1529 - val_accuracy: 0.9485\n"
     ]
    }
   ],
   "source": [
    "vocab_size = 10000    # 어휘 사전의 크기입니다(10,000개의 단어)\n",
    "word_vector_dim = 16  # 워드 벡터의 차원 수 (변경 가능한 하이퍼파라미터)\n",
    "\n",
    "# model 설계 - 딥러닝 모델 코드를 직접 작성해 주세요.\n",
    "model_gru = tf.keras.Sequential()\n",
    "# [[YOUR CODE]]\n",
    "model_gru.add(tf.keras.layers.Embedding(input_dim=vocab_size, output_dim=word_vector_dim, mask_zero=True))\n",
    "model_gru.add(tf.keras.layers.GRU(10))   # 가장 널리 쓰이는 RNN인 LSTM 레이어를 사용하였습니다. 이때 LSTM state 벡터의 차원수는 8로 하였습니다. (변경 가능)\n",
    "model_gru.add(tf.keras.layers.Dense(8, activation='relu'))\n",
    "model_gru.add(tf.keras.layers.Dense(1, activation='sigmoid'))  # 최종 출력은 긍정/부정을 나타내는 1dim 입니다.\n",
    "model_gru.summary()\n",
    "\n",
    "model_gru.compile(optimizer='adam',\n",
    "              loss='binary_crossentropy',\n",
    "              metrics=['accuracy'])\n",
    "              \n",
    "epochs=20  # 몇 epoch를 훈련하면 좋을지 결과를 보면서 바꾸어 봅시다. \n",
    "\n",
    "history_gru = model_gru.fit(X_train,\n",
    "                    y_train,\n",
    "                    epochs=epochs,\n",
    "                    batch_size=512,\n",
    "                    validation_data=(X_val, y_val),\n",
    "                    verbose=1)"
   ]
  },
  {
   "cell_type": "code",
   "execution_count": 28,
   "id": "6adbfa0e",
   "metadata": {},
   "outputs": [],
   "source": [
    "# (6) Loss, Accuracy 그래프 시각화"
   ]
  },
  {
   "cell_type": "code",
   "execution_count": 29,
   "id": "e6a57231",
   "metadata": {},
   "outputs": [],
   "source": [
    "# 1) LSTM 모델 시각화"
   ]
  },
  {
   "cell_type": "code",
   "execution_count": 30,
   "id": "ac8fe2d2",
   "metadata": {},
   "outputs": [
    {
     "data": {
      "image/png": "[encoded data removed]",
      "text/plain": [
       "<Figure size 1080x360 with 2 Axes>"
      ]
     },
     "metadata": {
      "needs_background": "light"
     },
     "output_type": "display_data"
    }
   ],
   "source": [
    "import matplotlib.pyplot as plt\n",
    "\n",
    "history_dict = history_lstm.history\n",
    "\n",
    "plt.figure(figsize=(15,5))\n",
    "\n",
    "plt.subplot(1,2,1)\n",
    "acc = history_dict['accuracy']\n",
    "val_acc = history_dict['val_accuracy']\n",
    "loss = history_dict['loss']\n",
    "val_loss = history_dict['val_loss']\n",
    "\n",
    "epochs = range(1, len(acc) + 1)\n",
    "\n",
    "# \"bo\"는 \"파란색 점\"입니다\n",
    "plt.plot(epochs, loss, 'bo', label='Training loss')\n",
    "# b는 \"파란 실선\"입니다\n",
    "plt.plot(epochs, val_loss, 'b', label='Validation loss')\n",
    "plt.title('Training and validation loss')\n",
    "plt.xlabel('Epochs')\n",
    "plt.ylabel('Loss')\n",
    "plt.legend()\n",
    "\n",
    "plt.subplot(1,2,2)\n",
    "plt.plot(epochs, acc, 'bo', label='Training acc')\n",
    "plt.plot(epochs, val_acc, 'b', label='Validation acc')\n",
    "plt.title('Training and validation accuracy')\n",
    "plt.xlabel('Epochs')\n",
    "plt.ylabel('Accuracy')\n",
    "plt.legend()\n",
    "\n",
    "plt.show()"
   ]
  },
  {
   "cell_type": "code",
   "execution_count": 31,
   "id": "c8c135b1",
   "metadata": {},
   "outputs": [],
   "source": [
    "# 2) CNN 모델 시각화"
   ]
  },
  {
   "cell_type": "code",
   "execution_count": 32,
   "id": "38849d63",
   "metadata": {},
   "outputs": [
    {
     "data": {
      "image/png": "[encoded data removed]",
      "text/plain": [
       "<Figure size 1080x360 with 2 Axes>"
      ]
     },
     "metadata": {
      "needs_background": "light"
     },
     "output_type": "display_data"
    }
   ],
   "source": [
    "history_dict = history_cnn.history\n",
    "\n",
    "plt.figure(figsize=(15,5))\n",
    "\n",
    "plt.subplot(1,2,1)\n",
    "acc = history_dict['accuracy']\n",
    "val_acc = history_dict['val_accuracy']\n",
    "loss = history_dict['loss']\n",
    "val_loss = history_dict['val_loss']\n",
    "\n",
    "epochs = range(1, len(acc) + 1)\n",
    "\n",
    "# \"bo\"는 \"파란색 점\"입니다\n",
    "plt.plot(epochs, loss, 'bo', label='Training loss')\n",
    "# b는 \"파란 실선\"입니다\n",
    "plt.plot(epochs, val_loss, 'b', label='Validation loss')\n",
    "plt.title('Training and validation loss')\n",
    "plt.xlabel('Epochs')\n",
    "plt.ylabel('Loss')\n",
    "plt.legend()\n",
    "\n",
    "plt.subplot(1,2,2)\n",
    "plt.plot(epochs, acc, 'bo', label='Training acc')\n",
    "plt.plot(epochs, val_acc, 'b', label='Validation acc')\n",
    "plt.title('Training and validation accuracy')\n",
    "plt.xlabel('Epochs')\n",
    "plt.ylabel('Accuracy')\n",
    "plt.legend()\n",
    "\n",
    "plt.show()"
   ]
  },
  {
   "cell_type": "code",
   "execution_count": 33,
   "id": "a02cdd2f",
   "metadata": {},
   "outputs": [],
   "source": [
    "# 3) GRU 모델 시각화"
   ]
  },
  {
   "cell_type": "code",
   "execution_count": 34,
   "id": "252dbb2b",
   "metadata": {},
   "outputs": [
    {
     "data": {
      "image/png": "[encoded data removed]",
      "text/plain": [
       "<Figure size 1080x360 with 2 Axes>"
      ]
     },
     "metadata": {
      "needs_background": "light"
     },
     "output_type": "display_data"
    }
   ],
   "source": [
    "history_dict = history_gru.history\n",
    "\n",
    "plt.figure(figsize=(15,5))\n",
    "\n",
    "plt.subplot(1,2,1)\n",
    "acc = history_dict['accuracy']\n",
    "val_acc = history_dict['val_accuracy']\n",
    "loss = history_dict['loss']\n",
    "val_loss = history_dict['val_loss']\n",
    "\n",
    "epochs = range(1, len(acc) + 1)\n",
    "\n",
    "# \"bo\"는 \"파란색 점\"입니다\n",
    "plt.plot(epochs, loss, 'bo', label='Training loss')\n",
    "# b는 \"파란 실선\"입니다\n",
    "plt.plot(epochs, val_loss, 'b', label='Validation loss')\n",
    "plt.title('Training and validation loss')\n",
    "plt.xlabel('Epochs')\n",
    "plt.ylabel('Loss')\n",
    "plt.legend()\n",
    "\n",
    "plt.subplot(1,2,2)\n",
    "plt.plot(epochs, acc, 'bo', label='Training acc')\n",
    "plt.plot(epochs, val_acc, 'b', label='Validation acc')\n",
    "plt.title('Training and validation accuracy')\n",
    "plt.xlabel('Epochs')\n",
    "plt.ylabel('Accuracy')\n",
    "plt.legend()\n",
    "\n",
    "plt.show()"
   ]
  },
  {
   "cell_type": "code",
   "execution_count": 35,
   "id": "78d0b9dd",
   "metadata": {},
   "outputs": [],
   "source": [
    "# 7) 학습된 Embedding 레이어 분석"
   ]
  },
  {
   "cell_type": "code",
   "execution_count": 36,
   "id": "98fb7d34",
   "metadata": {},
   "outputs": [],
   "source": [
    "# 워드 벡터 사이즈 확인"
   ]
  },
  {
   "cell_type": "code",
   "execution_count": 37,
   "id": "be90b0c9",
   "metadata": {},
   "outputs": [],
   "source": [
    "embedding_layer = model_gru.layers[0]\n",
    "weights = embedding_layer.get_weights()[0]"
   ]
  },
  {
   "cell_type": "code",
   "execution_count": 38,
   "id": "d117dad1",
   "metadata": {},
   "outputs": [],
   "source": [
    "import os\n",
    "# 학습한 Embedding 파라미터를 파일에 써서 저장합니다. \n",
    "word2vec_file_path = os.getenv('HOME')+'/aiffel/sentiment_classification/data/word2vec.txt'\n",
    "f = open(word2vec_file_path, 'w')\n",
    "f.write('{} {}\\n'.format(vocab_size-4, word_vector_dim))  # 몇개의 벡터를 얼마 사이즈로 기재할지 타이틀을 씁니다.\n",
    "\n",
    "\n",
    "# 단어 개수(에서 특수문자 4개는 제외하고)만큼의 워드 벡터를 파일에 기록합니다. \n",
    "vectors = model_gru.get_weights()[0]\n",
    "for i in range(4,vocab_size):\n",
    "    f.write('{} {}\\n'.format(index_to_word[i], ' '.join(map(str, list(vectors[i, :])))))\n",
    "f.close()\n",
    "\n",
    "from gensim.models.keyedvectors import Word2VecKeyedVectors\n",
    "\n",
    "word_vectors = Word2VecKeyedVectors.load_word2vec_format(word2vec_file_path, binary=False)"
   ]
  },
  {
   "cell_type": "code",
   "execution_count": 39,
   "id": "ac4b132c",
   "metadata": {},
   "outputs": [
    {
     "data": {
      "text/plain": [
       "[('”', 0.8404925465583801),\n",
       " ('우승', 0.825183093547821),\n",
       " ('파', 0.8110678195953369),\n",
       " ('절정', 0.7800052165985107),\n",
       " ('고증', 0.7705380320549011),\n",
       " ('코미디', 0.768239438533783),\n",
       " ('\\\\', 0.7612842321395874),\n",
       " ('링', 0.7357710599899292),\n",
       " ('받', 0.7288541197776794),\n",
       " ('외국인', 0.7245165705680847)]"
      ]
     },
     "execution_count": 39,
     "metadata": {},
     "output_type": "execute_result"
    }
   ],
   "source": [
    "word_vectors.similar_by_word(\"즐거움\")"
   ]
  },
  {
   "cell_type": "code",
   "execution_count": 40,
   "id": "d6669b42",
   "metadata": {},
   "outputs": [
    {
     "data": {
      "text/plain": [
       "[('습니당', 0.9640495181083679),\n",
       " ('타고난', 0.9632546305656433),\n",
       " ('프렌즈', 0.9576611518859863),\n",
       " ('달래', 0.95588219165802),\n",
       " ('모세', 0.9556498527526855),\n",
       " ('부른', 0.953784704208374),\n",
       " ('서른', 0.9528241753578186),\n",
       " ('주군', 0.9522281289100647),\n",
       " ('전율', 0.9510546922683716),\n",
       " ('잠기', 0.9504210948944092)]"
      ]
     },
     "execution_count": 40,
     "metadata": {},
     "output_type": "execute_result"
    }
   ],
   "source": [
    "word_vectors.similar_by_word(\"행복\")"
   ]
  },
  {
   "cell_type": "code",
   "execution_count": 41,
   "id": "d25cf993",
   "metadata": {},
   "outputs": [],
   "source": [
    "# 8) 한국어 Word2Vec 임베딩 활용하여 성능 개선"
   ]
  },
  {
   "cell_type": "code",
   "execution_count": 42,
   "id": "312270f2",
   "metadata": {},
   "outputs": [
    {
     "name": "stdout",
     "output_type": "stream",
     "text": [
      "[('마지막', 0.6325399875640869), ('결판', 0.5526015758514404), ('발목', 0.5465342402458191), ('산산조각', 0.5418900847434998), ('막바지', 0.5412753820419312), ('싫증', 0.5256820917129517), ('양쪽', 0.5253474116325378), ('무릎', 0.5246764421463013), ('후', 0.5051813721656799), ('이어진', 0.5038793087005615)]\n"
     ]
    }
   ],
   "source": [
    "from gensim.models.keyedvectors import Word2VecKeyedVectors\n",
    "\n",
    "word2vec_file_path = os.getenv('HOME')+'/data/word2vec_ko.model'\n",
    "word_vectors = Word2VecKeyedVectors.load(word2vec_file_path)\n",
    "vector = word_vectors.wv.similar_by_word(\"끝\")\n",
    "\n",
    "print(vector)"
   ]
  },
  {
   "cell_type": "code",
   "execution_count": 43,
   "id": "82d5fae2",
   "metadata": {},
   "outputs": [],
   "source": [
    "vocab_size = 10000    # 어휘 사전의 크기입니다(10,000개의 단어)\n",
    "word_vector_dim = 100  # 워드 벡터의 차원수\n",
    "embedding_matrix = np.random.rand(vocab_size, word_vector_dim)\n",
    "\n",
    "# embedding_matrix에 Word2Vec 워드 벡터를 단어 하나씩마다 차례차례 카피한다.\n",
    "for i in range(4,vocab_size):\n",
    "    if index_to_word[i] in word_vectors.wv:\n",
    "        embedding_matrix[i] = word_vectors.wv[index_to_word[i]]"
   ]
  },
  {
   "cell_type": "code",
   "execution_count": 44,
   "id": "e6fc03bf",
   "metadata": {},
   "outputs": [
    {
     "name": "stdout",
     "output_type": "stream",
     "text": [
      "Model: \"sequential_3\"\n",
      "_________________________________________________________________\n",
      "Layer (type)                 Output Shape              Param #   \n",
      "=================================================================\n",
      "embedding_3 (Embedding)      (None, 41, 100)           1000000   \n",
      "_________________________________________________________________\n",
      "conv1d_2 (Conv1D)            (None, 35, 16)            11216     \n",
      "_________________________________________________________________\n",
      "max_pooling1d_1 (MaxPooling1 (None, 7, 16)             0         \n",
      "_________________________________________________________________\n",
      "conv1d_3 (Conv1D)            (None, 1, 16)             1808      \n",
      "_________________________________________________________________\n",
      "global_max_pooling1d_1 (Glob (None, 16)                0         \n",
      "_________________________________________________________________\n",
      "dense_6 (Dense)              (None, 8)                 136       \n",
      "_________________________________________________________________\n",
      "dense_7 (Dense)              (None, 1)                 9         \n",
      "=================================================================\n",
      "Total params: 1,013,169\n",
      "Trainable params: 1,013,169\n",
      "Non-trainable params: 0\n",
      "_________________________________________________________________\n"
     ]
    }
   ],
   "source": [
    "from tensorflow.keras.initializers import Constant\n",
    "\n",
    "vocab_size = 10000    # 어휘 사전의 크기입니다(10,000개의 단어)\n",
    "word_vector_dim = 100  # 워드 벡터의 차원 수 \n",
    "\n",
    "# 모델 구성\n",
    "model = tf.keras.Sequential()\n",
    "model.add(tf.keras.layers.Embedding(vocab_size, \n",
    "                                 word_vector_dim, \n",
    "                                 embeddings_initializer=Constant(embedding_matrix),  # 카피한 임베딩을 여기서 활용\n",
    "                                 input_length=maxlen, \n",
    "                                 trainable=True))   # trainable을 True로 주면 Fine-tuning\n",
    "model.add(tf.keras.layers.Conv1D(16, 7, activation='relu'))\n",
    "model.add(tf.keras.layers.MaxPooling1D(5))\n",
    "model.add(tf.keras.layers.Conv1D(16, 7, activation='relu'))\n",
    "model.add(tf.keras.layers.GlobalMaxPooling1D())\n",
    "model.add(tf.keras.layers.Dense(8, activation='relu'))\n",
    "model.add(tf.keras.layers.Dense(1, activation='sigmoid')) \n",
    "\n",
    "model.summary()"
   ]
  },
  {
   "cell_type": "code",
   "execution_count": 45,
   "id": "1518c5b6",
   "metadata": {},
   "outputs": [
    {
     "name": "stdout",
     "output_type": "stream",
     "text": [
      "Epoch 1/20\n",
      "229/229 [==============================] - 3s 7ms/step - loss: 0.6098 - accuracy: 0.6577 - val_loss: 0.4952 - val_accuracy: 0.7608\n",
      "Epoch 2/20\n",
      "229/229 [==============================] - 1s 6ms/step - loss: 0.4603 - accuracy: 0.7850 - val_loss: 0.4061 - val_accuracy: 0.8185\n",
      "Epoch 3/20\n",
      "229/229 [==============================] - 1s 6ms/step - loss: 0.3934 - accuracy: 0.8241 - val_loss: 0.3525 - val_accuracy: 0.8470\n",
      "Epoch 4/20\n",
      "229/229 [==============================] - 1s 6ms/step - loss: 0.3513 - accuracy: 0.8454 - val_loss: 0.3205 - val_accuracy: 0.8638\n",
      "Epoch 5/20\n",
      "229/229 [==============================] - 1s 6ms/step - loss: 0.3226 - accuracy: 0.8614 - val_loss: 0.2974 - val_accuracy: 0.8741\n",
      "Epoch 6/20\n",
      "229/229 [==============================] - 1s 6ms/step - loss: 0.3032 - accuracy: 0.8711 - val_loss: 0.2773 - val_accuracy: 0.8845\n",
      "Epoch 7/20\n",
      "229/229 [==============================] - 1s 6ms/step - loss: 0.2838 - accuracy: 0.8819 - val_loss: 0.2652 - val_accuracy: 0.8910\n",
      "Epoch 8/20\n",
      "229/229 [==============================] - 1s 6ms/step - loss: 0.2693 - accuracy: 0.8890 - val_loss: 0.2422 - val_accuracy: 0.9031\n",
      "Epoch 9/20\n",
      "229/229 [==============================] - 1s 6ms/step - loss: 0.2555 - accuracy: 0.8958 - val_loss: 0.2291 - val_accuracy: 0.9112\n",
      "Epoch 10/20\n",
      "229/229 [==============================] - 1s 6ms/step - loss: 0.2423 - accuracy: 0.9023 - val_loss: 0.2165 - val_accuracy: 0.9159\n",
      "Epoch 11/20\n",
      "229/229 [==============================] - 1s 6ms/step - loss: 0.2310 - accuracy: 0.9082 - val_loss: 0.2132 - val_accuracy: 0.9184\n",
      "Epoch 12/20\n",
      "229/229 [==============================] - 1s 6ms/step - loss: 0.2198 - accuracy: 0.9135 - val_loss: 0.1944 - val_accuracy: 0.9257\n",
      "Epoch 13/20\n",
      "229/229 [==============================] - 1s 6ms/step - loss: 0.2085 - accuracy: 0.9192 - val_loss: 0.1828 - val_accuracy: 0.9330\n",
      "Epoch 14/20\n",
      "229/229 [==============================] - 1s 6ms/step - loss: 0.1989 - accuracy: 0.9235 - val_loss: 0.1718 - val_accuracy: 0.9393\n",
      "Epoch 15/20\n",
      "229/229 [==============================] - 1s 6ms/step - loss: 0.1882 - accuracy: 0.9284 - val_loss: 0.1661 - val_accuracy: 0.9407\n",
      "Epoch 16/20\n",
      "229/229 [==============================] - 1s 6ms/step - loss: 0.1769 - accuracy: 0.9338 - val_loss: 0.1581 - val_accuracy: 0.9435\n",
      "Epoch 17/20\n",
      "229/229 [==============================] - 1s 6ms/step - loss: 0.1668 - accuracy: 0.9389 - val_loss: 0.1510 - val_accuracy: 0.9465\n",
      "Epoch 18/20\n",
      "229/229 [==============================] - 1s 6ms/step - loss: 0.1576 - accuracy: 0.9435 - val_loss: 0.1371 - val_accuracy: 0.9542\n",
      "Epoch 19/20\n",
      "229/229 [==============================] - 1s 6ms/step - loss: 0.1482 - accuracy: 0.9472 - val_loss: 0.1298 - val_accuracy: 0.9580\n",
      "Epoch 20/20\n",
      "229/229 [==============================] - 1s 6ms/step - loss: 0.1422 - accuracy: 0.9495 - val_loss: 0.1253 - val_accuracy: 0.9582\n"
     ]
    }
   ],
   "source": [
    "# 학습의 진행\n",
    "model.compile(optimizer='adam',\n",
    "              loss='binary_crossentropy',\n",
    "              metrics=['accuracy'])\n",
    "              \n",
    "epochs=20  # 몇 epoch를 훈련하면 좋을지 결과를 보면서 바꾸어 봅시다. \n",
    "\n",
    "history = model.fit(X_train,\n",
    "                    y_train,\n",
    "                    epochs=epochs,\n",
    "                    batch_size=512,\n",
    "                    validation_data=(X_val, y_val),\n",
    "                    verbose=1)"
   ]
  },
  {
   "cell_type": "code",
   "execution_count": 46,
   "id": "c37a01fd",
   "metadata": {},
   "outputs": [
    {
     "name": "stdout",
     "output_type": "stream",
     "text": [
      "1537/1537 - 3s - loss: 0.5406 - accuracy: 0.8286\n"
     ]
    }
   ],
   "source": [
    "# 테스트셋을 통한 모델 평가\n",
    "results = model.evaluate(X_test,  y_test, verbose=2)"
   ]
  },
  {
   "cell_type": "code",
   "execution_count": 47,
   "id": "3c4e2dce",
   "metadata": {},
   "outputs": [
    {
     "data": {
      "image/png": "[encoded data removed]",
      "text/plain": [
       "<Figure size 1080x360 with 2 Axes>"
      ]
     },
     "metadata": {
      "needs_background": "light"
     },
     "output_type": "display_data"
    }
   ],
   "source": [
    "history_dict = history.history\n",
    "\n",
    "plt.figure(figsize=(15,5))\n",
    "\n",
    "plt.subplot(1,2,1)\n",
    "acc = history_dict['accuracy']\n",
    "val_acc = history_dict['val_accuracy']\n",
    "loss = history_dict['loss']\n",
    "val_loss = history_dict['val_loss']\n",
    "\n",
    "epochs = range(1, len(acc) + 1)\n",
    "\n",
    "# \"bo\"는 \"파란색 점\"입니다\n",
    "plt.plot(epochs, loss, 'bo', label='Training loss')\n",
    "# b는 \"파란 실선\"입니다\n",
    "plt.plot(epochs, val_loss, 'b', label='Validation loss')\n",
    "plt.title('Training and validation loss')\n",
    "plt.xlabel('Epochs')\n",
    "plt.ylabel('Loss')\n",
    "plt.legend()\n",
    "\n",
    "plt.subplot(1,2,2)\n",
    "plt.plot(epochs, acc, 'bo', label='Training acc')\n",
    "plt.plot(epochs, val_acc, 'b', label='Validation acc')\n",
    "plt.title('Training and validation accuracy')\n",
    "plt.xlabel('Epochs')\n",
    "plt.ylabel('Accuracy')\n",
    "plt.legend()\n",
    "\n",
    "plt.show()"
   ]
  },
  {
   "cell_type": "code",
   "execution_count": null,
   "id": "cf93c197",
   "metadata": {},
   "outputs": [],
   "source": []
  }
 ],
 "metadata": {
  "kernelspec": {
   "display_name": "Python 3 (ipykernel)",
   "language": "python",
   "name": "python3"
  },
  "language_info": {
   "codemirror_mode": {
    "name": "ipython",
    "version": 3
   },
   "file_extension": ".py",
   "mimetype": "text/x-python",
   "name": "python",
   "nbconvert_exporter": "python",
   "pygments_lexer": "ipython3",
   "version": "3.9.7"
  }
 },
 "nbformat": 4,
 "nbformat_minor": 5
}
